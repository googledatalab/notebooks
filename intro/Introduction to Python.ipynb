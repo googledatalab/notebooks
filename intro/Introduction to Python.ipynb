{
 "cells": [
  {
   "cell_type": "markdown",
   "metadata": {},
   "source": [
    "# Introduction to Python\n",
    "\n",
    "This notebook is primarily focused on introducing the specifics of using Python in an interactive environment such as Datalab. It is not intended to provide a complete tutorial to Python as a language. If you're completely new to Python, no problem! Python is quite straightforward, and there are lots of resources. The interactive step-by-step material at [Codecademy](https://www.codecademy.com/tracks/python) might be of interest.\n",
    "\n",
    "To get started, below is a code cell that contains a Python statement. You can run it by pressing `Shift+Enter` or clicking the the `Run` toolbar button with the cell selected."
   ]
  },
  {
   "cell_type": "code",
   "execution_count": 1,
   "metadata": {
    "collapsed": false
   },
   "outputs": [
    {
     "name": "stdout",
     "output_type": "stream",
     "text": [
      "Hello World\n"
     ]
    }
   ],
   "source": [
    "print(\"Hello World\")"
   ]
  },
  {
   "cell_type": "markdown",
   "metadata": {},
   "source": [
    "You can edit the cell above and re-execute it to iterate over it. You can also add additional code cells to enter new blocks of code."
   ]
  },
  {
   "cell_type": "code",
   "execution_count": 2,
   "metadata": {
    "collapsed": true
   },
   "outputs": [],
   "source": [
    "import sys\n",
    "\n",
    "number = 10\n",
    "\n",
    "def square(n):\n",
    "    return n * n"
   ]
  },
  {
   "cell_type": "markdown",
   "metadata": {},
   "source": [
    "The cell above created a variable named `number` and a function named `square`, and placed them into the _global namespace_. It also imported the `sys` module into the same namespace. This global namespace is shared across all the cells in the notebook.\n",
    "\n",
    "As a result, the following cell should be able to access (as well as modify) them."
   ]
  },
  {
   "cell_type": "code",
   "execution_count": 3,
   "metadata": {
    "collapsed": false
   },
   "outputs": [
    {
     "name": "stdout",
     "output_type": "stream",
     "text": [
      "The number is currently 10\n"
     ]
    },
    {
     "name": "stderr",
     "output_type": "stream",
     "text": [
      "And now it is 11"
     ]
    },
    {
     "data": {
      "text/plain": [
       "121"
      ]
     },
     "execution_count": 3,
     "metadata": {},
     "output_type": "execute_result"
    }
   ],
   "source": [
    "print('The number is currently %d' % number)\n",
    "number = 11\n",
    "sys.stderr.write('And now it is %d' % number)\n",
    "\n",
    "square(number)"
   ]
  },
  {
   "cell_type": "markdown",
   "metadata": {},
   "source": [
    "By now, you've probably noticed a few interesting things about code cells:\n",
    "\n",
    "* Upon execution, their results are shown inline in the notebook, after the code that produced the results. These results are included into the saved notebook. Results include outputs of print statements (text that might have been written out to stdout as well as stderr) and the final result of the cell.\n",
    "\n",
    "* Some code cells do not have any visible output.\n",
    "\n",
    "* Code cells have a distinguishing border on the left. This border is a washed out gray color when the notebook is first loaded, indicating that a cell has not been run yet; the border changes to a filled blue border after the cell runs."
   ]
  },
  {
   "cell_type": "markdown",
   "metadata": {},
   "source": [
    "## Getting Help"
   ]
  },
  {
   "cell_type": "markdown",
   "metadata": {},
   "source": [
    "Python APIs are usually accompanied by documentation. You can use `?` to invoke help on a class or a method. For example, execute the cells below:"
   ]
  },
  {
   "cell_type": "code",
   "execution_count": 4,
   "metadata": {
    "collapsed": true
   },
   "outputs": [],
   "source": [
    "str?"
   ]
  },
  {
   "cell_type": "code",
   "execution_count": 5,
   "metadata": {
    "collapsed": false
   },
   "outputs": [],
   "source": [
    "g = globals()\n",
    "g.get?"
   ]
  },
  {
   "cell_type": "markdown",
   "metadata": {},
   "source": [
    "When run, these cells produce docstring content that is displayed in the help pane within the sidebar."
   ]
  },
  {
   "cell_type": "markdown",
   "metadata": {},
   "source": [
    "The code cells also provide auto-suggest. For example, press `Tab` after the '.' to see a list of members callable on the `g` variable that was just declared."
   ]
  },
  {
   "cell_type": "code",
   "execution_count": null,
   "metadata": {
    "collapsed": false
   },
   "outputs": [],
   "source": [
    "# Intentionally incomplete for purposes of auto-suggest demo, rather than running unmodified.\n",
    "g."
   ]
  },
  {
   "cell_type": "markdown",
   "metadata": {},
   "source": [
    "Function signature help is also available. For example, press `Tab` in the empty parentheses below."
   ]
  },
  {
   "cell_type": "code",
   "execution_count": 7,
   "metadata": {
    "collapsed": false
   },
   "outputs": [
    {
     "data": {
      "text/plain": [
       "''"
      ]
     },
     "execution_count": 7,
     "metadata": {},
     "output_type": "execute_result"
    }
   ],
   "source": [
    "str()"
   ]
  },
  {
   "cell_type": "markdown",
   "metadata": {},
   "source": [
    "Note that help in Python relies on the interpreter being able to resolve the type of the expression that you are invoking help on.\n",
    "\n",
    "If you have not yet executed code, you may be able to invoke help directly on the class or method you're interested in, rather than the variable itself. Try this."
   ]
  },
  {
   "cell_type": "code",
   "execution_count": 8,
   "metadata": {
    "collapsed": true
   },
   "outputs": [],
   "source": [
    "import datetime\n",
    "\n",
    "datetime.datetime?"
   ]
  },
  {
   "cell_type": "markdown",
   "metadata": {},
   "source": [
    "# Python Libraries"
   ]
  },
  {
   "cell_type": "markdown",
   "metadata": {},
   "source": [
    "Datalab includes the standard Python library and a set of libraries that you can easily import. Most of the libraries were installed using `pip`, the Python package manager, or `pip3` for Python 3."
   ]
  },
  {
   "cell_type": "code",
   "execution_count": 1,
   "metadata": {
    "collapsed": false
   },
   "outputs": [
    {
     "name": "stdout",
     "output_type": "stream",
     "text": [
      "Package                                         Version       \n",
      "----------------------------------------------- --------------\n",
      "appdirs                                         1.4.2         \n",
      "attrs                                           16.3.0        \n",
      "Automat                                         0.5.0         \n",
      "avro                                            1.8.1         \n",
      "backports-abc                                   0.5           \n",
      "backports.shutil-get-terminal-size              1.0.0         \n",
      "beautifulsoup4                                  4.5.3         \n",
      "bleach                                          1.5.0         \n",
      "brewer2mpl                                      1.4.1         \n",
      "bs4                                             0.0.1         \n",
      "certifi                                         2017.1.23     \n",
      "cffi                                            0.8.6         \n",
      "chardet                                         2.3.0         \n",
      "cloudml                                         0.1.9.1a0     \n",
      "colorama                                        0.3.2         \n",
      "configparser                                    3.5.0         \n",
      "constantly                                      15.1.0        \n",
      "crcmod                                          1.7           \n",
      "cryptography                                    0.6.1         \n",
      "cssselect                                       1.0.1         \n",
      "cycler                                          0.10.0        \n",
      "datalab                                         0.1.1703070322\n",
      "decorator                                       4.0.11        \n",
      "dill                                            0.2.6         \n",
      "entrypoints                                     0.2.2         \n",
      "enum34                                          1.1.6         \n",
      "funcsigs                                        1.0.2         \n",
      "functools32                                     3.2.3.post2   \n",
      "future                                          0.16.0        \n",
      "futures                                         3.0.5         \n",
      "gapic-google-cloud-logging-v2                   0.91.3        \n",
      "gapic-google-logging-v2                         0.9.3         \n",
      "gapic-google-pubsub-v1                          0.9.3         \n",
      "ggplot                                          0.6.8         \n",
      "google-api-python-client                        1.5.1         \n",
      "google-apitools                                 0.5.8         \n",
      "google-auth                                     0.8.0         \n",
      "google-auth-httplib2                            0.0.2         \n",
      "google-cloud                                    0.19.0        \n",
      "google-cloud-core                               0.23.1        \n",
      "google-cloud-dataflow                           0.5.5         \n",
      "google-cloud-logging                            0.23.1        \n",
      "google-gax                                      0.13.0        \n",
      "googleapis-common-protos                        1.5.2         \n",
      "googledatastore                                 6.4.1         \n",
      "grpc-google-logging-v2                          0.9.3         \n",
      "grpc-google-pubsub-v1                           0.9.3         \n",
      "grpcio                                          1.1.3         \n",
      "html5lib                                        0.9999999     \n",
      "httplib2                                        0.9.2         \n",
      "incremental                                     16.10.1       \n",
      "ipykernel                                       4.4.1         \n",
      "ipython                                         5.3.0         \n",
      "ipython-genutils                                0.1.0         \n",
      "ipywidgets                                      5.2.2         \n",
      "Jinja2                                          2.8           \n",
      "jsonschema                                      2.6.0         \n",
      "jupyter-client                                  5.0.0         \n",
      "jupyter-core                                    4.3.0         \n",
      "lxml                                            3.7.3         \n",
      "MarkupSafe                                      0.23          \n",
      "matplotlib                                      1.5.3         \n",
      "mistune                                         0.7.3         \n",
      "mltoolbox-datalab-classification-and-regression 1.0.0         \n",
      "mltoolbox-datalab-image-classification          0.1           \n",
      "mock                                            2.0.0         \n",
      "nb2kg                                           0.0.1.dev0    \n",
      "nbconvert                                       5.1.1         \n",
      "nbformat                                        4.3.0         \n",
      "ndg-httpsclient                                 0.3.2         \n",
      "nltk                                            3.2.1         \n",
      "notebook                                        4.2.3         \n",
      "numpy                                           1.11.2        \n",
      "oauth2client                                    2.2.0         \n",
      "packaging                                       16.8          \n",
      "pandas                                          0.19.1        \n",
      "pandas-profiling                                1.4.0         \n",
      "pandocfilters                                   1.4.1         \n",
      "parsel                                          1.1.0         \n",
      "pathlib2                                        2.2.1         \n",
      "patsy                                           0.4.1         \n",
      "pbr                                             2.0.0         \n",
      "pexpect                                         4.2.1         \n",
      "pickleshare                                     0.7.4         \n",
      "Pillow                                          3.4.1         \n",
      "pip                                             9.0.1         \n",
      "plotly                                          1.12.5        \n",
      "ply                                             3.8           \n",
      "prompt-toolkit                                  1.0.13        \n",
      "proto-google-cloud-logging-v2                   0.91.3        \n",
      "proto-google-datastore-v1                       1.3.1         \n",
      "protobuf                                        3.1.0         \n",
      "protorpc                                        0.11.1        \n",
      "psutil                                          4.3.0         \n",
      "ptyprocess                                      0.5.1         \n",
      "pyasn1                                          0.2.3         \n",
      "pyasn1-modules                                  0.0.8         \n",
      "pycparser                                       2.10          \n",
      "PyDispatcher                                    2.0.5         \n",
      "Pygments                                        2.1.3         \n",
      "pyOpenSSL                                       0.14          \n",
      "pyparsing                                       2.2.0         \n",
      "python-dateutil                                 2.5.0         \n",
      "python-gflags                                   3.1.1         \n",
      "pytz                                            2016.7        \n",
      "PyYAML                                          3.11          \n",
      "pyzmq                                           16.0.2        \n",
      "queuelib                                        1.4.2         \n",
      "requests                                        2.9.1         \n",
      "rsa                                             3.4.2         \n",
      "scandir                                         1.5           \n",
      "scikit-learn                                    0.17.1        \n",
      "scipy                                           0.18.0        \n",
      "Scrapy                                          1.3.2         \n",
      "seaborn                                         0.7.0         \n",
      "service-identity                                16.0.0        \n",
      "setuptools                                      34.3.1        \n",
      "simplegeneric                                   0.8.1         \n",
      "simplejson                                      3.10.0        \n",
      "singledispatch                                  3.4.0.3       \n",
      "six                                             1.10.0        \n",
      "statsmodels                                     0.6.1         \n",
      "sympy                                           0.7.6.1       \n",
      "tensorflow                                      1.0.0         \n",
      "terminado                                       0.6           \n",
      "testpath                                        0.3           \n",
      "tornado                                         4.4.2         \n",
      "traitlets                                       4.3.2         \n",
      "Twisted                                         17.1.0        \n",
      "uritemplate                                     0.6           \n",
      "urllib3                                         1.9.1         \n",
      "w3lib                                           1.17.0        \n",
      "wcwidth                                         0.1.7         \n",
      "wheel                                           0.29.0        \n",
      "widgetsnbextension                              2.0.0         \n",
      "zope.interface                                  4.3.3         \n"
     ]
    }
   ],
   "source": [
    "%%bash\n",
    "pip list --format=columns"
   ]
  },
  {
   "cell_type": "markdown",
   "metadata": {},
   "source": [
    "If you have suggestions for additional packages to include, please submit feedback proposing the inclusion of the packages in a future version."
   ]
  },
  {
   "cell_type": "markdown",
   "metadata": {},
   "source": [
    "## Installing a Python Library"
   ]
  },
  {
   "cell_type": "markdown",
   "metadata": {},
   "source": [
    "You can use `pip` to install your own Python 2 libraries, or `pip3` to install Python 3 libraries.\n",
    "\n",
    "Keep in mind that this will install the library within the virtual machine instance being used for Datalab, and the library will become available to all notebooks and all users sharing the same instance.\n",
    "\n",
    "The library installation is temporary. If the virtual machine instance is recreated, you will need to reinstall the library.\n",
    "\n",
    "The example, below, installs [scrapy](http://scrapy.org/), a library that helps in scraping web content."
   ]
  },
  {
   "cell_type": "code",
   "execution_count": 2,
   "metadata": {
    "collapsed": false
   },
   "outputs": [
    {
     "name": "stdout",
     "output_type": "stream",
     "text": [
      "Hit http://security.debian.org jessie/updates InRelease\n",
      "Hit http://ftp.us.debian.org testing InRelease\n",
      "Ign http://deb.debian.org jessie InRelease\n",
      "Hit http://deb.debian.org jessie-updates InRelease\n",
      "Get:1 http://security.debian.org jessie/updates/main amd64 Packages [444 kB]\n",
      "Hit http://deb.debian.org jessie Release.gpg\n",
      "Hit http://deb.debian.org jessie Release\n",
      "Get:2 http://ftp.us.debian.org testing/main Sources [8936 kB]\n",
      "Get:3 http://deb.debian.org jessie-updates/main amd64 Packages [17.6 kB]\n",
      "Get:4 http://deb.debian.org jessie/main amd64 Packages [9049 kB]\n",
      "Fetched 18.4 MB in 14s (1279 kB/s)\n",
      "Reading package lists...\n",
      "Reading package lists...\n",
      "Building dependency tree...\n",
      "Reading state information...\n",
      "libffi-dev is already the newest version.\n",
      "libxml2-dev is already the newest version.\n",
      "libxslt1-dev is already the newest version.\n",
      "python-dev is already the newest version.\n",
      "python-pip is already the newest version.\n",
      "zlib1g-dev is already the newest version.\n",
      "libssl-dev is already the newest version.\n",
      "0 upgraded, 0 newly installed, 0 to remove and 0 not upgraded.\n"
     ]
    }
   ],
   "source": [
    "%%bash\n",
    "apt-get update -y\n",
    "apt-get install -y -q python-dev python-pip libxml2-dev libxslt1-dev zlib1g-dev libffi-dev libssl-dev\n",
    "pip install -q scrapy"
   ]
  },
  {
   "cell_type": "markdown",
   "metadata": {},
   "source": [
    "Inspecting the Python evironment by running `pip list`, we should now see that Scrapy is installed and ready to use."
   ]
  },
  {
   "cell_type": "code",
   "execution_count": 5,
   "metadata": {
    "collapsed": false
   },
   "outputs": [
    {
     "name": "stdout",
     "output_type": "stream",
     "text": [
      "Package                                         Version       \n",
      "----------------------------------------------- --------------\n",
      "appdirs                                         1.4.2         \n",
      "attrs                                           16.3.0        \n",
      "Automat                                         0.5.0         \n",
      "avro                                            1.8.1         \n",
      "backports-abc                                   0.5           \n",
      "backports.shutil-get-terminal-size              1.0.0         \n",
      "beautifulsoup4                                  4.5.3         \n",
      "bleach                                          1.5.0         \n",
      "brewer2mpl                                      1.4.1         \n",
      "bs4                                             0.0.1         \n",
      "certifi                                         2017.1.23     \n",
      "cffi                                            0.8.6         \n",
      "chardet                                         2.3.0         \n",
      "cloudml                                         0.1.9.1a0     \n",
      "colorama                                        0.3.2         \n",
      "configparser                                    3.5.0         \n",
      "constantly                                      15.1.0        \n",
      "crcmod                                          1.7           \n",
      "cryptography                                    0.6.1         \n",
      "cssselect                                       1.0.1         \n",
      "cycler                                          0.10.0        \n",
      "datalab                                         0.1.1703070322\n",
      "decorator                                       4.0.11        \n",
      "dill                                            0.2.6         \n",
      "entrypoints                                     0.2.2         \n",
      "enum34                                          1.1.6         \n",
      "funcsigs                                        1.0.2         \n",
      "functools32                                     3.2.3.post2   \n",
      "future                                          0.16.0        \n",
      "futures                                         3.0.5         \n",
      "gapic-google-cloud-logging-v2                   0.91.3        \n",
      "gapic-google-logging-v2                         0.9.3         \n",
      "gapic-google-pubsub-v1                          0.9.3         \n",
      "ggplot                                          0.6.8         \n",
      "google-api-python-client                        1.5.1         \n",
      "google-apitools                                 0.5.8         \n",
      "google-auth                                     0.8.0         \n",
      "google-auth-httplib2                            0.0.2         \n",
      "google-cloud                                    0.19.0        \n",
      "google-cloud-core                               0.23.1        \n",
      "google-cloud-dataflow                           0.5.5         \n",
      "google-cloud-logging                            0.23.1        \n",
      "google-gax                                      0.13.0        \n",
      "googleapis-common-protos                        1.5.2         \n",
      "googledatastore                                 6.4.1         \n",
      "grpc-google-logging-v2                          0.9.3         \n",
      "grpc-google-pubsub-v1                           0.9.3         \n",
      "grpcio                                          1.1.3         \n",
      "html5lib                                        0.9999999     \n",
      "httplib2                                        0.9.2         \n",
      "incremental                                     16.10.1       \n",
      "ipykernel                                       4.4.1         \n",
      "ipython                                         5.3.0         \n",
      "ipython-genutils                                0.1.0         \n",
      "ipywidgets                                      5.2.2         \n",
      "Jinja2                                          2.8           \n",
      "jsonschema                                      2.6.0         \n",
      "jupyter-client                                  5.0.0         \n",
      "jupyter-core                                    4.3.0         \n",
      "lxml                                            3.7.3         \n",
      "MarkupSafe                                      0.23          \n",
      "matplotlib                                      1.5.3         \n",
      "mistune                                         0.7.3         \n",
      "mltoolbox-datalab-classification-and-regression 1.0.0         \n",
      "mltoolbox-datalab-image-classification          0.1           \n",
      "mock                                            2.0.0         \n",
      "nb2kg                                           0.0.1.dev0    \n",
      "nbconvert                                       5.1.1         \n",
      "nbformat                                        4.3.0         \n",
      "ndg-httpsclient                                 0.3.2         \n",
      "nltk                                            3.2.1         \n",
      "notebook                                        4.2.3         \n",
      "numpy                                           1.11.2        \n",
      "oauth2client                                    2.2.0         \n",
      "packaging                                       16.8          \n",
      "pandas                                          0.19.1        \n",
      "pandas-profiling                                1.4.0         \n",
      "pandocfilters                                   1.4.1         \n",
      "parsel                                          1.1.0         \n",
      "pathlib2                                        2.2.1         \n",
      "patsy                                           0.4.1         \n",
      "pbr                                             2.0.0         \n",
      "pexpect                                         4.2.1         \n",
      "pickleshare                                     0.7.4         \n",
      "Pillow                                          3.4.1         \n",
      "pip                                             9.0.1         \n",
      "plotly                                          1.12.5        \n",
      "ply                                             3.8           \n",
      "prompt-toolkit                                  1.0.13        \n",
      "proto-google-cloud-logging-v2                   0.91.3        \n",
      "proto-google-datastore-v1                       1.3.1         \n",
      "protobuf                                        3.1.0         \n",
      "protorpc                                        0.11.1        \n",
      "psutil                                          4.3.0         \n",
      "ptyprocess                                      0.5.1         \n",
      "pyasn1                                          0.2.3         \n",
      "pyasn1-modules                                  0.0.8         \n",
      "pycparser                                       2.10          \n",
      "PyDispatcher                                    2.0.5         \n",
      "Pygments                                        2.1.3         \n",
      "pyOpenSSL                                       0.14          \n",
      "pyparsing                                       2.2.0         \n",
      "python-dateutil                                 2.5.0         \n",
      "python-gflags                                   3.1.1         \n",
      "pytz                                            2016.7        \n",
      "PyYAML                                          3.11          \n",
      "pyzmq                                           16.0.2        \n",
      "queuelib                                        1.4.2         \n",
      "requests                                        2.9.1         \n",
      "rsa                                             3.4.2         \n",
      "scandir                                         1.5           \n",
      "scikit-learn                                    0.17.1        \n",
      "scipy                                           0.18.0        \n",
      "Scrapy                                          1.3.2         \n",
      "seaborn                                         0.7.0         \n",
      "service-identity                                16.0.0        \n",
      "setuptools                                      34.3.1        \n",
      "simplegeneric                                   0.8.1         \n",
      "simplejson                                      3.10.0        \n",
      "singledispatch                                  3.4.0.3       \n",
      "six                                             1.10.0        \n",
      "statsmodels                                     0.6.1         \n",
      "sympy                                           0.7.6.1       \n",
      "tensorflow                                      1.0.0         \n",
      "terminado                                       0.6           \n",
      "testpath                                        0.3           \n",
      "tornado                                         4.4.2         \n",
      "traitlets                                       4.3.2         \n",
      "Twisted                                         17.1.0        \n",
      "uritemplate                                     0.6           \n",
      "urllib3                                         1.9.1         \n",
      "w3lib                                           1.17.0        \n",
      "wcwidth                                         0.1.7         \n",
      "wheel                                           0.29.0        \n",
      "widgetsnbextension                              2.0.0         \n",
      "zope.interface                                  4.3.3         \n"
     ]
    }
   ],
   "source": [
    "%%bash\n",
    "pip list --format=columns"
   ]
  }
 ],
 "metadata": {
  "kernelspec": {
   "display_name": "Python 2",
   "language": "python",
   "name": "python2"
  },
  "language_info": {
   "codemirror_mode": {
    "name": "ipython",
    "version": 2
   },
   "file_extension": ".py",
   "mimetype": "text/x-python",
   "name": "python",
   "nbconvert_exporter": "python",
   "pygments_lexer": "ipython2",
   "version": "2.7.9"
  }
 },
 "nbformat": 4,
 "nbformat_minor": 0
}
