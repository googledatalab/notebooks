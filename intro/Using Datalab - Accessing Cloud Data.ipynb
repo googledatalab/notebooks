{
 "cells": [
  {
   "cell_type": "markdown",
   "metadata": {},
   "source": [
    "# Using Google Cloud Datalab - Accessing Cloud Data"
   ]
  },
  {
   "cell_type": "markdown",
   "metadata": {},
   "source": [
    "This notebook describes how Google Cloud Datalab integrates within your Google Cloud project, and how you can work with data, manage your notebooks, and invoke APIs that are part of Google Cloud Platform."
   ]
  },
  {
   "cell_type": "markdown",
   "metadata": {},
   "source": [
    "## An Under-the-Covers Look\n",
    "\n",
    "Datalab functionality is packaged into a docker container. This container contains a ready-to-use environment including the Python runtime, a set of libraries picked for data analysis and visualization scenarios, Google Cloud Platform integration functionality, and this front-end server enabling this environment.\n",
    "\n",
    "You can deploy one or more Datalab instances within your Google Cloud Platform project. Access to these instances is based on the IAM policies for your project. Note, however, that each instance is a single-user environment, and trying to share it can cause conflicts.\n",
    "\n",
    "Within the instance, the Datalab frontend manages notebooks, notebook sessions, and the corresponding instances of IPython and Python runtime."
   ]
  },
  {
   "cell_type": "markdown",
   "metadata": {},
   "source": [
    "## Google Cloud Integration"
   ]
  },
  {
   "cell_type": "code",
   "execution_count": null,
   "metadata": {
    "collapsed": false
   },
   "outputs": [],
   "source": [
    "from google.datalab import Context\n",
    "\n",
    "context = Context.default()\n",
    "print 'The current project is %s' % context.project_id"
   ]
  },
  {
   "cell_type": "markdown",
   "metadata": {},
   "source": [
    "Datalab automatically handles authentication to detect the current project, as well as obtaining the OAuth token used to invoke APIs. In particular, it uses the OAuth token representing the project's service account, rather than an individual user's credentials."
   ]
  },
  {
   "cell_type": "markdown",
   "metadata": {},
   "source": [
    "## Service Accounts\n",
    "\n",
    "This is an important detail.\n",
    "\n",
    "The code you author and the data you access is stored in notebooks that are shared across the project. As such, the authorization used to execute and retrieve that data is based upon the project.\n",
    "\n",
    "Also, any applications or data pipelines you produce within Datalab are deployed using the project's service account, not individual accounts; this use of the project's service account is generally considered good practice.\n",
    "\n",
    "Consequently, to access resources contained within another project, you will need to authorize the service account of your Datalab project within that other project, rather than authorize a particular user."
   ]
  },
  {
   "cell_type": "code",
   "execution_count": null,
   "metadata": {
    "collapsed": false
   },
   "outputs": [],
   "source": [
    "context.credentials.get_access_token()"
   ]
  },
  {
   "cell_type": "markdown",
   "metadata": {},
   "source": [
    "The above code prints out the access token representing the service account. However, it is more useful to see the service account itself, so it can be authorized to access resources and data in another project.\n",
    "\n",
    "This service account can be seen by clicking on the <i class=\"material-icons\">account_circle</i> button in the top-right corner of the Cloud Datalab UI."
   ]
  }
 ],
 "metadata": {
  "kernelspec": {
   "display_name": "Python 2",
   "language": "python",
   "name": "python2"
  },
  "language_info": {
   "codemirror_mode": {
    "name": "ipython",
    "version": 2
   },
   "file_extension": ".py",
   "mimetype": "text/x-python",
   "name": "python",
   "nbconvert_exporter": "python",
   "pygments_lexer": "ipython2",
   "version": "2.7.9"
  }
 },
 "nbformat": 4,
 "nbformat_minor": 0
}
