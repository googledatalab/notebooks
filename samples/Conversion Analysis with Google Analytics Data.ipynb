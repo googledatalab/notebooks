{
 "cells": [
  {
   "cell_type": "markdown",
   "metadata": {},
   "source": [
    "# Conversion Analysis with Google Analytics Data\n",
    "\n",
    "This sample notebook demonstrates working with Google Analytics page views and session data exported to Google BigQuery.\n",
    "\n",
    "Google Analytics offers BigQuery export as part of its premium offering. If you're a premium user, you have the ability to export any of your analytics views to a BigQuery dataset that you own. If you're not, you can use the Analytics API to retrieve and import the data used to generate the default Analytics dashboards.\n",
    "\n",
    "The sample data used in this notebook shares the same schema as the Google Analytics BigQuery export, but it is from a sample, pubicly available account. It is also small in size. This notebook demonstrates one possible custom analytics scenario, and is not based upon actual data.\n",
    "\n",
    "Related Links:\n",
    "\n",
    "* [BigQuery](https://cloud.google.com/bigquery/what-is-bigquery)\n",
    "* [Google Analytics](https://analytics.google.com/)\n",
    "* [Google Charting API](https://developers.google.com/chart/?hl=en) for data visualization"
   ]
  },
  {
   "cell_type": "code",
   "execution_count": 1,
   "metadata": {
    "collapsed": false
   },
   "outputs": [],
   "source": [
    "import google.datalab.bigquery as bq"
   ]
  },
  {
   "cell_type": "markdown",
   "metadata": {},
   "source": [
    "# Understanding the Hits Data\n",
    "\n",
    "It's helpful to inspect the schema and a sample of the data we're working with."
   ]
  },
  {
   "cell_type": "code",
   "execution_count": 2,
   "metadata": {
    "collapsed": false
   },
   "outputs": [
    {
     "data": {
      "text/html": [
       "\n",
       "    <div class=\"bqsv\" id=\"1_148884459363\"></div>\n",
       "    <script>\n",
       "      require.config({\n",
       "        map: {\n",
       "          '*': {\n",
       "            datalab: 'nbextensions/gcpdatalab'\n",
       "          }\n",
       "        },\n",
       "      });\n",
       "\n",
       "      require(['datalab/bigquery', 'datalab/element!1_148884459363',\n",
       "          'datalab/style!/nbextensions/gcpdatalab/bigquery.css'],\n",
       "        function(bq, dom) {\n",
       "          bq.renderSchema(dom, [{\"type\": \"INTEGER\", \"name\": \"visitorId\", \"mode\": \"NULLABLE\"}, {\"type\": \"INTEGER\", \"name\": \"visitNumber\", \"mode\": \"NULLABLE\"}, {\"type\": \"INTEGER\", \"name\": \"visitId\", \"mode\": \"NULLABLE\"}, {\"type\": \"INTEGER\", \"name\": \"visitStartTime\", \"mode\": \"NULLABLE\"}, {\"type\": \"STRING\", \"name\": \"date\", \"mode\": \"NULLABLE\"}, {\"fields\": [{\"type\": \"INTEGER\", \"name\": \"visits\", \"mode\": \"NULLABLE\"}, {\"type\": \"INTEGER\", \"name\": \"hits\", \"mode\": \"NULLABLE\"}, {\"type\": \"INTEGER\", \"name\": \"pageviews\", \"mode\": \"NULLABLE\"}, {\"type\": \"INTEGER\", \"name\": \"timeOnSite\", \"mode\": \"NULLABLE\"}, {\"type\": \"INTEGER\", \"name\": \"bounces\", \"mode\": \"NULLABLE\"}, {\"type\": \"INTEGER\", \"name\": \"transactions\", \"mode\": \"NULLABLE\"}, {\"type\": \"INTEGER\", \"name\": \"transactionRevenue\", \"mode\": \"NULLABLE\"}, {\"type\": \"INTEGER\", \"name\": \"newVisits\", \"mode\": \"NULLABLE\"}], \"type\": \"RECORD\", \"name\": \"totals\", \"mode\": \"NULLABLE\"}, {\"fields\": [{\"type\": \"STRING\", \"name\": \"referralPath\", \"mode\": \"NULLABLE\"}, {\"type\": \"STRING\", \"name\": \"campaign\", \"mode\": \"NULLABLE\"}, {\"type\": \"STRING\", \"name\": \"source\", \"mode\": \"NULLABLE\"}, {\"type\": \"STRING\", \"name\": \"medium\", \"mode\": \"NULLABLE\"}, {\"type\": \"STRING\", \"name\": \"keyword\", \"mode\": \"NULLABLE\"}, {\"type\": \"STRING\", \"name\": \"adContent\", \"mode\": \"NULLABLE\"}], \"type\": \"RECORD\", \"name\": \"trafficSource\", \"mode\": \"NULLABLE\"}, {\"fields\": [{\"type\": \"STRING\", \"name\": \"browser\", \"mode\": \"NULLABLE\"}, {\"type\": \"STRING\", \"name\": \"browserVersion\", \"mode\": \"NULLABLE\"}, {\"type\": \"STRING\", \"name\": \"operatingSystem\", \"mode\": \"NULLABLE\"}, {\"type\": \"STRING\", \"name\": \"operatingSystemVersion\", \"mode\": \"NULLABLE\"}, {\"type\": \"BOOLEAN\", \"name\": \"isMobile\", \"mode\": \"NULLABLE\"}, {\"type\": \"STRING\", \"name\": \"flashVersion\", \"mode\": \"NULLABLE\"}, {\"type\": \"BOOLEAN\", \"name\": \"javaEnabled\", \"mode\": \"NULLABLE\"}, {\"type\": \"STRING\", \"name\": \"language\", \"mode\": \"NULLABLE\"}, {\"type\": \"STRING\", \"name\": \"screenColors\", \"mode\": \"NULLABLE\"}, {\"type\": \"STRING\", \"name\": \"screenResolution\", \"mode\": \"NULLABLE\"}], \"type\": \"RECORD\", \"name\": \"device\", \"mode\": \"NULLABLE\"}, {\"fields\": [{\"type\": \"INTEGER\", \"name\": \"index\", \"mode\": \"NULLABLE\"}, {\"type\": \"STRING\", \"name\": \"value\", \"mode\": \"NULLABLE\"}], \"type\": \"RECORD\", \"name\": \"customDimensions\", \"mode\": \"REPEATED\"}, {\"fields\": [{\"type\": \"INTEGER\", \"name\": \"hitNumber\", \"mode\": \"NULLABLE\"}, {\"type\": \"INTEGER\", \"name\": \"time\", \"mode\": \"NULLABLE\"}, {\"type\": \"INTEGER\", \"name\": \"hour\", \"mode\": \"NULLABLE\"}, {\"type\": \"INTEGER\", \"name\": \"minute\", \"mode\": \"NULLABLE\"}, {\"type\": \"BOOLEAN\", \"name\": \"isSecure\", \"mode\": \"NULLABLE\"}, {\"type\": \"BOOLEAN\", \"name\": \"isInteraction\", \"mode\": \"NULLABLE\"}, {\"type\": \"STRING\", \"name\": \"referer\", \"mode\": \"NULLABLE\"}, {\"fields\": [{\"type\": \"STRING\", \"name\": \"pagePath\", \"mode\": \"NULLABLE\"}, {\"type\": \"STRING\", \"name\": \"hostname\", \"mode\": \"NULLABLE\"}, {\"type\": \"STRING\", \"name\": \"pageTitle\", \"mode\": \"NULLABLE\"}, {\"type\": \"STRING\", \"name\": \"searchKeyword\", \"mode\": \"NULLABLE\"}, {\"type\": \"STRING\", \"name\": \"searchCategory\", \"mode\": \"NULLABLE\"}], \"type\": \"RECORD\", \"name\": \"page\", \"mode\": \"NULLABLE\"}, {\"fields\": [{\"type\": \"STRING\", \"name\": \"transactionId\", \"mode\": \"NULLABLE\"}, {\"type\": \"INTEGER\", \"name\": \"transactionRevenue\", \"mode\": \"NULLABLE\"}, {\"type\": \"INTEGER\", \"name\": \"transactionTax\", \"mode\": \"NULLABLE\"}, {\"type\": \"INTEGER\", \"name\": \"transactionShipping\", \"mode\": \"NULLABLE\"}, {\"type\": \"STRING\", \"name\": \"affiliation\", \"mode\": \"NULLABLE\"}, {\"type\": \"STRING\", \"name\": \"currencyCode\", \"mode\": \"NULLABLE\"}, {\"type\": \"INTEGER\", \"name\": \"localTransactionRevenue\", \"mode\": \"NULLABLE\"}, {\"type\": \"INTEGER\", \"name\": \"localTransactionTax\", \"mode\": \"NULLABLE\"}, {\"type\": \"INTEGER\", \"name\": \"localTransactionShipping\", \"mode\": \"NULLABLE\"}], \"type\": \"RECORD\", \"name\": \"transaction\", \"mode\": \"NULLABLE\"}, {\"fields\": [{\"type\": \"STRING\", \"name\": \"transactionId\", \"mode\": \"NULLABLE\"}, {\"type\": \"STRING\", \"name\": \"productName\", \"mode\": \"NULLABLE\"}, {\"type\": \"STRING\", \"name\": \"productCategory\", \"mode\": \"NULLABLE\"}, {\"type\": \"STRING\", \"name\": \"productSku\", \"mode\": \"NULLABLE\"}, {\"type\": \"INTEGER\", \"name\": \"itemQuantity\", \"mode\": \"NULLABLE\"}, {\"type\": \"INTEGER\", \"name\": \"itemRevenue\", \"mode\": \"NULLABLE\"}, {\"type\": \"STRING\", \"name\": \"currencyCode\", \"mode\": \"NULLABLE\"}, {\"type\": \"INTEGER\", \"name\": \"localItemRevenue\", \"mode\": \"NULLABLE\"}], \"type\": \"RECORD\", \"name\": \"item\", \"mode\": \"NULLABLE\"}, {\"fields\": [{\"type\": \"STRING\", \"name\": \"contentDescription\", \"mode\": \"NULLABLE\"}], \"type\": \"RECORD\", \"name\": \"contentInfo\", \"mode\": \"NULLABLE\"}, {\"fields\": [{\"type\": \"STRING\", \"name\": \"name\", \"mode\": \"NULLABLE\"}, {\"type\": \"STRING\", \"name\": \"version\", \"mode\": \"NULLABLE\"}, {\"type\": \"STRING\", \"name\": \"id\", \"mode\": \"NULLABLE\"}, {\"type\": \"STRING\", \"name\": \"installerId\", \"mode\": \"NULLABLE\"}], \"type\": \"RECORD\", \"name\": \"appInfo\", \"mode\": \"NULLABLE\"}, {\"fields\": [{\"type\": \"STRING\", \"name\": \"description\", \"mode\": \"NULLABLE\"}, {\"type\": \"BOOLEAN\", \"name\": \"isFatal\", \"mode\": \"NULLABLE\"}], \"type\": \"RECORD\", \"name\": \"exceptionInfo\", \"mode\": \"NULLABLE\"}, {\"fields\": [{\"type\": \"STRING\", \"name\": \"eventCategory\", \"mode\": \"NULLABLE\"}, {\"type\": \"STRING\", \"name\": \"eventAction\", \"mode\": \"NULLABLE\"}, {\"type\": \"STRING\", \"name\": \"eventLabel\", \"mode\": \"NULLABLE\"}, {\"type\": \"INTEGER\", \"name\": \"eventValue\", \"mode\": \"NULLABLE\"}], \"type\": \"RECORD\", \"name\": \"eventInfo\", \"mode\": \"NULLABLE\"}, {\"fields\": [{\"type\": \"INTEGER\", \"name\": \"index\", \"mode\": \"NULLABLE\"}, {\"type\": \"STRING\", \"name\": \"customVarName\", \"mode\": \"NULLABLE\"}, {\"type\": \"STRING\", \"name\": \"customVarValue\", \"mode\": \"NULLABLE\"}], \"type\": \"RECORD\", \"name\": \"customVariables\", \"mode\": \"REPEATED\"}, {\"fields\": [{\"type\": \"INTEGER\", \"name\": \"index\", \"mode\": \"NULLABLE\"}, {\"type\": \"STRING\", \"name\": \"value\", \"mode\": \"NULLABLE\"}], \"type\": \"RECORD\", \"name\": \"customDimensions\", \"mode\": \"REPEATED\"}, {\"fields\": [{\"type\": \"INTEGER\", \"name\": \"index\", \"mode\": \"NULLABLE\"}, {\"type\": \"INTEGER\", \"name\": \"value\", \"mode\": \"NULLABLE\"}], \"type\": \"RECORD\", \"name\": \"customMetrics\", \"mode\": \"REPEATED\"}, {\"type\": \"STRING\", \"name\": \"type\", \"mode\": \"NULLABLE\"}], \"type\": \"RECORD\", \"name\": \"hits\", \"mode\": \"REPEATED\"}, {\"type\": \"STRING\", \"name\": \"fullVisitorId\", \"mode\": \"NULLABLE\"}]);\n",
       "        }\n",
       "      );\n",
       "    </script>\n",
       "    "
      ],
      "text/plain": [
       "<IPython.core.display.HTML object>"
      ]
     },
     "execution_count": 2,
     "metadata": {},
     "output_type": "execute_result"
    }
   ],
   "source": [
    "%%bq tables describe -n \"google.com:analytics-bigquery.LondonCycleHelmet.ga_sessions_20130910\""
   ]
  },
  {
   "cell_type": "markdown",
   "metadata": {},
   "source": [
    "The Google Analytics dataset has a large schema. It should be interesting to inspect some of the data in important columns."
   ]
  },
  {
   "cell_type": "code",
   "execution_count": 3,
   "metadata": {
    "collapsed": false
   },
   "outputs": [],
   "source": [
    "%%bq query -n sessions \n",
    "SELECT fullVisitorId, visitId, hit.hitNumber as hitNumber, hit.page.pagePath as path\n",
    "FROM `google.com:analytics-bigquery.LondonCycleHelmet.ga_sessions_20130910`\n",
    "  CROSS JOIN UNNEST(hits) as hit\n",
    "ORDER BY visitStartTime, hitNumber"
   ]
  },
  {
   "cell_type": "code",
   "execution_count": 4,
   "metadata": {
    "collapsed": false
   },
   "outputs": [
    {
     "data": {
      "text/html": [
       "\n",
       "    <div class=\"bqtv\" id=\"2_148884459796\"><table><tr><th>fullVisitorId</th><th>visitId</th><th>hitNumber</th><th>path</th></tr><tr><td>2879713562608983525</td><td>1378803173</td><td>1</td><td>/</td></tr><tr><td>2879713562608983525</td><td>1378803173</td><td>2</td><td>/vests/</td></tr><tr><td>2879713562608983525</td><td>1378803173</td><td>3</td><td>/vests/orange.html</td></tr><tr><td>2879713562608983525</td><td>1378803173</td><td>4</td><td>/vests/orange.html</td></tr><tr><td>2879713562608983525</td><td>1378803173</td><td>5</td><td>/</td></tr><tr><td>2879713562608983525</td><td>1378803173</td><td>6</td><td>/vests/</td></tr><tr><td>2879713562608983525</td><td>1378803173</td><td>7</td><td>/vests/yellow.html</td></tr><tr><td>2879713562608983525</td><td>1378803173</td><td>8</td><td>/vests/yellow.html</td></tr><tr><td>2879713562608983525</td><td>1378803250</td><td>1</td><td>/helmets/</td></tr><tr><td>6955732612793949850</td><td>1378803356</td><td>1</td><td>/helmets/heavy.html</td></tr><tr><td>6955732612793949850</td><td>1378803356</td><td>2</td><td>/helmets/heavy.html</td></tr><tr><td>6955732612793949850</td><td>1378803356</td><td>3</td><td>/helmets/heavy.html</td></tr><tr><td>6955732612793949850</td><td>1378803356</td><td>4</td><td>/login.html</td></tr><tr><td>6955732612793949850</td><td>1378803356</td><td>5</td><td>/login.html</td></tr><tr><td>6955732612793949850</td><td>1378803356</td><td>6</td><td>/basket.html</td></tr><tr><td>6955732612793949850</td><td>1378803356</td><td>7</td><td>/shipping.html</td></tr><tr><td>6955732612793949850</td><td>1378803356</td><td>8</td><td>/billing.html</td></tr><tr><td>6955732612793949850</td><td>1378803356</td><td>9</td><td>/confirm.html</td></tr><tr><td>6955732612793949850</td><td>1378803356</td><td>10</td><td>/confirm.html</td></tr><tr><td>6955732612793949850</td><td>1378803356</td><td>11</td><td>/confirm.html</td></tr><tr><td>1677140157296205498</td><td>1378803386</td><td>1</td><td>/vests/orange.html</td></tr><tr><td>1677140157296205498</td><td>1378803386</td><td>2</td><td>/vests/orange.html</td></tr><tr><td>1677140157296205498</td><td>1378803386</td><td>3</td><td>/vests/orange.html</td></tr><tr><td>1677140157296205498</td><td>1378803386</td><td>4</td><td>/basket.html</td></tr><tr><td>1677140157296205498</td><td>1378803386</td><td>5</td><td>/login.html</td></tr></table></div>\n",
       "    <br />(rows: 362, time: 0.3s, cached, job: job_CL1g5-WnW4U_LS2on5lJG24Pckg)<br />\n",
       "    <script>\n",
       "\n",
       "      require.config({\n",
       "        paths: {\n",
       "          d3: '//cdnjs.cloudflare.com/ajax/libs/d3/3.4.13/d3',\n",
       "          plotly: 'https://cdn.plot.ly/plotly-1.5.1.min.js?noext',\n",
       "          jquery: '//ajax.googleapis.com/ajax/libs/jquery/2.0.0/jquery.min'\n",
       "        },\n",
       "        map: {\n",
       "          '*': {\n",
       "            datalab: 'nbextensions/gcpdatalab'\n",
       "          }\n",
       "        },\n",
       "        shim: {\n",
       "          plotly: {\n",
       "            deps: ['d3', 'jquery'],\n",
       "            exports: 'plotly'\n",
       "          }\n",
       "        }\n",
       "      });\n",
       "\n",
       "      require(['datalab/charting', 'datalab/element!2_148884459796', 'base/js/events',\n",
       "          'datalab/style!/nbextensions/gcpdatalab/charting.css'],\n",
       "        function(charts, dom, events) {\n",
       "          charts.render('gcharts', dom, events, 'paged_table', [], {\"rows\": [{\"c\": [{\"v\": \"2879713562608983525\"}, {\"v\": 1378803173}, {\"v\": 1}, {\"v\": \"/\"}]}, {\"c\": [{\"v\": \"2879713562608983525\"}, {\"v\": 1378803173}, {\"v\": 2}, {\"v\": \"/vests/\"}]}, {\"c\": [{\"v\": \"2879713562608983525\"}, {\"v\": 1378803173}, {\"v\": 3}, {\"v\": \"/vests/orange.html\"}]}, {\"c\": [{\"v\": \"2879713562608983525\"}, {\"v\": 1378803173}, {\"v\": 4}, {\"v\": \"/vests/orange.html\"}]}, {\"c\": [{\"v\": \"2879713562608983525\"}, {\"v\": 1378803173}, {\"v\": 5}, {\"v\": \"/\"}]}, {\"c\": [{\"v\": \"2879713562608983525\"}, {\"v\": 1378803173}, {\"v\": 6}, {\"v\": \"/vests/\"}]}, {\"c\": [{\"v\": \"2879713562608983525\"}, {\"v\": 1378803173}, {\"v\": 7}, {\"v\": \"/vests/yellow.html\"}]}, {\"c\": [{\"v\": \"2879713562608983525\"}, {\"v\": 1378803173}, {\"v\": 8}, {\"v\": \"/vests/yellow.html\"}]}, {\"c\": [{\"v\": \"2879713562608983525\"}, {\"v\": 1378803250}, {\"v\": 1}, {\"v\": \"/helmets/\"}]}, {\"c\": [{\"v\": \"6955732612793949850\"}, {\"v\": 1378803356}, {\"v\": 1}, {\"v\": \"/helmets/heavy.html\"}]}, {\"c\": [{\"v\": \"6955732612793949850\"}, {\"v\": 1378803356}, {\"v\": 2}, {\"v\": \"/helmets/heavy.html\"}]}, {\"c\": [{\"v\": \"6955732612793949850\"}, {\"v\": 1378803356}, {\"v\": 3}, {\"v\": \"/helmets/heavy.html\"}]}, {\"c\": [{\"v\": \"6955732612793949850\"}, {\"v\": 1378803356}, {\"v\": 4}, {\"v\": \"/login.html\"}]}, {\"c\": [{\"v\": \"6955732612793949850\"}, {\"v\": 1378803356}, {\"v\": 5}, {\"v\": \"/login.html\"}]}, {\"c\": [{\"v\": \"6955732612793949850\"}, {\"v\": 1378803356}, {\"v\": 6}, {\"v\": \"/basket.html\"}]}, {\"c\": [{\"v\": \"6955732612793949850\"}, {\"v\": 1378803356}, {\"v\": 7}, {\"v\": \"/shipping.html\"}]}, {\"c\": [{\"v\": \"6955732612793949850\"}, {\"v\": 1378803356}, {\"v\": 8}, {\"v\": \"/billing.html\"}]}, {\"c\": [{\"v\": \"6955732612793949850\"}, {\"v\": 1378803356}, {\"v\": 9}, {\"v\": \"/confirm.html\"}]}, {\"c\": [{\"v\": \"6955732612793949850\"}, {\"v\": 1378803356}, {\"v\": 10}, {\"v\": \"/confirm.html\"}]}, {\"c\": [{\"v\": \"6955732612793949850\"}, {\"v\": 1378803356}, {\"v\": 11}, {\"v\": \"/confirm.html\"}]}, {\"c\": [{\"v\": \"1677140157296205498\"}, {\"v\": 1378803386}, {\"v\": 1}, {\"v\": \"/vests/orange.html\"}]}, {\"c\": [{\"v\": \"1677140157296205498\"}, {\"v\": 1378803386}, {\"v\": 2}, {\"v\": \"/vests/orange.html\"}]}, {\"c\": [{\"v\": \"1677140157296205498\"}, {\"v\": 1378803386}, {\"v\": 3}, {\"v\": \"/vests/orange.html\"}]}, {\"c\": [{\"v\": \"1677140157296205498\"}, {\"v\": 1378803386}, {\"v\": 4}, {\"v\": \"/basket.html\"}]}, {\"c\": [{\"v\": \"1677140157296205498\"}, {\"v\": 1378803386}, {\"v\": 5}, {\"v\": \"/login.html\"}]}], \"cols\": [{\"type\": \"string\", \"id\": \"fullVisitorId\", \"label\": \"fullVisitorId\"}, {\"type\": \"number\", \"id\": \"visitId\", \"label\": \"visitId\"}, {\"type\": \"number\", \"id\": \"hitNumber\", \"label\": \"hitNumber\"}, {\"type\": \"string\", \"id\": \"path\", \"label\": \"path\"}]},\n",
       "            {\n",
       "              pageSize: 25,\n",
       "              cssClassNames:  {\n",
       "                tableRow: 'gchart-table-row',\n",
       "                headerRow: 'gchart-table-headerrow',\n",
       "                oddTableRow: 'gchart-table-oddrow',\n",
       "                selectedTableRow: 'gchart-table-selectedrow',\n",
       "                hoverTableRow: 'gchart-table-hoverrow',\n",
       "                tableCell: 'gchart-table-cell',\n",
       "                headerCell: 'gchart-table-headercell',\n",
       "                rowNumberCell: 'gchart-table-rownumcell'\n",
       "              }\n",
       "            },\n",
       "            {source_index: 0, fields: 'fullVisitorId,visitId,hitNumber,path'},\n",
       "            0,\n",
       "            362);\n",
       "        }\n",
       "      );\n",
       "    </script>\n",
       "  "
      ],
      "text/plain": [
       "QueryResultsTable job_CL1g5-WnW4U_LS2on5lJG24Pckg"
      ]
     },
     "execution_count": 4,
     "metadata": {},
     "output_type": "execute_result"
    }
   ],
   "source": [
    "%bq execute --query sessions"
   ]
  },
  {
   "cell_type": "markdown",
   "metadata": {},
   "source": [
    "The data is organized as a set of visits (or sessions), with each visit containing a set of hits (or page views), in succession. Each hit has a URL path associated with it. Here is another query that shows paths and the number of hits across sessions."
   ]
  },
  {
   "cell_type": "code",
   "execution_count": 5,
   "metadata": {
    "collapsed": true
   },
   "outputs": [],
   "source": [
    "%%bq query -n hits\n",
    "SELECT hit.page.pagePath as path, COUNT(visitId) as hitCount\n",
    "FROM `google.com:analytics-bigquery.LondonCycleHelmet.ga_sessions_20130910`\n",
    "  CROSS JOIN UNNEST(hits) as hit\n",
    "GROUP BY path\n",
    "ORDER BY hitCount DESC"
   ]
  },
  {
   "cell_type": "code",
   "execution_count": 6,
   "metadata": {
    "collapsed": false
   },
   "outputs": [
    {
     "data": {
      "text/html": [
       "\n",
       "    <div class=\"bqtv\" id=\"3_148884460319\"><table><tr><th>path</th><th>hitCount</th></tr><tr><td>/confirm.html</td><td>51</td></tr><tr><td>/</td><td>45</td></tr><tr><td>/login.html</td><td>43</td></tr><tr><td>/helmets/foldable.html</td><td>38</td></tr><tr><td>/vests/yellow.html</td><td>24</td></tr><tr><td>/vests/</td><td>23</td></tr><tr><td>/helmets/</td><td>23</td></tr><tr><td>/basket.html</td><td>21</td></tr><tr><td>/helmets/heavy.html</td><td>20</td></tr><tr><td>/vests/orange.html</td><td>20</td></tr><tr><td>/shipping.html</td><td>20</td></tr><tr><td>/helmets/light.html</td><td>16</td></tr><tr><td>/billing.html</td><td>16</td></tr><tr><td>/vests/yellow.html?uym_source=google</td><td>2</td></tr></table></div>\n",
       "    <br />(rows: 14, time: 0.3s, cached, job: job_nUF0qmIuv0zFu1ltQndoqLDX3RY)<br />\n",
       "    <script>\n",
       "\n",
       "      require.config({\n",
       "        paths: {\n",
       "          d3: '//cdnjs.cloudflare.com/ajax/libs/d3/3.4.13/d3',\n",
       "          plotly: 'https://cdn.plot.ly/plotly-1.5.1.min.js?noext',\n",
       "          jquery: '//ajax.googleapis.com/ajax/libs/jquery/2.0.0/jquery.min'\n",
       "        },\n",
       "        map: {\n",
       "          '*': {\n",
       "            datalab: 'nbextensions/gcpdatalab'\n",
       "          }\n",
       "        },\n",
       "        shim: {\n",
       "          plotly: {\n",
       "            deps: ['d3', 'jquery'],\n",
       "            exports: 'plotly'\n",
       "          }\n",
       "        }\n",
       "      });\n",
       "\n",
       "      require(['datalab/charting', 'datalab/element!3_148884460319', 'base/js/events',\n",
       "          'datalab/style!/nbextensions/gcpdatalab/charting.css'],\n",
       "        function(charts, dom, events) {\n",
       "          charts.render('gcharts', dom, events, 'table', [], {\"rows\": [{\"c\": [{\"v\": \"/confirm.html\"}, {\"v\": 51}]}, {\"c\": [{\"v\": \"/\"}, {\"v\": 45}]}, {\"c\": [{\"v\": \"/login.html\"}, {\"v\": 43}]}, {\"c\": [{\"v\": \"/helmets/foldable.html\"}, {\"v\": 38}]}, {\"c\": [{\"v\": \"/vests/yellow.html\"}, {\"v\": 24}]}, {\"c\": [{\"v\": \"/vests/\"}, {\"v\": 23}]}, {\"c\": [{\"v\": \"/helmets/\"}, {\"v\": 23}]}, {\"c\": [{\"v\": \"/basket.html\"}, {\"v\": 21}]}, {\"c\": [{\"v\": \"/helmets/heavy.html\"}, {\"v\": 20}]}, {\"c\": [{\"v\": \"/vests/orange.html\"}, {\"v\": 20}]}, {\"c\": [{\"v\": \"/shipping.html\"}, {\"v\": 20}]}, {\"c\": [{\"v\": \"/helmets/light.html\"}, {\"v\": 16}]}, {\"c\": [{\"v\": \"/billing.html\"}, {\"v\": 16}]}, {\"c\": [{\"v\": \"/vests/yellow.html?uym_source=google\"}, {\"v\": 2}]}], \"cols\": [{\"type\": \"string\", \"id\": \"path\", \"label\": \"path\"}, {\"type\": \"number\", \"id\": \"hitCount\", \"label\": \"hitCount\"}]},\n",
       "            {\n",
       "              pageSize: 25,\n",
       "              cssClassNames:  {\n",
       "                tableRow: 'gchart-table-row',\n",
       "                headerRow: 'gchart-table-headerrow',\n",
       "                oddTableRow: 'gchart-table-oddrow',\n",
       "                selectedTableRow: 'gchart-table-selectedrow',\n",
       "                hoverTableRow: 'gchart-table-hoverrow',\n",
       "                tableCell: 'gchart-table-cell',\n",
       "                headerCell: 'gchart-table-headercell',\n",
       "                rowNumberCell: 'gchart-table-rownumcell'\n",
       "              }\n",
       "            },\n",
       "            {source_index: 1, fields: 'path,hitCount'},\n",
       "            0,\n",
       "            14);\n",
       "        }\n",
       "      );\n",
       "    </script>\n",
       "  "
      ],
      "text/plain": [
       "QueryResultsTable job_nUF0qmIuv0zFu1ltQndoqLDX3RY"
      ]
     },
     "execution_count": 6,
     "metadata": {},
     "output_type": "execute_result"
    }
   ],
   "source": [
    "%%bq execute -q hits"
   ]
  },
  {
   "cell_type": "markdown",
   "metadata": {},
   "source": [
    "# Producing Conversion Data\n",
    "\n",
    "For the purposes of this sample, the question to be answered is \"Which path leads to higher conversion ratio: users landing on the landing page (path = '/') or users landing on a product page (eg. '/vests/yellow.html')?\" \"Conversion\" is defined as the user loading the '/confirm/' page within a single session."
   ]
  },
  {
   "cell_type": "code",
   "execution_count": 7,
   "metadata": {
    "collapsed": true
   },
   "outputs": [],
   "source": [
    "%%bq query -n conversions\n",
    "WITH\n",
    "  AnnotatedVisits AS (\n",
    "    SELECT\n",
    "      visitId,\n",
    "      hit.page.pagePath AS path,\n",
    "      hit.hitNumber AS hitNumber,\n",
    "      '/confirm.html' IN (SELECT page.pagePath FROM UNNEST(hits)) AS transacted\n",
    "    FROM `google.com:analytics-bigquery.LondonCycleHelmet.ga_sessions_20130910`\n",
    "      CROSS JOIN UNNEST(hits) AS hit\n",
    "    ORDER BY visitStartTime, hitNumber)\n",
    "SELECT\n",
    "  IF (path = '/', 'home', 'product') AS start,\n",
    "  IF (transacted, 'completed', 'abandoned') AS outcome,\n",
    "  COUNT(*) AS count\n",
    "FROM AnnotatedVisits\n",
    "WHERE hitNumber = 1\n",
    "GROUP BY start, outcome\n",
    "ORDER BY outcome, start"
   ]
  },
  {
   "cell_type": "code",
   "execution_count": 8,
   "metadata": {
    "collapsed": false
   },
   "outputs": [
    {
     "data": {
      "text/html": [
       "\n",
       "    <div class=\"bqtv\" id=\"4_148884461130\"><table><tr><th>start</th><th>outcome</th><th>count</th></tr><tr><td>home</td><td>abandoned</td><td>18</td></tr><tr><td>product</td><td>abandoned</td><td>29</td></tr><tr><td>home</td><td>completed</td><td>5</td></tr><tr><td>product</td><td>completed</td><td>11</td></tr></table></div>\n",
       "    <br />(rows: 4, time: 0.2s, cached, job: job_6Ur3LlQplBQqC-m5EusnlgE_1d8)<br />\n",
       "    <script>\n",
       "\n",
       "      require.config({\n",
       "        paths: {\n",
       "          d3: '//cdnjs.cloudflare.com/ajax/libs/d3/3.4.13/d3',\n",
       "          plotly: 'https://cdn.plot.ly/plotly-1.5.1.min.js?noext',\n",
       "          jquery: '//ajax.googleapis.com/ajax/libs/jquery/2.0.0/jquery.min'\n",
       "        },\n",
       "        map: {\n",
       "          '*': {\n",
       "            datalab: 'nbextensions/gcpdatalab'\n",
       "          }\n",
       "        },\n",
       "        shim: {\n",
       "          plotly: {\n",
       "            deps: ['d3', 'jquery'],\n",
       "            exports: 'plotly'\n",
       "          }\n",
       "        }\n",
       "      });\n",
       "\n",
       "      require(['datalab/charting', 'datalab/element!4_148884461130', 'base/js/events',\n",
       "          'datalab/style!/nbextensions/gcpdatalab/charting.css'],\n",
       "        function(charts, dom, events) {\n",
       "          charts.render('gcharts', dom, events, 'table', [], {\"rows\": [{\"c\": [{\"v\": \"home\"}, {\"v\": \"abandoned\"}, {\"v\": 18}]}, {\"c\": [{\"v\": \"product\"}, {\"v\": \"abandoned\"}, {\"v\": 29}]}, {\"c\": [{\"v\": \"home\"}, {\"v\": \"completed\"}, {\"v\": 5}]}, {\"c\": [{\"v\": \"product\"}, {\"v\": \"completed\"}, {\"v\": 11}]}], \"cols\": [{\"type\": \"string\", \"id\": \"start\", \"label\": \"start\"}, {\"type\": \"string\", \"id\": \"outcome\", \"label\": \"outcome\"}, {\"type\": \"number\", \"id\": \"count\", \"label\": \"count\"}]},\n",
       "            {\n",
       "              pageSize: 25,\n",
       "              cssClassNames:  {\n",
       "                tableRow: 'gchart-table-row',\n",
       "                headerRow: 'gchart-table-headerrow',\n",
       "                oddTableRow: 'gchart-table-oddrow',\n",
       "                selectedTableRow: 'gchart-table-selectedrow',\n",
       "                hoverTableRow: 'gchart-table-hoverrow',\n",
       "                tableCell: 'gchart-table-cell',\n",
       "                headerCell: 'gchart-table-headercell',\n",
       "                rowNumberCell: 'gchart-table-rownumcell'\n",
       "              }\n",
       "            },\n",
       "            {source_index: 2, fields: 'start,outcome,count'},\n",
       "            0,\n",
       "            4);\n",
       "        }\n",
       "      );\n",
       "    </script>\n",
       "  "
      ],
      "text/plain": [
       "QueryResultsTable job_6Ur3LlQplBQqC-m5EusnlgE_1d8"
      ]
     },
     "execution_count": 8,
     "metadata": {},
     "output_type": "execute_result"
    }
   ],
   "source": [
    "%%bq execute -q conversions"
   ]
  },
  {
   "cell_type": "markdown",
   "metadata": {},
   "source": [
    "## Visualizing the Conversion Path\n",
    "\n",
    "The matrix tells us a bit about completed visits vs. abandoned visits, depending on the starting point. However, this is more easily seen in a [sankey diagram](https://developers.google.com/chart/interactive/docs/gallery/sankey), which is provided by the Google Charting API."
   ]
  },
  {
   "cell_type": "code",
   "execution_count": 9,
   "metadata": {
    "collapsed": false
   },
   "outputs": [
    {
     "data": {
      "text/html": [
       "\n",
       "    <div class=\"bqgc-container\">\n",
       "      \n",
       "      <div class=\"bqgc \" id=\"1_148884461442\">\n",
       "      </div>\n",
       "    </div>\n",
       "    <script>\n",
       "\n",
       "      require.config({\n",
       "        paths: {\n",
       "          d3: '//cdnjs.cloudflare.com/ajax/libs/d3/3.4.13/d3',\n",
       "          plotly: 'https://cdn.plot.ly/plotly-1.5.1.min.js?noext',\n",
       "          jquery: '//ajax.googleapis.com/ajax/libs/jquery/2.0.0/jquery.min'\n",
       "        },\n",
       "        map: {\n",
       "          '*': {\n",
       "            datalab: 'nbextensions/gcpdatalab'\n",
       "          }\n",
       "        },\n",
       "        shim: {\n",
       "          plotly: {\n",
       "            deps: ['d3', 'jquery'],\n",
       "            exports: 'plotly'\n",
       "          }\n",
       "        }\n",
       "      });\n",
       "\n",
       "      require(['datalab/charting',\n",
       "               'datalab/element!1_148884461442',\n",
       "               'base/js/events',\n",
       "               'datalab/style!/nbextensions/gcpdatalab/charting.css'\n",
       "              ],\n",
       "        function(charts, dom, events) {\n",
       "          charts.render(\n",
       "              'gcharts',\n",
       "              dom,\n",
       "              events,\n",
       "              'sankey',\n",
       "              [],\n",
       "              {\"rows\": [{\"c\": [{\"v\": \"home\"}, {\"v\": \"abandoned\"}, {\"v\": 18}]}, {\"c\": [{\"v\": \"product\"}, {\"v\": \"abandoned\"}, {\"v\": 29}]}, {\"c\": [{\"v\": \"home\"}, {\"v\": \"completed\"}, {\"v\": 5}]}, {\"c\": [{\"v\": \"product\"}, {\"v\": \"completed\"}, {\"v\": 11}]}], \"cols\": [{\"type\": \"string\", \"id\": \"start\", \"label\": \"start\"}, {\"type\": \"string\", \"id\": \"outcome\", \"label\": \"outcome\"}, {\"type\": \"number\", \"id\": \"count\", \"label\": \"count\"}]},\n",
       "              {\"sankey\": {\"node\": {\"colors\": [\"black\", \"red\", \"black\", \"green\"]}}},\n",
       "              {\"fields\": \"*\", \"source_index\": 0, \"name\": 0},\n",
       "              0,\n",
       "              4);\n",
       "          }\n",
       "        );\n",
       "    </script>\n",
       "  "
      ],
      "text/plain": [
       "<IPython.core.display.HTML object>"
      ]
     },
     "execution_count": 9,
     "metadata": {},
     "output_type": "execute_result"
    }
   ],
   "source": [
    "%%chart sankey --data conversions\n",
    "{\n",
    "  \"sankey\": {\n",
    "    \"node\": {\n",
    "      \"colors\": [ \"black\", \"red\", \"black\", \"green\" ]\n",
    "    }\n",
    "  }\n",
    "}"
   ]
  },
  {
   "cell_type": "markdown",
   "metadata": {},
   "source": [
    "## Insights\n",
    "\n",
    "The results and the diagram tell us that the product pages lead to a slightly better conversion."
   ]
  },
  {
   "cell_type": "markdown",
   "metadata": {},
   "source": [
    "# Going Beyond the Sample\n",
    "\n",
    "This sample demonstrated how you can apply the power of BigQuery to your Google Analytics, and more generally to any analytics telemetry data. Essentially, you can build custom metrics and visualizations, and track the behavior and engagement of your audience more effectively by joining analytics data with your own data."
   ]
  }
 ],
 "metadata": {
  "kernelspec": {
   "display_name": "Python 2",
   "language": "python",
   "name": "python2"
  },
  "language_info": {
   "codemirror_mode": {
    "name": "ipython",
    "version": 2
   },
   "file_extension": ".py",
   "mimetype": "text/x-python",
   "name": "python",
   "nbconvert_exporter": "python",
   "pygments_lexer": "ipython2",
   "version": "2.7.9"
  }
 },
 "nbformat": 4,
 "nbformat_minor": 0
}
