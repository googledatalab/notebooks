{
 "cells": [
  {
   "cell_type": "markdown",
   "metadata": {},
   "source": [
    "### Project Setup\n",
    "\n",
    "First run the following steps only if you are running Datalab from your local desktop or laptop (not running Datalab from a GCE VM):\n",
    "\n",
    "1. Make sure you have a GCP project which is enabled for Machine Learning API and Dataflow API.\n",
    "2. Run \"%datalab project set --project [project-id]\" to set the default project in Datalab.\n",
    "\n",
    "If you run Datalab from a GCE VM, then make sure the project of the GCE VM is enabled for Machine Learning API and Dataflow API."
   ]
  },
  {
   "cell_type": "code",
   "execution_count": 1,
   "metadata": {
    "collapsed": true
   },
   "outputs": [],
   "source": [
    "bucket = 'gs://' + datalab_project_id() + '-coast'"
   ]
  },
  {
   "cell_type": "code",
   "execution_count": 2,
   "metadata": {
    "collapsed": false
   },
   "outputs": [
    {
     "name": "stdout",
     "output_type": "stream",
     "text": [
      "Creating gs://bradley-playground-coast/...\n",
      "ServiceException: 409 Bucket bradley-playground-coast already exists.\n"
     ]
    }
   ],
   "source": [
    "!gsutil mb $bucket"
   ]
  },
  {
   "cell_type": "markdown",
   "metadata": {},
   "source": [
    "### Data Preparation\n",
    "\n",
    "All data is under gs://cloud-datalab/sampledata/coast. See https://storage.googleapis.com/tamucc_coastline/GooglePermissionForImages_20170119.pdf for details.\n",
    "\n",
    "Load the data from CSV files to Bigquery table."
   ]
  },
  {
   "cell_type": "code",
   "execution_count": 3,
   "metadata": {
    "collapsed": false
   },
   "outputs": [
    {
     "data": {
      "text/plain": [
       "Job bradley-playground/job_ip-qacbM3liCTrLhGEhOrpHdmo8 completed"
      ]
     },
     "execution_count": 3,
     "metadata": {},
     "output_type": "execute_result"
    }
   ],
   "source": [
    "import google.datalab.bigquery as bq\n",
    "\n",
    "# Create the dataset\n",
    "bq.Dataset('coast').create()\n",
    "\n",
    "schema = [\n",
    "  {'name':'image_url', 'type': 'STRING'},\n",
    "  {'name':'label', 'type': 'STRING'},\n",
    "]\n",
    "\n",
    "# Create the table\n",
    "train_table = bq.Table('coast.train').create(schema=schema, overwrite=True)\n",
    "train_table.load('gs://cloud-datalab/sampledata/coast/train.csv', mode='overwrite', source_format='csv')\n",
    "eval_table = bq.Table('coast.eval').create(schema=schema, overwrite=True)\n",
    "eval_table.load('gs://cloud-datalab/sampledata/coast/eval.csv', mode='overwrite', source_format='csv')"
   ]
  },
  {
   "cell_type": "markdown",
   "metadata": {},
   "source": [
    "See the following file for the label description:"
   ]
  },
  {
   "cell_type": "code",
   "execution_count": 4,
   "metadata": {
    "collapsed": false
   },
   "outputs": [
    {
     "name": "stdout",
     "output_type": "stream",
     "text": [
      "class,name\r",
      "\r\n",
      "1,\"Exposed walls and other structures made of concrete, wood, or metal\"\r",
      "\r\n",
      "2A ,Scarps and steep slopes in clay\r",
      "\r\n",
      "2B ,Wave-cut clay platforms\r",
      "\r\n",
      "3A ,Fine-grained sand beaches\r",
      "\r\n",
      "3B ,Scarps and steep slopes in sand\r",
      "\r\n",
      "4,Coarse-grained sand beaches\r",
      "\r\n",
      "5,Mixed sand and gravel (shell) beaches\r",
      "\r\n",
      "6A ,Gravel (shell) beaches\r",
      "\r\n",
      "6B ,Exposed riprap structures\r",
      "\r\n",
      "7,Exposed tidal flats\r",
      "\r\n",
      "8A ,\"Sheltered solid man-made structures, such as bulkheads and docks\"\r",
      "\r\n",
      "8B ,Sheltered riprap structures\r",
      "\r\n",
      "8C ,Sheltered scarps\r",
      "\r\n",
      "9,Sheltered tidal flats\r",
      "\r\n",
      "10A ,Salt- and brackish-water marshes\r",
      "\r\n",
      "10B ,Fresh-water marshes (herbaceous vegetation)\r",
      "\r\n",
      "10C ,Fresh-water swamps (woody vegetation)\r",
      "\r\n",
      "1OD,Mangroves\r",
      "\r\n"
     ]
    }
   ],
   "source": [
    "!gsutil cat gs://cloud-datalab/sampledata/coast/dict_explanation.csv"
   ]
  },
  {
   "cell_type": "code",
   "execution_count": 5,
   "metadata": {
    "collapsed": false
   },
   "outputs": [],
   "source": [
    "%%bq query --name coast_train\n",
    "SELECT image_url, label FROM coast.train"
   ]
  },
  {
   "cell_type": "code",
   "execution_count": 6,
   "metadata": {
    "collapsed": false
   },
   "outputs": [
    {
     "data": {
      "text/html": [
       "\n",
       "    <div class=\"bqtv\" id=\"1_148884704378\"><table><tr><th>image_url</th><th>label</th></tr><tr><td>gs://tamucc_coastline/esi_images/IMG_5894_SecC_Sum12_Pt1.JPG</td><td>1</td></tr><tr><td>gs://tamucc_coastline/esi_images/IMG_2319_SecOP_Sum12_Pt3.jpg</td><td>1</td></tr><tr><td>gs://tamucc_coastline/esi_images/IMG_6674_SecQN_Sum12_Pt3.jpg</td><td>1</td></tr><tr><td>gs://tamucc_coastline/esi_images/IMG_9483_SecMO_Sum12_Pt3.jpg</td><td>1</td></tr><tr><td>gs://tamucc_coastline/esi_images/IMG_0223_SecEFG_Sum12_Pt1.JPG</td><td>1</td></tr><tr><td>gs://tamucc_coastline/esi_images/IMG_1012_SecEFG_Sum12_Pt1.JPG</td><td>1</td></tr><tr><td>gs://tamucc_coastline/esi_images/IMG_9996_SecBC_Spr12.jpg</td><td>1</td></tr><tr><td>gs://tamucc_coastline/esi_images/IMG_0899_SecEFG_Sum12_Pt1.JPG</td><td>1</td></tr><tr><td>gs://tamucc_coastline/esi_images/IMG_4996_SecEGH_Sum12_Pt2.jpg</td><td>1</td></tr><tr><td>gs://tamucc_coastline/esi_images/IMG_1281_SecEFG_Sum12_Pt1.JPG</td><td>1</td></tr><tr><td>gs://tamucc_coastline/esi_images/IMG_9888_SecBC_Spr12.jpg</td><td>1</td></tr><tr><td>gs://tamucc_coastline/esi_images/IMG_5805_SecFG2_Spr12.jpg</td><td>1</td></tr><tr><td>gs://tamucc_coastline/esi_images/IMG_9896_SecBC_Spr12.jpg</td><td>1</td></tr><tr><td>gs://tamucc_coastline/esi_images/IMG_5917_SecOPQ_Sum12_Pt3.jpg</td><td>1</td></tr><tr><td>gs://tamucc_coastline/esi_images/IMG_7881_SecQN_Sum12_Pt3.jpg</td><td>1</td></tr><tr><td>gs://tamucc_coastline/esi_images/IMG_6718_SecQN_Sum12_Pt3.jpg</td><td>1</td></tr><tr><td>gs://tamucc_coastline/esi_images/IMG_5814_SecFG2_Spr12.jpg</td><td>1</td></tr><tr><td>gs://tamucc_coastline/esi_images/IMG_6518_SecEFG_Sum12_Pt1.JPG</td><td>1</td></tr><tr><td>gs://tamucc_coastline/esi_images/IMG_5906_SecC_Sum12_Pt1.JPG</td><td>1</td></tr><tr><td>gs://tamucc_coastline/esi_images/IMG_7443_SecEFG_Sum12_Pt1.JPG</td><td>1</td></tr><tr><td>gs://tamucc_coastline/esi_images/IMG_0314_SecMO_Sum12_Pt3.jpg</td><td>1</td></tr><tr><td>gs://tamucc_coastline/esi_images/IMG_5476_SecFG_Spr12.jpg</td><td>1</td></tr><tr><td>gs://tamucc_coastline/esi_images/IMG_7458_SecEFG_Sum12_Pt1.JPG</td><td>1</td></tr><tr><td>gs://tamucc_coastline/esi_images/IMG_2369_SecHKL_Sum12_Pt2.jpg</td><td>1</td></tr><tr><td>gs://tamucc_coastline/esi_images/IMG_1328_SecOP_Sum12_Pt3.jpg</td><td>1</td></tr></table></div>\n",
       "    <br />(rows: 8850, time: 3.8s,   590KB processed, job: job_0-8eMy4DVJC6r1VmFxhnWLY8ZDc)<br />\n",
       "    <script>\n",
       "\n",
       "      require.config({\n",
       "        paths: {\n",
       "          d3: '//cdnjs.cloudflare.com/ajax/libs/d3/3.4.13/d3',\n",
       "          plotly: 'https://cdn.plot.ly/plotly-1.5.1.min.js?noext',\n",
       "          jquery: '//ajax.googleapis.com/ajax/libs/jquery/2.0.0/jquery.min'\n",
       "        },\n",
       "        map: {\n",
       "          '*': {\n",
       "            datalab: 'nbextensions/gcpdatalab'\n",
       "          }\n",
       "        },\n",
       "        shim: {\n",
       "          plotly: {\n",
       "            deps: ['d3', 'jquery'],\n",
       "            exports: 'plotly'\n",
       "          }\n",
       "        }\n",
       "      });\n",
       "\n",
       "      require(['datalab/charting', 'datalab/element!1_148884704378', 'base/js/events',\n",
       "          'datalab/style!/nbextensions/gcpdatalab/charting.css'],\n",
       "        function(charts, dom, events) {\n",
       "          charts.render('gcharts', dom, events, 'paged_table', [], {\"rows\": [{\"c\": [{\"v\": \"gs://tamucc_coastline/esi_images/IMG_5894_SecC_Sum12_Pt1.JPG\"}, {\"v\": \"1\"}]}, {\"c\": [{\"v\": \"gs://tamucc_coastline/esi_images/IMG_2319_SecOP_Sum12_Pt3.jpg\"}, {\"v\": \"1\"}]}, {\"c\": [{\"v\": \"gs://tamucc_coastline/esi_images/IMG_6674_SecQN_Sum12_Pt3.jpg\"}, {\"v\": \"1\"}]}, {\"c\": [{\"v\": \"gs://tamucc_coastline/esi_images/IMG_9483_SecMO_Sum12_Pt3.jpg\"}, {\"v\": \"1\"}]}, {\"c\": [{\"v\": \"gs://tamucc_coastline/esi_images/IMG_0223_SecEFG_Sum12_Pt1.JPG\"}, {\"v\": \"1\"}]}, {\"c\": [{\"v\": \"gs://tamucc_coastline/esi_images/IMG_1012_SecEFG_Sum12_Pt1.JPG\"}, {\"v\": \"1\"}]}, {\"c\": [{\"v\": \"gs://tamucc_coastline/esi_images/IMG_9996_SecBC_Spr12.jpg\"}, {\"v\": \"1\"}]}, {\"c\": [{\"v\": \"gs://tamucc_coastline/esi_images/IMG_0899_SecEFG_Sum12_Pt1.JPG\"}, {\"v\": \"1\"}]}, {\"c\": [{\"v\": \"gs://tamucc_coastline/esi_images/IMG_4996_SecEGH_Sum12_Pt2.jpg\"}, {\"v\": \"1\"}]}, {\"c\": [{\"v\": \"gs://tamucc_coastline/esi_images/IMG_1281_SecEFG_Sum12_Pt1.JPG\"}, {\"v\": \"1\"}]}, {\"c\": [{\"v\": \"gs://tamucc_coastline/esi_images/IMG_9888_SecBC_Spr12.jpg\"}, {\"v\": \"1\"}]}, {\"c\": [{\"v\": \"gs://tamucc_coastline/esi_images/IMG_5805_SecFG2_Spr12.jpg\"}, {\"v\": \"1\"}]}, {\"c\": [{\"v\": \"gs://tamucc_coastline/esi_images/IMG_9896_SecBC_Spr12.jpg\"}, {\"v\": \"1\"}]}, {\"c\": [{\"v\": \"gs://tamucc_coastline/esi_images/IMG_5917_SecOPQ_Sum12_Pt3.jpg\"}, {\"v\": \"1\"}]}, {\"c\": [{\"v\": \"gs://tamucc_coastline/esi_images/IMG_7881_SecQN_Sum12_Pt3.jpg\"}, {\"v\": \"1\"}]}, {\"c\": [{\"v\": \"gs://tamucc_coastline/esi_images/IMG_6718_SecQN_Sum12_Pt3.jpg\"}, {\"v\": \"1\"}]}, {\"c\": [{\"v\": \"gs://tamucc_coastline/esi_images/IMG_5814_SecFG2_Spr12.jpg\"}, {\"v\": \"1\"}]}, {\"c\": [{\"v\": \"gs://tamucc_coastline/esi_images/IMG_6518_SecEFG_Sum12_Pt1.JPG\"}, {\"v\": \"1\"}]}, {\"c\": [{\"v\": \"gs://tamucc_coastline/esi_images/IMG_5906_SecC_Sum12_Pt1.JPG\"}, {\"v\": \"1\"}]}, {\"c\": [{\"v\": \"gs://tamucc_coastline/esi_images/IMG_7443_SecEFG_Sum12_Pt1.JPG\"}, {\"v\": \"1\"}]}, {\"c\": [{\"v\": \"gs://tamucc_coastline/esi_images/IMG_0314_SecMO_Sum12_Pt3.jpg\"}, {\"v\": \"1\"}]}, {\"c\": [{\"v\": \"gs://tamucc_coastline/esi_images/IMG_5476_SecFG_Spr12.jpg\"}, {\"v\": \"1\"}]}, {\"c\": [{\"v\": \"gs://tamucc_coastline/esi_images/IMG_7458_SecEFG_Sum12_Pt1.JPG\"}, {\"v\": \"1\"}]}, {\"c\": [{\"v\": \"gs://tamucc_coastline/esi_images/IMG_2369_SecHKL_Sum12_Pt2.jpg\"}, {\"v\": \"1\"}]}, {\"c\": [{\"v\": \"gs://tamucc_coastline/esi_images/IMG_1328_SecOP_Sum12_Pt3.jpg\"}, {\"v\": \"1\"}]}], \"cols\": [{\"type\": \"string\", \"id\": \"image_url\", \"label\": \"image_url\"}, {\"type\": \"string\", \"id\": \"label\", \"label\": \"label\"}]},\n",
       "            {\n",
       "              pageSize: 25,\n",
       "              cssClassNames:  {\n",
       "                tableRow: 'gchart-table-row',\n",
       "                headerRow: 'gchart-table-headerrow',\n",
       "                oddTableRow: 'gchart-table-oddrow',\n",
       "                selectedTableRow: 'gchart-table-selectedrow',\n",
       "                hoverTableRow: 'gchart-table-hoverrow',\n",
       "                tableCell: 'gchart-table-cell',\n",
       "                headerCell: 'gchart-table-headercell',\n",
       "                rowNumberCell: 'gchart-table-rownumcell'\n",
       "              }\n",
       "            },\n",
       "            {source_index: 0, fields: 'image_url,label'},\n",
       "            0,\n",
       "            8850);\n",
       "        }\n",
       "      );\n",
       "    </script>\n",
       "  "
      ],
      "text/plain": [
       "QueryResultsTable job_0-8eMy4DVJC6r1VmFxhnWLY8ZDc"
      ]
     },
     "execution_count": 6,
     "metadata": {},
     "output_type": "execute_result"
    }
   ],
   "source": [
    "coast_train.execute().result()"
   ]
  },
  {
   "cell_type": "markdown",
   "metadata": {},
   "source": [
    "### Explore Your Data\n",
    "\n",
    "Sample the data to around 1000 instances for visualization. Our data is very simple, so we simply draw histogram on the labels and compare training and eval data."
   ]
  },
  {
   "cell_type": "code",
   "execution_count": 7,
   "metadata": {
    "collapsed": false
   },
   "outputs": [],
   "source": [
    "from google.datalab.ml import *\n",
    "\n",
    "ds_train = BigQueryDataSet(table='coast.train')\n",
    "ds_eval = BigQueryDataSet(table='coast.eval')\n",
    "\n",
    "df_train = ds_train.sample(1000)\n",
    "df_eval = ds_eval.sample(1000)"
   ]
  },
  {
   "cell_type": "code",
   "execution_count": 8,
   "metadata": {
    "collapsed": false
   },
   "outputs": [
    {
     "data": {
      "image/png": "[encoded data removed]",
      "text/plain": [
       "<matplotlib.figure.Figure at 0x7fb0d6892f50>"
      ]
     },
     "metadata": {},
     "output_type": "display_data"
    }
   ],
   "source": [
    "df_train.label.value_counts().plot(kind='bar');"
   ]
  },
  {
   "cell_type": "code",
   "execution_count": 9,
   "metadata": {
    "collapsed": false
   },
   "outputs": [
    {
     "data": {
      "image/png": "[encoded data removed]",
      "text/plain": [
       "<matplotlib.figure.Figure at 0x7fb0d5cf6810>"
      ]
     },
     "metadata": {},
     "output_type": "display_data"
    }
   ],
   "source": [
    "df_eval.label.value_counts().plot(kind='bar');"
   ]
  },
  {
   "cell_type": "code",
   "execution_count": null,
   "metadata": {
    "collapsed": true
   },
   "outputs": [],
   "source": []
  }
 ],
 "metadata": {
  "kernelspec": {
   "display_name": "Python 2",
   "language": "python",
   "name": "python2"
  },
  "language_info": {
   "codemirror_mode": {
    "name": "ipython",
    "version": 2
   },
   "file_extension": ".py",
   "mimetype": "text/x-python",
   "name": "python",
   "nbconvert_exporter": "python",
   "pygments_lexer": "ipython2",
   "version": "2.7.9"
  }
 },
 "nbformat": 4,
 "nbformat_minor": 2
}
