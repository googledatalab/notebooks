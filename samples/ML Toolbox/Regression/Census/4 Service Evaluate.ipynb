{
 "cells": [
  {
   "cell_type": "markdown",
   "metadata": {},
   "source": [
    "# Evaluating a Model with Dataflow and BigQuery"
   ]
  },
  {
   "cell_type": "markdown",
   "metadata": {},
   "source": [
    "This notebook is the third in the set of steps to run machine learning on the cloud. In this step, we will use the model training in the [previous notebook](./3 Service Train.ipynb) and continue with evaluating the resulting model.\n",
    "\n",
    "Evaluation is accomplished by first running batch prediction over one or more evaluation datasets. This is done via Cloud Dataflow, and then analyzing the results using BigQuery. Doing evaluation using these services allow you to scale to large evaluation datasets."
   ]
  },
  {
   "cell_type": "markdown",
   "metadata": {},
   "source": [
    "## Workspace Setup\n",
    "\n",
    "The first step is to setup the workspace that we will use within this notebook - the python libraries, and the Google Cloud Storage bucket that will be used to contain the inputs and outputs produced over the course of the steps."
   ]
  },
  {
   "cell_type": "code",
   "execution_count": 1,
   "metadata": {
    "collapsed": true
   },
   "outputs": [],
   "source": [
    "import google.datalab as datalab\n",
    "import google.datalab.ml as ml\n",
    "import mltoolbox.regression.dnn as regression\n",
    "import os"
   ]
  },
  {
   "cell_type": "markdown",
   "metadata": {},
   "source": [
    "The storage bucket was created earlier. We'll re-declare it here, so we can use it."
   ]
  },
  {
   "cell_type": "code",
   "execution_count": 5,
   "metadata": {
    "collapsed": true
   },
   "outputs": [],
   "source": [
    "storage_bucket = 'gs://' + datalab.Context.default().project_id + '-datalab-workspace/'\n",
    "storage_region = 'us-central1'\n",
    "\n",
    "workspace_path = os.path.join(storage_bucket, 'census')\n",
    "training_path = os.path.join(workspace_path, 'training')"
   ]
  },
  {
   "cell_type": "markdown",
   "metadata": {},
   "source": [
    "### Model\n",
    "\n",
    "Lets take a quick look at the model that was previously produced as a result of the training job."
   ]
  },
  {
   "cell_type": "code",
   "execution_count": 6,
   "metadata": {
    "collapsed": false
   },
   "outputs": [
    {
     "name": "stdout",
     "output_type": "stream",
     "text": [
      "gs://cloud-ml-users-datalab-workspace/census/training/model/:\n",
      "gs://cloud-ml-users-datalab-workspace/census/training/model/\n",
      "gs://cloud-ml-users-datalab-workspace/census/training/model/saved_model.pb\n",
      "\n",
      "gs://cloud-ml-users-datalab-workspace/census/training/model/assets.extra/:\n",
      "gs://cloud-ml-users-datalab-workspace/census/training/model/assets.extra/\n",
      "gs://cloud-ml-users-datalab-workspace/census/training/model/assets.extra/features.json\n",
      "gs://cloud-ml-users-datalab-workspace/census/training/model/assets.extra/schema.json\n",
      "\n",
      "gs://cloud-ml-users-datalab-workspace/census/training/model/variables/:\n",
      "gs://cloud-ml-users-datalab-workspace/census/training/model/variables/\n",
      "gs://cloud-ml-users-datalab-workspace/census/training/model/variables/variables.data-00000-of-00001\n",
      "gs://cloud-ml-users-datalab-workspace/census/training/model/variables/variables.index\n"
     ]
    }
   ],
   "source": [
    "!gsutil ls -r {training_path}/model"
   ]
  },
  {
   "cell_type": "markdown",
   "metadata": {},
   "source": [
    "## Batch Prediction\n",
    "\n",
    "We'll submit a batch prediction Dataflow job, to use this model by loading it into TensorFlow, and running it in evaluation mode (the mode that expects the input data to contain a value for target). The other mode, `prediction` is used to predict over data where the target value is unknown.\n",
    "\n",
    "**NOTE**: Batch prediction can take a few minutes to launch while compute resources are provisioned. In the case of large datasets in real-world problems, this overhead is a much smaller part of the overall job lifetime."
   ]
  },
  {
   "cell_type": "code",
   "execution_count": 7,
   "metadata": {
    "collapsed": false
   },
   "outputs": [
    {
     "name": "stdout",
     "output_type": "stream",
     "text": [
      "Building package and uploading to gs://cloud-ml-users-datalab-workspace/census/evaluation/staging/trainer.tar.gz\n",
      "Dataflow Job submitted, see Job mltoolbox-batch-prediction-20170307193953 at https://console.developers.google.com/dataflow?project=cloud-ml-users\n"
     ]
    },
    {
     "name": "stderr",
     "output_type": "stream",
     "text": [
      "/usr/local/lib/python2.7/dist-packages/apache_beam/coders/typecoders.py:136: UserWarning: Using fallback coder for typehint: Any.\n",
      "  warnings.warn('Using fallback coder for typehint: %r.' % typehint)\n",
      "WARNING:root:The .whl package \"%s\" is provided in --extra_package. This functionality is not officially supported. Since wheel packages are binary distributions, this package must be binary-compatible with the worker environment (e.g. Python 2.7 running on an x64 Linux host).\n",
      "WARNING:root:The .whl package \"%s\" is provided in --extra_package. This functionality is not officially supported. Since wheel packages are binary distributions, this package must be binary-compatible with the worker environment (e.g. Python 2.7 running on an x64 Linux host).\n"
     ]
    },
    {
     "name": "stdout",
     "output_type": "stream",
     "text": [
      "Batch predict: completed\n"
     ]
    }
   ],
   "source": [
    "eval_data_path = os.path.join(workspace_path, 'data/eval.csv')\n",
    "evaluation_path = os.path.join(workspace_path, 'evaluation')\n",
    "\n",
    "regression.batch_predict(training_dir=training_path, prediction_input_file=eval_data_path,\n",
    "                         output_dir=evaluation_path,\n",
    "                         mode='evaluation',\n",
    "                         output_format='csv',\n",
    "                         cloud=True)"
   ]
  },
  {
   "cell_type": "markdown",
   "metadata": {},
   "source": [
    "Once prediction is done, the individual predictions will be in written out into Cloud Storage."
   ]
  },
  {
   "cell_type": "code",
   "execution_count": 8,
   "metadata": {
    "collapsed": false
   },
   "outputs": [
    {
     "name": "stdout",
     "output_type": "stream",
     "text": [
      "gs://cloud-ml-users-datalab-workspace/census/evaluation/csv_schema.json\r\n",
      "gs://cloud-ml-users-datalab-workspace/census/evaluation/errors-00000-of-00001.txt\r\n",
      "gs://cloud-ml-users-datalab-workspace/census/evaluation/predictions-00000-of-00003.csv\r\n",
      "gs://cloud-ml-users-datalab-workspace/census/evaluation/predictions-00001-of-00003.csv\r\n",
      "gs://cloud-ml-users-datalab-workspace/census/evaluation/predictions-00002-of-00003.csv\r\n",
      "gs://cloud-ml-users-datalab-workspace/census/evaluation/staging/\r\n",
      "gs://cloud-ml-users-datalab-workspace/census/evaluation/tmp/\r\n"
     ]
    }
   ],
   "source": [
    "!gsutil ls {evaluation_path}"
   ]
  },
  {
   "cell_type": "code",
   "execution_count": 9,
   "metadata": {
    "collapsed": false
   },
   "outputs": [
    {
     "name": "stdout",
     "output_type": "stream",
     "text": [
      "[\n",
      "  {\n",
      "    \"type\": \"STRING\", \n",
      "    \"mode\": \"NULLABLE\", \n",
      "    \"name\": \"SERIALNO\"\n",
      "  }, \n",
      "  {\n",
      "    \"type\": \"FLOAT\", \n",
      "    \"mode\": \"NULLABLE\", \n",
      "    \"name\": \"predicted\"\n",
      "  }, \n",
      "  {\n",
      "    \"type\": \"FLOAT\", \n",
      "    \"mode\": \"NULLABLE\", \n",
      "    \"name\": \"target\"\n",
      "  }\n",
      "]\n",
      "1225,17.0009841919,18.0\n",
      "1438,33.0704154968,45.0\n",
      "2536,122.506439209,62.0\n",
      "2892,12.806552887,16.0\n",
      "4767,34.3795928955,58.0\n"
     ]
    }
   ],
   "source": [
    "!gsutil cat {evaluation_path}/csv_schema.json\n",
    "!gsutil -q -m cp -r {evaluation_path}/ /tmp\n",
    "!head -n 5 /tmp/evaluation/predictions-00000*"
   ]
  },
  {
   "cell_type": "markdown",
   "metadata": {},
   "source": [
    "## Analysis with BigQuery\n",
    "\n",
    "We're going to use BigQuery to do evaluation. BigQuery can directly work against CSV data in Cloud Storage. However, if you have very large evaluation results, or you're going to be running multiple queries, it is advisable to first load the results into a BigQuery table."
   ]
  },
  {
   "cell_type": "code",
   "execution_count": 10,
   "metadata": {
    "collapsed": false
   },
   "outputs": [],
   "source": [
    "%bq datasource --name eval_results --paths gs://cloud-ml-users-datalab-workspace/census/evaluation/predictions*\n",
    "{\n",
    "  \"schema\": [\n",
    "    {\n",
    "      \"type\": \"STRING\", \n",
    "      \"mode\": \"nullable\", \n",
    "      \"name\": \"SERIALNO\"\n",
    "    }, \n",
    "    {\n",
    "      \"type\": \"FLOAT\", \n",
    "      \"mode\": \"nullable\", \n",
    "      \"name\": \"predicted_target\"\n",
    "    }, \n",
    "    {\n",
    "      \"type\": \"FLOAT\", \n",
    "      \"mode\": \"nullable\", \n",
    "      \"name\": \"target_from_input\"\n",
    "    }\n",
    "  ]\n",
    "}"
   ]
  },
  {
   "cell_type": "code",
   "execution_count": 11,
   "metadata": {
    "collapsed": false
   },
   "outputs": [
    {
     "data": {
      "text/html": [
       "\n",
       "    <div class=\"bqtv\" id=\"1_148891620523\"><table><tr><th>rmse</th></tr><tr><td>22.5320650078</td></tr></table></div>\n",
       "    <br />(rows: 1, time: 2.4s,    16KB processed, job: job_l3CHY9PT5jIAlCpZ0na9uRHIavE)<br />\n",
       "    <script>\n",
       "\n",
       "      require.config({\n",
       "        paths: {\n",
       "          d3: '//cdnjs.cloudflare.com/ajax/libs/d3/3.4.13/d3',\n",
       "          plotly: 'https://cdn.plot.ly/plotly-1.5.1.min.js?noext',\n",
       "          jquery: '//ajax.googleapis.com/ajax/libs/jquery/2.0.0/jquery.min'\n",
       "        },\n",
       "        map: {\n",
       "          '*': {\n",
       "            datalab: 'nbextensions/gcpdatalab'\n",
       "          }\n",
       "        },\n",
       "        shim: {\n",
       "          plotly: {\n",
       "            deps: ['d3', 'jquery'],\n",
       "            exports: 'plotly'\n",
       "          }\n",
       "        }\n",
       "      });\n",
       "\n",
       "      require(['datalab/charting', 'datalab/element!1_148891620523', 'base/js/events',\n",
       "          'datalab/style!/nbextensions/gcpdatalab/charting.css'],\n",
       "        function(charts, dom, events) {\n",
       "          charts.render('gcharts', dom, events, 'table', [], {\"rows\": [{\"c\": [{\"v\": 22.53206500780474}]}], \"cols\": [{\"type\": \"number\", \"id\": \"rmse\", \"label\": \"rmse\"}]},\n",
       "            {\n",
       "              pageSize: 25,\n",
       "              cssClassNames:  {\n",
       "                tableRow: 'gchart-table-row',\n",
       "                headerRow: 'gchart-table-headerrow',\n",
       "                oddTableRow: 'gchart-table-oddrow',\n",
       "                selectedTableRow: 'gchart-table-selectedrow',\n",
       "                hoverTableRow: 'gchart-table-hoverrow',\n",
       "                tableCell: 'gchart-table-cell',\n",
       "                headerCell: 'gchart-table-headercell',\n",
       "                rowNumberCell: 'gchart-table-rownumcell'\n",
       "              }\n",
       "            },\n",
       "            {source_index: 0, fields: 'rmse'},\n",
       "            0,\n",
       "            1);\n",
       "        }\n",
       "      );\n",
       "    </script>\n",
       "  "
      ],
      "text/plain": [
       "QueryResultsTable job_l3CHY9PT5jIAlCpZ0na9uRHIavE"
      ]
     },
     "execution_count": 11,
     "metadata": {},
     "output_type": "execute_result"
    }
   ],
   "source": [
    "%bq query --datasource eval_results\n",
    "SELECT SQRT(AVG(error)) AS rmse FROM (\n",
    "  SELECT POW(target_from_input - predicted_target, 2) AS error\n",
    "  FROM eval_results\n",
    ")"
   ]
  },
  {
   "cell_type": "code",
   "execution_count": 12,
   "metadata": {
    "collapsed": true
   },
   "outputs": [],
   "source": [
    "%bq query --name distribution_query --datasource eval_results\n",
    "WITH errors AS (\n",
    "  SELECT predicted_target - target_from_input AS error\n",
    "  FROM eval_results\n",
    "),\n",
    "error_stats AS (\n",
    "  SELECT MIN(error) AS min_error, MAX(error) - MIN(error) AS error_range FROM errors\n",
    "),\n",
    "quantized_errors AS (\n",
    "  SELECT error, FLOOR((error - min_error) * 20 / error_range) error_bin FROM errors CROSS JOIN error_stats\n",
    ")\n",
    "SELECT AVG(error) AS error, COUNT(error_bin) AS instances\n",
    "FROM quantized_errors\n",
    "GROUP BY error_bin\n",
    "ORDER BY error_bin"
   ]
  },
  {
   "cell_type": "code",
   "execution_count": 13,
   "metadata": {
    "collapsed": false
   },
   "outputs": [
    {
     "data": {
      "text/html": [
       "\n",
       "    <div class=\"bqgc-container\">\n",
       "      \n",
       "      <div class=\"bqgc \" id=\"1_148891621236\">\n",
       "      </div>\n",
       "    </div>\n",
       "    <script>\n",
       "\n",
       "      require.config({\n",
       "        paths: {\n",
       "          d3: '//cdnjs.cloudflare.com/ajax/libs/d3/3.4.13/d3',\n",
       "          plotly: 'https://cdn.plot.ly/plotly-1.5.1.min.js?noext',\n",
       "          jquery: '//ajax.googleapis.com/ajax/libs/jquery/2.0.0/jquery.min'\n",
       "        },\n",
       "        map: {\n",
       "          '*': {\n",
       "            datalab: 'nbextensions/gcpdatalab'\n",
       "          }\n",
       "        },\n",
       "        shim: {\n",
       "          plotly: {\n",
       "            deps: ['d3', 'jquery'],\n",
       "            exports: 'plotly'\n",
       "          }\n",
       "        }\n",
       "      });\n",
       "\n",
       "      require(['datalab/charting',\n",
       "               'datalab/element!1_148891621236',\n",
       "               'base/js/events',\n",
       "               'datalab/style!/nbextensions/gcpdatalab/charting.css'\n",
       "              ],\n",
       "        function(charts, dom, events) {\n",
       "          charts.render(\n",
       "              'gcharts',\n",
       "              dom,\n",
       "              events,\n",
       "              'columns',\n",
       "              [],\n",
       "              {\"rows\": [{\"c\": [{\"v\": -89.4301185608}, {\"v\": 3}]}, {\"c\": [{\"v\": -79.37975883485}, {\"v\": 2}]}, {\"c\": [{\"v\": -63.163883209199994}, {\"v\": 2}]}, {\"c\": [{\"v\": -58.8689069748}, {\"v\": 8}]}, {\"c\": [{\"v\": -46.7255780697}, {\"v\": 8}]}, {\"c\": [{\"v\": -37.42024330471739}, {\"v\": 23}]}, {\"c\": [{\"v\": -26.821185398108668}, {\"v\": 30}]}, {\"c\": [{\"v\": -16.499429417887143}, {\"v\": 77}]}, {\"c\": [{\"v\": -6.625599176988115}, {\"v\": 138}]}, {\"c\": [{\"v\": 3.2324592993130437}, {\"v\": 161}]}, {\"c\": [{\"v\": 12.520757461077551}, {\"v\": 98}]}, {\"c\": [{\"v\": 23.046391963957692}, {\"v\": 26}]}, {\"c\": [{\"v\": 33.73932833139444}, {\"v\": 18}]}, {\"c\": [{\"v\": 43.7887186571}, {\"v\": 11}]}, {\"c\": [{\"v\": 52.35976859501429}, {\"v\": 7}]}, {\"c\": [{\"v\": 62.456979370099994}, {\"v\": 5}]}, {\"c\": [{\"v\": 72.0627975464}, {\"v\": 1}]}, {\"c\": [{\"v\": 104.643608093}, {\"v\": 1}]}, {\"c\": [{\"v\": 110.827651978}, {\"v\": 1}]}], \"cols\": [{\"type\": \"number\", \"id\": \"error\", \"label\": \"error\"}, {\"type\": \"number\", \"id\": \"instances\", \"label\": \"instances\"}]},\n",
       "              {},\n",
       "              {\"fields\": \"error,instances\", \"source_index\": 0, \"name\": 0},\n",
       "              0,\n",
       "              19);\n",
       "          }\n",
       "        );\n",
       "    </script>\n",
       "  "
      ],
      "text/plain": [
       "<IPython.core.display.HTML object>"
      ]
     },
     "execution_count": 13,
     "metadata": {},
     "output_type": "execute_result"
    },
    {
     "data": {
      "image/png": "[encoded data removed]"
     },
     "metadata": {
      "source_id": "1_148891621236"
     },
     "output_type": "display_data"
    }
   ],
   "source": [
    "%chart columns --data distribution_query --fields error,instances"
   ]
  },
  {
   "cell_type": "markdown",
   "metadata": {},
   "source": [
    "As shown with the queries and chart, SQL and BigQuery can be used to analyze large evaluation results to understand how the model performs. In this case, the error as well as distribution of errors."
   ]
  },
  {
   "cell_type": "markdown",
   "metadata": {},
   "source": [
    "## Next Steps\n",
    "\n",
    "We're almost done. Now that we have a model, our next step will be to deploy it and use it for predictions. This will be covered in the [next notebook](./5 Service Predict.ipynb)."
   ]
  }
 ],
 "metadata": {
  "kernelspec": {
   "display_name": "Python 2",
   "language": "python",
   "name": "python2"
  },
  "language_info": {
   "codemirror_mode": {
    "name": "ipython",
    "version": 2
   },
   "file_extension": ".py",
   "mimetype": "text/x-python",
   "name": "python",
   "nbconvert_exporter": "python",
   "pygments_lexer": "ipython2",
   "version": "2.7.9"
  }
 },
 "nbformat": 4,
 "nbformat_minor": 2
}
