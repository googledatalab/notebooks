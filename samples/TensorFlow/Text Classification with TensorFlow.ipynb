{
 "cells": [
  {
   "cell_type": "markdown",
   "metadata": {},
   "source": [
    "# About the data\n",
    "\n",
    "The 20 newsgroups dataset comprises around 18000 newsgroups posts on 20 topics. The classification problem is to identify the newsgroup a post was summited to, given the text of the post.\n",
    "\n",
    "There are a few versions of this dataset from different sources online. Below, we use the version within scikit-learn which is already split into a train and test/eval set. For a longer introduction to this dataset, see the [scikit-learn website](http://scikit-learn.org/stable/datasets/twenty_newsgroups.html)\n",
    "\n",
    "This sequence of notebooks will write files to the file system under the WORKSPACE_PATH folder. Feel free to change this location in the next cell."
   ]
  },
  {
   "cell_type": "code",
   "execution_count": 4,
   "metadata": {
    "collapsed": false
   },
   "outputs": [
    {
     "data": {
      "text/html": [
       "\n",
       "          <script src=\"/static/components/requirejs/require.js\"></script>\n",
       "          <script>\n",
       "            requirejs.config({\n",
       "              paths: {\n",
       "                base: '/static/base',\n",
       "              },\n",
       "            });\n",
       "          </script>\n",
       "          "
      ],
      "text/plain": [
       "<IPython.core.display.HTML object>"
      ]
     },
     "metadata": {},
     "output_type": "display_data"
    }
   ],
   "source": [
    "# Note this path must be under /content/datalab in Datalab.\n",
    "# It is not recommended to use paths in /content/datalab/docs\n",
    "WORKSPACE_PATH = '/content/datalab/workspace/tf/text_classification_20newsgroup'\n",
    "!mkdir -p {WORKSPACE_PATH}\n",
    "\n",
    "import os\n",
    "os.chdir(WORKSPACE_PATH)"
   ]
  },
  {
   "cell_type": "code",
   "execution_count": 5,
   "metadata": {
    "collapsed": false
   },
   "outputs": [
    {
     "data": {
      "text/html": [
       "\n",
       "          <script src=\"/static/components/requirejs/require.js\"></script>\n",
       "          <script>\n",
       "            requirejs.config({\n",
       "              paths: {\n",
       "                base: '/static/base',\n",
       "              },\n",
       "            });\n",
       "          </script>\n",
       "          "
      ],
      "text/plain": [
       "<IPython.core.display.HTML object>"
      ]
     },
     "metadata": {},
     "output_type": "display_data"
    }
   ],
   "source": [
    "import numpy as np\n",
    "import pandas as pd\n",
    "import os\n",
    "import re\n",
    "import csv\n",
    "\n",
    "from sklearn.datasets import fetch_20newsgroups"
   ]
  },
  {
   "cell_type": "code",
   "execution_count": 10,
   "metadata": {
    "collapsed": false
   },
   "outputs": [
    {
     "data": {
      "text/html": [
       "\n",
       "          <script src=\"/static/components/requirejs/require.js\"></script>\n",
       "          <script>\n",
       "            requirejs.config({\n",
       "              paths: {\n",
       "                base: '/static/base',\n",
       "              },\n",
       "            });\n",
       "          </script>\n",
       "          "
      ],
      "text/plain": [
       "<IPython.core.display.HTML object>"
      ]
     },
     "metadata": {},
     "output_type": "display_data"
    },
    {
     "name": "stderr",
     "output_type": "stream",
     "text": [
      "No handlers could be found for logger \"sklearn.datasets.twenty_newsgroups\"\n"
     ]
    }
   ],
   "source": [
    "# data will be downloaded. Note that an error message saying something like \"No handlers could be found for \n",
    "# logger sklearn.datasets.twenty_newsgroups\" might be printed, but this is not an error.\n",
    "news_train_data = fetch_20newsgroups(subset='train', shuffle=True, random_state=42, remove=('headers', 'footers', 'quotes'))\n",
    "news_test_data = fetch_20newsgroups(subset='test', shuffle=True, random_state=42, remove=('headers', 'footers', 'quotes'))"
   ]
  },
  {
   "cell_type": "markdown",
   "metadata": {},
   "source": [
    "# Inspecting and cleaning the raw data"
   ]
  },
  {
   "cell_type": "markdown",
   "metadata": {},
   "source": [
    "The distribution of labels/newsgroups within the training and test datasets are almost uniform. But more importantly, the distribution between test and training is about the same. Note that the first column is the integer id for the newsgroup while the 2nd column is the number of text examples with this newsgroup label."
   ]
  },
  {
   "cell_type": "markdown",
   "metadata": {},
   "source": [
    "Printing the 3rd element in the test dataset shows the data contains text with newlines, punctuation, misspellings, and other items common in text documents. To build a model, we will clean up the text by removing some of these issues."
   ]
  },
  {
   "cell_type": "code",
   "execution_count": 4,
   "metadata": {
    "collapsed": false
   },
   "outputs": [
    {
     "data": {
      "text/plain": [
       "(u'well folks, my mac plus finally gave up the ghost this weekend after\\nstarting life as a 512k way back in 1985.  sooo, i\\'m in the market for a\\nnew machine a bit sooner than i intended to be...\\n\\ni\\'m looking into picking up a powerbook 160 or maybe 180 and have a bunch\\nof questions that (hopefully) somebody can answer:\\n\\n* does anybody know any dirt on when the next round of powerbook\\nintroductions are expected?  i\\'d heard the 185c was supposed to make an\\nappearence \"this summer\" but haven\\'t heard anymore on it - and since i\\ndon\\'t have access to macleak, i was wondering if anybody out there had\\nmore info...\\n\\n* has anybody heard rumors about price drops to the powerbook line like the\\nones the duo\\'s just went through recently?\\n\\n* what\\'s the impression of the display on the 180?  i could probably swing\\na 180 if i got the 80Mb disk rather than the 120, but i don\\'t really have\\na feel for how much \"better\" the display is (yea, it looks great in the\\nstore, but is that all \"wow\" or is it really that good?).  could i solicit\\nsome opinions of people who use the 160 and 180 day-to-day on if its worth\\ntaking the disk size and money hit to get the active display?  (i realize\\nthis is a real subjective question, but i\\'ve only played around with the\\nmachines in a computer store breifly and figured the opinions of somebody\\nwho actually uses the machine daily might prove helpful).\\n\\n* how well does hellcats perform?  ;)\\n\\nthanks a bunch in advance for any info - if you could email, i\\'ll post a\\nsummary (news reading time is at a premium with finals just around the\\ncorner... :( )\\n--\\nTom Willis  \\\\  twillis@ecn.purdue.edu    \\\\    Purdue Electrical Engineering',\n",
       " 'comp.sys.mac.hardware')"
      ]
     },
     "execution_count": 4,
     "metadata": {},
     "output_type": "execute_result"
    }
   ],
   "source": [
    "news_train_data.data[2], news_train_data.target_names[news_train_data.target[2]]"
   ]
  },
  {
   "cell_type": "code",
   "execution_count": 11,
   "metadata": {
    "collapsed": false
   },
   "outputs": [
    {
     "data": {
      "text/html": [
       "\n",
       "          <script src=\"/static/components/requirejs/require.js\"></script>\n",
       "          <script>\n",
       "            requirejs.config({\n",
       "              paths: {\n",
       "                base: '/static/base',\n",
       "              },\n",
       "            });\n",
       "          </script>\n",
       "          "
      ],
      "text/plain": [
       "<IPython.core.display.HTML object>"
      ]
     },
     "metadata": {},
     "output_type": "display_data"
    }
   ],
   "source": [
    "def clean_and_tokenize_text(news_data):\n",
    "    \"\"\"Cleans some issues with the text data\n",
    "    Args:\n",
    "        news_data: list of text strings\n",
    "    Returns:\n",
    "        For each text string, an array of tokenized words are returned in a list\n",
    "    \"\"\"\n",
    "    cleaned_text = []\n",
    "    for text in news_data:\n",
    "        x = re.sub('[^\\w]|_', ' ', text)  # only keep numbers and letters and spaces\n",
    "        x = x.lower()\n",
    "        x = re.sub(r'[^\\x00-\\x7f]',r'', x)  # remove non ascii texts\n",
    "        tokens = [y for y in x.split(' ') if y] # remove empty words\n",
    "        tokens = ['[number]' if x.isdigit() else x for x in tokens]\n",
    "\n",
    "        # As an exercise, try stemming each token using python's nltk package.\n",
    "        cleaned_text.append(tokens)\n",
    "    return cleaned_text"
   ]
  },
  {
   "cell_type": "code",
   "execution_count": 12,
   "metadata": {
    "collapsed": false
   },
   "outputs": [
    {
     "data": {
      "text/html": [
       "\n",
       "          <script src=\"/static/components/requirejs/require.js\"></script>\n",
       "          <script>\n",
       "            requirejs.config({\n",
       "              paths: {\n",
       "                base: '/static/base',\n",
       "              },\n",
       "            });\n",
       "          </script>\n",
       "          "
      ],
      "text/plain": [
       "<IPython.core.display.HTML object>"
      ]
     },
     "metadata": {},
     "output_type": "display_data"
    }
   ],
   "source": [
    "clean_train_tokens = clean_and_tokenize_text(news_train_data.data)\n",
    "clean_test_tokens = clean_and_tokenize_text(news_test_data.data)"
   ]
  },
  {
   "cell_type": "code",
   "execution_count": 13,
   "metadata": {
    "collapsed": false
   },
   "outputs": [
    {
     "data": {
      "text/html": [
       "\n",
       "          <script src=\"/static/components/requirejs/require.js\"></script>\n",
       "          <script>\n",
       "            requirejs.config({\n",
       "              paths: {\n",
       "                base: '/static/base',\n",
       "              },\n",
       "            });\n",
       "          </script>\n",
       "          "
      ],
      "text/plain": [
       "<IPython.core.display.HTML object>"
      ]
     },
     "metadata": {},
     "output_type": "display_data"
    }
   ],
   "source": [
    "def get_unique_tokens_per_row(text_token_list):\n",
    "    \"\"\"Collect unique tokens per row.\n",
    "    Args:\n",
    "        text_token_list: list, where each element is a list containing tokenized text\n",
    "    Returns:\n",
    "        One list containing the unique tokens in every row. For example, if row one contained\n",
    "        ['pizza', 'pizza'] while row two contained ['pizza', 'cake', 'cake'], then the output list\n",
    "        would contain ['pizza' (from row 1), 'pizza' (from row 2), 'cake' (from row 2)]\n",
    "    \"\"\"\n",
    "    words = []\n",
    "    for row in text_token_list:\n",
    "        words.extend(list(set(row)))\n",
    "    return words"
   ]
  },
  {
   "cell_type": "code",
   "execution_count": 14,
   "metadata": {
    "collapsed": false
   },
   "outputs": [
    {
     "data": {
      "text/html": [
       "\n",
       "          <script src=\"/static/components/requirejs/require.js\"></script>\n",
       "          <script>\n",
       "            requirejs.config({\n",
       "              paths: {\n",
       "                base: '/static/base',\n",
       "              },\n",
       "            });\n",
       "          </script>\n",
       "          "
      ],
      "text/plain": [
       "<IPython.core.display.HTML object>"
      ]
     },
     "metadata": {},
     "output_type": "display_data"
    },
    {
     "data": {
      "text/plain": [
       "<matplotlib.axes._subplots.AxesSubplot at 0x7f95feb38b10>"
      ]
     },
     "execution_count": 14,
     "metadata": {},
     "output_type": "execute_result"
    },
    {
     "data": {
      "image/png": "[encoded data removed]",
      "text/plain": [
       "<matplotlib.figure.Figure at 0x7f95feb38250>"
      ]
     },
     "metadata": {},
     "output_type": "display_data"
    }
   ],
   "source": [
    "# Make a plot where the x-axis is a token, and the y-axis is how many text documents\n",
    "# that token is in. \n",
    "words = pd.DataFrame(get_unique_tokens_per_row(clean_train_tokens) , columns=['words'])\n",
    "token_frequency = words['words'].value_counts() # how many documents contain each token.\n",
    "token_frequency.plot(logy=True)"
   ]
  },
  {
   "cell_type": "markdown",
   "metadata": {},
   "source": [
    "Note that most of our tokens only appear in 1 document, while some appears almost every document. To build a good model, we should remove these low frequency tokens."
   ]
  },
  {
   "cell_type": "code",
   "execution_count": 15,
   "metadata": {
    "collapsed": false
   },
   "outputs": [
    {
     "data": {
      "text/html": [
       "\n",
       "          <script src=\"/static/components/requirejs/require.js\"></script>\n",
       "          <script>\n",
       "            requirejs.config({\n",
       "              paths: {\n",
       "                base: '/static/base',\n",
       "              },\n",
       "            });\n",
       "          </script>\n",
       "          "
      ],
      "text/plain": [
       "<IPython.core.display.HTML object>"
      ]
     },
     "metadata": {},
     "output_type": "display_data"
    },
    {
     "data": {
      "text/plain": [
       "(11314, 94231)"
      ]
     },
     "execution_count": 15,
     "metadata": {},
     "output_type": "execute_result"
    }
   ],
   "source": [
    "len(news_train_data.data), len(token_frequency)  # There are many more tokens than examples!"
   ]
  },
  {
   "cell_type": "code",
   "execution_count": 16,
   "metadata": {
    "collapsed": false
   },
   "outputs": [
    {
     "data": {
      "text/html": [
       "\n",
       "          <script src=\"/static/components/requirejs/require.js\"></script>\n",
       "          <script>\n",
       "            requirejs.config({\n",
       "              paths: {\n",
       "                base: '/static/base',\n",
       "              },\n",
       "            });\n",
       "          </script>\n",
       "          "
      ],
      "text/plain": [
       "<IPython.core.display.HTML object>"
      ]
     },
     "metadata": {},
     "output_type": "display_data"
    }
   ],
   "source": [
    "# Filter tokens.\n",
    "vocab = token_frequency[token_frequency > 10]"
   ]
  },
  {
   "cell_type": "code",
   "execution_count": 17,
   "metadata": {
    "collapsed": false
   },
   "outputs": [
    {
     "data": {
      "text/html": [
       "\n",
       "          <script src=\"/static/components/requirejs/require.js\"></script>\n",
       "          <script>\n",
       "            requirejs.config({\n",
       "              paths: {\n",
       "                base: '/static/base',\n",
       "              },\n",
       "            });\n",
       "          </script>\n",
       "          "
      ],
      "text/plain": [
       "<IPython.core.display.HTML object>"
      ]
     },
     "metadata": {},
     "output_type": "display_data"
    },
    {
     "data": {
      "text/plain": [
       "<matplotlib.axes._subplots.AxesSubplot at 0x7f966370dc90>"
      ]
     },
     "execution_count": 17,
     "metadata": {},
     "output_type": "execute_result"
    },
    {
     "data": {
      "image/png": "[encoded data removed]",
      "text/plain": [
       "<matplotlib.figure.Figure at 0x7f96636b0590>"
      ]
     },
     "metadata": {},
     "output_type": "display_data"
    }
   ],
   "source": [
    "vocab.plot(logy=True)"
   ]
  },
  {
   "cell_type": "code",
   "execution_count": 18,
   "metadata": {
    "collapsed": false
   },
   "outputs": [
    {
     "data": {
      "text/html": [
       "\n",
       "          <script src=\"/static/components/requirejs/require.js\"></script>\n",
       "          <script>\n",
       "            requirejs.config({\n",
       "              paths: {\n",
       "                base: '/static/base',\n",
       "              },\n",
       "            });\n",
       "          </script>\n",
       "          "
      ],
      "text/plain": [
       "<IPython.core.display.HTML object>"
      ]
     },
     "metadata": {},
     "output_type": "display_data"
    }
   ],
   "source": [
    "import six \n",
    "\n",
    "CONTROL_WORDS = ['<s>', '</s>', '<unk>']\n",
    "\n",
    "vocab_id = {v[0]: idx + 1 for idx, v in enumerate(sorted(six.iteritems(vocab), key=lambda x: x[1], reverse=True))}\n",
    "for c in CONTROL_WORDS:\n",
    "  vocab_id[c] = len(vocab_id)"
   ]
  },
  {
   "cell_type": "code",
   "execution_count": 19,
   "metadata": {
    "collapsed": false
   },
   "outputs": [
    {
     "data": {
      "text/html": [
       "\n",
       "          <script src=\"/static/components/requirejs/require.js\"></script>\n",
       "          <script>\n",
       "            requirejs.config({\n",
       "              paths: {\n",
       "                base: '/static/base',\n",
       "              },\n",
       "            });\n",
       "          </script>\n",
       "          "
      ],
      "text/plain": [
       "<IPython.core.display.HTML object>"
      ]
     },
     "metadata": {},
     "output_type": "display_data"
    }
   ],
   "source": [
    "def filter_text_by_vocab(news_data, vocab_id):\n",
    "    \"\"\"Removes tokens if not in vocab.\n",
    "    Args:\n",
    "        news_data: list, where each element is a token list\n",
    "        vocab: set containing the tokens to keep.\n",
    "    Returns:\n",
    "        List of strings containing the final cleaned text data\n",
    "    \"\"\"\n",
    "    wids_all = []\n",
    "    for row in news_data:\n",
    "        wids = [vocab_id[token] if (token in vocab_id) else vocab_id['<unk>'] for token in row]\n",
    "        wids = [vocab_id['<s>']] + wids + [vocab_id['</s>']]\n",
    "        wids = wids[:128]\n",
    "        wids_all.append(wids)\n",
    "    return wids_all\n",
    "  \n",
    "clean_train_data = filter_text_by_vocab(clean_train_tokens, vocab_id)\n",
    "clean_test_data = filter_text_by_vocab(clean_test_tokens, vocab_id)  "
   ]
  },
  {
   "cell_type": "code",
   "execution_count": 20,
   "metadata": {
    "collapsed": false
   },
   "outputs": [
    {
     "data": {
      "text/html": [
       "\n",
       "          <script src=\"/static/components/requirejs/require.js\"></script>\n",
       "          <script>\n",
       "            requirejs.config({\n",
       "              paths: {\n",
       "                base: '/static/base',\n",
       "              },\n",
       "            });\n",
       "          </script>\n",
       "          "
      ],
      "text/plain": [
       "<IPython.core.display.HTML object>"
      ]
     },
     "metadata": {},
     "output_type": "display_data"
    },
    {
     "data": {
      "text/plain": [
       "(11314, 11314, 7532, 7532)"
      ]
     },
     "execution_count": 20,
     "metadata": {},
     "output_type": "execute_result"
    }
   ],
   "source": [
    "# As a check, let's make sure we didn't remove any data rows.\n",
    "len(clean_train_data), len(news_train_data.data), len(clean_test_data), len(news_test_data.data)"
   ]
  },
  {
   "cell_type": "code",
   "execution_count": 21,
   "metadata": {
    "collapsed": false
   },
   "outputs": [
    {
     "data": {
      "text/html": [
       "\n",
       "          <script src=\"/static/components/requirejs/require.js\"></script>\n",
       "          <script>\n",
       "            requirejs.config({\n",
       "              paths: {\n",
       "                base: '/static/base',\n",
       "              },\n",
       "            });\n",
       "          </script>\n",
       "          "
      ],
      "text/plain": [
       "<IPython.core.display.HTML object>"
      ]
     },
     "metadata": {},
     "output_type": "display_data"
    },
    {
     "data": {
      "text/plain": [
       "9587"
      ]
     },
     "execution_count": 21,
     "metadata": {},
     "output_type": "execute_result"
    }
   ],
   "source": [
    "# vocab size\n",
    "len(vocab_id)"
   ]
  },
  {
   "cell_type": "code",
   "execution_count": 22,
   "metadata": {
    "collapsed": false
   },
   "outputs": [
    {
     "data": {
      "text/html": [
       "\n",
       "          <script src=\"/static/components/requirejs/require.js\"></script>\n",
       "          <script>\n",
       "            requirejs.config({\n",
       "              paths: {\n",
       "                base: '/static/base',\n",
       "              },\n",
       "            });\n",
       "          </script>\n",
       "          "
      ],
      "text/plain": [
       "<IPython.core.display.HTML object>"
      ]
     },
     "metadata": {},
     "output_type": "display_data"
    }
   ],
   "source": [
    "def pad_wids(wids, length):\n",
    "    \"\"\"Pad each instance to \"\"\"\n",
    "    padded = []\n",
    "    for r in wids:\n",
    "        if len(r) >= length:\n",
    "            padded.append(r[0:length])\n",
    "        else:\n",
    "            padded.append(r + [0] * (length - len(r)))\n",
    "    return padded\n",
    "  \n",
    "padded_train_data = pad_wids(clean_train_data, 128)\n",
    "padded_test_data = pad_wids(clean_test_data, 128)  "
   ]
  },
  {
   "cell_type": "markdown",
   "metadata": {},
   "source": [
    "# Build a DNN model\n",
    "\n",
    "We'll first build a simple DNN model with only 3 layers: input, embeddings, and output."
   ]
  },
  {
   "cell_type": "code",
   "execution_count": 23,
   "metadata": {
    "collapsed": false
   },
   "outputs": [
    {
     "data": {
      "text/html": [
       "\n",
       "          <script src=\"/static/components/requirejs/require.js\"></script>\n",
       "          <script>\n",
       "            requirejs.config({\n",
       "              paths: {\n",
       "                base: '/static/base',\n",
       "              },\n",
       "            });\n",
       "          </script>\n",
       "          "
      ],
      "text/plain": [
       "<IPython.core.display.HTML object>"
      ]
     },
     "metadata": {},
     "output_type": "display_data"
    }
   ],
   "source": [
    "import tensorflow as tf\n",
    "import shutil\n",
    "import tensorflow.contrib.learn as tflearn\n",
    "import tensorflow.contrib.layers as tflayers\n",
    "from tensorflow.contrib.learn.python.learn import learn_runner\n",
    "from tensorflow.contrib.learn.python.learn.utils import saved_model_export_utils\n",
    "from google.datalab.ml import Summary\n",
    "\n",
    "TRAIN_BATCH_SIZE = 64\n",
    "EVAL_BATCH_SIZE = 512\n",
    "EMBEDDING_SIZE = 512"
   ]
  },
  {
   "cell_type": "code",
   "execution_count": 24,
   "metadata": {
    "collapsed": false
   },
   "outputs": [
    {
     "data": {
      "text/html": [
       "\n",
       "          <script src=\"/static/components/requirejs/require.js\"></script>\n",
       "          <script>\n",
       "            requirejs.config({\n",
       "              paths: {\n",
       "                base: '/static/base',\n",
       "              },\n",
       "            });\n",
       "          </script>\n",
       "          "
      ],
      "text/plain": [
       "<IPython.core.display.HTML object>"
      ]
     },
     "metadata": {},
     "output_type": "display_data"
    }
   ],
   "source": [
    "def dnn_model(batch_size, train_data, targets, mode):\n",
    "    \"\"\"Build an DNN Model. \"\"\"\n",
    "    \n",
    "    with tf.name_scope(mode):\n",
    "        raw_data = tf.convert_to_tensor(train_data, dtype=tf.int64)\n",
    "        targets = tf.convert_to_tensor(targets, dtype=tf.int64)\n",
    "        batch_num = len(train_data) // batch_size - 1\n",
    "        i = tf.train.range_input_producer(batch_num, shuffle=True).dequeue()\n",
    "        input_seqs = raw_data[i * batch_size: (i + 1) * batch_size]\n",
    "        targets = targets[i * batch_size: (i + 1) * batch_size]\n",
    "        length = tf.count_nonzero(input_seqs, axis=1, dtype=tf.int32)\n",
    "\n",
    "    embedding_map = tf.get_variable(\n",
    "        name=\"embeddings_map\",\n",
    "        shape=[len(vocab_id), EMBEDDING_SIZE])\n",
    "    seq_embeddings = tf.nn.embedding_lookup(embedding_map, input_seqs)\n",
    "    \n",
    "    # Simply combine embeddings.\n",
    "    combined = tf.sqrt(tf.reduce_sum(tf.square(seq_embeddings), 1))\n",
    "\n",
    "    logits = tf.contrib.layers.fully_connected(\n",
    "        inputs=combined,\n",
    "        num_outputs=20,\n",
    "        activation_fn=None)\n",
    "\n",
    "    cross_entropy = tf.nn.sparse_softmax_cross_entropy_with_logits(labels=targets, logits=logits)\n",
    "    losses= tf.reduce_mean(cross_entropy, name='xentropy_mean')\n",
    "    predictions = tf.argmax(logits, 1)\n",
    "    _, accuracy = tf.contrib.metrics.streaming_accuracy(targets, predictions)\n",
    "    correct_predictions = tf.count_nonzero(tf.equal(predictions, targets))\n",
    "    return losses, accuracy, correct_predictions"
   ]
  },
  {
   "cell_type": "code",
   "execution_count": 29,
   "metadata": {
    "collapsed": false
   },
   "outputs": [
    {
     "data": {
      "text/html": [
       "\n",
       "          <script src=\"/static/components/requirejs/require.js\"></script>\n",
       "          <script>\n",
       "            requirejs.config({\n",
       "              paths: {\n",
       "                base: '/static/base',\n",
       "              },\n",
       "            });\n",
       "          </script>\n",
       "          "
      ],
      "text/plain": [
       "<IPython.core.display.HTML object>"
      ]
     },
     "metadata": {},
     "output_type": "display_data"
    }
   ],
   "source": [
    "def train(model_fn, train_steps, model_dir):\n",
    "    \"\"\"Model trainer.\"\"\"\n",
    "\n",
    "    g = tf.Graph()\n",
    "    with g.as_default():\n",
    "        uniform_initializer = tf.random_uniform_initializer(minval=-0.08, maxval=0.08)\n",
    "        with tf.variable_scope(\"Model\", reuse=None, initializer=uniform_initializer):\n",
    "            losses_train, _, _ = model_fn(TRAIN_BATCH_SIZE, padded_train_data, news_train_data.target, 'train')\n",
    "        with tf.variable_scope(\"Model\", reuse=True):\n",
    "            _, accuracy, correct_predictions = model_fn(EVAL_BATCH_SIZE, padded_test_data, news_test_data.target, 'eval')\n",
    "\n",
    "        tf.summary.scalar('accuracy', accuracy)        \n",
    "        tf.summary.scalar('losses', losses_train)  \n",
    "        merged = tf.summary.merge_all()        \n",
    "        \n",
    "        global_step = tf.Variable(\n",
    "            initial_value=0,\n",
    "            name=\"global_step\",\n",
    "            trainable=False,\n",
    "            collections=[tf.GraphKeys.GLOBAL_STEP, tf.GraphKeys.GLOBAL_VARIABLES])\n",
    "    \n",
    "        train_op = tf.contrib.layers.optimize_loss(\n",
    "            loss=losses_train,\n",
    "            global_step=global_step,\n",
    "            learning_rate=0.001,\n",
    "            optimizer='Adam')\n",
    "\n",
    "    def train_step_fn(sess, *args, **kwargs):\n",
    "        total_loss, should_stop = tf.contrib.slim.python.slim.learning.train_step(sess, *args, **kwargs)\n",
    "\n",
    "        if train_step_fn.train_steps % 50 == 0:\n",
    "            summary = sess.run(merged)\n",
    "            train_step_fn.eval_writer.add_summary(summary, train_step_fn.train_steps)\n",
    "            total_correct_predictions = 0\n",
    "            num_eval_batches = len(padded_test_data) / EVAL_BATCH_SIZE\n",
    "            for i in range(len(padded_test_data) / EVAL_BATCH_SIZE):\n",
    "                total_correct_predictions += sess.run(correct_predictions)\n",
    "            print('accuracy: %.4f' % (float(total_correct_predictions)/(num_eval_batches*EVAL_BATCH_SIZE)))\n",
    "\n",
    "        train_step_fn.train_steps += 1\n",
    "        return [total_loss, should_stop] \n",
    "\n",
    "    train_step_fn.train_steps = 0\n",
    "    train_step_fn.eval_writer = tf.summary.FileWriter(os.path.join(model_dir, 'eval'))\n",
    "\n",
    "    tf.contrib.slim.learning.train(\n",
    "        train_op,\n",
    "        model_dir,\n",
    "        graph=g,\n",
    "        global_step=global_step,\n",
    "        number_of_steps=train_steps,\n",
    "        log_every_n_steps=50,  \n",
    "        train_step_fn=train_step_fn)\n",
    "    train_step_fn.eval_writer.close()"
   ]
  },
  {
   "cell_type": "code",
   "execution_count": 35,
   "metadata": {
    "collapsed": false
   },
   "outputs": [
    {
     "data": {
      "text/html": [
       "\n",
       "          <script src=\"/static/components/requirejs/require.js\"></script>\n",
       "          <script>\n",
       "            requirejs.config({\n",
       "              paths: {\n",
       "                base: '/static/base',\n",
       "              },\n",
       "            });\n",
       "          </script>\n",
       "          "
      ],
      "text/plain": [
       "<IPython.core.display.HTML object>"
      ]
     },
     "metadata": {},
     "output_type": "display_data"
    }
   ],
   "source": [
    "# Start from fresh. Note that you can skip this step to continue training from previous checkpoint.\n",
    "!rm -rf dnn"
   ]
  },
  {
   "cell_type": "code",
   "execution_count": 36,
   "metadata": {
    "collapsed": false
   },
   "outputs": [
    {
     "data": {
      "text/html": [
       "\n",
       "          <script src=\"/static/components/requirejs/require.js\"></script>\n",
       "          <script>\n",
       "            requirejs.config({\n",
       "              paths: {\n",
       "                base: '/static/base',\n",
       "              },\n",
       "            });\n",
       "          </script>\n",
       "          "
      ],
      "text/plain": [
       "<IPython.core.display.HTML object>"
      ]
     },
     "metadata": {},
     "output_type": "display_data"
    },
    {
     "name": "stdout",
     "output_type": "stream",
     "text": [
      "INFO:tensorflow:Starting Session.\n",
      "INFO:tensorflow:Saving checkpoint to path dnn/model.ckpt\n",
      "INFO:tensorflow:Starting Queues.\n",
      "INFO:tensorflow:global_step/sec: 0\n",
      "INFO:tensorflow:Recording summary at step 0.\n",
      "accuracy: 0.0532\n",
      "INFO:tensorflow:global step 50: loss = 2.8257 (0.041 sec/step)\n",
      "accuracy: 0.1692\n",
      "INFO:tensorflow:global step 100: loss = 2.3956 (0.042 sec/step)\n",
      "accuracy: 0.3608\n",
      "INFO:tensorflow:global step 150: loss = 2.1872 (0.040 sec/step)\n",
      "accuracy: 0.5296\n",
      "INFO:tensorflow:global step 200: loss = 1.5957 (0.039 sec/step)\n",
      "accuracy: 0.5988\n",
      "INFO:tensorflow:global step 250: loss = 1.5946 (0.040 sec/step)\n",
      "accuracy: 0.6339\n",
      "INFO:tensorflow:global step 300: loss = 1.3473 (0.038 sec/step)\n",
      "accuracy: 0.6441\n",
      "INFO:tensorflow:global step 350: loss = 0.9924 (0.038 sec/step)\n",
      "accuracy: 0.6684\n",
      "INFO:tensorflow:global step 400: loss = 0.7074 (0.039 sec/step)\n",
      "accuracy: 0.6596\n",
      "INFO:tensorflow:global step 450: loss = 0.8210 (0.038 sec/step)\n",
      "accuracy: 0.6685\n",
      "INFO:tensorflow:global step 500: loss = 0.7930 (0.040 sec/step)\n",
      "accuracy: 0.6758\n",
      "INFO:tensorflow:global step 550: loss = 0.7423 (0.040 sec/step)\n",
      "accuracy: 0.6802\n",
      "INFO:tensorflow:global step 600: loss = 0.5490 (0.038 sec/step)\n",
      "accuracy: 0.6773\n",
      "INFO:tensorflow:global step 650: loss = 0.4895 (0.038 sec/step)\n",
      "accuracy: 0.6756\n",
      "INFO:tensorflow:global step 700: loss = 0.2920 (0.040 sec/step)\n",
      "accuracy: 0.6875\n",
      "INFO:tensorflow:global step 750: loss = 0.3023 (0.040 sec/step)\n",
      "accuracy: 0.6858\n",
      "INFO:tensorflow:global step 800: loss = 0.2700 (0.039 sec/step)\n",
      "accuracy: 0.6886\n",
      "INFO:tensorflow:global step 850: loss = 0.5923 (0.039 sec/step)\n",
      "accuracy: 0.6812\n",
      "INFO:tensorflow:global step 900: loss = 0.2375 (0.038 sec/step)\n",
      "accuracy: 0.6876\n",
      "INFO:tensorflow:global step 950: loss = 0.3680 (0.037 sec/step)\n",
      "accuracy: 0.6847\n",
      "INFO:tensorflow:global step 1000: loss = 0.2431 (0.038 sec/step)\n",
      "accuracy: 0.6848\n",
      "INFO:tensorflow:global step 1050: loss = 0.2618 (0.038 sec/step)\n",
      "accuracy: 0.6885\n",
      "INFO:tensorflow:global step 1100: loss = 0.1458 (0.041 sec/step)\n",
      "accuracy: 0.6818\n",
      "INFO:tensorflow:global step 1150: loss = 0.2539 (0.043 sec/step)\n",
      "accuracy: 0.6815\n",
      "INFO:tensorflow:global step 1200: loss = 0.2443 (0.039 sec/step)\n",
      "accuracy: 0.6828\n",
      "INFO:tensorflow:global step 1250: loss = 0.3157 (0.042 sec/step)\n",
      "accuracy: 0.6780\n",
      "INFO:tensorflow:global step 1300: loss = 0.2810 (0.042 sec/step)\n",
      "accuracy: 0.6815\n",
      "INFO:tensorflow:global step 1350: loss = 0.1773 (0.042 sec/step)\n",
      "accuracy: 0.6777\n",
      "INFO:tensorflow:global step 1400: loss = 0.0741 (0.039 sec/step)\n",
      "accuracy: 0.6850\n",
      "INFO:tensorflow:global step 1450: loss = 0.2511 (0.039 sec/step)\n",
      "accuracy: 0.6772\n",
      "INFO:tensorflow:global step 1500: loss = 0.2522 (0.039 sec/step)\n",
      "accuracy: 0.6699\n",
      "INFO:tensorflow:Stopping Training.\n",
      "INFO:tensorflow:Finished training! Saving model to disk.\n"
     ]
    }
   ],
   "source": [
    "train(dnn_model, train_steps=1501, model_dir='dnn')"
   ]
  },
  {
   "cell_type": "code",
   "execution_count": 37,
   "metadata": {
    "collapsed": false
   },
   "outputs": [
    {
     "data": {
      "text/html": [
       "\n",
       "          <script src=\"/static/components/requirejs/require.js\"></script>\n",
       "          <script>\n",
       "            requirejs.config({\n",
       "              paths: {\n",
       "                base: '/static/base',\n",
       "              },\n",
       "            });\n",
       "          </script>\n",
       "          "
      ],
      "text/plain": [
       "<IPython.core.display.HTML object>"
      ]
     },
     "metadata": {},
     "output_type": "display_data"
    },
    {
     "data": {
      "image/png": "[encoded data removed]",
      "text/plain": [
       "<matplotlib.figure.Figure at 0x7f96639b7150>"
      ]
     },
     "metadata": {},
     "output_type": "display_data"
    }
   ],
   "source": [
    "summary = Summary('dnn/eval')\n",
    "summary.plot(['losses', 'accuracy'])"
   ]
  },
  {
   "cell_type": "markdown",
   "metadata": {},
   "source": [
    "# Build a bidirectional LSTM model\n",
    "\n",
    "Let's try an LSTM based sequential model and see if it can beat DNN."
   ]
  },
  {
   "cell_type": "code",
   "execution_count": 38,
   "metadata": {
    "collapsed": false
   },
   "outputs": [
    {
     "data": {
      "text/html": [
       "\n",
       "          <script src=\"/static/components/requirejs/require.js\"></script>\n",
       "          <script>\n",
       "            requirejs.config({\n",
       "              paths: {\n",
       "                base: '/static/base',\n",
       "              },\n",
       "            });\n",
       "          </script>\n",
       "          "
      ],
      "text/plain": [
       "<IPython.core.display.HTML object>"
      ]
     },
     "metadata": {},
     "output_type": "display_data"
    }
   ],
   "source": [
    "LSTM_SIZE=128\n",
    "\n",
    "def lstm_model(batch_size, train_data, targets, mode):\n",
    "    \"\"\"Build an LSTM Model. \"\"\"\n",
    "    \n",
    "    with tf.name_scope(mode):\n",
    "        raw_data = tf.convert_to_tensor(train_data, dtype=tf.int64)\n",
    "        targets = tf.convert_to_tensor(targets, dtype=tf.int64)\n",
    "        batch_num = len(train_data) // batch_size - 1\n",
    "        i = tf.train.range_input_producer(batch_num, shuffle=True).dequeue()\n",
    "        input_seqs = raw_data[i * batch_size: (i + 1) * batch_size]\n",
    "        targets = targets[i * batch_size: (i + 1) * batch_size]\n",
    "        length = tf.count_nonzero(input_seqs, axis=1, dtype=tf.int32)\n",
    "        \n",
    "    embedding_map = tf.get_variable(\n",
    "        name=\"embeddings_map\",\n",
    "        shape=[len(vocab_id), EMBEDDING_SIZE])\n",
    "    seq_embeddings = tf.nn.embedding_lookup(embedding_map, input_seqs)\n",
    "\n",
    "    # This section is different from DNN model function.\n",
    "    #===================================================\n",
    "    lstm_cellf = tf.contrib.rnn.BasicLSTMCell(num_units=LSTM_SIZE)\n",
    "    lstm_cellb = tf.contrib.rnn.BasicLSTMCell(num_units=LSTM_SIZE)   \n",
    "\n",
    "    lstm_outputs, states = tf.nn.bidirectional_dynamic_rnn(\n",
    "        cell_fw=lstm_cellf,\n",
    "        cell_bw=lstm_cellb,\n",
    "        inputs=seq_embeddings,\n",
    "        dtype=tf.float32)\n",
    "    \n",
    "    lstm_outputs = tf.concat(lstm_outputs, 2)\n",
    "    indices = tf.range(tf.shape(length)[0])\n",
    "    slices = tf.stack([indices, length-1], axis=1)    \n",
    "    lstm_outputs = tf.gather_nd(lstm_outputs, indices=slices)    \n",
    "    #===================================================\n",
    "    \n",
    "    logits = tf.contrib.layers.fully_connected(\n",
    "        inputs=lstm_outputs,\n",
    "        num_outputs=20,\n",
    "        activation_fn=None)\n",
    "\n",
    "    cross_entropy = tf.nn.sparse_softmax_cross_entropy_with_logits(labels=targets, logits=logits)\n",
    "    losses= tf.reduce_mean(cross_entropy, name='xentropy_mean')\n",
    "    predictions = tf.argmax(logits, 1)\n",
    "    _, accuracy = tf.contrib.metrics.streaming_accuracy(targets, predictions)    \n",
    "    correct_predictions = tf.count_nonzero(tf.equal(predictions, targets))\n",
    "    return losses, accuracy, correct_predictions"
   ]
  },
  {
   "cell_type": "code",
   "execution_count": 39,
   "metadata": {
    "collapsed": false
   },
   "outputs": [
    {
     "data": {
      "text/html": [
       "\n",
       "          <script src=\"/static/components/requirejs/require.js\"></script>\n",
       "          <script>\n",
       "            requirejs.config({\n",
       "              paths: {\n",
       "                base: '/static/base',\n",
       "              },\n",
       "            });\n",
       "          </script>\n",
       "          "
      ],
      "text/plain": [
       "<IPython.core.display.HTML object>"
      ]
     },
     "metadata": {},
     "output_type": "display_data"
    }
   ],
   "source": [
    "# Start from fresh. Note that you can skip this step to continue training from previous checkpoint.\n",
    "!rm -rf lstm"
   ]
  },
  {
   "cell_type": "code",
   "execution_count": 40,
   "metadata": {
    "collapsed": false
   },
   "outputs": [
    {
     "data": {
      "text/html": [
       "\n",
       "          <script src=\"/static/components/requirejs/require.js\"></script>\n",
       "          <script>\n",
       "            requirejs.config({\n",
       "              paths: {\n",
       "                base: '/static/base',\n",
       "              },\n",
       "            });\n",
       "          </script>\n",
       "          "
      ],
      "text/plain": [
       "<IPython.core.display.HTML object>"
      ]
     },
     "metadata": {},
     "output_type": "display_data"
    },
    {
     "name": "stdout",
     "output_type": "stream",
     "text": [
      "INFO:tensorflow:Starting Session.\n",
      "INFO:tensorflow:Saving checkpoint to path lstm/model.ckpt\n",
      "INFO:tensorflow:Starting Queues.\n",
      "INFO:tensorflow:global_step/sec: 0\n",
      "INFO:tensorflow:Recording summary at step 1.\n",
      "accuracy: 0.0622\n",
      "INFO:tensorflow:global step 50: loss = 2.7564 (0.644 sec/step)\n",
      "accuracy: 0.1360\n",
      "INFO:tensorflow:global step 100: loss = 2.6190 (0.570 sec/step)\n",
      "accuracy: 0.1357\n",
      "INFO:tensorflow:global step 150: loss = 2.4615 (0.571 sec/step)\n",
      "accuracy: 0.1980\n",
      "INFO:tensorflow:global step 200: loss = 2.1225 (0.565 sec/step)\n",
      "accuracy: 0.2245\n",
      "INFO:tensorflow:global step 250: loss = 2.1548 (0.588 sec/step)\n",
      "accuracy: 0.2598\n",
      "INFO:tensorflow:global step 300: loss = 2.2754 (0.573 sec/step)\n",
      "accuracy: 0.2418\n",
      "INFO:tensorflow:global step 350: loss = 1.6750 (0.557 sec/step)\n",
      "accuracy: 0.3140\n",
      "INFO:tensorflow:global step 400: loss = 1.6216 (0.576 sec/step)\n",
      "accuracy: 0.3411\n",
      "INFO:tensorflow:global step 450: loss = 1.4456 (0.578 sec/step)\n",
      "accuracy: 0.3823\n",
      "INFO:tensorflow:global step 500: loss = 1.2791 (0.582 sec/step)\n",
      "accuracy: 0.4385\n",
      "INFO:tensorflow:global step 550: loss = 0.9701 (0.574 sec/step)\n",
      "accuracy: 0.4415\n",
      "INFO:tensorflow:global step 600: loss = 1.0692 (0.584 sec/step)\n",
      "INFO:tensorflow:Saving checkpoint to path lstm/model.ckpt\n",
      "INFO:tensorflow:global_step/sec: 1.00168\n",
      "INFO:tensorflow:Recording summary at step 601.\n",
      "accuracy: 0.4809\n",
      "INFO:tensorflow:global step 650: loss = 1.1295 (0.585 sec/step)\n",
      "accuracy: 0.4569\n",
      "INFO:tensorflow:global step 700: loss = 0.8562 (0.559 sec/step)\n",
      "accuracy: 0.4915\n",
      "INFO:tensorflow:global step 750: loss = 0.5302 (0.559 sec/step)\n",
      "accuracy: 0.5153\n",
      "INFO:tensorflow:global step 800: loss = 0.7537 (0.573 sec/step)\n",
      "accuracy: 0.5095\n",
      "INFO:tensorflow:global step 850: loss = 0.4757 (0.583 sec/step)\n",
      "accuracy: 0.5211\n",
      "INFO:tensorflow:global step 900: loss = 0.4001 (0.599 sec/step)\n",
      "accuracy: 0.5138\n",
      "INFO:tensorflow:global step 950: loss = 0.4083 (0.572 sec/step)\n",
      "accuracy: 0.5126\n",
      "INFO:tensorflow:global step 1000: loss = 0.6390 (0.570 sec/step)\n",
      "accuracy: 0.4944\n",
      "INFO:tensorflow:global step 1050: loss = 0.1209 (0.575 sec/step)\n",
      "accuracy: 0.5353\n",
      "INFO:tensorflow:global step 1100: loss = 0.3111 (0.578 sec/step)\n",
      "accuracy: 0.5399\n",
      "INFO:tensorflow:global step 1150: loss = 0.3527 (0.593 sec/step)\n",
      "accuracy: 0.5379\n",
      "INFO:tensorflow:global step 1200: loss = 0.1448 (0.570 sec/step)\n",
      "INFO:tensorflow:Saving checkpoint to path lstm/model.ckpt\n",
      "INFO:tensorflow:global_step/sec: 1\n",
      "INFO:tensorflow:Recording summary at step 1201.\n",
      "accuracy: 0.5459\n",
      "INFO:tensorflow:global step 1250: loss = 0.2081 (0.587 sec/step)\n",
      "accuracy: 0.5287\n",
      "INFO:tensorflow:global step 1300: loss = 0.3761 (0.601 sec/step)\n",
      "accuracy: 0.5459\n",
      "INFO:tensorflow:global step 1350: loss = 0.4306 (0.597 sec/step)\n",
      "accuracy: 0.5513\n",
      "INFO:tensorflow:global step 1400: loss = 0.2058 (0.595 sec/step)\n",
      "accuracy: 0.5372\n",
      "INFO:tensorflow:global step 1450: loss = 0.2688 (0.546 sec/step)\n",
      "accuracy: 0.5366\n",
      "INFO:tensorflow:global step 1500: loss = 0.2419 (0.529 sec/step)\n",
      "accuracy: 0.5384\n",
      "INFO:tensorflow:Stopping Training.\n",
      "INFO:tensorflow:Finished training! Saving model to disk.\n"
     ]
    }
   ],
   "source": [
    "# We will use the same trainer. Note that the training steps is greater based on experiments and\n",
    "# training time is much longer.\n",
    "train(lstm_model, train_steps=1501, model_dir='lstm')"
   ]
  },
  {
   "cell_type": "code",
   "execution_count": 41,
   "metadata": {
    "collapsed": false
   },
   "outputs": [
    {
     "data": {
      "text/html": [
       "\n",
       "          <script src=\"/static/components/requirejs/require.js\"></script>\n",
       "          <script>\n",
       "            requirejs.config({\n",
       "              paths: {\n",
       "                base: '/static/base',\n",
       "              },\n",
       "            });\n",
       "          </script>\n",
       "          "
      ],
      "text/plain": [
       "<IPython.core.display.HTML object>"
      ]
     },
     "metadata": {},
     "output_type": "display_data"
    },
    {
     "data": {
      "image/png": "[encoded data removed]",
      "text/plain": [
       "<matplotlib.figure.Figure at 0x7f96309e1ad0>"
      ]
     },
     "metadata": {},
     "output_type": "display_data"
    }
   ],
   "source": [
    "summary = Summary('lstm/eval')\n",
    "summary.plot(['losses', 'accuracy'])"
   ]
  },
  {
   "cell_type": "markdown",
   "metadata": {},
   "source": [
    "# Compare Model Performance\n",
    "\n",
    "With DNN, we aggregate the words embeddings in each sentence. This appears more efficient and accurate. With LSTM, we have an overfitting problem. With both models produce the same loss value towards the end of the training, the accuracy on eval data is different."
   ]
  },
  {
   "cell_type": "code",
   "execution_count": 42,
   "metadata": {
    "collapsed": false
   },
   "outputs": [
    {
     "data": {
      "text/html": [
       "\n",
       "          <script src=\"/static/components/requirejs/require.js\"></script>\n",
       "          <script>\n",
       "            requirejs.config({\n",
       "              paths: {\n",
       "                base: '/static/base',\n",
       "              },\n",
       "            });\n",
       "          </script>\n",
       "          "
      ],
      "text/plain": [
       "<IPython.core.display.HTML object>"
      ]
     },
     "metadata": {},
     "output_type": "display_data"
    },
    {
     "data": {
      "image/png": "[encoded data removed]",
      "text/plain": [
       "<matplotlib.figure.Figure at 0x7f963068c2d0>"
      ]
     },
     "metadata": {},
     "output_type": "display_data"
    }
   ],
   "source": [
    "summary = Summary(['dnn/eval', 'lstm/eval'])\n",
    "summary.plot(['losses', 'accuracy'])"
   ]
  },
  {
   "cell_type": "markdown",
   "metadata": {},
   "source": [
    "\n",
    "Perhaps the results of LSTM model may get close to that of DNN with more training data. Also, it will probably helpful if we add a convlutional layer before LSTM layer."
   ]
  }
 ],
 "metadata": {
  "kernelspec": {
   "display_name": "Python 2",
   "language": "python",
   "name": "python2"
  },
  "language_info": {
   "codemirror_mode": {
    "name": "ipython",
    "version": 2
   },
   "file_extension": ".py",
   "mimetype": "text/x-python",
   "name": "python",
   "nbconvert_exporter": "python",
   "pygments_lexer": "ipython2",
   "version": "2.7.12"
  }
 },
 "nbformat": 4,
 "nbformat_minor": 2
}
