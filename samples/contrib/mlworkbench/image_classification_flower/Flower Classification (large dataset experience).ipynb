{
 "cells": [
  {
   "cell_type": "markdown",
   "metadata": {},
   "source": [
    "# ML Workbench Sample --- Image Classification\n",
    "\n",
    "<br><br>\n",
    "### _Introduction of ML Workbench_\n",
    "ML Workbench provides an easy command line interface for machine learning life cycle, which involves four stages:\n",
    "* analyze: gather stats and metadata of the training data, such as numeric stats, vocabularies, etc. Analysis results are used in transforming raw data into numeric features, which can be consumed by training directly.  \n",
    "* transform: explicitly transform raw data into numeric features which can be used for training.\n",
    "* train: training model using transformed data.\n",
    "* predict/batch_predict: given a few instances of prediction data, make predictions instantly / with large number of instances of prediction data, make predictions in a batched fassion.\n",
    "\n",
    "\n",
    "There are \"local\" and \"cloud\" run mode for each stage. \"cloud\" run mode is recommended if your data is big.\n",
    "<br><br>\n",
    "ML Workbench supports numeric, categorical, text, image training data. For each type, there are a set of \"transforms\" to choose from. The \"transforms\" indicate how to convert the data into numeric features. For images, it is converted to fixed size vectors representing high level features.\n",
    "<br><br>\n",
    "\n",
    "### _Transfer learning using Inception Package - Cloud Run Experience With Large Data_\n",
    "ML Workbench supports image transforms (image to vec) with transfer learning.\n",
    "\n",
    "This notebook continues the codifies the capabilities discussed in this [blog post](https://cloud.google.com/blog/big-data/2016/12/how-to-train-and-classify-images-using-google-cloud-machine-learning-and-cloud-dataflow). In a nutshell, it uses the pre-trained inception model as a starting point and then uses transfer learning to train it further on additional, customer-specific images. For explanation, simple flower images are used. Compared to training from scratch, the time and costs are drastically reduced.\n",
    "\n",
    "This notebook does preprocessing, training and prediction by calling CloudML API instead of running them \"locally\" in the Datalab container. It uses full data."
   ]
  },
  {
   "cell_type": "code",
   "execution_count": 3,
   "metadata": {
    "collapsed": false
   },
   "outputs": [
    {
     "data": {
      "text/html": [
       "\n",
       "          <script src=\"/static/components/requirejs/require.js\"></script>\n",
       "          <script>\n",
       "            requirejs.config({\n",
       "              paths: {\n",
       "                base: '/static/base',\n",
       "              },\n",
       "            });\n",
       "          </script>\n",
       "          "
      ],
      "text/plain": [
       "<IPython.core.display.HTML object>"
      ]
     },
     "metadata": {},
     "output_type": "display_data"
    }
   ],
   "source": [
    "# ML Workbench magics (%%ml) are under google.datalab.contrib namespace. It is not enabled by default and you need to import it before use.\n",
    "import google.datalab.contrib.mlworkbench.commands"
   ]
  },
  {
   "cell_type": "markdown",
   "metadata": {},
   "source": [
    "# Setup"
   ]
  },
  {
   "cell_type": "code",
   "execution_count": 2,
   "metadata": {
    "collapsed": false
   },
   "outputs": [
    {
     "data": {
      "text/html": [
       "\n",
       "          <script src=\"/static/components/requirejs/require.js\"></script>\n",
       "          <script>\n",
       "            requirejs.config({\n",
       "              paths: {\n",
       "                base: '/static/base',\n",
       "              },\n",
       "            });\n",
       "          </script>\n",
       "          "
      ],
      "text/plain": [
       "<IPython.core.display.HTML object>"
      ]
     },
     "metadata": {},
     "output_type": "display_data"
    },
    {
     "name": "stdout",
     "output_type": "stream",
     "text": [
      "Creating gs://flower-datalab-demo-bucket-large-data/...\r\n"
     ]
    }
   ],
   "source": [
    "# Create a temp GCS bucket. If the bucket already exists and you don't have permissions, rename it.\n",
    "!gsutil mb gs://flower-datalab-demo-bucket-large-data"
   ]
  },
  {
   "cell_type": "markdown",
   "metadata": {},
   "source": [
    "Next cell, we will create a dataset representing our training data."
   ]
  },
  {
   "cell_type": "code",
   "execution_count": 5,
   "metadata": {
    "collapsed": false
   },
   "outputs": [
    {
     "data": {
      "text/html": [
       "\n",
       "          <script src=\"/static/components/requirejs/require.js\"></script>\n",
       "          <script>\n",
       "            requirejs.config({\n",
       "              paths: {\n",
       "                base: '/static/base',\n",
       "              },\n",
       "            });\n",
       "          </script>\n",
       "          "
      ],
      "text/plain": [
       "<IPython.core.display.HTML object>"
      ]
     },
     "metadata": {},
     "output_type": "display_data"
    }
   ],
   "source": [
    "%%ml dataset create\n",
    "name: flower_data_full\n",
    "format: csv\n",
    "train: gs://cloud-datalab/sampledata/flower/train3000.csv\n",
    "eval: gs://cloud-datalab/sampledata/flower/eval670.csv\n",
    "schema:\n",
    "    - name: image_url\n",
    "      type: STRING\n",
    "    - name: label\n",
    "      type: STRING"
   ]
  },
  {
   "cell_type": "markdown",
   "metadata": {},
   "source": [
    "# Analyze\n",
    "\n",
    "Analysis step includes computing numeric stats (i.e. min/max), categorical classes, text vocabulary and frequency, etc. Run \"%%ml analyze --help\" for usage. The analysis results will be used for transforming raw data into numeric features that the model can deal with. For example, to convert categorical value to a one-hot vector (\"Monday\" becomes [1, 0, 0, 0, 0, 0, 0]). The data may be very large, so sometimes a cloud run is needed by adding --cloud flag. Cloud run will start BigQuery jobs, which may incur some costs.\n",
    "\n",
    "In this case, analysis step only collects unique labels.\n",
    "\n",
    "Note that we run analysis only on training data, but not evaluation data."
   ]
  },
  {
   "cell_type": "code",
   "execution_count": 6,
   "metadata": {
    "collapsed": false
   },
   "outputs": [
    {
     "data": {
      "text/html": [
       "\n",
       "          <script src=\"/static/components/requirejs/require.js\"></script>\n",
       "          <script>\n",
       "            requirejs.config({\n",
       "              paths: {\n",
       "                base: '/static/base',\n",
       "              },\n",
       "            });\n",
       "          </script>\n",
       "          "
      ],
      "text/plain": [
       "<IPython.core.display.HTML object>"
      ]
     },
     "metadata": {},
     "output_type": "display_data"
    },
    {
     "name": "stdout",
     "output_type": "stream",
     "text": [
      "Analyzing column image_url...\n",
      "column image_url analyzed.\n",
      "Analyzing column label...\n",
      "column label analyzed.\n",
      "Updated property [core/project].\n"
     ]
    }
   ],
   "source": [
    "%%ml analyze --cloud\n",
    "output: gs://flower-datalab-demo-bucket-large-data/analysis\n",
    "data: flower_data_full\n",
    "features:\n",
    "    image_url:\n",
    "        transform: image_to_vec\n",
    "    label:\n",
    "        transform: target"
   ]
  },
  {
   "cell_type": "code",
   "execution_count": 7,
   "metadata": {
    "collapsed": false
   },
   "outputs": [
    {
     "data": {
      "text/html": [
       "\n",
       "          <script src=\"/static/components/requirejs/require.js\"></script>\n",
       "          <script>\n",
       "            requirejs.config({\n",
       "              paths: {\n",
       "                base: '/static/base',\n",
       "              },\n",
       "            });\n",
       "          </script>\n",
       "          "
      ],
      "text/plain": [
       "<IPython.core.display.HTML object>"
      ]
     },
     "metadata": {},
     "output_type": "display_data"
    },
    {
     "name": "stdout",
     "output_type": "stream",
     "text": [
      "gs://flower-datalab-demo-bucket-large-data/analysis/features.json\r\n",
      "gs://flower-datalab-demo-bucket-large-data/analysis/schema.json\r\n",
      "gs://flower-datalab-demo-bucket-large-data/analysis/stats.json\r\n",
      "gs://flower-datalab-demo-bucket-large-data/analysis/vocab_label.csv\r\n"
     ]
    }
   ],
   "source": [
    "# Check analysis results\n",
    "!gsutil list gs://flower-datalab-demo-bucket-large-data/analysis"
   ]
  },
  {
   "cell_type": "markdown",
   "metadata": {},
   "source": [
    "# Transform\n",
    "\n",
    "With analysis results we can transform raw data into numeric features. This needs to be done for both training and eval data. The data may be very large, so sometimes a cloud pipeline is needed by adding --cloud. Cloud run is implemented by DataFlow jobs, so it may incur some costs.\n",
    "\n",
    "In this case, transform is required. It downloads image, resizes it, and generate embeddings from each image by running a pretrained TensorFlow graph. Note that it creates two jobs --- one for training data and one for eval data."
   ]
  },
  {
   "cell_type": "code",
   "execution_count": null,
   "metadata": {
    "collapsed": false
   },
   "outputs": [],
   "source": [
    "# Remove previous results\n",
    "!gsutil -m rm gs://flower-datalab-demo-bucket-large-data/transform"
   ]
  },
  {
   "cell_type": "code",
   "execution_count": 12,
   "metadata": {
    "collapsed": false
   },
   "outputs": [
    {
     "data": {
      "text/html": [
       "\n",
       "          <script src=\"/static/components/requirejs/require.js\"></script>\n",
       "          <script>\n",
       "            requirejs.config({\n",
       "              paths: {\n",
       "                base: '/static/base',\n",
       "              },\n",
       "            });\n",
       "          </script>\n",
       "          "
      ],
      "text/plain": [
       "<IPython.core.display.HTML object>"
      ]
     },
     "metadata": {},
     "output_type": "display_data"
    },
    {
     "name": "stdout",
     "output_type": "stream",
     "text": [
      "/usr/local/lib/python2.7/dist-packages/apache_beam/io/gcp/gcsio.py:113: DeprecationWarning: object() takes no parameters\n",
      "  super(GcsIO, cls).__new__(cls, storage_client))\n",
      "/usr/local/lib/python2.7/dist-packages/apache_beam/coders/typecoders.py:135: UserWarning: Using fallback coder for typehint: Any.\n",
      "  warnings.warn('Using fallback coder for typehint: %r.' % typehint)\n",
      "running sdist\n",
      "running egg_info\n",
      "creating trainer.egg-info\n",
      "writing requirements to trainer.egg-info/requires.txt\n",
      "writing trainer.egg-info/PKG-INFO\n",
      "writing top-level names to trainer.egg-info/top_level.txt\n",
      "writing dependency_links to trainer.egg-info/dependency_links.txt\n",
      "writing manifest file 'trainer.egg-info/SOURCES.txt'\n",
      "reading manifest file 'trainer.egg-info/SOURCES.txt'\n",
      "writing manifest file 'trainer.egg-info/SOURCES.txt'\n",
      "warning: sdist: standard file not found: should have one of README, README.rst, README.txt, README.md\n",
      "\n",
      "running check\n",
      "warning: check: missing required meta-data: url\n",
      "\n",
      "creating trainer-1.0.0\n",
      "creating trainer-1.0.0/trainer\n",
      "creating trainer-1.0.0/trainer.egg-info\n",
      "copying files to trainer-1.0.0...\n",
      "copying setup.py -> trainer-1.0.0\n",
      "copying trainer/__init__.py -> trainer-1.0.0/trainer\n",
      "copying trainer/feature_analysis.py -> trainer-1.0.0/trainer\n",
      "copying trainer/feature_transforms.py -> trainer-1.0.0/trainer\n",
      "copying trainer/task.py -> trainer-1.0.0/trainer\n",
      "copying trainer.egg-info/PKG-INFO -> trainer-1.0.0/trainer.egg-info\n",
      "copying trainer.egg-info/SOURCES.txt -> trainer-1.0.0/trainer.egg-info\n",
      "copying trainer.egg-info/dependency_links.txt -> trainer-1.0.0/trainer.egg-info\n",
      "copying trainer.egg-info/requires.txt -> trainer-1.0.0/trainer.egg-info\n",
      "copying trainer.egg-info/top_level.txt -> trainer-1.0.0/trainer.egg-info\n",
      "Writing trainer-1.0.0/setup.cfg\n",
      "Creating tar archive\n",
      "removing 'trainer-1.0.0' (and everything under it)\n",
      "DEPRECATION: pip install --download has been deprecated and will be removed in the future. Pip now has a download command that should be used instead.\n",
      "Collecting google-cloud-dataflow==2.0.0\n",
      "  Downloading google-cloud-dataflow-2.0.0.tar.gz (576kB)\n",
      "  Saved /tmp/tmp3nmHby/google-cloud-dataflow-2.0.0.tar.gz\n",
      "Successfully downloaded google-cloud-dataflow\n",
      "View job at https://console.developers.google.com/dataflow/job/2017-10-18_10_00_29-3270505292889461844?project=bradley-playground\n",
      "/usr/local/lib/python2.7/dist-packages/apache_beam/io/gcp/gcsio.py:113: DeprecationWarning: object() takes no parameters\n",
      "  super(GcsIO, cls).__new__(cls, storage_client))\n",
      "/usr/local/lib/python2.7/dist-packages/apache_beam/coders/typecoders.py:135: UserWarning: Using fallback coder for typehint: Any.\n",
      "  warnings.warn('Using fallback coder for typehint: %r.' % typehint)\n",
      "running sdist\n",
      "running egg_info\n",
      "writing requirements to trainer.egg-info/requires.txt\n",
      "writing trainer.egg-info/PKG-INFO\n",
      "writing top-level names to trainer.egg-info/top_level.txt\n",
      "writing dependency_links to trainer.egg-info/dependency_links.txt\n",
      "reading manifest file 'trainer.egg-info/SOURCES.txt'\n",
      "writing manifest file 'trainer.egg-info/SOURCES.txt'\n",
      "warning: sdist: standard file not found: should have one of README, README.rst, README.txt, README.md\n",
      "\n",
      "running check\n",
      "warning: check: missing required meta-data: url\n",
      "\n",
      "creating trainer-1.0.0\n",
      "creating trainer-1.0.0/trainer\n",
      "creating trainer-1.0.0/trainer.egg-info\n",
      "copying files to trainer-1.0.0...\n",
      "copying setup.py -> trainer-1.0.0\n",
      "copying trainer/__init__.py -> trainer-1.0.0/trainer\n",
      "copying trainer/feature_analysis.py -> trainer-1.0.0/trainer\n",
      "copying trainer/feature_transforms.py -> trainer-1.0.0/trainer\n",
      "copying trainer/task.py -> trainer-1.0.0/trainer\n",
      "copying trainer.egg-info/PKG-INFO -> trainer-1.0.0/trainer.egg-info\n",
      "copying trainer.egg-info/SOURCES.txt -> trainer-1.0.0/trainer.egg-info\n",
      "copying trainer.egg-info/dependency_links.txt -> trainer-1.0.0/trainer.egg-info\n",
      "copying trainer.egg-info/requires.txt -> trainer-1.0.0/trainer.egg-info\n",
      "copying trainer.egg-info/top_level.txt -> trainer-1.0.0/trainer.egg-info\n",
      "Writing trainer-1.0.0/setup.cfg\n",
      "Creating tar archive\n",
      "removing 'trainer-1.0.0' (and everything under it)\n",
      "DEPRECATION: pip install --download has been deprecated and will be removed in the future. Pip now has a download command that should be used instead.\n",
      "Collecting google-cloud-dataflow==2.0.0\n",
      "  Using cached google-cloud-dataflow-2.0.0.tar.gz\n",
      "  Saved /tmp/tmp5Syw_T/google-cloud-dataflow-2.0.0.tar.gz\n",
      "Successfully downloaded google-cloud-dataflow\n",
      "View job at https://console.developers.google.com/dataflow/job/2017-10-18_10_00_39-10389677604893726558?project=bradley-playground\n"
     ]
    }
   ],
   "source": [
    "%%ml transform --cloud\n",
    "analysis: gs://flower-datalab-demo-bucket-large-data/analysis\n",
    "output: gs://flower-datalab-demo-bucket-large-data/transform\n",
    "data: flower_data_full"
   ]
  },
  {
   "cell_type": "markdown",
   "metadata": {},
   "source": [
    "After transformation is done, create a new dataset referencing the training data."
   ]
  },
  {
   "cell_type": "code",
   "execution_count": 15,
   "metadata": {
    "collapsed": false
   },
   "outputs": [
    {
     "data": {
      "text/html": [
       "\n",
       "          <script src=\"/static/components/requirejs/require.js\"></script>\n",
       "          <script>\n",
       "            requirejs.config({\n",
       "              paths: {\n",
       "                base: '/static/base',\n",
       "              },\n",
       "            });\n",
       "          </script>\n",
       "          "
      ],
      "text/plain": [
       "<IPython.core.display.HTML object>"
      ]
     },
     "metadata": {},
     "output_type": "display_data"
    }
   ],
   "source": [
    "%%ml dataset create\n",
    "name: flower_data_full_transformed\n",
    "format: transformed\n",
    "train: gs://flower-datalab-demo-bucket-large-data/transform/train-*\n",
    "eval: gs://flower-datalab-demo-bucket-large-data/transform/eval-*"
   ]
  },
  {
   "cell_type": "markdown",
   "metadata": {},
   "source": [
    "# Train\n",
    "\n",
    "Training starts from transformed data. If training work is too much to do on the local VM, --cloud is recommended so training happens in cloud, in a distributed way. Run %%ml train --help for details.\n",
    "\n",
    "Training in cloud is implemented with Cloud ML Engine. It may incur some costs."
   ]
  },
  {
   "cell_type": "code",
   "execution_count": null,
   "metadata": {
    "collapsed": false
   },
   "outputs": [],
   "source": [
    "# Remove previous training results.\n",
    "!gsutil -m rm -r gs://flower-datalab-demo-bucket-large-data/train"
   ]
  },
  {
   "cell_type": "code",
   "execution_count": 16,
   "metadata": {
    "collapsed": false
   },
   "outputs": [
    {
     "data": {
      "text/html": [
       "\n",
       "          <script src=\"/static/components/requirejs/require.js\"></script>\n",
       "          <script>\n",
       "            requirejs.config({\n",
       "              paths: {\n",
       "                base: '/static/base',\n",
       "              },\n",
       "            });\n",
       "          </script>\n",
       "          "
      ],
      "text/plain": [
       "<IPython.core.display.HTML object>"
      ]
     },
     "metadata": {},
     "output_type": "display_data"
    },
    {
     "data": {
      "text/html": [
       "Job \"trainer_task_171019_051802\" submitted.<p>Click <a href=\"https://console.developers.google.com/logs/viewer?project=bradley-playground&resource=ml.googleapis.com%2Fjob_id%2Ftrainer_task_171019_051802\" target=\"_blank\">here</a> to view cloud log. <br/>"
      ]
     },
     "metadata": {},
     "output_type": "display_data"
    },
    {
     "data": {
      "text/html": [
       "<p>TensorBoard was started successfully with pid 17594. Click <a href=\"/_proxy/48551/\" target=\"_blank\">here</a> to access it.</p>"
      ]
     },
     "metadata": {},
     "output_type": "display_data"
    }
   ],
   "source": [
    "%%ml train --cloud\n",
    "output: gs://flower-datalab-demo-bucket-large-data/train\n",
    "analysis: gs://flower-datalab-demo-bucket-large-data/analysis\n",
    "data: flower_data_full_transformed\n",
    "model_args:\n",
    "    model: dnn_classification\n",
    "    hidden-layer-size1: 100\n",
    "    top-n: 0\n",
    "cloud_config:\n",
    "    region: us-central1\n",
    "    scale_tier: BASIC"
   ]
  },
  {
   "cell_type": "markdown",
   "metadata": {},
   "source": [
    "After training is complete, you should see model files like the following."
   ]
  },
  {
   "cell_type": "code",
   "execution_count": 17,
   "metadata": {
    "collapsed": false
   },
   "outputs": [
    {
     "data": {
      "text/html": [
       "\n",
       "          <script src=\"/static/components/requirejs/require.js\"></script>\n",
       "          <script>\n",
       "            requirejs.config({\n",
       "              paths: {\n",
       "                base: '/static/base',\n",
       "              },\n",
       "            });\n",
       "          </script>\n",
       "          "
      ],
      "text/plain": [
       "<IPython.core.display.HTML object>"
      ]
     },
     "metadata": {},
     "output_type": "display_data"
    },
    {
     "name": "stdout",
     "output_type": "stream",
     "text": [
      "gs://flower-datalab-demo-bucket-large-data/train/model/\r\n",
      "gs://flower-datalab-demo-bucket-large-data/train/model/saved_model.pb\r\n",
      "gs://flower-datalab-demo-bucket-large-data/train/model/assets.extra/\r\n",
      "gs://flower-datalab-demo-bucket-large-data/train/model/variables/\r\n"
     ]
    }
   ],
   "source": [
    "# List the model files\n",
    "!gsutil list gs://flower-datalab-demo-bucket-large-data/train/model "
   ]
  },
  {
   "cell_type": "markdown",
   "metadata": {},
   "source": [
    "# Batch Prediction\n",
    "\n",
    "Batch prediction performs prediction in a batched fashion. The data can be large, and is specified by files.  \n",
    "\n",
    "Note that, we use the \"evaluation_model\" which sits in \"evaluation_model_dir\". There are two models created in training. One is a regular model under \"model\" dir, the other is \"evaluation_model\". The difference is the regular one takes prediction data without target and the evaluation model takes data with target and output the target as is. So evaluation model is good for evaluating the quality of the model because the targets and predicted values are included in output."
   ]
  },
  {
   "cell_type": "code",
   "execution_count": 18,
   "metadata": {
    "collapsed": false
   },
   "outputs": [
    {
     "data": {
      "text/html": [
       "\n",
       "          <script src=\"/static/components/requirejs/require.js\"></script>\n",
       "          <script>\n",
       "            requirejs.config({\n",
       "              paths: {\n",
       "                base: '/static/base',\n",
       "              },\n",
       "            });\n",
       "          </script>\n",
       "          "
      ],
      "text/plain": [
       "<IPython.core.display.HTML object>"
      ]
     },
     "metadata": {},
     "output_type": "display_data"
    },
    {
     "data": {
      "text/html": [
       "Job \"prediction_171019_054302\" submitted.<p>Click <a href=\"https://console.developers.google.com/logs/viewer?project=bradley-playground&resource=ml.googleapis.com%2Fjob_id%2Fprediction_171019_054302\" target=\"_blank\">here</a> to view cloud log. <br/>"
      ]
     },
     "metadata": {},
     "output_type": "display_data"
    }
   ],
   "source": [
    "%%ml batch_predict --cloud\n",
    "model: gs://flower-datalab-demo-bucket-large-data/train/evaluation_model\n",
    "output: gs://flower-datalab-demo-bucket-large-data/evaluation\n",
    "cloud_config:\n",
    "    region: us-central1\n",
    "data:\n",
    "    csv: gs://cloud-datalab/sampledata/flower/eval670.csv"
   ]
  },
  {
   "cell_type": "code",
   "execution_count": 19,
   "metadata": {
    "collapsed": false
   },
   "outputs": [
    {
     "data": {
      "text/html": [
       "\n",
       "          <script src=\"/static/components/requirejs/require.js\"></script>\n",
       "          <script>\n",
       "            requirejs.config({\n",
       "              paths: {\n",
       "                base: '/static/base',\n",
       "              },\n",
       "            });\n",
       "          </script>\n",
       "          "
      ],
      "text/plain": [
       "<IPython.core.display.HTML object>"
      ]
     },
     "metadata": {},
     "output_type": "display_data"
    },
    {
     "name": "stdout",
     "output_type": "stream",
     "text": [
      "       0 B  2017-10-19T05:51:38Z  gs://flower-datalab-demo-bucket-large-data/evaluation/prediction.errors_stats-00000-of-00001\r\n",
      "       0 B  2017-10-19T04:26:01Z  gs://flower-datalab-demo-bucket-large-data/evaluation/prediction.results-00000-of-00001\r\n",
      "  9.91 KiB  2017-10-19T05:51:38Z  gs://flower-datalab-demo-bucket-large-data/evaluation/prediction.results-00000-of-00006\r\n",
      " 21.86 KiB  2017-10-19T05:51:38Z  gs://flower-datalab-demo-bucket-large-data/evaluation/prediction.results-00001-of-00006\r\n",
      "  9.35 KiB  2017-10-19T05:51:38Z  gs://flower-datalab-demo-bucket-large-data/evaluation/prediction.results-00002-of-00006\r\n",
      " 17.92 KiB  2017-10-19T05:51:38Z  gs://flower-datalab-demo-bucket-large-data/evaluation/prediction.results-00003-of-00006\r\n",
      " 60.27 KiB  2017-10-19T05:51:38Z  gs://flower-datalab-demo-bucket-large-data/evaluation/prediction.results-00004-of-00006\r\n",
      " 13.68 KiB  2017-10-19T05:51:38Z  gs://flower-datalab-demo-bucket-large-data/evaluation/prediction.results-00005-of-00006\r\n",
      "TOTAL: 8 objects, 136179 bytes (132.99 KiB)\r\n"
     ]
    }
   ],
   "source": [
    "# after prediction is done, check the output\n",
    "!gsutil list -l -h gs://flower-datalab-demo-bucket-large-data/evaluation"
   ]
  },
  {
   "cell_type": "code",
   "execution_count": 21,
   "metadata": {
    "collapsed": false
   },
   "outputs": [
    {
     "data": {
      "text/html": [
       "\n",
       "          <script src=\"/static/components/requirejs/require.js\"></script>\n",
       "          <script>\n",
       "            requirejs.config({\n",
       "              paths: {\n",
       "                base: '/static/base',\n",
       "              },\n",
       "            });\n",
       "          </script>\n",
       "          "
      ],
      "text/plain": [
       "<IPython.core.display.HTML object>"
      ]
     },
     "metadata": {},
     "output_type": "display_data"
    },
    {
     "name": "stdout",
     "output_type": "stream",
     "text": [
      " \"sunflowers\": 0.023919522762298584, \"predicted\": \"daisy\", \"daisy\": 0.5709955096244812}\r\n",
      "{\"target\": \"sunflowers\", \"dandelion\": 6.407364847637394e-16, \"tulips\": 1.1489890098563176e-21, \"roses\": 3.703789355800949e-23, \"sunflowers\": 1.0, \"predicted\": \"sunflowers\", \"daisy\": 4.062632231285804e-18}\r\n",
      "{\"target\": \"sunflowers\", \"dandelion\": 3.1532248600391055e-12, \"tulips\": 1.2175611572835896e-15, \"roses\": 1.7113922181424834e-16, \"sunflowers\": 1.0, \"predicted\": \"sunflowers\", \"daisy\": 6.292334708835057e-12}\r\n"
     ]
    }
   ],
   "source": [
    "# Take a look at the file.\n",
    "!gsutil cat -r -500 gs://flower-datalab-demo-bucket-large-data/evaluation/prediction.results-00000-of-00006"
   ]
  },
  {
   "cell_type": "markdown",
   "metadata": {},
   "source": [
    "Prediction results are in JSON format. We can load the results into BigQuery table and performa analysis."
   ]
  },
  {
   "cell_type": "code",
   "execution_count": 23,
   "metadata": {
    "collapsed": false
   },
   "outputs": [
    {
     "data": {
      "text/html": [
       "\n",
       "          <script src=\"/static/components/requirejs/require.js\"></script>\n",
       "          <script>\n",
       "            requirejs.config({\n",
       "              paths: {\n",
       "                base: '/static/base',\n",
       "              },\n",
       "            });\n",
       "          </script>\n",
       "          "
      ],
      "text/plain": [
       "<IPython.core.display.HTML object>"
      ]
     },
     "metadata": {},
     "output_type": "display_data"
    },
    {
     "data": {
      "text/plain": [
       "Job bradley-playground/job_6U6Mnzk1o-KCAdLob2PwMs4_0lWk completed"
      ]
     },
     "execution_count": 23,
     "metadata": {},
     "output_type": "execute_result"
    }
   ],
   "source": [
    "import google.datalab.bigquery as bq\n",
    "\n",
    "schema = [\n",
    "  {'name': 'predicted', 'type': 'STRING'},\n",
    "  {'name': 'target', 'type': 'STRING'},\n",
    "  {'name': 'daisy', 'type': 'FLOAT'},  \n",
    "  {'name': 'dandelion', 'type': 'FLOAT'},  \n",
    "  {'name': 'roses', 'type': 'FLOAT'},\n",
    "  {'name': 'sunflowers', 'type': 'FLOAT'},\n",
    "  {'name': 'tulips', 'type': 'FLOAT'},\n",
    "]\n",
    "\n",
    "bq.Dataset('image_classification_results').create()\n",
    "t = bq.Table('image_classification_results.flower').create(schema = schema, overwrite = True)\n",
    "t.load('gs://flower-datalab-demo-bucket-large-data/evaluation/prediction.results-*', mode='overwrite', source_format='json')"
   ]
  },
  {
   "cell_type": "markdown",
   "metadata": {},
   "source": [
    "Check wrong predictions."
   ]
  },
  {
   "cell_type": "code",
   "execution_count": 24,
   "metadata": {
    "collapsed": false
   },
   "outputs": [
    {
     "data": {
      "text/html": [
       "\n",
       "          <script src=\"/static/components/requirejs/require.js\"></script>\n",
       "          <script>\n",
       "            requirejs.config({\n",
       "              paths: {\n",
       "                base: '/static/base',\n",
       "              },\n",
       "            });\n",
       "          </script>\n",
       "          "
      ],
      "text/plain": [
       "<IPython.core.display.HTML object>"
      ]
     },
     "metadata": {},
     "output_type": "display_data"
    },
    {
     "data": {
      "text/html": [
       "\n",
       "    <div class=\"bqtv\" id=\"1_150839353440\"><table><tr><th>predicted</th><th>target</th><th>daisy</th><th>dandelion</th><th>roses</th><th>sunflowers</th><th>tulips</th></tr><tr><td>roses</td><td>daisy</td><td>0.000107081861643</td><td>4.2452506932e-06</td><td>0.985331714153</td><td>0.01447784435</td><td>7.90482226876e-05</td></tr><tr><td>roses</td><td>daisy</td><td>0.00336904148571</td><td>0.0817719474435</td><td>0.898831009865</td><td>0.00606627622619</td><td>0.00996168423444</td></tr><tr><td>roses</td><td>daisy</td><td>9.25164749788e-06</td><td>3.04345193491e-09</td><td>0.999936938286</td><td>1.34516176331e-06</td><td>5.23670387338e-05</td></tr><tr><td>roses</td><td>daisy</td><td>6.38103125894e-09</td><td>1.10664151454e-11</td><td>0.999925494194</td><td>2.96761953678e-07</td><td>7.42329939385e-05</td></tr><tr><td>tulips</td><td>daisy</td><td>4.83075413005e-10</td><td>4.30522035799e-08</td><td>1.14557883535e-06</td><td>3.37842357112e-06</td><td>0.999995470047</td></tr><tr><td>dandelion</td><td>daisy</td><td>8.15960166038e-19</td><td>1.0</td><td>3.36299384949e-26</td><td>7.30872310153e-27</td><td>3.52697304699e-24</td></tr><tr><td>dandelion</td><td>daisy</td><td>0.0406570062041</td><td>0.959276914597</td><td>2.83383229771e-07</td><td>4.56821435364e-05</td><td>2.0248007786e-05</td></tr><tr><td>dandelion</td><td>daisy</td><td>3.2681695302e-05</td><td>0.999963641167</td><td>3.94953673322e-07</td><td>3.09938968712e-06</td><td>2.75721021126e-07</td></tr><tr><td>dandelion</td><td>daisy</td><td>5.03894037607e-10</td><td>1.0</td><td>9.46683408883e-16</td><td>2.09550150669e-13</td><td>4.55575959173e-14</td></tr><tr><td>dandelion</td><td>daisy</td><td>0.139625295997</td><td>0.859617710114</td><td>1.33036223815e-06</td><td>0.000684840255417</td><td>7.08434599801e-05</td></tr><tr><td>sunflowers</td><td>daisy</td><td>7.75286750354e-08</td><td>3.92487065071e-09</td><td>0.000105055529275</td><td>0.999894857407</td><td>3.0220762004e-10</td></tr><tr><td>daisy</td><td>roses</td><td>0.990616858006</td><td>2.06143031392e-05</td><td>4.30926206718e-07</td><td>0.00933849997818</td><td>2.35830357269e-05</td></tr><tr><td>tulips</td><td>roses</td><td>7.71652697296e-09</td><td>4.74015735108e-07</td><td>2.31539361266e-05</td><td>5.86078713241e-05</td><td>0.99991774559</td></tr><tr><td>tulips</td><td>roses</td><td>2.72695858949e-11</td><td>1.79968728808e-09</td><td>5.24185139739e-08</td><td>3.03490395481e-07</td><td>0.999999642372</td></tr><tr><td>tulips</td><td>roses</td><td>3.47334845347e-13</td><td>4.56423744286e-13</td><td>0.348514556885</td><td>1.56286994457e-09</td><td>0.651485443115</td></tr><tr><td>tulips</td><td>roses</td><td>0.000177768699359</td><td>0.000231440324569</td><td>0.00193378305994</td><td>0.00993802398443</td><td>0.987718939781</td></tr><tr><td>tulips</td><td>roses</td><td>7.39195138522e-06</td><td>1.26397480926e-06</td><td>0.00481663364917</td><td>3.03236829495e-05</td><td>0.995144307613</td></tr><tr><td>tulips</td><td>roses</td><td>3.43440172135e-11</td><td>1.02370098509e-10</td><td>8.96404444006e-08</td><td>1.49483753376e-07</td><td>0.999999761581</td></tr><tr><td>tulips</td><td>roses</td><td>3.0772439629e-16</td><td>9.47765824155e-12</td><td>2.44594317023e-10</td><td>1.03360986436e-09</td><td>1.0</td></tr><tr><td>tulips</td><td>roses</td><td>1.13629557152e-10</td><td>9.97475257947e-09</td><td>0.0632723867893</td><td>4.08878668168e-06</td><td>0.936723470688</td></tr><tr><td>tulips</td><td>roses</td><td>8.4810232635e-18</td><td>8.01686787701e-13</td><td>1.48080445683e-08</td><td>5.61062932225e-11</td><td>1.0</td></tr><tr><td>tulips</td><td>roses</td><td>4.21678425511e-09</td><td>6.56204051097e-08</td><td>6.52195303701e-05</td><td>1.43616239257e-06</td><td>0.999933242798</td></tr><tr><td>tulips</td><td>roses</td><td>1.03960369202e-08</td><td>2.06416939363e-06</td><td>3.89039882975e-07</td><td>7.15018468327e-05</td><td>0.99992609024</td></tr><tr><td>tulips</td><td>roses</td><td>1.07436523724e-18</td><td>1.40168570652e-14</td><td>3.7043668133e-09</td><td>8.53360611341e-12</td><td>1.0</td></tr><tr><td>dandelion</td><td>roses</td><td>0.0225269664079</td><td>0.976762115955</td><td>7.62510410368e-08</td><td>0.000674103968777</td><td>3.66673339158e-05</td></tr></table></div>\n",
       "    <br />(rows: 63, time: 1.1s,    39KB processed, job: job_dUyxZRewAJ9ddEEFxDaNbqRGNHGU)<br />\n",
       "    <script>\n",
       "\n",
       "      require.config({\n",
       "        paths: {\n",
       "          d3: '//cdnjs.cloudflare.com/ajax/libs/d3/3.4.13/d3',\n",
       "          plotly: 'https://cdn.plot.ly/plotly-1.5.1.min.js?noext',\n",
       "          jquery: '//ajax.googleapis.com/ajax/libs/jquery/2.0.0/jquery.min'\n",
       "        },\n",
       "        map: {\n",
       "          '*': {\n",
       "            datalab: 'nbextensions/gcpdatalab'\n",
       "          }\n",
       "        },\n",
       "        shim: {\n",
       "          plotly: {\n",
       "            deps: ['d3', 'jquery'],\n",
       "            exports: 'plotly'\n",
       "          }\n",
       "        }\n",
       "      });\n",
       "\n",
       "      require(['datalab/charting', 'datalab/element!1_150839353440', 'base/js/events',\n",
       "          'datalab/style!/nbextensions/gcpdatalab/charting.css'],\n",
       "        function(charts, dom, events) {\n",
       "          charts.render('gcharts', dom, events, 'paged_table', [], {\"rows\": [{\"c\": [{\"v\": \"roses\"}, {\"v\": \"daisy\"}, {\"v\": 0.00010708186164265499}, {\"v\": 4.2452506932022516e-06}, {\"v\": 0.9853317141532898}, {\"v\": 0.014477844350039959}, {\"v\": 7.904822268756106e-05}]}, {\"c\": [{\"v\": \"roses\"}, {\"v\": \"daisy\"}, {\"v\": 0.003369041485711932}, {\"v\": 0.08177194744348526}, {\"v\": 0.8988310098648071}, {\"v\": 0.006066276226192713}, {\"v\": 0.009961684234440327}]}, {\"c\": [{\"v\": \"roses\"}, {\"v\": \"daisy\"}, {\"v\": 9.251647497876547e-06}, {\"v\": 3.0434519349142874e-09}, {\"v\": 0.9999369382858276}, {\"v\": 1.345161763310898e-06}, {\"v\": 5.236703873379156e-05}]}, {\"c\": [{\"v\": \"roses\"}, {\"v\": \"daisy\"}, {\"v\": 6.381031258939629e-09}, {\"v\": 1.1066415145366548e-11}, {\"v\": 0.9999254941940308}, {\"v\": 2.967619536775601e-07}, {\"v\": 7.423299393849447e-05}]}, {\"c\": [{\"v\": \"tulips\"}, {\"v\": \"daisy\"}, {\"v\": 4.83075413004741e-10}, {\"v\": 4.305220357991857e-08}, {\"v\": 1.145578835348715e-06}, {\"v\": 3.3784235711209476e-06}, {\"v\": 0.9999954700469971}]}, {\"c\": [{\"v\": \"dandelion\"}, {\"v\": \"daisy\"}, {\"v\": 8.159601660376873e-19}, {\"v\": 1.0}, {\"v\": 3.362993849494069e-26}, {\"v\": 7.308723101534788e-27}, {\"v\": 3.5269730469855345e-24}]}, {\"c\": [{\"v\": \"dandelion\"}, {\"v\": \"daisy\"}, {\"v\": 0.040657006204128265}, {\"v\": 0.9592769145965576}, {\"v\": 2.8338322977106145e-07}, {\"v\": 4.5682143536396325e-05}, {\"v\": 2.024800778599456e-05}]}, {\"c\": [{\"v\": \"dandelion\"}, {\"v\": \"daisy\"}, {\"v\": 3.268169530201703e-05}, {\"v\": 0.999963641166687}, {\"v\": 3.949536733216519e-07}, {\"v\": 3.0993896871223114e-06}, {\"v\": 2.7572102112571883e-07}]}, {\"c\": [{\"v\": \"dandelion\"}, {\"v\": \"daisy\"}, {\"v\": 5.038940376067558e-10}, {\"v\": 1.0}, {\"v\": 9.466834088834534e-16}, {\"v\": 2.095501506690911e-13}, {\"v\": 4.5557595917304974e-14}]}, {\"c\": [{\"v\": \"dandelion\"}, {\"v\": \"daisy\"}, {\"v\": 0.13962529599666595}, {\"v\": 0.8596177101135254}, {\"v\": 1.3303622381499736e-06}, {\"v\": 0.0006848402554169297}, {\"v\": 7.084345998009667e-05}]}, {\"c\": [{\"v\": \"sunflowers\"}, {\"v\": \"daisy\"}, {\"v\": 7.752867503540983e-08}, {\"v\": 3.92487065070668e-09}, {\"v\": 0.00010505552927497774}, {\"v\": 0.9998948574066162}, {\"v\": 3.022076200398516e-10}]}, {\"c\": [{\"v\": \"daisy\"}, {\"v\": \"roses\"}, {\"v\": 0.9906168580055237}, {\"v\": 2.06143031391548e-05}, {\"v\": 4.3092620671814075e-07}, {\"v\": 0.0093384999781847}, {\"v\": 2.3583035726915114e-05}]}, {\"c\": [{\"v\": \"tulips\"}, {\"v\": \"roses\"}, {\"v\": 7.716526972956217e-09}, {\"v\": 4.740157351079688e-07}, {\"v\": 2.3153936126618646e-05}, {\"v\": 5.860787132405676e-05}, {\"v\": 0.99991774559021}]}, {\"c\": [{\"v\": \"tulips\"}, {\"v\": \"roses\"}, {\"v\": 2.7269585894940107e-11}, {\"v\": 1.7996872880843284e-09}, {\"v\": 5.241851397386199e-08}, {\"v\": 3.034903954812762e-07}, {\"v\": 0.9999996423721313}]}, {\"c\": [{\"v\": \"tulips\"}, {\"v\": \"roses\"}, {\"v\": 3.4733484534713033e-13}, {\"v\": 4.564237442855612e-13}, {\"v\": 0.3485145568847656}, {\"v\": 1.5628699445713323e-09}, {\"v\": 0.6514854431152344}]}, {\"c\": [{\"v\": \"tulips\"}, {\"v\": \"roses\"}, {\"v\": 0.00017776869935914874}, {\"v\": 0.000231440324569121}, {\"v\": 0.001933783059939742}, {\"v\": 0.00993802398443222}, {\"v\": 0.987718939781189}]}, {\"c\": [{\"v\": \"tulips\"}, {\"v\": \"roses\"}, {\"v\": 7.391951385216089e-06}, {\"v\": 1.2639748092624359e-06}, {\"v\": 0.004816633649170399}, {\"v\": 3.032368294952903e-05}, {\"v\": 0.9951443076133728}]}, {\"c\": [{\"v\": \"tulips\"}, {\"v\": \"roses\"}, {\"v\": 3.4344017213472355e-11}, {\"v\": 1.0237009850921908e-10}, {\"v\": 8.964044440062935e-08}, {\"v\": 1.4948375337553443e-07}, {\"v\": 0.9999997615814209}]}, {\"c\": [{\"v\": \"tulips\"}, {\"v\": \"roses\"}, {\"v\": 3.0772439628974754e-16}, {\"v\": 9.477658241552334e-12}, {\"v\": 2.4459431702261725e-10}, {\"v\": 1.0336098643648484e-09}, {\"v\": 1.0}]}, {\"c\": [{\"v\": \"tulips\"}, {\"v\": \"roses\"}, {\"v\": 1.1362955715243928e-10}, {\"v\": 9.974752579466895e-09}, {\"v\": 0.0632723867893219}, {\"v\": 4.088786681677448e-06}, {\"v\": 0.9367234706878662}]}, {\"c\": [{\"v\": \"tulips\"}, {\"v\": \"roses\"}, {\"v\": 8.481023263502089e-18}, {\"v\": 8.01686787701289e-13}, {\"v\": 1.4808044568326295e-08}, {\"v\": 5.6106293222502046e-11}, {\"v\": 1.0}]}, {\"c\": [{\"v\": \"tulips\"}, {\"v\": \"roses\"}, {\"v\": 4.2167842551066315e-09}, {\"v\": 6.562040510971201e-08}, {\"v\": 6.521953037008643e-05}, {\"v\": 1.4361623925651656e-06}, {\"v\": 0.9999332427978516}]}, {\"c\": [{\"v\": \"tulips\"}, {\"v\": \"roses\"}, {\"v\": 1.0396036920212737e-08}, {\"v\": 2.0641693936340744e-06}, {\"v\": 3.890398829753394e-07}, {\"v\": 7.15018468326889e-05}, {\"v\": 0.9999260902404785}]}, {\"c\": [{\"v\": \"tulips\"}, {\"v\": \"roses\"}, {\"v\": 1.0743652372434473e-18}, {\"v\": 1.4016857065226457e-14}, {\"v\": 3.7043668132952234e-09}, {\"v\": 8.533606113414471e-12}, {\"v\": 1.0}]}, {\"c\": [{\"v\": \"dandelion\"}, {\"v\": \"roses\"}, {\"v\": 0.022526966407895088}, {\"v\": 0.9767621159553528}, {\"v\": 7.625104103681224e-08}, {\"v\": 0.0006741039687767625}, {\"v\": 3.666733391582966e-05}]}], \"cols\": [{\"type\": \"string\", \"id\": \"predicted\", \"label\": \"predicted\"}, {\"type\": \"string\", \"id\": \"target\", \"label\": \"target\"}, {\"type\": \"number\", \"id\": \"daisy\", \"label\": \"daisy\"}, {\"type\": \"number\", \"id\": \"dandelion\", \"label\": \"dandelion\"}, {\"type\": \"number\", \"id\": \"roses\", \"label\": \"roses\"}, {\"type\": \"number\", \"id\": \"sunflowers\", \"label\": \"sunflowers\"}, {\"type\": \"number\", \"id\": \"tulips\", \"label\": \"tulips\"}]},\n",
       "            {\n",
       "              pageSize: 25,\n",
       "              cssClassNames:  {\n",
       "                tableRow: 'gchart-table-row',\n",
       "                headerRow: 'gchart-table-headerrow',\n",
       "                oddTableRow: 'gchart-table-oddrow',\n",
       "                selectedTableRow: 'gchart-table-selectedrow',\n",
       "                hoverTableRow: 'gchart-table-hoverrow',\n",
       "                tableCell: 'gchart-table-cell',\n",
       "                headerCell: 'gchart-table-headercell',\n",
       "                rowNumberCell: 'gchart-table-rownumcell'\n",
       "              }\n",
       "            },\n",
       "            {source_index: 0, fields: 'predicted,target,daisy,dandelion,roses,sunflowers,tulips'},\n",
       "            0,\n",
       "            63);\n",
       "        }\n",
       "      );\n",
       "    </script>\n",
       "  "
      ],
      "text/plain": [
       "QueryResultsTable job_dUyxZRewAJ9ddEEFxDaNbqRGNHGU"
      ]
     },
     "execution_count": 24,
     "metadata": {},
     "output_type": "execute_result"
    }
   ],
   "source": [
    "%%bq query\n",
    "SELECT * FROM image_classification_results.flower WHERE predicted != target"
   ]
  },
  {
   "cell_type": "code",
   "execution_count": 26,
   "metadata": {
    "collapsed": false
   },
   "outputs": [
    {
     "data": {
      "text/html": [
       "\n",
       "          <script src=\"/static/components/requirejs/require.js\"></script>\n",
       "          <script>\n",
       "            requirejs.config({\n",
       "              paths: {\n",
       "                base: '/static/base',\n",
       "              },\n",
       "            });\n",
       "          </script>\n",
       "          "
      ],
      "text/plain": [
       "<IPython.core.display.HTML object>"
      ]
     },
     "metadata": {},
     "output_type": "display_data"
    },
    {
     "data": {
      "image/png": "[encoded data removed]",
      "text/plain": [
       "<matplotlib.figure.Figure at 0x7f3eef6812d0>"
      ]
     },
     "metadata": {},
     "output_type": "display_data"
    }
   ],
   "source": [
    "%%ml evaluate confusion_matrix --plot\n",
    "bigquery: image_classification_results.flower"
   ]
  },
  {
   "cell_type": "code",
   "execution_count": 27,
   "metadata": {
    "collapsed": false
   },
   "outputs": [
    {
     "data": {
      "text/html": [
       "\n",
       "          <script src=\"/static/components/requirejs/require.js\"></script>\n",
       "          <script>\n",
       "            requirejs.config({\n",
       "              paths: {\n",
       "                base: '/static/base',\n",
       "              },\n",
       "            });\n",
       "          </script>\n",
       "          "
      ],
      "text/plain": [
       "<IPython.core.display.HTML object>"
      ]
     },
     "metadata": {},
     "output_type": "display_data"
    },
    {
     "data": {
      "text/html": [
       "<div>\n",
       "<table border=\"1\" class=\"dataframe\">\n",
       "  <thead>\n",
       "    <tr style=\"text-align: right;\">\n",
       "      <th></th>\n",
       "      <th>target</th>\n",
       "      <th>accuracy</th>\n",
       "      <th>count</th>\n",
       "    </tr>\n",
       "  </thead>\n",
       "  <tbody>\n",
       "    <tr>\n",
       "      <th>0</th>\n",
       "      <td>daisy</td>\n",
       "      <td>0.909836</td>\n",
       "      <td>122</td>\n",
       "    </tr>\n",
       "    <tr>\n",
       "      <th>1</th>\n",
       "      <td>roses</td>\n",
       "      <td>0.857143</td>\n",
       "      <td>119</td>\n",
       "    </tr>\n",
       "    <tr>\n",
       "      <th>2</th>\n",
       "      <td>tulips</td>\n",
       "      <td>0.884615</td>\n",
       "      <td>130</td>\n",
       "    </tr>\n",
       "    <tr>\n",
       "      <th>3</th>\n",
       "      <td>dandelion</td>\n",
       "      <td>0.925926</td>\n",
       "      <td>162</td>\n",
       "    </tr>\n",
       "    <tr>\n",
       "      <th>4</th>\n",
       "      <td>sunflowers</td>\n",
       "      <td>0.941606</td>\n",
       "      <td>137</td>\n",
       "    </tr>\n",
       "    <tr>\n",
       "      <th>5</th>\n",
       "      <td>_all</td>\n",
       "      <td>0.905970</td>\n",
       "      <td>670</td>\n",
       "    </tr>\n",
       "  </tbody>\n",
       "</table>\n",
       "</div>"
      ],
      "text/plain": [
       "       target  accuracy  count\n",
       "0       daisy  0.909836    122\n",
       "1       roses  0.857143    119\n",
       "2      tulips  0.884615    130\n",
       "3   dandelion  0.925926    162\n",
       "4  sunflowers  0.941606    137\n",
       "5        _all  0.905970    670"
      ]
     },
     "execution_count": 27,
     "metadata": {},
     "output_type": "execute_result"
    }
   ],
   "source": [
    "%%ml evaluate accuracy\n",
    "bigquery: image_classification_results.flower"
   ]
  },
  {
   "cell_type": "markdown",
   "metadata": {},
   "source": [
    "# Online Prediction and Build Your Own Prediction Client\n",
    "\n",
    "Please see \"Flower Classification (small dataset experience)\" notebook for how to deploy the trained model and build your own prediction client."
   ]
  },
  {
   "cell_type": "markdown",
   "metadata": {},
   "source": [
    "# Cleanup"
   ]
  },
  {
   "cell_type": "code",
   "execution_count": null,
   "metadata": {
    "collapsed": false
   },
   "outputs": [],
   "source": [
    "!gsutil -m rm -rf gs://flower-datalab-demo-bucket-large-data"
   ]
  },
  {
   "cell_type": "code",
   "execution_count": null,
   "metadata": {
    "collapsed": true
   },
   "outputs": [],
   "source": []
  }
 ],
 "metadata": {
  "kernelspec": {
   "display_name": "Python 2",
   "language": "python",
   "name": "python2"
  },
  "language_info": {
   "codemirror_mode": {
    "name": "ipython",
    "version": 2
   },
   "file_extension": ".py",
   "mimetype": "text/x-python",
   "name": "python",
   "nbconvert_exporter": "python",
   "pygments_lexer": "ipython2",
   "version": "2.7.12"
  }
 },
 "nbformat": 4,
 "nbformat_minor": 2
}
