{
 "cells": [
  {
   "cell_type": "markdown",
   "metadata": {},
   "source": [
    "# MLWorkbench Magics\n",
    "\n",
    "The MLWorkbench Magics are a set of Datalab magic functions that allow an easy code-free experience to training, deploying, and predicting ML models. This notebook will take the cleaned data from the previous notebook and build a classification model. The MLWorkbench Magics are a collection of magic commands for each step in ML workflows: analyzing input data to build transforms, transforming data, training a model, evaluating a model, and deploying a model.\n",
    "\n",
    "When the dataset is small (like this one), there is little benefit of using cloud services. This notebook will run the analyze, transform, and training steps locally. However, we will take the locally trained model and deploy it to ML Engine and show how to make real predictions on a deployed model. Every MLWorkbench magic can run locally or use cloud services.\n",
    "\n",
    "If you changed the WORKSPACE_PATH variable in the previous notebook, you must also change it here. If you made no modifications, there is no need to update the next cell. The previous notebook must be executed before this one."
   ]
  },
  {
   "cell_type": "code",
   "execution_count": 1,
   "metadata": {
    "collapsed": true
   },
   "outputs": [],
   "source": [
    "WORKSPACE_PATH = '/content/datalab/workspace/structured_data_classification_stackoverflow'"
   ]
  },
  {
   "cell_type": "markdown",
   "metadata": {},
   "source": [
    "As we will deploy a model to ML Engine, we also need a GCS bucket location to save files. The bucket name needs to be unique. Please rename the following bucket if it exists."
   ]
  },
  {
   "cell_type": "code",
   "execution_count": 2,
   "metadata": {
    "collapsed": true
   },
   "outputs": [],
   "source": [
    "# Make a bucket name. This bucket name should not exist.\n",
    "gcs_bucket = 'gs://' + datalab_project_id() + '-mlworkbench-stackoverflow-lab' # Feel free to change this"
   ]
  },
  {
   "cell_type": "code",
   "execution_count": 3,
   "metadata": {
    "collapsed": true
   },
   "outputs": [],
   "source": [
    "import os\n",
    "import csv\n",
    "import re\n",
    "import pandas as pd\n",
    "import six\n",
    "import string\n",
    "import random\n",
    "import numpy as np\n",
    "import json"
   ]
  },
  {
   "cell_type": "code",
   "execution_count": 4,
   "metadata": {
    "collapsed": false
   },
   "outputs": [],
   "source": [
    "# Clean data \n",
    "clean_folder = os.path.join(WORKSPACE_PATH, 'clean_input')\n",
    "train_data_path = os.path.join(clean_folder, 'train.csv')\n",
    "eval_data_path = os.path.join(clean_folder, 'eval.csv')\n",
    "schema_path = os.path.join(clean_folder, 'schema.json')\n",
    "transform_path = os.path.join(clean_folder, 'transforms.json')\n",
    "\n",
    "# For analyze step\n",
    "analyze_output = os.path.join(WORKSPACE_PATH, 'analyze_output')\n",
    "\n",
    "# For the transform step\n",
    "transform_output = os.path.join(WORKSPACE_PATH, 'transform_output')\n",
    "transformed_train_pattern = os.path.join(transform_output, 'features_train*')\n",
    "transformed_eval_pattern = os.path.join(transform_output, 'features_eval*')\n",
    "\n",
    "# For the training step\n",
    "training_output = os.path.join(WORKSPACE_PATH, 'training_output')\n",
    "\n",
    "# For the prediction steps\n",
    "batch_predict_output = os.path.join(WORKSPACE_PATH, 'batch_predict_output')\n",
    "evaluation_model = os.path.join(training_output, 'evaluation_model')\n",
    "regular_model = os.path.join(training_output, 'model')\n",
    "\n",
    "# For depolying the model\n",
    "mlengine_model_name = 'stackoverflowmodel'\n",
    "mlengine_version_name = 'example'\n",
    "mlengine_full_name =  mlengine_model_name + '.' + mlengine_version_name"
   ]
  },
  {
   "cell_type": "code",
   "execution_count": 5,
   "metadata": {
    "collapsed": false
   },
   "outputs": [],
   "source": [
    "assert os.path.isfile(train_data_path) and os.path.isfile(eval_data_path)"
   ]
  },
  {
   "cell_type": "code",
   "execution_count": 6,
   "metadata": {
    "collapsed": true
   },
   "outputs": [],
   "source": [
    "# Load the features and schema into memory\n",
    "with open(schema_path) as f:\n",
    "    schema = json.loads(f.read())\n",
    "  \n",
    "with open(transform_path) as f:\n",
    "    transforms = json.loads(f.read())"
   ]
  },
  {
   "cell_type": "markdown",
   "metadata": {},
   "source": [
    "# Step 1: Analyze the csv file\n",
    "\n",
    "The first step in the MLWorkbench workflow is to analyze the data for the requested transformations. The analyze step will compute the vocabularies for the categorical columns and related statistics for the numerical columns. These values are used during training.\n",
    "\n",
    "Note that in the YAML, we use the '\\$var_name' pattern. Datalab will automatically include the values of python variables in the YAML if they start with '\\$'."
   ]
  },
  {
   "cell_type": "code",
   "execution_count": 7,
   "metadata": {
    "collapsed": true
   },
   "outputs": [],
   "source": [
    "import google.datalab.contrib.mlworkbench.commands # this loads the %%ml commands"
   ]
  },
  {
   "cell_type": "code",
   "execution_count": 8,
   "metadata": {
    "collapsed": false
   },
   "outputs": [
    {
     "name": "stdout",
     "output_type": "stream",
     "text": [
      "Expanding any file patterns...\n",
      "file list computed.\n",
      "Analyzing file /content/datalab/workspace/structured_data_classification_stackoverflow/clean_input/train.csv...\n",
      "file /content/datalab/workspace/structured_data_classification_stackoverflow/clean_input/train.csv analyzed.\n"
     ]
    }
   ],
   "source": [
    "%%ml analyze\n",
    "output: $analyze_output\n",
    "training_data:\n",
    "    csv: $train_data_path\n",
    "    schema: $schema\n",
    "features: $transforms"
   ]
  },
  {
   "cell_type": "code",
   "execution_count": 9,
   "metadata": {
    "collapsed": false
   },
   "outputs": [
    {
     "name": "stdout",
     "output_type": "stream",
     "text": [
      "features.json\r\n",
      "schema.json\r\n",
      "stats.json\r\n",
      "vocab_AnnoyingUI.csv\r\n",
      "vocab_AssessJobCommute.csv\r\n",
      "vocab_AssessJobCompensation.csv\r\n",
      "vocab_AssessJobDept.csv\r\n",
      "vocab_AssessJobDiversity.csv\r\n",
      "vocab_AssessJobExp.csv\r\n",
      "vocab_AssessJobFinances.csv\r\n",
      "vocab_AssessJobIndustry.csv\r\n",
      "vocab_AssessJobLeaders.csv\r\n",
      "vocab_AssessJobOffice.csv\r\n",
      "vocab_AssessJobProduct.csv\r\n",
      "vocab_AssessJobProfDevel.csv\r\n",
      "vocab_AssessJobProjects.csv\r\n",
      "vocab_AssessJobRemote.csv\r\n",
      "vocab_AssessJobRole.csv\r\n",
      "vocab_AssessJobTech.csv\r\n",
      "vocab_AuditoryEnvironment.csv\r\n",
      "vocab_BoringDetails.csv\r\n",
      "vocab_BuildingThings.csv\r\n",
      "vocab_ChallengeMyself.csv\r\n",
      "vocab_ChangeWorld.csv\r\n",
      "vocab_CheckInCode.csv\r\n",
      "vocab_ClickyKeys.csv\r\n",
      "vocab_CollaborateRemote.csv\r\n",
      "vocab_CompanySize.csv\r\n",
      "vocab_CompanyType.csv\r\n",
      "vocab_CompetePeers.csv\r\n",
      "vocab_Country.csv\r\n",
      "vocab_CousinEducation.csv\r\n",
      "vocab_Currency.csv\r\n",
      "vocab_DeveloperType.csv\r\n",
      "vocab_DifficultCommunication.csv\r\n",
      "vocab_DiversityImportant.csv\r\n",
      "vocab_EducationImportant.csv\r\n",
      "vocab_EducationTypes.csv\r\n",
      "vocab_EmploymentStatus.csv\r\n",
      "vocab_EnjoyDebugging.csv\r\n",
      "vocab_EquipmentSatisfiedCPU.csv\r\n",
      "vocab_EquipmentSatisfiedMonitors.csv\r\n",
      "vocab_EquipmentSatisfiedRAM.csv\r\n",
      "vocab_EquipmentSatisfiedRW.csv\r\n",
      "vocab_EquipmentSatisfiedStorage.csv\r\n",
      "vocab_ExCoder10Years.csv\r\n",
      "vocab_ExCoderActive.csv\r\n",
      "vocab_ExCoderBalance.csv\r\n",
      "vocab_ExCoderBelonged.csv\r\n",
      "vocab_ExCoderNotForMe.csv\r\n",
      "vocab_ExCoderReturn.csv\r\n",
      "vocab_ExCoderSkills.csv\r\n",
      "vocab_ExCoderWillNotCode.csv\r\n",
      "vocab_FormalEducation.csv\r\n",
      "vocab_FriendsDevelopers.csv\r\n",
      "vocab_Gender.csv\r\n",
      "vocab_HaveWorkedDatabase.csv\r\n",
      "vocab_HaveWorkedFramework.csv\r\n",
      "vocab_HaveWorkedLanguage.csv\r\n",
      "vocab_HaveWorkedPlatform.csv\r\n",
      "vocab_HighestEducationParents.csv\r\n",
      "vocab_HomeRemote.csv\r\n",
      "vocab_IDE.csv\r\n",
      "vocab_ImportantBenefits.csv\r\n",
      "vocab_ImportantHiringAlgorithms.csv\r\n",
      "vocab_ImportantHiringCommunication.csv\r\n",
      "vocab_ImportantHiringCompanies.csv\r\n",
      "vocab_ImportantHiringEducation.csv\r\n",
      "vocab_ImportantHiringGettingThingsDone.csv\r\n",
      "vocab_ImportantHiringOpenSource.csv\r\n",
      "vocab_ImportantHiringPMExp.csv\r\n",
      "vocab_ImportantHiringRep.csv\r\n",
      "vocab_ImportantHiringTechExp.csv\r\n",
      "vocab_ImportantHiringTitles.csv\r\n",
      "vocab_InfluenceCloud.csv\r\n",
      "vocab_InfluenceCommunication.csv\r\n",
      "vocab_InfluenceConsultants.csv\r\n",
      "vocab_InfluenceDatabase.csv\r\n",
      "vocab_InfluenceDeptTech.csv\r\n",
      "vocab_InfluenceHardware.csv\r\n",
      "vocab_InfluenceInternet.csv\r\n",
      "vocab_InfluenceRecruitment.csv\r\n",
      "vocab_InfluenceServers.csv\r\n",
      "vocab_InfluenceTechStack.csv\r\n",
      "vocab_InfluenceVizTools.csv\r\n",
      "vocab_InfluenceWorkstation.csv\r\n",
      "vocab_InterestedAnswers.csv\r\n",
      "vocab_InTheZone.csv\r\n",
      "vocab_InvestTimeTools.csv\r\n",
      "vocab_JobProfile.csv\r\n",
      "vocab_JobSecurity.csv\r\n",
      "vocab_JobSeekingStatus.csv\r\n",
      "vocab_KinshipDevelopers.csv\r\n",
      "vocab_LastNewJob.csv\r\n",
      "vocab_LearnedHiring.csv\r\n",
      "vocab_LearningNewTech.csv\r\n",
      "vocab_MajorUndergrad.csv\r\n",
      "vocab_Methodology.csv\r\n",
      "vocab_MetricAssess.csv\r\n",
      "vocab_MobileDeveloperType.csv\r\n",
      "vocab_NonDeveloperType.csv\r\n",
      "vocab_OtherPeoplesCode.csv\r\n",
      "vocab_Overpaid.csv\r\n",
      "vocab_ProblemSolving.csv\r\n",
      "vocab_Professional.csv\r\n",
      "vocab_ProgramHobby.csv\r\n",
      "vocab_ProjectManagement.csv\r\n",
      "vocab_PronounceGIF.csv\r\n",
      "vocab_QuestionsConfusing.csv\r\n",
      "vocab_QuestionsInteresting.csv\r\n",
      "vocab_Race.csv\r\n",
      "vocab_ResumePrompted.csv\r\n",
      "vocab_RightWrongWay.csv\r\n",
      "vocab_SelfTaughtTypes.csv\r\n",
      "vocab_SeriousWork.csv\r\n",
      "vocab_ShipIt.csv\r\n",
      "vocab_StackOverflowAdsDistracting.csv\r\n",
      "vocab_StackOverflowAdsRelevant.csv\r\n",
      "vocab_StackOverflowAnswer.csv\r\n",
      "vocab_StackOverflowBetter.csv\r\n",
      "vocab_StackOverflowCommunity.csv\r\n",
      "vocab_StackOverflowCompanyPage.csv\r\n",
      "vocab_StackOverflowCopiedCode.csv\r\n",
      "vocab_StackOverflowDescribes.csv\r\n",
      "vocab_StackOverflowDevices.csv\r\n",
      "vocab_StackOverflowFoundAnswer.csv\r\n",
      "vocab_StackOverflowHelpful.csv\r\n",
      "vocab_StackOverflowJobListing.csv\r\n",
      "vocab_StackOverflowJobSearch.csv\r\n",
      "vocab_StackOverflowMakeMoney.csv\r\n",
      "vocab_StackOverflowMetaChat.csv\r\n",
      "vocab_StackOverflowModeration.csv\r\n",
      "vocab_StackOverflowNewQuestion.csv\r\n",
      "vocab_StackOverflowWhatDo.csv\r\n",
      "vocab_SurveyLong.csv\r\n",
      "vocab_TabsSpaces.csv\r\n",
      "vocab_TimeAfterBootcamp.csv\r\n",
      "vocab_UnderstandComputers.csv\r\n",
      "vocab_University.csv\r\n",
      "vocab_VersionControl.csv\r\n",
      "vocab_WantWorkDatabase.csv\r\n",
      "vocab_WantWorkFramework.csv\r\n",
      "vocab_WantWorkLanguage.csv\r\n",
      "vocab_WantWorkPlatform.csv\r\n",
      "vocab_WebDeveloperType.csv\r\n",
      "vocab_WorkPayCare.csv\r\n",
      "vocab_WorkStart.csv\r\n",
      "vocab_YearsCodedJob.csv\r\n",
      "vocab_YearsCodedJobPast.csv\r\n",
      "vocab_YearsProgram.csv\r\n"
     ]
    }
   ],
   "source": [
    "!ls $analyze_output"
   ]
  },
  {
   "cell_type": "markdown",
   "metadata": {},
   "source": [
    "# Step 2: Transforming the input data\n",
    "\n",
    "This step is only required if the input data has an image path column. The transform step performs some transformations on the input data and saves the results to a special TensorFlow file called a TFRecord file containing TF.Example protocall buffers. This allows training to start from preprocessed data. If this step is not used, training would have to perform the same preprocessing on every row of csv data every time it is used. As TensorFlow reads the same data row multiple times during training, this means the same row would be preprocessed multiple times. By writing the preprocessed data to disk, we can improve training performance. \n",
    "\n",
    "Because the data is small, and other ML Workbench samples perform the transform step, this notebook will skip this step. Training will start from the cleaned csv files. \n",
    "\n",
    "However, we will still run the transformation cells below (which should take only a few minutes). As an exercise, modify the training step to use the preprocessed files!"
   ]
  },
  {
   "cell_type": "code",
   "execution_count": 10,
   "metadata": {
    "collapsed": true
   },
   "outputs": [],
   "source": [
    "!rm -r -f $transform_output"
   ]
  },
  {
   "cell_type": "code",
   "execution_count": 11,
   "metadata": {
    "collapsed": false
   },
   "outputs": [
    {
     "name": "stdout",
     "output_type": "stream",
     "text": [
      "2017-07-26 18:33:06.785468: W tensorflow/core/platform/cpu_feature_guard.cc:45] The TensorFlow library wasn't compiled to use SSE4.1 instructions, but these are available on your machine and could speed up CPU computations.\n",
      "2017-07-26 18:33:06.785514: W tensorflow/core/platform/cpu_feature_guard.cc:45] The TensorFlow library wasn't compiled to use SSE4.2 instructions, but these are available on your machine and could speed up CPU computations.\n",
      "2017-07-26 18:33:06.785545: W tensorflow/core/platform/cpu_feature_guard.cc:45] The TensorFlow library wasn't compiled to use AVX instructions, but these are available on your machine and could speed up CPU computations.\n",
      "2017-07-26 18:33:06.785567: W tensorflow/core/platform/cpu_feature_guard.cc:45] The TensorFlow library wasn't compiled to use AVX2 instructions, but these are available on your machine and could speed up CPU computations.\n",
      "2017-07-26 18:33:06.785583: W tensorflow/core/platform/cpu_feature_guard.cc:45] The TensorFlow library wasn't compiled to use FMA instructions, but these are available on your machine and could speed up CPU computations.\n",
      "WARNING:root:Couldn't find python-snappy so the implementation of _TFRecordUtil._masked_crc32c is not as fast as it could be.\n"
     ]
    }
   ],
   "source": [
    "%%ml transform\n",
    "output: $transform_output\n",
    "analysis: $analyze_output\n",
    "prefix: features_train\n",
    "training_data:\n",
    "    csv: $train_data_path"
   ]
  },
  {
   "cell_type": "code",
   "execution_count": 12,
   "metadata": {
    "collapsed": false
   },
   "outputs": [
    {
     "name": "stdout",
     "output_type": "stream",
     "text": [
      "2017-07-26 18:36:14.824544: W tensorflow/core/platform/cpu_feature_guard.cc:45] The TensorFlow library wasn't compiled to use SSE4.1 instructions, but these are available on your machine and could speed up CPU computations.\n",
      "2017-07-26 18:36:14.824592: W tensorflow/core/platform/cpu_feature_guard.cc:45] The TensorFlow library wasn't compiled to use SSE4.2 instructions, but these are available on your machine and could speed up CPU computations.\n",
      "2017-07-26 18:36:14.824603: W tensorflow/core/platform/cpu_feature_guard.cc:45] The TensorFlow library wasn't compiled to use AVX instructions, but these are available on your machine and could speed up CPU computations.\n",
      "2017-07-26 18:36:14.824611: W tensorflow/core/platform/cpu_feature_guard.cc:45] The TensorFlow library wasn't compiled to use AVX2 instructions, but these are available on your machine and could speed up CPU computations.\n",
      "2017-07-26 18:36:14.824620: W tensorflow/core/platform/cpu_feature_guard.cc:45] The TensorFlow library wasn't compiled to use FMA instructions, but these are available on your machine and could speed up CPU computations.\n",
      "WARNING:root:Couldn't find python-snappy so the implementation of _TFRecordUtil._masked_crc32c is not as fast as it could be.\n"
     ]
    }
   ],
   "source": [
    "%%ml transform\n",
    "output: $transform_output\n",
    "analysis: $analyze_output\n",
    "prefix: features_eval\n",
    "training_data:\n",
    "    csv: $eval_data_path"
   ]
  },
  {
   "cell_type": "code",
   "execution_count": 13,
   "metadata": {
    "collapsed": false
   },
   "outputs": [
    {
     "name": "stdout",
     "output_type": "stream",
     "text": [
      "errors_features_eval-00000-of-00001.txt\r\n",
      "errors_features_train-00000-of-00001.txt\r\n",
      "features_eval-00000-of-00011.tfrecord.gz\r\n",
      "features_eval-00001-of-00011.tfrecord.gz\r\n",
      "features_eval-00002-of-00011.tfrecord.gz\r\n",
      "features_eval-00003-of-00011.tfrecord.gz\r\n",
      "features_eval-00004-of-00011.tfrecord.gz\r\n",
      "features_eval-00005-of-00011.tfrecord.gz\r\n",
      "features_eval-00006-of-00011.tfrecord.gz\r\n",
      "features_eval-00007-of-00011.tfrecord.gz\r\n",
      "features_eval-00008-of-00011.tfrecord.gz\r\n",
      "features_eval-00009-of-00011.tfrecord.gz\r\n",
      "features_eval-00010-of-00011.tfrecord.gz\r\n",
      "features_train-00000-of-00041.tfrecord.gz\r\n",
      "features_train-00001-of-00041.tfrecord.gz\r\n",
      "features_train-00002-of-00041.tfrecord.gz\r\n",
      "features_train-00003-of-00041.tfrecord.gz\r\n",
      "features_train-00004-of-00041.tfrecord.gz\r\n",
      "features_train-00005-of-00041.tfrecord.gz\r\n",
      "features_train-00006-of-00041.tfrecord.gz\r\n",
      "features_train-00007-of-00041.tfrecord.gz\r\n",
      "features_train-00008-of-00041.tfrecord.gz\r\n",
      "features_train-00009-of-00041.tfrecord.gz\r\n",
      "features_train-00010-of-00041.tfrecord.gz\r\n",
      "features_train-00011-of-00041.tfrecord.gz\r\n",
      "features_train-00012-of-00041.tfrecord.gz\r\n",
      "features_train-00013-of-00041.tfrecord.gz\r\n",
      "features_train-00014-of-00041.tfrecord.gz\r\n",
      "features_train-00015-of-00041.tfrecord.gz\r\n",
      "features_train-00016-of-00041.tfrecord.gz\r\n",
      "features_train-00017-of-00041.tfrecord.gz\r\n",
      "features_train-00018-of-00041.tfrecord.gz\r\n",
      "features_train-00019-of-00041.tfrecord.gz\r\n",
      "features_train-00020-of-00041.tfrecord.gz\r\n",
      "features_train-00021-of-00041.tfrecord.gz\r\n",
      "features_train-00022-of-00041.tfrecord.gz\r\n",
      "features_train-00023-of-00041.tfrecord.gz\r\n",
      "features_train-00024-of-00041.tfrecord.gz\r\n",
      "features_train-00025-of-00041.tfrecord.gz\r\n",
      "features_train-00026-of-00041.tfrecord.gz\r\n",
      "features_train-00027-of-00041.tfrecord.gz\r\n",
      "features_train-00028-of-00041.tfrecord.gz\r\n",
      "features_train-00029-of-00041.tfrecord.gz\r\n",
      "features_train-00030-of-00041.tfrecord.gz\r\n",
      "features_train-00031-of-00041.tfrecord.gz\r\n",
      "features_train-00032-of-00041.tfrecord.gz\r\n",
      "features_train-00033-of-00041.tfrecord.gz\r\n",
      "features_train-00034-of-00041.tfrecord.gz\r\n",
      "features_train-00035-of-00041.tfrecord.gz\r\n",
      "features_train-00036-of-00041.tfrecord.gz\r\n",
      "features_train-00037-of-00041.tfrecord.gz\r\n",
      "features_train-00038-of-00041.tfrecord.gz\r\n",
      "features_train-00039-of-00041.tfrecord.gz\r\n",
      "features_train-00040-of-00041.tfrecord.gz\r\n"
     ]
    }
   ],
   "source": [
    "# Let's look at the output\n",
    "!ls $transform_output"
   ]
  },
  {
   "cell_type": "code",
   "execution_count": 14,
   "metadata": {
    "collapsed": false
   },
   "outputs": [
    {
     "name": "stdout",
     "output_type": "stream",
     "text": [
      "0 /content/datalab/workspace/structured_data_classification_stackoverflow/transform_output/errors_features_eval-00000-of-00001.txt\r\n",
      "0 /content/datalab/workspace/structured_data_classification_stackoverflow/transform_output/errors_features_train-00000-of-00001.txt\r\n",
      "0 total\r\n"
     ]
    }
   ],
   "source": [
    "# Error files are written even if there are no errors.\n",
    "# Check that they are empty\n",
    "!wc -l $transform_output/errors*"
   ]
  },
  {
   "cell_type": "markdown",
   "metadata": {},
   "source": [
    "# Step 3: Training\n",
    "\n",
    "MLWorkbench automatically builds standard TensorFlow models without you having to write any TensorFlow code. The command below starts training from the cleaned csv files.\n",
    "\n",
    "As an exercise, run training again with the preprocessed files from the training step and note any performance differences. (Hint: there should be an improvement when using transformed files, but it will be small because the dataset is small. Model accuracy should be similar, but not guaranteed to be the same). To do this, replace \"csv: \\$train_data_path\" with \"transformed: \\$transformed_train_pattern\" in the training cell (and do the same for evaluation_data), and then run the next two cells.\n",
    "\n",
    "The '%time' magic will output the running time of the cell."
   ]
  },
  {
   "cell_type": "code",
   "execution_count": 15,
   "metadata": {
    "collapsed": true
   },
   "outputs": [],
   "source": [
    "# Training should use an empty output folder. So if you run training multiple times,\n",
    "# use different folders or remove the output from the previous run.\n",
    "!rm -fr $training_output"
   ]
  },
  {
   "cell_type": "code",
   "execution_count": 16,
   "metadata": {
    "collapsed": false
   },
   "outputs": [
    {
     "name": "stdout",
     "output_type": "stream",
     "text": [
      "WARNING:tensorflow:The default stddev value of initializer will change from \"1/sqrt(vocab_size)\" to \"1/sqrt(dimension)\" after 2017/02/25.\n",
      "WARNING:tensorflow:The default stddev value of initializer will change from \"1/sqrt(vocab_size)\" to \"1/sqrt(dimension)\" after 2017/02/25.\n",
      "WARNING:tensorflow:The default stddev value of initializer will change from \"1/sqrt(vocab_size)\" to \"1/sqrt(dimension)\" after 2017/02/25.\n",
      "WARNING:tensorflow:The default stddev value of initializer will change from \"1/sqrt(vocab_size)\" to \"1/sqrt(dimension)\" after 2017/02/25.\n",
      "WARNING:tensorflow:The default stddev value of initializer will change from \"1/sqrt(vocab_size)\" to \"1/sqrt(dimension)\" after 2017/02/25.\n",
      "WARNING:tensorflow:The default stddev value of initializer will change from \"1/sqrt(vocab_size)\" to \"1/sqrt(dimension)\" after 2017/02/25.\n",
      "WARNING:tensorflow:The default stddev value of initializer will change from \"1/sqrt(vocab_size)\" to \"1/sqrt(dimension)\" after 2017/02/25.\n",
      "WARNING:tensorflow:The default stddev value of initializer will change from \"1/sqrt(vocab_size)\" to \"1/sqrt(dimension)\" after 2017/02/25.\n",
      "WARNING:tensorflow:The default stddev value of initializer will change from \"1/sqrt(vocab_size)\" to \"1/sqrt(dimension)\" after 2017/02/25.\n",
      "WARNING:tensorflow:The default stddev value of initializer will change from \"1/sqrt(vocab_size)\" to \"1/sqrt(dimension)\" after 2017/02/25.\n",
      "WARNING:tensorflow:The default stddev value of initializer will change from \"1/sqrt(vocab_size)\" to \"1/sqrt(dimension)\" after 2017/02/25.\n",
      "WARNING:tensorflow:The default stddev value of initializer will change from \"1/sqrt(vocab_size)\" to \"1/sqrt(dimension)\" after 2017/02/25.\n",
      "WARNING:tensorflow:The default stddev value of initializer will change from \"1/sqrt(vocab_size)\" to \"1/sqrt(dimension)\" after 2017/02/25.\n",
      "WARNING:tensorflow:The default stddev value of initializer will change from \"1/sqrt(vocab_size)\" to \"1/sqrt(dimension)\" after 2017/02/25.\n",
      "WARNING:tensorflow:The default stddev value of initializer will change from \"1/sqrt(vocab_size)\" to \"1/sqrt(dimension)\" after 2017/02/25.\n",
      "WARNING:tensorflow:The default stddev value of initializer will change from \"1/sqrt(vocab_size)\" to \"1/sqrt(dimension)\" after 2017/02/25.\n",
      "WARNING:tensorflow:The default stddev value of initializer will change from \"1/sqrt(vocab_size)\" to \"1/sqrt(dimension)\" after 2017/02/25.\n",
      "WARNING:tensorflow:The default stddev value of initializer will change from \"1/sqrt(vocab_size)\" to \"1/sqrt(dimension)\" after 2017/02/25.\n",
      "WARNING:tensorflow:The default stddev value of initializer will change from \"1/sqrt(vocab_size)\" to \"1/sqrt(dimension)\" after 2017/02/25.\n",
      "WARNING:tensorflow:The default stddev value of initializer will change from \"1/sqrt(vocab_size)\" to \"1/sqrt(dimension)\" after 2017/02/25.\n",
      "WARNING:tensorflow:The default stddev value of initializer will change from \"1/sqrt(vocab_size)\" to \"1/sqrt(dimension)\" after 2017/02/25.\n",
      "INFO:tensorflow:Using config: {'_save_checkpoints_secs': 60, '_num_ps_replicas': 0, '_keep_checkpoint_max': 5, '_task_type': None, '_is_chief': True, '_cluster_spec': <tensorflow.python.training.server_lib.ClusterSpec object at 0x7f75f627ed90>, '_model_dir': '/content/datalab/workspace/structured_data_classification_stackoverflow/training_output/train', '_save_checkpoints_steps': None, '_keep_checkpoint_every_n_hours': 10000, '_session_config': None, '_tf_random_seed': None, '_environment': 'local', '_num_worker_replicas': 0, '_task_id': 0, '_save_summary_steps': 100, '_tf_config': gpu_options {\n",
      "  per_process_gpu_memory_fraction: 1.0\n",
      "}\n",
      ", '_evaluation_master': '', '_master': ''}\n",
      "WARNING:tensorflow:From /usr/local/lib/python2.7/dist-packages/tensorflow/contrib/learn/python/learn/monitors.py:268: __init__ (from tensorflow.contrib.learn.python.learn.monitors) is deprecated and will be removed after 2016-12-05.\n",
      "Instructions for updating:\n",
      "Monitors are deprecated. Please use tf.train.SessionRunHook.\n",
      "WARNING:tensorflow:From /usr/local/lib/python2.7/dist-packages/tensorflow/contrib/learn/python/learn/estimators/head.py:625: scalar_summary (from tensorflow.python.ops.logging_ops) is deprecated and will be removed after 2016-11-30.\n",
      "Instructions for updating:\n",
      "Please switch to tf.summary.scalar. Note that tf.summary.scalar uses the node name instead of the tag. This means that TensorFlow will automatically de-duplicate summary names based on the scope they are created in. Also, passing a tensor or list of tags to a scalar summary op is no longer supported.\n",
      "INFO:tensorflow:Create CheckpointSaverHook.\n",
      "2017-07-26 18:37:14.705211: W tensorflow/core/platform/cpu_feature_guard.cc:45] The TensorFlow library wasn't compiled to use SSE4.1 instructions, but these are available on your machine and could speed up CPU computations.\n",
      "2017-07-26 18:37:14.705249: W tensorflow/core/platform/cpu_feature_guard.cc:45] The TensorFlow library wasn't compiled to use SSE4.2 instructions, but these are available on your machine and could speed up CPU computations.\n",
      "2017-07-26 18:37:14.705269: W tensorflow/core/platform/cpu_feature_guard.cc:45] The TensorFlow library wasn't compiled to use AVX instructions, but these are available on your machine and could speed up CPU computations.\n",
      "2017-07-26 18:37:14.705294: W tensorflow/core/platform/cpu_feature_guard.cc:45] The TensorFlow library wasn't compiled to use AVX2 instructions, but these are available on your machine and could speed up CPU computations.\n",
      "2017-07-26 18:37:14.705310: W tensorflow/core/platform/cpu_feature_guard.cc:45] The TensorFlow library wasn't compiled to use FMA instructions, but these are available on your machine and could speed up CPU computations.\n",
      "INFO:tensorflow:Saving checkpoints for 1 into /content/datalab/workspace/structured_data_classification_stackoverflow/training_output/train/model.ckpt.\n",
      "INFO:tensorflow:loss = 1.25846, step = 1\n",
      "WARNING:tensorflow:From /usr/local/lib/python2.7/dist-packages/tensorflow/contrib/learn/python/learn/estimators/head.py:625: scalar_summary (from tensorflow.python.ops.logging_ops) is deprecated and will be removed after 2016-11-30.\n",
      "Instructions for updating:\n",
      "Please switch to tf.summary.scalar. Note that tf.summary.scalar uses the node name instead of the tag. This means that TensorFlow will automatically de-duplicate summary names based on the scope they are created in. Also, passing a tensor or list of tags to a scalar summary op is no longer supported.\n",
      "INFO:tensorflow:Starting evaluation at 2017-07-26-18:37:28\n",
      "INFO:tensorflow:Restoring parameters from /content/datalab/workspace/structured_data_classification_stackoverflow/training_output/train/model.ckpt-1\n",
      "INFO:tensorflow:Finished evaluation at 2017-07-26-18:37:31\n",
      "INFO:tensorflow:Saving dict for global step 1: accuracy = 0.699278, global_step = 1, loss = 1.55175\n",
      "INFO:tensorflow:Validation (step 100): loss = 1.55175, global_step = 1, accuracy = 0.699278\n",
      "INFO:tensorflow:global_step/sec: 7.77664\n",
      "INFO:tensorflow:loss = 0.0780835, step = 101 (12.859 sec)\n",
      "INFO:tensorflow:global_step/sec: 68.2166\n",
      "INFO:tensorflow:loss = 0.086621, step = 201 (1.466 sec)\n",
      "INFO:tensorflow:global_step/sec: 67.3877\n",
      "INFO:tensorflow:loss = 0.180323, step = 301 (1.484 sec)\n",
      "INFO:tensorflow:global_step/sec: 66.7811\n",
      "INFO:tensorflow:loss = 0.0262305, step = 401 (1.497 sec)\n",
      "INFO:tensorflow:global_step/sec: 69.0711\n",
      "INFO:tensorflow:loss = 0.00988171, step = 501 (1.448 sec)\n",
      "INFO:tensorflow:global_step/sec: 69.0833\n",
      "INFO:tensorflow:loss = 0.0309221, step = 601 (1.448 sec)\n",
      "INFO:tensorflow:global_step/sec: 72.6567\n",
      "INFO:tensorflow:loss = 0.0637644, step = 701 (1.376 sec)\n",
      "INFO:tensorflow:global_step/sec: 68.445\n",
      "INFO:tensorflow:loss = 0.0282762, step = 801 (1.461 sec)\n",
      "INFO:tensorflow:global_step/sec: 69.2362\n",
      "INFO:tensorflow:loss = 0.0316552, step = 901 (1.444 sec)\n",
      "INFO:tensorflow:global_step/sec: 68.9507\n",
      "INFO:tensorflow:loss = 0.00162704, step = 1001 (1.450 sec)\n",
      "INFO:tensorflow:global_step/sec: 73.9864\n",
      "INFO:tensorflow:loss = 0.0846839, step = 1101 (1.352 sec)\n",
      "INFO:tensorflow:global_step/sec: 69.003\n",
      "INFO:tensorflow:loss = 0.0419233, step = 1201 (1.449 sec)\n",
      "INFO:tensorflow:global_step/sec: 70.3573\n",
      "INFO:tensorflow:loss = 0.0164403, step = 1301 (1.421 sec)\n",
      "INFO:tensorflow:global_step/sec: 68.7015\n",
      "INFO:tensorflow:loss = 0.0664363, step = 1401 (1.456 sec)\n",
      "INFO:tensorflow:global_step/sec: 72.1113\n",
      "INFO:tensorflow:loss = 0.0555236, step = 1501 (1.387 sec)\n",
      "INFO:tensorflow:global_step/sec: 70.2449\n",
      "INFO:tensorflow:loss = 0.00153188, step = 1601 (1.424 sec)\n",
      "INFO:tensorflow:global_step/sec: 70.8658\n",
      "INFO:tensorflow:loss = 0.0322529, step = 1701 (1.411 sec)\n",
      "INFO:tensorflow:global_step/sec: 70.7851\n",
      "INFO:tensorflow:loss = 0.000682549, step = 1801 (1.413 sec)\n",
      "INFO:tensorflow:global_step/sec: 74.5892\n",
      "INFO:tensorflow:loss = 0.0508164, step = 1901 (1.341 sec)\n",
      "INFO:tensorflow:global_step/sec: 72.4108\n",
      "INFO:tensorflow:loss = 0.00718755, step = 2001 (1.381 sec)\n",
      "INFO:tensorflow:global_step/sec: 66.7959\n",
      "INFO:tensorflow:loss = 0.0576602, step = 2101 (1.497 sec)\n",
      "INFO:tensorflow:global_step/sec: 71.6325\n",
      "INFO:tensorflow:loss = 0.026785, step = 2201 (1.396 sec)\n",
      "INFO:tensorflow:global_step/sec: 72.2868\n",
      "INFO:tensorflow:loss = 0.000306092, step = 2301 (1.383 sec)\n",
      "INFO:tensorflow:global_step/sec: 70.3786\n",
      "INFO:tensorflow:loss = 0.00897107, step = 2401 (1.421 sec)\n",
      "INFO:tensorflow:global_step/sec: 67.4283\n",
      "INFO:tensorflow:loss = 0.0351195, step = 2501 (1.483 sec)\n",
      "INFO:tensorflow:global_step/sec: 69.7741\n",
      "INFO:tensorflow:loss = 0.0269869, step = 2601 (1.433 sec)\n",
      "INFO:tensorflow:global_step/sec: 73.5314\n",
      "INFO:tensorflow:loss = 0.00193407, step = 2701 (1.360 sec)\n",
      "INFO:tensorflow:global_step/sec: 71.5243\n",
      "INFO:tensorflow:loss = 0.0530642, step = 2801 (1.398 sec)\n",
      "INFO:tensorflow:global_step/sec: 68.9625\n",
      "INFO:tensorflow:loss = 0.0086888, step = 2901 (1.450 sec)\n",
      "INFO:tensorflow:global_step/sec: 70.0374\n",
      "INFO:tensorflow:loss = 0.01378, step = 3001 (1.428 sec)\n",
      "INFO:tensorflow:global_step/sec: 63.7932\n",
      "INFO:tensorflow:loss = 0.00420545, step = 3101 (1.568 sec)\n",
      "INFO:tensorflow:global_step/sec: 70.8725\n",
      "INFO:tensorflow:loss = 0.064105, step = 3201 (1.411 sec)\n",
      "INFO:tensorflow:global_step/sec: 67.9373\n",
      "INFO:tensorflow:loss = 0.00305077, step = 3301 (1.472 sec)\n",
      "INFO:tensorflow:Saving checkpoints for 3314 into /content/datalab/workspace/structured_data_classification_stackoverflow/training_output/train/model.ckpt.\n",
      "WARNING:tensorflow:From /usr/local/lib/python2.7/dist-packages/tensorflow/contrib/learn/python/learn/estimators/head.py:625: scalar_summary (from tensorflow.python.ops.logging_ops) is deprecated and will be removed after 2016-11-30.\n",
      "Instructions for updating:\n",
      "Please switch to tf.summary.scalar. Note that tf.summary.scalar uses the node name instead of the tag. This means that TensorFlow will automatically de-duplicate summary names based on the scope they are created in. Also, passing a tensor or list of tags to a scalar summary op is no longer supported.\n",
      "INFO:tensorflow:Starting evaluation at 2017-07-26-18:38:27\n",
      "INFO:tensorflow:Restoring parameters from /content/datalab/workspace/structured_data_classification_stackoverflow/training_output/train/model.ckpt-3314\n",
      "INFO:tensorflow:Finished evaluation at 2017-07-26-18:38:30\n",
      "INFO:tensorflow:Saving dict for global step 3314: accuracy = 0.984031, global_step = 3314, loss = 0.0500303\n",
      "INFO:tensorflow:Validation (step 3400): loss = 0.0500303, global_step = 3314, accuracy = 0.984031\n",
      "INFO:tensorflow:global_step/sec: 8.72157\n",
      "INFO:tensorflow:loss = 0.056441, step = 3401 (11.466 sec)\n",
      "INFO:tensorflow:global_step/sec: 71.3872\n",
      "INFO:tensorflow:loss = 0.00647198, step = 3501 (1.401 sec)\n",
      "INFO:tensorflow:global_step/sec: 71.493\n",
      "INFO:tensorflow:loss = 0.00147255, step = 3601 (1.399 sec)\n",
      "INFO:tensorflow:global_step/sec: 66.4391\n",
      "INFO:tensorflow:loss = 0.0317211, step = 3701 (1.505 sec)\n",
      "INFO:tensorflow:global_step/sec: 69.4701\n",
      "INFO:tensorflow:loss = 0.0140467, step = 3801 (1.440 sec)\n",
      "INFO:tensorflow:global_step/sec: 67.3956\n",
      "INFO:tensorflow:loss = 0.0358911, step = 3901 (1.484 sec)\n",
      "INFO:tensorflow:global_step/sec: 66.7317\n",
      "INFO:tensorflow:loss = 0.000344783, step = 4001 (1.498 sec)\n",
      "INFO:tensorflow:global_step/sec: 62.1203\n",
      "INFO:tensorflow:loss = 0.0305382, step = 4101 (1.610 sec)\n",
      "INFO:tensorflow:global_step/sec: 66.3338\n",
      "INFO:tensorflow:loss = 0.0223733, step = 4201 (1.508 sec)\n",
      "INFO:tensorflow:global_step/sec: 62.8662\n",
      "INFO:tensorflow:loss = 0.0294969, step = 4301 (1.591 sec)\n",
      "INFO:tensorflow:global_step/sec: 68.9446\n",
      "INFO:tensorflow:loss = 0.00153696, step = 4401 (1.450 sec)\n",
      "INFO:tensorflow:global_step/sec: 62.0567\n",
      "INFO:tensorflow:loss = 0.000648719, step = 4501 (1.611 sec)\n",
      "INFO:tensorflow:global_step/sec: 68.2964\n",
      "INFO:tensorflow:loss = 0.02092, step = 4601 (1.464 sec)\n",
      "INFO:tensorflow:global_step/sec: 71.094\n",
      "INFO:tensorflow:loss = 0.0486534, step = 4701 (1.407 sec)\n",
      "INFO:tensorflow:global_step/sec: 72.6363\n",
      "INFO:tensorflow:loss = 0.0413566, step = 4801 (1.376 sec)\n",
      "INFO:tensorflow:global_step/sec: 69.2378\n",
      "INFO:tensorflow:loss = 0.000531157, step = 4901 (1.444 sec)\n",
      "INFO:tensorflow:Saving checkpoints for 5000 into /content/datalab/workspace/structured_data_classification_stackoverflow/training_output/train/model.ckpt.\n",
      "INFO:tensorflow:Loss for final step: 0.00508257.\n",
      "WARNING:tensorflow:From /usr/local/lib/python2.7/dist-packages/tensorflow/contrib/learn/python/learn/estimators/head.py:625: scalar_summary (from tensorflow.python.ops.logging_ops) is deprecated and will be removed after 2016-11-30.\n",
      "Instructions for updating:\n",
      "Please switch to tf.summary.scalar. Note that tf.summary.scalar uses the node name instead of the tag. This means that TensorFlow will automatically de-duplicate summary names based on the scope they are created in. Also, passing a tensor or list of tags to a scalar summary op is no longer supported.\n",
      "INFO:tensorflow:Starting evaluation at 2017-07-26-18:39:01\n",
      "INFO:tensorflow:Restoring parameters from /content/datalab/workspace/structured_data_classification_stackoverflow/training_output/train/model.ckpt-5000\n",
      "INFO:tensorflow:Finished evaluation at 2017-07-26-18:39:04\n",
      "INFO:tensorflow:Saving dict for global step 5000: accuracy = 0.985378, global_step = 5000, loss = 0.0507546\n",
      "INFO:tensorflow:Restoring parameters from /content/datalab/workspace/structured_data_classification_stackoverflow/training_output/train/model.ckpt-5000\n",
      "INFO:tensorflow:Assets added to graph.\n",
      "INFO:tensorflow:No assets to write.\n",
      "INFO:tensorflow:SavedModel written to: /content/datalab/workspace/structured_data_classification_stackoverflow/training_output/train/export/intermediate_prediction_models/1501094351/saved_model.pb\n",
      "INFO:tensorflow:Restoring parameters from /content/datalab/workspace/structured_data_classification_stackoverflow/training_output/train/model.ckpt-5000\n",
      "INFO:tensorflow:Assets added to graph.\n",
      "INFO:tensorflow:No assets to write.\n",
      "INFO:tensorflow:SavedModel written to: /content/datalab/workspace/structured_data_classification_stackoverflow/training_output/train/export/intermediate_evaluation_models/1501094359/saved_model.pb\n",
      "CPU times: user 116 ms, sys: 44 ms, total: 160 ms\n",
      "Wall time: 2min 22s\n"
     ]
    }
   ],
   "source": [
    "%time\n",
    "%%ml train\n",
    "output: $training_output\n",
    "analysis: $analyze_output\n",
    "training_data:\n",
    "    csv: $train_data_path\n",
    "evaluation_data:\n",
    "    csv: $eval_data_path\n",
    "model_args:\n",
    "    model: dnn_classification\n",
    "    hidden-layer-size1: 100\n",
    "    max-steps: 5000\n",
    "    top-n: 2\n",
    "    save-checkpoints-secs: 60"
   ]
  },
  {
   "cell_type": "markdown",
   "metadata": {},
   "source": [
    "# Step 4: Evaluation using batch prediction\n",
    "\n",
    "Below, we use the evaluation model and run batch prediction locally. Batch prediction is good for large datasets where the data cannot fit in memory or when you want to limit peak memory usage."
   ]
  },
  {
   "cell_type": "code",
   "execution_count": 17,
   "metadata": {
    "collapsed": false
   },
   "outputs": [
    {
     "name": "stdout",
     "output_type": "stream",
     "text": [
      "local prediction...\n",
      "INFO:tensorflow:Restoring parameters from /content/datalab/workspace/structured_data_classification_stackoverflow/training_output/evaluation_model/variables/variables\n",
      "done.\n"
     ]
    }
   ],
   "source": [
    "%%ml batch_predict\n",
    "model: $evaluation_model\n",
    "output: $batch_predict_output\n",
    "format: csv\n",
    "prediction_data:\n",
    "  csv: $eval_data_path"
   ]
  },
  {
   "cell_type": "code",
   "execution_count": 18,
   "metadata": {
    "collapsed": false
   },
   "outputs": [
    {
     "name": "stdout",
     "output_type": "stream",
     "text": [
      "predict_results_eval.csv  predict_results_schema.json\r\n"
     ]
    }
   ],
   "source": [
    "!ls $batch_predict_output"
   ]
  },
  {
   "cell_type": "code",
   "execution_count": 19,
   "metadata": {
    "collapsed": false
   },
   "outputs": [
    {
     "name": "stdout",
     "output_type": "stream",
     "text": [
      "[\r\n",
      "  {\r\n",
      "    \"type\": \"INTEGER\", \r\n",
      "    \"name\": \"Respondent\"\r\n",
      "  }, \r\n",
      "  {\r\n",
      "    \"type\": \"STRING\", \r\n",
      "    \"name\": \"predicted\"\r\n",
      "  }, \r\n",
      "  {\r\n",
      "    \"type\": \"STRING\", \r\n",
      "    \"name\": \"predicted_2\"\r\n",
      "  }, \r\n",
      "  {\r\n",
      "    \"type\": \"FLOAT\", \r\n",
      "    \"name\": \"probability\"\r\n",
      "  }, \r\n",
      "  {\r\n",
      "    \"type\": \"FLOAT\", \r\n",
      "    \"name\": \"probability_2\"\r\n",
      "  }, \r\n",
      "  {\r\n",
      "    \"type\": \"STRING\", \r\n",
      "    \"name\": \"target\"\r\n",
      "  }\r\n",
      "]"
     ]
    }
   ],
   "source": [
    "!cat $batch_predict_output/predict_results_schema.json"
   ]
  },
  {
   "cell_type": "code",
   "execution_count": 20,
   "metadata": {
    "collapsed": false
   },
   "outputs": [],
   "source": [
    "# Read the schema file\n",
    "with open(os.path.join(batch_predict_output, 'predict_results_schema.json')) as f:\n",
    "  predict_schema = json.loads(f.read())"
   ]
  },
  {
   "cell_type": "code",
   "execution_count": 21,
   "metadata": {
    "collapsed": false
   },
   "outputs": [
    {
     "name": "stdout",
     "output_type": "stream",
     "text": [
      "                                                      precision    recall  f1-score   support\n",
      "\n",
      "                                       None of these       0.69      0.64      0.67       199\n",
      "                              Professional developer       1.00      1.00      1.00      7269\n",
      "Professional non-developer who sometimes writes code       0.99      0.99      0.99      1042\n",
      "                                             Student       0.95      0.96      0.96      1690\n",
      "                 Used to be a professional developer       1.00      0.97      0.99       195\n",
      "\n",
      "                                         avg / total       0.99      0.99      0.99     10395\n",
      "\n",
      "Accuracy\n",
      "0.985377585378\n"
     ]
    },
    {
     "data": {
      "image/png": "[encoded data removed]",
      "text/plain": [
       "<matplotlib.figure.Figure at 0x7f45b5198c50>"
      ]
     },
     "metadata": {},
     "output_type": "display_data"
    }
   ],
   "source": [
    "from sklearn.metrics import classification_report, confusion_matrix\n",
    "from google.datalab.ml import ConfusionMatrix\n",
    "\n",
    "# Read the prediciton results\n",
    "prediction_results = pd.read_csv(\n",
    "    os.path.join(batch_predict_output, 'predict_results_eval.csv'),\n",
    "    header=None,\n",
    "    names=[col['name'] for col in predict_schema])\n",
    "y_predicted = prediction_results['predicted'].tolist()\n",
    "y_true = prediction_results['target'].tolist()\n",
    "classes = sorted(list(set(y_predicted + y_true)))\n",
    "\n",
    "# print precision and recall\n",
    "print(classification_report(y_true, y_predicted, target_names=classes))\n",
    "\n",
    "# print a confusion matrix using a Datalab function\n",
    "cm = confusion_matrix(y_true, y_predicted, classes)\n",
    "ConfusionMatrix(cm, classes).plot(figsize=(8,8), rotation=90)\n",
    "\n",
    "print('Accuracy')\n",
    "print(sum([1 for a, b in zip(y_true, y_predicted) if a == b])/float(len(y_true)))"
   ]
  },
  {
   "cell_type": "markdown",
   "metadata": {},
   "source": [
    "# Step 5: Instant prediction\n",
    "\n",
    "The MLWorkbench also supports running prediction and displaying the results within the notebook. Note that we use the non-evaluation model below, so the target column is removed."
   ]
  },
  {
   "cell_type": "code",
   "execution_count": 22,
   "metadata": {
    "collapsed": false
   },
   "outputs": [
    {
     "name": "stdout",
     "output_type": "stream",
     "text": [
      "1,Student,\"Yes, both\",United States,No,\"Not employed, and not looking for work\",Secondary school,,,,,2 to 3 years,,,,,,,,,,,,,,,,,\"With a soft \"\"g,\"\" like \"\"jiff\"\"\",Strongly agree,Strongly agree,Agree,Disagree,Strongly agree,Agree,Agree,Disagree,Somewhat agree,Disagree,Strongly agree,Strongly agree,Strongly disagree,Agree,Agree,Disagree,Agree,\"I'm not actively looking, but I am open to new opportunities\",0.0,Not applicable/ never,Very important,Very important,Important,Very important,Very important,Very important,Important,Very important,Very important,Very important,Very important,Very important,Somewhat important,Not very important,Somewhat important,Stock_options Vacation/days_off Remote_options,Yes,Other,,,Important,Important,Important,Somewhat important,Important,Not very important,Not very important,Not at all important,Somewhat important,Very important,,,Tabs,,Online_course Open_source_contributions,,,,6:00 AM,Swift,Swift,,,,,iOS,iOS,Atom Xcode,Turn on some music,,,,,,,,,,,,Somewhat satisfied,Not very satisfied,Not at all satisfied,Very satisfied,Satisfied,Not very satisfied,,,,,,,,,,,,I have created a CV or Developer Story on Stack Overflow,9.0,Desktop iOS_app,At least once each week,Haven't done at all,Once or twice,Haven't done at all,Haven't done at all,Several times,Several times,Once or twice,Somewhat agree,Strongly disagree,Strongly disagree,Strongly agree,Agree,Strongly agree,Strongly agree,Strongly disagree,Male,High school,White_or_of_European_descent,Strongly disagree,Strongly agree,Disagree,Strongly agree,,\r\n",
      "7,Professional non-developer who sometimes writes code,\"Yes, both\",United States,No,Employed full-time,Master's degree,A non-computer-focused engineering discipline,\"Less than half the time, but at least one day each week\",20 to 99 employees,Government agency or public school/university,9 to 10 years,8 to 9 years,,,,,Data_scientist,7.0,6.0,,,,,,,,,\"With a hard \"\"g,\"\" like \"\"gift\"\"\",,,,,,,,,,,,,,,,,,\"I'm not actively looking, but I am open to new opportunities\",1.0,More than 4 years ago,Somewhat important,Very important,Not very important,Important,Important,Very important,Important,Important,Important,Very important,Very important,Very important,Somewhat important,Not very important,Very important,Health_benefits Equipment Professional_development_sponsorship Education_sponsorship Remote_options,Yes,,,\"A friend, family member, or former colleague told me\",Very important,Important,Important,Somewhat important,Somewhat important,Somewhat important,Somewhat important,Somewhat important,Not very important,Very important,,,Spaces,,Online_course Part-time/evening_course On-the-job_training Self-taught Open_source_contributions,Official_documentation Trade_book Textbook Stack_Overflow_Q&A Friends_network Built-in_help,,,7:00 AM,Matlab Python,JavaScript Julia Matlab Python R SQL,,Hadoop Node.js,SQLite,MongoDB SQL_Server PostgreSQL SQLite,Windows_Desktop,Arduino Raspberry_Pi,Sublime_Text IPython_/_Jupyter Visual_Studio_Code,Turn on some music,,,,,,,,,,,,Satisfied,Very satisfied,Very satisfied,Satisfied,Satisfied,Very satisfied,Some influence,No influence at all,Not much influence,Not much influence,A lot of influence,A lot of influence,Some influence,No influence at all,No influence at all,No influence at all,Not much influence,I have created a CV or Developer Story on Stack Overflow,8.0,Desktop iOS_browser iOS_app,Several times,Once or twice,Haven't done at all,Haven't done at all,Haven't done at all,Haven't done at all,Several times,At least once each day,Somewhat agree,Disagree,Disagree,Agree,Agree,Strongly agree,Agree,Disagree,Male,A doctoral degree,White_or_of_European_descent,Disagree,Agree,Disagree,Agree,,\r\n",
      "14,Professional developer,\"Yes, both\",Germany,No,Employed full-time,Some college/university study without earning a bachelor's degree,Computer science or software engineering,\"Less than half the time, but at least one day each week\",Fewer than 10 employees,Venture-funded startup,15 to 16 years,15 to 16 years,,Web_developer,Full stack Web developer,,,8.0,6.0,,,,,,,,,\"With a hard \"\"g,\"\" like \"\"gift\"\"\",,,,,,,,,,,,,,,,,,I am actively looking for a job,3.0,Between 1 and 2 years ago,Somewhat important,Important,Important,Somewhat important,Important,Somewhat important,Important,Somewhat important,Important,Important,Important,Important,Not very important,Important,Important,Stock_options Vacation/days_off Equipment Professional_development_sponsorship Remote_options,Yes,LinkedIn Xing,I was just giving it a regular update,\"A friend, family member, or former colleague told me\",Somewhat important,Somewhat important,Important,Somewhat important,Somewhat important,Somewhat important,Somewhat important,Not very important,Somewhat important,Important,,,Spaces,Not at all important,Part-time/evening_course On-the-job_training Self-taught Coding_competition Hackathon Open_source_contributions,Official_documentation Trade_book Stack_Overflow_Q&A,,,10:00 AM,Java JavaScript Ruby SQL,JavaScript Ruby Rust Swift,React,React,Redis MySQL PostgreSQL,Redis PostgreSQL,Amazon_Web_Services_(AWS),Amazon_Web_Services_(AWS),Vim,Turn on some music,Agile Lean Scrum Extreme Pair Kanban,Git,Multiple times a day,Somewhat agree,Disagree,Disagree,Somewhat agree,Agree,Disagree,Somewhat agree,Customer_satisfaction Benchmarked_product_performance On_time/in_budget Revenue_performance Manager's_rating Peers'_rating Self-rating,Satisfied,Satisfied,Satisfied,Satisfied,Satisfied,Not very satisfied,A lot of influence,Some influence,I am the final decision maker,I am the final decision maker,I am the final decision maker,A lot of influence,I am the final decision maker,I am the final decision maker,Some influence,A lot of influence,Some influence,I have created a CV or Developer Story on Stack Overflow,10.0,Desktop,Several times,Several times,Haven't done at all,Haven't done at all,Haven't done at all,Haven't done at all,Several times,Haven't done at all,Somewhat agree,Somewhat agree,Disagree,Agree,Strongly agree,Agree,Somewhat agree,Disagree,Female,A master's degree,Hispanic_or_Latino/Latina,Somewhat agree,Agree,Disagree,Strongly agree,,\r\n"
     ]
    }
   ],
   "source": [
    "!head $eval_data_path -n 3"
   ]
  },
  {
   "cell_type": "code",
   "execution_count": 23,
   "metadata": {
    "collapsed": false
   },
   "outputs": [],
   "source": [
    "headers_string = ','.join([x['name'] for x in schema if x['name'] != schema[1]['name']])"
   ]
  },
  {
   "cell_type": "markdown",
   "metadata": {},
   "source": [
    "Feel free to copy the 3 rows above into the prediction list below, but don't forget to remove the target column (the 2nd column). Note that the column order must batch what was used during training."
   ]
  },
  {
   "cell_type": "code",
   "execution_count": 24,
   "metadata": {
    "collapsed": false
   },
   "outputs": [
    {
     "data": {
      "text/html": [
       "<table border=\"1\" class=\"dataframe\">\n",
       "  <thead>\n",
       "    <tr style=\"text-align: right;\">\n",
       "      <th>Respondent</th>\n",
       "      <th>predicted</th>\n",
       "      <th>predicted_2</th>\n",
       "      <th>probability</th>\n",
       "      <th>probability_2</th>\n",
       "      <th>AnnoyingUI</th>\n",
       "      <th>AssessJobCommute</th>\n",
       "      <th>AssessJobCompensation</th>\n",
       "      <th>AssessJobDept</th>\n",
       "      <th>AssessJobDiversity</th>\n",
       "      <th>AssessJobExp</th>\n",
       "      <th>AssessJobFinances</th>\n",
       "      <th>AssessJobIndustry</th>\n",
       "      <th>AssessJobLeaders</th>\n",
       "      <th>AssessJobOffice</th>\n",
       "      <th>AssessJobProduct</th>\n",
       "      <th>AssessJobProfDevel</th>\n",
       "      <th>AssessJobProjects</th>\n",
       "      <th>AssessJobRemote</th>\n",
       "      <th>AssessJobRole</th>\n",
       "      <th>AssessJobTech</th>\n",
       "      <th>AuditoryEnvironment</th>\n",
       "      <th>BoringDetails</th>\n",
       "      <th>BuildingThings</th>\n",
       "      <th>CareerSatisfaction</th>\n",
       "      <th>ChallengeMyself</th>\n",
       "      <th>ChangeWorld</th>\n",
       "      <th>CheckInCode</th>\n",
       "      <th>ClickyKeys</th>\n",
       "      <th>CollaborateRemote</th>\n",
       "      <th>CompanySize</th>\n",
       "      <th>CompanyType</th>\n",
       "      <th>CompetePeers</th>\n",
       "      <th>Country</th>\n",
       "      <th>CousinEducation</th>\n",
       "      <th>Currency</th>\n",
       "      <th>DeveloperType</th>\n",
       "      <th>DifficultCommunication</th>\n",
       "      <th>DiversityImportant</th>\n",
       "      <th>EducationImportant</th>\n",
       "      <th>EducationTypes</th>\n",
       "      <th>EmploymentStatus</th>\n",
       "      <th>EnjoyDebugging</th>\n",
       "      <th>EquipmentSatisfiedCPU</th>\n",
       "      <th>EquipmentSatisfiedMonitors</th>\n",
       "      <th>EquipmentSatisfiedRAM</th>\n",
       "      <th>EquipmentSatisfiedRW</th>\n",
       "      <th>EquipmentSatisfiedStorage</th>\n",
       "      <th>ExCoder10Years</th>\n",
       "      <th>ExCoderActive</th>\n",
       "      <th>ExCoderBalance</th>\n",
       "      <th>ExCoderBelonged</th>\n",
       "      <th>ExCoderNotForMe</th>\n",
       "      <th>ExCoderReturn</th>\n",
       "      <th>ExCoderSkills</th>\n",
       "      <th>ExCoderWillNotCode</th>\n",
       "      <th>ExpectedSalary</th>\n",
       "      <th>FormalEducation</th>\n",
       "      <th>FriendsDevelopers</th>\n",
       "      <th>Gender</th>\n",
       "      <th>HaveWorkedDatabase</th>\n",
       "      <th>HaveWorkedFramework</th>\n",
       "      <th>HaveWorkedLanguage</th>\n",
       "      <th>HaveWorkedPlatform</th>\n",
       "      <th>HighestEducationParents</th>\n",
       "      <th>HomeRemote</th>\n",
       "      <th>HoursPerWeek</th>\n",
       "      <th>IDE</th>\n",
       "      <th>ImportantBenefits</th>\n",
       "      <th>ImportantHiringAlgorithms</th>\n",
       "      <th>ImportantHiringCommunication</th>\n",
       "      <th>ImportantHiringCompanies</th>\n",
       "      <th>ImportantHiringEducation</th>\n",
       "      <th>ImportantHiringGettingThingsDone</th>\n",
       "      <th>ImportantHiringOpenSource</th>\n",
       "      <th>ImportantHiringPMExp</th>\n",
       "      <th>ImportantHiringRep</th>\n",
       "      <th>ImportantHiringTechExp</th>\n",
       "      <th>ImportantHiringTitles</th>\n",
       "      <th>InTheZone</th>\n",
       "      <th>InfluenceCloud</th>\n",
       "      <th>InfluenceCommunication</th>\n",
       "      <th>InfluenceConsultants</th>\n",
       "      <th>InfluenceDatabase</th>\n",
       "      <th>InfluenceDeptTech</th>\n",
       "      <th>InfluenceHardware</th>\n",
       "      <th>InfluenceInternet</th>\n",
       "      <th>InfluenceRecruitment</th>\n",
       "      <th>InfluenceServers</th>\n",
       "      <th>InfluenceTechStack</th>\n",
       "      <th>InfluenceVizTools</th>\n",
       "      <th>InfluenceWorkstation</th>\n",
       "      <th>InterestedAnswers</th>\n",
       "      <th>InvestTimeTools</th>\n",
       "      <th>JobProfile</th>\n",
       "      <th>JobSatisfaction</th>\n",
       "      <th>JobSecurity</th>\n",
       "      <th>JobSeekingStatus</th>\n",
       "      <th>KinshipDevelopers</th>\n",
       "      <th>LastNewJob</th>\n",
       "      <th>LearnedHiring</th>\n",
       "      <th>LearningNewTech</th>\n",
       "      <th>MajorUndergrad</th>\n",
       "      <th>Methodology</th>\n",
       "      <th>MetricAssess</th>\n",
       "      <th>MobileDeveloperType</th>\n",
       "      <th>NonDeveloperType</th>\n",
       "      <th>OtherPeoplesCode</th>\n",
       "      <th>Overpaid</th>\n",
       "      <th>ProblemSolving</th>\n",
       "      <th>ProgramHobby</th>\n",
       "      <th>ProjectManagement</th>\n",
       "      <th>PronounceGIF</th>\n",
       "      <th>QuestionsConfusing</th>\n",
       "      <th>QuestionsInteresting</th>\n",
       "      <th>Race</th>\n",
       "      <th>ResumePrompted</th>\n",
       "      <th>RightWrongWay</th>\n",
       "      <th>Salary</th>\n",
       "      <th>SelfTaughtTypes</th>\n",
       "      <th>SeriousWork</th>\n",
       "      <th>ShipIt</th>\n",
       "      <th>StackOverflowAdsDistracting</th>\n",
       "      <th>StackOverflowAdsRelevant</th>\n",
       "      <th>StackOverflowAnswer</th>\n",
       "      <th>StackOverflowBetter</th>\n",
       "      <th>StackOverflowCommunity</th>\n",
       "      <th>StackOverflowCompanyPage</th>\n",
       "      <th>StackOverflowCopiedCode</th>\n",
       "      <th>StackOverflowDescribes</th>\n",
       "      <th>StackOverflowDevices</th>\n",
       "      <th>StackOverflowFoundAnswer</th>\n",
       "      <th>StackOverflowHelpful</th>\n",
       "      <th>StackOverflowJobListing</th>\n",
       "      <th>StackOverflowJobSearch</th>\n",
       "      <th>StackOverflowMakeMoney</th>\n",
       "      <th>StackOverflowMetaChat</th>\n",
       "      <th>StackOverflowModeration</th>\n",
       "      <th>StackOverflowNewQuestion</th>\n",
       "      <th>StackOverflowSatisfaction</th>\n",
       "      <th>StackOverflowWhatDo</th>\n",
       "      <th>SurveyLong</th>\n",
       "      <th>TabsSpaces</th>\n",
       "      <th>TimeAfterBootcamp</th>\n",
       "      <th>UnderstandComputers</th>\n",
       "      <th>University</th>\n",
       "      <th>VersionControl</th>\n",
       "      <th>WantWorkDatabase</th>\n",
       "      <th>WantWorkFramework</th>\n",
       "      <th>WantWorkLanguage</th>\n",
       "      <th>WantWorkPlatform</th>\n",
       "      <th>WebDeveloperType</th>\n",
       "      <th>WorkPayCare</th>\n",
       "      <th>WorkStart</th>\n",
       "      <th>YearsCodedJob</th>\n",
       "      <th>YearsCodedJobPast</th>\n",
       "      <th>YearsProgram</th>\n",
       "    </tr>\n",
       "  </thead>\n",
       "  <tbody>\n",
       "    <tr>\n",
       "      <td>1</td>\n",
       "      <td>Student</td>\n",
       "      <td>None of these</td>\n",
       "      <td>0.824098</td>\n",
       "      <td>1.759011e-01</td>\n",
       "      <td>Agree</td>\n",
       "      <td>Very important</td>\n",
       "      <td>Important</td>\n",
       "      <td>Very important</td>\n",
       "      <td>Somewhat important</td>\n",
       "      <td>Important</td>\n",
       "      <td>Somewhat important</td>\n",
       "      <td>Very important</td>\n",
       "      <td>Very important</td>\n",
       "      <td>Very important</td>\n",
       "      <td>Not very important</td>\n",
       "      <td>Very important</td>\n",
       "      <td>Very important</td>\n",
       "      <td>Very important</td>\n",
       "      <td>Very important</td>\n",
       "      <td>Very important</td>\n",
       "      <td>Turn on some music</td>\n",
       "      <td>Disagree</td>\n",
       "      <td>Strongly agree</td>\n",
       "      <td></td>\n",
       "      <td>Agree</td>\n",
       "      <td>Agree</td>\n",
       "      <td></td>\n",
       "      <td>Yes</td>\n",
       "      <td></td>\n",
       "      <td></td>\n",
       "      <td></td>\n",
       "      <td>Disagree</td>\n",
       "      <td>United States</td>\n",
       "      <td></td>\n",
       "      <td></td>\n",
       "      <td></td>\n",
       "      <td></td>\n",
       "      <td>Agree</td>\n",
       "      <td></td>\n",
       "      <td>Online_course Open_source_contributions</td>\n",
       "      <td>Not employed, and not looking for work</td>\n",
       "      <td></td>\n",
       "      <td>Not very satisfied</td>\n",
       "      <td>Somewhat satisfied</td>\n",
       "      <td>Not at all satisfied</td>\n",
       "      <td>Satisfied</td>\n",
       "      <td>Very satisfied</td>\n",
       "      <td></td>\n",
       "      <td></td>\n",
       "      <td></td>\n",
       "      <td></td>\n",
       "      <td></td>\n",
       "      <td></td>\n",
       "      <td></td>\n",
       "      <td></td>\n",
       "      <td></td>\n",
       "      <td>Secondary school</td>\n",
       "      <td>Disagree</td>\n",
       "      <td>Male</td>\n",
       "      <td></td>\n",
       "      <td></td>\n",
       "      <td>Swift</td>\n",
       "      <td>iOS</td>\n",
       "      <td>High school</td>\n",
       "      <td></td>\n",
       "      <td>0.0</td>\n",
       "      <td>Atom Xcode</td>\n",
       "      <td>Stock_options Vacation/days_off Remot...</td>\n",
       "      <td>Important</td>\n",
       "      <td>Important</td>\n",
       "      <td>Not very important</td>\n",
       "      <td>Not at all important</td>\n",
       "      <td>Very important</td>\n",
       "      <td>Somewhat important</td>\n",
       "      <td>Important</td>\n",
       "      <td>Somewhat important</td>\n",
       "      <td>Important</td>\n",
       "      <td>Not very important</td>\n",
       "      <td></td>\n",
       "      <td></td>\n",
       "      <td></td>\n",
       "      <td></td>\n",
       "      <td></td>\n",
       "      <td></td>\n",
       "      <td></td>\n",
       "      <td>Not very satisfied</td>\n",
       "      <td></td>\n",
       "      <td></td>\n",
       "      <td></td>\n",
       "      <td></td>\n",
       "      <td></td>\n",
       "      <td>Strongly agree</td>\n",
       "      <td>Strongly agree</td>\n",
       "      <td>Other</td>\n",
       "      <td></td>\n",
       "      <td>Strongly agree</td>\n",
       "      <td>I'm not actively looking, but I am op...</td>\n",
       "      <td>Agree</td>\n",
       "      <td>Not applicable/ never</td>\n",
       "      <td></td>\n",
       "      <td>Agree</td>\n",
       "      <td></td>\n",
       "      <td></td>\n",
       "      <td></td>\n",
       "      <td></td>\n",
       "      <td></td>\n",
       "      <td></td>\n",
       "      <td></td>\n",
       "      <td>Strongly agree</td>\n",
       "      <td>Yes, both</td>\n",
       "      <td></td>\n",
       "      <td>With a soft \"g,\" like \"jiff\"</td>\n",
       "      <td>Disagree</td>\n",
       "      <td>Strongly agree</td>\n",
       "      <td>White_or_of_European_descent</td>\n",
       "      <td></td>\n",
       "      <td>Somewhat agree</td>\n",
       "      <td></td>\n",
       "      <td></td>\n",
       "      <td>Strongly agree</td>\n",
       "      <td></td>\n",
       "      <td>Strongly disagree</td>\n",
       "      <td>Somewhat agree</td>\n",
       "      <td>Several times</td>\n",
       "      <td>Strongly agree</td>\n",
       "      <td>Strongly agree</td>\n",
       "      <td>Haven't done at all</td>\n",
       "      <td>Haven't done at all</td>\n",
       "      <td>I have created a CV or Developer Stor...</td>\n",
       "      <td>Desktop iOS_app</td>\n",
       "      <td>At least once each week</td>\n",
       "      <td>Agree</td>\n",
       "      <td>Once or twice</td>\n",
       "      <td>Haven't done at all</td>\n",
       "      <td>Strongly disagree</td>\n",
       "      <td>Once or twice</td>\n",
       "      <td>Strongly disagree</td>\n",
       "      <td>Several times</td>\n",
       "      <td>9.0</td>\n",
       "      <td>Strongly agree</td>\n",
       "      <td>Strongly disagree</td>\n",
       "      <td>Tabs</td>\n",
       "      <td></td>\n",
       "      <td>Disagree</td>\n",
       "      <td>No</td>\n",
       "      <td></td>\n",
       "      <td></td>\n",
       "      <td></td>\n",
       "      <td>Swift</td>\n",
       "      <td>iOS</td>\n",
       "      <td></td>\n",
       "      <td>Strongly disagree</td>\n",
       "      <td>6:00 AM</td>\n",
       "      <td></td>\n",
       "      <td></td>\n",
       "      <td>2 to 3 years</td>\n",
       "    </tr>\n",
       "    <tr>\n",
       "      <td>7</td>\n",
       "      <td>Professional non-developer who someti...</td>\n",
       "      <td>Professional developer</td>\n",
       "      <td>1.000000</td>\n",
       "      <td>2.699775e-10</td>\n",
       "      <td></td>\n",
       "      <td>Important</td>\n",
       "      <td>Important</td>\n",
       "      <td>Important</td>\n",
       "      <td>Somewhat important</td>\n",
       "      <td>Not very important</td>\n",
       "      <td>Very important</td>\n",
       "      <td>Somewhat important</td>\n",
       "      <td>Very important</td>\n",
       "      <td>Important</td>\n",
       "      <td>Not very important</td>\n",
       "      <td>Very important</td>\n",
       "      <td>Very important</td>\n",
       "      <td>Very important</td>\n",
       "      <td>Very important</td>\n",
       "      <td>Important</td>\n",
       "      <td>Turn on some music</td>\n",
       "      <td></td>\n",
       "      <td></td>\n",
       "      <td>7.0</td>\n",
       "      <td></td>\n",
       "      <td></td>\n",
       "      <td></td>\n",
       "      <td>Yes</td>\n",
       "      <td></td>\n",
       "      <td>20 to 99 employees</td>\n",
       "      <td>Government agency or public school/un...</td>\n",
       "      <td></td>\n",
       "      <td>United States</td>\n",
       "      <td></td>\n",
       "      <td></td>\n",
       "      <td></td>\n",
       "      <td></td>\n",
       "      <td></td>\n",
       "      <td></td>\n",
       "      <td>Online_course Part-time/evening_cours...</td>\n",
       "      <td>Employed full-time</td>\n",
       "      <td></td>\n",
       "      <td>Very satisfied</td>\n",
       "      <td>Satisfied</td>\n",
       "      <td>Very satisfied</td>\n",
       "      <td>Satisfied</td>\n",
       "      <td>Satisfied</td>\n",
       "      <td></td>\n",
       "      <td></td>\n",
       "      <td></td>\n",
       "      <td></td>\n",
       "      <td></td>\n",
       "      <td></td>\n",
       "      <td></td>\n",
       "      <td></td>\n",
       "      <td></td>\n",
       "      <td>Master's degree</td>\n",
       "      <td></td>\n",
       "      <td>Male</td>\n",
       "      <td>SQLite</td>\n",
       "      <td></td>\n",
       "      <td>Matlab Python</td>\n",
       "      <td>Windows_Desktop</td>\n",
       "      <td>A doctoral degree</td>\n",
       "      <td>Less than half the time, but at least...</td>\n",
       "      <td>1.0</td>\n",
       "      <td>Sublime_Text IPython_/_Jupyter Visual...</td>\n",
       "      <td>Health_benefits Equipment Professiona...</td>\n",
       "      <td>Very important</td>\n",
       "      <td>Important</td>\n",
       "      <td>Somewhat important</td>\n",
       "      <td>Somewhat important</td>\n",
       "      <td>Very important</td>\n",
       "      <td>Somewhat important</td>\n",
       "      <td>Somewhat important</td>\n",
       "      <td>Not very important</td>\n",
       "      <td>Important</td>\n",
       "      <td>Somewhat important</td>\n",
       "      <td></td>\n",
       "      <td>No influence at all</td>\n",
       "      <td>Not much influence</td>\n",
       "      <td>No influence at all</td>\n",
       "      <td>Some influence</td>\n",
       "      <td>A lot of influence</td>\n",
       "      <td>No influence at all</td>\n",
       "      <td>Very satisfied</td>\n",
       "      <td>No influence at all</td>\n",
       "      <td>Not much influence</td>\n",
       "      <td>Not much influence</td>\n",
       "      <td>A lot of influence</td>\n",
       "      <td>Some influence</td>\n",
       "      <td>Agree</td>\n",
       "      <td></td>\n",
       "      <td></td>\n",
       "      <td>6.0</td>\n",
       "      <td></td>\n",
       "      <td>I'm not actively looking, but I am op...</td>\n",
       "      <td></td>\n",
       "      <td>More than 4 years ago</td>\n",
       "      <td>A friend, family member, or former co...</td>\n",
       "      <td></td>\n",
       "      <td>A non-computer-focused engineering di...</td>\n",
       "      <td></td>\n",
       "      <td></td>\n",
       "      <td></td>\n",
       "      <td>Data_scientist</td>\n",
       "      <td></td>\n",
       "      <td></td>\n",
       "      <td></td>\n",
       "      <td>Yes, both</td>\n",
       "      <td></td>\n",
       "      <td>With a hard \"g,\" like \"gift\"</td>\n",
       "      <td>Disagree</td>\n",
       "      <td>Agree</td>\n",
       "      <td>White_or_of_European_descent</td>\n",
       "      <td></td>\n",
       "      <td></td>\n",
       "      <td></td>\n",
       "      <td>Official_documentation Trade_book Tex...</td>\n",
       "      <td></td>\n",
       "      <td></td>\n",
       "      <td>Disagree</td>\n",
       "      <td>Somewhat agree</td>\n",
       "      <td>Several times</td>\n",
       "      <td>Strongly agree</td>\n",
       "      <td>Agree</td>\n",
       "      <td>Haven't done at all</td>\n",
       "      <td>Once or twice</td>\n",
       "      <td>I have created a CV or Developer Stor...</td>\n",
       "      <td>Desktop iOS_browser iOS_app</td>\n",
       "      <td>Several times</td>\n",
       "      <td>Agree</td>\n",
       "      <td>Haven't done at all</td>\n",
       "      <td>Haven't done at all</td>\n",
       "      <td>Disagree</td>\n",
       "      <td>At least once each day</td>\n",
       "      <td>Disagree</td>\n",
       "      <td>Haven't done at all</td>\n",
       "      <td>8.0</td>\n",
       "      <td>Agree</td>\n",
       "      <td>Disagree</td>\n",
       "      <td>Spaces</td>\n",
       "      <td></td>\n",
       "      <td></td>\n",
       "      <td>No</td>\n",
       "      <td></td>\n",
       "      <td>MongoDB SQL_Server PostgreSQL SQLite</td>\n",
       "      <td>Hadoop Node.js</td>\n",
       "      <td>JavaScript Julia Matlab Python R SQL</td>\n",
       "      <td>Arduino Raspberry_Pi</td>\n",
       "      <td></td>\n",
       "      <td></td>\n",
       "      <td>7:00 AM</td>\n",
       "      <td>8 to 9 years</td>\n",
       "      <td></td>\n",
       "      <td>9 to 10 years</td>\n",
       "    </tr>\n",
       "    <tr>\n",
       "      <td>14</td>\n",
       "      <td>Professional developer</td>\n",
       "      <td>Used to be a professional developer</td>\n",
       "      <td>1.000000</td>\n",
       "      <td>1.043244e-16</td>\n",
       "      <td></td>\n",
       "      <td>Important</td>\n",
       "      <td>Important</td>\n",
       "      <td>Somewhat important</td>\n",
       "      <td>Not very important</td>\n",
       "      <td>Important</td>\n",
       "      <td>Important</td>\n",
       "      <td>Somewhat important</td>\n",
       "      <td>Important</td>\n",
       "      <td>Somewhat important</td>\n",
       "      <td>Important</td>\n",
       "      <td>Important</td>\n",
       "      <td>Somewhat important</td>\n",
       "      <td>Important</td>\n",
       "      <td>Important</td>\n",
       "      <td>Important</td>\n",
       "      <td>Turn on some music</td>\n",
       "      <td></td>\n",
       "      <td></td>\n",
       "      <td>8.0</td>\n",
       "      <td></td>\n",
       "      <td></td>\n",
       "      <td>Multiple times a day</td>\n",
       "      <td>Yes</td>\n",
       "      <td>Somewhat agree</td>\n",
       "      <td>Fewer than 10 employees</td>\n",
       "      <td>Venture-funded startup</td>\n",
       "      <td></td>\n",
       "      <td>Germany</td>\n",
       "      <td></td>\n",
       "      <td></td>\n",
       "      <td>Web_developer</td>\n",
       "      <td>Disagree</td>\n",
       "      <td></td>\n",
       "      <td>Not at all important</td>\n",
       "      <td>Part-time/evening_course On-the-job_t...</td>\n",
       "      <td>Employed full-time</td>\n",
       "      <td>Somewhat agree</td>\n",
       "      <td>Satisfied</td>\n",
       "      <td>Satisfied</td>\n",
       "      <td>Satisfied</td>\n",
       "      <td>Satisfied</td>\n",
       "      <td>Satisfied</td>\n",
       "      <td></td>\n",
       "      <td></td>\n",
       "      <td></td>\n",
       "      <td></td>\n",
       "      <td></td>\n",
       "      <td></td>\n",
       "      <td></td>\n",
       "      <td></td>\n",
       "      <td></td>\n",
       "      <td>Some college/university study without...</td>\n",
       "      <td></td>\n",
       "      <td>Female</td>\n",
       "      <td>Redis MySQL PostgreSQL</td>\n",
       "      <td>React</td>\n",
       "      <td>Java JavaScript Ruby SQL</td>\n",
       "      <td>Amazon_Web_Services_(AWS)</td>\n",
       "      <td>A master's degree</td>\n",
       "      <td>Less than half the time, but at least...</td>\n",
       "      <td>3.0</td>\n",
       "      <td>Vim</td>\n",
       "      <td>Stock_options Vacation/days_off Equip...</td>\n",
       "      <td>Somewhat important</td>\n",
       "      <td>Important</td>\n",
       "      <td>Somewhat important</td>\n",
       "      <td>Not very important</td>\n",
       "      <td>Important</td>\n",
       "      <td>Somewhat important</td>\n",
       "      <td>Somewhat important</td>\n",
       "      <td>Somewhat important</td>\n",
       "      <td>Somewhat important</td>\n",
       "      <td>Somewhat important</td>\n",
       "      <td>Agree</td>\n",
       "      <td>I am the final decision maker</td>\n",
       "      <td>Some influence</td>\n",
       "      <td>Some influence</td>\n",
       "      <td>I am the final decision maker</td>\n",
       "      <td>I am the final decision maker</td>\n",
       "      <td>Some influence</td>\n",
       "      <td>Not very satisfied</td>\n",
       "      <td>A lot of influence</td>\n",
       "      <td>I am the final decision maker</td>\n",
       "      <td>I am the final decision maker</td>\n",
       "      <td>A lot of influence</td>\n",
       "      <td>A lot of influence</td>\n",
       "      <td>Strongly agree</td>\n",
       "      <td></td>\n",
       "      <td>LinkedIn Xing</td>\n",
       "      <td>6.0</td>\n",
       "      <td></td>\n",
       "      <td>I am actively looking for a job</td>\n",
       "      <td></td>\n",
       "      <td>Between 1 and 2 years ago</td>\n",
       "      <td>A friend, family member, or former co...</td>\n",
       "      <td></td>\n",
       "      <td>Computer science or software engineering</td>\n",
       "      <td>Agile Lean Scrum Extreme Pair Kanban</td>\n",
       "      <td>Customer_satisfaction Benchmarked_pro...</td>\n",
       "      <td></td>\n",
       "      <td></td>\n",
       "      <td>Disagree</td>\n",
       "      <td></td>\n",
       "      <td></td>\n",
       "      <td>Yes, both</td>\n",
       "      <td>Disagree</td>\n",
       "      <td>With a hard \"g,\" like \"gift\"</td>\n",
       "      <td>Disagree</td>\n",
       "      <td>Agree</td>\n",
       "      <td>Hispanic_or_Latino/Latina</td>\n",
       "      <td>I was just giving it a regular update</td>\n",
       "      <td></td>\n",
       "      <td></td>\n",
       "      <td>Official_documentation Trade_book Sta...</td>\n",
       "      <td></td>\n",
       "      <td>Somewhat agree</td>\n",
       "      <td>Somewhat agree</td>\n",
       "      <td>Somewhat agree</td>\n",
       "      <td>Several times</td>\n",
       "      <td>Agree</td>\n",
       "      <td>Agree</td>\n",
       "      <td>Haven't done at all</td>\n",
       "      <td>Several times</td>\n",
       "      <td>I have created a CV or Developer Stor...</td>\n",
       "      <td>Desktop</td>\n",
       "      <td>Several times</td>\n",
       "      <td>Strongly agree</td>\n",
       "      <td>Haven't done at all</td>\n",
       "      <td>Haven't done at all</td>\n",
       "      <td>Disagree</td>\n",
       "      <td>Haven't done at all</td>\n",
       "      <td>Disagree</td>\n",
       "      <td>Haven't done at all</td>\n",
       "      <td>10.0</td>\n",
       "      <td>Somewhat agree</td>\n",
       "      <td>Somewhat agree</td>\n",
       "      <td>Spaces</td>\n",
       "      <td></td>\n",
       "      <td></td>\n",
       "      <td>No</td>\n",
       "      <td>Git</td>\n",
       "      <td>Redis PostgreSQL</td>\n",
       "      <td>React</td>\n",
       "      <td>JavaScript Ruby Rust Swift</td>\n",
       "      <td>Amazon_Web_Services_(AWS)</td>\n",
       "      <td>Full stack Web developer</td>\n",
       "      <td></td>\n",
       "      <td>10:00 AM</td>\n",
       "      <td>15 to 16 years</td>\n",
       "      <td></td>\n",
       "      <td>15 to 16 years</td>\n",
       "    </tr>\n",
       "  </tbody>\n",
       "</table>"
      ],
      "text/plain": [
       "<IPython.core.display.HTML object>"
      ]
     },
     "metadata": {},
     "output_type": "display_data"
    }
   ],
   "source": [
    "%%ml predict\n",
    "model: $regular_model\n",
    "headers: $headers_string\n",
    "prediction_data:\n",
    "    - 1,\"Yes, both\",United States,No,\"Not employed, and not looking for work\",Secondary school,,,,,2 to 3 years,,,,,,,,,,,,,,,,,\"With a soft \"\"g,\"\" like \"\"jiff\"\"\",Strongly agree,Strongly agree,Agree,Disagree,Strongly agree,Agree,Agree,Disagree,Somewhat agree,Disagree,Strongly agree,Strongly agree,Strongly disagree,Agree,Agree,Disagree,Agree,\"I'm not actively looking, but I am open to new opportunities\",0.0,Not applicable/ never,Very important,Very important,Important,Very important,Very important,Very important,Important,Very important,Very important,Very important,Very important,Very important,Somewhat important,Not very important,Somewhat important,Stock_options Vacation/days_off Remote_options,Yes,Other,,,Important,Important,Important,Somewhat important,Important,Not very important,Not very important,Not at all important,Somewhat important,Very important,,,Tabs,,Online_course Open_source_contributions,,,,6:00 AM,Swift,Swift,,,,,iOS,iOS,Atom Xcode,Turn on some music,,,,,,,,,,,,Somewhat satisfied,Not very satisfied,Not at all satisfied,Very satisfied,Satisfied,Not very satisfied,,,,,,,,,,,,I have created a CV or Developer Story on Stack Overflow,9.0,Desktop iOS_app,At least once each week,Haven't done at all,Once or twice,Haven't done at all,Haven't done at all,Several times,Several times,Once or twice,Somewhat agree,Strongly disagree,Strongly disagree,Strongly agree,Agree,Strongly agree,Strongly agree,Strongly disagree,Male,High school,White_or_of_European_descent,Strongly disagree,Strongly agree,Disagree,Strongly agree,,\n",
    "    - 7,\"Yes, both\",United States,No,Employed full-time,Master's degree,A non-computer-focused engineering discipline,\"Less than half the time, but at least one day each week\",20 to 99 employees,Government agency or public school/university,9 to 10 years,8 to 9 years,,,,,Data_scientist,7.0,6.0,,,,,,,,,\"With a hard \"\"g,\"\" like \"\"gift\"\"\",,,,,,,,,,,,,,,,,,\"I'm not actively looking, but I am open to new opportunities\",1.0,More than 4 years ago,Somewhat important,Very important,Not very important,Important,Important,Very important,Important,Important,Important,Very important,Very important,Very important,Somewhat important,Not very important,Very important,Health_benefits Equipment Professional_development_sponsorship Education_sponsorship Remote_options,Yes,,,\"A friend, family member, or former colleague told me\",Very important,Important,Important,Somewhat important,Somewhat important,Somewhat important,Somewhat important,Somewhat important,Not very important,Very important,,,Spaces,,Online_course Part-time/evening_course On-the-job_training Self-taught Open_source_contributions,Official_documentation Trade_book Textbook Stack_Overflow_Q&A Friends_network Built-in_help,,,7:00 AM,Matlab Python,JavaScript Julia Matlab Python R SQL,,Hadoop Node.js,SQLite,MongoDB SQL_Server PostgreSQL SQLite,Windows_Desktop,Arduino Raspberry_Pi,Sublime_Text IPython_/_Jupyter Visual_Studio_Code,Turn on some music,,,,,,,,,,,,Satisfied,Very satisfied,Very satisfied,Satisfied,Satisfied,Very satisfied,Some influence,No influence at all,Not much influence,Not much influence,A lot of influence,A lot of influence,Some influence,No influence at all,No influence at all,No influence at all,Not much influence,I have created a CV or Developer Story on Stack Overflow,8.0,Desktop iOS_browser iOS_app,Several times,Once or twice,Haven't done at all,Haven't done at all,Haven't done at all,Haven't done at all,Several times,At least once each day,Somewhat agree,Disagree,Disagree,Agree,Agree,Strongly agree,Agree,Disagree,Male,A doctoral degree,White_or_of_European_descent,Disagree,Agree,Disagree,Agree,,\n",
    "    - 14,\"Yes, both\",Germany,No,Employed full-time,Some college/university study without earning a bachelor's degree,Computer science or software engineering,\"Less than half the time, but at least one day each week\",Fewer than 10 employees,Venture-funded startup,15 to 16 years,15 to 16 years,,Web_developer,Full stack Web developer,,,8.0,6.0,,,,,,,,,\"With a hard \"\"g,\"\" like \"\"gift\"\"\",,,,,,,,,,,,,,,,,,I am actively looking for a job,3.0,Between 1 and 2 years ago,Somewhat important,Important,Important,Somewhat important,Important,Somewhat important,Important,Somewhat important,Important,Important,Important,Important,Not very important,Important,Important,Stock_options Vacation/days_off Equipment Professional_development_sponsorship Remote_options,Yes,LinkedIn Xing,I was just giving it a regular update,\"A friend, family member, or former colleague told me\",Somewhat important,Somewhat important,Important,Somewhat important,Somewhat important,Somewhat important,Somewhat important,Not very important,Somewhat important,Important,,,Spaces,Not at all important,Part-time/evening_course On-the-job_training Self-taught Coding_competition Hackathon Open_source_contributions,Official_documentation Trade_book Stack_Overflow_Q&A,,,10:00 AM,Java JavaScript Ruby SQL,JavaScript Ruby Rust Swift,React,React,Redis MySQL PostgreSQL,Redis PostgreSQL,Amazon_Web_Services_(AWS),Amazon_Web_Services_(AWS),Vim,Turn on some music,Agile Lean Scrum Extreme Pair Kanban,Git,Multiple times a day,Somewhat agree,Disagree,Disagree,Somewhat agree,Agree,Disagree,Somewhat agree,Customer_satisfaction Benchmarked_product_performance On_time/in_budget Revenue_performance Manager's_rating Peers'_rating Self-rating,Satisfied,Satisfied,Satisfied,Satisfied,Satisfied,Not very satisfied,A lot of influence,Some influence,I am the final decision maker,I am the final decision maker,I am the final decision maker,A lot of influence,I am the final decision maker,I am the final decision maker,Some influence,A lot of influence,Some influence,I have created a CV or Developer Story on Stack Overflow,10.0,Desktop,Several times,Several times,Haven't done at all,Haven't done at all,Haven't done at all,Haven't done at all,Several times,Haven't done at all,Somewhat agree,Somewhat agree,Disagree,Agree,Strongly agree,Agree,Somewhat agree,Disagree,Female,A master's degree,Hispanic_or_Latino/Latina,Somewhat agree,Agree,Disagree,Strongly agree,,"
   ]
  },
  {
   "cell_type": "markdown",
   "metadata": {},
   "source": [
    "# Deploying the trained model to ML Engine¶\n",
    "\n",
    "Now that we have a trained model, have analyzed the results, and have tested the model output locally, we are ready to deploy it to the cloud for real predictions. Deploying a model requires the files are on GCS. The next few cells makes a bucket on GCS, copies the locally trained model, and deploys it."
   ]
  },
  {
   "cell_type": "code",
   "execution_count": 25,
   "metadata": {
    "collapsed": false
   },
   "outputs": [
    {
     "name": "stdout",
     "output_type": "stream",
     "text": [
      "Creating gs://cloud-ml-dev-mlworkbench-stackoverflow-lab/...\r\n"
     ]
    }
   ],
   "source": [
    "# Make a bucket. Bucket names must be unique.\n",
    "!gsutil mb $gcs_bucket"
   ]
  },
  {
   "cell_type": "code",
   "execution_count": 26,
   "metadata": {
    "collapsed": false
   },
   "outputs": [
    {
     "name": "stdout",
     "output_type": "stream",
     "text": [
      "Copying file:///content/datalab/workspace/structured_data_classification_stackoverflow/training_output/model/saved_model.pb [Content-Type=application/octet-stream]...\n",
      "Copying file:///content/datalab/workspace/structured_data_classification_stackoverflow/training_output/model/assets.extra/schema.json [Content-Type=application/json]...\n",
      "Copying file:///content/datalab/workspace/structured_data_classification_stackoverflow/training_output/model/variables/variables.index [Content-Type=application/octet-stream]...\n",
      "Copying file:///content/datalab/workspace/structured_data_classification_stackoverflow/training_output/model/assets.extra/features.json [Content-Type=application/json]...\n",
      "Copying file:///content/datalab/workspace/structured_data_classification_stackoverflow/training_output/model/variables/variables.data-00000-of-00001 [Content-Type=application/octet-stream]...\n",
      "- [5/5 files][  4.7 MiB/  4.7 MiB] 100% Done                                    \n",
      "Operation completed over 5 objects/4.7 MiB.                                      \n"
     ]
    }
   ],
   "source": [
    "# Move the regular model to GCS\n",
    "!gsutil -m cp -r $regular_model $gcs_bucket"
   ]
  },
  {
   "cell_type": "code",
   "execution_count": 27,
   "metadata": {
    "collapsed": false
   },
   "outputs": [
    {
     "name": "stdout",
     "output_type": "stream",
     "text": [
      "gs://cloud-ml-dev-mlworkbench-stackoverflow-lab/model/:\n",
      "gs://cloud-ml-dev-mlworkbench-stackoverflow-lab/model/saved_model.pb\n",
      "\n",
      "gs://cloud-ml-dev-mlworkbench-stackoverflow-lab/model/assets.extra/:\n",
      "gs://cloud-ml-dev-mlworkbench-stackoverflow-lab/model/assets.extra/features.json\n",
      "gs://cloud-ml-dev-mlworkbench-stackoverflow-lab/model/assets.extra/schema.json\n",
      "\n",
      "gs://cloud-ml-dev-mlworkbench-stackoverflow-lab/model/variables/:\n",
      "gs://cloud-ml-dev-mlworkbench-stackoverflow-lab/model/variables/variables.data-00000-of-00001\n",
      "gs://cloud-ml-dev-mlworkbench-stackoverflow-lab/model/variables/variables.index\n"
     ]
    }
   ],
   "source": [
    "# Check the files are there\n",
    "!gsutil ls -r $gcs_bucket"
   ]
  },
  {
   "cell_type": "code",
   "execution_count": 28,
   "metadata": {
    "collapsed": true
   },
   "outputs": [],
   "source": [
    "from google.datalab.ml import Models, ModelVersions"
   ]
  },
  {
   "cell_type": "code",
   "execution_count": 29,
   "metadata": {
    "collapsed": false
   },
   "outputs": [
    {
     "data": {
      "text/plain": [
       "{u'name': u'projects/cloud-ml-dev/models/stackoverflowmodel',\n",
       " u'regions': [u'us-central1']}"
      ]
     },
     "execution_count": 29,
     "metadata": {},
     "output_type": "execute_result"
    }
   ],
   "source": [
    "# Makes a ML Engine Model\n",
    "# If the model already exists, skip this cell\n",
    "Models().create(mlengine_model_name)  "
   ]
  },
  {
   "cell_type": "code",
   "execution_count": 30,
   "metadata": {
    "collapsed": false
   },
   "outputs": [
    {
     "name": "stdout",
     "output_type": "stream",
     "text": [
      "Waiting for operation \"projects/cloud-ml-dev/operations/create_stackoverflowmodel_example-1501094401445\"\n",
      "Done.\n"
     ]
    }
   ],
   "source": [
    "# Makes a ML Engine Version\n",
    "ModelVersions(mlengine_model_name).deploy(\n",
    "    version_name=mlengine_version_name,\n",
    "    path=os.path.join(gcs_bucket, 'model'),\n",
    "    runtime_version='1.2')"
   ]
  },
  {
   "cell_type": "markdown",
   "metadata": {},
   "source": [
    "## Prediction using APIs Explorer\n",
    "\n",
    "https://developers.google.com/apis-explorer allows you to send HTTP requests to many Google APIs. This is useful for experimenting with the inputs to a service.\n",
    "\n",
    "Please visit https://developers.google.com/apis-explorer/#search/ml%20engine/ml/v1/ml.projects.predict and enter the following values for each text box."
   ]
  },
  {
   "cell_type": "code",
   "execution_count": 31,
   "metadata": {
    "collapsed": false
   },
   "outputs": [
    {
     "name": "stdout",
     "output_type": "stream",
     "text": [
      "Place the following in the name box\n",
      "projects/cloud-ml-dev/models/stackoverflowmodel/versions/example\n"
     ]
    }
   ],
   "source": [
    "# The output of this cell is placed in the name box\n",
    "# Store your project ID, model name, and version name in the format the API needs.\n",
    "api_path = 'projects/{your_project_ID}/models/{model_name}/versions/{version_name}'.format(\n",
    "    your_project_ID=google.datalab.Context.default().project_id,\n",
    "    model_name=mlengine_model_name,\n",
    "    version_name=mlengine_version_name)\n",
    "print('Place the following in the name box')\n",
    "print(api_path)"
   ]
  },
  {
   "cell_type": "markdown",
   "metadata": {},
   "source": [
    "The fields text box can be empty.\n",
    "\n",
    "\n",
    "Click in the request body box, and note a small drop down menu appears in the FAR RIGHT of the input box. Select \"Freeform editor\". Then enter the following in the request body box."
   ]
  },
  {
   "cell_type": "code",
   "execution_count": 32,
   "metadata": {
    "collapsed": false
   },
   "outputs": [
    {
     "name": "stdout",
     "output_type": "stream",
     "text": [
      "Place the following in the request body box\n",
      "{\"instances\": [\"1,\\\"Yes, both\\\",United States,No,\\\"Not employed, and not looking for work\\\",Secondary school,,,,,2 to 3 years,,,,,,,,,,,,,,,,,\\\"With a soft \\\"\\\"g,\\\"\\\" like \\\"\\\"jiff\\\"\\\"\\\",Strongly agree,Strongly agree,Agree,Disagree,Strongly agree,Agree,Agree,Disagree,Somewhat agree,Disagree,Strongly agree,Strongly agree,Strongly disagree,Agree,Agree,Disagree,Agree,\\\"I'm not actively looking, but I am open to new opportunities\\\",0.0,Not applicable/ never,Very important,Very important,Important,Very important,Very important,Very important,Important,Very important,Very important,Very important,Very important,Very important,Somewhat important,Not very important,Somewhat important,Stock_options Vacation/days_off Remote_options,Yes,Other,,,Important,Important,Important,Somewhat important,Important,Not very important,Not very important,Not at all important,Somewhat important,Very important,,,Tabs,,Online_course Open_source_contributions,,,,6:00 AM,Swift,Swift,,,,,iOS,iOS,Atom Xcode,Turn on some music,,,,,,,,,,,,Somewhat satisfied,Not very satisfied,Not at all satisfied,Very satisfied,Satisfied,Not very satisfied,,,,,,,,,,,,I have created a CV or Developer Story on Stack Overflow,9.0,Desktop iOS_app,At least once each week,Haven't done at all,Once or twice,Haven't done at all,Haven't done at all,Several times,Several times,Once or twice,Somewhat agree,Strongly disagree,Strongly disagree,Strongly agree,Agree,Strongly agree,Strongly agree,Strongly disagree,Male,High school,White_or_of_European_descent,Strongly disagree,Strongly agree,Disagree,Strongly agree,,\", \"7,\\\"Yes, both\\\",United States,No,Employed full-time,Master's degree,A non-computer-focused engineering discipline,\\\"Less than half the time, but at least one day each week\\\",20 to 99 employees,Government agency or public school/university,9 to 10 years,8 to 9 years,,,,,Data_scientist,7.0,6.0,,,,,,,,,\\\"With a hard \\\"\\\"g,\\\"\\\" like \\\"\\\"gift\\\"\\\"\\\",,,,,,,,,,,,,,,,,,\\\"I'm not actively looking, but I am open to new opportunities\\\",1.0,More than 4 years ago,Somewhat important,Very important,Not very important,Important,Important,Very important,Important,Important,Important,Very important,Very important,Very important,Somewhat important,Not very important,Very important,Health_benefits Equipment Professional_development_sponsorship Education_sponsorship Remote_options,Yes,,,\\\"A friend, family member, or former colleague told me\\\",Very important,Important,Important,Somewhat important,Somewhat important,Somewhat important,Somewhat important,Somewhat important,Not very important,Very important,,,Spaces,,Online_course Part-time/evening_course On-the-job_training Self-taught Open_source_contributions,Official_documentation Trade_book Textbook Stack_Overflow_Q&A Friends_network Built-in_help,,,7:00 AM,Matlab Python,JavaScript Julia Matlab Python R SQL,,Hadoop Node.js,SQLite,MongoDB SQL_Server PostgreSQL SQLite,Windows_Desktop,Arduino Raspberry_Pi,Sublime_Text IPython_/_Jupyter Visual_Studio_Code,Turn on some music,,,,,,,,,,,,Satisfied,Very satisfied,Very satisfied,Satisfied,Satisfied,Very satisfied,Some influence,No influence at all,Not much influence,Not much influence,A lot of influence,A lot of influence,Some influence,No influence at all,No influence at all,No influence at all,Not much influence,I have created a CV or Developer Story on Stack Overflow,8.0,Desktop iOS_browser iOS_app,Several times,Once or twice,Haven't done at all,Haven't done at all,Haven't done at all,Haven't done at all,Several times,At least once each day,Somewhat agree,Disagree,Disagree,Agree,Agree,Strongly agree,Agree,Disagree,Male,A doctoral degree,White_or_of_European_descent,Disagree,Agree,Disagree,Agree,,\", \"14,\\\"Yes, both\\\",Germany,No,Employed full-time,Some college/university study without earning a bachelor's degree,Computer science or software engineering,\\\"Less than half the time, but at least one day each week\\\",Fewer than 10 employees,Venture-funded startup,15 to 16 years,15 to 16 years,,Web_developer,Full stack Web developer,,,8.0,6.0,,,,,,,,,\\\"With a hard \\\"\\\"g,\\\"\\\" like \\\"\\\"gift\\\"\\\"\\\",,,,,,,,,,,,,,,,,,I am actively looking for a job,3.0,Between 1 and 2 years ago,Somewhat important,Important,Important,Somewhat important,Important,Somewhat important,Important,Somewhat important,Important,Important,Important,Important,Not very important,Important,Important,Stock_options Vacation/days_off Equipment Professional_development_sponsorship Remote_options,Yes,LinkedIn Xing,I was just giving it a regular update,\\\"A friend, family member, or former colleague told me\\\",Somewhat important,Somewhat important,Important,Somewhat important,Somewhat important,Somewhat important,Somewhat important,Not very important,Somewhat important,Important,,,Spaces,Not at all important,Part-time/evening_course On-the-job_training Self-taught Coding_competition Hackathon Open_source_contributions,Official_documentation Trade_book Stack_Overflow_Q&A,,,10:00 AM,Java JavaScript Ruby SQL,JavaScript Ruby Rust Swift,React,React,Redis MySQL PostgreSQL,Redis PostgreSQL,Amazon_Web_Services_(AWS),Amazon_Web_Services_(AWS),Vim,Turn on some music,Agile Lean Scrum Extreme Pair Kanban,Git,Multiple times a day,Somewhat agree,Disagree,Disagree,Somewhat agree,Agree,Disagree,Somewhat agree,Customer_satisfaction Benchmarked_product_performance On_time/in_budget Revenue_performance Manager's_rating Peers'_rating Self-rating,Satisfied,Satisfied,Satisfied,Satisfied,Satisfied,Not very satisfied,A lot of influence,Some influence,I am the final decision maker,I am the final decision maker,I am the final decision maker,A lot of influence,I am the final decision maker,I am the final decision maker,Some influence,A lot of influence,Some influence,I have created a CV or Developer Story on Stack Overflow,10.0,Desktop,Several times,Several times,Haven't done at all,Haven't done at all,Haven't done at all,Haven't done at all,Several times,Haven't done at all,Somewhat agree,Somewhat agree,Disagree,Agree,Strongly agree,Agree,Somewhat agree,Disagree,Female,A master's degree,Hispanic_or_Latino/Latina,Somewhat agree,Agree,Disagree,Strongly agree,,\"]}\n"
     ]
    }
   ],
   "source": [
    "ex1 = '''1,\"Yes, both\",United States,No,\"Not employed, and not looking for work\",Secondary school,,,,,2 to 3 years,,,,,,,,,,,,,,,,,\"With a soft \"\"g,\"\" like \"\"jiff\"\"\",Strongly agree,Strongly agree,Agree,Disagree,Strongly agree,Agree,Agree,Disagree,Somewhat agree,Disagree,Strongly agree,Strongly agree,Strongly disagree,Agree,Agree,Disagree,Agree,\"I'm not actively looking, but I am open to new opportunities\",0.0,Not applicable/ never,Very important,Very important,Important,Very important,Very important,Very important,Important,Very important,Very important,Very important,Very important,Very important,Somewhat important,Not very important,Somewhat important,Stock_options Vacation/days_off Remote_options,Yes,Other,,,Important,Important,Important,Somewhat important,Important,Not very important,Not very important,Not at all important,Somewhat important,Very important,,,Tabs,,Online_course Open_source_contributions,,,,6:00 AM,Swift,Swift,,,,,iOS,iOS,Atom Xcode,Turn on some music,,,,,,,,,,,,Somewhat satisfied,Not very satisfied,Not at all satisfied,Very satisfied,Satisfied,Not very satisfied,,,,,,,,,,,,I have created a CV or Developer Story on Stack Overflow,9.0,Desktop iOS_app,At least once each week,Haven't done at all,Once or twice,Haven't done at all,Haven't done at all,Several times,Several times,Once or twice,Somewhat agree,Strongly disagree,Strongly disagree,Strongly agree,Agree,Strongly agree,Strongly agree,Strongly disagree,Male,High school,White_or_of_European_descent,Strongly disagree,Strongly agree,Disagree,Strongly agree,,'''\n",
    "ex2 = '''7,\"Yes, both\",United States,No,Employed full-time,Master's degree,A non-computer-focused engineering discipline,\"Less than half the time, but at least one day each week\",20 to 99 employees,Government agency or public school/university,9 to 10 years,8 to 9 years,,,,,Data_scientist,7.0,6.0,,,,,,,,,\"With a hard \"\"g,\"\" like \"\"gift\"\"\",,,,,,,,,,,,,,,,,,\"I'm not actively looking, but I am open to new opportunities\",1.0,More than 4 years ago,Somewhat important,Very important,Not very important,Important,Important,Very important,Important,Important,Important,Very important,Very important,Very important,Somewhat important,Not very important,Very important,Health_benefits Equipment Professional_development_sponsorship Education_sponsorship Remote_options,Yes,,,\"A friend, family member, or former colleague told me\",Very important,Important,Important,Somewhat important,Somewhat important,Somewhat important,Somewhat important,Somewhat important,Not very important,Very important,,,Spaces,,Online_course Part-time/evening_course On-the-job_training Self-taught Open_source_contributions,Official_documentation Trade_book Textbook Stack_Overflow_Q&A Friends_network Built-in_help,,,7:00 AM,Matlab Python,JavaScript Julia Matlab Python R SQL,,Hadoop Node.js,SQLite,MongoDB SQL_Server PostgreSQL SQLite,Windows_Desktop,Arduino Raspberry_Pi,Sublime_Text IPython_/_Jupyter Visual_Studio_Code,Turn on some music,,,,,,,,,,,,Satisfied,Very satisfied,Very satisfied,Satisfied,Satisfied,Very satisfied,Some influence,No influence at all,Not much influence,Not much influence,A lot of influence,A lot of influence,Some influence,No influence at all,No influence at all,No influence at all,Not much influence,I have created a CV or Developer Story on Stack Overflow,8.0,Desktop iOS_browser iOS_app,Several times,Once or twice,Haven't done at all,Haven't done at all,Haven't done at all,Haven't done at all,Several times,At least once each day,Somewhat agree,Disagree,Disagree,Agree,Agree,Strongly agree,Agree,Disagree,Male,A doctoral degree,White_or_of_European_descent,Disagree,Agree,Disagree,Agree,,'''\n",
    "ex3 = '''14,\"Yes, both\",Germany,No,Employed full-time,Some college/university study without earning a bachelor's degree,Computer science or software engineering,\"Less than half the time, but at least one day each week\",Fewer than 10 employees,Venture-funded startup,15 to 16 years,15 to 16 years,,Web_developer,Full stack Web developer,,,8.0,6.0,,,,,,,,,\"With a hard \"\"g,\"\" like \"\"gift\"\"\",,,,,,,,,,,,,,,,,,I am actively looking for a job,3.0,Between 1 and 2 years ago,Somewhat important,Important,Important,Somewhat important,Important,Somewhat important,Important,Somewhat important,Important,Important,Important,Important,Not very important,Important,Important,Stock_options Vacation/days_off Equipment Professional_development_sponsorship Remote_options,Yes,LinkedIn Xing,I was just giving it a regular update,\"A friend, family member, or former colleague told me\",Somewhat important,Somewhat important,Important,Somewhat important,Somewhat important,Somewhat important,Somewhat important,Not very important,Somewhat important,Important,,,Spaces,Not at all important,Part-time/evening_course On-the-job_training Self-taught Coding_competition Hackathon Open_source_contributions,Official_documentation Trade_book Stack_Overflow_Q&A,,,10:00 AM,Java JavaScript Ruby SQL,JavaScript Ruby Rust Swift,React,React,Redis MySQL PostgreSQL,Redis PostgreSQL,Amazon_Web_Services_(AWS),Amazon_Web_Services_(AWS),Vim,Turn on some music,Agile Lean Scrum Extreme Pair Kanban,Git,Multiple times a day,Somewhat agree,Disagree,Disagree,Somewhat agree,Agree,Disagree,Somewhat agree,Customer_satisfaction Benchmarked_product_performance On_time/in_budget Revenue_performance Manager's_rating Peers'_rating Self-rating,Satisfied,Satisfied,Satisfied,Satisfied,Satisfied,Not very satisfied,A lot of influence,Some influence,I am the final decision maker,I am the final decision maker,I am the final decision maker,A lot of influence,I am the final decision maker,I am the final decision maker,Some influence,A lot of influence,Some influence,I have created a CV or Developer Story on Stack Overflow,10.0,Desktop,Several times,Several times,Haven't done at all,Haven't done at all,Haven't done at all,Haven't done at all,Several times,Haven't done at all,Somewhat agree,Somewhat agree,Disagree,Agree,Strongly agree,Agree,Somewhat agree,Disagree,Female,A master's degree,Hispanic_or_Latino/Latina,Somewhat agree,Agree,Disagree,Strongly agree,,'''\n",
    "data = [ex1, ex2, ex3]\n",
    "print('Place the following in the request body box')\n",
    "request = {'instances': data}\n",
    "print(json.dumps(request))"
   ]
  },
  {
   "cell_type": "markdown",
   "metadata": {},
   "source": [
    "Then click the \"Authorize and execute\" button. The prediction results are returned in the browser"
   ]
  },
  {
   "cell_type": "markdown",
   "metadata": {},
   "source": [
    "## Prediction from a python client\n",
    "\n",
    "A common problem is to call a deployed model from different applications. Below is an example of writing a python client to run prediction outside of Datalab.\n",
    "\n",
    "Covering model permissions topics is outside the scope of this notebook, but for more information see https://cloud.google.com/ml-engine/docs/tutorials/python-guide and https://developers.google.com/identity/protocols/application-default-credentials ."
   ]
  },
  {
   "cell_type": "code",
   "execution_count": 33,
   "metadata": {
    "collapsed": false
   },
   "outputs": [
    {
     "name": "stdout",
     "output_type": "stream",
     "text": [
      "The JSON request: \n",
      "\n",
      "{\"body\": \"{\\\"instances\\\": [\\\"1,\\\\\\\"Yes, both\\\\\\\",United States,No,\\\\\\\"Not employed, and not looking for work\\\\\\\",Secondary school,,,,,2 to 3 years,,,,,,,,,,,,,,,,,\\\\\\\"With a soft \\\\\\\"\\\\\\\"g,\\\\\\\"\\\\\\\" like \\\\\\\"\\\\\\\"jiff\\\\\\\"\\\\\\\"\\\\\\\",Strongly agree,Strongly agree,Agree,Disagree,Strongly agree,Agree,Agree,Disagree,Somewhat agree,Disagree,Strongly agree,Strongly agree,Strongly disagree,Agree,Agree,Disagree,Agree,\\\\\\\"I'm not actively looking, but I am open to new opportunities\\\\\\\",0.0,Not applicable/ never,Very important,Very important,Important,Very important,Very important,Very important,Important,Very important,Very important,Very important,Very important,Very important,Somewhat important,Not very important,Somewhat important,Stock_options Vacation/days_off Remote_options,Yes,Other,,,Important,Important,Important,Somewhat important,Important,Not very important,Not very important,Not at all important,Somewhat important,Very important,,,Tabs,,Online_course Open_source_contributions,,,,6:00 AM,Swift,Swift,,,,,iOS,iOS,Atom Xcode,Turn on some music,,,,,,,,,,,,Somewhat satisfied,Not very satisfied,Not at all satisfied,Very satisfied,Satisfied,Not very satisfied,,,,,,,,,,,,I have created a CV or Developer Story on Stack Overflow,9.0,Desktop iOS_app,At least once each week,Haven't done at all,Once or twice,Haven't done at all,Haven't done at all,Several times,Several times,Once or twice,Somewhat agree,Strongly disagree,Strongly disagree,Strongly agree,Agree,Strongly agree,Strongly agree,Strongly disagree,Male,High school,White_or_of_European_descent,Strongly disagree,Strongly agree,Disagree,Strongly agree,,\\\", \\\"7,\\\\\\\"Yes, both\\\\\\\",United States,No,Employed full-time,Master's degree,A non-computer-focused engineering discipline,\\\\\\\"Less than half the time, but at least one day each week\\\\\\\",20 to 99 employees,Government agency or public school/university,9 to 10 years,8 to 9 years,,,,,Data_scientist,7.0,6.0,,,,,,,,,\\\\\\\"With a hard \\\\\\\"\\\\\\\"g,\\\\\\\"\\\\\\\" like \\\\\\\"\\\\\\\"gift\\\\\\\"\\\\\\\"\\\\\\\",,,,,,,,,,,,,,,,,,\\\\\\\"I'm not actively looking, but I am open to new opportunities\\\\\\\",1.0,More than 4 years ago,Somewhat important,Very important,Not very important,Important,Important,Very important,Important,Important,Important,Very important,Very important,Very important,Somewhat important,Not very important,Very important,Health_benefits Equipment Professional_development_sponsorship Education_sponsorship Remote_options,Yes,,,\\\\\\\"A friend, family member, or former colleague told me\\\\\\\",Very important,Important,Important,Somewhat important,Somewhat important,Somewhat important,Somewhat important,Somewhat important,Not very important,Very important,,,Spaces,,Online_course Part-time/evening_course On-the-job_training Self-taught Open_source_contributions,Official_documentation Trade_book Textbook Stack_Overflow_Q&A Friends_network Built-in_help,,,7:00 AM,Matlab Python,JavaScript Julia Matlab Python R SQL,,Hadoop Node.js,SQLite,MongoDB SQL_Server PostgreSQL SQLite,Windows_Desktop,Arduino Raspberry_Pi,Sublime_Text IPython_/_Jupyter Visual_Studio_Code,Turn on some music,,,,,,,,,,,,Satisfied,Very satisfied,Very satisfied,Satisfied,Satisfied,Very satisfied,Some influence,No influence at all,Not much influence,Not much influence,A lot of influence,A lot of influence,Some influence,No influence at all,No influence at all,No influence at all,Not much influence,I have created a CV or Developer Story on Stack Overflow,8.0,Desktop iOS_browser iOS_app,Several times,Once or twice,Haven't done at all,Haven't done at all,Haven't done at all,Haven't done at all,Several times,At least once each day,Somewhat agree,Disagree,Disagree,Agree,Agree,Strongly agree,Agree,Disagree,Male,A doctoral degree,White_or_of_European_descent,Disagree,Agree,Disagree,Agree,,\\\", \\\"14,\\\\\\\"Yes, both\\\\\\\",Germany,No,Employed full-time,Some college/university study without earning a bachelor's degree,Computer science or software engineering,\\\\\\\"Less than half the time, but at least one day each week\\\\\\\",Fewer than 10 employees,Venture-funded startup,15 to 16 years,15 to 16 years,,Web_developer,Full stack Web developer,,,8.0,6.0,,,,,,,,,\\\\\\\"With a hard \\\\\\\"\\\\\\\"g,\\\\\\\"\\\\\\\" like \\\\\\\"\\\\\\\"gift\\\\\\\"\\\\\\\"\\\\\\\",,,,,,,,,,,,,,,,,,I am actively looking for a job,3.0,Between 1 and 2 years ago,Somewhat important,Important,Important,Somewhat important,Important,Somewhat important,Important,Somewhat important,Important,Important,Important,Important,Not very important,Important,Important,Stock_options Vacation/days_off Equipment Professional_development_sponsorship Remote_options,Yes,LinkedIn Xing,I was just giving it a regular update,\\\\\\\"A friend, family member, or former colleague told me\\\\\\\",Somewhat important,Somewhat important,Important,Somewhat important,Somewhat important,Somewhat important,Somewhat important,Not very important,Somewhat important,Important,,,Spaces,Not at all important,Part-time/evening_course On-the-job_training Self-taught Coding_competition Hackathon Open_source_contributions,Official_documentation Trade_book Stack_Overflow_Q&A,,,10:00 AM,Java JavaScript Ruby SQL,JavaScript Ruby Rust Swift,React,React,Redis MySQL PostgreSQL,Redis PostgreSQL,Amazon_Web_Services_(AWS),Amazon_Web_Services_(AWS),Vim,Turn on some music,Agile Lean Scrum Extreme Pair Kanban,Git,Multiple times a day,Somewhat agree,Disagree,Disagree,Somewhat agree,Agree,Disagree,Somewhat agree,Customer_satisfaction Benchmarked_product_performance On_time/in_budget Revenue_performance Manager's_rating Peers'_rating Self-rating,Satisfied,Satisfied,Satisfied,Satisfied,Satisfied,Not very satisfied,A lot of influence,Some influence,I am the final decision maker,I am the final decision maker,I am the final decision maker,A lot of influence,I am the final decision maker,I am the final decision maker,Some influence,A lot of influence,Some influence,I have created a CV or Developer Story on Stack Overflow,10.0,Desktop,Several times,Several times,Haven't done at all,Haven't done at all,Haven't done at all,Haven't done at all,Several times,Haven't done at all,Somewhat agree,Somewhat agree,Disagree,Agree,Strongly agree,Agree,Somewhat agree,Disagree,Female,A master's degree,Hispanic_or_Latino/Latina,Somewhat agree,Agree,Disagree,Strongly agree,,\\\"]}\", \"resumable_uri\": null, \"headers\": {\"content-type\": \"application/json\", \"accept-encoding\": \"gzip, deflate\", \"accept\": \"application/json\", \"user-agent\": \"google-api-python-client/1.5.1 (gzip)\"}, \"uri\": \"https://ml.googleapis.com/v1/projects/cloud-ml-dev/models/stackoverflowmodel/versions/example:predict?alt=json\", \"resumable\": null, \"methodId\": \"ml.projects.predict\", \"body_size\": 6119, \"resumable_progress\": 0, \"method\": \"POST\", \"_in_error_state\": false, \"response_callbacks\": []}\n",
      "\n",
      "The response:\n",
      "\n",
      "{\n",
      "  \"predictions\": [\n",
      "    {\n",
      "      \"predicted_2\": \"None of these\", \n",
      "      \"Respondent\": 1, \n",
      "      \"predicted\": \"Student\", \n",
      "      \"probability\": 0.8240984082221985, \n",
      "      \"probability_2\": 0.1759011447429657\n",
      "    }, \n",
      "    {\n",
      "      \"predicted_2\": \"Professional developer\", \n",
      "      \"Respondent\": 7, \n",
      "      \"predicted\": \"Professional non-developer who sometimes writes code\", \n",
      "      \"probability\": 1.0, \n",
      "      \"probability_2\": 2.699775125680759e-10\n",
      "    }, \n",
      "    {\n",
      "      \"predicted_2\": \"Used to be a professional developer\", \n",
      "      \"Respondent\": 14, \n",
      "      \"predicted\": \"Professional developer\", \n",
      "      \"probability\": 1.0, \n",
      "      \"probability_2\": 1.0432438943210227e-16\n",
      "    }\n",
      "  ]\n",
      "}\n"
     ]
    }
   ],
   "source": [
    "\n",
    "from oauth2client.client import GoogleCredentials\n",
    "from googleapiclient import discovery\n",
    "from googleapiclient import errors\n",
    "\n",
    "# Store your project ID, model name, and version name in the format the API needs.\n",
    "api_path = 'projects/{your_project_ID}/models/{model_name}/versions/{version_name}'.format(\n",
    "    your_project_ID=google.datalab.Context.default().project_id,\n",
    "    model_name=mlengine_model_name,\n",
    "    version_name=mlengine_version_name)\n",
    "\n",
    "# Get application default credentials (possible only if the gcloud tool is\n",
    "#  configured on your machine). See https://developers.google.com/identity/protocols/application-default-credentials\n",
    "#  for more info.\n",
    "credentials = GoogleCredentials.get_application_default()\n",
    "\n",
    "# Build a representation of the Cloud ML API.\n",
    "ml = discovery.build('ml', 'v1', credentials=credentials)\n",
    "\n",
    "# Create a dictionary containing data to predict.\n",
    "# Note that the data is a list of csv strings.\n",
    "body = {\n",
    "    'instances': [ex1, ex2, ex3]}\n",
    "\n",
    "# Create a request\n",
    "request = ml.projects().predict(\n",
    "    name=api_path,\n",
    "    body=body)\n",
    "\n",
    "print('The JSON request: \\n')\n",
    "print(request.to_json())\n",
    "\n",
    "# Make the call.\n",
    "try:\n",
    "    response = request.execute()\n",
    "    print('\\nThe response:\\n')\n",
    "    print(json.dumps(response, indent=2))\n",
    "except errors.HttpError, err:\n",
    "    # Something went wrong, print out some information.\n",
    "    print('There was an error. Check the details:')\n",
    "    print(err._get_reason())"
   ]
  },
  {
   "cell_type": "markdown",
   "metadata": {},
   "source": [
    "## Cleaning up the deployed model\n",
    "\n",
    "In this section, we remove the deployed model and the bucket that was made. The local files that was made are not deleted by this."
   ]
  },
  {
   "cell_type": "code",
   "execution_count": null,
   "metadata": {
    "collapsed": false
   },
   "outputs": [],
   "source": [
    "# Delete the version\n",
    "ModelVersions(mlengine_model_name).delete(mlengine_version_name)"
   ]
  },
  {
   "cell_type": "code",
   "execution_count": null,
   "metadata": {
    "collapsed": false
   },
   "outputs": [],
   "source": [
    "# Delete the model\n",
    "Models().delete(mlengine_model_name)"
   ]
  },
  {
   "cell_type": "code",
   "execution_count": null,
   "metadata": {
    "collapsed": false
   },
   "outputs": [],
   "source": [
    "# Delete the GCS bucket\n",
    "!gsutil -m rm -r $gcs_bucket"
   ]
  }
 ],
 "metadata": {
  "kernelspec": {
   "display_name": "Python 2",
   "language": "python",
   "name": "python2"
  },
  "language_info": {
   "codemirror_mode": {
    "name": "ipython",
    "version": 2
   },
   "file_extension": ".py",
   "mimetype": "text/x-python",
   "name": "python",
   "nbconvert_exporter": "python",
   "pygments_lexer": "ipython2",
   "version": "2.7.12"
  }
 },
 "nbformat": 4,
 "nbformat_minor": 2
}
