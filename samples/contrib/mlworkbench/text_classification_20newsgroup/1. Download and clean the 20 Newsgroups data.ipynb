{
 "cells": [
  {
   "cell_type": "markdown",
   "metadata": {},
   "source": [
    "# About the data\n",
    "\n",
    "The 20 newsgroups dataset comprises around 18000 newsgroups posts on 20 topics. The classification problem is to identify the newsgroup a post was summited to, given the text of the post.\n",
    "\n",
    "There are a few versions of this dataset from different sources online. Below, we use the version within scikit-learn which is already split into a train and test/eval set. For a longer introduction to this dataset, see the [scikit-learn website](http://scikit-learn.org/stable/datasets/twenty_newsgroups.html)\n",
    "\n",
    "This sequence of notebooks will write files to the file system under the WORKSPACE_PATH folder. Feel free to change this location in the next cell."
   ]
  },
  {
   "cell_type": "code",
   "execution_count": 30,
   "metadata": {
    "collapsed": true
   },
   "outputs": [],
   "source": [
    "# Note this path must be under /content in Datalab.\n",
    "# It is not recommended to use paths in /content/datalab/docs\n",
    "WORKSPACE_PATH = '/content/workspace/text_classification_20newsgroup'\n",
    "!mkdir -p {WORKSPACE_PATH}"
   ]
  },
  {
   "cell_type": "code",
   "execution_count": 31,
   "metadata": {
    "collapsed": false
   },
   "outputs": [],
   "source": [
    "import numpy as np\n",
    "import pandas as pd\n",
    "import os\n",
    "import re\n",
    "import csv\n",
    "\n",
    "from sklearn.datasets import fetch_20newsgroups"
   ]
  },
  {
   "cell_type": "code",
   "execution_count": 32,
   "metadata": {
    "collapsed": false
   },
   "outputs": [],
   "source": [
    "# data will be downloaded. Note that an error message saying something like \"No handlers could be found for \n",
    "# logger sklearn.datasets.twenty_newsgroups\" might be printed, but this is not an error.\n",
    "news_train_data = fetch_20newsgroups(subset='train', shuffle=True, random_state=42, remove=('headers', 'footers', 'quotes'))\n",
    "news_test_data = fetch_20newsgroups(subset='test', shuffle=True, random_state=42, remove=('headers', 'footers', 'quotes'))"
   ]
  },
  {
   "cell_type": "markdown",
   "metadata": {},
   "source": [
    "# Inspecting and cleaning the raw data"
   ]
  },
  {
   "cell_type": "markdown",
   "metadata": {},
   "source": [
    "The distribution of labels/newsgroups within the training and test datasets are almost uniform. But more importantly, the distribution between test and training is about the same. Note that the first column is the integer id for the newsgroup while the 2nd column is the number of text examples with this newsgroup label."
   ]
  },
  {
   "cell_type": "code",
   "execution_count": 33,
   "metadata": {
    "collapsed": false
   },
   "outputs": [
    {
     "name": "stdout",
     "output_type": "stream",
     "text": [
      "Train label distribution\n",
      "10    600\n",
      "15    599\n",
      "8     598\n",
      "9     597\n",
      "11    595\n",
      "13    594\n",
      "7     594\n",
      "14    593\n",
      "5     593\n",
      "12    591\n",
      "2     591\n",
      "3     590\n",
      "6     585\n",
      "1     584\n",
      "4     578\n",
      "17    564\n",
      "16    546\n",
      "0     480\n",
      "18    465\n",
      "19    377\n",
      "dtype: int64\n",
      "Test label distribution\n",
      "10    399\n",
      "8     398\n",
      "15    398\n",
      "9     397\n",
      "11    396\n",
      "7     396\n",
      "13    396\n",
      "5     395\n",
      "14    394\n",
      "2     394\n",
      "12    393\n",
      "3     392\n",
      "6     390\n",
      "1     389\n",
      "4     385\n",
      "17    376\n",
      "16    364\n",
      "0     319\n",
      "18    310\n",
      "19    251\n",
      "dtype: int64\n",
      "[(0, 'alt.atheism'), (1, 'comp.graphics'), (2, 'comp.os.ms-windows.misc'), (3, 'comp.sys.ibm.pc.hardware'), (4, 'comp.sys.mac.hardware'), (5, 'comp.windows.x'), (6, 'misc.forsale'), (7, 'rec.autos'), (8, 'rec.motorcycles'), (9, 'rec.sport.baseball'), (10, 'rec.sport.hockey'), (11, 'sci.crypt'), (12, 'sci.electronics'), (13, 'sci.med'), (14, 'sci.space'), (15, 'soc.religion.christian'), (16, 'talk.politics.guns'), (17, 'talk.politics.mideast'), (18, 'talk.politics.misc'), (19, 'talk.religion.misc')]\n"
     ]
    }
   ],
   "source": [
    "print('Train label distribution')\n",
    "print(pd.Series(news_train_data.target).value_counts())\n",
    "\n",
    "print('Test label distribution')\n",
    "print(pd.Series(news_test_data.target).value_counts())\n",
    "\n",
    "# The map from integer newsgroup id to its name\n",
    "print(list(enumerate(news_train_data.target_names)))"
   ]
  },
  {
   "cell_type": "markdown",
   "metadata": {},
   "source": [
    "Printing the 3rd element in the test dataset shows the data contains text with newlines, punctuation, misspellings, and other items common in text documents. To build a model, we will clean up the text by removing some of these issues."
   ]
  },
  {
   "cell_type": "code",
   "execution_count": 34,
   "metadata": {
    "collapsed": false
   },
   "outputs": [
    {
     "data": {
      "text/plain": [
       "(u'well folks, my mac plus finally gave up the ghost this weekend after\\nstarting life as a 512k way back in 1985.  sooo, i\\'m in the market for a\\nnew machine a bit sooner than i intended to be...\\n\\ni\\'m looking into picking up a powerbook 160 or maybe 180 and have a bunch\\nof questions that (hopefully) somebody can answer:\\n\\n* does anybody know any dirt on when the next round of powerbook\\nintroductions are expected?  i\\'d heard the 185c was supposed to make an\\nappearence \"this summer\" but haven\\'t heard anymore on it - and since i\\ndon\\'t have access to macleak, i was wondering if anybody out there had\\nmore info...\\n\\n* has anybody heard rumors about price drops to the powerbook line like the\\nones the duo\\'s just went through recently?\\n\\n* what\\'s the impression of the display on the 180?  i could probably swing\\na 180 if i got the 80Mb disk rather than the 120, but i don\\'t really have\\na feel for how much \"better\" the display is (yea, it looks great in the\\nstore, but is that all \"wow\" or is it really that good?).  could i solicit\\nsome opinions of people who use the 160 and 180 day-to-day on if its worth\\ntaking the disk size and money hit to get the active display?  (i realize\\nthis is a real subjective question, but i\\'ve only played around with the\\nmachines in a computer store breifly and figured the opinions of somebody\\nwho actually uses the machine daily might prove helpful).\\n\\n* how well does hellcats perform?  ;)\\n\\nthanks a bunch in advance for any info - if you could email, i\\'ll post a\\nsummary (news reading time is at a premium with finals just around the\\ncorner... :( )\\n--\\nTom Willis  \\\\  twillis@ecn.purdue.edu    \\\\    Purdue Electrical Engineering',\n",
       " 'comp.sys.mac.hardware')"
      ]
     },
     "execution_count": 34,
     "metadata": {},
     "output_type": "execute_result"
    }
   ],
   "source": [
    "news_train_data.data[2], news_train_data.target_names[news_train_data.target[2]]\n"
   ]
  },
  {
   "cell_type": "code",
   "execution_count": 35,
   "metadata": {
    "collapsed": false
   },
   "outputs": [],
   "source": [
    "def clean_and_tokenize_text(news_data):\n",
    "    \"\"\"Cleans some issues with the text data\n",
    "    Args:\n",
    "        news_data: list of text strings\n",
    "    Returns:\n",
    "        For each text string, an array of tokenized words are returned in a list\n",
    "    \"\"\"\n",
    "    cleaned_text = []\n",
    "    for text in news_data:\n",
    "        x = re.sub('[^\\w]|_', ' ', text)  # only keep numbers and letters and spaces\n",
    "        x = x.lower()\n",
    "        x = re.sub(r'[^\\x00-\\x7f]',r'', x)  # remove non ascii texts\n",
    "        tokens = [y for y in x.split(' ') if len(y) > 1] # remove short words\n",
    "\n",
    "        # As an exercise, try stemming each token using python's nltk package.\n",
    "        cleaned_text.append(tokens)\n",
    "    return cleaned_text"
   ]
  },
  {
   "cell_type": "code",
   "execution_count": 36,
   "metadata": {
    "collapsed": false
   },
   "outputs": [],
   "source": [
    "clean_train_tokens = clean_and_tokenize_text(news_train_data.data)\n",
    "clean_test_tokens = clean_and_tokenize_text(news_test_data.data)"
   ]
  },
  {
   "cell_type": "code",
   "execution_count": 37,
   "metadata": {
    "collapsed": false
   },
   "outputs": [],
   "source": [
    "def get_unique_tokens_per_row(text_token_list):\n",
    "    \"\"\"Collect unique tokens per row.\n",
    "    Args:\n",
    "        text_token_list: list, where each element is a list containing tokenized text\n",
    "    Returns:\n",
    "        One list containing the unique tokens in every row. For example, if row one contained\n",
    "        ['pizza', 'pizza'] while row two contained ['pizza', 'cake', 'cake'], then the output list\n",
    "        would contain ['pizza' (from row 1), 'pizza' (from row 2), 'cake' (from row 2)]\n",
    "    \"\"\"\n",
    "    words = []\n",
    "    for row in text_token_list:\n",
    "        words.extend(list(set(row)))\n",
    "    return words"
   ]
  },
  {
   "cell_type": "code",
   "execution_count": 38,
   "metadata": {
    "collapsed": false
   },
   "outputs": [
    {
     "data": {
      "text/plain": [
       "<matplotlib.axes._subplots.AxesSubplot at 0x7fc21ffdbc10>"
      ]
     },
     "execution_count": 38,
     "metadata": {},
     "output_type": "execute_result"
    },
    {
     "data": {
      "image/png": "[encoded data removed]",
      "text/plain": [
       "<matplotlib.figure.Figure at 0x7fc21fe72e50>"
      ]
     },
     "metadata": {},
     "output_type": "display_data"
    }
   ],
   "source": [
    "# Make a plot where the x-axis is a token, and the y-axis is how many text documents\n",
    "# that token is in. \n",
    "words = pd.DataFrame(get_unique_tokens_per_row(clean_train_tokens) , columns=['words'])\n",
    "token_frequency = words['words'].value_counts() # how many documents contain each token.\n",
    "token_frequency.plot(logy=True)"
   ]
  },
  {
   "cell_type": "markdown",
   "metadata": {},
   "source": [
    "Note that most of our tokens only appear in 1 document, while some appear is almost every document. To build a good model, we should remove these low and high frequency tokens."
   ]
  },
  {
   "cell_type": "code",
   "execution_count": 39,
   "metadata": {
    "collapsed": false
   },
   "outputs": [
    {
     "data": {
      "text/plain": [
       "(11314, 98698)"
      ]
     },
     "execution_count": 39,
     "metadata": {},
     "output_type": "execute_result"
    }
   ],
   "source": [
    "len(news_train_data.data), len(token_frequency)  # There are many more tokens than examples!"
   ]
  },
  {
   "cell_type": "code",
   "execution_count": 40,
   "metadata": {
    "collapsed": false
   },
   "outputs": [
    {
     "name": "stdout",
     "output_type": "stream",
     "text": [
      "6808\n"
     ]
    }
   ],
   "source": [
    "# As an exercise, try different ways to reduce the vocab. For example, remove\n",
    "# meaningless words like 'than' or 'also'\n",
    "vocab = token_frequency[np.logical_and(token_frequency < 2000, token_frequency > 17)]\n",
    "print(len(vocab))"
   ]
  },
  {
   "cell_type": "code",
   "execution_count": 41,
   "metadata": {
    "collapsed": false
   },
   "outputs": [
    {
     "data": {
      "text/plain": [
       "<matplotlib.axes._subplots.AxesSubplot at 0x7fc221806410>"
      ]
     },
     "execution_count": 41,
     "metadata": {},
     "output_type": "execute_result"
    },
    {
     "data": {
      "image/png": "[encoded data removed]",
      "text/plain": [
       "<matplotlib.figure.Figure at 0x7fc219b426d0>"
      ]
     },
     "metadata": {},
     "output_type": "display_data"
    }
   ],
   "source": [
    "vocab.plot(logy=True)"
   ]
  },
  {
   "cell_type": "code",
   "execution_count": 42,
   "metadata": {
    "collapsed": false
   },
   "outputs": [],
   "source": [
    "def filter_text_by_vocab(news_data, vocab):\n",
    "    \"\"\"Removes tokens if not in vocab.\n",
    "    Args:\n",
    "        news_data: list, where each element is a token list\n",
    "        vocab: set containing the tokens to keep.\n",
    "    Returns:\n",
    "        List of strings containing the final cleaned text data\n",
    "    \"\"\"\n",
    "    text_strs = []\n",
    "    for row in news_data:\n",
    "        words_to_keep = [token for token in row if token in vocab]\n",
    "        text_strs.append(' '.join(words_to_keep))\n",
    "    return text_strs"
   ]
  },
  {
   "cell_type": "code",
   "execution_count": 43,
   "metadata": {
    "collapsed": false
   },
   "outputs": [],
   "source": [
    "\n",
    "clean_train_data = filter_text_by_vocab(clean_train_tokens, set(vocab.index))\n",
    "clean_test_data = filter_text_by_vocab(clean_test_tokens, set(vocab.index))"
   ]
  },
  {
   "cell_type": "code",
   "execution_count": 44,
   "metadata": {
    "collapsed": false
   },
   "outputs": [
    {
     "data": {
      "text/plain": [
       "(11314, 11314, 7532, 7532)"
      ]
     },
     "execution_count": 44,
     "metadata": {},
     "output_type": "execute_result"
    }
   ],
   "source": [
    "# As a check, let's make sure we didn't remove any data rows.\n",
    "len(clean_train_data), len(news_train_data.data), len(clean_test_data), len(news_test_data.data)"
   ]
  },
  {
   "cell_type": "markdown",
   "metadata": {},
   "source": [
    "# Save the clean data to a file"
   ]
  },
  {
   "cell_type": "code",
   "execution_count": 45,
   "metadata": {
    "collapsed": false
   },
   "outputs": [],
   "source": [
    "with open(os.path.join(WORKSPACE_PATH, 'news_clean_train.csv'), 'w') as f:\n",
    "    writer = csv.writer(f, lineterminator='\\n')\n",
    "    for target, text in zip(news_train_data.target, clean_train_data):\n",
    "        writer.writerow([news_train_data.target_names[target], text])"
   ]
  },
  {
   "cell_type": "code",
   "execution_count": 46,
   "metadata": {
    "collapsed": false
   },
   "outputs": [],
   "source": [
    "with open(os.path.join(WORKSPACE_PATH, 'news_clean_test.csv'), 'w') as f:\n",
    "    writer = csv.writer(f, lineterminator='\\n')\n",
    "    for target, text in zip(news_test_data.target, clean_test_data):\n",
    "        writer.writerow([news_test_data.target_names[target], text])"
   ]
  },
  {
   "cell_type": "code",
   "execution_count": 47,
   "metadata": {
    "collapsed": false
   },
   "outputs": [],
   "source": [
    "# Also save the vocab, but we will not use it again.\n",
    "with open(os.path.join(WORKSPACE_PATH, 'vocab.txt'), 'w') as f:\n",
    "    vocab.to_csv(f)"
   ]
  },
  {
   "cell_type": "code",
   "execution_count": null,
   "metadata": {
    "collapsed": true
   },
   "outputs": [],
   "source": []
  }
 ],
 "metadata": {
  "kernelspec": {
   "display_name": "Python 2",
   "language": "python",
   "name": "python2"
  },
  "language_info": {
   "codemirror_mode": {
    "name": "ipython",
    "version": 2
   },
   "file_extension": ".py",
   "mimetype": "text/x-python",
   "name": "python",
   "nbconvert_exporter": "python",
   "pygments_lexer": "ipython2",
   "version": "2.7.12"
  }
 },
 "nbformat": 4,
 "nbformat_minor": 2
}
