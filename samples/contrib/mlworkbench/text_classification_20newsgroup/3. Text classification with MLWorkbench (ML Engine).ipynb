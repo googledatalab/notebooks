{
 "cells": [
  {
   "cell_type": "markdown",
   "metadata": {},
   "source": [
    "# MLWorkbench Magics\n",
    "\n",
    "This notebook does the same thing as the previous notebook, but uses cloud services for each step. The goal is to show how the MLWorkbench magic are used differently when using ML Engine and other GCP products. This notebook does not cover MLWorkbench is detail--see the previous notebook--but points how what changes when running on the cloud. \n",
    "\n",
    "If you changed the WORKSPACE_PATH variable in the previous notebook, you must also change it here. If you made no modifications, there is no need to update the next cell. The previous notebook must be executed before this one."
   ]
  },
  {
   "cell_type": "code",
   "execution_count": 6,
   "metadata": {
    "collapsed": true
   },
   "outputs": [],
   "source": [
    "WORKSPACE_PATH = '/content/workspace/text_classification_20newsgroup'"
   ]
  },
  {
   "cell_type": "markdown",
   "metadata": {},
   "source": [
    "## What changes from local to cloud usage of the MLWorkbench magics?\n",
    "\n",
    "Generally, a few things need to change:\n",
    "\n",
    "* all data sources or file paths must be on GCS\n",
    "* the --cloud flag must be set\n",
    "* optional cloud_config values can be set\n",
    "\n",
    "Other than this, nothing else changes from local to cloud!"
   ]
  },
  {
   "cell_type": "markdown",
   "metadata": {},
   "source": [
    "# Step 1: Move the data to GCS\n",
    "\n",
    "The csv files, and all input files to the MLWorkbench magics must exist on GCS first. Therefore the first step is to make a new GCS bucket and copy the local csv files to GCS. \n"
   ]
  },
  {
   "cell_type": "code",
   "execution_count": 3,
   "metadata": {
    "collapsed": true
   },
   "outputs": [],
   "source": [
    "# Make a bucket name. This bucket name should not exist.\n",
    "gcs_bucket = 'gs://tmp_datalab_mlworkbench_20news_sample' # Feel free to change this"
   ]
  },
  {
   "cell_type": "markdown",
   "metadata": {},
   "source": [
    "The next two cells will make the bucket and copy the clean test and train csv files over"
   ]
  },
  {
   "cell_type": "code",
   "execution_count": 4,
   "metadata": {
    "collapsed": false
   },
   "outputs": [
    {
     "name": "stdout",
     "output_type": "stream",
     "text": [
      "Creating gs://tmp_datalab_mlworkbench_20news_sample/...\r\n"
     ]
    }
   ],
   "source": [
    "!gsutil mb $gcs_bucket"
   ]
  },
  {
   "cell_type": "code",
   "execution_count": 8,
   "metadata": {
    "collapsed": false
   },
   "outputs": [
    {
     "name": "stdout",
     "output_type": "stream",
     "text": [
      "Copying file:///content/workspace/text_classification_20newsgroup/news_clean_train.csv [Content-Type=text/csv]...\n",
      "Copying file:///content/workspace/text_classification_20newsgroup/news_clean_test.csv [Content-Type=text/csv]...\n",
      "- [2/2 files][ 10.7 MiB/ 10.7 MiB] 100% Done                                    \n",
      "Operation completed over 2 objects/10.7 MiB.                                     \n"
     ]
    }
   ],
   "source": [
    "!gsutil -m cp $WORKSPACE_PATH/news_clean_train.csv $WORKSPACE_PATH/news_clean_test.csv $gcs_bucket"
   ]
  },
  {
   "cell_type": "markdown",
   "metadata": {},
   "source": [
    "Check the files are on GCS"
   ]
  },
  {
   "cell_type": "code",
   "execution_count": 9,
   "metadata": {
    "collapsed": false
   },
   "outputs": [
    {
     "name": "stdout",
     "output_type": "stream",
     "text": [
      "gs://tmp_datalab_mlworkbench_20news_sample/news_clean_test.csv\r\n",
      "gs://tmp_datalab_mlworkbench_20news_sample/news_clean_train.csv\r\n"
     ]
    }
   ],
   "source": [
    "!gsutil ls $gcs_bucket"
   ]
  },
  {
   "cell_type": "code",
   "execution_count": 11,
   "metadata": {
    "collapsed": false
   },
   "outputs": [],
   "source": [
    "import google.datalab.contrib.mlworkbench.commands  # This loads the '%%ml' magics\n",
    "import os"
   ]
  },
  {
   "cell_type": "code",
   "execution_count": 12,
   "metadata": {
    "collapsed": false
   },
   "outputs": [],
   "source": [
    "# Make some constant file paths\n",
    "\n",
    "# Input files\n",
    "train_csv_file = os.path.join(gcs_bucket, 'news_clean_train.csv')\n",
    "eval_csv_file = os.path.join(gcs_bucket, 'news_clean_test.csv')\n",
    "\n",
    "# For analyze step\n",
    "analyze_output = os.path.join(gcs_bucket, 'analyze_output')\n",
    "\n",
    "# For the transform step\n",
    "transform_output = os.path.join(gcs_bucket, 'transform_output')\n",
    "transformed_train_pattern = os.path.join(transform_output, 'features_train*')\n",
    "transformed_eval_pattern = os.path.join(transform_output, 'features_eval*')\n",
    "\n",
    "# For the training step\n",
    "training_output = os.path.join(gcs_bucket, 'training_output')\n",
    "\n",
    "# For the prediction steps\n",
    "batch_predict_output = os.path.join(gcs_bucket, 'batch_predict_output')\n",
    "evaluation_model = os.path.join(training_output, 'evaluation_model')\n",
    "regular_model = os.path.join(training_output, 'model')"
   ]
  },
  {
   "cell_type": "markdown",
   "metadata": {},
   "source": [
    "When we deploy the model, we will create a ML Engine model and two versions. Change the names below if desired. The model and version names should not exist."
   ]
  },
  {
   "cell_type": "code",
   "execution_count": 55,
   "metadata": {
    "collapsed": true
   },
   "outputs": [],
   "source": [
    "mlengine_model_name = 'datalab_mlworkbench_20news_model'\n",
    "evaluation_version = 'evaluation_version'\n",
    "regular_version = 'v1'\n",
    "\n",
    "full_evaluation_model_name = mlengine_model_name + '.' + evaluation_version\n",
    "full_regular_model_name = mlengine_model_name + '.' + regular_version"
   ]
  },
  {
   "cell_type": "markdown",
   "metadata": {},
   "source": [
    "# Step 2: Analyze the csv file\n",
    "The csv data must be on GCS. We copied the data in the above cells. To run analyze in the cloud, the csv file must be on GCS and the --cloud flag must be used. Cloud analyze will use BigQuery as the backend."
   ]
  },
  {
   "cell_type": "code",
   "execution_count": 14,
   "metadata": {
    "collapsed": false
   },
   "outputs": [
    {
     "name": "stdout",
     "output_type": "stream",
     "text": [
      "Analyzing column news_label...\n",
      "column news_label analyzed.\n",
      "Analyzing column text...\n",
      "Updated property [core/project].\n",
      "column text analyzed.\n",
      "Updated property [core/project].\n"
     ]
    }
   ],
   "source": [
    "%%ml analyze --cloud\n",
    "output: $analyze_output\n",
    "training_data:\n",
    "  csv: $train_csv_file\n",
    "  schema:\n",
    "    - name: news_label\n",
    "      type: STRING\n",
    "    - name: text\n",
    "      type: STRING\n",
    "features:\n",
    "  news_label:\n",
    "    transform: target\n",
    "  text:\n",
    "    transform: bag_of_words"
   ]
  },
  {
   "cell_type": "code",
   "execution_count": 5,
   "metadata": {
    "collapsed": false
   },
   "outputs": [
    {
     "name": "stdout",
     "output_type": "stream",
     "text": [
      "features.json  schema.json  stats.json\tvocab_news_label.csv  vocab_text.csv\r\n"
     ]
    }
   ],
   "source": [
    "!ls $analyze_output"
   ]
  },
  {
   "cell_type": "markdown",
   "metadata": {},
   "source": [
    "# Step 3: Transforming the input data\n",
    "\n",
    "The output, analyze, and csv parameters must all be GCS paths. Unlike analyze, running the transform step using cloud services supports cloud options which are passed to the DataFlow job. run '%%ml transform --help' for a list of cloud options."
   ]
  },
  {
   "cell_type": "code",
   "execution_count": 18,
   "metadata": {
    "collapsed": false
   },
   "outputs": [
    {
     "name": "stdout",
     "output_type": "stream",
     "text": [
      "/usr/local/lib/python2.7/dist-packages/apache_beam/io/gcp/gcsio.py:113: DeprecationWarning: object() takes no parameters\n",
      "  super(GcsIO, cls).__new__(cls, storage_client))\n",
      "/usr/local/lib/python2.7/dist-packages/apache_beam/coders/typecoders.py:135: UserWarning: Using fallback coder for typehint: Any.\n",
      "  warnings.warn('Using fallback coder for typehint: %r.' % typehint)\n",
      "running sdist\n",
      "running egg_info\n",
      "creating trainer.egg-info\n",
      "writing requirements to trainer.egg-info/requires.txt\n",
      "writing trainer.egg-info/PKG-INFO\n",
      "writing top-level names to trainer.egg-info/top_level.txt\n",
      "writing dependency_links to trainer.egg-info/dependency_links.txt\n",
      "writing manifest file 'trainer.egg-info/SOURCES.txt'\n",
      "reading manifest file 'trainer.egg-info/SOURCES.txt'\n",
      "writing manifest file 'trainer.egg-info/SOURCES.txt'\n",
      "warning: sdist: standard file not found: should have one of README, README.rst, README.txt\n",
      "\n",
      "running check\n",
      "warning: check: missing required meta-data: url\n",
      "\n",
      "creating trainer-1.0.0\n",
      "creating trainer-1.0.0/trainer\n",
      "creating trainer-1.0.0/trainer.egg-info\n",
      "making hard links in trainer-1.0.0...\n",
      "hard linking setup.py -> trainer-1.0.0\n",
      "hard linking trainer/__init__.py -> trainer-1.0.0/trainer\n",
      "hard linking trainer/feature_transforms.py -> trainer-1.0.0/trainer\n",
      "hard linking trainer/task.py -> trainer-1.0.0/trainer\n",
      "hard linking trainer.egg-info/PKG-INFO -> trainer-1.0.0/trainer.egg-info\n",
      "hard linking trainer.egg-info/SOURCES.txt -> trainer-1.0.0/trainer.egg-info\n",
      "hard linking trainer.egg-info/dependency_links.txt -> trainer-1.0.0/trainer.egg-info\n",
      "hard linking trainer.egg-info/requires.txt -> trainer-1.0.0/trainer.egg-info\n",
      "hard linking trainer.egg-info/top_level.txt -> trainer-1.0.0/trainer.egg-info\n",
      "Writing trainer-1.0.0/setup.cfg\n",
      "Creating tar archive\n",
      "removing 'trainer-1.0.0' (and everything under it)\n",
      "DEPRECATION: pip install --download has been deprecated and will be removed in the future. Pip now has a download command that should be used instead.\n",
      "Collecting google-cloud-dataflow==2.0.0\n",
      "  Downloading google-cloud-dataflow-2.0.0.tar.gz (576kB)\n",
      "  Saved /tmp/tmpuQfgNX/google-cloud-dataflow-2.0.0.tar.gz\n",
      "Successfully downloaded google-cloud-dataflow\n",
      "View job at https://console.developers.google.com/dataflow/job/2017-07-12_13_42_52-17796730307431646627?project=cloud-ml-dev\n"
     ]
    }
   ],
   "source": [
    "%%ml transform --shuffle --cloud\n",
    "output: $transform_output\n",
    "analysis: $analyze_output\n",
    "prefix: features_train\n",
    "training_data:\n",
    "  csv: $train_csv_file\n",
    "cloud_config:\n",
    "  num_workers: 2"
   ]
  },
  {
   "cell_type": "markdown",
   "metadata": {},
   "source": [
    "Click the above link to see the dataflow job. Note that control went back to the notebook--you can run other cells--but the dataflow job is still running. The job will take about 5-10 minutes. It is up to you to wait for the job to finish before continuing this notebook."
   ]
  },
  {
   "cell_type": "markdown",
   "metadata": {},
   "source": [
    "We have to run transform on the eval set tool. Because the dataset is small, dataflow's startup time is larger than the time it takes to run the transformation. So we run the next cell locally. If you wish, add --cloud to the next cell to run another dataflow job. As all paths are on GCS, the output will be on GCS."
   ]
  },
  {
   "cell_type": "code",
   "execution_count": 21,
   "metadata": {
    "collapsed": false
   },
   "outputs": [
    {
     "name": "stdout",
     "output_type": "stream",
     "text": [
      "/usr/local/lib/python2.7/dist-packages/apache_beam/io/gcp/gcsio.py:113: DeprecationWarning: object() takes no parameters\n",
      "  super(GcsIO, cls).__new__(cls, storage_client))\n",
      "2017-07-12 20:55:16.399271: W tensorflow/core/platform/cpu_feature_guard.cc:45] The TensorFlow library wasn't compiled to use SSE4.1 instructions, but these are available on your machine and could speed up CPU computations.\n",
      "2017-07-12 20:55:16.399309: W tensorflow/core/platform/cpu_feature_guard.cc:45] The TensorFlow library wasn't compiled to use SSE4.2 instructions, but these are available on your machine and could speed up CPU computations.\n",
      "2017-07-12 20:55:16.399338: W tensorflow/core/platform/cpu_feature_guard.cc:45] The TensorFlow library wasn't compiled to use AVX instructions, but these are available on your machine and could speed up CPU computations.\n",
      "2017-07-12 20:55:16.399358: W tensorflow/core/platform/cpu_feature_guard.cc:45] The TensorFlow library wasn't compiled to use AVX2 instructions, but these are available on your machine and could speed up CPU computations.\n",
      "2017-07-12 20:55:16.399385: W tensorflow/core/platform/cpu_feature_guard.cc:45] The TensorFlow library wasn't compiled to use FMA instructions, but these are available on your machine and could speed up CPU computations.\n",
      "WARNING:root:Couldn't find python-snappy so the implementation of _TFRecordUtil._masked_crc32c is not as fast as it could be.\n"
     ]
    }
   ],
   "source": [
    "%%ml transform \n",
    "output: $transform_output\n",
    "analysis: $analyze_output\n",
    "prefix: features_eval\n",
    "training_data:\n",
    "  csv: $eval_csv_file"
   ]
  },
  {
   "cell_type": "markdown",
   "metadata": {},
   "source": [
    "Note how more than 1 file may have been made for training and eval. Sharding an input file can improve TensorFlow training performance, especially when running on a distributed cluster. "
   ]
  },
  {
   "cell_type": "code",
   "execution_count": 23,
   "metadata": {
    "collapsed": false
   },
   "outputs": [
    {
     "name": "stdout",
     "output_type": "stream",
     "text": [
      "\n",
      "\n",
      "Updates are available for some Cloud SDK components.  To install them,\n",
      "please run:\n",
      "  $ gcloud components update\n",
      "\n",
      "gs://tmp_datalab_mlworkbench_20news_sample/transform_output/errors_features_eval-00000-of-00001.txt\n",
      "gs://tmp_datalab_mlworkbench_20news_sample/transform_output/errors_features_train-00000-of-00001.txt\n",
      "gs://tmp_datalab_mlworkbench_20news_sample/transform_output/features_eval-00000-of-00008.tfrecord.gz\n",
      "gs://tmp_datalab_mlworkbench_20news_sample/transform_output/features_eval-00001-of-00008.tfrecord.gz\n",
      "gs://tmp_datalab_mlworkbench_20news_sample/transform_output/features_eval-00002-of-00008.tfrecord.gz\n",
      "gs://tmp_datalab_mlworkbench_20news_sample/transform_output/features_eval-00003-of-00008.tfrecord.gz\n",
      "gs://tmp_datalab_mlworkbench_20news_sample/transform_output/features_eval-00004-of-00008.tfrecord.gz\n",
      "gs://tmp_datalab_mlworkbench_20news_sample/transform_output/features_eval-00005-of-00008.tfrecord.gz\n",
      "gs://tmp_datalab_mlworkbench_20news_sample/transform_output/features_eval-00006-of-00008.tfrecord.gz\n",
      "gs://tmp_datalab_mlworkbench_20news_sample/transform_output/features_eval-00007-of-00008.tfrecord.gz\n",
      "gs://tmp_datalab_mlworkbench_20news_sample/transform_output/features_train-00000-of-00006.tfrecord.gz\n",
      "gs://tmp_datalab_mlworkbench_20news_sample/transform_output/features_train-00001-of-00006.tfrecord.gz\n",
      "gs://tmp_datalab_mlworkbench_20news_sample/transform_output/features_train-00002-of-00006.tfrecord.gz\n",
      "gs://tmp_datalab_mlworkbench_20news_sample/transform_output/features_train-00003-of-00006.tfrecord.gz\n",
      "gs://tmp_datalab_mlworkbench_20news_sample/transform_output/features_train-00004-of-00006.tfrecord.gz\n",
      "gs://tmp_datalab_mlworkbench_20news_sample/transform_output/features_train-00005-of-00006.tfrecord.gz\n",
      "gs://tmp_datalab_mlworkbench_20news_sample/transform_output/tmp/\n"
     ]
    }
   ],
   "source": [
    "!gsutil ls $transform_output"
   ]
  },
  {
   "cell_type": "markdown",
   "metadata": {},
   "source": [
    "An errors file is always written, even if there are no errors. Let's check the error files are empty."
   ]
  },
  {
   "cell_type": "code",
   "execution_count": 25,
   "metadata": {
    "collapsed": false
   },
   "outputs": [
    {
     "name": "stdout",
     "output_type": "stream",
     "text": [
      "       0 B  2017-07-12T20:55:32Z  gs://tmp_datalab_mlworkbench_20news_sample/transform_output/errors_features_eval-00000-of-00001.txt\r\n",
      "       0 B  2017-07-12T20:47:33Z  gs://tmp_datalab_mlworkbench_20news_sample/transform_output/errors_features_train-00000-of-00001.txt\r\n",
      "TOTAL: 2 objects, 0 bytes (0 B)\r\n"
     ]
    }
   ],
   "source": [
    "!gsutil ls -lh $transform_output/errors*"
   ]
  },
  {
   "cell_type": "markdown",
   "metadata": {},
   "source": [
    "# Step 4: Training a TensorFlow model\n",
    "Again, see '%%ml train --help' for a list of cloud options. The cell below will run with default cloud options. Note that every file path must be a GCS path. You may want to change the cloud_config region value. Because the dataset is small, the cloud training will take more time than local training because of startup costs. It should take about 10 minutes."
   ]
  },
  {
   "cell_type": "code",
   "execution_count": 40,
   "metadata": {
    "collapsed": false
   },
   "outputs": [
    {
     "name": "stdout",
     "output_type": "stream",
     "text": [
      "Removing gs://tmp_datalab_mlworkbench_20news_sample/training_output/schema_without_target.json#1499893542796098...\n",
      "Removing gs://tmp_datalab_mlworkbench_20news_sample/training_output/staging/trainer.tar.gz#1499893526757242...\n",
      "Removing gs://tmp_datalab_mlworkbench_20news_sample/training_output/train/#1499893545479107...\n",
      "Removing gs://tmp_datalab_mlworkbench_20news_sample/training_output/train/events.out.tfevents.1499893545.a0c370500d77#1499893547316966...\n",
      "/ [4 objects]                                                                   \n",
      "==> NOTE: You are performing a sequence of gsutil operations that may\n",
      "run significantly faster if you instead use gsutil -m -o ... Please\n",
      "see the -m section under \"gsutil help options\" for further information\n",
      "about when gsutil -m can be advantageous.\n",
      "\n",
      "Removing gs://tmp_datalab_mlworkbench_20news_sample/training_output/train/graph.pbtxt.tmp69bac5dd71ec45629c8a7b0a69c587ed#1499893548881225...\n",
      "/ [5 objects]                                                                   \n",
      "Operation completed over 5 objects.                                              \n"
     ]
    }
   ],
   "source": [
    "# Training should use an empty output folder. So if you run training multiple times,\n",
    "# use different folders or remove the output from the previous run.\n",
    "!gsutil -m rm -fr $training_output"
   ]
  },
  {
   "cell_type": "code",
   "execution_count": 45,
   "metadata": {
    "collapsed": false
   },
   "outputs": [
    {
     "data": {
      "text/html": [
       "Job \"trainer_task_170712_212243\" submitted.<p>Click <a href=\"https://console.developers.google.com/logs/viewer?project=cloud-ml-dev&resource=ml.googleapis.com%2Fjob_id%2Ftrainer_task_170712_212243\" target=\"_blank\">here</a> to view cloud log. <br/>"
      ]
     },
     "metadata": {},
     "output_type": "display_data"
    }
   ],
   "source": [
    "%%ml train --cloud\n",
    "output: $training_output\n",
    "analysis: $analyze_output\n",
    "training_data:\n",
    "  transformed: $transformed_train_pattern\n",
    "evaluation_data:\n",
    "  transformed: $transformed_eval_pattern\n",
    "model_args:\n",
    "  l2-regularization: 5\n",
    "  model: linear_classification\n",
    "  top-n: 4\n",
    "  learning-rate: 1\n",
    "  max-steps: 5000\n",
    "  train-batch-size: 500\n",
    "  eval-batch-size: 500\n",
    "  save-checkpoints-secs: 60\n",
    "cloud_config:\n",
    "  scale_tier: STANDARD_1\n",
    "  region: us-central1\n",
    "  runtime_version: '1.2'\n",
    "    "
   ]
  },
  {
   "cell_type": "markdown",
   "metadata": {},
   "source": [
    "It is up to you to wait for the training job to finish before continuing this notebook."
   ]
  },
  {
   "cell_type": "code",
   "execution_count": 69,
   "metadata": {
    "collapsed": false
   },
   "outputs": [
    {
     "name": "stdout",
     "output_type": "stream",
     "text": [
      "gs://tmp_datalab_mlworkbench_20news_sample/training_output/schema_without_target.json\r\n",
      "gs://tmp_datalab_mlworkbench_20news_sample/training_output/evaluation_model/\r\n",
      "gs://tmp_datalab_mlworkbench_20news_sample/training_output/model/\r\n",
      "gs://tmp_datalab_mlworkbench_20news_sample/training_output/staging/\r\n",
      "gs://tmp_datalab_mlworkbench_20news_sample/training_output/train/\r\n"
     ]
    }
   ],
   "source": [
    "!gsutil ls  $training_output"
   ]
  },
  {
   "cell_type": "markdown",
   "metadata": {},
   "source": [
    "# Step 5: Deploying the model\n",
    "\n",
    "See the previous notebook about the output models of training and the naming of ML Engine models. \n",
    "\n",
    "Below, we create a new ML Engine model, and two ML Engine model versions, one for each tensorflow model."
   ]
  },
  {
   "cell_type": "code",
   "execution_count": 61,
   "metadata": {
    "collapsed": false
   },
   "outputs": [
    {
     "name": "stdout",
     "output_type": "stream",
     "text": [
      "Created ml engine model [projects/cloud-ml-dev/models/datalab_mlworkbench_20news_model].\r\n"
     ]
    }
   ],
   "source": [
    "!gcloud ml-engine models create $mlengine_model_name --regions=us-central1"
   ]
  },
  {
   "cell_type": "code",
   "execution_count": 62,
   "metadata": {
    "collapsed": false
   },
   "outputs": [
    {
     "name": "stdout",
     "output_type": "stream",
     "text": [
      "Creating version (this might take a few minutes)......done.\n"
     ]
    }
   ],
   "source": [
    "!gcloud ml-engine versions create $evaluation_version --model=$mlengine_model_name --origin=$evaluation_model --runtime-version=1.2"
   ]
  },
  {
   "cell_type": "code",
   "execution_count": 63,
   "metadata": {
    "collapsed": false
   },
   "outputs": [
    {
     "name": "stdout",
     "output_type": "stream",
     "text": [
      "Creating version (this might take a few minutes)......done.\n"
     ]
    }
   ],
   "source": [
    "!gcloud ml-engine versions create $regular_version --model=$mlengine_model_name --origin=$regular_model --runtime-version=1.2"
   ]
  },
  {
   "cell_type": "markdown",
   "metadata": {},
   "source": [
    "# Step 6: Evaluation using batch prediction\n",
    "\n",
    "In the example below, we will run evaluation on the deployed evaluation model. Note the output and input file paths are on GCS. Also, model is not a path, it is the name of the deployed model."
   ]
  },
  {
   "cell_type": "code",
   "execution_count": 67,
   "metadata": {
    "collapsed": false
   },
   "outputs": [
    {
     "data": {
      "text/html": [
       "Job \"mlworkbench_batch_prediction_job_name_2\" submitted.<p>Click <a href=\"https://console.developers.google.com/logs/viewer?project=cloud-ml-dev&resource=ml.googleapis.com%2Fjob_id%2Fmlworkbench_batch_prediction_job_name_2\" target=\"_blank\">here</a> to view cloud log. <br/>"
      ]
     },
     "metadata": {},
     "output_type": "display_data"
    }
   ],
   "source": [
    "%%ml batch_predict --cloud\n",
    "model: $full_evaluation_model_name\n",
    "output: $batch_predict_output\n",
    "format: json\n",
    "prediction_data:\n",
    "  csv: $eval_csv_file\n",
    "cloud_config:\n",
    "  job_id: mlworkbench_batch_prediction_job_name_2\n",
    "  region: us-central1"
   ]
  },
  {
   "cell_type": "code",
   "execution_count": 72,
   "metadata": {
    "collapsed": false
   },
   "outputs": [
    {
     "name": "stdout",
     "output_type": "stream",
     "text": [
      "       0 B  2017-07-12T22:39:09Z  gs://tmp_datalab_mlworkbench_20news_sample/batch_predict_output/prediction.errors_stats-00000-of-00001\r\n",
      "   2.1 MiB  2017-07-12T22:39:30Z  gs://tmp_datalab_mlworkbench_20news_sample/batch_predict_output/prediction.results-00000-of-00001\r\n",
      "TOTAL: 2 objects, 2205167 bytes (2.1 MiB)\r\n"
     ]
    }
   ],
   "source": [
    "!gsutil ls -lh $batch_predict_output"
   ]
  },
  {
   "cell_type": "code",
   "execution_count": 64,
   "metadata": {
    "collapsed": false
   },
   "outputs": [
    {
     "name": "stdout",
     "output_type": "stream",
     "text": [
      "{\"score_2\": 0.20030562579631805, \"score_3\": 0.07384685426950455, \"score_4\": 0.06857029348611832, \"target\": \"rec.autos\", \"score\": 0.35834765434265137, \"predicted\": \"rec.autos\", \"predicted_2\": \"comp.sys.mac.hardware\", \"predicted_3\": \"rec.sport.baseball\", \"predicted_4\": \"soc.religion.christian\"}\r\n"
     ]
    }
   ],
   "source": [
    "!head -n 1 $batch_predict_output/predict_results_news_clean_test.json"
   ]
  },
  {
   "cell_type": "markdown",
   "metadata": {},
   "source": [
    "Because the data is small, we can open a file on GCS within python (by using a tensorflow file wrapper) and do analysis. For large data, it is recommended to load the predictions into a BigQuery table, and then use SQL. "
   ]
  },
  {
   "cell_type": "code",
   "execution_count": 73,
   "metadata": {
    "collapsed": true
   },
   "outputs": [],
   "source": [
    "import json\n",
    "from tensorflow.python.lib.io import file_io "
   ]
  },
  {
   "cell_type": "code",
   "execution_count": 75,
   "metadata": {
    "collapsed": false
   },
   "outputs": [],
   "source": [
    "y_true = []\n",
    "y_predicted = []\n",
    "prediction_files = file_io.get_matching_files(os.path.join(batch_predict_output, 'prediction.results*'))\n",
    "for prediction_file in prediction_files:\n",
    "    with file_io.FileIO(prediction_file, 'r') as f:\n",
    "        for line in f:\n",
    "            jline = json.loads(line)\n",
    "            y_predicted.append(jline['predicted'])\n",
    "            y_true.append(jline['target'])"
   ]
  },
  {
   "cell_type": "code",
   "execution_count": 76,
   "metadata": {
    "collapsed": false
   },
   "outputs": [
    {
     "name": "stdout",
     "output_type": "stream",
     "text": [
      "                          precision    recall  f1-score   support\n",
      "\n",
      "             alt.atheism       0.43      0.42      0.42       319\n",
      "           comp.graphics       0.57      0.64      0.60       389\n",
      " comp.os.ms-windows.misc       0.63      0.57      0.60       394\n",
      "comp.sys.ibm.pc.hardware       0.62      0.56      0.59       392\n",
      "   comp.sys.mac.hardware       0.66      0.60      0.63       385\n",
      "          comp.windows.x       0.78      0.62      0.69       395\n",
      "            misc.forsale       0.72      0.76      0.74       390\n",
      "               rec.autos       0.59      0.64      0.62       396\n",
      "         rec.motorcycles       0.55      0.70      0.61       398\n",
      "      rec.sport.baseball       0.43      0.81      0.56       397\n",
      "        rec.sport.hockey       0.89      0.81      0.85       399\n",
      "               sci.crypt       0.82      0.60      0.69       396\n",
      "         sci.electronics       0.47      0.52      0.49       393\n",
      "                 sci.med       0.74      0.64      0.69       396\n",
      "               sci.space       0.67      0.66      0.67       394\n",
      "  soc.religion.christian       0.69      0.66      0.67       398\n",
      "      talk.politics.guns       0.52      0.60      0.55       364\n",
      "   talk.politics.mideast       0.81      0.65      0.72       376\n",
      "      talk.politics.misc       0.53      0.37      0.44       310\n",
      "      talk.religion.misc       0.33      0.23      0.27       251\n",
      "\n",
      "             avg / total       0.63      0.61      0.62      7532\n",
      "\n"
     ]
    }
   ],
   "source": [
    "from sklearn.metrics import classification_report, confusion_matrix\n",
    "import matplotlib.pyplot as plt\n",
    "import numpy as np\n",
    "import itertools\n",
    "classes = sorted(list(set(y_predicted + y_true)))\n",
    "cm = confusion_matrix(y_true, y_predicted, classes)\n",
    "print(classification_report(y_true, y_predicted, target_names=classes))"
   ]
  },
  {
   "cell_type": "code",
   "execution_count": 77,
   "metadata": {
    "collapsed": false
   },
   "outputs": [
    {
     "data": {
      "image/png": "[encoded data removed]",
      "text/plain": [
       "<matplotlib.figure.Figure at 0x7f78a0be9550>"
      ]
     },
     "metadata": {},
     "output_type": "display_data"
    }
   ],
   "source": [
    "def plot_confusion_matrix(cm, classes,\n",
    "                          title='Confusion matrix',\n",
    "                          cmap=plt.cm.Blues):\n",
    "    \"\"\"\n",
    "    This function prints and plots the confusion matrix.\n",
    "    \"\"\"\n",
    "    fig, ax = plt.subplots(figsize=(15, 15))\n",
    "    plt.imshow(cm, interpolation='nearest', cmap=cmap, aspect='auto')\n",
    "    plt.title(title)\n",
    "    plt.colorbar()\n",
    "    tick_marks = np.arange(len(classes))\n",
    "    plt.xticks(tick_marks, classes, rotation=90)\n",
    "    plt.yticks(tick_marks, classes)\n",
    "\n",
    "    thresh = cm.max() / 2.\n",
    "    for i, j in itertools.product(range(cm.shape[0]), range(cm.shape[1])):\n",
    "        plt.text(j, i, cm[i, j],\n",
    "                 horizontalalignment=\"center\",\n",
    "                 color=\"white\" if cm[i, j] > thresh else \"black\")\n",
    "\n",
    "    plt.tight_layout()\n",
    "    plt.ylabel('True label')\n",
    "    plt.xlabel('Predicted label')\n",
    "plot_confusion_matrix(cm, classes)    "
   ]
  },
  {
   "cell_type": "markdown",
   "metadata": {},
   "source": [
    "# Step 7: Instant prediction\n",
    "\n"
   ]
  },
  {
   "cell_type": "markdown",
   "metadata": {},
   "source": [
    "## Prediction within MLWorkbench\n",
    "\n",
    "The MLWorkbench also supports running prediction on the deployed model directly."
   ]
  },
  {
   "cell_type": "code",
   "execution_count": 80,
   "metadata": {
    "collapsed": false
   },
   "outputs": [
    {
     "data": {
      "text/html": [
       "<table border=\"1\" class=\"dataframe\">\n",
       "  <thead>\n",
       "    <tr style=\"text-align: right;\">\n",
       "      <th>predicted</th>\n",
       "      <th>predicted_2</th>\n",
       "      <th>predicted_3</th>\n",
       "      <th>predicted_4</th>\n",
       "      <th>score</th>\n",
       "      <th>score_2</th>\n",
       "      <th>score_3</th>\n",
       "      <th>score_4</th>\n",
       "      <th>text</th>\n",
       "    </tr>\n",
       "  </thead>\n",
       "  <tbody>\n",
       "    <tr>\n",
       "      <td>sci.space</td>\n",
       "      <td>rec.motorcycles</td>\n",
       "      <td>rec.sport.baseball</td>\n",
       "      <td>rec.autos</td>\n",
       "      <td>0.129155</td>\n",
       "      <td>0.069474</td>\n",
       "      <td>0.068378</td>\n",
       "      <td>0.060507</td>\n",
       "      <td>nasa</td>\n",
       "    </tr>\n",
       "    <tr>\n",
       "      <td>comp.os.ms-windows.misc</td>\n",
       "      <td>comp.graphics</td>\n",
       "      <td>rec.motorcycles</td>\n",
       "      <td>comp.windows.x</td>\n",
       "      <td>0.200627</td>\n",
       "      <td>0.064402</td>\n",
       "      <td>0.064397</td>\n",
       "      <td>0.062812</td>\n",
       "      <td>windows xp</td>\n",
       "    </tr>\n",
       "  </tbody>\n",
       "</table>"
      ],
      "text/plain": [
       "<IPython.core.display.HTML object>"
      ]
     },
     "metadata": {},
     "output_type": "display_data"
    }
   ],
   "source": [
    "%%ml predict --cloud\n",
    "model: $full_regular_model_name\n",
    "headers: text\n",
    "prediction_data:\n",
    "  - nasa\n",
    "  - windows xp"
   ]
  },
  {
   "cell_type": "markdown",
   "metadata": {},
   "source": [
    "## Prediction from a python client\n",
    "\n",
    "A common problem is to call a deployed model from different applications. Below is an example of writing a python client to run prediction outside of Datalab. \n",
    "\n",
    "Covering model permissions topics is outside the scope of this notebook, but for more information see https://cloud.google.com/ml-engine/docs/tutorials/python-guide and https://developers.google.com/identity/protocols/application-default-credentials ."
   ]
  },
  {
   "cell_type": "code",
   "execution_count": 81,
   "metadata": {
    "collapsed": true
   },
   "outputs": [],
   "source": [
    "# For this cell, we'll get the default project from Datalab, but for a true\n",
    "# client, this value might be hard-coded.\n",
    "import google.datalab\n",
    "your_project_ID = google.datalab.Context.default().project_id"
   ]
  },
  {
   "cell_type": "code",
   "execution_count": 84,
   "metadata": {
    "collapsed": false
   },
   "outputs": [
    {
     "name": "stdout",
     "output_type": "stream",
     "text": [
      "The JSON request: \n",
      "\n",
      "{\"body\": \"{\\\"instances\\\": [\\\"nasa\\\", \\\"windows ex\\\"]}\", \"resumable_uri\": null, \"headers\": {\"content-type\": \"application/json\", \"accept-encoding\": \"gzip, deflate\", \"accept\": \"application/json\", \"user-agent\": \"google-api-python-client/1.5.1 (gzip)\"}, \"uri\": \"https://ml.googleapis.com/v1/projects/cloud-ml-dev/models/datalab_mlworkbench_20news_model/versions/v1:predict?alt=json\", \"resumable\": null, \"methodId\": \"ml.projects.predict\", \"body_size\": 37, \"resumable_progress\": 0, \"method\": \"POST\", \"_in_error_state\": false, \"response_callbacks\": []}\n",
      "\n",
      "The response:\n",
      "\n",
      "{\n",
      "  \"predictions\": [\n",
      "    {\n",
      "      \"score_2\": 0.06947407871484756, \n",
      "      \"score_3\": 0.06837809830904007, \n",
      "      \"score_4\": 0.06050673499703407, \n",
      "      \"score\": 0.1291547566652298, \n",
      "      \"predicted\": \"sci.space\", \n",
      "      \"predicted_2\": \"rec.motorcycles\", \n",
      "      \"predicted_3\": \"rec.sport.baseball\", \n",
      "      \"predicted_4\": \"rec.autos\"\n",
      "    }, \n",
      "    {\n",
      "      \"score_2\": 0.06186315789818764, \n",
      "      \"score_3\": 0.06006515026092529, \n",
      "      \"score_4\": 0.05953039228916168, \n",
      "      \"score\": 0.2523714601993561, \n",
      "      \"predicted\": \"comp.os.ms-windows.misc\", \n",
      "      \"predicted_2\": \"comp.graphics\", \n",
      "      \"predicted_3\": \"comp.windows.x\", \n",
      "      \"predicted_4\": \"rec.motorcycles\"\n",
      "    }\n",
      "  ]\n",
      "}\n"
     ]
    }
   ],
   "source": [
    "from oauth2client.client import GoogleCredentials\n",
    "from googleapiclient import discovery\n",
    "from googleapiclient import errors\n",
    "\n",
    "# Store your project ID, model name, and version name in the format the API needs.\n",
    "api_path = 'projects/{your_project_ID}/models/{model_name}/versions/{version_name}'.format(\n",
    "    your_project_ID=your_project_ID,\n",
    "    model_name=mlengine_model_name,\n",
    "    version_name=regular_version)\n",
    "\n",
    "# Get application default credentials (possible only if the gcloud tool is\n",
    "#  configured on your machine). See https://developers.google.com/identity/protocols/application-default-credentials\n",
    "#  for more info.\n",
    "credentials = GoogleCredentials.get_application_default()\n",
    "\n",
    "# Build a representation of the Cloud ML API.\n",
    "ml = discovery.build('ml', 'v1', credentials=credentials)\n",
    "\n",
    "# Create a dictionary containing data to predict.\n",
    "# Note that the data is a list of csv strings.\n",
    "body = {\n",
    "    'instances': ['nasa',\n",
    "                  'windows ex']}\n",
    "\n",
    "# Create a request\n",
    "request = ml.projects().predict(\n",
    "    name=api_path,\n",
    "    body=body)\n",
    "\n",
    "print('The JSON request: \\n')\n",
    "print(request.to_json())\n",
    "\n",
    "# Make the call.\n",
    "try:\n",
    "    response = request.execute()\n",
    "    print('\\nThe response:\\n')\n",
    "    print(json.dumps(response, indent=2))\n",
    "except errors.HttpError, err:\n",
    "    # Something went wrong, print out some information.\n",
    "    print('There was an error. Check the details:')\n",
    "    print(err._get_reason())"
   ]
  },
  {
   "cell_type": "markdown",
   "metadata": {},
   "source": [
    "# Step 7: Clean up\n",
    "\n",
    "This section is optional. We will delete all the GCP resources and local files created in this sequence of notebooks. If you are not ready to delete anything, don't run any of the following cells.\n"
   ]
  },
  {
   "cell_type": "markdown",
   "metadata": {},
   "source": [
    "Delete the deployed versions and model."
   ]
  },
  {
   "cell_type": "code",
   "execution_count": 89,
   "metadata": {
    "collapsed": false
   },
   "outputs": [
    {
     "name": "stdout",
     "output_type": "stream",
     "text": [
      "Deleting version [v1]......done.\n"
     ]
    }
   ],
   "source": [
    "!gcloud ml-engine versions delete $regular_version --model=$mlengine_model_name --quiet"
   ]
  },
  {
   "cell_type": "code",
   "execution_count": 90,
   "metadata": {
    "collapsed": false
   },
   "outputs": [
    {
     "name": "stdout",
     "output_type": "stream",
     "text": [
      "Deleting version [evaluation_version]......done.\n"
     ]
    }
   ],
   "source": [
    "!gcloud ml-engine versions delete $evaluation_version --model=$mlengine_model_name --quiet"
   ]
  },
  {
   "cell_type": "code",
   "execution_count": 92,
   "metadata": {
    "collapsed": false
   },
   "outputs": [
    {
     "name": "stdout",
     "output_type": "stream",
     "text": [
      "Deleting model [datalab_mlworkbench_20news_model]...done.\n"
     ]
    }
   ],
   "source": [
    "!gcloud ml-engine models delete $mlengine_model_name --quiet"
   ]
  },
  {
   "cell_type": "code",
   "execution_count": null,
   "metadata": {
    "collapsed": true
   },
   "outputs": [],
   "source": [
    "Delete the files in the GCS bucket, and delete the bucket"
   ]
  },
  {
   "cell_type": "code",
   "execution_count": null,
   "metadata": {
    "collapsed": false
   },
   "outputs": [],
   "source": [
    "!gsutil -m rm -r $gcs_bucket"
   ]
  },
  {
   "cell_type": "markdown",
   "metadata": {},
   "source": [
    "Remove the local files from the previous notebooks"
   ]
  },
  {
   "cell_type": "code",
   "execution_count": 95,
   "metadata": {
    "collapsed": false
   },
   "outputs": [],
   "source": [
    "!rm -fr $WORKSPACE_PATH"
   ]
  },
  {
   "cell_type": "code",
   "execution_count": null,
   "metadata": {
    "collapsed": true
   },
   "outputs": [],
   "source": []
  }
 ],
 "metadata": {
  "kernelspec": {
   "display_name": "Python 2",
   "language": "python",
   "name": "python2"
  },
  "language_info": {
   "codemirror_mode": {
    "name": "ipython",
    "version": 2
   },
   "file_extension": ".py",
   "mimetype": "text/x-python",
   "name": "python",
   "nbconvert_exporter": "python",
   "pygments_lexer": "ipython2",
   "version": "2.7.12"
  }
 },
 "nbformat": 4,
 "nbformat_minor": 2
}
