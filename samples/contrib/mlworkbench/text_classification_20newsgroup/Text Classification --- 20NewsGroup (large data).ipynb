{
 "cells": [
  {
   "cell_type": "markdown",
   "metadata": {},
   "source": [
    "<h1>About this Notebook</h1>\n",
    "\n",
    "This notebook demonstrates the experience of using ML Workbench to create a machine learning model for text classification and setting it up for online prediction. This is the \"cloud run\" version of previous notebook. Preprocessing, training, batch prediction, are all done in cloud with various of services. The cloud run can be distributed, so it can handle really large data. Although in this case there is little benefit with the small demo data, the purpose is to demonstrate the usage of cloud run mode of ML Workbench.\n",
    "\n",
    "There are only a few things that need to change between \"local run\" and \"cloud run\":\n",
    "\n",
    "* all data sources or file paths must be on GCS.\n",
    "* the --cloud flag must be set for each step.\n",
    "* \"cloud_config\" can be set for cloud specific settings, such as project_id, machine_type. In some cases it is required.\n",
    "\n",
    "Other than this, nothing else changes from local to cloud!\n",
    "    \n",
    "If you have any feedback, please send them to datalab-feedback@google.com."
   ]
  },
  {
   "cell_type": "markdown",
   "metadata": {},
   "source": [
    "# Validate Data"
   ]
  },
  {
   "cell_type": "code",
   "execution_count": 3,
   "metadata": {
    "collapsed": true
   },
   "outputs": [],
   "source": [
    "# Set up a new directory and make it working directory\n",
    "\n",
    "!mkdir -p /content/datalab/workspace/text_classification_20newsgroup\n",
    "\n",
    "import os\n",
    "os.chdir('/content/datalab/workspace/text_classification_20newsgroup')"
   ]
  },
  {
   "cell_type": "code",
   "execution_count": 4,
   "metadata": {
    "collapsed": false
   },
   "outputs": [
    {
     "name": "stdout",
     "output_type": "stream",
     "text": [
      "eval.csv  train.csv  vocab.txt\r\n"
     ]
    }
   ],
   "source": [
    "# Make sure you have the processed data there.\n",
    "!ls ./data"
   ]
  },
  {
   "cell_type": "markdown",
   "metadata": {},
   "source": [
    "# Create Model with ML Workbench\n",
    "\n",
    "The MLWorkbench Magics are a set of Datalab commands that allow an easy code-free experience to training, deploying, and predicting ML models. This notebook will take the cleaned data from the previous notebook and build a text classification model. The MLWorkbench Magics are a collection of magic commands for each step in ML workflows: analyzing input data to build transforms, transforming data, training a model, evaluating a model, and deploying a model.\n",
    "\n",
    "For details of each command, run with --help. For example, \"%%ml train --help\".\n",
    "\n",
    "This notebook shows the cloud version of every command, and gives the normal experience when building models are large datasets. However, we will still use the 20 newsgroup data. \n"
   ]
  },
  {
   "cell_type": "markdown",
   "metadata": {},
   "source": [
    "## Setup: Move the data to GCS\n",
    "\n",
    "The csv files, and all input files to the MLWorkbench magics must exist on GCS first. Therefore the first step is to make a new GCS bucket and copy the local csv files to GCS. \n"
   ]
  },
  {
   "cell_type": "code",
   "execution_count": 13,
   "metadata": {
    "collapsed": false
   },
   "outputs": [
    {
     "name": "stdout",
     "output_type": "stream",
     "text": [
      "Creating gs://datalab-mlworkbench-20newslab/...\r\n"
     ]
    }
   ],
   "source": [
    "!gsutil mb gs://datalab-mlworkbench-20newslab"
   ]
  },
  {
   "cell_type": "code",
   "execution_count": 16,
   "metadata": {
    "collapsed": false
   },
   "outputs": [
    {
     "name": "stdout",
     "output_type": "stream",
     "text": [
      "Copying file://./data/train.csv [Content-Type=text/csv]...\n",
      "Copying file://./data/eval.csv [Content-Type=text/csv]...\n",
      "- [2/2 files][ 11.7 MiB/ 11.7 MiB] 100% Done                                    \n",
      "Operation completed over 2 objects/11.7 MiB.                                     \n"
     ]
    }
   ],
   "source": [
    "!gsutil -m cp ./data/train.csv ./data/eval.csv gs://datalab-mlworkbench-20newslab"
   ]
  },
  {
   "cell_type": "code",
   "execution_count": 11,
   "metadata": {
    "collapsed": false
   },
   "outputs": [],
   "source": [
    "import google.datalab.contrib.mlworkbench.commands  # This loads the '%%ml' magics"
   ]
  },
  {
   "cell_type": "markdown",
   "metadata": {},
   "source": [
    "## Step 1: Analyze\n",
    "\n",
    "In cloud run, analysis is implemented with BigQuery. Running it may incur some costs."
   ]
  },
  {
   "cell_type": "code",
   "execution_count": 15,
   "metadata": {
    "collapsed": false
   },
   "outputs": [
    {
     "name": "stdout",
     "output_type": "stream",
     "text": [
      "Analyzing column news_label...\n",
      "column news_label analyzed.\n",
      "Analyzing column text...\n",
      "Updated property [core/project].\n",
      "column text analyzed.\n",
      "Updated property [core/project].\n"
     ]
    }
   ],
   "source": [
    "%%ml analyze --cloud\n",
    "output: gs://datalab-mlworkbench-20newslab/analysis\n",
    "training_data:\n",
    "    csv: gs://datalab-mlworkbench-20newslab/train.csv\n",
    "    schema:\n",
    "        - name: news_label\n",
    "          type: STRING\n",
    "        - name: text\n",
    "          type: STRING\n",
    "features:\n",
    "    news_label:\n",
    "        transform: target\n",
    "    text:\n",
    "        transform: bag_of_words"
   ]
  },
  {
   "cell_type": "markdown",
   "metadata": {},
   "source": [
    "## Step 2: Transform\n",
    "\n",
    "In cloud run, analysis is implemented with Cloud DataFlow. Running it may incur some costs."
   ]
  },
  {
   "cell_type": "code",
   "execution_count": 17,
   "metadata": {
    "collapsed": false
   },
   "outputs": [
    {
     "name": "stdout",
     "output_type": "stream",
     "text": [
      "/usr/local/lib/python2.7/dist-packages/apache_beam/io/gcp/gcsio.py:113: DeprecationWarning: object() takes no parameters\n",
      "  super(GcsIO, cls).__new__(cls, storage_client))\n",
      "/usr/local/lib/python2.7/dist-packages/apache_beam/coders/typecoders.py:135: UserWarning: Using fallback coder for typehint: Any.\n",
      "  warnings.warn('Using fallback coder for typehint: %r.' % typehint)\n",
      "running sdist\n",
      "running egg_info\n",
      "creating trainer.egg-info\n",
      "writing requirements to trainer.egg-info/requires.txt\n",
      "writing trainer.egg-info/PKG-INFO\n",
      "writing top-level names to trainer.egg-info/top_level.txt\n",
      "writing dependency_links to trainer.egg-info/dependency_links.txt\n",
      "writing manifest file 'trainer.egg-info/SOURCES.txt'\n",
      "reading manifest file 'trainer.egg-info/SOURCES.txt'\n",
      "writing manifest file 'trainer.egg-info/SOURCES.txt'\n",
      "warning: sdist: standard file not found: should have one of README, README.rst, README.txt\n",
      "\n",
      "running check\n",
      "warning: check: missing required meta-data: url\n",
      "\n",
      "creating trainer-1.0.0\n",
      "creating trainer-1.0.0/trainer\n",
      "creating trainer-1.0.0/trainer.egg-info\n",
      "making hard links in trainer-1.0.0...\n",
      "hard linking setup.py -> trainer-1.0.0\n",
      "hard linking trainer/__init__.py -> trainer-1.0.0/trainer\n",
      "hard linking trainer/feature_transforms.py -> trainer-1.0.0/trainer\n",
      "hard linking trainer/task.py -> trainer-1.0.0/trainer\n",
      "hard linking trainer.egg-info/PKG-INFO -> trainer-1.0.0/trainer.egg-info\n",
      "hard linking trainer.egg-info/SOURCES.txt -> trainer-1.0.0/trainer.egg-info\n",
      "hard linking trainer.egg-info/dependency_links.txt -> trainer-1.0.0/trainer.egg-info\n",
      "hard linking trainer.egg-info/requires.txt -> trainer-1.0.0/trainer.egg-info\n",
      "hard linking trainer.egg-info/top_level.txt -> trainer-1.0.0/trainer.egg-info\n",
      "Writing trainer-1.0.0/setup.cfg\n",
      "Creating tar archive\n",
      "removing 'trainer-1.0.0' (and everything under it)\n",
      "DEPRECATION: pip install --download has been deprecated and will be removed in the future. Pip now has a download command that should be used instead.\n",
      "Collecting google-cloud-dataflow==2.0.0\n",
      "  Downloading google-cloud-dataflow-2.0.0.tar.gz (576kB)\n",
      "  Saved /tmp/tmpjtZfKI/google-cloud-dataflow-2.0.0.tar.gz\n",
      "Successfully downloaded google-cloud-dataflow\n",
      "View job at https://console.developers.google.com/dataflow/job/2017-08-15_14_18_46-16668730200188328691?project=datalab-demo-project\n"
     ]
    }
   ],
   "source": [
    "%%ml transform --cloud\n",
    "output: gs://datalab-mlworkbench-20newslab/transform\n",
    "analysis: gs://datalab-mlworkbench-20newslab/analysis\n",
    "prefix: features_train\n",
    "training_data:\n",
    "    csv: gs://datalab-mlworkbench-20newslab/train.csv\n",
    "cloud_config:\n",
    "    num_workers: 1"
   ]
  },
  {
   "cell_type": "code",
   "execution_count": 18,
   "metadata": {
    "collapsed": false
   },
   "outputs": [
    {
     "name": "stdout",
     "output_type": "stream",
     "text": [
      "/usr/local/lib/python2.7/dist-packages/apache_beam/io/gcp/gcsio.py:113: DeprecationWarning: object() takes no parameters\n",
      "  super(GcsIO, cls).__new__(cls, storage_client))\n",
      "/usr/local/lib/python2.7/dist-packages/apache_beam/coders/typecoders.py:135: UserWarning: Using fallback coder for typehint: Any.\n",
      "  warnings.warn('Using fallback coder for typehint: %r.' % typehint)\n",
      "running sdist\n",
      "running egg_info\n",
      "writing requirements to trainer.egg-info/requires.txt\n",
      "writing trainer.egg-info/PKG-INFO\n",
      "writing top-level names to trainer.egg-info/top_level.txt\n",
      "writing dependency_links to trainer.egg-info/dependency_links.txt\n",
      "reading manifest file 'trainer.egg-info/SOURCES.txt'\n",
      "writing manifest file 'trainer.egg-info/SOURCES.txt'\n",
      "warning: sdist: standard file not found: should have one of README, README.rst, README.txt\n",
      "\n",
      "running check\n",
      "warning: check: missing required meta-data: url\n",
      "\n",
      "creating trainer-1.0.0\n",
      "creating trainer-1.0.0/trainer\n",
      "creating trainer-1.0.0/trainer.egg-info\n",
      "making hard links in trainer-1.0.0...\n",
      "hard linking setup.py -> trainer-1.0.0\n",
      "hard linking trainer/__init__.py -> trainer-1.0.0/trainer\n",
      "hard linking trainer/feature_transforms.py -> trainer-1.0.0/trainer\n",
      "hard linking trainer/task.py -> trainer-1.0.0/trainer\n",
      "hard linking trainer.egg-info/PKG-INFO -> trainer-1.0.0/trainer.egg-info\n",
      "hard linking trainer.egg-info/SOURCES.txt -> trainer-1.0.0/trainer.egg-info\n",
      "hard linking trainer.egg-info/dependency_links.txt -> trainer-1.0.0/trainer.egg-info\n",
      "hard linking trainer.egg-info/requires.txt -> trainer-1.0.0/trainer.egg-info\n",
      "hard linking trainer.egg-info/top_level.txt -> trainer-1.0.0/trainer.egg-info\n",
      "Writing trainer-1.0.0/setup.cfg\n",
      "Creating tar archive\n",
      "removing 'trainer-1.0.0' (and everything under it)\n",
      "DEPRECATION: pip install --download has been deprecated and will be removed in the future. Pip now has a download command that should be used instead.\n",
      "Collecting google-cloud-dataflow==2.0.0\n",
      "  Using cached google-cloud-dataflow-2.0.0.tar.gz\n",
      "  Saved /tmp/tmp9Lcrm1/google-cloud-dataflow-2.0.0.tar.gz\n",
      "Successfully downloaded google-cloud-dataflow\n",
      "View job at https://console.developers.google.com/dataflow/job/2017-08-15_14_19_22-11905360957148416239?project=datalab-demo-project\n"
     ]
    }
   ],
   "source": [
    "%%ml transform --cloud\n",
    "output: gs://datalab-mlworkbench-20newslab/transform\n",
    "analysis: gs://datalab-mlworkbench-20newslab/analysis\n",
    "prefix: features_eval\n",
    "training_data:\n",
    "    csv: gs://datalab-mlworkbench-20newslab/eval.csv\n",
    "cloud_config:\n",
    "    num_workers: 1"
   ]
  },
  {
   "cell_type": "markdown",
   "metadata": {},
   "source": [
    "Click the links in output cell to monitor the jobs progress. Once they are completed (usually within 15 minutes with the job startup overhead), check the output."
   ]
  },
  {
   "cell_type": "code",
   "execution_count": 22,
   "metadata": {
    "collapsed": false
   },
   "outputs": [
    {
     "name": "stdout",
     "output_type": "stream",
     "text": [
      "gs://datalab-mlworkbench-20newslab/transform/errors_features_eval-00000-of-00001.txt\r\n",
      "gs://datalab-mlworkbench-20newslab/transform/errors_features_train-00000-of-00001.txt\r\n",
      "gs://datalab-mlworkbench-20newslab/transform/features_eval-00000-of-00003.tfrecord.gz\r\n",
      "gs://datalab-mlworkbench-20newslab/transform/features_eval-00001-of-00003.tfrecord.gz\r\n",
      "gs://datalab-mlworkbench-20newslab/transform/features_eval-00002-of-00003.tfrecord.gz\r\n",
      "gs://datalab-mlworkbench-20newslab/transform/features_train-00000-of-00003.tfrecord.gz\r\n",
      "gs://datalab-mlworkbench-20newslab/transform/features_train-00001-of-00003.tfrecord.gz\r\n",
      "gs://datalab-mlworkbench-20newslab/transform/features_train-00002-of-00003.tfrecord.gz\r\n",
      "gs://datalab-mlworkbench-20newslab/transform/tmp/\r\n"
     ]
    }
   ],
   "source": [
    "!gsutil ls gs://datalab-mlworkbench-20newslab/transform"
   ]
  },
  {
   "cell_type": "markdown",
   "metadata": {},
   "source": [
    "## Step 3: Training\n",
    "\n",
    "In cloud run, training is implemented with Cloud ML Engine Training service. Running it may incur some costs."
   ]
  },
  {
   "cell_type": "code",
   "execution_count": null,
   "metadata": {
    "collapsed": false
   },
   "outputs": [],
   "source": [
    "# Training should use an empty output folder. So if you run training multiple times,\n",
    "# use different folders or remove the output from the previous run.\n",
    "!gsutil -m rm -fr gs://datalab-mlworkbench-20newslab/train"
   ]
  },
  {
   "cell_type": "markdown",
   "metadata": {},
   "source": [
    "Note that, \"runtime_version: '1.2'\" specifies which TensorFlow version is used at training. The first time training is a bit slower because of warm up, but if you train it multiple times the runs after first will be faster."
   ]
  },
  {
   "cell_type": "code",
   "execution_count": 24,
   "metadata": {
    "collapsed": false
   },
   "outputs": [
    {
     "data": {
      "text/html": [
       "Job \"trainer_task_170815_212703\" submitted.<p>Click <a href=\"https://console.developers.google.com/logs/viewer?project=datalab-demo-project&resource=ml.googleapis.com%2Fjob_id%2Ftrainer_task_170815_212703\" target=\"_blank\">here</a> to view cloud log. <br/>"
      ]
     },
     "metadata": {},
     "output_type": "display_data"
    }
   ],
   "source": [
    "%%ml train --cloud\n",
    "output: gs://datalab-mlworkbench-20newslab/train\n",
    "analysis: gs://datalab-mlworkbench-20newslab/analysis\n",
    "training_data:\n",
    "    transformed: gs://datalab-mlworkbench-20newslab/transform/features_train-*\n",
    "evaluation_data:\n",
    "    transformed: gs://datalab-mlworkbench-20newslab/transform/features_eval-*\n",
    "model_args:\n",
    "    model: linear_classification\n",
    "    top-n: 3\n",
    "    max-steps: 10000\n",
    "    save-checkpoints-secs: 60\n",
    "    train-batch-size: 500\n",
    "cloud_config:\n",
    "    scale_tier: STANDARD_1\n",
    "    region: us-central1\n",
    "    runtime_version: '1.2'"
   ]
  },
  {
   "cell_type": "code",
   "execution_count": 26,
   "metadata": {
    "collapsed": false
   },
   "outputs": [
    {
     "name": "stdout",
     "output_type": "stream",
     "text": [
      "gs://datalab-mlworkbench-20newslab/train/schema_without_target.json\r\n",
      "gs://datalab-mlworkbench-20newslab/train/evaluation_model/\r\n",
      "gs://datalab-mlworkbench-20newslab/train/model/\r\n",
      "gs://datalab-mlworkbench-20newslab/train/staging/\r\n",
      "gs://datalab-mlworkbench-20newslab/train/train/\r\n"
     ]
    }
   ],
   "source": [
    "# Once training is done, check the output.\n",
    "!gsutil list gs://datalab-mlworkbench-20newslab/train"
   ]
  },
  {
   "cell_type": "code",
   "execution_count": 27,
   "metadata": {
    "collapsed": false
   },
   "outputs": [
    {
     "data": {
      "text/html": [
       "<p>TensorBoard was started successfully with pid 132192. Click <a href=\"/_proxy/52045/\" target=\"_blank\">here</a> to access it.</p>"
      ]
     },
     "metadata": {},
     "output_type": "display_data"
    }
   ],
   "source": [
    "# You can start Tensorboard by using Datalab's ML library.\n",
    "# Note that the events will show up a few minutes after you start TensorBoard because it takes time to load events from GCS.\n",
    "# Sometimes refreshing the page helps too.\n",
    "\n",
    "from google.datalab.ml import TensorBoard\n",
    "\n",
    "tid = TensorBoard.start('gs://datalab-mlworkbench-20newslab/train')"
   ]
  },
  {
   "cell_type": "code",
   "execution_count": 28,
   "metadata": {
    "collapsed": false
   },
   "outputs": [
    {
     "data": {
      "text/plain": [
       "{u'accuracy': {'gs://datalab-mlworkbench-20newslab/train/train/eval'},\n",
       " u'global_step/sec': {'gs://datalab-mlworkbench-20newslab/train/train'},\n",
       " u'input_producer/fraction_of_32_full': {'gs://datalab-mlworkbench-20newslab/train/train'},\n",
       " u'loss': {'gs://datalab-mlworkbench-20newslab/train/train',\n",
       "  'gs://datalab-mlworkbench-20newslab/train/train/eval'},\n",
       " u'shuffle_batch/fraction_over_10_of_5500_full': {'gs://datalab-mlworkbench-20newslab/train/train'}}"
      ]
     },
     "execution_count": 28,
     "metadata": {},
     "output_type": "execute_result"
    }
   ],
   "source": [
    "# You can also plot the summary events which will be saved with the notebook.\n",
    "\n",
    "from google.datalab.ml import Summary\n",
    "\n",
    "summary = Summary('gs://datalab-mlworkbench-20newslab/train')\n",
    "summary.list_events()"
   ]
  },
  {
   "cell_type": "code",
   "execution_count": 29,
   "metadata": {
    "collapsed": false
   },
   "outputs": [
    {
     "data": {
      "image/png": "[encoded data removed]",
      "text/plain": [
       "<matplotlib.figure.Figure at 0x7fdac42e2c50>"
      ]
     },
     "metadata": {},
     "output_type": "display_data"
    }
   ],
   "source": [
    "summary.plot(['loss', 'accuracy'])"
   ]
  },
  {
   "cell_type": "markdown",
   "metadata": {},
   "source": [
    "## Step 4: Evaluation using batch prediction\n",
    "\n",
    "See previous notebook (Text Classification --- 20NewsGroup (small data)). You can do local batch prediction with the model trained in cloud."
   ]
  },
  {
   "cell_type": "code",
   "execution_count": 31,
   "metadata": {
    "collapsed": false
   },
   "outputs": [
    {
     "name": "stdout",
     "output_type": "stream",
     "text": [
      "local prediction...\n",
      "INFO:tensorflow:Restoring parameters from gs://datalab-mlworkbench-20newslab/train/evaluation_model/variables/variables\n",
      "done.\n"
     ]
    }
   ],
   "source": [
    "%%ml batch_predict\n",
    "model: gs://datalab-mlworkbench-20newslab/train/evaluation_model\n",
    "output: ./batch_predict_cloud_model\n",
    "format: csv\n",
    "prediction_data:\n",
    "    csv: ./data/eval.csv"
   ]
  },
  {
   "cell_type": "code",
   "execution_count": 32,
   "metadata": {
    "collapsed": false
   },
   "outputs": [
    {
     "name": "stdout",
     "output_type": "stream",
     "text": [
      "rec.autos,comp.sys.mac.hardware,rec.sport.baseball,0.252283,0.181238,0.0824743,rec.autos\r\n",
      "comp.windows.x,comp.graphics,rec.motorcycles,0.387877,0.356362,0.0309316,comp.windows.x\r\n",
      "rec.motorcycles,rec.sport.baseball,comp.os.ms-windows.misc,0.0719544,0.0671989,0.059378,alt.atheism\r\n",
      "talk.politics.guns,talk.politics.mideast,talk.politics.misc,0.40723,0.28827,0.172166,talk.politics.mideast\r\n",
      "alt.atheism,rec.autos,sci.space,0.129724,0.0720822,0.0661296,talk.religion.misc\r\n"
     ]
    }
   ],
   "source": [
    "!head -n 5 ./batch_predict_cloud_model/predict_results_eval.csv"
   ]
  },
  {
   "cell_type": "markdown",
   "metadata": {},
   "source": [
    "# Prediction"
   ]
  },
  {
   "cell_type": "markdown",
   "metadata": {},
   "source": [
    "## Local Instant Prediction\n",
    "\n",
    "Local instant prediction works with model trained in cloud too."
   ]
  },
  {
   "cell_type": "code",
   "execution_count": 33,
   "metadata": {
    "collapsed": false
   },
   "outputs": [
    {
     "data": {
      "text/html": [
       "<table border=\"1\" class=\"dataframe\">\n",
       "  <thead>\n",
       "    <tr style=\"text-align: right;\">\n",
       "      <th>predicted</th>\n",
       "      <th>predicted_2</th>\n",
       "      <th>predicted_3</th>\n",
       "      <th>probability</th>\n",
       "      <th>probability_2</th>\n",
       "      <th>probability_3</th>\n",
       "      <th>text</th>\n",
       "    </tr>\n",
       "  </thead>\n",
       "  <tbody>\n",
       "    <tr>\n",
       "      <td>sci.space</td>\n",
       "      <td>rec.motorcycles</td>\n",
       "      <td>rec.sport.baseball</td>\n",
       "      <td>0.102222</td>\n",
       "      <td>0.064993</td>\n",
       "      <td>0.063197</td>\n",
       "      <td>nasa</td>\n",
       "    </tr>\n",
       "    <tr>\n",
       "      <td>comp.os.ms-windows.misc</td>\n",
       "      <td>comp.graphics</td>\n",
       "      <td>misc.forsale</td>\n",
       "      <td>0.143492</td>\n",
       "      <td>0.063391</td>\n",
       "      <td>0.060048</td>\n",
       "      <td>windows xp</td>\n",
       "    </tr>\n",
       "  </tbody>\n",
       "</table>"
      ],
      "text/plain": [
       "<IPython.core.display.HTML object>"
      ]
     },
     "metadata": {},
     "output_type": "display_data"
    }
   ],
   "source": [
    "%%ml predict\n",
    "model: gs://datalab-mlworkbench-20newslab/train/model\n",
    "headers: text\n",
    "prediction_data:\n",
    "  - nasa\n",
    "  - windows xp"
   ]
  },
  {
   "cell_type": "markdown",
   "metadata": {},
   "source": [
    "## Deploying Model to ML Engine"
   ]
  },
  {
   "cell_type": "code",
   "execution_count": 34,
   "metadata": {
    "collapsed": false
   },
   "outputs": [
    {
     "name": "stdout",
     "output_type": "stream",
     "text": [
      "Waiting for operation \"projects/datalab-demo-project/operations/create_news_v3-1502834001931\"\n",
      "Done.\n"
     ]
    }
   ],
   "source": [
    "from google.datalab.ml import Models, ModelVersions\n",
    "\n",
    "# Makes a ML Engine Model\n",
    "try:\n",
    "    Models().create('news')  \n",
    "except:\n",
    "    # If model exists.\n",
    "    pass\n",
    "\n",
    "# Makes a ML Engine Version\n",
    "ModelVersions('news').deploy(\n",
    "    version_name='v3',\n",
    "    path='gs://datalab-mlworkbench-20newslab/train/model')"
   ]
  },
  {
   "cell_type": "markdown",
   "metadata": {},
   "source": [
    "## Online Prediction"
   ]
  },
  {
   "cell_type": "code",
   "execution_count": 35,
   "metadata": {
    "collapsed": false
   },
   "outputs": [
    {
     "data": {
      "text/html": [
       "<table border=\"1\" class=\"dataframe\">\n",
       "  <thead>\n",
       "    <tr style=\"text-align: right;\">\n",
       "      <th>predicted</th>\n",
       "      <th>predicted_2</th>\n",
       "      <th>predicted_3</th>\n",
       "      <th>probability</th>\n",
       "      <th>probability_2</th>\n",
       "      <th>probability_3</th>\n",
       "      <th>text</th>\n",
       "    </tr>\n",
       "  </thead>\n",
       "  <tbody>\n",
       "    <tr>\n",
       "      <td>sci.space</td>\n",
       "      <td>rec.motorcycles</td>\n",
       "      <td>rec.sport.baseball</td>\n",
       "      <td>0.102222</td>\n",
       "      <td>0.064993</td>\n",
       "      <td>0.063197</td>\n",
       "      <td>nasa</td>\n",
       "    </tr>\n",
       "    <tr>\n",
       "      <td>comp.os.ms-windows.misc</td>\n",
       "      <td>comp.graphics</td>\n",
       "      <td>misc.forsale</td>\n",
       "      <td>0.143492</td>\n",
       "      <td>0.063391</td>\n",
       "      <td>0.060048</td>\n",
       "      <td>windows xp</td>\n",
       "    </tr>\n",
       "  </tbody>\n",
       "</table>"
      ],
      "text/plain": [
       "<IPython.core.display.HTML object>"
      ]
     },
     "metadata": {},
     "output_type": "display_data"
    }
   ],
   "source": [
    "%%ml predict --cloud\n",
    "model: news.v3\n",
    "headers: text\n",
    "prediction_data:\n",
    "  - nasa\n",
    "  - windows xp"
   ]
  },
  {
   "cell_type": "markdown",
   "metadata": {},
   "source": [
    "## Online Batch Prediction"
   ]
  },
  {
   "cell_type": "code",
   "execution_count": 40,
   "metadata": {
    "collapsed": false
   },
   "outputs": [],
   "source": [
    "# Let's create a CSV file from eval.csv by removing the target column.\n",
    "with open('./data/eval.csv', 'r') as f, open('./data/test.csv', 'w') as fout:\n",
    "    for l in f:\n",
    "        fout.write(l.split(',')[1])"
   ]
  },
  {
   "cell_type": "code",
   "execution_count": 41,
   "metadata": {
    "collapsed": false
   },
   "outputs": [
    {
     "name": "stdout",
     "output_type": "stream",
     "text": [
      "Copying file://./data/test.csv [Content-Type=text/csv]...\n",
      "- [1/1 files][  4.2 MiB/  4.2 MiB] 100% Done                                    \n",
      "Operation completed over 1 objects/4.2 MiB.                                      \n"
     ]
    }
   ],
   "source": [
    "!gsutil -m cp ./data/test.csv gs://datalab-mlworkbench-20newslab"
   ]
  },
  {
   "cell_type": "code",
   "execution_count": 44,
   "metadata": {
    "collapsed": false
   },
   "outputs": [
    {
     "data": {
      "text/html": [
       "Job \"prediction_170815_220602\" submitted.<p>Click <a href=\"https://console.developers.google.com/logs/viewer?project=datalab-demo-project&resource=ml.googleapis.com%2Fjob_id%2Fprediction_170815_220602\" target=\"_blank\">here</a> to view cloud log. <br/>"
      ]
     },
     "metadata": {},
     "output_type": "display_data"
    }
   ],
   "source": [
    "%%ml batch_predict --cloud\n",
    "model: news.v3\n",
    "output: gs://datalab-mlworkbench-20newslab/prediction\n",
    "format: json\n",
    "prediction_data:\n",
    "    csv: gs://datalab-mlworkbench-20newslab/test.csv\n",
    "cloud_config:\n",
    "    region: us-central1"
   ]
  },
  {
   "cell_type": "markdown",
   "metadata": {},
   "source": [
    "Once job is completed, take a look at the results."
   ]
  },
  {
   "cell_type": "code",
   "execution_count": 47,
   "metadata": {
    "collapsed": false
   },
   "outputs": [
    {
     "name": "stdout",
     "output_type": "stream",
     "text": [
      "      40 B  2017-08-15T22:10:46Z  gs://datalab-mlworkbench-20newslab/prediction/prediction.errors_stats-00000-of-00001\r\n",
      "  80.3 KiB  2017-08-15T22:10:39Z  gs://datalab-mlworkbench-20newslab/prediction/prediction.results-00000-of-00002\r\n",
      "144.35 KiB  2017-08-15T22:10:39Z  gs://datalab-mlworkbench-20newslab/prediction/prediction.results-00001-of-00002\r\n",
      "TOTAL: 3 objects, 230079 bytes (224.69 KiB)\r\n"
     ]
    }
   ],
   "source": [
    "!gsutil ls -lh gs://datalab-mlworkbench-20newslab/prediction"
   ]
  },
  {
   "cell_type": "code",
   "execution_count": 49,
   "metadata": {
    "collapsed": false
   },
   "outputs": [
    {
     "name": "stdout",
     "output_type": "stream",
     "text": [
      "{\"probability\": 0.9639276266098022, \"predicted\": \"sci.med\", \"probability_3\": 0.0044321282766759396, \"probability_2\": 0.014010959304869175, \"predicted_2\": \"rec.motorcycles\", \"predicted_3\": \"alt.atheism\"}\r\n",
      "{\"probability\": 0.07142668217420578, \"predicted\": \"rec.autos\", \"probability_3\": 0.0668724849820137, \"probability_2\": 0.06724458932876587, \"predicted_2\": \"rec.sport.hockey\", \"predicted_3\": \"rec.motorcycles\"}\r\n"
     ]
    }
   ],
   "source": [
    "!gsutil cat gs://datalab-mlworkbench-20newslab/prediction/prediction.results* | head -n 2"
   ]
  },
  {
   "cell_type": "markdown",
   "metadata": {},
   "source": [
    "## BigQuery to analyze prediction results\n",
    "\n",
    "Sometimes you want to query your prediction/evaluation results using SQL. It is easy."
   ]
  },
  {
   "cell_type": "code",
   "execution_count": 54,
   "metadata": {
    "collapsed": false
   },
   "outputs": [
    {
     "data": {
      "text/plain": [
       "Job datalab-demo-project/job_eAxiMAjTyERs2Sofwaeg6j8ChPSn completed"
      ]
     },
     "execution_count": 54,
     "metadata": {},
     "output_type": "execute_result"
    }
   ],
   "source": [
    "# Use Datalab's Bigquery API to load CSV files into table.\n",
    "\n",
    "import google.datalab.bigquery as bq\n",
    "import json\n",
    "\n",
    "with open('./batch_predict_cloud_model/predict_results_schema.json', 'r') as f:\n",
    "  schema = json.load(f)\n",
    "\n",
    "# Remove the target column because the schema file we use is from previous evaluation results.\n",
    "del schema[-1] \n",
    "\n",
    "# Create BQ Dataset\n",
    "bq.Dataset('newspredict').create()\n",
    "\n",
    "# Create the table\n",
    "table = bq.Table('newspredict.result2').create(schema=schema, overwrite=True)\n",
    "table.load('gs://datalab-mlworkbench-20newslab/prediction/prediction.results*', mode='overwrite', source_format='json')"
   ]
  },
  {
   "cell_type": "markdown",
   "metadata": {},
   "source": [
    "Now, run any SQL queries on \"table newspredict.result1\". Below we query some \"weak\" results."
   ]
  },
  {
   "cell_type": "code",
   "execution_count": 61,
   "metadata": {
    "collapsed": false
   },
   "outputs": [
    {
     "data": {
      "text/html": [
       "\n",
       "    <div class=\"bqtv\" id=\"7_150283618193\"><table><tr><th>predicted</th><th>predicted_2</th><th>predicted_3</th><th>probability</th><th>probability_2</th><th>probability_3</th></tr><tr><td>sci.space</td><td>rec.motorcycles</td><td>sci.med</td><td>0.0898567810655</td><td>0.0825914293528</td><td>0.0789966359735</td></tr><tr><td>rec.motorcycles</td><td>comp.sys.mac.hardware</td><td>sci.med</td><td>0.076315484941</td><td>0.0738198906183</td><td>0.0652579665184</td></tr><tr><td>rec.motorcycles</td><td>comp.os.ms-windows.misc</td><td>sci.med</td><td>0.0862247943878</td><td>0.0846209824085</td><td>0.0651038885117</td></tr><tr><td>sci.electronics</td><td>comp.sys.mac.hardware</td><td>sci.med</td><td>0.0745724365115</td><td>0.0687986686826</td><td>0.0668958127499</td></tr><tr><td>soc.religion.christian</td><td>alt.atheism</td><td>sci.med</td><td>0.0740862712264</td><td>0.0721479579806</td><td>0.0705471336842</td></tr><tr><td>sci.med</td><td>rec.motorcycles</td><td>rec.autos</td><td>0.0945234596729</td><td>0.0697456151247</td><td>0.0615919604897</td></tr><tr><td>sci.space</td><td>rec.motorcycles</td><td>rec.autos</td><td>0.0877444073558</td><td>0.0838762894273</td><td>0.0787376984954</td></tr><tr><td>sci.space</td><td>talk.politics.mideast</td><td>rec.autos</td><td>0.0766582489014</td><td>0.0721520259976</td><td>0.0680164322257</td></tr><tr><td>alt.atheism</td><td>rec.sport.baseball</td><td>rec.autos</td><td>0.0831458196044</td><td>0.0690513774753</td><td>0.0658900812268</td></tr><tr><td>rec.motorcycles</td><td>rec.sport.baseball</td><td>rec.autos</td><td>0.0697844997048</td><td>0.0675952807069</td><td>0.0626377090812</td></tr><tr><td>rec.motorcycles</td><td>comp.graphics</td><td>rec.autos</td><td>0.0728927329183</td><td>0.0696616619825</td><td>0.0659624561667</td></tr><tr><td>rec.motorcycles</td><td>comp.sys.mac.hardware</td><td>rec.autos</td><td>0.0766527727246</td><td>0.0702501237392</td><td>0.0671064034104</td></tr><tr><td>rec.motorcycles</td><td>rec.sport.baseball</td><td>rec.autos</td><td>0.0695070624352</td><td>0.068531692028</td><td>0.0645764768124</td></tr><tr><td>rec.motorcycles</td><td>rec.sport.baseball</td><td>rec.autos</td><td>0.0687967836857</td><td>0.0680840313435</td><td>0.0641432330012</td></tr><tr><td>rec.motorcycles</td><td>rec.sport.baseball</td><td>rec.autos</td><td>0.0653014332056</td><td>0.0645946934819</td><td>0.064107388258</td></tr><tr><td>rec.motorcycles</td><td>rec.sport.baseball</td><td>rec.autos</td><td>0.0805598497391</td><td>0.0758648738265</td><td>0.0712144821882</td></tr><tr><td>rec.motorcycles</td><td>rec.sport.baseball</td><td>rec.autos</td><td>0.075199611485</td><td>0.0683092996478</td><td>0.0646798536181</td></tr><tr><td>rec.motorcycles</td><td>rec.sport.baseball</td><td>rec.autos</td><td>0.0737311318517</td><td>0.065519683063</td><td>0.0639141499996</td></tr><tr><td>rec.motorcycles</td><td>comp.os.ms-windows.misc</td><td>rec.autos</td><td>0.0830783545971</td><td>0.0810366123915</td><td>0.0735981836915</td></tr><tr><td>sci.electronics</td><td>rec.sport.baseball</td><td>rec.autos</td><td>0.0821784734726</td><td>0.0689731091261</td><td>0.0643141269684</td></tr><tr><td>sci.electronics</td><td>sci.med</td><td>rec.autos</td><td>0.0934679210186</td><td>0.07495149225</td><td>0.0741757676005</td></tr><tr><td>rec.sport.hockey</td><td>rec.sport.baseball</td><td>rec.autos</td><td>0.0811086818576</td><td>0.0803675428033</td><td>0.0768219009042</td></tr><tr><td>rec.sport.baseball</td><td>comp.sys.mac.hardware</td><td>rec.autos</td><td>0.0882748141885</td><td>0.0864281728864</td><td>0.0664118826389</td></tr><tr><td>rec.sport.baseball</td><td>rec.motorcycles</td><td>rec.autos</td><td>0.081356137991</td><td>0.06773801893</td><td>0.0632744878531</td></tr><tr><td>rec.sport.baseball</td><td>rec.motorcycles</td><td>rec.autos</td><td>0.0931503549218</td><td>0.0664843991399</td><td>0.0625376477838</td></tr></table></div>\n",
       "    <br />(rows: 127, time: 0.2s, cached, job: job_wFX4XKRzhQO23z7MMUjewmSCmqXO)<br />\n",
       "    <script>\n",
       "\n",
       "      require.config({\n",
       "        paths: {\n",
       "          d3: '//cdnjs.cloudflare.com/ajax/libs/d3/3.4.13/d3',\n",
       "          plotly: 'https://cdn.plot.ly/plotly-1.5.1.min.js?noext',\n",
       "          jquery: '//ajax.googleapis.com/ajax/libs/jquery/2.0.0/jquery.min'\n",
       "        },\n",
       "        map: {\n",
       "          '*': {\n",
       "            datalab: 'nbextensions/gcpdatalab'\n",
       "          }\n",
       "        },\n",
       "        shim: {\n",
       "          plotly: {\n",
       "            deps: ['d3', 'jquery'],\n",
       "            exports: 'plotly'\n",
       "          }\n",
       "        }\n",
       "      });\n",
       "\n",
       "      require(['datalab/charting', 'datalab/element!7_150283618193', 'base/js/events',\n",
       "          'datalab/style!/nbextensions/gcpdatalab/charting.css'],\n",
       "        function(charts, dom, events) {\n",
       "          charts.render('gcharts', dom, events, 'paged_table', [], {\"rows\": [{\"c\": [{\"v\": \"sci.space\"}, {\"v\": \"rec.motorcycles\"}, {\"v\": \"sci.med\"}, {\"v\": 0.08985678106546402}, {\"v\": 0.08259142935276031}, {\"v\": 0.07899663597345352}]}, {\"c\": [{\"v\": \"rec.motorcycles\"}, {\"v\": \"comp.sys.mac.hardware\"}, {\"v\": \"sci.med\"}, {\"v\": 0.0763154849410057}, {\"v\": 0.07381989061832428}, {\"v\": 0.0652579665184021}]}, {\"c\": [{\"v\": \"rec.motorcycles\"}, {\"v\": \"comp.os.ms-windows.misc\"}, {\"v\": \"sci.med\"}, {\"v\": 0.08622479438781738}, {\"v\": 0.08462098240852356}, {\"v\": 0.06510388851165771}]}, {\"c\": [{\"v\": \"sci.electronics\"}, {\"v\": \"comp.sys.mac.hardware\"}, {\"v\": \"sci.med\"}, {\"v\": 0.07457243651151657}, {\"v\": 0.06879866868257523}, {\"v\": 0.06689581274986267}]}, {\"c\": [{\"v\": \"soc.religion.christian\"}, {\"v\": \"alt.atheism\"}, {\"v\": \"sci.med\"}, {\"v\": 0.0740862712264061}, {\"v\": 0.07214795798063278}, {\"v\": 0.07054713368415833}]}, {\"c\": [{\"v\": \"sci.med\"}, {\"v\": \"rec.motorcycles\"}, {\"v\": \"rec.autos\"}, {\"v\": 0.09452345967292786}, {\"v\": 0.06974561512470245}, {\"v\": 0.06159196048974991}]}, {\"c\": [{\"v\": \"sci.space\"}, {\"v\": \"rec.motorcycles\"}, {\"v\": \"rec.autos\"}, {\"v\": 0.08774440735578537}, {\"v\": 0.08387628942728043}, {\"v\": 0.07873769849538803}]}, {\"c\": [{\"v\": \"sci.space\"}, {\"v\": \"talk.politics.mideast\"}, {\"v\": \"rec.autos\"}, {\"v\": 0.07665824890136719}, {\"v\": 0.0721520259976387}, {\"v\": 0.0680164322257042}]}, {\"c\": [{\"v\": \"alt.atheism\"}, {\"v\": \"rec.sport.baseball\"}, {\"v\": \"rec.autos\"}, {\"v\": 0.08314581960439682}, {\"v\": 0.06905137747526169}, {\"v\": 0.06589008122682571}]}, {\"c\": [{\"v\": \"rec.motorcycles\"}, {\"v\": \"rec.sport.baseball\"}, {\"v\": \"rec.autos\"}, {\"v\": 0.0697844997048378}, {\"v\": 0.06759528070688248}, {\"v\": 0.06263770908117294}]}, {\"c\": [{\"v\": \"rec.motorcycles\"}, {\"v\": \"comp.graphics\"}, {\"v\": \"rec.autos\"}, {\"v\": 0.07289273291826248}, {\"v\": 0.06966166198253632}, {\"v\": 0.06596245616674423}]}, {\"c\": [{\"v\": \"rec.motorcycles\"}, {\"v\": \"comp.sys.mac.hardware\"}, {\"v\": \"rec.autos\"}, {\"v\": 0.07665277272462845}, {\"v\": 0.07025012373924255}, {\"v\": 0.06710640341043472}]}, {\"c\": [{\"v\": \"rec.motorcycles\"}, {\"v\": \"rec.sport.baseball\"}, {\"v\": \"rec.autos\"}, {\"v\": 0.06950706243515015}, {\"v\": 0.06853169202804565}, {\"v\": 0.06457647681236267}]}, {\"c\": [{\"v\": \"rec.motorcycles\"}, {\"v\": \"rec.sport.baseball\"}, {\"v\": \"rec.autos\"}, {\"v\": 0.0687967836856842}, {\"v\": 0.06808403134346008}, {\"v\": 0.06414323300123215}]}, {\"c\": [{\"v\": \"rec.motorcycles\"}, {\"v\": \"rec.sport.baseball\"}, {\"v\": \"rec.autos\"}, {\"v\": 0.06530143320560455}, {\"v\": 0.06459469348192215}, {\"v\": 0.06410738825798035}]}, {\"c\": [{\"v\": \"rec.motorcycles\"}, {\"v\": \"rec.sport.baseball\"}, {\"v\": \"rec.autos\"}, {\"v\": 0.08055984973907471}, {\"v\": 0.07586487382650375}, {\"v\": 0.07121448218822479}]}, {\"c\": [{\"v\": \"rec.motorcycles\"}, {\"v\": \"rec.sport.baseball\"}, {\"v\": \"rec.autos\"}, {\"v\": 0.07519961148500443}, {\"v\": 0.06830929964780807}, {\"v\": 0.06467985361814499}]}, {\"c\": [{\"v\": \"rec.motorcycles\"}, {\"v\": \"rec.sport.baseball\"}, {\"v\": \"rec.autos\"}, {\"v\": 0.07373113185167313}, {\"v\": 0.06551968306303024}, {\"v\": 0.06391414999961853}]}, {\"c\": [{\"v\": \"rec.motorcycles\"}, {\"v\": \"comp.os.ms-windows.misc\"}, {\"v\": \"rec.autos\"}, {\"v\": 0.08307835459709167}, {\"v\": 0.08103661239147186}, {\"v\": 0.07359818369150162}]}, {\"c\": [{\"v\": \"sci.electronics\"}, {\"v\": \"rec.sport.baseball\"}, {\"v\": \"rec.autos\"}, {\"v\": 0.08217847347259521}, {\"v\": 0.068973109126091}, {\"v\": 0.06431412696838379}]}, {\"c\": [{\"v\": \"sci.electronics\"}, {\"v\": \"sci.med\"}, {\"v\": \"rec.autos\"}, {\"v\": 0.09346792101860046}, {\"v\": 0.07495149224996567}, {\"v\": 0.07417576760053635}]}, {\"c\": [{\"v\": \"rec.sport.hockey\"}, {\"v\": \"rec.sport.baseball\"}, {\"v\": \"rec.autos\"}, {\"v\": 0.08110868185758591}, {\"v\": 0.0803675428032875}, {\"v\": 0.07682190090417862}]}, {\"c\": [{\"v\": \"rec.sport.baseball\"}, {\"v\": \"comp.sys.mac.hardware\"}, {\"v\": \"rec.autos\"}, {\"v\": 0.08827481418848038}, {\"v\": 0.08642817288637161}, {\"v\": 0.06641188263893127}]}, {\"c\": [{\"v\": \"rec.sport.baseball\"}, {\"v\": \"rec.motorcycles\"}, {\"v\": \"rec.autos\"}, {\"v\": 0.08135613799095154}, {\"v\": 0.06773801892995834}, {\"v\": 0.06327448785305023}]}, {\"c\": [{\"v\": \"rec.sport.baseball\"}, {\"v\": \"rec.motorcycles\"}, {\"v\": \"rec.autos\"}, {\"v\": 0.09315035492181778}, {\"v\": 0.06648439913988113}, {\"v\": 0.06253764778375626}]}], \"cols\": [{\"type\": \"string\", \"id\": \"predicted\", \"label\": \"predicted\"}, {\"type\": \"string\", \"id\": \"predicted_2\", \"label\": \"predicted_2\"}, {\"type\": \"string\", \"id\": \"predicted_3\", \"label\": \"predicted_3\"}, {\"type\": \"number\", \"id\": \"probability\", \"label\": \"probability\"}, {\"type\": \"number\", \"id\": \"probability_2\", \"label\": \"probability_2\"}, {\"type\": \"number\", \"id\": \"probability_3\", \"label\": \"probability_3\"}]},\n",
       "            {\n",
       "              pageSize: 25,\n",
       "              cssClassNames:  {\n",
       "                tableRow: 'gchart-table-row',\n",
       "                headerRow: 'gchart-table-headerrow',\n",
       "                oddTableRow: 'gchart-table-oddrow',\n",
       "                selectedTableRow: 'gchart-table-selectedrow',\n",
       "                hoverTableRow: 'gchart-table-hoverrow',\n",
       "                tableCell: 'gchart-table-cell',\n",
       "                headerCell: 'gchart-table-headercell',\n",
       "                rowNumberCell: 'gchart-table-rownumcell'\n",
       "              }\n",
       "            },\n",
       "            {source_index: 5, fields: 'predicted,predicted_2,predicted_3,probability,probability_2,probability_3'},\n",
       "            0,\n",
       "            127);\n",
       "        }\n",
       "      );\n",
       "    </script>\n",
       "  "
      ],
      "text/plain": [
       "QueryResultsTable job_wFX4XKRzhQO23z7MMUjewmSCmqXO"
      ]
     },
     "execution_count": 61,
     "metadata": {},
     "output_type": "execute_result"
    }
   ],
   "source": [
    "%%bq query\n",
    "SELECT * FROM newspredict.result2 WHERE probability < 0.1"
   ]
  },
  {
   "cell_type": "markdown",
   "metadata": {},
   "source": [
    "## Prediction from a python client\n",
    "\n",
    "See the previous notebook in this sequence for the example. "
   ]
  },
  {
   "cell_type": "markdown",
   "metadata": {},
   "source": [
    "# Clean up\n",
    "\n",
    "This section is optional. We will delete all the GCP resources and local files created in this sequence of notebooks. If you are not ready to delete anything, don't run any of the following cells.\n"
   ]
  },
  {
   "cell_type": "code",
   "execution_count": 50,
   "metadata": {
    "collapsed": false
   },
   "outputs": [
    {
     "name": "stdout",
     "output_type": "stream",
     "text": [
      "Waiting for operation \"projects/datalab-demo-project/operations/delete_news_v3-1502835640920\"\n",
      "Done.\n"
     ]
    }
   ],
   "source": [
    "# Delete the version\n",
    "\n",
    "ModelVersions('news').delete('v3')"
   ]
  },
  {
   "cell_type": "code",
   "execution_count": 62,
   "metadata": {
    "collapsed": false
   },
   "outputs": [
    {
     "name": "stdout",
     "output_type": "stream",
     "text": [
      "Waiting for operation \"projects/datalab-demo-project/operations/delete_model_news-1502836201\"\n",
      "Done.\n"
     ]
    }
   ],
   "source": [
    "# Delete the model\n",
    "Models().delete('news')"
   ]
  },
  {
   "cell_type": "code",
   "execution_count": null,
   "metadata": {
    "collapsed": false
   },
   "outputs": [],
   "source": [
    "# Delete the files in the GCS bucket, and delete the bucket\n",
    "!gsutil -m rm -r gs://datalab-mlworkbench-20newslab"
   ]
  },
  {
   "cell_type": "code",
   "execution_count": 66,
   "metadata": {
    "collapsed": false
   },
   "outputs": [],
   "source": [
    "# Delete BQ table\n",
    "\n",
    "bq.Dataset('newspredict').delete(delete_contents = True)"
   ]
  },
  {
   "cell_type": "code",
   "execution_count": null,
   "metadata": {
    "collapsed": true
   },
   "outputs": [],
   "source": []
  }
 ],
 "metadata": {
  "kernelspec": {
   "display_name": "Python 2",
   "language": "python",
   "name": "python2"
  },
  "language_info": {
   "codemirror_mode": {
    "name": "ipython",
    "version": 2
   },
   "file_extension": ".py",
   "mimetype": "text/x-python",
   "name": "python",
   "nbconvert_exporter": "python",
   "pygments_lexer": "ipython2",
   "version": "2.7.12"
  }
 },
 "nbformat": 4,
 "nbformat_minor": 2
}
