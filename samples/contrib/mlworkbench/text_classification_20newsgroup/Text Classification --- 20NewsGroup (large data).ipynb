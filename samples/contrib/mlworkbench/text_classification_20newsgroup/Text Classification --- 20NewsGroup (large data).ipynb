{
 "cells": [
  {
   "cell_type": "markdown",
   "metadata": {},
   "source": [
    "<h1>About this Notebook</h1>\n",
    "\n",
    "This notebook demonstrates the experience of using ML Workbench to create a machine learning model for text classification and setting it up for online prediction. This is the \"cloud run\" version of previous notebook. Preprocessing, training, batch prediction, are all done in cloud with various of services. The cloud run can be distributed, so it can handle really large data. Although in this case there is little benefit with the small demo data, the purpose is to demonstrate the usage of cloud run mode of ML Workbench.\n",
    "\n",
    "There are only a few things that need to change between \"local run\" and \"cloud run\":\n",
    "\n",
    "* all data sources or file paths must be on GCS.\n",
    "* the --cloud flag must be set for each step.\n",
    "* \"cloud_config\" can be set for cloud specific settings, such as project_id, machine_type. In some cases it is required.\n",
    "\n",
    "Other than this, nothing else changes from local to cloud!\n",
    "    \n",
    "If you have any feedback, please send them to datalab-feedback@google.com."
   ]
  },
  {
   "cell_type": "markdown",
   "metadata": {},
   "source": [
    "# Validate Data\n",
    "\n",
    "Assuming you have run the previous notebook (Text classification with MLWorkbench (small dataset experience)) so you already have cleaned data saved."
   ]
  },
  {
   "cell_type": "code",
   "execution_count": 2,
   "metadata": {
    "collapsed": false
   },
   "outputs": [
    {
     "data": {
      "text/html": [
       "\n",
       "          <script src=\"/static/components/requirejs/require.js\"></script>\n",
       "          <script>\n",
       "            requirejs.config({\n",
       "              paths: {\n",
       "                base: '/static/base',\n",
       "              },\n",
       "            });\n",
       "          </script>\n",
       "          "
      ],
      "text/plain": [
       "<IPython.core.display.HTML object>"
      ]
     },
     "metadata": {},
     "output_type": "display_data"
    },
    {
     "name": "stdout",
     "output_type": "stream",
     "text": [
      "eval.csv  train.csv  vocab.txt\r\n"
     ]
    }
   ],
   "source": [
    "# Make sure you have the processed data there.\n",
    "!ls ./data"
   ]
  },
  {
   "cell_type": "markdown",
   "metadata": {},
   "source": [
    "# Create Model with ML Workbench\n",
    "\n",
    "The MLWorkbench Magics are a set of Datalab commands that allow an easy code-free experience to training, deploying, and predicting ML models. This notebook will take the cleaned data from the previous notebook and build a text classification model. The MLWorkbench Magics are a collection of magic commands for each step in ML workflows: analyzing input data to build transforms, transforming data, training a model, evaluating a model, and deploying a model.\n",
    "\n",
    "For details of each command, run with --help. For example, \"%%ml train --help\".\n",
    "\n",
    "This notebook shows the cloud version of every command, and gives the normal experience when building models are large datasets. However, we will still use the 20 newsgroup data. \n"
   ]
  },
  {
   "cell_type": "markdown",
   "metadata": {},
   "source": [
    "## Setup: Move the data to GCS\n",
    "\n",
    "The csv files, and all input files to the MLWorkbench magics must exist on GCS first. Therefore the first step is to make a new GCS bucket and copy the local csv files to GCS. \n"
   ]
  },
  {
   "cell_type": "code",
   "execution_count": 4,
   "metadata": {
    "collapsed": false
   },
   "outputs": [
    {
     "data": {
      "text/html": [
       "\n",
       "          <script src=\"/static/components/requirejs/require.js\"></script>\n",
       "          <script>\n",
       "            requirejs.config({\n",
       "              paths: {\n",
       "                base: '/static/base',\n",
       "              },\n",
       "            });\n",
       "          </script>\n",
       "          "
      ],
      "text/plain": [
       "<IPython.core.display.HTML object>"
      ]
     },
     "metadata": {},
     "output_type": "display_data"
    },
    {
     "name": "stdout",
     "output_type": "stream",
     "text": [
      "Creating gs://datalab-mlworkbench-20newslab/...\r\n"
     ]
    }
   ],
   "source": [
    "!gsutil mb gs://datalab-mlworkbench-20newslab"
   ]
  },
  {
   "cell_type": "code",
   "execution_count": 5,
   "metadata": {
    "collapsed": false
   },
   "outputs": [
    {
     "data": {
      "text/html": [
       "\n",
       "          <script src=\"/static/components/requirejs/require.js\"></script>\n",
       "          <script>\n",
       "            requirejs.config({\n",
       "              paths: {\n",
       "                base: '/static/base',\n",
       "              },\n",
       "            });\n",
       "          </script>\n",
       "          "
      ],
      "text/plain": [
       "<IPython.core.display.HTML object>"
      ]
     },
     "metadata": {},
     "output_type": "display_data"
    },
    {
     "name": "stdout",
     "output_type": "stream",
     "text": [
      "Copying file://./data/train.csv [Content-Type=text/csv]...\n",
      "Copying file://./data/eval.csv [Content-Type=text/csv]...\n",
      "\\ [2/2 files][ 11.7 MiB/ 11.7 MiB] 100% Done                                    \n",
      "Operation completed over 2 objects/11.7 MiB.                                     \n"
     ]
    }
   ],
   "source": [
    "!gsutil -m cp ./data/train.csv ./data/eval.csv gs://datalab-mlworkbench-20newslab"
   ]
  },
  {
   "cell_type": "code",
   "execution_count": 1,
   "metadata": {
    "collapsed": false
   },
   "outputs": [
    {
     "data": {
      "text/html": [
       "\n",
       "          <script src=\"/static/components/requirejs/require.js\"></script>\n",
       "          <script>\n",
       "            requirejs.config({\n",
       "              paths: {\n",
       "                base: '/static/base',\n",
       "              },\n",
       "            });\n",
       "          </script>\n",
       "          "
      ],
      "text/plain": [
       "<IPython.core.display.HTML object>"
      ]
     },
     "metadata": {},
     "output_type": "display_data"
    }
   ],
   "source": [
    "import google.datalab.contrib.mlworkbench.commands  # This loads the '%%ml' magics"
   ]
  },
  {
   "cell_type": "code",
   "execution_count": 7,
   "metadata": {
    "collapsed": false
   },
   "outputs": [
    {
     "data": {
      "text/html": [
       "\n",
       "          <script src=\"/static/components/requirejs/require.js\"></script>\n",
       "          <script>\n",
       "            requirejs.config({\n",
       "              paths: {\n",
       "                base: '/static/base',\n",
       "              },\n",
       "            });\n",
       "          </script>\n",
       "          "
      ],
      "text/plain": [
       "<IPython.core.display.HTML object>"
      ]
     },
     "metadata": {},
     "output_type": "display_data"
    }
   ],
   "source": [
    "%%ml dataset create\n",
    "name: newsgroup_data_gcs\n",
    "format: csv\n",
    "schema:\n",
    "  - name: news_label\n",
    "    type: STRING\n",
    "  - name: text\n",
    "    type: STRING  \n",
    "train: gs://datalab-mlworkbench-20newslab/train.csv\n",
    "eval: gs://datalab-mlworkbench-20newslab/eval.csv    "
   ]
  },
  {
   "cell_type": "markdown",
   "metadata": {},
   "source": [
    "## Step 1: Analyze\n",
    "\n",
    "In cloud run, analysis is implemented with BigQuery. Running it may incur some costs."
   ]
  },
  {
   "cell_type": "code",
   "execution_count": 8,
   "metadata": {
    "collapsed": false
   },
   "outputs": [
    {
     "data": {
      "text/html": [
       "\n",
       "          <script src=\"/static/components/requirejs/require.js\"></script>\n",
       "          <script>\n",
       "            requirejs.config({\n",
       "              paths: {\n",
       "                base: '/static/base',\n",
       "              },\n",
       "            });\n",
       "          </script>\n",
       "          "
      ],
      "text/plain": [
       "<IPython.core.display.HTML object>"
      ]
     },
     "metadata": {},
     "output_type": "display_data"
    },
    {
     "name": "stdout",
     "output_type": "stream",
     "text": [
      "Analyzing column news_label...\n",
      "column news_label analyzed.\n",
      "Analyzing column text...\n",
      "Updated property [core/project].\n",
      "column text analyzed.\n",
      "Updated property [core/project].\n"
     ]
    }
   ],
   "source": [
    "%%ml analyze --cloud\n",
    "output: gs://datalab-mlworkbench-20newslab/analysis\n",
    "data: newsgroup_data_gcs\n",
    "features:\n",
    "    news_label:\n",
    "        transform: target\n",
    "    text:\n",
    "        transform: bag_of_words"
   ]
  },
  {
   "cell_type": "markdown",
   "metadata": {},
   "source": [
    "## Step 2: Transform\n",
    "\n",
    "In cloud run, analysis is implemented with Cloud DataFlow. Running it may incur some costs."
   ]
  },
  {
   "cell_type": "code",
   "execution_count": null,
   "metadata": {
    "collapsed": false
   },
   "outputs": [],
   "source": [
    "!gsutil -m rm -rf gs://datalab-mlworkbench-20newslab/transform # Delete previous results if any."
   ]
  },
  {
   "cell_type": "code",
   "execution_count": 12,
   "metadata": {
    "collapsed": false
   },
   "outputs": [
    {
     "data": {
      "text/html": [
       "\n",
       "          <script src=\"/static/components/requirejs/require.js\"></script>\n",
       "          <script>\n",
       "            requirejs.config({\n",
       "              paths: {\n",
       "                base: '/static/base',\n",
       "              },\n",
       "            });\n",
       "          </script>\n",
       "          "
      ],
      "text/plain": [
       "<IPython.core.display.HTML object>"
      ]
     },
     "metadata": {},
     "output_type": "display_data"
    },
    {
     "name": "stdout",
     "output_type": "stream",
     "text": [
      "/usr/local/lib/python2.7/dist-packages/apache_beam/io/gcp/gcsio.py:113: DeprecationWarning: object() takes no parameters\n",
      "  super(GcsIO, cls).__new__(cls, storage_client))\n",
      "/usr/local/lib/python2.7/dist-packages/apache_beam/coders/typecoders.py:135: UserWarning: Using fallback coder for typehint: Any.\n",
      "  warnings.warn('Using fallback coder for typehint: %r.' % typehint)\n",
      "running sdist\n",
      "running egg_info\n",
      "writing requirements to trainer.egg-info/requires.txt\n",
      "writing trainer.egg-info/PKG-INFO\n",
      "writing top-level names to trainer.egg-info/top_level.txt\n",
      "writing dependency_links to trainer.egg-info/dependency_links.txt\n",
      "reading manifest file 'trainer.egg-info/SOURCES.txt'\n",
      "writing manifest file 'trainer.egg-info/SOURCES.txt'\n",
      "warning: sdist: standard file not found: should have one of README, README.rst, README.txt, README.md\n",
      "\n",
      "running check\n",
      "warning: check: missing required meta-data: url\n",
      "\n",
      "creating trainer-1.0.0\n",
      "creating trainer-1.0.0/trainer\n",
      "creating trainer-1.0.0/trainer.egg-info\n",
      "copying files to trainer-1.0.0...\n",
      "copying setup.py -> trainer-1.0.0\n",
      "copying trainer/__init__.py -> trainer-1.0.0/trainer\n",
      "copying trainer/feature_analysis.py -> trainer-1.0.0/trainer\n",
      "copying trainer/feature_transforms.py -> trainer-1.0.0/trainer\n",
      "copying trainer/task.py -> trainer-1.0.0/trainer\n",
      "copying trainer.egg-info/PKG-INFO -> trainer-1.0.0/trainer.egg-info\n",
      "copying trainer.egg-info/SOURCES.txt -> trainer-1.0.0/trainer.egg-info\n",
      "copying trainer.egg-info/dependency_links.txt -> trainer-1.0.0/trainer.egg-info\n",
      "copying trainer.egg-info/requires.txt -> trainer-1.0.0/trainer.egg-info\n",
      "copying trainer.egg-info/top_level.txt -> trainer-1.0.0/trainer.egg-info\n",
      "Writing trainer-1.0.0/setup.cfg\n",
      "Creating tar archive\n",
      "removing 'trainer-1.0.0' (and everything under it)\n",
      "DEPRECATION: pip install --download has been deprecated and will be removed in the future. Pip now has a download command that should be used instead.\n",
      "Collecting google-cloud-dataflow==2.0.0\n",
      "  Using cached google-cloud-dataflow-2.0.0.tar.gz\n",
      "  Saved /tmp/tmps1gmKR/google-cloud-dataflow-2.0.0.tar.gz\n",
      "Successfully downloaded google-cloud-dataflow\n",
      "View job at https://console.developers.google.com/dataflow/job/2017-10-19_14_46_14-13866291315260581735?project=bradley-playground\n",
      "/usr/local/lib/python2.7/dist-packages/apache_beam/io/gcp/gcsio.py:113: DeprecationWarning: object() takes no parameters\n",
      "  super(GcsIO, cls).__new__(cls, storage_client))\n",
      "/usr/local/lib/python2.7/dist-packages/apache_beam/coders/typecoders.py:135: UserWarning: Using fallback coder for typehint: Any.\n",
      "  warnings.warn('Using fallback coder for typehint: %r.' % typehint)\n",
      "running sdist\n",
      "running egg_info\n",
      "writing requirements to trainer.egg-info/requires.txt\n",
      "writing trainer.egg-info/PKG-INFO\n",
      "writing top-level names to trainer.egg-info/top_level.txt\n",
      "writing dependency_links to trainer.egg-info/dependency_links.txt\n",
      "reading manifest file 'trainer.egg-info/SOURCES.txt'\n",
      "writing manifest file 'trainer.egg-info/SOURCES.txt'\n",
      "warning: sdist: standard file not found: should have one of README, README.rst, README.txt, README.md\n",
      "\n",
      "running check\n",
      "warning: check: missing required meta-data: url\n",
      "\n",
      "creating trainer-1.0.0\n",
      "creating trainer-1.0.0/trainer\n",
      "creating trainer-1.0.0/trainer.egg-info\n",
      "copying files to trainer-1.0.0...\n",
      "copying setup.py -> trainer-1.0.0\n",
      "copying trainer/__init__.py -> trainer-1.0.0/trainer\n",
      "copying trainer/feature_analysis.py -> trainer-1.0.0/trainer\n",
      "copying trainer/feature_transforms.py -> trainer-1.0.0/trainer\n",
      "copying trainer/task.py -> trainer-1.0.0/trainer\n",
      "copying trainer.egg-info/PKG-INFO -> trainer-1.0.0/trainer.egg-info\n",
      "copying trainer.egg-info/SOURCES.txt -> trainer-1.0.0/trainer.egg-info\n",
      "copying trainer.egg-info/dependency_links.txt -> trainer-1.0.0/trainer.egg-info\n",
      "copying trainer.egg-info/requires.txt -> trainer-1.0.0/trainer.egg-info\n",
      "copying trainer.egg-info/top_level.txt -> trainer-1.0.0/trainer.egg-info\n",
      "Writing trainer-1.0.0/setup.cfg\n",
      "Creating tar archive\n",
      "removing 'trainer-1.0.0' (and everything under it)\n",
      "DEPRECATION: pip install --download has been deprecated and will be removed in the future. Pip now has a download command that should be used instead.\n",
      "Collecting google-cloud-dataflow==2.0.0\n",
      "  Using cached google-cloud-dataflow-2.0.0.tar.gz\n",
      "  Saved /tmp/tmpUNLeK7/google-cloud-dataflow-2.0.0.tar.gz\n",
      "Successfully downloaded google-cloud-dataflow\n",
      "View job at https://console.developers.google.com/dataflow/job/2017-10-19_14_46_24-7522432058133585353?project=bradley-playground\n"
     ]
    }
   ],
   "source": [
    "%%ml transform --cloud\n",
    "output: gs://datalab-mlworkbench-20newslab/transform\n",
    "analysis: gs://datalab-mlworkbench-20newslab/analysis\n",
    "data: newsgroup_data_gcs"
   ]
  },
  {
   "cell_type": "markdown",
   "metadata": {},
   "source": [
    "Click the links in output cell to monitor the jobs progress. Once they are completed (usually within 15 minutes with the job startup overhead), check the output."
   ]
  },
  {
   "cell_type": "code",
   "execution_count": 13,
   "metadata": {
    "collapsed": false
   },
   "outputs": [
    {
     "data": {
      "text/html": [
       "\n",
       "          <script src=\"/static/components/requirejs/require.js\"></script>\n",
       "          <script>\n",
       "            requirejs.config({\n",
       "              paths: {\n",
       "                base: '/static/base',\n",
       "              },\n",
       "            });\n",
       "          </script>\n",
       "          "
      ],
      "text/plain": [
       "<IPython.core.display.HTML object>"
      ]
     },
     "metadata": {},
     "output_type": "display_data"
    },
    {
     "name": "stdout",
     "output_type": "stream",
     "text": [
      "gs://datalab-mlworkbench-20newslab/transform/errors_eval-00000-of-00001.txt\r\n",
      "gs://datalab-mlworkbench-20newslab/transform/errors_train-00000-of-00001.txt\r\n",
      "gs://datalab-mlworkbench-20newslab/transform/eval-00000-of-00003.tfrecord.gz\r\n",
      "gs://datalab-mlworkbench-20newslab/transform/eval-00001-of-00003.tfrecord.gz\r\n",
      "gs://datalab-mlworkbench-20newslab/transform/eval-00002-of-00003.tfrecord.gz\r\n",
      "gs://datalab-mlworkbench-20newslab/transform/train-00000-of-00003.tfrecord.gz\r\n",
      "gs://datalab-mlworkbench-20newslab/transform/train-00001-of-00003.tfrecord.gz\r\n",
      "gs://datalab-mlworkbench-20newslab/transform/train-00002-of-00003.tfrecord.gz\r\n",
      "gs://datalab-mlworkbench-20newslab/transform/tmp/\r\n"
     ]
    }
   ],
   "source": [
    "!gsutil ls gs://datalab-mlworkbench-20newslab/transform"
   ]
  },
  {
   "cell_type": "code",
   "execution_count": 2,
   "metadata": {
    "collapsed": false
   },
   "outputs": [
    {
     "data": {
      "text/html": [
       "\n",
       "          <script src=\"/static/components/requirejs/require.js\"></script>\n",
       "          <script>\n",
       "            requirejs.config({\n",
       "              paths: {\n",
       "                base: '/static/base',\n",
       "              },\n",
       "            });\n",
       "          </script>\n",
       "          "
      ],
      "text/plain": [
       "<IPython.core.display.HTML object>"
      ]
     },
     "metadata": {},
     "output_type": "display_data"
    }
   ],
   "source": [
    "%%ml dataset create\n",
    "name: newsgroup_data_gcs_transformed\n",
    "format: transformed\n",
    "train: gs://datalab-mlworkbench-20newslab/transform/train-*\n",
    "eval: gs://datalab-mlworkbench-20newslab/transform/eval-*    "
   ]
  },
  {
   "cell_type": "markdown",
   "metadata": {},
   "source": [
    "## Step 3: Training\n",
    "\n",
    "In cloud run, training is implemented with Cloud ML Engine Training service. Running it may incur some costs."
   ]
  },
  {
   "cell_type": "code",
   "execution_count": null,
   "metadata": {
    "collapsed": false
   },
   "outputs": [],
   "source": [
    "# Training should use an empty output folder. So if you run training multiple times,\n",
    "# use different folders or remove the output from the previous run.\n",
    "!gsutil -m rm -fr gs://datalab-mlworkbench-20newslab/train"
   ]
  },
  {
   "cell_type": "markdown",
   "metadata": {},
   "source": [
    "Note that, \"runtime_version: '1.2'\" specifies which TensorFlow version is used at training. The first time training is a bit slower because of warm up, but if you train it multiple times the runs after first will be faster."
   ]
  },
  {
   "cell_type": "code",
   "execution_count": 3,
   "metadata": {
    "collapsed": false
   },
   "outputs": [
    {
     "data": {
      "text/html": [
       "\n",
       "          <script src=\"/static/components/requirejs/require.js\"></script>\n",
       "          <script>\n",
       "            requirejs.config({\n",
       "              paths: {\n",
       "                base: '/static/base',\n",
       "              },\n",
       "            });\n",
       "          </script>\n",
       "          "
      ],
      "text/plain": [
       "<IPython.core.display.HTML object>"
      ]
     },
     "metadata": {},
     "output_type": "display_data"
    },
    {
     "data": {
      "text/html": [
       "Job \"trainer_task_171019_223905\" submitted.<p>Click <a href=\"https://console.developers.google.com/logs/viewer?project=bradley-playground&resource=ml.googleapis.com%2Fjob_id%2Ftrainer_task_171019_223905\" target=\"_blank\">here</a> to view cloud log. <br/>"
      ]
     },
     "metadata": {},
     "output_type": "display_data"
    },
    {
     "data": {
      "text/html": [
       "<p>TensorBoard was started successfully with pid 589. Click <a href=\"/_proxy/39801/\" target=\"_blank\">here</a> to access it.</p>"
      ]
     },
     "metadata": {},
     "output_type": "display_data"
    }
   ],
   "source": [
    "%%ml train --cloud\n",
    "output: gs://datalab-mlworkbench-20newslab/train\n",
    "analysis: gs://datalab-mlworkbench-20newslab/analysis\n",
    "data: newsgroup_data_gcs_transformed\n",
    "model_args:\n",
    "    model: linear_classification\n",
    "    top-n: 5\n",
    "cloud_config:\n",
    "    scale_tier: BASIC\n",
    "    region: us-central1\n",
    "    runtime_version: '1.2'"
   ]
  },
  {
   "cell_type": "code",
   "execution_count": 4,
   "metadata": {
    "collapsed": false
   },
   "outputs": [
    {
     "data": {
      "text/html": [
       "\n",
       "          <script src=\"/static/components/requirejs/require.js\"></script>\n",
       "          <script>\n",
       "            requirejs.config({\n",
       "              paths: {\n",
       "                base: '/static/base',\n",
       "              },\n",
       "            });\n",
       "          </script>\n",
       "          "
      ],
      "text/plain": [
       "<IPython.core.display.HTML object>"
      ]
     },
     "metadata": {},
     "output_type": "display_data"
    },
    {
     "name": "stdout",
     "output_type": "stream",
     "text": [
      "gs://datalab-mlworkbench-20newslab/train/schema_without_target.json\r\n",
      "gs://datalab-mlworkbench-20newslab/train/evaluation_model/\r\n",
      "gs://datalab-mlworkbench-20newslab/train/model/\r\n",
      "gs://datalab-mlworkbench-20newslab/train/staging/\r\n",
      "gs://datalab-mlworkbench-20newslab/train/train/\r\n"
     ]
    }
   ],
   "source": [
    "# Once training is done, check the output.\n",
    "!gsutil list gs://datalab-mlworkbench-20newslab/train"
   ]
  },
  {
   "cell_type": "markdown",
   "metadata": {},
   "source": [
    "## Step 4: Evaluation using batch prediction\n",
    "\n",
    "See previous notebook (Text Classification --- 20NewsGroup (small data)). You can do local batch prediction with the model trained in cloud."
   ]
  },
  {
   "cell_type": "code",
   "execution_count": 2,
   "metadata": {
    "collapsed": false
   },
   "outputs": [
    {
     "data": {
      "text/html": [
       "\n",
       "          <script src=\"/static/components/requirejs/require.js\"></script>\n",
       "          <script>\n",
       "            requirejs.config({\n",
       "              paths: {\n",
       "                base: '/static/base',\n",
       "              },\n",
       "            });\n",
       "          </script>\n",
       "          "
      ],
      "text/plain": [
       "<IPython.core.display.HTML object>"
      ]
     },
     "metadata": {},
     "output_type": "display_data"
    },
    {
     "name": "stdout",
     "output_type": "stream",
     "text": [
      "local prediction...\n",
      "INFO:tensorflow:Restoring parameters from gs://datalab-mlworkbench-20newslab/train/evaluation_model/variables/variables\n",
      "done.\n"
     ]
    }
   ],
   "source": [
    "%%ml batch_predict\n",
    "model: gs://datalab-mlworkbench-20newslab/train/evaluation_model\n",
    "output: gs://datalab-mlworkbench-20newslab/prediction\n",
    "format: csv\n",
    "data:\n",
    "  csv: gs://datalab-mlworkbench-20newslab/eval.csv"
   ]
  },
  {
   "cell_type": "code",
   "execution_count": 2,
   "metadata": {
    "collapsed": false
   },
   "outputs": [
    {
     "data": {
      "text/html": [
       "\n",
       "          <script src=\"/static/components/requirejs/require.js\"></script>\n",
       "          <script>\n",
       "            requirejs.config({\n",
       "              paths: {\n",
       "                base: '/static/base',\n",
       "              },\n",
       "            });\n",
       "          </script>\n",
       "          "
      ],
      "text/plain": [
       "<IPython.core.display.HTML object>"
      ]
     },
     "metadata": {},
     "output_type": "display_data"
    },
    {
     "name": "stdout",
     "output_type": "stream",
     "text": [
      "gs://datalab-mlworkbench-20newslab/prediction/\r\n",
      "gs://datalab-mlworkbench-20newslab/prediction/predict_results_eval.csv\r\n",
      "gs://datalab-mlworkbench-20newslab/prediction/predict_results_schema.json\r\n"
     ]
    }
   ],
   "source": [
    "!gsutil ls gs://datalab-mlworkbench-20newslab/prediction/"
   ]
  },
  {
   "cell_type": "code",
   "execution_count": 5,
   "metadata": {
    "collapsed": false
   },
   "outputs": [
    {
     "data": {
      "text/html": [
       "\n",
       "          <script src=\"/static/components/requirejs/require.js\"></script>\n",
       "          <script>\n",
       "            requirejs.config({\n",
       "              paths: {\n",
       "                base: '/static/base',\n",
       "              },\n",
       "            });\n",
       "          </script>\n",
       "          "
      ],
      "text/plain": [
       "<IPython.core.display.HTML object>"
      ]
     },
     "metadata": {},
     "output_type": "display_data"
    },
    {
     "data": {
      "image/png": "[encoded data removed]",
      "text/plain": [
       "<matplotlib.figure.Figure at 0x7f3124181610>"
      ]
     },
     "metadata": {},
     "output_type": "display_data"
    }
   ],
   "source": [
    "%%ml evaluate confusion_matrix --plot\n",
    "size: 15\n",
    "csv: gs://datalab-mlworkbench-20newslab/prediction/predict_results_eval.csv"
   ]
  },
  {
   "cell_type": "code",
   "execution_count": 6,
   "metadata": {
    "collapsed": false
   },
   "outputs": [
    {
     "data": {
      "text/html": [
       "\n",
       "          <script src=\"/static/components/requirejs/require.js\"></script>\n",
       "          <script>\n",
       "            requirejs.config({\n",
       "              paths: {\n",
       "                base: '/static/base',\n",
       "              },\n",
       "            });\n",
       "          </script>\n",
       "          "
      ],
      "text/plain": [
       "<IPython.core.display.HTML object>"
      ]
     },
     "metadata": {},
     "output_type": "display_data"
    },
    {
     "data": {
      "text/html": [
       "<div>\n",
       "<table border=\"1\" class=\"dataframe\">\n",
       "  <thead>\n",
       "    <tr style=\"text-align: right;\">\n",
       "      <th></th>\n",
       "      <th>accuracy</th>\n",
       "      <th>count</th>\n",
       "      <th>target</th>\n",
       "    </tr>\n",
       "  </thead>\n",
       "  <tbody>\n",
       "    <tr>\n",
       "      <th>0</th>\n",
       "      <td>0.445141</td>\n",
       "      <td>319</td>\n",
       "      <td>alt.atheism</td>\n",
       "    </tr>\n",
       "    <tr>\n",
       "      <th>1</th>\n",
       "      <td>0.665810</td>\n",
       "      <td>389</td>\n",
       "      <td>comp.graphics</td>\n",
       "    </tr>\n",
       "    <tr>\n",
       "      <th>2</th>\n",
       "      <td>0.606599</td>\n",
       "      <td>394</td>\n",
       "      <td>comp.os.ms-windows.misc</td>\n",
       "    </tr>\n",
       "    <tr>\n",
       "      <th>3</th>\n",
       "      <td>0.553571</td>\n",
       "      <td>392</td>\n",
       "      <td>comp.sys.ibm.pc.hardware</td>\n",
       "    </tr>\n",
       "    <tr>\n",
       "      <th>4</th>\n",
       "      <td>0.600000</td>\n",
       "      <td>385</td>\n",
       "      <td>comp.sys.mac.hardware</td>\n",
       "    </tr>\n",
       "    <tr>\n",
       "      <th>5</th>\n",
       "      <td>0.673418</td>\n",
       "      <td>395</td>\n",
       "      <td>comp.windows.x</td>\n",
       "    </tr>\n",
       "    <tr>\n",
       "      <th>6</th>\n",
       "      <td>0.792308</td>\n",
       "      <td>390</td>\n",
       "      <td>misc.forsale</td>\n",
       "    </tr>\n",
       "    <tr>\n",
       "      <th>7</th>\n",
       "      <td>0.669192</td>\n",
       "      <td>396</td>\n",
       "      <td>rec.autos</td>\n",
       "    </tr>\n",
       "    <tr>\n",
       "      <th>8</th>\n",
       "      <td>0.728643</td>\n",
       "      <td>398</td>\n",
       "      <td>rec.motorcycles</td>\n",
       "    </tr>\n",
       "    <tr>\n",
       "      <th>9</th>\n",
       "      <td>0.836272</td>\n",
       "      <td>397</td>\n",
       "      <td>rec.sport.baseball</td>\n",
       "    </tr>\n",
       "    <tr>\n",
       "      <th>10</th>\n",
       "      <td>0.817043</td>\n",
       "      <td>399</td>\n",
       "      <td>rec.sport.hockey</td>\n",
       "    </tr>\n",
       "    <tr>\n",
       "      <th>11</th>\n",
       "      <td>0.623737</td>\n",
       "      <td>396</td>\n",
       "      <td>sci.crypt</td>\n",
       "    </tr>\n",
       "    <tr>\n",
       "      <th>12</th>\n",
       "      <td>0.552163</td>\n",
       "      <td>393</td>\n",
       "      <td>sci.electronics</td>\n",
       "    </tr>\n",
       "    <tr>\n",
       "      <th>13</th>\n",
       "      <td>0.676768</td>\n",
       "      <td>396</td>\n",
       "      <td>sci.med</td>\n",
       "    </tr>\n",
       "    <tr>\n",
       "      <th>14</th>\n",
       "      <td>0.700508</td>\n",
       "      <td>394</td>\n",
       "      <td>sci.space</td>\n",
       "    </tr>\n",
       "    <tr>\n",
       "      <th>15</th>\n",
       "      <td>0.701005</td>\n",
       "      <td>398</td>\n",
       "      <td>soc.religion.christian</td>\n",
       "    </tr>\n",
       "    <tr>\n",
       "      <th>16</th>\n",
       "      <td>0.620879</td>\n",
       "      <td>364</td>\n",
       "      <td>talk.politics.guns</td>\n",
       "    </tr>\n",
       "    <tr>\n",
       "      <th>17</th>\n",
       "      <td>0.670213</td>\n",
       "      <td>376</td>\n",
       "      <td>talk.politics.mideast</td>\n",
       "    </tr>\n",
       "    <tr>\n",
       "      <th>18</th>\n",
       "      <td>0.412903</td>\n",
       "      <td>310</td>\n",
       "      <td>talk.politics.misc</td>\n",
       "    </tr>\n",
       "    <tr>\n",
       "      <th>19</th>\n",
       "      <td>0.243028</td>\n",
       "      <td>251</td>\n",
       "      <td>talk.religion.misc</td>\n",
       "    </tr>\n",
       "    <tr>\n",
       "      <th>20</th>\n",
       "      <td>0.641264</td>\n",
       "      <td>7532</td>\n",
       "      <td>_all</td>\n",
       "    </tr>\n",
       "  </tbody>\n",
       "</table>\n",
       "</div>"
      ],
      "text/plain": [
       "    accuracy  count                    target\n",
       "0   0.445141    319               alt.atheism\n",
       "1   0.665810    389             comp.graphics\n",
       "2   0.606599    394   comp.os.ms-windows.misc\n",
       "3   0.553571    392  comp.sys.ibm.pc.hardware\n",
       "4   0.600000    385     comp.sys.mac.hardware\n",
       "5   0.673418    395            comp.windows.x\n",
       "6   0.792308    390              misc.forsale\n",
       "7   0.669192    396                 rec.autos\n",
       "8   0.728643    398           rec.motorcycles\n",
       "9   0.836272    397        rec.sport.baseball\n",
       "10  0.817043    399          rec.sport.hockey\n",
       "11  0.623737    396                 sci.crypt\n",
       "12  0.552163    393           sci.electronics\n",
       "13  0.676768    396                   sci.med\n",
       "14  0.700508    394                 sci.space\n",
       "15  0.701005    398    soc.religion.christian\n",
       "16  0.620879    364        talk.politics.guns\n",
       "17  0.670213    376     talk.politics.mideast\n",
       "18  0.412903    310        talk.politics.misc\n",
       "19  0.243028    251        talk.religion.misc\n",
       "20  0.641264   7532                      _all"
      ]
     },
     "execution_count": 6,
     "metadata": {},
     "output_type": "execute_result"
    }
   ],
   "source": [
    "%%ml evaluate accuracy\n",
    "csv: gs://datalab-mlworkbench-20newslab/prediction/predict_results_eval.csv"
   ]
  },
  {
   "cell_type": "markdown",
   "metadata": {},
   "source": [
    "# Prediction"
   ]
  },
  {
   "cell_type": "markdown",
   "metadata": {},
   "source": [
    "## Local Instant Prediction\n",
    "\n",
    "Local instant prediction works with model trained in cloud too."
   ]
  },
  {
   "cell_type": "code",
   "execution_count": 7,
   "metadata": {
    "collapsed": false
   },
   "outputs": [
    {
     "data": {
      "text/html": [
       "\n",
       "          <script src=\"/static/components/requirejs/require.js\"></script>\n",
       "          <script>\n",
       "            requirejs.config({\n",
       "              paths: {\n",
       "                base: '/static/base',\n",
       "              },\n",
       "            });\n",
       "          </script>\n",
       "          "
      ],
      "text/plain": [
       "<IPython.core.display.HTML object>"
      ]
     },
     "metadata": {},
     "output_type": "display_data"
    },
    {
     "data": {
      "text/html": [
       "<table border=\"1\" class=\"dataframe\">\n",
       "  <thead>\n",
       "    <tr style=\"text-align: right;\">\n",
       "      <th>predicted</th>\n",
       "      <th>predicted_2</th>\n",
       "      <th>predicted_3</th>\n",
       "      <th>predicted_4</th>\n",
       "      <th>predicted_5</th>\n",
       "      <th>probability</th>\n",
       "      <th>probability_2</th>\n",
       "      <th>probability_3</th>\n",
       "      <th>probability_4</th>\n",
       "      <th>probability_5</th>\n",
       "      <th>text</th>\n",
       "    </tr>\n",
       "  </thead>\n",
       "  <tbody>\n",
       "    <tr>\n",
       "      <td>sci.space</td>\n",
       "      <td>rec.motorcycles</td>\n",
       "      <td>comp.graphics</td>\n",
       "      <td>rec.sport.baseball</td>\n",
       "      <td>rec.autos</td>\n",
       "      <td>0.099317</td>\n",
       "      <td>0.063897</td>\n",
       "      <td>0.062198</td>\n",
       "      <td>0.061433</td>\n",
       "      <td>0.056892</td>\n",
       "      <td>nasa</td>\n",
       "    </tr>\n",
       "    <tr>\n",
       "      <td>comp.os.ms-windows.misc</td>\n",
       "      <td>comp.graphics</td>\n",
       "      <td>comp.windows.x</td>\n",
       "      <td>misc.forsale</td>\n",
       "      <td>rec.motorcycles</td>\n",
       "      <td>0.153955</td>\n",
       "      <td>0.068175</td>\n",
       "      <td>0.063610</td>\n",
       "      <td>0.062289</td>\n",
       "      <td>0.056323</td>\n",
       "      <td>windows xp</td>\n",
       "    </tr>\n",
       "  </tbody>\n",
       "</table>"
      ],
      "text/plain": [
       "<IPython.core.display.HTML object>"
      ]
     },
     "metadata": {},
     "output_type": "display_data"
    }
   ],
   "source": [
    "%%ml predict\n",
    "model: gs://datalab-mlworkbench-20newslab/train/model\n",
    "data:\n",
    "  - nasa\n",
    "  - windows xp"
   ]
  },
  {
   "cell_type": "markdown",
   "metadata": {},
   "source": [
    "## Deploying Model to ML Engine"
   ]
  },
  {
   "cell_type": "code",
   "execution_count": 8,
   "metadata": {
    "collapsed": false
   },
   "outputs": [
    {
     "data": {
      "text/html": [
       "\n",
       "          <script src=\"/static/components/requirejs/require.js\"></script>\n",
       "          <script>\n",
       "            requirejs.config({\n",
       "              paths: {\n",
       "                base: '/static/base',\n",
       "              },\n",
       "            });\n",
       "          </script>\n",
       "          "
      ],
      "text/plain": [
       "<IPython.core.display.HTML object>"
      ]
     },
     "metadata": {},
     "output_type": "display_data"
    },
    {
     "name": "stdout",
     "output_type": "stream",
     "text": [
      "Waiting for operation \"projects/bradley-playground/operations/create_newsgroup_alpha-1508459499009\"\n",
      "Done.\n"
     ]
    }
   ],
   "source": [
    "%%ml model deploy\n",
    "name: newsgroup.alpha\n",
    "path: gs://datalab-mlworkbench-20newslab/train/model"
   ]
  },
  {
   "cell_type": "markdown",
   "metadata": {},
   "source": [
    "## Batch Prediction"
   ]
  },
  {
   "cell_type": "code",
   "execution_count": 9,
   "metadata": {
    "collapsed": false
   },
   "outputs": [
    {
     "data": {
      "text/html": [
       "\n",
       "          <script src=\"/static/components/requirejs/require.js\"></script>\n",
       "          <script>\n",
       "            requirejs.config({\n",
       "              paths: {\n",
       "                base: '/static/base',\n",
       "              },\n",
       "            });\n",
       "          </script>\n",
       "          "
      ],
      "text/plain": [
       "<IPython.core.display.HTML object>"
      ]
     },
     "metadata": {},
     "output_type": "display_data"
    }
   ],
   "source": [
    "# Let's create a CSV file from eval.csv by removing the target column.\n",
    "with open('./data/eval.csv', 'r') as f, open('./data/test.csv', 'w') as fout:\n",
    "    for l in f:\n",
    "        fout.write(l.split(',')[1])"
   ]
  },
  {
   "cell_type": "code",
   "execution_count": 12,
   "metadata": {
    "collapsed": false
   },
   "outputs": [
    {
     "data": {
      "text/html": [
       "\n",
       "          <script src=\"/static/components/requirejs/require.js\"></script>\n",
       "          <script>\n",
       "            requirejs.config({\n",
       "              paths: {\n",
       "                base: '/static/base',\n",
       "              },\n",
       "            });\n",
       "          </script>\n",
       "          "
      ],
      "text/plain": [
       "<IPython.core.display.HTML object>"
      ]
     },
     "metadata": {},
     "output_type": "display_data"
    },
    {
     "name": "stdout",
     "output_type": "stream",
     "text": [
      "Copying file://./data/test.csv [Content-Type=text/csv]...\n",
      "-\n",
      "Operation completed over 1 objects/4.2 MiB.                                      \n"
     ]
    }
   ],
   "source": [
    "!gsutil cp ./data/test.csv gs://datalab-mlworkbench-20newslab/test.csv"
   ]
  },
  {
   "cell_type": "code",
   "execution_count": 13,
   "metadata": {
    "collapsed": false
   },
   "outputs": [
    {
     "data": {
      "text/html": [
       "\n",
       "          <script src=\"/static/components/requirejs/require.js\"></script>\n",
       "          <script>\n",
       "            requirejs.config({\n",
       "              paths: {\n",
       "                base: '/static/base',\n",
       "              },\n",
       "            });\n",
       "          </script>\n",
       "          "
      ],
      "text/plain": [
       "<IPython.core.display.HTML object>"
      ]
     },
     "metadata": {},
     "output_type": "display_data"
    },
    {
     "data": {
      "text/html": [
       "Job \"prediction_171020_003440\" submitted.<p>Click <a href=\"https://console.developers.google.com/logs/viewer?project=bradley-playground&resource=ml.googleapis.com%2Fjob_id%2Fprediction_171020_003440\" target=\"_blank\">here</a> to view cloud log. <br/>"
      ]
     },
     "metadata": {},
     "output_type": "display_data"
    }
   ],
   "source": [
    "%%ml batch_predict --cloud\n",
    "model: newsgroup.alpha\n",
    "output: gs://datalab-mlworkbench-20newslab/test\n",
    "format: json\n",
    "data:\n",
    "    csv: gs://datalab-mlworkbench-20newslab/test.csv\n",
    "cloud_config:\n",
    "    region: us-central1"
   ]
  },
  {
   "cell_type": "markdown",
   "metadata": {},
   "source": [
    "Once job is completed, take a look at the results."
   ]
  },
  {
   "cell_type": "code",
   "execution_count": 14,
   "metadata": {
    "collapsed": false
   },
   "outputs": [
    {
     "data": {
      "text/html": [
       "\n",
       "          <script src=\"/static/components/requirejs/require.js\"></script>\n",
       "          <script>\n",
       "            requirejs.config({\n",
       "              paths: {\n",
       "                base: '/static/base',\n",
       "              },\n",
       "            });\n",
       "          </script>\n",
       "          "
      ],
      "text/plain": [
       "<IPython.core.display.HTML object>"
      ]
     },
     "metadata": {},
     "output_type": "display_data"
    },
    {
     "name": "stdout",
     "output_type": "stream",
     "text": [
      "      42 B  2017-10-20T00:38:10Z  gs://datalab-mlworkbench-20newslab/test/prediction.errors_stats-00000-of-00001\r\n",
      " 44.82 KiB  2017-10-20T00:38:14Z  gs://datalab-mlworkbench-20newslab/test/prediction.results-00000-of-00002\r\n",
      "293.54 KiB  2017-10-20T00:38:14Z  gs://datalab-mlworkbench-20newslab/test/prediction.results-00001-of-00002\r\n",
      "TOTAL: 3 objects, 346523 bytes (338.4 KiB)\r\n"
     ]
    }
   ],
   "source": [
    "!gsutil ls -lh gs://datalab-mlworkbench-20newslab/test"
   ]
  },
  {
   "cell_type": "code",
   "execution_count": 15,
   "metadata": {
    "collapsed": false
   },
   "outputs": [
    {
     "data": {
      "text/html": [
       "\n",
       "          <script src=\"/static/components/requirejs/require.js\"></script>\n",
       "          <script>\n",
       "            requirejs.config({\n",
       "              paths: {\n",
       "                base: '/static/base',\n",
       "              },\n",
       "            });\n",
       "          </script>\n",
       "          "
      ],
      "text/plain": [
       "<IPython.core.display.HTML object>"
      ]
     },
     "metadata": {},
     "output_type": "display_data"
    },
    {
     "name": "stdout",
     "output_type": "stream",
     "text": [
      "{\"probability\": 0.3283481001853943, \"probability_5\": 0.05025269091129303, \"probability_4\": 0.0888153463602066, \"predicted\": \"talk.politics.guns\", \"probability_3\": 0.08881844580173492, \"probability_2\": 0.10015636682510376, \"predicted_2\": \"talk.politics.misc\", \"predicted_3\": \"talk.politics.mideast\", \"predicted_4\": \"rec.motorcycles\", \"predicted_5\": \"talk.religion.misc\"}\r\n",
      "{\"probability\": 0.9899819493293762, \"probability_5\": 0.00031947894603945315, \"probability_4\": 0.0009666418773122132, \"predicted\": \"sci.space\", \"probability_3\": 0.0011659186566248536, \"probability_2\": 0.006039201747626066, \"predicted_2\": \"talk.politics.misc\", \"predicted_3\": \"sci.crypt\", \"predicted_4\": \"talk.politics.guns\", \"predicted_5\": \"comp.os.ms-windows.misc\"}\r\n"
     ]
    }
   ],
   "source": [
    "!gsutil cat gs://datalab-mlworkbench-20newslab/test/prediction.results* | head -n 2"
   ]
  },
  {
   "cell_type": "markdown",
   "metadata": {},
   "source": [
    "## Prediction from a python client\n",
    "\n",
    "See the previous notebook in this sequence for the example. "
   ]
  },
  {
   "cell_type": "markdown",
   "metadata": {},
   "source": [
    "# Clean up\n",
    "\n",
    "This section is optional. We will delete all the GCP resources and local files created in this sequence of notebooks. If you are not ready to delete anything, don't run any of the following cells.\n"
   ]
  },
  {
   "cell_type": "code",
   "execution_count": 16,
   "metadata": {
    "collapsed": false
   },
   "outputs": [
    {
     "data": {
      "text/html": [
       "\n",
       "          <script src=\"/static/components/requirejs/require.js\"></script>\n",
       "          <script>\n",
       "            requirejs.config({\n",
       "              paths: {\n",
       "                base: '/static/base',\n",
       "              },\n",
       "            });\n",
       "          </script>\n",
       "          "
      ],
      "text/plain": [
       "<IPython.core.display.HTML object>"
      ]
     },
     "metadata": {},
     "output_type": "display_data"
    },
    {
     "name": "stdout",
     "output_type": "stream",
     "text": [
      "Waiting for operation \"projects/bradley-playground/operations/delete_newsgroup_alpha-1508460012953\"\n",
      "Done.\n"
     ]
    }
   ],
   "source": [
    "%%ml model delete\n",
    "name: newsgroup.alpha"
   ]
  },
  {
   "cell_type": "code",
   "execution_count": null,
   "metadata": {
    "collapsed": false
   },
   "outputs": [],
   "source": [
    "%%ml model delete\n",
    "name: newsgroup"
   ]
  },
  {
   "cell_type": "code",
   "execution_count": null,
   "metadata": {
    "collapsed": false
   },
   "outputs": [],
   "source": [
    "# Delete the files in the GCS bucket, and delete the bucket\n",
    "!gsutil -m rm -r gs://datalab-mlworkbench-20newslab"
   ]
  },
  {
   "cell_type": "code",
   "execution_count": null,
   "metadata": {
    "collapsed": true
   },
   "outputs": [],
   "source": []
  }
 ],
 "metadata": {
  "kernelspec": {
   "display_name": "Python 2",
   "language": "python",
   "name": "python2"
  },
  "language_info": {
   "codemirror_mode": {
    "name": "ipython",
    "version": 2
   },
   "file_extension": ".py",
   "mimetype": "text/x-python",
   "name": "python",
   "nbconvert_exporter": "python",
   "pygments_lexer": "ipython2",
   "version": "2.7.12"
  }
 },
 "nbformat": 4,
 "nbformat_minor": 2
}
