{
 "cells": [
  {
   "cell_type": "markdown",
   "metadata": {},
   "source": [
    "<h1>About this Notebook</h1>\n",
    "\n",
    "This notebook demonstrates the experience of using ML Workbench to create a machine learning model for text classification and setting it up for online prediction. Training the model is done \"locally\" inside Datalab. In the next notebook (Text Classification --- 20NewsGroup (large data)), it demonstrates how to do it by using Cloud ML Engine services.\n",
    "\n",
    "If you have any feedback, please send them to datalab-feedback@google.com."
   ]
  },
  {
   "cell_type": "markdown",
   "metadata": {},
   "source": [
    "# Data   \n",
    "\n",
    "The 20 newsgroups dataset comprises around 18000 newsgroups posts on 20 topics. The classification problem is to identify the newsgroup a post was summited to, given the text of the post.\n",
    "\n",
    "There are a few versions of this dataset from different sources online. Below, we use the version within scikit-learn which is already split into a train and test/eval set. For a longer introduction to this dataset, see the [scikit-learn website](http://scikit-learn.org/stable/datasets/twenty_newsgroups.html)"
   ]
  },
  {
   "cell_type": "markdown",
   "metadata": {},
   "source": [
    "## Download Data"
   ]
  },
  {
   "cell_type": "code",
   "execution_count": 59,
   "metadata": {
    "collapsed": false
   },
   "outputs": [
    {
     "data": {
      "text/html": [
       "\n",
       "          <script src=\"/static/components/requirejs/require.js\"></script>\n",
       "          <script>\n",
       "            requirejs.config({\n",
       "              paths: {\n",
       "                base: '/static/base',\n",
       "              },\n",
       "            });\n",
       "          </script>\n",
       "          "
      ],
      "text/plain": [
       "<IPython.core.display.HTML object>"
      ]
     },
     "metadata": {},
     "output_type": "display_data"
    }
   ],
   "source": [
    "import numpy as np\n",
    "import pandas as pd\n",
    "import os\n",
    "import re\n",
    "import csv\n",
    "from sklearn.datasets import fetch_20newsgroups"
   ]
  },
  {
   "cell_type": "code",
   "execution_count": 60,
   "metadata": {
    "collapsed": false
   },
   "outputs": [
    {
     "data": {
      "text/html": [
       "\n",
       "          <script src=\"/static/components/requirejs/require.js\"></script>\n",
       "          <script>\n",
       "            requirejs.config({\n",
       "              paths: {\n",
       "                base: '/static/base',\n",
       "              },\n",
       "            });\n",
       "          </script>\n",
       "          "
      ],
      "text/plain": [
       "<IPython.core.display.HTML object>"
      ]
     },
     "metadata": {},
     "output_type": "display_data"
    }
   ],
   "source": [
    "# data will be downloaded. Note that an error message saying something like \"No handlers could be found for \n",
    "# logger sklearn.datasets.twenty_newsgroups\" might be printed, but this is not an error.\n",
    "news_train_data = fetch_20newsgroups(subset='train', shuffle=True, random_state=42, remove=('headers', 'footers', 'quotes'))\n",
    "news_test_data = fetch_20newsgroups(subset='test', shuffle=True, random_state=42, remove=('headers', 'footers', 'quotes'))"
   ]
  },
  {
   "cell_type": "markdown",
   "metadata": {},
   "source": [
    "## Cleaning the Raw Data\n",
    "\n",
    "Printing the 3rd element in the test dataset shows the data contains text with newlines, punctuation, misspellings, and other items common in text documents. To build a model, we will clean up the text by removing some of these issues."
   ]
  },
  {
   "cell_type": "code",
   "execution_count": 61,
   "metadata": {
    "collapsed": false
   },
   "outputs": [
    {
     "data": {
      "text/html": [
       "\n",
       "          <script src=\"/static/components/requirejs/require.js\"></script>\n",
       "          <script>\n",
       "            requirejs.config({\n",
       "              paths: {\n",
       "                base: '/static/base',\n",
       "              },\n",
       "            });\n",
       "          </script>\n",
       "          "
      ],
      "text/plain": [
       "<IPython.core.display.HTML object>"
      ]
     },
     "metadata": {},
     "output_type": "display_data"
    },
    {
     "data": {
      "text/plain": [
       "(u'well folks, my mac plus finally gave up the ghost this weekend after\\nstarting life as a 512k way back in 1985.  sooo, i\\'m in the market for a\\nnew machine a bit sooner than i intended to be...\\n\\ni\\'m looking into picking up a powerbook 160 or maybe 180 and have a bunch\\nof questions that (hopefully) somebody can answer:\\n\\n* does anybody know any dirt on when the next round of powerbook\\nintroductions are expected?  i\\'d heard the 185c was supposed to make an\\nappearence \"this summer\" but haven\\'t heard anymore on it - and since i\\ndon\\'t have access to macleak, i was wondering if anybody out there had\\nmore info...\\n\\n* has anybody heard rumors about price drops to the powerbook line like the\\nones the duo\\'s just went through recently?\\n\\n* what\\'s the impression of the display on the 180?  i could probably swing\\na 180 if i got the 80Mb disk rather than the 120, but i don\\'t really have\\na feel for how much \"better\" the display is (yea, it looks great in the\\nstore, but is that all \"wow\" or is it really that good?).  could i solicit\\nsome opinions of people who use the 160 and 180 day-to-day on if its worth\\ntaking the disk size and money hit to get the active display?  (i realize\\nthis is a real subjective question, but i\\'ve only played around with the\\nmachines in a computer store breifly and figured the opinions of somebody\\nwho actually uses the machine daily might prove helpful).\\n\\n* how well does hellcats perform?  ;)\\n\\nthanks a bunch in advance for any info - if you could email, i\\'ll post a\\nsummary (news reading time is at a premium with finals just around the\\ncorner... :( )\\n--\\nTom Willis  \\\\  twillis@ecn.purdue.edu    \\\\    Purdue Electrical Engineering',\n",
       " 'comp.sys.mac.hardware')"
      ]
     },
     "execution_count": 61,
     "metadata": {},
     "output_type": "execute_result"
    }
   ],
   "source": [
    "news_train_data.data[2], news_train_data.target_names[news_train_data.target[2]]"
   ]
  },
  {
   "cell_type": "code",
   "execution_count": 62,
   "metadata": {
    "collapsed": false
   },
   "outputs": [
    {
     "data": {
      "text/html": [
       "\n",
       "          <script src=\"/static/components/requirejs/require.js\"></script>\n",
       "          <script>\n",
       "            requirejs.config({\n",
       "              paths: {\n",
       "                base: '/static/base',\n",
       "              },\n",
       "            });\n",
       "          </script>\n",
       "          "
      ],
      "text/plain": [
       "<IPython.core.display.HTML object>"
      ]
     },
     "metadata": {},
     "output_type": "display_data"
    }
   ],
   "source": [
    "def clean_and_tokenize_text(news_data):\n",
    "    \"\"\"Cleans some issues with the text data\n",
    "    Args:\n",
    "        news_data: list of text strings\n",
    "    Returns:\n",
    "        For each text string, an array of tokenized words are returned in a list\n",
    "    \"\"\"\n",
    "    cleaned_text = []\n",
    "    for text in news_data:\n",
    "        x = re.sub('[^\\w]|_', ' ', text)  # only keep numbers and letters and spaces\n",
    "        x = x.lower()\n",
    "        x = re.sub(r'[^\\x00-\\x7f]',r'', x)  # remove non ascii texts\n",
    "        tokens = [y for y in x.split(' ') if y] # remove empty words\n",
    "        tokens = ['[number]' if x.isdigit() else x for x in tokens] # convert all numbers to '[number]' to reduce vocab size.\n",
    "        cleaned_text.append(tokens)\n",
    "    return cleaned_text"
   ]
  },
  {
   "cell_type": "code",
   "execution_count": 63,
   "metadata": {
    "collapsed": false
   },
   "outputs": [
    {
     "data": {
      "text/html": [
       "\n",
       "          <script src=\"/static/components/requirejs/require.js\"></script>\n",
       "          <script>\n",
       "            requirejs.config({\n",
       "              paths: {\n",
       "                base: '/static/base',\n",
       "              },\n",
       "            });\n",
       "          </script>\n",
       "          "
      ],
      "text/plain": [
       "<IPython.core.display.HTML object>"
      ]
     },
     "metadata": {},
     "output_type": "display_data"
    }
   ],
   "source": [
    "clean_train_tokens = clean_and_tokenize_text(news_train_data.data)\n",
    "clean_test_tokens = clean_and_tokenize_text(news_test_data.data)"
   ]
  },
  {
   "cell_type": "markdown",
   "metadata": {},
   "source": [
    "## Get Vocabulary\n",
    "\n",
    "We will need to filter the vocabulary to remove high frequency words and low frequency words."
   ]
  },
  {
   "cell_type": "code",
   "execution_count": 64,
   "metadata": {
    "collapsed": false
   },
   "outputs": [
    {
     "data": {
      "text/html": [
       "\n",
       "          <script src=\"/static/components/requirejs/require.js\"></script>\n",
       "          <script>\n",
       "            requirejs.config({\n",
       "              paths: {\n",
       "                base: '/static/base',\n",
       "              },\n",
       "            });\n",
       "          </script>\n",
       "          "
      ],
      "text/plain": [
       "<IPython.core.display.HTML object>"
      ]
     },
     "metadata": {},
     "output_type": "display_data"
    }
   ],
   "source": [
    "def get_unique_tokens_per_row(text_token_list):\n",
    "    \"\"\"Collect unique tokens per row.\n",
    "    Args:\n",
    "        text_token_list: list, where each element is a list containing tokenized text\n",
    "    Returns:\n",
    "        One list containing the unique tokens in every row. For example, if row one contained\n",
    "        ['pizza', 'pizza'] while row two contained ['pizza', 'cake', 'cake'], then the output list\n",
    "        would contain ['pizza' (from row 1), 'pizza' (from row 2), 'cake' (from row 2)]\n",
    "    \"\"\"\n",
    "    words = []\n",
    "    for row in text_token_list:\n",
    "        words.extend(list(set(row)))\n",
    "    return words"
   ]
  },
  {
   "cell_type": "code",
   "execution_count": 65,
   "metadata": {
    "collapsed": false
   },
   "outputs": [
    {
     "data": {
      "text/html": [
       "\n",
       "          <script src=\"/static/components/requirejs/require.js\"></script>\n",
       "          <script>\n",
       "            requirejs.config({\n",
       "              paths: {\n",
       "                base: '/static/base',\n",
       "              },\n",
       "            });\n",
       "          </script>\n",
       "          "
      ],
      "text/plain": [
       "<IPython.core.display.HTML object>"
      ]
     },
     "metadata": {},
     "output_type": "display_data"
    },
    {
     "data": {
      "text/plain": [
       "<matplotlib.axes._subplots.AxesSubplot at 0x7f50fcbd81d0>"
      ]
     },
     "execution_count": 65,
     "metadata": {},
     "output_type": "execute_result"
    },
    {
     "data": {
      "image/png": "[encoded data removed]",
      "text/plain": [
       "<matplotlib.figure.Figure at 0x7f50ac6c0850>"
      ]
     },
     "metadata": {},
     "output_type": "display_data"
    }
   ],
   "source": [
    "# Make a plot where the x-axis is a token, and the y-axis is how many text documents\n",
    "# that token is in. \n",
    "words = pd.DataFrame(get_unique_tokens_per_row(clean_train_tokens) , columns=['words'])\n",
    "token_frequency = words['words'].value_counts() # how many documents contain each token.\n",
    "token_frequency.plot(logy=True)"
   ]
  },
  {
   "cell_type": "code",
   "execution_count": 66,
   "metadata": {
    "collapsed": false
   },
   "outputs": [
    {
     "data": {
      "text/html": [
       "\n",
       "          <script src=\"/static/components/requirejs/require.js\"></script>\n",
       "          <script>\n",
       "            requirejs.config({\n",
       "              paths: {\n",
       "                base: '/static/base',\n",
       "              },\n",
       "            });\n",
       "          </script>\n",
       "          "
      ],
      "text/plain": [
       "<IPython.core.display.HTML object>"
      ]
     },
     "metadata": {},
     "output_type": "display_data"
    },
    {
     "data": {
      "text/plain": [
       "<matplotlib.axes._subplots.AxesSubplot at 0x7f5109c4efd0>"
      ]
     },
     "execution_count": 66,
     "metadata": {},
     "output_type": "execute_result"
    },
    {
     "data": {
      "image/png": "[encoded data removed]",
      "text/plain": [
       "<matplotlib.figure.Figure at 0x7f511830aad0>"
      ]
     },
     "metadata": {},
     "output_type": "display_data"
    }
   ],
   "source": [
    "vocab = token_frequency[np.logical_and(token_frequency < 1000, token_frequency > 10)]\n",
    "vocab.plot(logy=True)"
   ]
  },
  {
   "cell_type": "code",
   "execution_count": 67,
   "metadata": {
    "collapsed": false
   },
   "outputs": [
    {
     "data": {
      "text/html": [
       "\n",
       "          <script src=\"/static/components/requirejs/require.js\"></script>\n",
       "          <script>\n",
       "            requirejs.config({\n",
       "              paths: {\n",
       "                base: '/static/base',\n",
       "              },\n",
       "            });\n",
       "          </script>\n",
       "          "
      ],
      "text/plain": [
       "<IPython.core.display.HTML object>"
      ]
     },
     "metadata": {},
     "output_type": "display_data"
    }
   ],
   "source": [
    "def filter_text_by_vocab(news_data, vocab):\n",
    "    \"\"\"Removes tokens if not in vocab.\n",
    "    Args:\n",
    "        news_data: list, where each element is a token list\n",
    "        vocab: set containing the tokens to keep.\n",
    "    Returns:\n",
    "        List of strings containing the final cleaned text data\n",
    "    \"\"\"\n",
    "    text_strs = []\n",
    "    for row in news_data:\n",
    "        words_to_keep = [token for token in row if token in vocab or token == '[number]']\n",
    "        text_strs.append(' '.join(words_to_keep))\n",
    "    return text_strs"
   ]
  },
  {
   "cell_type": "code",
   "execution_count": 68,
   "metadata": {
    "collapsed": false
   },
   "outputs": [
    {
     "data": {
      "text/html": [
       "\n",
       "          <script src=\"/static/components/requirejs/require.js\"></script>\n",
       "          <script>\n",
       "            requirejs.config({\n",
       "              paths: {\n",
       "                base: '/static/base',\n",
       "              },\n",
       "            });\n",
       "          </script>\n",
       "          "
      ],
      "text/plain": [
       "<IPython.core.display.HTML object>"
      ]
     },
     "metadata": {},
     "output_type": "display_data"
    }
   ],
   "source": [
    "clean_train_data = filter_text_by_vocab(clean_train_tokens, set(vocab.index))\n",
    "clean_test_data = filter_text_by_vocab(clean_test_tokens, set(vocab.index))"
   ]
  },
  {
   "cell_type": "code",
   "execution_count": 69,
   "metadata": {
    "collapsed": false
   },
   "outputs": [
    {
     "data": {
      "text/html": [
       "\n",
       "          <script src=\"/static/components/requirejs/require.js\"></script>\n",
       "          <script>\n",
       "            requirejs.config({\n",
       "              paths: {\n",
       "                base: '/static/base',\n",
       "              },\n",
       "            });\n",
       "          </script>\n",
       "          "
      ],
      "text/plain": [
       "<IPython.core.display.HTML object>"
      ]
     },
     "metadata": {},
     "output_type": "display_data"
    },
    {
     "data": {
      "text/plain": [
       "[u'wondering enlighten car saw day [number] door sports car looked late 60s early 70s called doors small addition front bumper separate rest body model name engine specs years production car made history whatever info looking car e mail',\n",
       " u'fair number brave souls upgraded si clock oscillator shared experiences poll send brief message detailing experiences procedure top speed cpu rated speed add cards adapters heat hour usage per day floppy disk functionality [number] [number] [number] floppies especially requested next days add network knowledge base done clock upgrade haven answered poll',\n",
       " u'folks mac plus finally gave ghost weekend starting life 512k [number] market machine bit sooner intended looking picking powerbook [number] maybe [number] bunch questions hopefully somebody answer anybody dirt next round powerbook expected heard supposed summer haven heard anymore access wondering anybody info anybody heard rumors price drops powerbook line ones duo went through recently impression display [number] probably swing [number] got 80mb disk rather [number] feel better display yea looks great store wow opinions [number] [number] day day worth taking disk size money hit active display realize real subjective question played around machines computer store figured opinions somebody actually uses machine daily might prove helpful perform bunch advance info email ll post summary news reading premium finals around corner tom ecn purdue edu purdue electrical engineering']"
      ]
     },
     "execution_count": 69,
     "metadata": {},
     "output_type": "execute_result"
    }
   ],
   "source": [
    "# Check a few instances of cleaned data\n",
    "clean_train_data[:3]"
   ]
  },
  {
   "cell_type": "markdown",
   "metadata": {},
   "source": [
    "## Save the Cleaned Data For Training"
   ]
  },
  {
   "cell_type": "code",
   "execution_count": 70,
   "metadata": {
    "collapsed": false
   },
   "outputs": [
    {
     "data": {
      "text/html": [
       "\n",
       "          <script src=\"/static/components/requirejs/require.js\"></script>\n",
       "          <script>\n",
       "            requirejs.config({\n",
       "              paths: {\n",
       "                base: '/static/base',\n",
       "              },\n",
       "            });\n",
       "          </script>\n",
       "          "
      ],
      "text/plain": [
       "<IPython.core.display.HTML object>"
      ]
     },
     "metadata": {},
     "output_type": "display_data"
    }
   ],
   "source": [
    "!mkdir -p ./data\n",
    "\n",
    "with open('./data/train.csv', 'w') as f:\n",
    "    writer = csv.writer(f, lineterminator='\\n')\n",
    "    for target, text in zip(news_train_data.target, clean_train_data):\n",
    "        writer.writerow([news_train_data.target_names[target], text])\n",
    "        \n",
    "with open('./data/eval.csv', 'w') as f:\n",
    "    writer = csv.writer(f, lineterminator='\\n')\n",
    "    for target, text in zip(news_test_data.target, clean_test_data):\n",
    "        writer.writerow([news_test_data.target_names[target], text]) \n",
    "        \n",
    "# Also save the vocab, which will be useful in making new predictions.\n",
    "with open('./data/vocab.txt', 'w') as f:\n",
    "    vocab.to_csv(f)"
   ]
  },
  {
   "cell_type": "markdown",
   "metadata": {},
   "source": [
    "# Create Model with ML Workbench\n",
    "\n",
    "\n",
    "The MLWorkbench Magics are a set of Datalab commands that allow an easy code-free experience to training, deploying, and predicting ML models. This notebook will take the cleaned data from the previous notebook and build a text classification model. The MLWorkbench Magics are a collection of magic commands for each step in ML workflows: analyzing input data to build transforms, transforming data, training a model, evaluating a model, and deploying a model.\n",
    "\n",
    "For details of each command, run with --help. For example, \"%%ml train --help\".\n",
    "\n",
    "When the dataset is small (like with the 20 newsgroup data), there is little benefit of using cloud services. This notebook will run the analyze, transform, and training steps locally. However, we will take the locally trained model and deploy it to ML Engine and show how to make real predictions on a deployed model. Every MLWorkbench magic can run locally or use cloud services (adding --cloud flag).\n",
    "\n",
    "The next notebook (Text Classification --- 20NewsGroup (large data)) in this sequence shows the cloud version of every command, and gives the normal experience when building models are large datasets. However, we will still use the 20 newsgroup data. \n"
   ]
  },
  {
   "cell_type": "code",
   "execution_count": 71,
   "metadata": {
    "codeCollapsed": false,
    "collapsed": false,
    "hiddenCell": false
   },
   "outputs": [
    {
     "data": {
      "text/html": [
       "\n",
       "          <script src=\"/static/components/requirejs/require.js\"></script>\n",
       "          <script>\n",
       "            requirejs.config({\n",
       "              paths: {\n",
       "                base: '/static/base',\n",
       "              },\n",
       "            });\n",
       "          </script>\n",
       "          "
      ],
      "text/plain": [
       "<IPython.core.display.HTML object>"
      ]
     },
     "metadata": {},
     "output_type": "display_data"
    }
   ],
   "source": [
    "import google.datalab.contrib.mlworkbench.commands  # This loads the '%%ml' magics"
   ]
  },
  {
   "cell_type": "markdown",
   "metadata": {},
   "source": [
    "First, define the dataset we are going to use for training."
   ]
  },
  {
   "cell_type": "code",
   "execution_count": 72,
   "metadata": {
    "collapsed": false
   },
   "outputs": [
    {
     "data": {
      "text/html": [
       "\n",
       "          <script src=\"/static/components/requirejs/require.js\"></script>\n",
       "          <script>\n",
       "            requirejs.config({\n",
       "              paths: {\n",
       "                base: '/static/base',\n",
       "              },\n",
       "            });\n",
       "          </script>\n",
       "          "
      ],
      "text/plain": [
       "<IPython.core.display.HTML object>"
      ]
     },
     "metadata": {},
     "output_type": "display_data"
    }
   ],
   "source": [
    "%%ml dataset create\n",
    "name: newsgroup_data\n",
    "format: csv\n",
    "train: ./data/train.csv\n",
    "eval: ./data/eval.csv\n",
    "schema:\n",
    "    - name: news_label\n",
    "      type: STRING\n",
    "    - name: text\n",
    "      type: STRING"
   ]
  },
  {
   "cell_type": "code",
   "execution_count": 73,
   "metadata": {
    "collapsed": false
   },
   "outputs": [
    {
     "data": {
      "text/html": [
       "\n",
       "          <script src=\"/static/components/requirejs/require.js\"></script>\n",
       "          <script>\n",
       "            requirejs.config({\n",
       "              paths: {\n",
       "                base: '/static/base',\n",
       "              },\n",
       "            });\n",
       "          </script>\n",
       "          "
      ],
      "text/plain": [
       "<IPython.core.display.HTML object>"
      ]
     },
     "metadata": {},
     "output_type": "display_data"
    },
    {
     "name": "stdout",
     "output_type": "stream",
     "text": [
      "train data instances: 11314\n",
      "eval data instances: 7532\n"
     ]
    }
   ],
   "source": [
    "%%ml dataset explore\n",
    "name: newsgroup_data"
   ]
  },
  {
   "cell_type": "markdown",
   "metadata": {},
   "source": [
    "## Step 1: Analyze\n",
    "The first step in the MLWorkbench workflow is to analyze the data for the requested transformations. We are going to build a bag of words representation on the text and use this in a linear model. Therefore, the analyze step will compute the vocabularies and related statistics of the data for traing."
   ]
  },
  {
   "cell_type": "code",
   "execution_count": 74,
   "metadata": {
    "codeCollapsed": false,
    "collapsed": false,
    "hiddenCell": false
   },
   "outputs": [
    {
     "data": {
      "text/html": [
       "\n",
       "          <script src=\"/static/components/requirejs/require.js\"></script>\n",
       "          <script>\n",
       "            requirejs.config({\n",
       "              paths: {\n",
       "                base: '/static/base',\n",
       "              },\n",
       "            });\n",
       "          </script>\n",
       "          "
      ],
      "text/plain": [
       "<IPython.core.display.HTML object>"
      ]
     },
     "metadata": {},
     "output_type": "display_data"
    },
    {
     "name": "stdout",
     "output_type": "stream",
     "text": [
      "Expanding any file patterns...\n",
      "file list computed.\n",
      "Analyzing file /content/datalab/docs/samples/contrib/mlworkbench/text_classification_20newsgroup/data/train.csv...\n",
      "file /content/datalab/docs/samples/contrib/mlworkbench/text_classification_20newsgroup/data/train.csv analyzed.\n"
     ]
    }
   ],
   "source": [
    "%%ml analyze\n",
    "output: ./analysis\n",
    "data: newsgroup_data\n",
    "features:\n",
    "    news_label:\n",
    "        transform: target\n",
    "    text:\n",
    "        transform: bag_of_words"
   ]
  },
  {
   "cell_type": "code",
   "execution_count": 75,
   "metadata": {
    "collapsed": false
   },
   "outputs": [
    {
     "data": {
      "text/html": [
       "\n",
       "          <script src=\"/static/components/requirejs/require.js\"></script>\n",
       "          <script>\n",
       "            requirejs.config({\n",
       "              paths: {\n",
       "                base: '/static/base',\n",
       "              },\n",
       "            });\n",
       "          </script>\n",
       "          "
      ],
      "text/plain": [
       "<IPython.core.display.HTML object>"
      ]
     },
     "metadata": {},
     "output_type": "display_data"
    },
    {
     "name": "stdout",
     "output_type": "stream",
     "text": [
      "features.json  schema.json  stats.json\tvocab_news_label.csv  vocab_text.csv\r\n"
     ]
    }
   ],
   "source": [
    "!ls ./analysis"
   ]
  },
  {
   "cell_type": "markdown",
   "metadata": {},
   "source": [
    "## Step 2: Transform\n",
    "\n",
    "This step is optional as training can start from csv data (the same data used in the analysis step). The transform step performs some transformations on the input data and saves the results to a special TensorFlow file called a TFRecord file containing TF.Example protocol buffers. This allows training to start from preprocessed data. If this step is not used, training would have to perform the same preprocessing on every row of csv data every time it is used. As TensorFlow reads the same data row multiple times during training, this means the same row would be preprocessed multiple times. By writing the preprocessed data to disk, we can speed up training. Because the the 20 newsgroups data is small, this step does not matter, but we do it anyway for illustration. This step is recommended if there are text column in a dataset, and required if there are image columns in a dataset.\n",
    "\n",
    "We run the transform step for the training and eval data."
   ]
  },
  {
   "cell_type": "code",
   "execution_count": 76,
   "metadata": {
    "collapsed": false
   },
   "outputs": [
    {
     "data": {
      "text/html": [
       "\n",
       "          <script src=\"/static/components/requirejs/require.js\"></script>\n",
       "          <script>\n",
       "            requirejs.config({\n",
       "              paths: {\n",
       "                base: '/static/base',\n",
       "              },\n",
       "            });\n",
       "          </script>\n",
       "          "
      ],
      "text/plain": [
       "<IPython.core.display.HTML object>"
      ]
     },
     "metadata": {},
     "output_type": "display_data"
    }
   ],
   "source": [
    "!rm -rf ./transform"
   ]
  },
  {
   "cell_type": "code",
   "execution_count": 77,
   "metadata": {
    "collapsed": false
   },
   "outputs": [
    {
     "data": {
      "text/html": [
       "\n",
       "          <script src=\"/static/components/requirejs/require.js\"></script>\n",
       "          <script>\n",
       "            requirejs.config({\n",
       "              paths: {\n",
       "                base: '/static/base',\n",
       "              },\n",
       "            });\n",
       "          </script>\n",
       "          "
      ],
      "text/plain": [
       "<IPython.core.display.HTML object>"
      ]
     },
     "metadata": {},
     "output_type": "display_data"
    },
    {
     "name": "stdout",
     "output_type": "stream",
     "text": [
      "/usr/local/lib/python2.7/dist-packages/apache_beam/coders/typecoders.py:135: UserWarning: Using fallback coder for typehint: Any.\n",
      "  warnings.warn('Using fallback coder for typehint: %r.' % typehint)\n",
      "WARNING:root:Couldn't find python-snappy so the implementation of _TFRecordUtil._masked_crc32c is not as fast as it could be.\n",
      "/usr/local/lib/python2.7/dist-packages/apache_beam/coders/typecoders.py:135: UserWarning: Using fallback coder for typehint: Any.\n",
      "  warnings.warn('Using fallback coder for typehint: %r.' % typehint)\n",
      "WARNING:root:Couldn't find python-snappy so the implementation of _TFRecordUtil._masked_crc32c is not as fast as it could be.\n"
     ]
    }
   ],
   "source": [
    "%%ml transform --shuffle\n",
    "output: ./transform\n",
    "analysis: ./analysis\n",
    "data: newsgroup_data"
   ]
  },
  {
   "cell_type": "code",
   "execution_count": 78,
   "metadata": {
    "collapsed": false
   },
   "outputs": [
    {
     "data": {
      "text/html": [
       "\n",
       "          <script src=\"/static/components/requirejs/require.js\"></script>\n",
       "          <script>\n",
       "            requirejs.config({\n",
       "              paths: {\n",
       "                base: '/static/base',\n",
       "              },\n",
       "            });\n",
       "          </script>\n",
       "          "
      ],
      "text/plain": [
       "<IPython.core.display.HTML object>"
      ]
     },
     "metadata": {},
     "output_type": "display_data"
    },
    {
     "name": "stdout",
     "output_type": "stream",
     "text": [
      "total 3.1M\r\n",
      "-rw-r--r-- 1 root root    0 Oct 19 21:13 errors_eval-00000-of-00001.txt\r\n",
      "-rw-r--r-- 1 root root    0 Oct 19 21:13 errors_train-00000-of-00001.txt\r\n",
      "-rw-r--r-- 1 root root 1.2M Oct 19 21:13 eval-00000-of-00001.tfrecord.gz\r\n",
      "-rw-r--r-- 1 root root 2.0M Oct 19 21:13 train-00000-of-00001.tfrecord.gz\r\n"
     ]
    }
   ],
   "source": [
    "# note: the errors_* files are all 0 size, which means no error.\n",
    "!ls ./transform/ -l -h"
   ]
  },
  {
   "cell_type": "markdown",
   "metadata": {},
   "source": [
    "Create a \"transformed dataset\" to use in next step."
   ]
  },
  {
   "cell_type": "code",
   "execution_count": 79,
   "metadata": {
    "collapsed": false
   },
   "outputs": [
    {
     "data": {
      "text/html": [
       "\n",
       "          <script src=\"/static/components/requirejs/require.js\"></script>\n",
       "          <script>\n",
       "            requirejs.config({\n",
       "              paths: {\n",
       "                base: '/static/base',\n",
       "              },\n",
       "            });\n",
       "          </script>\n",
       "          "
      ],
      "text/plain": [
       "<IPython.core.display.HTML object>"
      ]
     },
     "metadata": {},
     "output_type": "display_data"
    }
   ],
   "source": [
    "%%ml dataset create\n",
    "name: newsgroup_transformed\n",
    "train: ./transform/train-*\n",
    "eval: ./transform/eval-*\n",
    "format: transformed  "
   ]
  },
  {
   "cell_type": "markdown",
   "metadata": {},
   "source": [
    "## Step 3: Training\n",
    "\n",
    "MLWorkbench automatically builds standard TensorFlow models without you having to write any TensorFlow code. "
   ]
  },
  {
   "cell_type": "code",
   "execution_count": 80,
   "metadata": {
    "collapsed": false
   },
   "outputs": [
    {
     "data": {
      "text/html": [
       "\n",
       "          <script src=\"/static/components/requirejs/require.js\"></script>\n",
       "          <script>\n",
       "            requirejs.config({\n",
       "              paths: {\n",
       "                base: '/static/base',\n",
       "              },\n",
       "            });\n",
       "          </script>\n",
       "          "
      ],
      "text/plain": [
       "<IPython.core.display.HTML object>"
      ]
     },
     "metadata": {},
     "output_type": "display_data"
    }
   ],
   "source": [
    "# Training should use an empty output folder. So if you run training multiple times,\n",
    "# use different folders or remove the output from the previous run.\n",
    "!rm -fr ./train"
   ]
  },
  {
   "cell_type": "markdown",
   "metadata": {},
   "source": [
    "The following training step takes about 10~15 minutes."
   ]
  },
  {
   "cell_type": "code",
   "execution_count": 81,
   "metadata": {
    "collapsed": false
   },
   "outputs": [
    {
     "data": {
      "text/html": [
       "\n",
       "          <script src=\"/static/components/requirejs/require.js\"></script>\n",
       "          <script>\n",
       "            requirejs.config({\n",
       "              paths: {\n",
       "                base: '/static/base',\n",
       "              },\n",
       "            });\n",
       "          </script>\n",
       "          "
      ],
      "text/plain": [
       "<IPython.core.display.HTML object>"
      ]
     },
     "metadata": {},
     "output_type": "display_data"
    },
    {
     "data": {
      "text/html": [
       "<p>TensorBoard was started successfully with pid 56037. Click <a href=\"/_proxy/50636/\" target=\"_blank\">here</a> to access it.</p>"
      ]
     },
     "metadata": {},
     "output_type": "display_data"
    }
   ],
   "source": [
    "%%ml train\n",
    "output: ./train\n",
    "analysis: ./analysis/\n",
    "data: newsgroup_transformed\n",
    "model_args:\n",
    "  model: linear_classification\n",
    "  top-n: 5"
   ]
  },
  {
   "cell_type": "markdown",
   "metadata": {},
   "source": [
    "Go to Tensorboard (link shown above) to monitor the training progress. Note that training stops when it detects accuracy is no longer increasing for eval data."
   ]
  },
  {
   "cell_type": "code",
   "execution_count": 82,
   "metadata": {
    "collapsed": false
   },
   "outputs": [
    {
     "data": {
      "text/html": [
       "\n",
       "          <script src=\"/static/components/requirejs/require.js\"></script>\n",
       "          <script>\n",
       "            requirejs.config({\n",
       "              paths: {\n",
       "                base: '/static/base',\n",
       "              },\n",
       "            });\n",
       "          </script>\n",
       "          "
      ],
      "text/plain": [
       "<IPython.core.display.HTML object>"
      ]
     },
     "metadata": {},
     "output_type": "display_data"
    },
    {
     "data": {
      "text/plain": [
       "{u'accuracy': {'./train/train/eval'},\n",
       " u'global_step/sec': {'./train/train'},\n",
       " u'input_producer/fraction_of_32_full': {'./train/train'},\n",
       " u'loss': {'./train/train', './train/train/eval'},\n",
       " u'shuffle_batch/fraction_over_10_of_960_full': {'./train/train'}}"
      ]
     },
     "execution_count": 82,
     "metadata": {},
     "output_type": "execute_result"
    }
   ],
   "source": [
    "# You can also plot the summary events which will be saved with the notebook.\n",
    "\n",
    "from google.datalab.ml import Summary\n",
    "\n",
    "summary = Summary('./train')\n",
    "summary.list_events()"
   ]
  },
  {
   "cell_type": "code",
   "execution_count": 83,
   "metadata": {
    "collapsed": false
   },
   "outputs": [
    {
     "data": {
      "text/html": [
       "\n",
       "          <script src=\"/static/components/requirejs/require.js\"></script>\n",
       "          <script>\n",
       "            requirejs.config({\n",
       "              paths: {\n",
       "                base: '/static/base',\n",
       "              },\n",
       "            });\n",
       "          </script>\n",
       "          "
      ],
      "text/plain": [
       "<IPython.core.display.HTML object>"
      ]
     },
     "metadata": {},
     "output_type": "display_data"
    },
    {
     "data": {
      "image/png": "[encoded data removed]",
      "text/plain": [
       "<matplotlib.figure.Figure at 0x7f514ceb5450>"
      ]
     },
     "metadata": {},
     "output_type": "display_data"
    }
   ],
   "source": [
    "summary.plot(['loss', 'accuracy'])"
   ]
  },
  {
   "cell_type": "markdown",
   "metadata": {},
   "source": [
    "The output of training is two models, one in training_output/model and another in training_output/evaluation_model. These tensorflow models are identical except the latter assumes the target column is part of the input and copies the target value to the output. Therefore, the latter is ideal for evaluation."
   ]
  },
  {
   "cell_type": "code",
   "execution_count": 84,
   "metadata": {
    "collapsed": false
   },
   "outputs": [
    {
     "data": {
      "text/html": [
       "\n",
       "          <script src=\"/static/components/requirejs/require.js\"></script>\n",
       "          <script>\n",
       "            requirejs.config({\n",
       "              paths: {\n",
       "                base: '/static/base',\n",
       "              },\n",
       "            });\n",
       "          </script>\n",
       "          "
      ],
      "text/plain": [
       "<IPython.core.display.HTML object>"
      ]
     },
     "metadata": {},
     "output_type": "display_data"
    },
    {
     "name": "stdout",
     "output_type": "stream",
     "text": [
      "evaluation_model  model  schema_without_target.json  train\r\n"
     ]
    }
   ],
   "source": [
    "!ls ./train/"
   ]
  },
  {
   "cell_type": "markdown",
   "metadata": {},
   "source": [
    "## Step 4: Evaluation using batch prediction\n",
    "\n",
    "Below, we use the evaluation model and run batch prediction locally. Batch prediction is needed for large datasets where the data cannot fit in memory. For demo purpose, we will use the training evaluation data again."
   ]
  },
  {
   "cell_type": "code",
   "execution_count": 85,
   "metadata": {
    "collapsed": false
   },
   "outputs": [
    {
     "data": {
      "text/html": [
       "\n",
       "          <script src=\"/static/components/requirejs/require.js\"></script>\n",
       "          <script>\n",
       "            requirejs.config({\n",
       "              paths: {\n",
       "                base: '/static/base',\n",
       "              },\n",
       "            });\n",
       "          </script>\n",
       "          "
      ],
      "text/plain": [
       "<IPython.core.display.HTML object>"
      ]
     },
     "metadata": {},
     "output_type": "display_data"
    },
    {
     "name": "stdout",
     "output_type": "stream",
     "text": [
      "local prediction...\n",
      "INFO:tensorflow:Restoring parameters from ./train/evaluation_model/variables/variables\n",
      "done.\n"
     ]
    }
   ],
   "source": [
    "%%ml batch_predict\n",
    "model: ./train/evaluation_model/\n",
    "output: ./batch_predict\n",
    "format: csv\n",
    "data:\n",
    "  csv: ./data/eval.csv"
   ]
  },
  {
   "cell_type": "code",
   "execution_count": 86,
   "metadata": {
    "collapsed": false
   },
   "outputs": [
    {
     "data": {
      "text/html": [
       "\n",
       "          <script src=\"/static/components/requirejs/require.js\"></script>\n",
       "          <script>\n",
       "            requirejs.config({\n",
       "              paths: {\n",
       "                base: '/static/base',\n",
       "              },\n",
       "            });\n",
       "          </script>\n",
       "          "
      ],
      "text/plain": [
       "<IPython.core.display.HTML object>"
      ]
     },
     "metadata": {},
     "output_type": "display_data"
    },
    {
     "name": "stdout",
     "output_type": "stream",
     "text": [
      "predict_results_eval.csv  predict_results_schema.json\r\n"
     ]
    }
   ],
   "source": [
    "# It creates a results csv file, and a results schema json file.\n",
    "!ls ./batch_predict"
   ]
  },
  {
   "cell_type": "markdown",
   "metadata": {},
   "source": [
    "Note that the output of prediction is a csv file containing the score for each label class. 'predicted_n' is the label for the nth largest score. We care about 'predicted', the final model prediction. "
   ]
  },
  {
   "cell_type": "code",
   "execution_count": 87,
   "metadata": {
    "collapsed": false
   },
   "outputs": [
    {
     "data": {
      "text/html": [
       "\n",
       "          <script src=\"/static/components/requirejs/require.js\"></script>\n",
       "          <script>\n",
       "            requirejs.config({\n",
       "              paths: {\n",
       "                base: '/static/base',\n",
       "              },\n",
       "            });\n",
       "          </script>\n",
       "          "
      ],
      "text/plain": [
       "<IPython.core.display.HTML object>"
      ]
     },
     "metadata": {},
     "output_type": "display_data"
    },
    {
     "name": "stdout",
     "output_type": "stream",
     "text": [
      "rec.autos,comp.sys.mac.hardware,rec.sport.baseball,sci.space,soc.religion.christian,0.291265,0.196776,0.0854143,0.0544117,0.0462434,rec.autos\r\n",
      "comp.graphics,comp.windows.x,sci.space,rec.motorcycles,comp.os.ms-windows.misc,0.449551,0.23406,0.0345504,0.0335983,0.0327901,comp.windows.x\r\n",
      "rec.motorcycles,rec.sport.baseball,comp.os.ms-windows.misc,alt.atheism,comp.sys.mac.hardware,0.0703423,0.0673938,0.0624348,0.0561686,0.0550833,alt.atheism\r\n",
      "talk.politics.mideast,talk.politics.guns,talk.politics.misc,alt.atheism,sci.crypt,0.400145,0.337041,0.133643,0.122765,0.00307648,talk.politics.mideast\r\n",
      "alt.atheism,rec.autos,sci.space,talk.religion.misc,comp.sys.mac.hardware,0.130497,0.0720769,0.0676606,0.0658658,0.0625985,talk.religion.misc\r\n"
     ]
    }
   ],
   "source": [
    "!head -n 5 ./batch_predict/predict_results_eval.csv"
   ]
  },
  {
   "cell_type": "code",
   "execution_count": 88,
   "metadata": {
    "collapsed": false
   },
   "outputs": [
    {
     "data": {
      "text/html": [
       "\n",
       "          <script src=\"/static/components/requirejs/require.js\"></script>\n",
       "          <script>\n",
       "            requirejs.config({\n",
       "              paths: {\n",
       "                base: '/static/base',\n",
       "              },\n",
       "            });\n",
       "          </script>\n",
       "          "
      ],
      "text/plain": [
       "<IPython.core.display.HTML object>"
      ]
     },
     "metadata": {},
     "output_type": "display_data"
    },
    {
     "data": {
      "image/png": "[encoded data removed]",
      "text/plain": [
       "<matplotlib.figure.Figure at 0x7f50fd592190>"
      ]
     },
     "metadata": {},
     "output_type": "display_data"
    }
   ],
   "source": [
    "%%ml evaluate confusion_matrix --plot\n",
    "csv: ./batch_predict/predict_results_eval.csv"
   ]
  },
  {
   "cell_type": "code",
   "execution_count": 89,
   "metadata": {
    "collapsed": false
   },
   "outputs": [
    {
     "data": {
      "text/html": [
       "\n",
       "          <script src=\"/static/components/requirejs/require.js\"></script>\n",
       "          <script>\n",
       "            requirejs.config({\n",
       "              paths: {\n",
       "                base: '/static/base',\n",
       "              },\n",
       "            });\n",
       "          </script>\n",
       "          "
      ],
      "text/plain": [
       "<IPython.core.display.HTML object>"
      ]
     },
     "metadata": {},
     "output_type": "display_data"
    },
    {
     "data": {
      "text/html": [
       "<div>\n",
       "<table border=\"1\" class=\"dataframe\">\n",
       "  <thead>\n",
       "    <tr style=\"text-align: right;\">\n",
       "      <th></th>\n",
       "      <th>accuracy</th>\n",
       "      <th>count</th>\n",
       "      <th>target</th>\n",
       "    </tr>\n",
       "  </thead>\n",
       "  <tbody>\n",
       "    <tr>\n",
       "      <th>0</th>\n",
       "      <td>0.451411</td>\n",
       "      <td>319</td>\n",
       "      <td>alt.atheism</td>\n",
       "    </tr>\n",
       "    <tr>\n",
       "      <th>1</th>\n",
       "      <td>0.660668</td>\n",
       "      <td>389</td>\n",
       "      <td>comp.graphics</td>\n",
       "    </tr>\n",
       "    <tr>\n",
       "      <th>2</th>\n",
       "      <td>0.601523</td>\n",
       "      <td>394</td>\n",
       "      <td>comp.os.ms-windows.misc</td>\n",
       "    </tr>\n",
       "    <tr>\n",
       "      <th>3</th>\n",
       "      <td>0.556122</td>\n",
       "      <td>392</td>\n",
       "      <td>comp.sys.ibm.pc.hardware</td>\n",
       "    </tr>\n",
       "    <tr>\n",
       "      <th>4</th>\n",
       "      <td>0.605195</td>\n",
       "      <td>385</td>\n",
       "      <td>comp.sys.mac.hardware</td>\n",
       "    </tr>\n",
       "    <tr>\n",
       "      <th>5</th>\n",
       "      <td>0.668354</td>\n",
       "      <td>395</td>\n",
       "      <td>comp.windows.x</td>\n",
       "    </tr>\n",
       "    <tr>\n",
       "      <th>6</th>\n",
       "      <td>0.794872</td>\n",
       "      <td>390</td>\n",
       "      <td>misc.forsale</td>\n",
       "    </tr>\n",
       "    <tr>\n",
       "      <th>7</th>\n",
       "      <td>0.671717</td>\n",
       "      <td>396</td>\n",
       "      <td>rec.autos</td>\n",
       "    </tr>\n",
       "    <tr>\n",
       "      <th>8</th>\n",
       "      <td>0.728643</td>\n",
       "      <td>398</td>\n",
       "      <td>rec.motorcycles</td>\n",
       "    </tr>\n",
       "    <tr>\n",
       "      <th>9</th>\n",
       "      <td>0.831234</td>\n",
       "      <td>397</td>\n",
       "      <td>rec.sport.baseball</td>\n",
       "    </tr>\n",
       "    <tr>\n",
       "      <th>10</th>\n",
       "      <td>0.822055</td>\n",
       "      <td>399</td>\n",
       "      <td>rec.sport.hockey</td>\n",
       "    </tr>\n",
       "    <tr>\n",
       "      <th>11</th>\n",
       "      <td>0.623737</td>\n",
       "      <td>396</td>\n",
       "      <td>sci.crypt</td>\n",
       "    </tr>\n",
       "    <tr>\n",
       "      <th>12</th>\n",
       "      <td>0.544529</td>\n",
       "      <td>393</td>\n",
       "      <td>sci.electronics</td>\n",
       "    </tr>\n",
       "    <tr>\n",
       "      <th>13</th>\n",
       "      <td>0.669192</td>\n",
       "      <td>396</td>\n",
       "      <td>sci.med</td>\n",
       "    </tr>\n",
       "    <tr>\n",
       "      <th>14</th>\n",
       "      <td>0.700508</td>\n",
       "      <td>394</td>\n",
       "      <td>sci.space</td>\n",
       "    </tr>\n",
       "    <tr>\n",
       "      <th>15</th>\n",
       "      <td>0.693467</td>\n",
       "      <td>398</td>\n",
       "      <td>soc.religion.christian</td>\n",
       "    </tr>\n",
       "    <tr>\n",
       "      <th>16</th>\n",
       "      <td>0.615385</td>\n",
       "      <td>364</td>\n",
       "      <td>talk.politics.guns</td>\n",
       "    </tr>\n",
       "    <tr>\n",
       "      <th>17</th>\n",
       "      <td>0.667553</td>\n",
       "      <td>376</td>\n",
       "      <td>talk.politics.mideast</td>\n",
       "    </tr>\n",
       "    <tr>\n",
       "      <th>18</th>\n",
       "      <td>0.403226</td>\n",
       "      <td>310</td>\n",
       "      <td>talk.politics.misc</td>\n",
       "    </tr>\n",
       "    <tr>\n",
       "      <th>19</th>\n",
       "      <td>0.239044</td>\n",
       "      <td>251</td>\n",
       "      <td>talk.religion.misc</td>\n",
       "    </tr>\n",
       "    <tr>\n",
       "      <th>20</th>\n",
       "      <td>0.639272</td>\n",
       "      <td>7532</td>\n",
       "      <td>_all</td>\n",
       "    </tr>\n",
       "  </tbody>\n",
       "</table>\n",
       "</div>"
      ],
      "text/plain": [
       "    accuracy  count                    target\n",
       "0   0.451411    319               alt.atheism\n",
       "1   0.660668    389             comp.graphics\n",
       "2   0.601523    394   comp.os.ms-windows.misc\n",
       "3   0.556122    392  comp.sys.ibm.pc.hardware\n",
       "4   0.605195    385     comp.sys.mac.hardware\n",
       "5   0.668354    395            comp.windows.x\n",
       "6   0.794872    390              misc.forsale\n",
       "7   0.671717    396                 rec.autos\n",
       "8   0.728643    398           rec.motorcycles\n",
       "9   0.831234    397        rec.sport.baseball\n",
       "10  0.822055    399          rec.sport.hockey\n",
       "11  0.623737    396                 sci.crypt\n",
       "12  0.544529    393           sci.electronics\n",
       "13  0.669192    396                   sci.med\n",
       "14  0.700508    394                 sci.space\n",
       "15  0.693467    398    soc.religion.christian\n",
       "16  0.615385    364        talk.politics.guns\n",
       "17  0.667553    376     talk.politics.mideast\n",
       "18  0.403226    310        talk.politics.misc\n",
       "19  0.239044    251        talk.religion.misc\n",
       "20  0.639272   7532                      _all"
      ]
     },
     "execution_count": 89,
     "metadata": {},
     "output_type": "execute_result"
    }
   ],
   "source": [
    "%%ml evaluate accuracy\n",
    "csv: ./batch_predict/predict_results_eval.csv"
   ]
  },
  {
   "cell_type": "markdown",
   "metadata": {},
   "source": [
    "## Step 5: BigQuery to analyze evaluate results\n",
    "\n",
    "Sometimes you want to query your prediction/evaluation results using SQL. It is easy."
   ]
  },
  {
   "cell_type": "code",
   "execution_count": 90,
   "metadata": {
    "collapsed": false
   },
   "outputs": [
    {
     "data": {
      "text/html": [
       "\n",
       "          <script src=\"/static/components/requirejs/require.js\"></script>\n",
       "          <script>\n",
       "            requirejs.config({\n",
       "              paths: {\n",
       "                base: '/static/base',\n",
       "              },\n",
       "            });\n",
       "          </script>\n",
       "          "
      ],
      "text/plain": [
       "<IPython.core.display.HTML object>"
      ]
     },
     "metadata": {},
     "output_type": "display_data"
    },
    {
     "name": "stdout",
     "output_type": "stream",
     "text": [
      "Creating gs://bq-mlworkbench-20news-lab/...\n",
      "Copying file://./batch_predict/predict_results_eval.csv [Content-Type=text/csv]...\n",
      "-\n",
      "Operation completed over 1 objects/1.1 MiB.                                      \n"
     ]
    }
   ],
   "source": [
    "# Create bucket\n",
    "!gsutil mb gs://bq-mlworkbench-20news-lab\n",
    "!gsutil cp -r ./batch_predict/predict_results_eval.csv gs://bq-mlworkbench-20news-lab"
   ]
  },
  {
   "cell_type": "code",
   "execution_count": 91,
   "metadata": {
    "collapsed": false
   },
   "outputs": [
    {
     "data": {
      "text/html": [
       "\n",
       "          <script src=\"/static/components/requirejs/require.js\"></script>\n",
       "          <script>\n",
       "            requirejs.config({\n",
       "              paths: {\n",
       "                base: '/static/base',\n",
       "              },\n",
       "            });\n",
       "          </script>\n",
       "          "
      ],
      "text/plain": [
       "<IPython.core.display.HTML object>"
      ]
     },
     "metadata": {},
     "output_type": "display_data"
    },
    {
     "data": {
      "text/plain": [
       "Job bradley-playground/job_sGKkVQKLNfRK0j9VpFiIUO1CqcLO completed"
      ]
     },
     "execution_count": 91,
     "metadata": {},
     "output_type": "execute_result"
    }
   ],
   "source": [
    "# Use Datalab's Bigquery API to load CSV files into table.\n",
    "\n",
    "import google.datalab.bigquery as bq\n",
    "import json\n",
    "\n",
    "with open('./batch_predict/predict_results_schema.json', 'r') as f:\n",
    "    schema = json.load(f)\n",
    "\n",
    "# Create BQ Dataset\n",
    "bq.Dataset('newspredict').create()\n",
    "\n",
    "# Create the table\n",
    "table = bq.Table('newspredict.result1').create(schema=schema, overwrite=True)\n",
    "table.load('gs://bq-mlworkbench-20news-lab/predict_results_eval.csv', mode='overwrite',\n",
    "           source_format='csv', csv_options=bq.CSVOptions(skip_leading_rows=1))"
   ]
  },
  {
   "cell_type": "markdown",
   "metadata": {},
   "source": [
    "Now, run any SQL queries on \"table newspredict.result1\". Below we query all wrong predictions."
   ]
  },
  {
   "cell_type": "code",
   "execution_count": 92,
   "metadata": {
    "collapsed": false
   },
   "outputs": [
    {
     "data": {
      "text/html": [
       "\n",
       "          <script src=\"/static/components/requirejs/require.js\"></script>\n",
       "          <script>\n",
       "            requirejs.config({\n",
       "              paths: {\n",
       "                base: '/static/base',\n",
       "              },\n",
       "            });\n",
       "          </script>\n",
       "          "
      ],
      "text/plain": [
       "<IPython.core.display.HTML object>"
      ]
     },
     "metadata": {},
     "output_type": "display_data"
    },
    {
     "data": {
      "text/html": [
       "\n",
       "    <div class=\"bqtv\" id=\"2_150844778566\"><table><tr><th>predicted</th><th>predicted_2</th><th>predicted_3</th><th>predicted_4</th><th>predicted_5</th><th>probability</th><th>probability_2</th><th>probability_3</th><th>probability_4</th><th>probability_5</th><th>target</th></tr><tr><td>sci.med</td><td>rec.autos</td><td>rec.sport.baseball</td><td>sci.space</td><td>comp.sys.mac.hardware</td><td>0.0944628</td><td>0.0768647</td><td>0.0702626</td><td>0.0680675</td><td>0.0661313</td><td>sci.electronics</td></tr><tr><td>sci.med</td><td>rec.autos</td><td>sci.crypt</td><td>alt.atheism</td><td>sci.electronics</td><td>0.118112</td><td>0.0715369</td><td>0.0698622</td><td>0.0667128</td><td>0.0594781</td><td>sci.crypt</td></tr><tr><td>sci.med</td><td>rec.autos</td><td>rec.motorcycles</td><td>alt.atheism</td><td>comp.os.ms-windows.misc</td><td>0.467449</td><td>0.0668502</td><td>0.0535573</td><td>0.040007</td><td>0.0382802</td><td>sci.electronics</td></tr><tr><td>sci.med</td><td>rec.autos</td><td>sci.space</td><td>comp.graphics</td><td>comp.sys.mac.hardware</td><td>0.098781</td><td>0.0740077</td><td>0.0660721</td><td>0.0658893</td><td>0.0632783</td><td>soc.religion.christian</td></tr><tr><td>sci.med</td><td>rec.autos</td><td>sci.space</td><td>rec.motorcycles</td><td>comp.graphics</td><td>0.0991149</td><td>0.0714714</td><td>0.0663251</td><td>0.0650978</td><td>0.058196</td><td>rec.sport.hockey</td></tr><tr><td>sci.med</td><td>rec.autos</td><td>rec.motorcycles</td><td>talk.politics.guns</td><td>sci.electronics</td><td>0.243752</td><td>0.148529</td><td>0.141205</td><td>0.0822236</td><td>0.054355</td><td>rec.autos</td></tr><tr><td>sci.med</td><td>sci.crypt</td><td>comp.graphics</td><td>sci.space</td><td>alt.atheism</td><td>0.235213</td><td>0.178636</td><td>0.107028</td><td>0.0589985</td><td>0.0547229</td><td>sci.crypt</td></tr><tr><td>sci.med</td><td>sci.crypt</td><td>comp.sys.ibm.pc.hardware</td><td>sci.space</td><td>alt.atheism</td><td>0.0889153</td><td>0.0858086</td><td>0.0776207</td><td>0.0718896</td><td>0.0637095</td><td>sci.crypt</td></tr><tr><td>sci.med</td><td>sci.crypt</td><td>talk.politics.guns</td><td>sci.space</td><td>rec.autos</td><td>0.586723</td><td>0.119922</td><td>0.0764783</td><td>0.0506784</td><td>0.0369884</td><td>comp.graphics</td></tr><tr><td>sci.med</td><td>sci.crypt</td><td>soc.religion.christian</td><td>comp.graphics</td><td>alt.atheism</td><td>0.240414</td><td>0.173254</td><td>0.125778</td><td>0.0825043</td><td>0.0749882</td><td>soc.religion.christian</td></tr><tr><td>sci.med</td><td>sci.crypt</td><td>rec.motorcycles</td><td>comp.graphics</td><td>sci.electronics</td><td>0.129069</td><td>0.0951029</td><td>0.0820131</td><td>0.0694286</td><td>0.0616525</td><td>sci.electronics</td></tr><tr><td>sci.med</td><td>sci.crypt</td><td>alt.atheism</td><td>comp.graphics</td><td>soc.religion.christian</td><td>0.176504</td><td>0.100305</td><td>0.0980852</td><td>0.0749751</td><td>0.0527355</td><td>talk.politics.misc</td></tr><tr><td>sci.med</td><td>sci.crypt</td><td>talk.politics.misc</td><td>talk.politics.guns</td><td>alt.atheism</td><td>0.194313</td><td>0.193072</td><td>0.124884</td><td>0.122438</td><td>0.105321</td><td>alt.atheism</td></tr><tr><td>sci.med</td><td>sci.space</td><td>rec.motorcycles</td><td>rec.autos</td><td>sci.electronics</td><td>0.283608</td><td>0.237266</td><td>0.0882693</td><td>0.0802769</td><td>0.0499932</td><td>sci.space</td></tr><tr><td>sci.med</td><td>sci.space</td><td>talk.politics.guns</td><td>alt.atheism</td><td>talk.religion.misc</td><td>0.326097</td><td>0.305573</td><td>0.116581</td><td>0.0513381</td><td>0.0367944</td><td>talk.politics.guns</td></tr><tr><td>sci.med</td><td>sci.space</td><td>rec.sport.baseball</td><td>alt.atheism</td><td>talk.politics.mideast</td><td>0.214708</td><td>0.113775</td><td>0.0931925</td><td>0.073653</td><td>0.0684173</td><td>rec.sport.baseball</td></tr><tr><td>sci.med</td><td>sci.space</td><td>talk.politics.guns</td><td>alt.atheism</td><td>talk.politics.misc</td><td>0.0855026</td><td>0.0840718</td><td>0.0736133</td><td>0.0724489</td><td>0.0668283</td><td>talk.politics.misc</td></tr><tr><td>sci.med</td><td>sci.space</td><td>talk.religion.misc</td><td>alt.atheism</td><td>soc.religion.christian</td><td>0.321936</td><td>0.254984</td><td>0.176534</td><td>0.165577</td><td>0.0339035</td><td>talk.religion.misc</td></tr><tr><td>sci.med</td><td>sci.space</td><td>rec.motorcycles</td><td>comp.windows.x</td><td>comp.sys.mac.hardware</td><td>0.108344</td><td>0.0949181</td><td>0.0798288</td><td>0.0672603</td><td>0.0631208</td><td>rec.motorcycles</td></tr><tr><td>sci.med</td><td>sci.space</td><td>rec.autos</td><td>sci.electronics</td><td>talk.politics.guns</td><td>0.149185</td><td>0.140614</td><td>0.135952</td><td>0.115165</td><td>0.0701548</td><td>sci.electronics</td></tr><tr><td>sci.med</td><td>sci.space</td><td>rec.sport.baseball</td><td>sci.electronics</td><td>rec.autos</td><td>0.098036</td><td>0.0946519</td><td>0.0838997</td><td>0.0742474</td><td>0.0720842</td><td>sci.electronics</td></tr><tr><td>sci.med</td><td>sci.space</td><td>comp.windows.x</td><td>rec.sport.baseball</td><td>talk.politics.mideast</td><td>0.101074</td><td>0.0978412</td><td>0.0693363</td><td>0.0674033</td><td>0.0669934</td><td>sci.space</td></tr><tr><td>sci.med</td><td>sci.space</td><td>rec.sport.baseball</td><td>talk.politics.guns</td><td>soc.religion.christian</td><td>0.149672</td><td>0.111454</td><td>0.089652</td><td>0.0793766</td><td>0.071511</td><td>talk.religion.misc</td></tr><tr><td>sci.med</td><td>sci.space</td><td>comp.sys.mac.hardware</td><td>talk.politics.misc</td><td>rec.autos</td><td>0.118442</td><td>0.0833742</td><td>0.0800071</td><td>0.0736631</td><td>0.070822</td><td>comp.windows.x</td></tr><tr><td>sci.med</td><td>sci.space</td><td>sci.crypt</td><td>talk.religion.misc</td><td>alt.atheism</td><td>0.147893</td><td>0.119379</td><td>0.0876462</td><td>0.064635</td><td>0.06184</td><td>talk.religion.misc</td></tr></table></div>\n",
       "    <br />(rows: 2717, time: 1.2s,     1MB processed, job: job_ixkw-3eJ7XJRFSxhtF0Lzi8Y79rf)<br />\n",
       "    <script>\n",
       "\n",
       "      require.config({\n",
       "        paths: {\n",
       "          d3: '//cdnjs.cloudflare.com/ajax/libs/d3/3.4.13/d3',\n",
       "          plotly: 'https://cdn.plot.ly/plotly-1.5.1.min.js?noext',\n",
       "          jquery: '//ajax.googleapis.com/ajax/libs/jquery/2.0.0/jquery.min'\n",
       "        },\n",
       "        map: {\n",
       "          '*': {\n",
       "            datalab: 'nbextensions/gcpdatalab'\n",
       "          }\n",
       "        },\n",
       "        shim: {\n",
       "          plotly: {\n",
       "            deps: ['d3', 'jquery'],\n",
       "            exports: 'plotly'\n",
       "          }\n",
       "        }\n",
       "      });\n",
       "\n",
       "      require(['datalab/charting', 'datalab/element!2_150844778566', 'base/js/events',\n",
       "          'datalab/style!/nbextensions/gcpdatalab/charting.css'],\n",
       "        function(charts, dom, events) {\n",
       "          charts.render('gcharts', dom, events, 'paged_table', [], {\"rows\": [{\"c\": [{\"v\": \"sci.med\"}, {\"v\": \"rec.autos\"}, {\"v\": \"rec.sport.baseball\"}, {\"v\": \"sci.space\"}, {\"v\": \"comp.sys.mac.hardware\"}, {\"v\": 0.0944628}, {\"v\": 0.0768647}, {\"v\": 0.0702626}, {\"v\": 0.0680675}, {\"v\": 0.0661313}, {\"v\": \"sci.electronics\"}]}, {\"c\": [{\"v\": \"sci.med\"}, {\"v\": \"rec.autos\"}, {\"v\": \"sci.crypt\"}, {\"v\": \"alt.atheism\"}, {\"v\": \"sci.electronics\"}, {\"v\": 0.118112}, {\"v\": 0.0715369}, {\"v\": 0.0698622}, {\"v\": 0.0667128}, {\"v\": 0.0594781}, {\"v\": \"sci.crypt\"}]}, {\"c\": [{\"v\": \"sci.med\"}, {\"v\": \"rec.autos\"}, {\"v\": \"rec.motorcycles\"}, {\"v\": \"alt.atheism\"}, {\"v\": \"comp.os.ms-windows.misc\"}, {\"v\": 0.467449}, {\"v\": 0.0668502}, {\"v\": 0.0535573}, {\"v\": 0.040007}, {\"v\": 0.0382802}, {\"v\": \"sci.electronics\"}]}, {\"c\": [{\"v\": \"sci.med\"}, {\"v\": \"rec.autos\"}, {\"v\": \"sci.space\"}, {\"v\": \"comp.graphics\"}, {\"v\": \"comp.sys.mac.hardware\"}, {\"v\": 0.098781}, {\"v\": 0.0740077}, {\"v\": 0.0660721}, {\"v\": 0.0658893}, {\"v\": 0.0632783}, {\"v\": \"soc.religion.christian\"}]}, {\"c\": [{\"v\": \"sci.med\"}, {\"v\": \"rec.autos\"}, {\"v\": \"sci.space\"}, {\"v\": \"rec.motorcycles\"}, {\"v\": \"comp.graphics\"}, {\"v\": 0.0991149}, {\"v\": 0.0714714}, {\"v\": 0.0663251}, {\"v\": 0.0650978}, {\"v\": 0.058196}, {\"v\": \"rec.sport.hockey\"}]}, {\"c\": [{\"v\": \"sci.med\"}, {\"v\": \"rec.autos\"}, {\"v\": \"rec.motorcycles\"}, {\"v\": \"talk.politics.guns\"}, {\"v\": \"sci.electronics\"}, {\"v\": 0.243752}, {\"v\": 0.148529}, {\"v\": 0.141205}, {\"v\": 0.0822236}, {\"v\": 0.054355}, {\"v\": \"rec.autos\"}]}, {\"c\": [{\"v\": \"sci.med\"}, {\"v\": \"sci.crypt\"}, {\"v\": \"comp.graphics\"}, {\"v\": \"sci.space\"}, {\"v\": \"alt.atheism\"}, {\"v\": 0.235213}, {\"v\": 0.178636}, {\"v\": 0.107028}, {\"v\": 0.0589985}, {\"v\": 0.0547229}, {\"v\": \"sci.crypt\"}]}, {\"c\": [{\"v\": \"sci.med\"}, {\"v\": \"sci.crypt\"}, {\"v\": \"comp.sys.ibm.pc.hardware\"}, {\"v\": \"sci.space\"}, {\"v\": \"alt.atheism\"}, {\"v\": 0.0889153}, {\"v\": 0.0858086}, {\"v\": 0.0776207}, {\"v\": 0.0718896}, {\"v\": 0.0637095}, {\"v\": \"sci.crypt\"}]}, {\"c\": [{\"v\": \"sci.med\"}, {\"v\": \"sci.crypt\"}, {\"v\": \"talk.politics.guns\"}, {\"v\": \"sci.space\"}, {\"v\": \"rec.autos\"}, {\"v\": 0.586723}, {\"v\": 0.119922}, {\"v\": 0.0764783}, {\"v\": 0.0506784}, {\"v\": 0.0369884}, {\"v\": \"comp.graphics\"}]}, {\"c\": [{\"v\": \"sci.med\"}, {\"v\": \"sci.crypt\"}, {\"v\": \"soc.religion.christian\"}, {\"v\": \"comp.graphics\"}, {\"v\": \"alt.atheism\"}, {\"v\": 0.240414}, {\"v\": 0.173254}, {\"v\": 0.125778}, {\"v\": 0.0825043}, {\"v\": 0.0749882}, {\"v\": \"soc.religion.christian\"}]}, {\"c\": [{\"v\": \"sci.med\"}, {\"v\": \"sci.crypt\"}, {\"v\": \"rec.motorcycles\"}, {\"v\": \"comp.graphics\"}, {\"v\": \"sci.electronics\"}, {\"v\": 0.129069}, {\"v\": 0.0951029}, {\"v\": 0.0820131}, {\"v\": 0.0694286}, {\"v\": 0.0616525}, {\"v\": \"sci.electronics\"}]}, {\"c\": [{\"v\": \"sci.med\"}, {\"v\": \"sci.crypt\"}, {\"v\": \"alt.atheism\"}, {\"v\": \"comp.graphics\"}, {\"v\": \"soc.religion.christian\"}, {\"v\": 0.176504}, {\"v\": 0.100305}, {\"v\": 0.0980852}, {\"v\": 0.0749751}, {\"v\": 0.0527355}, {\"v\": \"talk.politics.misc\"}]}, {\"c\": [{\"v\": \"sci.med\"}, {\"v\": \"sci.crypt\"}, {\"v\": \"talk.politics.misc\"}, {\"v\": \"talk.politics.guns\"}, {\"v\": \"alt.atheism\"}, {\"v\": 0.194313}, {\"v\": 0.193072}, {\"v\": 0.124884}, {\"v\": 0.122438}, {\"v\": 0.105321}, {\"v\": \"alt.atheism\"}]}, {\"c\": [{\"v\": \"sci.med\"}, {\"v\": \"sci.space\"}, {\"v\": \"rec.motorcycles\"}, {\"v\": \"rec.autos\"}, {\"v\": \"sci.electronics\"}, {\"v\": 0.283608}, {\"v\": 0.237266}, {\"v\": 0.0882693}, {\"v\": 0.0802769}, {\"v\": 0.0499932}, {\"v\": \"sci.space\"}]}, {\"c\": [{\"v\": \"sci.med\"}, {\"v\": \"sci.space\"}, {\"v\": \"talk.politics.guns\"}, {\"v\": \"alt.atheism\"}, {\"v\": \"talk.religion.misc\"}, {\"v\": 0.326097}, {\"v\": 0.305573}, {\"v\": 0.116581}, {\"v\": 0.0513381}, {\"v\": 0.0367944}, {\"v\": \"talk.politics.guns\"}]}, {\"c\": [{\"v\": \"sci.med\"}, {\"v\": \"sci.space\"}, {\"v\": \"rec.sport.baseball\"}, {\"v\": \"alt.atheism\"}, {\"v\": \"talk.politics.mideast\"}, {\"v\": 0.214708}, {\"v\": 0.113775}, {\"v\": 0.0931925}, {\"v\": 0.073653}, {\"v\": 0.0684173}, {\"v\": \"rec.sport.baseball\"}]}, {\"c\": [{\"v\": \"sci.med\"}, {\"v\": \"sci.space\"}, {\"v\": \"talk.politics.guns\"}, {\"v\": \"alt.atheism\"}, {\"v\": \"talk.politics.misc\"}, {\"v\": 0.0855026}, {\"v\": 0.0840718}, {\"v\": 0.0736133}, {\"v\": 0.0724489}, {\"v\": 0.0668283}, {\"v\": \"talk.politics.misc\"}]}, {\"c\": [{\"v\": \"sci.med\"}, {\"v\": \"sci.space\"}, {\"v\": \"talk.religion.misc\"}, {\"v\": \"alt.atheism\"}, {\"v\": \"soc.religion.christian\"}, {\"v\": 0.321936}, {\"v\": 0.254984}, {\"v\": 0.176534}, {\"v\": 0.165577}, {\"v\": 0.0339035}, {\"v\": \"talk.religion.misc\"}]}, {\"c\": [{\"v\": \"sci.med\"}, {\"v\": \"sci.space\"}, {\"v\": \"rec.motorcycles\"}, {\"v\": \"comp.windows.x\"}, {\"v\": \"comp.sys.mac.hardware\"}, {\"v\": 0.108344}, {\"v\": 0.0949181}, {\"v\": 0.0798288}, {\"v\": 0.0672603}, {\"v\": 0.0631208}, {\"v\": \"rec.motorcycles\"}]}, {\"c\": [{\"v\": \"sci.med\"}, {\"v\": \"sci.space\"}, {\"v\": \"rec.autos\"}, {\"v\": \"sci.electronics\"}, {\"v\": \"talk.politics.guns\"}, {\"v\": 0.149185}, {\"v\": 0.140614}, {\"v\": 0.135952}, {\"v\": 0.115165}, {\"v\": 0.0701548}, {\"v\": \"sci.electronics\"}]}, {\"c\": [{\"v\": \"sci.med\"}, {\"v\": \"sci.space\"}, {\"v\": \"rec.sport.baseball\"}, {\"v\": \"sci.electronics\"}, {\"v\": \"rec.autos\"}, {\"v\": 0.098036}, {\"v\": 0.0946519}, {\"v\": 0.0838997}, {\"v\": 0.0742474}, {\"v\": 0.0720842}, {\"v\": \"sci.electronics\"}]}, {\"c\": [{\"v\": \"sci.med\"}, {\"v\": \"sci.space\"}, {\"v\": \"comp.windows.x\"}, {\"v\": \"rec.sport.baseball\"}, {\"v\": \"talk.politics.mideast\"}, {\"v\": 0.101074}, {\"v\": 0.0978412}, {\"v\": 0.0693363}, {\"v\": 0.0674033}, {\"v\": 0.0669934}, {\"v\": \"sci.space\"}]}, {\"c\": [{\"v\": \"sci.med\"}, {\"v\": \"sci.space\"}, {\"v\": \"rec.sport.baseball\"}, {\"v\": \"talk.politics.guns\"}, {\"v\": \"soc.religion.christian\"}, {\"v\": 0.149672}, {\"v\": 0.111454}, {\"v\": 0.089652}, {\"v\": 0.0793766}, {\"v\": 0.071511}, {\"v\": \"talk.religion.misc\"}]}, {\"c\": [{\"v\": \"sci.med\"}, {\"v\": \"sci.space\"}, {\"v\": \"comp.sys.mac.hardware\"}, {\"v\": \"talk.politics.misc\"}, {\"v\": \"rec.autos\"}, {\"v\": 0.118442}, {\"v\": 0.0833742}, {\"v\": 0.0800071}, {\"v\": 0.0736631}, {\"v\": 0.070822}, {\"v\": \"comp.windows.x\"}]}, {\"c\": [{\"v\": \"sci.med\"}, {\"v\": \"sci.space\"}, {\"v\": \"sci.crypt\"}, {\"v\": \"talk.religion.misc\"}, {\"v\": \"alt.atheism\"}, {\"v\": 0.147893}, {\"v\": 0.119379}, {\"v\": 0.0876462}, {\"v\": 0.064635}, {\"v\": 0.06184}, {\"v\": \"talk.religion.misc\"}]}], \"cols\": [{\"type\": \"string\", \"id\": \"predicted\", \"label\": \"predicted\"}, {\"type\": \"string\", \"id\": \"predicted_2\", \"label\": \"predicted_2\"}, {\"type\": \"string\", \"id\": \"predicted_3\", \"label\": \"predicted_3\"}, {\"type\": \"string\", \"id\": \"predicted_4\", \"label\": \"predicted_4\"}, {\"type\": \"string\", \"id\": \"predicted_5\", \"label\": \"predicted_5\"}, {\"type\": \"number\", \"id\": \"probability\", \"label\": \"probability\"}, {\"type\": \"number\", \"id\": \"probability_2\", \"label\": \"probability_2\"}, {\"type\": \"number\", \"id\": \"probability_3\", \"label\": \"probability_3\"}, {\"type\": \"number\", \"id\": \"probability_4\", \"label\": \"probability_4\"}, {\"type\": \"number\", \"id\": \"probability_5\", \"label\": \"probability_5\"}, {\"type\": \"string\", \"id\": \"target\", \"label\": \"target\"}]},\n",
       "            {\n",
       "              pageSize: 25,\n",
       "              cssClassNames:  {\n",
       "                tableRow: 'gchart-table-row',\n",
       "                headerRow: 'gchart-table-headerrow',\n",
       "                oddTableRow: 'gchart-table-oddrow',\n",
       "                selectedTableRow: 'gchart-table-selectedrow',\n",
       "                hoverTableRow: 'gchart-table-hoverrow',\n",
       "                tableCell: 'gchart-table-cell',\n",
       "                headerCell: 'gchart-table-headercell',\n",
       "                rowNumberCell: 'gchart-table-rownumcell'\n",
       "              }\n",
       "            },\n",
       "            {source_index: 1, fields: 'predicted,predicted_2,predicted_3,predicted_4,predicted_5,probability,probability_2,probability_3,probability_4,probability_5,target'},\n",
       "            0,\n",
       "            2717);\n",
       "        }\n",
       "      );\n",
       "    </script>\n",
       "  "
      ],
      "text/plain": [
       "QueryResultsTable job_ixkw-3eJ7XJRFSxhtF0Lzi8Y79rf"
      ]
     },
     "execution_count": 92,
     "metadata": {},
     "output_type": "execute_result"
    }
   ],
   "source": [
    "%%bq query\n",
    "SELECT * FROM newspredict.result1 WHERE predicted != target"
   ]
  },
  {
   "cell_type": "markdown",
   "metadata": {},
   "source": [
    "# Prediction"
   ]
  },
  {
   "cell_type": "markdown",
   "metadata": {},
   "source": [
    "## Local Instant Prediction\n",
    "\n",
    "The MLWorkbench also supports running prediction and displaying the results within the notebook. Note that we use the non-evaluation model below (./train/model) which takes input with no target column."
   ]
  },
  {
   "cell_type": "code",
   "execution_count": 93,
   "metadata": {
    "collapsed": false
   },
   "outputs": [
    {
     "data": {
      "text/html": [
       "\n",
       "          <script src=\"/static/components/requirejs/require.js\"></script>\n",
       "          <script>\n",
       "            requirejs.config({\n",
       "              paths: {\n",
       "                base: '/static/base',\n",
       "              },\n",
       "            });\n",
       "          </script>\n",
       "          "
      ],
      "text/plain": [
       "<IPython.core.display.HTML object>"
      ]
     },
     "metadata": {},
     "output_type": "display_data"
    },
    {
     "data": {
      "text/html": [
       "<table border=\"1\" class=\"dataframe\">\n",
       "  <thead>\n",
       "    <tr style=\"text-align: right;\">\n",
       "      <th>predicted</th>\n",
       "      <th>predicted_2</th>\n",
       "      <th>predicted_3</th>\n",
       "      <th>predicted_4</th>\n",
       "      <th>predicted_5</th>\n",
       "      <th>probability</th>\n",
       "      <th>probability_2</th>\n",
       "      <th>probability_3</th>\n",
       "      <th>probability_4</th>\n",
       "      <th>probability_5</th>\n",
       "      <th>text</th>\n",
       "    </tr>\n",
       "  </thead>\n",
       "  <tbody>\n",
       "    <tr>\n",
       "      <td>sci.space</td>\n",
       "      <td>rec.motorcycles</td>\n",
       "      <td>rec.sport.baseball</td>\n",
       "      <td>comp.graphics</td>\n",
       "      <td>rec.autos</td>\n",
       "      <td>0.088903</td>\n",
       "      <td>0.063468</td>\n",
       "      <td>0.061663</td>\n",
       "      <td>0.060291</td>\n",
       "      <td>0.057231</td>\n",
       "      <td>nasa</td>\n",
       "    </tr>\n",
       "    <tr>\n",
       "      <td>comp.os.ms-windows.misc</td>\n",
       "      <td>comp.graphics</td>\n",
       "      <td>misc.forsale</td>\n",
       "      <td>comp.windows.x</td>\n",
       "      <td>rec.motorcycles</td>\n",
       "      <td>0.145055</td>\n",
       "      <td>0.067206</td>\n",
       "      <td>0.062420</td>\n",
       "      <td>0.062265</td>\n",
       "      <td>0.056137</td>\n",
       "      <td>windows xp</td>\n",
       "    </tr>\n",
       "  </tbody>\n",
       "</table>"
      ],
      "text/plain": [
       "<IPython.core.display.HTML object>"
      ]
     },
     "metadata": {},
     "output_type": "display_data"
    }
   ],
   "source": [
    "%%ml predict\n",
    "model: ./train/model/\n",
    "headers: text\n",
    "data:\n",
    "  - nasa\n",
    "  - windows xp"
   ]
  },
  {
   "cell_type": "markdown",
   "metadata": {},
   "source": [
    "## Why Does My Model Predict this? Prediction Explanation.\n",
    "\n",
    "\"%%ml explain\" gives you insights on what are important features in the prediction data that contribute positively or negatively to certain labels. We use LIME under \"%%ml explain\". ([LIME](https://github.com/marcotcr/lime) is an open sourced library performing feature sensitivity analysis. It is based on the work presented in [this paper](https://arxiv.org/abs/1602.04938). LIME is included in Datalab.)\n",
    "\n",
    "In this case, we will check which words in text are contributing most to the predicted label. "
   ]
  },
  {
   "cell_type": "code",
   "execution_count": 94,
   "metadata": {
    "collapsed": false
   },
   "outputs": [
    {
     "data": {
      "text/html": [
       "\n",
       "          <script src=\"/static/components/requirejs/require.js\"></script>\n",
       "          <script>\n",
       "            requirejs.config({\n",
       "              paths: {\n",
       "                base: '/static/base',\n",
       "              },\n",
       "            });\n",
       "          </script>\n",
       "          "
      ],
      "text/plain": [
       "<IPython.core.display.HTML object>"
      ]
     },
     "metadata": {},
     "output_type": "display_data"
    }
   ],
   "source": [
    "# Pick some data from eval csv file. They are cleaned text.\n",
    "# The truth labels for the following 3 instances are\n",
    "# - rec.autos\n",
    "# - comp.windows.x\n",
    "# - talk.politics.mideast\n",
    "\n",
    "instance0 = ('little confused models [number] [number] heard le se someone tell differences far features ' +\n",
    "            'performance curious book value [number] model less book value usually words demand ' +\n",
    "            'year heard mid spring early summer best buy')\n",
    "instance1 = ('hi requirement closing opening different display servers within x application manner display ' +\n",
    "            'associated client proper done during transition problems')\n",
    "instance2 = ('attacking drive kuwait country whose citizens close blood business ties saudi citizens thinks ' +\n",
    "            'helped saudi arabia least eastern muslim country doing anything help kuwait protect saudi arabia ' +\n",
    "            'indeed masses citizens demonstrating favor butcher saddam killed muslims killing relatively rich ' +\n",
    "            'muslims nose west saudi arabia rolled iraqi invasion charge saudi arabia idea governments official ' +\n",
    "            'religion de facto de human nature always ones rise power world country citizens leader slick ' +\n",
    "            'operator sound guys angels posting edited stuff following friday york times reported group definitely ' +\n",
    "            'conservative followers house rule country enough reported besides complaining government conservative ' +\n",
    "            'enough asserted approx [number] [number] kingdom charge under saudi islamic law brings death penalty ' +\n",
    "            'diplomatic guy bin isn called severe punishment [number] women drove public while protest ban women ' +\n",
    "            'driving guy group said al said women fired jobs happen heard muslims ban women driving basis qur etc ' +\n",
    "            'yet folks ban women called choose rally behind hate women allowed tv radio immoral kingdom house neither ' +\n",
    "            'least nor favorite government earth restrict religious political lot among things likely replacements ' +\n",
    "            'going lot worse citizens country house feeling heat lately last six months read religious police ' +\n",
    "            'government western women fully stupid women imo sends wrong signals morality read cracked down few home ' +\n",
    "            'based religious posted government owned newspapers offering money turns group dare worship homes secret ' +\n",
    "            'place government grown try take wind conservative opposition things small taste happen guys house trying ' +\n",
    "            'long run others general west evil zionists rule hate west crowd')\n",
    "\n",
    "data = [instance0, instance1, instance2]"
   ]
  },
  {
   "cell_type": "code",
   "execution_count": 95,
   "metadata": {
    "collapsed": false
   },
   "outputs": [
    {
     "data": {
      "text/html": [
       "\n",
       "          <script src=\"/static/components/requirejs/require.js\"></script>\n",
       "          <script>\n",
       "            requirejs.config({\n",
       "              paths: {\n",
       "                base: '/static/base',\n",
       "              },\n",
       "            });\n",
       "          </script>\n",
       "          "
      ],
      "text/plain": [
       "<IPython.core.display.HTML object>"
      ]
     },
     "metadata": {},
     "output_type": "display_data"
    },
    {
     "data": {
      "text/html": [
       "<table border=\"1\" class=\"dataframe\">\n",
       "  <thead>\n",
       "    <tr style=\"text-align: right;\">\n",
       "      <th>predicted</th>\n",
       "      <th>predicted_2</th>\n",
       "      <th>predicted_3</th>\n",
       "      <th>predicted_4</th>\n",
       "      <th>predicted_5</th>\n",
       "      <th>probability</th>\n",
       "      <th>probability_2</th>\n",
       "      <th>probability_3</th>\n",
       "      <th>probability_4</th>\n",
       "      <th>probability_5</th>\n",
       "      <th>text</th>\n",
       "    </tr>\n",
       "  </thead>\n",
       "  <tbody>\n",
       "    <tr>\n",
       "      <td>rec.autos</td>\n",
       "      <td>comp.sys.mac.hardware</td>\n",
       "      <td>rec.sport.baseball</td>\n",
       "      <td>sci.space</td>\n",
       "      <td>soc.religion.christian</td>\n",
       "      <td>0.291265</td>\n",
       "      <td>0.196776</td>\n",
       "      <td>0.085414</td>\n",
       "      <td>0.054412</td>\n",
       "      <td>0.046243</td>\n",
       "      <td>little confused models [number] [numb...</td>\n",
       "    </tr>\n",
       "    <tr>\n",
       "      <td>comp.windows.x</td>\n",
       "      <td>comp.graphics</td>\n",
       "      <td>comp.sys.mac.hardware</td>\n",
       "      <td>comp.os.ms-windows.misc</td>\n",
       "      <td>sci.space</td>\n",
       "      <td>0.474711</td>\n",
       "      <td>0.072923</td>\n",
       "      <td>0.060589</td>\n",
       "      <td>0.048182</td>\n",
       "      <td>0.046209</td>\n",
       "      <td>hi requirement closing opening differ...</td>\n",
       "    </tr>\n",
       "    <tr>\n",
       "      <td>talk.politics.mideast</td>\n",
       "      <td>talk.politics.guns</td>\n",
       "      <td>talk.politics.misc</td>\n",
       "      <td>alt.atheism</td>\n",
       "      <td>sci.crypt</td>\n",
       "      <td>0.400145</td>\n",
       "      <td>0.337041</td>\n",
       "      <td>0.133643</td>\n",
       "      <td>0.122765</td>\n",
       "      <td>0.003076</td>\n",
       "      <td>attacking drive kuwait country whose ...</td>\n",
       "    </tr>\n",
       "  </tbody>\n",
       "</table>"
      ],
      "text/plain": [
       "<IPython.core.display.HTML object>"
      ]
     },
     "metadata": {},
     "output_type": "display_data"
    }
   ],
   "source": [
    "%%ml predict\n",
    "model: ./train/model/\n",
    "headers: text\n",
    "data: $data"
   ]
  },
  {
   "cell_type": "markdown",
   "metadata": {},
   "source": [
    "The first and second instances are predicted correctly. The third is wrong. Below we run \"%%ml explain\" to understand more."
   ]
  },
  {
   "cell_type": "code",
   "execution_count": 96,
   "metadata": {
    "collapsed": false
   },
   "outputs": [
    {
     "data": {
      "text/html": [
       "\n",
       "          <script src=\"/static/components/requirejs/require.js\"></script>\n",
       "          <script>\n",
       "            requirejs.config({\n",
       "              paths: {\n",
       "                base: '/static/base',\n",
       "              },\n",
       "            });\n",
       "          </script>\n",
       "          "
      ],
      "text/plain": [
       "<IPython.core.display.HTML object>"
      ]
     },
     "metadata": {},
     "output_type": "display_data"
    },
    {
     "data": {
      "image/png": "[encoded data removed]",
      "text/plain": [
       "<matplotlib.figure.Figure at 0x7f50fcf16d50>"
      ]
     },
     "metadata": {},
     "output_type": "display_data"
    }
   ],
   "source": [
    "%%ml explain --detailview_only\n",
    "model: ./train/model\n",
    "labels: rec.autos\n",
    "type: text\n",
    "data: $instance0"
   ]
  },
  {
   "cell_type": "code",
   "execution_count": 97,
   "metadata": {
    "collapsed": false
   },
   "outputs": [
    {
     "data": {
      "text/html": [
       "\n",
       "          <script src=\"/static/components/requirejs/require.js\"></script>\n",
       "          <script>\n",
       "            requirejs.config({\n",
       "              paths: {\n",
       "                base: '/static/base',\n",
       "              },\n",
       "            });\n",
       "          </script>\n",
       "          "
      ],
      "text/plain": [
       "<IPython.core.display.HTML object>"
      ]
     },
     "metadata": {},
     "output_type": "display_data"
    },
    {
     "data": {
      "image/png": "[encoded data removed]",
      "text/plain": [
       "<matplotlib.figure.Figure at 0x7f5108106250>"
      ]
     },
     "metadata": {},
     "output_type": "display_data"
    }
   ],
   "source": [
    "%%ml explain --detailview_only\n",
    "model: ./train/model\n",
    "labels: comp.windows.x\n",
    "type: text\n",
    "data: $instance1"
   ]
  },
  {
   "cell_type": "markdown",
   "metadata": {},
   "source": [
    "On instance 2, the top prediction result does not match truth. Predicted is \"talk.politics.guns\" while truth is \"talk.politics.mideast\". So let's analyze these two labels."
   ]
  },
  {
   "cell_type": "code",
   "execution_count": 98,
   "metadata": {
    "collapsed": false
   },
   "outputs": [
    {
     "data": {
      "text/html": [
       "\n",
       "          <script src=\"/static/components/requirejs/require.js\"></script>\n",
       "          <script>\n",
       "            requirejs.config({\n",
       "              paths: {\n",
       "                base: '/static/base',\n",
       "              },\n",
       "            });\n",
       "          </script>\n",
       "          "
      ],
      "text/plain": [
       "<IPython.core.display.HTML object>"
      ]
     },
     "metadata": {},
     "output_type": "display_data"
    },
    {
     "data": {
      "image/png": "[encoded data removed]",
      "text/plain": [
       "<matplotlib.figure.Figure at 0x7f50fe400fd0>"
      ]
     },
     "metadata": {},
     "output_type": "display_data"
    },
    {
     "data": {
      "image/png": "[encoded data removed]",
      "text/plain": [
       "<matplotlib.figure.Figure at 0x7f510ab8a490>"
      ]
     },
     "metadata": {},
     "output_type": "display_data"
    }
   ],
   "source": [
    "%%ml explain --detailview_only\n",
    "model: ./train/model\n",
    "labels: talk.politics.guns,talk.politics.mideast\n",
    "type: text\n",
    "data: $instance2"
   ]
  },
  {
   "cell_type": "markdown",
   "metadata": {},
   "source": [
    "## Deploying Model to ML Engine\n",
    "\n",
    "Now that we have a trained model, have analyzed the results, and have tested the model output locally, we are ready to deploy it to the cloud for real predictions. \n",
    "\n",
    "Deploying a model requires the files are on GCS. The next few cells makes a bucket on GCS, copies the locally trained model, and deploys it."
   ]
  },
  {
   "cell_type": "code",
   "execution_count": 99,
   "metadata": {
    "collapsed": false
   },
   "outputs": [
    {
     "data": {
      "text/html": [
       "\n",
       "          <script src=\"/static/components/requirejs/require.js\"></script>\n",
       "          <script>\n",
       "            requirejs.config({\n",
       "              paths: {\n",
       "                base: '/static/base',\n",
       "              },\n",
       "            });\n",
       "          </script>\n",
       "          "
      ],
      "text/plain": [
       "<IPython.core.display.HTML object>"
      ]
     },
     "metadata": {},
     "output_type": "display_data"
    },
    {
     "name": "stdout",
     "output_type": "stream",
     "text": [
      "ServiceException: 409 Bucket bq-mlworkbench-20news-lab already exists.\r\n"
     ]
    }
   ],
   "source": [
    "!gsutil -q mb gs://bq-mlworkbench-20news-lab"
   ]
  },
  {
   "cell_type": "code",
   "execution_count": 100,
   "metadata": {
    "collapsed": false
   },
   "outputs": [
    {
     "data": {
      "text/html": [
       "\n",
       "          <script src=\"/static/components/requirejs/require.js\"></script>\n",
       "          <script>\n",
       "            requirejs.config({\n",
       "              paths: {\n",
       "                base: '/static/base',\n",
       "              },\n",
       "            });\n",
       "          </script>\n",
       "          "
      ],
      "text/plain": [
       "<IPython.core.display.HTML object>"
      ]
     },
     "metadata": {},
     "output_type": "display_data"
    },
    {
     "name": "stdout",
     "output_type": "stream",
     "text": [
      "Copying file://./train/model/assets.extra/features.json [Content-Type=application/json]...\n",
      "Copying file://./train/model/saved_model.pb [Content-Type=application/octet-stream]...\n",
      "Copying file://./train/model/variables/variables.index [Content-Type=application/octet-stream]...\n",
      "Copying file://./train/model/variables/variables.data-00000-of-00001 [Content-Type=application/octet-stream]...\n",
      "Copying file://./train/model/assets.extra/schema.json [Content-Type=application/json]...\n",
      "- [5/5 files][901.2 KiB/901.2 KiB] 100% Done                                    \n",
      "Operation completed over 5 objects/901.2 KiB.                                    \n"
     ]
    }
   ],
   "source": [
    "# Move the regular model to GCS\n",
    "!gsutil -m cp -r ./train/model gs://bq-mlworkbench-20news-lab"
   ]
  },
  {
   "cell_type": "markdown",
   "metadata": {},
   "source": [
    "See this doc https://cloud.google.com/ml-engine/docs/how-tos/managing-models-jobs for a the definition of ML Engine models and versions. An ML Engine version runs predictions and is contained in a ML Engine model. We will create a new ML Engine model, and depoly the TensorFlow graph as a ML Engine version. This can be done using gcloud (see https://cloud.google.com/ml-engine/docs/how-tos/deploying-models), or Datalab which we use below."
   ]
  },
  {
   "cell_type": "code",
   "execution_count": 101,
   "metadata": {
    "collapsed": false
   },
   "outputs": [
    {
     "data": {
      "text/html": [
       "\n",
       "          <script src=\"/static/components/requirejs/require.js\"></script>\n",
       "          <script>\n",
       "            requirejs.config({\n",
       "              paths: {\n",
       "                base: '/static/base',\n",
       "              },\n",
       "            });\n",
       "          </script>\n",
       "          "
      ],
      "text/plain": [
       "<IPython.core.display.HTML object>"
      ]
     },
     "metadata": {},
     "output_type": "display_data"
    },
    {
     "name": "stdout",
     "output_type": "stream",
     "text": [
      "Waiting for operation \"projects/bradley-playground/operations/create_news_alpha-1508447816124\"\n",
      "Done.\n"
     ]
    }
   ],
   "source": [
    "%%ml model deploy\n",
    "path: gs://bq-mlworkbench-20news-lab\n",
    "name: news.alpha"
   ]
  },
  {
   "cell_type": "markdown",
   "metadata": {},
   "source": [
    "## How to Build Your Own Prediction Client\n",
    "\n",
    "A common task is to call a deployed model from different applications. Below is an example of writing a python client to run prediction. \n",
    "\n",
    "Covering model permissions topics is outside the scope of this notebook, but for more information see https://cloud.google.com/ml-engine/docs/tutorials/python-guide and https://developers.google.com/identity/protocols/application-default-credentials ."
   ]
  },
  {
   "cell_type": "code",
   "execution_count": 102,
   "metadata": {
    "collapsed": false
   },
   "outputs": [
    {
     "data": {
      "text/html": [
       "\n",
       "          <script src=\"/static/components/requirejs/require.js\"></script>\n",
       "          <script>\n",
       "            requirejs.config({\n",
       "              paths: {\n",
       "                base: '/static/base',\n",
       "              },\n",
       "            });\n",
       "          </script>\n",
       "          "
      ],
      "text/plain": [
       "<IPython.core.display.HTML object>"
      ]
     },
     "metadata": {},
     "output_type": "display_data"
    },
    {
     "name": "stdout",
     "output_type": "stream",
     "text": [
      "The JSON request: \n",
      "\n",
      "{\"body\": \"{\\\"instances\\\": [\\\"nasa\\\", \\\"windows ex\\\"]}\", \"resumable_uri\": null, \"headers\": {\"content-type\": \"application/json\", \"accept-encoding\": \"gzip, deflate\", \"accept\": \"application/json\", \"user-agent\": \"google-api-python-client/1.6.2 (gzip)\"}, \"uri\": \"https://ml.googleapis.com/v1/projects/bradley-playground/models/news/versions/alpha:predict?alt=json\", \"resumable\": null, \"methodId\": \"ml.projects.predict\", \"body_size\": 37, \"resumable_progress\": 0, \"method\": \"POST\", \"_in_error_state\": false, \"response_callbacks\": []}\n",
      "\n",
      "The response:\n",
      "\n",
      "{\n",
      "  \"predictions\": [\n",
      "    {\n",
      "      \"probability\": 0.08890275657176971, \n",
      "      \"probability_5\": 0.05723080784082413, \n",
      "      \"probability_4\": 0.06029100343585014, \n",
      "      \"predicted\": \"sci.space\", \n",
      "      \"probability_3\": 0.06166268140077591, \n",
      "      \"probability_2\": 0.06346812099218369, \n",
      "      \"predicted_2\": \"rec.motorcycles\", \n",
      "      \"predicted_3\": \"rec.sport.baseball\", \n",
      "      \"predicted_4\": \"comp.graphics\", \n",
      "      \"predicted_5\": \"rec.autos\"\n",
      "    }, \n",
      "    {\n",
      "      \"probability\": 0.1440439522266388, \n",
      "      \"probability_5\": 0.060565147548913956, \n",
      "      \"probability_4\": 0.06096724420785904, \n",
      "      \"predicted\": \"comp.os.ms-windows.misc\", \n",
      "      \"probability_3\": 0.06115517392754555, \n",
      "      \"probability_2\": 0.06615085899829865, \n",
      "      \"predicted_2\": \"comp.graphics\", \n",
      "      \"predicted_3\": \"misc.forsale\", \n",
      "      \"predicted_4\": \"comp.windows.x\", \n",
      "      \"predicted_5\": \"rec.motorcycles\"\n",
      "    }\n",
      "  ]\n",
      "}\n"
     ]
    }
   ],
   "source": [
    "from oauth2client.client import GoogleCredentials\n",
    "from googleapiclient import discovery\n",
    "from googleapiclient import errors\n",
    "\n",
    "# Store your project ID, model name, and version name in the format the API needs.\n",
    "api_path = 'projects/{your_project_ID}/models/{model_name}/versions/{version_name}'.format(\n",
    "    your_project_ID=google.datalab.Context.default().project_id,\n",
    "    model_name='news',\n",
    "    version_name='alpha')\n",
    "\n",
    "# Get application default credentials (possible only if the gcloud tool is\n",
    "#  configured on your machine). See https://developers.google.com/identity/protocols/application-default-credentials\n",
    "#  for more info.\n",
    "credentials = GoogleCredentials.get_application_default()\n",
    "\n",
    "# Build a representation of the Cloud ML API.\n",
    "ml = discovery.build('ml', 'v1', credentials=credentials)\n",
    "\n",
    "# Create a dictionary containing data to predict.\n",
    "# Note that the data is a list of csv strings.\n",
    "body = {\n",
    "    'instances': ['nasa',\n",
    "                  'windows ex']}\n",
    "\n",
    "# Create a request\n",
    "request = ml.projects().predict(\n",
    "    name=api_path,\n",
    "    body=body)\n",
    "\n",
    "print('The JSON request: \\n')\n",
    "print(request.to_json())\n",
    "\n",
    "# Make the call.\n",
    "try:\n",
    "    response = request.execute()\n",
    "    print('\\nThe response:\\n')\n",
    "    print(json.dumps(response, indent=2))\n",
    "except errors.HttpError, err:\n",
    "    # Something went wrong, print out some information.\n",
    "    print('There was an error. Check the details:')\n",
    "    print(err._get_reason())"
   ]
  },
  {
   "cell_type": "markdown",
   "metadata": {},
   "source": [
    "To demonstrate prediction client further, check API Explorer (https://developers.google.com/apis-explorer). it allows you to send raw HTTP requests to many Google APIs. This is useful for understanding the requests and response, and help you build your own client with your favorite language.\n",
    "\n",
    "Please visit https://developers.google.com/apis-explorer/#search/ml%20engine/ml/v1/ml.projects.predict and enter the following values for each text box. "
   ]
  },
  {
   "cell_type": "code",
   "execution_count": 103,
   "metadata": {
    "collapsed": false
   },
   "outputs": [
    {
     "data": {
      "text/html": [
       "\n",
       "          <script src=\"/static/components/requirejs/require.js\"></script>\n",
       "          <script>\n",
       "            requirejs.config({\n",
       "              paths: {\n",
       "                base: '/static/base',\n",
       "              },\n",
       "            });\n",
       "          </script>\n",
       "          "
      ],
      "text/plain": [
       "<IPython.core.display.HTML object>"
      ]
     },
     "metadata": {},
     "output_type": "display_data"
    },
    {
     "name": "stdout",
     "output_type": "stream",
     "text": [
      "Place the following in the name box\n",
      "projects/bradley-playground/models/news/versions/alpha\n"
     ]
    }
   ],
   "source": [
    "# The output of this cell is placed in the name box\n",
    "# Store your project ID, model name, and version name in the format the API needs.\n",
    "api_path = 'projects/{your_project_ID}/models/{model_name}/versions/{version_name}'.format(\n",
    "    your_project_ID=google.datalab.Context.default().project_id,\n",
    "    model_name='news',\n",
    "    version_name='alpha')\n",
    "print('Place the following in the name box')\n",
    "print(api_path)"
   ]
  },
  {
   "cell_type": "markdown",
   "metadata": {},
   "source": [
    "The fields text box can be empty.\n",
    "\n",
    "Note that because we deployed the non-evaluation model, our depolyed model takes a csv input which only has one column. In general, the \"instances\" is a list of csv strings for models trained by MLWorkbench.\n",
    "\n",
    "Click in the request body box, and note a small drop down menu appears in the FAR RIGHT of the input box. Slect \"Freeform editor\". Then enter the following in the request body box."
   ]
  },
  {
   "cell_type": "code",
   "execution_count": 104,
   "metadata": {
    "collapsed": false
   },
   "outputs": [
    {
     "data": {
      "text/html": [
       "\n",
       "          <script src=\"/static/components/requirejs/require.js\"></script>\n",
       "          <script>\n",
       "            requirejs.config({\n",
       "              paths: {\n",
       "                base: '/static/base',\n",
       "              },\n",
       "            });\n",
       "          </script>\n",
       "          "
      ],
      "text/plain": [
       "<IPython.core.display.HTML object>"
      ]
     },
     "metadata": {},
     "output_type": "display_data"
    },
    {
     "name": "stdout",
     "output_type": "stream",
     "text": [
      "Place the following in the request body box\n",
      "{\"instances\": [\"nasa\", \"windows xp\"]}\n"
     ]
    }
   ],
   "source": [
    "print('Place the following in the request body box')\n",
    "request = {'instances': ['nasa', 'windows xp']}\n",
    "print(json.dumps(request))"
   ]
  },
  {
   "cell_type": "markdown",
   "metadata": {},
   "source": [
    "Then click the \"Authorize and execute\" button. The prediction results are returned in the browser."
   ]
  },
  {
   "cell_type": "markdown",
   "metadata": {},
   "source": [
    "## Cleaning up the deployed model"
   ]
  },
  {
   "cell_type": "code",
   "execution_count": 105,
   "metadata": {
    "collapsed": false
   },
   "outputs": [
    {
     "data": {
      "text/html": [
       "\n",
       "          <script src=\"/static/components/requirejs/require.js\"></script>\n",
       "          <script>\n",
       "            requirejs.config({\n",
       "              paths: {\n",
       "                base: '/static/base',\n",
       "              },\n",
       "            });\n",
       "          </script>\n",
       "          "
      ],
      "text/plain": [
       "<IPython.core.display.HTML object>"
      ]
     },
     "metadata": {},
     "output_type": "display_data"
    },
    {
     "name": "stdout",
     "output_type": "stream",
     "text": [
      "Waiting for operation \"projects/bradley-playground/operations/delete_news_alpha-1508447899648\"\n",
      "Done.\n"
     ]
    }
   ],
   "source": [
    "%%ml model delete\n",
    "name: news.alpha"
   ]
  },
  {
   "cell_type": "code",
   "execution_count": null,
   "metadata": {
    "collapsed": false
   },
   "outputs": [],
   "source": [
    "%%ml model delete\n",
    "name: news"
   ]
  },
  {
   "cell_type": "code",
   "execution_count": 107,
   "metadata": {
    "collapsed": false
   },
   "outputs": [
    {
     "data": {
      "text/html": [
       "\n",
       "          <script src=\"/static/components/requirejs/require.js\"></script>\n",
       "          <script>\n",
       "            requirejs.config({\n",
       "              paths: {\n",
       "                base: '/static/base',\n",
       "              },\n",
       "            });\n",
       "          </script>\n",
       "          "
      ],
      "text/plain": [
       "<IPython.core.display.HTML object>"
      ]
     },
     "metadata": {},
     "output_type": "display_data"
    },
    {
     "name": "stdout",
     "output_type": "stream",
     "text": [
      "Removing gs://bq-mlworkbench-20news-lab/predict_results_eval.csv#1508447773068028...\n",
      "Removing gs://bq-mlworkbench-20news-lab/model/assets.extra/features.json#1508447803765889...\n",
      "Removing gs://bq-mlworkbench-20news-lab/model/assets.extra/schema.json#1508447803782795...\n",
      "Removing gs://bq-mlworkbench-20news-lab/model/saved_model.pb#1508447803954460...\n",
      "Removing gs://bq-mlworkbench-20news-lab/model/variables/variables.data-00000-of-00001#1508447804049817...\n",
      "Removing gs://bq-mlworkbench-20news-lab/model/variables/variables.index#1508447803769614...\n",
      "/ [6/6 objects] 100% Done                                                       \n",
      "Operation completed over 6 objects.                                              \n",
      "Removing gs://bq-mlworkbench-20news-lab/...\n"
     ]
    }
   ],
   "source": [
    "# Delete the GCS bucket\n",
    "!gsutil -m rm -r gs://bq-mlworkbench-20news-lab"
   ]
  },
  {
   "cell_type": "code",
   "execution_count": 108,
   "metadata": {
    "collapsed": false
   },
   "outputs": [
    {
     "data": {
      "text/html": [
       "\n",
       "          <script src=\"/static/components/requirejs/require.js\"></script>\n",
       "          <script>\n",
       "            requirejs.config({\n",
       "              paths: {\n",
       "                base: '/static/base',\n",
       "              },\n",
       "            });\n",
       "          </script>\n",
       "          "
      ],
      "text/plain": [
       "<IPython.core.display.HTML object>"
      ]
     },
     "metadata": {},
     "output_type": "display_data"
    }
   ],
   "source": [
    "# Delete BQ table\n",
    "\n",
    "bq.Dataset('newspredict').delete(delete_contents = True)"
   ]
  }
 ],
 "metadata": {
  "kernelspec": {
   "display_name": "Python 2",
   "language": "python",
   "name": "python2"
  },
  "language_info": {
   "codemirror_mode": {
    "name": "ipython",
    "version": 2
   },
   "file_extension": ".py",
   "mimetype": "text/x-python",
   "name": "python",
   "nbconvert_exporter": "python",
   "pygments_lexer": "ipython2",
   "version": "2.7.12"
  }
 },
 "nbformat": 4,
 "nbformat_minor": 2
}
