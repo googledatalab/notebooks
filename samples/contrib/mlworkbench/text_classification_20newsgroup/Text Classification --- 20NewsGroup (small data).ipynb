{
 "cells": [
  {
   "cell_type": "markdown",
   "metadata": {},
   "source": [
    "<h1>About this Notebook</h1>\n",
    "\n",
    "This notebook demonstrates the experience of using ML Workbench to create a machine learning model for text classification and setting it up for online prediction. Training the model is done \"locally\" inside Datalab. In the next notebook (Text Classification --- 20NewsGroup (large data)), it demonstrates how to do it by using Cloud ML Engine services.\n",
    "\n",
    "If you have any feedback, please send them to datalab-feedback@google.com."
   ]
  },
  {
   "cell_type": "markdown",
   "metadata": {},
   "source": [
    "# Data   \n",
    "\n",
    "The 20 newsgroups dataset comprises around 18000 newsgroups posts on 20 topics. The classification problem is to identify the newsgroup a post was summited to, given the text of the post.\n",
    "\n",
    "There are a few versions of this dataset from different sources online. Below, we use the version within scikit-learn which is already split into a train and test/eval set. For a longer introduction to this dataset, see the [scikit-learn website](http://scikit-learn.org/stable/datasets/twenty_newsgroups.html)"
   ]
  },
  {
   "cell_type": "markdown",
   "metadata": {},
   "source": [
    "## Download Data"
   ]
  },
  {
   "cell_type": "code",
   "execution_count": 1,
   "metadata": {
    "collapsed": false
   },
   "outputs": [
    {
     "data": {
      "text/html": [
       "\n",
       "          <script src=\"/static/components/requirejs/require.js\"></script>\n",
       "          <script>\n",
       "            requirejs.config({\n",
       "              paths: {\n",
       "                base: '/static/base',\n",
       "              },\n",
       "            });\n",
       "          </script>\n",
       "          "
      ],
      "text/plain": [
       "<IPython.core.display.HTML object>"
      ]
     },
     "metadata": {},
     "output_type": "display_data"
    }
   ],
   "source": [
    "# Set up a new directory and make it working directory\n",
    "\n",
    "!mkdir -p /content/datalab/workspace/text_classification_20newsgroup\n",
    "\n",
    "import os\n",
    "os.chdir('/content/datalab/workspace/text_classification_20newsgroup')"
   ]
  },
  {
   "cell_type": "code",
   "execution_count": 2,
   "metadata": {
    "collapsed": false
   },
   "outputs": [
    {
     "data": {
      "text/html": [
       "\n",
       "          <script src=\"/static/components/requirejs/require.js\"></script>\n",
       "          <script>\n",
       "            requirejs.config({\n",
       "              paths: {\n",
       "                base: '/static/base',\n",
       "              },\n",
       "            });\n",
       "          </script>\n",
       "          "
      ],
      "text/plain": [
       "<IPython.core.display.HTML object>"
      ]
     },
     "metadata": {},
     "output_type": "display_data"
    }
   ],
   "source": [
    "import numpy as np\n",
    "import pandas as pd\n",
    "import os\n",
    "import re\n",
    "import csv\n",
    "from sklearn.datasets import fetch_20newsgroups"
   ]
  },
  {
   "cell_type": "code",
   "execution_count": 3,
   "metadata": {
    "collapsed": false
   },
   "outputs": [
    {
     "data": {
      "text/html": [
       "\n",
       "          <script src=\"/static/components/requirejs/require.js\"></script>\n",
       "          <script>\n",
       "            requirejs.config({\n",
       "              paths: {\n",
       "                base: '/static/base',\n",
       "              },\n",
       "            });\n",
       "          </script>\n",
       "          "
      ],
      "text/plain": [
       "<IPython.core.display.HTML object>"
      ]
     },
     "metadata": {},
     "output_type": "display_data"
    },
    {
     "name": "stderr",
     "output_type": "stream",
     "text": [
      "No handlers could be found for logger \"sklearn.datasets.twenty_newsgroups\"\n"
     ]
    }
   ],
   "source": [
    "# data will be downloaded. Note that an error message saying something like \"No handlers could be found for \n",
    "# logger sklearn.datasets.twenty_newsgroups\" might be printed, but this is not an error.\n",
    "news_train_data = fetch_20newsgroups(subset='train', shuffle=True, random_state=42, remove=('headers', 'footers', 'quotes'))\n",
    "news_test_data = fetch_20newsgroups(subset='test', shuffle=True, random_state=42, remove=('headers', 'footers', 'quotes'))"
   ]
  },
  {
   "cell_type": "markdown",
   "metadata": {},
   "source": [
    "## Cleaning the Raw Data\n",
    "\n",
    "Printing the 3rd element in the test dataset shows the data contains text with newlines, punctuation, misspellings, and other items common in text documents. To build a model, we will clean up the text by removing some of these issues."
   ]
  },
  {
   "cell_type": "code",
   "execution_count": 4,
   "metadata": {
    "collapsed": false
   },
   "outputs": [
    {
     "data": {
      "text/html": [
       "\n",
       "          <script src=\"/static/components/requirejs/require.js\"></script>\n",
       "          <script>\n",
       "            requirejs.config({\n",
       "              paths: {\n",
       "                base: '/static/base',\n",
       "              },\n",
       "            });\n",
       "          </script>\n",
       "          "
      ],
      "text/plain": [
       "<IPython.core.display.HTML object>"
      ]
     },
     "metadata": {},
     "output_type": "display_data"
    },
    {
     "data": {
      "text/plain": [
       "(u'well folks, my mac plus finally gave up the ghost this weekend after\\nstarting life as a 512k way back in 1985.  sooo, i\\'m in the market for a\\nnew machine a bit sooner than i intended to be...\\n\\ni\\'m looking into picking up a powerbook 160 or maybe 180 and have a bunch\\nof questions that (hopefully) somebody can answer:\\n\\n* does anybody know any dirt on when the next round of powerbook\\nintroductions are expected?  i\\'d heard the 185c was supposed to make an\\nappearence \"this summer\" but haven\\'t heard anymore on it - and since i\\ndon\\'t have access to macleak, i was wondering if anybody out there had\\nmore info...\\n\\n* has anybody heard rumors about price drops to the powerbook line like the\\nones the duo\\'s just went through recently?\\n\\n* what\\'s the impression of the display on the 180?  i could probably swing\\na 180 if i got the 80Mb disk rather than the 120, but i don\\'t really have\\na feel for how much \"better\" the display is (yea, it looks great in the\\nstore, but is that all \"wow\" or is it really that good?).  could i solicit\\nsome opinions of people who use the 160 and 180 day-to-day on if its worth\\ntaking the disk size and money hit to get the active display?  (i realize\\nthis is a real subjective question, but i\\'ve only played around with the\\nmachines in a computer store breifly and figured the opinions of somebody\\nwho actually uses the machine daily might prove helpful).\\n\\n* how well does hellcats perform?  ;)\\n\\nthanks a bunch in advance for any info - if you could email, i\\'ll post a\\nsummary (news reading time is at a premium with finals just around the\\ncorner... :( )\\n--\\nTom Willis  \\\\  twillis@ecn.purdue.edu    \\\\    Purdue Electrical Engineering',\n",
       " 'comp.sys.mac.hardware')"
      ]
     },
     "execution_count": 4,
     "metadata": {},
     "output_type": "execute_result"
    }
   ],
   "source": [
    "news_train_data.data[2], news_train_data.target_names[news_train_data.target[2]]"
   ]
  },
  {
   "cell_type": "code",
   "execution_count": 5,
   "metadata": {
    "collapsed": false
   },
   "outputs": [
    {
     "data": {
      "text/html": [
       "\n",
       "          <script src=\"/static/components/requirejs/require.js\"></script>\n",
       "          <script>\n",
       "            requirejs.config({\n",
       "              paths: {\n",
       "                base: '/static/base',\n",
       "              },\n",
       "            });\n",
       "          </script>\n",
       "          "
      ],
      "text/plain": [
       "<IPython.core.display.HTML object>"
      ]
     },
     "metadata": {},
     "output_type": "display_data"
    }
   ],
   "source": [
    "def clean_and_tokenize_text(news_data):\n",
    "    \"\"\"Cleans some issues with the text data\n",
    "    Args:\n",
    "        news_data: list of text strings\n",
    "    Returns:\n",
    "        For each text string, an array of tokenized words are returned in a list\n",
    "    \"\"\"\n",
    "    cleaned_text = []\n",
    "    for text in news_data:\n",
    "        x = re.sub('[^\\w]|_', ' ', text)  # only keep numbers and letters and spaces\n",
    "        x = x.lower()\n",
    "        x = re.sub(r'[^\\x00-\\x7f]',r'', x)  # remove non ascii texts\n",
    "        tokens = [y for y in x.split(' ') if y] # remove empty words\n",
    "        tokens = ['[number]' if x.isdigit() else x for x in tokens] # convert all numbers to '[number]' to reduce vocab size.\n",
    "        cleaned_text.append(tokens)\n",
    "    return cleaned_text"
   ]
  },
  {
   "cell_type": "code",
   "execution_count": 6,
   "metadata": {
    "collapsed": false
   },
   "outputs": [
    {
     "data": {
      "text/html": [
       "\n",
       "          <script src=\"/static/components/requirejs/require.js\"></script>\n",
       "          <script>\n",
       "            requirejs.config({\n",
       "              paths: {\n",
       "                base: '/static/base',\n",
       "              },\n",
       "            });\n",
       "          </script>\n",
       "          "
      ],
      "text/plain": [
       "<IPython.core.display.HTML object>"
      ]
     },
     "metadata": {},
     "output_type": "display_data"
    }
   ],
   "source": [
    "clean_train_tokens = clean_and_tokenize_text(news_train_data.data)\n",
    "clean_test_tokens = clean_and_tokenize_text(news_test_data.data)"
   ]
  },
  {
   "cell_type": "markdown",
   "metadata": {},
   "source": [
    "## Get Vocabulary\n",
    "\n",
    "We will need to filter the vocabulary to remove high frequency words and low frequency words."
   ]
  },
  {
   "cell_type": "code",
   "execution_count": 7,
   "metadata": {
    "collapsed": false
   },
   "outputs": [
    {
     "data": {
      "text/html": [
       "\n",
       "          <script src=\"/static/components/requirejs/require.js\"></script>\n",
       "          <script>\n",
       "            requirejs.config({\n",
       "              paths: {\n",
       "                base: '/static/base',\n",
       "              },\n",
       "            });\n",
       "          </script>\n",
       "          "
      ],
      "text/plain": [
       "<IPython.core.display.HTML object>"
      ]
     },
     "metadata": {},
     "output_type": "display_data"
    }
   ],
   "source": [
    "def get_unique_tokens_per_row(text_token_list):\n",
    "    \"\"\"Collect unique tokens per row.\n",
    "    Args:\n",
    "        text_token_list: list, where each element is a list containing tokenized text\n",
    "    Returns:\n",
    "        One list containing the unique tokens in every row. For example, if row one contained\n",
    "        ['pizza', 'pizza'] while row two contained ['pizza', 'cake', 'cake'], then the output list\n",
    "        would contain ['pizza' (from row 1), 'pizza' (from row 2), 'cake' (from row 2)]\n",
    "    \"\"\"\n",
    "    words = []\n",
    "    for row in text_token_list:\n",
    "        words.extend(list(set(row)))\n",
    "    return words"
   ]
  },
  {
   "cell_type": "code",
   "execution_count": 8,
   "metadata": {
    "collapsed": false
   },
   "outputs": [
    {
     "data": {
      "text/html": [
       "\n",
       "          <script src=\"/static/components/requirejs/require.js\"></script>\n",
       "          <script>\n",
       "            requirejs.config({\n",
       "              paths: {\n",
       "                base: '/static/base',\n",
       "              },\n",
       "            });\n",
       "          </script>\n",
       "          "
      ],
      "text/plain": [
       "<IPython.core.display.HTML object>"
      ]
     },
     "metadata": {},
     "output_type": "display_data"
    },
    {
     "data": {
      "text/plain": [
       "<matplotlib.axes._subplots.AxesSubplot at 0x7f7a317985d0>"
      ]
     },
     "execution_count": 8,
     "metadata": {},
     "output_type": "execute_result"
    },
    {
     "data": {
      "image/png": "[encoded data removed]",
      "text/plain": [
       "<matplotlib.figure.Figure at 0x7f7a43cfb390>"
      ]
     },
     "metadata": {},
     "output_type": "display_data"
    }
   ],
   "source": [
    "# Make a plot where the x-axis is a token, and the y-axis is how many text documents\n",
    "# that token is in. \n",
    "words = pd.DataFrame(get_unique_tokens_per_row(clean_train_tokens) , columns=['words'])\n",
    "token_frequency = words['words'].value_counts() # how many documents contain each token.\n",
    "token_frequency.plot(logy=True)"
   ]
  },
  {
   "cell_type": "code",
   "execution_count": 9,
   "metadata": {
    "collapsed": false
   },
   "outputs": [
    {
     "data": {
      "text/html": [
       "\n",
       "          <script src=\"/static/components/requirejs/require.js\"></script>\n",
       "          <script>\n",
       "            requirejs.config({\n",
       "              paths: {\n",
       "                base: '/static/base',\n",
       "              },\n",
       "            });\n",
       "          </script>\n",
       "          "
      ],
      "text/plain": [
       "<IPython.core.display.HTML object>"
      ]
     },
     "metadata": {},
     "output_type": "display_data"
    },
    {
     "data": {
      "text/plain": [
       "<matplotlib.axes._subplots.AxesSubplot at 0x7f7a2dda0990>"
      ]
     },
     "execution_count": 9,
     "metadata": {},
     "output_type": "execute_result"
    },
    {
     "data": {
      "image/png": "[encoded data removed]",
      "text/plain": [
       "<matplotlib.figure.Figure at 0x7f7a80739d50>"
      ]
     },
     "metadata": {},
     "output_type": "display_data"
    }
   ],
   "source": [
    "vocab = token_frequency[np.logical_and(token_frequency < 1000, token_frequency > 10)]\n",
    "vocab.plot(logy=True)"
   ]
  },
  {
   "cell_type": "code",
   "execution_count": 10,
   "metadata": {
    "collapsed": false
   },
   "outputs": [
    {
     "data": {
      "text/html": [
       "\n",
       "          <script src=\"/static/components/requirejs/require.js\"></script>\n",
       "          <script>\n",
       "            requirejs.config({\n",
       "              paths: {\n",
       "                base: '/static/base',\n",
       "              },\n",
       "            });\n",
       "          </script>\n",
       "          "
      ],
      "text/plain": [
       "<IPython.core.display.HTML object>"
      ]
     },
     "metadata": {},
     "output_type": "display_data"
    }
   ],
   "source": [
    "def filter_text_by_vocab(news_data, vocab):\n",
    "    \"\"\"Removes tokens if not in vocab.\n",
    "    Args:\n",
    "        news_data: list, where each element is a token list\n",
    "        vocab: set containing the tokens to keep.\n",
    "    Returns:\n",
    "        List of strings containing the final cleaned text data\n",
    "    \"\"\"\n",
    "    text_strs = []\n",
    "    for row in news_data:\n",
    "        words_to_keep = [token for token in row if token in vocab or token == '[number]']\n",
    "        text_strs.append(' '.join(words_to_keep))\n",
    "    return text_strs"
   ]
  },
  {
   "cell_type": "code",
   "execution_count": 11,
   "metadata": {
    "collapsed": false
   },
   "outputs": [
    {
     "data": {
      "text/html": [
       "\n",
       "          <script src=\"/static/components/requirejs/require.js\"></script>\n",
       "          <script>\n",
       "            requirejs.config({\n",
       "              paths: {\n",
       "                base: '/static/base',\n",
       "              },\n",
       "            });\n",
       "          </script>\n",
       "          "
      ],
      "text/plain": [
       "<IPython.core.display.HTML object>"
      ]
     },
     "metadata": {},
     "output_type": "display_data"
    }
   ],
   "source": [
    "clean_train_data = filter_text_by_vocab(clean_train_tokens, set(vocab.index))\n",
    "clean_test_data = filter_text_by_vocab(clean_test_tokens, set(vocab.index))"
   ]
  },
  {
   "cell_type": "code",
   "execution_count": 12,
   "metadata": {
    "collapsed": false
   },
   "outputs": [
    {
     "data": {
      "text/html": [
       "\n",
       "          <script src=\"/static/components/requirejs/require.js\"></script>\n",
       "          <script>\n",
       "            requirejs.config({\n",
       "              paths: {\n",
       "                base: '/static/base',\n",
       "              },\n",
       "            });\n",
       "          </script>\n",
       "          "
      ],
      "text/plain": [
       "<IPython.core.display.HTML object>"
      ]
     },
     "metadata": {},
     "output_type": "display_data"
    },
    {
     "data": {
      "text/plain": [
       "[u'wondering enlighten car saw day [number] door sports car looked late 60s early 70s called doors small addition front bumper separate rest body model name engine specs years production car made history whatever info looking car e mail',\n",
       " u'fair number brave souls upgraded si clock oscillator shared experiences poll send brief message detailing experiences procedure top speed cpu rated speed add cards adapters heat hour usage per day floppy disk functionality [number] [number] [number] floppies especially requested next days add network knowledge base done clock upgrade haven answered poll',\n",
       " u'folks mac plus finally gave ghost weekend starting life 512k [number] market machine bit sooner intended looking picking powerbook [number] maybe [number] bunch questions hopefully somebody answer anybody dirt next round powerbook expected heard supposed summer haven heard anymore access wondering anybody info anybody heard rumors price drops powerbook line ones duo went through recently impression display [number] probably swing [number] got 80mb disk rather [number] feel better display yea looks great store wow opinions [number] [number] day day worth taking disk size money hit active display realize real subjective question played around machines computer store figured opinions somebody actually uses machine daily might prove helpful perform bunch advance info email ll post summary news reading premium finals around corner tom ecn purdue edu purdue electrical engineering']"
      ]
     },
     "execution_count": 12,
     "metadata": {},
     "output_type": "execute_result"
    }
   ],
   "source": [
    "# Check a few instances of cleaned data\n",
    "\n",
    "clean_train_data[:3]"
   ]
  },
  {
   "cell_type": "markdown",
   "metadata": {},
   "source": [
    "## Save the Cleaned Data For Training"
   ]
  },
  {
   "cell_type": "code",
   "execution_count": 13,
   "metadata": {
    "collapsed": false
   },
   "outputs": [
    {
     "data": {
      "text/html": [
       "\n",
       "          <script src=\"/static/components/requirejs/require.js\"></script>\n",
       "          <script>\n",
       "            requirejs.config({\n",
       "              paths: {\n",
       "                base: '/static/base',\n",
       "              },\n",
       "            });\n",
       "          </script>\n",
       "          "
      ],
      "text/plain": [
       "<IPython.core.display.HTML object>"
      ]
     },
     "metadata": {},
     "output_type": "display_data"
    }
   ],
   "source": [
    "!mkdir -p ./data\n",
    "\n",
    "with open('./data/train.csv', 'w') as f:\n",
    "    writer = csv.writer(f, lineterminator='\\n')\n",
    "    for target, text in zip(news_train_data.target, clean_train_data):\n",
    "        writer.writerow([news_train_data.target_names[target], text])\n",
    "        \n",
    "with open('./data/eval.csv', 'w') as f:\n",
    "    writer = csv.writer(f, lineterminator='\\n')\n",
    "    for target, text in zip(news_test_data.target, clean_test_data):\n",
    "        writer.writerow([news_test_data.target_names[target], text]) \n",
    "        \n",
    "# Also save the vocab, which will be useful in making new predictions.\n",
    "with open('./data/vocab.txt', 'w') as f:\n",
    "    vocab.to_csv(f)"
   ]
  },
  {
   "cell_type": "markdown",
   "metadata": {},
   "source": [
    "# Create Model with ML Workbench\n",
    "\n",
    "\n",
    "The MLWorkbench Magics are a set of Datalab commands that allow an easy code-free experience to training, deploying, and predicting ML models. This notebook will take the cleaned data from the previous notebook and build a text classification model. The MLWorkbench Magics are a collection of magic commands for each step in ML workflows: analyzing input data to build transforms, transforming data, training a model, evaluating a model, and deploying a model.\n",
    "\n",
    "For details of each command, run with --help. For example, \"%%ml train --help\".\n",
    "\n",
    "When the dataset is small (like with the 20 newsgroup data), there is little benefit of using cloud services. This notebook will run the analyze, transform, and training steps locally. However, we will take the locally trained model and deploy it to ML Engine and show how to make real predictions on a deployed model. Every MLWorkbench magic can run locally or use cloud services (adding --cloud flag).\n",
    "\n",
    "The next notebook (Text Classification --- 20NewsGroup (large data)) in this sequence shows the cloud version of every command, and gives the normal experience when building models are large datasets. However, we will still use the 20 newsgroup data. \n"
   ]
  },
  {
   "cell_type": "code",
   "execution_count": 2,
   "metadata": {
    "codeCollapsed": false,
    "collapsed": false,
    "hiddenCell": false
   },
   "outputs": [
    {
     "data": {
      "text/html": [
       "\n",
       "          <script src=\"/static/components/requirejs/require.js\"></script>\n",
       "          <script>\n",
       "            requirejs.config({\n",
       "              paths: {\n",
       "                base: '/static/base',\n",
       "              },\n",
       "            });\n",
       "          </script>\n",
       "          "
      ],
      "text/plain": [
       "<IPython.core.display.HTML object>"
      ]
     },
     "metadata": {},
     "output_type": "display_data"
    }
   ],
   "source": [
    "import google.datalab.contrib.mlworkbench.commands  # This loads the '%%ml' magics\n",
    "import google.datalab\n",
    "\n",
    "# Other imports\n",
    "import json"
   ]
  },
  {
   "cell_type": "markdown",
   "metadata": {},
   "source": [
    "First, define the dataset we are going to use for training."
   ]
  },
  {
   "cell_type": "code",
   "execution_count": 4,
   "metadata": {
    "collapsed": false
   },
   "outputs": [
    {
     "data": {
      "text/html": [
       "\n",
       "          <script src=\"/static/components/requirejs/require.js\"></script>\n",
       "          <script>\n",
       "            requirejs.config({\n",
       "              paths: {\n",
       "                base: '/static/base',\n",
       "              },\n",
       "            });\n",
       "          </script>\n",
       "          "
      ],
      "text/plain": [
       "<IPython.core.display.HTML object>"
      ]
     },
     "metadata": {},
     "output_type": "display_data"
    }
   ],
   "source": [
    "%%ml dataset create\n",
    "name: newsgroup_data\n",
    "format: csv\n",
    "train: ./data/train.csv\n",
    "eval: ./data/eval.csv\n",
    "schema:\n",
    "    - name: news_label\n",
    "      type: STRING\n",
    "    - name: text\n",
    "      type: STRING"
   ]
  },
  {
   "cell_type": "code",
   "execution_count": 5,
   "metadata": {
    "collapsed": false
   },
   "outputs": [
    {
     "data": {
      "text/html": [
       "\n",
       "          <script src=\"/static/components/requirejs/require.js\"></script>\n",
       "          <script>\n",
       "            requirejs.config({\n",
       "              paths: {\n",
       "                base: '/static/base',\n",
       "              },\n",
       "            });\n",
       "          </script>\n",
       "          "
      ],
      "text/plain": [
       "<IPython.core.display.HTML object>"
      ]
     },
     "metadata": {},
     "output_type": "display_data"
    },
    {
     "name": "stdout",
     "output_type": "stream",
     "text": [
      "train data instances: 11314\n",
      "eval data instances: 7532\n"
     ]
    }
   ],
   "source": [
    "%%ml dataset explore\n",
    "name: newsgroup_data"
   ]
  },
  {
   "cell_type": "markdown",
   "metadata": {},
   "source": [
    "## Step 1: Analyze\n",
    "The first step in the MLWorkbench workflow is to analyze the data for the requested transformations. We are going to build a bag of words representation on the text and use this in a linear model. Therefore, the analyze step will compute the vocabularies and related statistics of the data for traing."
   ]
  },
  {
   "cell_type": "code",
   "execution_count": 6,
   "metadata": {
    "codeCollapsed": false,
    "collapsed": false,
    "hiddenCell": false
   },
   "outputs": [
    {
     "data": {
      "text/html": [
       "\n",
       "          <script src=\"/static/components/requirejs/require.js\"></script>\n",
       "          <script>\n",
       "            requirejs.config({\n",
       "              paths: {\n",
       "                base: '/static/base',\n",
       "              },\n",
       "            });\n",
       "          </script>\n",
       "          "
      ],
      "text/plain": [
       "<IPython.core.display.HTML object>"
      ]
     },
     "metadata": {},
     "output_type": "display_data"
    },
    {
     "name": "stdout",
     "output_type": "stream",
     "text": [
      "Expanding any file patterns...\n",
      "file list computed.\n",
      "Analyzing file /content/datalab/workspace/text_classification_20newsgroup/data/train.csv...\n",
      "file /content/datalab/workspace/text_classification_20newsgroup/data/train.csv analyzed.\n"
     ]
    }
   ],
   "source": [
    "%%ml analyze\n",
    "output: ./analysis\n",
    "training_data: newsgroup_data\n",
    "features:\n",
    "    news_label:\n",
    "        transform: target\n",
    "    text:\n",
    "        transform: bag_of_words"
   ]
  },
  {
   "cell_type": "code",
   "execution_count": 7,
   "metadata": {
    "collapsed": false
   },
   "outputs": [
    {
     "data": {
      "text/html": [
       "\n",
       "          <script src=\"/static/components/requirejs/require.js\"></script>\n",
       "          <script>\n",
       "            requirejs.config({\n",
       "              paths: {\n",
       "                base: '/static/base',\n",
       "              },\n",
       "            });\n",
       "          </script>\n",
       "          "
      ],
      "text/plain": [
       "<IPython.core.display.HTML object>"
      ]
     },
     "metadata": {},
     "output_type": "display_data"
    },
    {
     "name": "stdout",
     "output_type": "stream",
     "text": [
      "features.json  schema.json  stats.json\tvocab_news_label.csv  vocab_text.csv\r\n"
     ]
    }
   ],
   "source": [
    "!ls ./analysis"
   ]
  },
  {
   "cell_type": "markdown",
   "metadata": {},
   "source": [
    "## Step 2: Transform\n",
    "\n",
    "This step is optional as training can start from csv data (the same data used in the analysis step). The transform step performs some transformations on the input data and saves the results to a special TensorFlow file called a TFRecord file containing TF.Example protocol buffers. This allows training to start from preprocessed data. If this step is not used, training would have to perform the same preprocessing on every row of csv data every time it is used. As TensorFlow reads the same data row multiple times during training, this means the same row would be preprocessed multiple times. By writing the preprocessed data to disk, we can speed up training. Because the the 20 newsgroups data is small, this step does not matter, but we do it anyway for illustration. This step is recommended if there are text column in a dataset, and required if there are image columns in a dataset.\n",
    "\n",
    "We run the transform step for the training and eval data."
   ]
  },
  {
   "cell_type": "code",
   "execution_count": 8,
   "metadata": {
    "collapsed": false
   },
   "outputs": [
    {
     "data": {
      "text/html": [
       "\n",
       "          <script src=\"/static/components/requirejs/require.js\"></script>\n",
       "          <script>\n",
       "            requirejs.config({\n",
       "              paths: {\n",
       "                base: '/static/base',\n",
       "              },\n",
       "            });\n",
       "          </script>\n",
       "          "
      ],
      "text/plain": [
       "<IPython.core.display.HTML object>"
      ]
     },
     "metadata": {},
     "output_type": "display_data"
    }
   ],
   "source": [
    "!rm -rf ./transform"
   ]
  },
  {
   "cell_type": "code",
   "execution_count": 9,
   "metadata": {
    "collapsed": false
   },
   "outputs": [
    {
     "data": {
      "text/html": [
       "\n",
       "          <script src=\"/static/components/requirejs/require.js\"></script>\n",
       "          <script>\n",
       "            requirejs.config({\n",
       "              paths: {\n",
       "                base: '/static/base',\n",
       "              },\n",
       "            });\n",
       "          </script>\n",
       "          "
      ],
      "text/plain": [
       "<IPython.core.display.HTML object>"
      ]
     },
     "metadata": {},
     "output_type": "display_data"
    },
    {
     "name": "stdout",
     "output_type": "stream",
     "text": [
      "/usr/local/lib/python2.7/dist-packages/apache_beam/coders/typecoders.py:135: UserWarning: Using fallback coder for typehint: Any.\n",
      "  warnings.warn('Using fallback coder for typehint: %r.' % typehint)\n",
      "2017-10-17 19:38:14.541388: W tensorflow/core/platform/cpu_feature_guard.cc:45] The TensorFlow library wasn't compiled to use SSE4.1 instructions, but these are available on your machine and could speed up CPU computations.\n",
      "2017-10-17 19:38:14.541413: W tensorflow/core/platform/cpu_feature_guard.cc:45] The TensorFlow library wasn't compiled to use SSE4.2 instructions, but these are available on your machine and could speed up CPU computations.\n",
      "2017-10-17 19:38:14.541422: W tensorflow/core/platform/cpu_feature_guard.cc:45] The TensorFlow library wasn't compiled to use AVX instructions, but these are available on your machine and could speed up CPU computations.\n",
      "2017-10-17 19:38:14.541431: W tensorflow/core/platform/cpu_feature_guard.cc:45] The TensorFlow library wasn't compiled to use AVX2 instructions, but these are available on your machine and could speed up CPU computations.\n",
      "2017-10-17 19:38:14.541440: W tensorflow/core/platform/cpu_feature_guard.cc:45] The TensorFlow library wasn't compiled to use FMA instructions, but these are available on your machine and could speed up CPU computations.\n",
      "WARNING:root:Couldn't find python-snappy so the implementation of _TFRecordUtil._masked_crc32c is not as fast as it could be.\n",
      "/usr/local/lib/python2.7/dist-packages/apache_beam/coders/typecoders.py:135: UserWarning: Using fallback coder for typehint: Any.\n",
      "  warnings.warn('Using fallback coder for typehint: %r.' % typehint)\n",
      "2017-10-17 19:38:21.081467: W tensorflow/core/platform/cpu_feature_guard.cc:45] The TensorFlow library wasn't compiled to use SSE4.1 instructions, but these are available on your machine and could speed up CPU computations.\n",
      "2017-10-17 19:38:21.081491: W tensorflow/core/platform/cpu_feature_guard.cc:45] The TensorFlow library wasn't compiled to use SSE4.2 instructions, but these are available on your machine and could speed up CPU computations.\n",
      "2017-10-17 19:38:21.081500: W tensorflow/core/platform/cpu_feature_guard.cc:45] The TensorFlow library wasn't compiled to use AVX instructions, but these are available on your machine and could speed up CPU computations.\n",
      "2017-10-17 19:38:21.081508: W tensorflow/core/platform/cpu_feature_guard.cc:45] The TensorFlow library wasn't compiled to use AVX2 instructions, but these are available on your machine and could speed up CPU computations.\n",
      "2017-10-17 19:38:21.081513: W tensorflow/core/platform/cpu_feature_guard.cc:45] The TensorFlow library wasn't compiled to use FMA instructions, but these are available on your machine and could speed up CPU computations.\n",
      "WARNING:root:Couldn't find python-snappy so the implementation of _TFRecordUtil._masked_crc32c is not as fast as it could be.\n"
     ]
    }
   ],
   "source": [
    "%%ml transform --shuffle\n",
    "output: ./transform\n",
    "analysis: ./analysis\n",
    "training_data: newsgroup_data"
   ]
  },
  {
   "cell_type": "code",
   "execution_count": 10,
   "metadata": {
    "collapsed": false
   },
   "outputs": [
    {
     "data": {
      "text/html": [
       "\n",
       "          <script src=\"/static/components/requirejs/require.js\"></script>\n",
       "          <script>\n",
       "            requirejs.config({\n",
       "              paths: {\n",
       "                base: '/static/base',\n",
       "              },\n",
       "            });\n",
       "          </script>\n",
       "          "
      ],
      "text/plain": [
       "<IPython.core.display.HTML object>"
      ]
     },
     "metadata": {},
     "output_type": "display_data"
    },
    {
     "name": "stdout",
     "output_type": "stream",
     "text": [
      "total 3.1M\r\n",
      "-rw-r--r-- 1 root root    0 Oct 17 19:38 errors_eval-00000-of-00001.txt\r\n",
      "-rw-r--r-- 1 root root    0 Oct 17 19:38 errors_train-00000-of-00001.txt\r\n",
      "-rw-r--r-- 1 root root 1.2M Oct 17 19:38 eval-00000-of-00001.tfrecord.gz\r\n",
      "-rw-r--r-- 1 root root 2.0M Oct 17 19:38 train-00000-of-00001.tfrecord.gz\r\n"
     ]
    }
   ],
   "source": [
    "# note: the errors_* files are all 0 size, which means no error.\n",
    "!ls ./transform/ -l -h"
   ]
  },
  {
   "cell_type": "markdown",
   "metadata": {},
   "source": [
    "Create a \"transformed dataset\" to use in next step."
   ]
  },
  {
   "cell_type": "code",
   "execution_count": 12,
   "metadata": {
    "collapsed": false
   },
   "outputs": [
    {
     "data": {
      "text/html": [
       "\n",
       "          <script src=\"/static/components/requirejs/require.js\"></script>\n",
       "          <script>\n",
       "            requirejs.config({\n",
       "              paths: {\n",
       "                base: '/static/base',\n",
       "              },\n",
       "            });\n",
       "          </script>\n",
       "          "
      ],
      "text/plain": [
       "<IPython.core.display.HTML object>"
      ]
     },
     "metadata": {},
     "output_type": "display_data"
    }
   ],
   "source": [
    "%%ml dataset create\n",
    "name: newsgroup_transformed\n",
    "train: ./transform/train-*\n",
    "eval: ./transform/eval-*\n",
    "format: transformed  "
   ]
  },
  {
   "cell_type": "markdown",
   "metadata": {},
   "source": [
    "## Step 3: Training\n",
    "\n",
    "MLWorkbench automatically builds standard TensorFlow models without you having to write any TensorFlow code. "
   ]
  },
  {
   "cell_type": "code",
   "execution_count": 13,
   "metadata": {
    "collapsed": false
   },
   "outputs": [
    {
     "data": {
      "text/html": [
       "\n",
       "          <script src=\"/static/components/requirejs/require.js\"></script>\n",
       "          <script>\n",
       "            requirejs.config({\n",
       "              paths: {\n",
       "                base: '/static/base',\n",
       "              },\n",
       "            });\n",
       "          </script>\n",
       "          "
      ],
      "text/plain": [
       "<IPython.core.display.HTML object>"
      ]
     },
     "metadata": {},
     "output_type": "display_data"
    }
   ],
   "source": [
    "# Training should use an empty output folder. So if you run training multiple times,\n",
    "# use different folders or remove the output from the previous run.\n",
    "!rm -fr ./train"
   ]
  },
  {
   "cell_type": "markdown",
   "metadata": {},
   "source": [
    "The following training step takes about 10~15 minutes."
   ]
  },
  {
   "cell_type": "code",
   "execution_count": 14,
   "metadata": {
    "collapsed": false
   },
   "outputs": [
    {
     "data": {
      "text/html": [
       "\n",
       "          <script src=\"/static/components/requirejs/require.js\"></script>\n",
       "          <script>\n",
       "            requirejs.config({\n",
       "              paths: {\n",
       "                base: '/static/base',\n",
       "              },\n",
       "            });\n",
       "          </script>\n",
       "          "
      ],
      "text/plain": [
       "<IPython.core.display.HTML object>"
      ]
     },
     "metadata": {},
     "output_type": "display_data"
    },
    {
     "data": {
      "text/html": [
       "<p>TensorBoard was started successfully with pid 22958. Click <a href=\"/_proxy/43610/\" target=\"_blank\">here</a> to access it.</p>"
      ]
     },
     "metadata": {},
     "output_type": "display_data"
    }
   ],
   "source": [
    "%%ml train\n",
    "output: ./train\n",
    "analysis: ./analysis/\n",
    "training_data: $newsgroup_transformed\n",
    "model_args:\n",
    "    model: linear_classification\n",
    "    top-n: 5"
   ]
  },
  {
   "cell_type": "markdown",
   "metadata": {},
   "source": [
    "Go to Tensorboard (link shown above) to monitor the training progress. Note that training stops when it detects accuracy is no longer increasing for eval data."
   ]
  },
  {
   "cell_type": "code",
   "execution_count": 15,
   "metadata": {
    "collapsed": false
   },
   "outputs": [
    {
     "data": {
      "text/html": [
       "\n",
       "          <script src=\"/static/components/requirejs/require.js\"></script>\n",
       "          <script>\n",
       "            requirejs.config({\n",
       "              paths: {\n",
       "                base: '/static/base',\n",
       "              },\n",
       "            });\n",
       "          </script>\n",
       "          "
      ],
      "text/plain": [
       "<IPython.core.display.HTML object>"
      ]
     },
     "metadata": {},
     "output_type": "display_data"
    },
    {
     "data": {
      "text/plain": [
       "{u'accuracy': {'./train/train/eval'},\n",
       " u'global_step/sec': {'./train/train'},\n",
       " u'input_producer/fraction_of_32_full': {'./train/train'},\n",
       " u'loss': {'./train/train', './train/train/eval'},\n",
       " u'shuffle_batch/fraction_over_10_of_960_full': {'./train/train'}}"
      ]
     },
     "execution_count": 15,
     "metadata": {},
     "output_type": "execute_result"
    }
   ],
   "source": [
    "# You can also plot the summary events which will be saved with the notebook.\n",
    "\n",
    "from google.datalab.ml import Summary\n",
    "\n",
    "summary = Summary('./train')\n",
    "summary.list_events()"
   ]
  },
  {
   "cell_type": "code",
   "execution_count": 16,
   "metadata": {
    "collapsed": false
   },
   "outputs": [
    {
     "data": {
      "text/html": [
       "\n",
       "          <script src=\"/static/components/requirejs/require.js\"></script>\n",
       "          <script>\n",
       "            requirejs.config({\n",
       "              paths: {\n",
       "                base: '/static/base',\n",
       "              },\n",
       "            });\n",
       "          </script>\n",
       "          "
      ],
      "text/plain": [
       "<IPython.core.display.HTML object>"
      ]
     },
     "metadata": {},
     "output_type": "display_data"
    },
    {
     "data": {
      "image/png": "[encoded data removed]",
      "text/plain": [
       "<matplotlib.figure.Figure at 0x7fab1a9df250>"
      ]
     },
     "metadata": {},
     "output_type": "display_data"
    }
   ],
   "source": [
    "summary.plot(['loss', 'accuracy'])"
   ]
  },
  {
   "cell_type": "markdown",
   "metadata": {},
   "source": [
    "The output of training is two models, one in training_output/model and another in training_output/evaluation_model. These tensorflow models are identical except the latter assumes the target column is part of the input and copies the target value to the output. Therefore, the latter is ideal for evaluation."
   ]
  },
  {
   "cell_type": "code",
   "execution_count": 27,
   "metadata": {
    "collapsed": false
   },
   "outputs": [
    {
     "data": {
      "text/html": [
       "\n",
       "          <script src=\"/static/components/requirejs/require.js\"></script>\n",
       "          <script>\n",
       "            requirejs.config({\n",
       "              paths: {\n",
       "                base: '/static/base',\n",
       "              },\n",
       "            });\n",
       "          </script>\n",
       "          "
      ],
      "text/plain": [
       "<IPython.core.display.HTML object>"
      ]
     },
     "metadata": {},
     "output_type": "display_data"
    },
    {
     "name": "stdout",
     "output_type": "stream",
     "text": [
      "assets.extra  saved_model.pb  variables\r\n"
     ]
    }
   ],
   "source": [
    "!ls ./train/model"
   ]
  },
  {
   "cell_type": "markdown",
   "metadata": {},
   "source": [
    "## Step 4: Evaluation using batch prediction\n",
    "\n",
    "Below, we use the evaluation model and run batch prediction locally. Batch prediction is needed for large datasets where the data cannot fit in memory. For demo purpose, we will use the training evaluation data again."
   ]
  },
  {
   "cell_type": "code",
   "execution_count": 17,
   "metadata": {
    "collapsed": false
   },
   "outputs": [
    {
     "data": {
      "text/html": [
       "\n",
       "          <script src=\"/static/components/requirejs/require.js\"></script>\n",
       "          <script>\n",
       "            requirejs.config({\n",
       "              paths: {\n",
       "                base: '/static/base',\n",
       "              },\n",
       "            });\n",
       "          </script>\n",
       "          "
      ],
      "text/plain": [
       "<IPython.core.display.HTML object>"
      ]
     },
     "metadata": {},
     "output_type": "display_data"
    },
    {
     "name": "stdout",
     "output_type": "stream",
     "text": [
      "local prediction...\n",
      "INFO:tensorflow:Restoring parameters from ./train/evaluation_model/variables/variables\n",
      "done.\n"
     ]
    }
   ],
   "source": [
    "%%ml batch_predict\n",
    "model: ./train/evaluation_model/\n",
    "output: ./batch_predict\n",
    "format: csv\n",
    "prediction_data:\n",
    "    csv: ./data/eval.csv"
   ]
  },
  {
   "cell_type": "code",
   "execution_count": 18,
   "metadata": {
    "collapsed": false
   },
   "outputs": [
    {
     "data": {
      "text/html": [
       "\n",
       "          <script src=\"/static/components/requirejs/require.js\"></script>\n",
       "          <script>\n",
       "            requirejs.config({\n",
       "              paths: {\n",
       "                base: '/static/base',\n",
       "              },\n",
       "            });\n",
       "          </script>\n",
       "          "
      ],
      "text/plain": [
       "<IPython.core.display.HTML object>"
      ]
     },
     "metadata": {},
     "output_type": "display_data"
    },
    {
     "name": "stdout",
     "output_type": "stream",
     "text": [
      "predict_results_eval.csv  predict_results_schema.json\r\n"
     ]
    }
   ],
   "source": [
    "# It creates a results csv file, and a results schema json file.\n",
    "!ls ./batch_predict"
   ]
  },
  {
   "cell_type": "markdown",
   "metadata": {},
   "source": [
    "Note that the output of prediction is a csv file containing the score for each label class. 'predicted_n' is the label for the nth largest score. We care about 'predicted', the final model prediction. "
   ]
  },
  {
   "cell_type": "code",
   "execution_count": 19,
   "metadata": {
    "collapsed": false
   },
   "outputs": [
    {
     "data": {
      "text/html": [
       "\n",
       "          <script src=\"/static/components/requirejs/require.js\"></script>\n",
       "          <script>\n",
       "            requirejs.config({\n",
       "              paths: {\n",
       "                base: '/static/base',\n",
       "              },\n",
       "            });\n",
       "          </script>\n",
       "          "
      ],
      "text/plain": [
       "<IPython.core.display.HTML object>"
      ]
     },
     "metadata": {},
     "output_type": "display_data"
    },
    {
     "name": "stdout",
     "output_type": "stream",
     "text": [
      "rec.autos,comp.sys.mac.hardware,rec.sport.baseball,sci.space,soc.religion.christian,0.374961,0.223007,0.0782221,0.0495947,0.0372713,rec.autos\r\n",
      "comp.graphics,comp.windows.x,sci.space,rec.motorcycles,comp.os.ms-windows.misc,0.509809,0.301426,0.0250255,0.0206116,0.0193489,comp.windows.x\r\n",
      "rec.motorcycles,rec.sport.baseball,comp.os.ms-windows.misc,alt.atheism,comp.sys.mac.hardware,0.0747842,0.0708097,0.0658317,0.05767,0.0541744,alt.atheism\r\n",
      "talk.politics.guns,talk.politics.mideast,alt.atheism,talk.politics.misc,sci.crypt,0.416234,0.351695,0.134796,0.0944993,0.00145118,talk.politics.mideast\r\n",
      "alt.atheism,rec.autos,talk.religion.misc,sci.space,comp.sys.mac.hardware,0.154862,0.0754523,0.0753221,0.0675569,0.0630613,talk.religion.misc\r\n"
     ]
    }
   ],
   "source": [
    "!head -n 5 ./batch_predict/predict_results_eval.csv"
   ]
  },
  {
   "cell_type": "code",
   "execution_count": 20,
   "metadata": {
    "collapsed": false
   },
   "outputs": [
    {
     "data": {
      "text/html": [
       "\n",
       "          <script src=\"/static/components/requirejs/require.js\"></script>\n",
       "          <script>\n",
       "            requirejs.config({\n",
       "              paths: {\n",
       "                base: '/static/base',\n",
       "              },\n",
       "            });\n",
       "          </script>\n",
       "          "
      ],
      "text/plain": [
       "<IPython.core.display.HTML object>"
      ]
     },
     "metadata": {},
     "output_type": "display_data"
    },
    {
     "data": {
      "image/png": "[encoded data removed]",
      "text/plain": [
       "<matplotlib.figure.Figure at 0x7fab58e80190>"
      ]
     },
     "metadata": {},
     "output_type": "display_data"
    }
   ],
   "source": [
    "%%ml evaluate confusion_matrix --plot\n",
    "csv: ./batch_predict/predict_results_eval.csv"
   ]
  },
  {
   "cell_type": "code",
   "execution_count": 21,
   "metadata": {
    "collapsed": false
   },
   "outputs": [
    {
     "data": {
      "text/html": [
       "\n",
       "          <script src=\"/static/components/requirejs/require.js\"></script>\n",
       "          <script>\n",
       "            requirejs.config({\n",
       "              paths: {\n",
       "                base: '/static/base',\n",
       "              },\n",
       "            });\n",
       "          </script>\n",
       "          "
      ],
      "text/plain": [
       "<IPython.core.display.HTML object>"
      ]
     },
     "metadata": {},
     "output_type": "display_data"
    },
    {
     "data": {
      "text/html": [
       "<div>\n",
       "<table border=\"1\" class=\"dataframe\">\n",
       "  <thead>\n",
       "    <tr style=\"text-align: right;\">\n",
       "      <th></th>\n",
       "      <th>accuracy</th>\n",
       "      <th>count</th>\n",
       "      <th>target</th>\n",
       "    </tr>\n",
       "  </thead>\n",
       "  <tbody>\n",
       "    <tr>\n",
       "      <th>0</th>\n",
       "      <td>0.445141</td>\n",
       "      <td>319</td>\n",
       "      <td>alt.atheism</td>\n",
       "    </tr>\n",
       "    <tr>\n",
       "      <th>1</th>\n",
       "      <td>0.658098</td>\n",
       "      <td>389</td>\n",
       "      <td>comp.graphics</td>\n",
       "    </tr>\n",
       "    <tr>\n",
       "      <th>2</th>\n",
       "      <td>0.609137</td>\n",
       "      <td>394</td>\n",
       "      <td>comp.os.ms-windows.misc</td>\n",
       "    </tr>\n",
       "    <tr>\n",
       "      <th>3</th>\n",
       "      <td>0.563776</td>\n",
       "      <td>392</td>\n",
       "      <td>comp.sys.ibm.pc.hardware</td>\n",
       "    </tr>\n",
       "    <tr>\n",
       "      <th>4</th>\n",
       "      <td>0.618182</td>\n",
       "      <td>385</td>\n",
       "      <td>comp.sys.mac.hardware</td>\n",
       "    </tr>\n",
       "    <tr>\n",
       "      <th>5</th>\n",
       "      <td>0.675949</td>\n",
       "      <td>395</td>\n",
       "      <td>comp.windows.x</td>\n",
       "    </tr>\n",
       "    <tr>\n",
       "      <th>6</th>\n",
       "      <td>0.787179</td>\n",
       "      <td>390</td>\n",
       "      <td>misc.forsale</td>\n",
       "    </tr>\n",
       "    <tr>\n",
       "      <th>7</th>\n",
       "      <td>0.674242</td>\n",
       "      <td>396</td>\n",
       "      <td>rec.autos</td>\n",
       "    </tr>\n",
       "    <tr>\n",
       "      <th>8</th>\n",
       "      <td>0.723618</td>\n",
       "      <td>398</td>\n",
       "      <td>rec.motorcycles</td>\n",
       "    </tr>\n",
       "    <tr>\n",
       "      <th>9</th>\n",
       "      <td>0.841310</td>\n",
       "      <td>397</td>\n",
       "      <td>rec.sport.baseball</td>\n",
       "    </tr>\n",
       "    <tr>\n",
       "      <th>10</th>\n",
       "      <td>0.819549</td>\n",
       "      <td>399</td>\n",
       "      <td>rec.sport.hockey</td>\n",
       "    </tr>\n",
       "    <tr>\n",
       "      <th>11</th>\n",
       "      <td>0.633838</td>\n",
       "      <td>396</td>\n",
       "      <td>sci.crypt</td>\n",
       "    </tr>\n",
       "    <tr>\n",
       "      <th>12</th>\n",
       "      <td>0.536896</td>\n",
       "      <td>393</td>\n",
       "      <td>sci.electronics</td>\n",
       "    </tr>\n",
       "    <tr>\n",
       "      <th>13</th>\n",
       "      <td>0.679293</td>\n",
       "      <td>396</td>\n",
       "      <td>sci.med</td>\n",
       "    </tr>\n",
       "    <tr>\n",
       "      <th>14</th>\n",
       "      <td>0.700508</td>\n",
       "      <td>394</td>\n",
       "      <td>sci.space</td>\n",
       "    </tr>\n",
       "    <tr>\n",
       "      <th>15</th>\n",
       "      <td>0.693467</td>\n",
       "      <td>398</td>\n",
       "      <td>soc.religion.christian</td>\n",
       "    </tr>\n",
       "    <tr>\n",
       "      <th>16</th>\n",
       "      <td>0.618132</td>\n",
       "      <td>364</td>\n",
       "      <td>talk.politics.guns</td>\n",
       "    </tr>\n",
       "    <tr>\n",
       "      <th>17</th>\n",
       "      <td>0.675532</td>\n",
       "      <td>376</td>\n",
       "      <td>talk.politics.mideast</td>\n",
       "    </tr>\n",
       "    <tr>\n",
       "      <th>18</th>\n",
       "      <td>0.416129</td>\n",
       "      <td>310</td>\n",
       "      <td>talk.politics.misc</td>\n",
       "    </tr>\n",
       "    <tr>\n",
       "      <th>19</th>\n",
       "      <td>0.254980</td>\n",
       "      <td>251</td>\n",
       "      <td>talk.religion.misc</td>\n",
       "    </tr>\n",
       "    <tr>\n",
       "      <th>20</th>\n",
       "      <td>0.642857</td>\n",
       "      <td>7532</td>\n",
       "      <td>_all</td>\n",
       "    </tr>\n",
       "  </tbody>\n",
       "</table>\n",
       "</div>"
      ],
      "text/plain": [
       "    accuracy  count                    target\n",
       "0   0.445141    319               alt.atheism\n",
       "1   0.658098    389             comp.graphics\n",
       "2   0.609137    394   comp.os.ms-windows.misc\n",
       "3   0.563776    392  comp.sys.ibm.pc.hardware\n",
       "4   0.618182    385     comp.sys.mac.hardware\n",
       "5   0.675949    395            comp.windows.x\n",
       "6   0.787179    390              misc.forsale\n",
       "7   0.674242    396                 rec.autos\n",
       "8   0.723618    398           rec.motorcycles\n",
       "9   0.841310    397        rec.sport.baseball\n",
       "10  0.819549    399          rec.sport.hockey\n",
       "11  0.633838    396                 sci.crypt\n",
       "12  0.536896    393           sci.electronics\n",
       "13  0.679293    396                   sci.med\n",
       "14  0.700508    394                 sci.space\n",
       "15  0.693467    398    soc.religion.christian\n",
       "16  0.618132    364        talk.politics.guns\n",
       "17  0.675532    376     talk.politics.mideast\n",
       "18  0.416129    310        talk.politics.misc\n",
       "19  0.254980    251        talk.religion.misc\n",
       "20  0.642857   7532                      _all"
      ]
     },
     "execution_count": 21,
     "metadata": {},
     "output_type": "execute_result"
    }
   ],
   "source": [
    "%%ml evaluate accuracy\n",
    "csv: ./batch_predict/predict_results_eval.csv"
   ]
  },
  {
   "cell_type": "markdown",
   "metadata": {},
   "source": [
    "## Step 5: BigQuery to analyze evaluate results\n",
    "\n",
    "Sometimes you want to query your prediction/evaluation results using SQL. It is easy."
   ]
  },
  {
   "cell_type": "code",
   "execution_count": 165,
   "metadata": {
    "collapsed": false
   },
   "outputs": [
    {
     "name": "stdout",
     "output_type": "stream",
     "text": [
      "Creating gs://bq-mlworkbench-20news-lab/...\n",
      "ServiceException: 409 Bucket bq-mlworkbench-20news-lab already exists.\n",
      "Copying file://./batch_predict/predict_results_eval.csv [Content-Type=text/csv]...\n",
      "/ [1 files][697.1 KiB/697.1 KiB]                                                \n",
      "Operation completed over 1 objects/697.1 KiB.                                    \n"
     ]
    }
   ],
   "source": [
    "# Create bucket\n",
    "!gsutil mb gs://bq-mlworkbench-20news-lab\n",
    "!gsutil cp -r ./batch_predict/predict_results_eval.csv gs://bq-mlworkbench-20news-lab"
   ]
  },
  {
   "cell_type": "code",
   "execution_count": 166,
   "metadata": {
    "collapsed": false
   },
   "outputs": [
    {
     "data": {
      "text/plain": [
       "Job bradley-playground/job_qiBO9lW4tEGq4XHFVMN7f9lpXfhI completed"
      ]
     },
     "execution_count": 166,
     "metadata": {},
     "output_type": "execute_result"
    }
   ],
   "source": [
    "# Use Datalab's Bigquery API to load CSV files into table.\n",
    "\n",
    "import google.datalab.bigquery as bq\n",
    "import json\n",
    "\n",
    "with open('./batch_predict/predict_results_schema.json', 'r') as f:\n",
    "    schema = json.load(f)\n",
    "\n",
    "# Create BQ Dataset\n",
    "bq.Dataset('newspredict').create()\n",
    "\n",
    "# Create the table\n",
    "table = bq.Table('newspredict.result1').create(schema=schema, overwrite=True)\n",
    "table.load('gs://bq-mlworkbench-20news-lab/predict_results_eval.csv', mode='overwrite',\n",
    "           source_format='csv', csv_options=bq.CSVOptions(skip_leading_rows=1))"
   ]
  },
  {
   "cell_type": "markdown",
   "metadata": {},
   "source": [
    "Now, run any SQL queries on \"table newspredict.result1\". Below we query all wrong predictions."
   ]
  },
  {
   "cell_type": "code",
   "execution_count": 168,
   "metadata": {
    "collapsed": false
   },
   "outputs": [
    {
     "data": {
      "text/html": [
       "\n",
       "    <div class=\"bqtv\" id=\"1_150283532539\"><table><tr><th>predicted</th><th>predicted_2</th><th>predicted_3</th><th>probability</th><th>probability_2</th><th>probability_3</th><th>target</th></tr><tr><td>sci.space</td><td>sci.med</td><td>rec.autos</td><td>0.086385</td><td>0.0773015</td><td>0.0725528</td><td>sci.med</td></tr><tr><td>rec.sport.baseball</td><td>sci.med</td><td>rec.autos</td><td>0.108085</td><td>0.0840068</td><td>0.0808425</td><td>sci.med</td></tr><tr><td>soc.religion.christian</td><td>sci.med</td><td>rec.autos</td><td>0.166548</td><td>0.119935</td><td>0.0955845</td><td>sci.med</td></tr><tr><td>misc.forsale</td><td>sci.med</td><td>sci.space</td><td>0.129705</td><td>0.110822</td><td>0.0921078</td><td>sci.med</td></tr><tr><td>sci.electronics</td><td>sci.med</td><td>sci.space</td><td>0.844139</td><td>0.14984</td><td>0.00210459</td><td>sci.med</td></tr><tr><td>comp.graphics</td><td>sci.med</td><td>misc.forsale</td><td>0.115064</td><td>0.0961417</td><td>0.0907061</td><td>sci.med</td></tr><tr><td>sci.electronics</td><td>sci.med</td><td>misc.forsale</td><td>0.279434</td><td>0.169235</td><td>0.151345</td><td>sci.med</td></tr><tr><td>rec.motorcycles</td><td>sci.med</td><td>comp.graphics</td><td>0.110692</td><td>0.0906959</td><td>0.0819244</td><td>sci.med</td></tr><tr><td>comp.graphics</td><td>sci.med</td><td>comp.windows.x</td><td>0.178217</td><td>0.153884</td><td>0.0879586</td><td>sci.med</td></tr><tr><td>comp.sys.ibm.pc.hardware</td><td>sci.med</td><td>comp.windows.x</td><td>0.161895</td><td>0.146294</td><td>0.123733</td><td>sci.med</td></tr><tr><td>rec.autos</td><td>sci.med</td><td>rec.motorcycles</td><td>0.127926</td><td>0.104695</td><td>0.09397</td><td>sci.med</td></tr><tr><td>rec.autos</td><td>sci.med</td><td>rec.motorcycles</td><td>0.219448</td><td>0.179173</td><td>0.0775275</td><td>sci.med</td></tr><tr><td>rec.autos</td><td>sci.med</td><td>rec.motorcycles</td><td>0.128826</td><td>0.0906509</td><td>0.0689713</td><td>sci.med</td></tr><tr><td>misc.forsale</td><td>sci.med</td><td>rec.motorcycles</td><td>0.119422</td><td>0.0849575</td><td>0.0721298</td><td>sci.med</td></tr><tr><td>sci.electronics</td><td>sci.med</td><td>rec.motorcycles</td><td>0.108532</td><td>0.09888</td><td>0.0858221</td><td>sci.med</td></tr><tr><td>comp.graphics</td><td>sci.med</td><td>sci.electronics</td><td>0.143502</td><td>0.117116</td><td>0.103171</td><td>sci.med</td></tr><tr><td>comp.os.ms-windows.misc</td><td>sci.med</td><td>sci.electronics</td><td>0.180585</td><td>0.163609</td><td>0.12798</td><td>sci.med</td></tr><tr><td>rec.motorcycles</td><td>sci.med</td><td>rec.sport.hockey</td><td>0.393916</td><td>0.18087</td><td>0.0785106</td><td>sci.med</td></tr><tr><td>rec.autos</td><td>sci.med</td><td>rec.sport.baseball</td><td>0.0984208</td><td>0.0894553</td><td>0.0675032</td><td>sci.med</td></tr><tr><td>soc.religion.christian</td><td>sci.med</td><td>rec.sport.baseball</td><td>0.205554</td><td>0.204079</td><td>0.131979</td><td>sci.med</td></tr><tr><td>sci.space</td><td>sci.med</td><td>talk.politics.guns</td><td>0.106395</td><td>0.101098</td><td>0.0705577</td><td>sci.med</td></tr><tr><td>talk.politics.misc</td><td>sci.med</td><td>talk.politics.guns</td><td>0.804928</td><td>0.194365</td><td>0.000563781</td><td>sci.med</td></tr><tr><td>soc.religion.christian</td><td>sci.med</td><td>talk.politics.guns</td><td>0.138424</td><td>0.0999248</td><td>0.092503</td><td>sci.med</td></tr><tr><td>talk.politics.mideast</td><td>sci.med</td><td>talk.politics.misc</td><td>0.641929</td><td>0.316975</td><td>0.0123509</td><td>sci.med</td></tr><tr><td>misc.forsale</td><td>sci.med</td><td>comp.sys.mac.hardware</td><td>0.179428</td><td>0.14201</td><td>0.107656</td><td>sci.med</td></tr></table></div>\n",
       "    <br />(rows: 2750, time: 1.2s,   708KB processed, job: job_ROUeKviLQ6de7-9Fgj3EtJoKy6FD)<br />\n",
       "    <script>\n",
       "\n",
       "      require.config({\n",
       "        paths: {\n",
       "          d3: '//cdnjs.cloudflare.com/ajax/libs/d3/3.4.13/d3',\n",
       "          plotly: 'https://cdn.plot.ly/plotly-1.5.1.min.js?noext',\n",
       "          jquery: '//ajax.googleapis.com/ajax/libs/jquery/2.0.0/jquery.min'\n",
       "        },\n",
       "        map: {\n",
       "          '*': {\n",
       "            datalab: 'nbextensions/gcpdatalab'\n",
       "          }\n",
       "        },\n",
       "        shim: {\n",
       "          plotly: {\n",
       "            deps: ['d3', 'jquery'],\n",
       "            exports: 'plotly'\n",
       "          }\n",
       "        }\n",
       "      });\n",
       "\n",
       "      require(['datalab/charting', 'datalab/element!1_150283532539', 'base/js/events',\n",
       "          'datalab/style!/nbextensions/gcpdatalab/charting.css'],\n",
       "        function(charts, dom, events) {\n",
       "          charts.render('gcharts', dom, events, 'paged_table', [], {\"rows\": [{\"c\": [{\"v\": \"sci.space\"}, {\"v\": \"sci.med\"}, {\"v\": \"rec.autos\"}, {\"v\": 0.086385}, {\"v\": 0.0773015}, {\"v\": 0.0725528}, {\"v\": \"sci.med\"}]}, {\"c\": [{\"v\": \"rec.sport.baseball\"}, {\"v\": \"sci.med\"}, {\"v\": \"rec.autos\"}, {\"v\": 0.108085}, {\"v\": 0.0840068}, {\"v\": 0.0808425}, {\"v\": \"sci.med\"}]}, {\"c\": [{\"v\": \"soc.religion.christian\"}, {\"v\": \"sci.med\"}, {\"v\": \"rec.autos\"}, {\"v\": 0.166548}, {\"v\": 0.119935}, {\"v\": 0.0955845}, {\"v\": \"sci.med\"}]}, {\"c\": [{\"v\": \"misc.forsale\"}, {\"v\": \"sci.med\"}, {\"v\": \"sci.space\"}, {\"v\": 0.129705}, {\"v\": 0.110822}, {\"v\": 0.0921078}, {\"v\": \"sci.med\"}]}, {\"c\": [{\"v\": \"sci.electronics\"}, {\"v\": \"sci.med\"}, {\"v\": \"sci.space\"}, {\"v\": 0.844139}, {\"v\": 0.14984}, {\"v\": 0.00210459}, {\"v\": \"sci.med\"}]}, {\"c\": [{\"v\": \"comp.graphics\"}, {\"v\": \"sci.med\"}, {\"v\": \"misc.forsale\"}, {\"v\": 0.115064}, {\"v\": 0.0961417}, {\"v\": 0.0907061}, {\"v\": \"sci.med\"}]}, {\"c\": [{\"v\": \"sci.electronics\"}, {\"v\": \"sci.med\"}, {\"v\": \"misc.forsale\"}, {\"v\": 0.279434}, {\"v\": 0.169235}, {\"v\": 0.151345}, {\"v\": \"sci.med\"}]}, {\"c\": [{\"v\": \"rec.motorcycles\"}, {\"v\": \"sci.med\"}, {\"v\": \"comp.graphics\"}, {\"v\": 0.110692}, {\"v\": 0.0906959}, {\"v\": 0.0819244}, {\"v\": \"sci.med\"}]}, {\"c\": [{\"v\": \"comp.graphics\"}, {\"v\": \"sci.med\"}, {\"v\": \"comp.windows.x\"}, {\"v\": 0.178217}, {\"v\": 0.153884}, {\"v\": 0.0879586}, {\"v\": \"sci.med\"}]}, {\"c\": [{\"v\": \"comp.sys.ibm.pc.hardware\"}, {\"v\": \"sci.med\"}, {\"v\": \"comp.windows.x\"}, {\"v\": 0.161895}, {\"v\": 0.146294}, {\"v\": 0.123733}, {\"v\": \"sci.med\"}]}, {\"c\": [{\"v\": \"rec.autos\"}, {\"v\": \"sci.med\"}, {\"v\": \"rec.motorcycles\"}, {\"v\": 0.127926}, {\"v\": 0.104695}, {\"v\": 0.09397}, {\"v\": \"sci.med\"}]}, {\"c\": [{\"v\": \"rec.autos\"}, {\"v\": \"sci.med\"}, {\"v\": \"rec.motorcycles\"}, {\"v\": 0.219448}, {\"v\": 0.179173}, {\"v\": 0.0775275}, {\"v\": \"sci.med\"}]}, {\"c\": [{\"v\": \"rec.autos\"}, {\"v\": \"sci.med\"}, {\"v\": \"rec.motorcycles\"}, {\"v\": 0.128826}, {\"v\": 0.0906509}, {\"v\": 0.0689713}, {\"v\": \"sci.med\"}]}, {\"c\": [{\"v\": \"misc.forsale\"}, {\"v\": \"sci.med\"}, {\"v\": \"rec.motorcycles\"}, {\"v\": 0.119422}, {\"v\": 0.0849575}, {\"v\": 0.0721298}, {\"v\": \"sci.med\"}]}, {\"c\": [{\"v\": \"sci.electronics\"}, {\"v\": \"sci.med\"}, {\"v\": \"rec.motorcycles\"}, {\"v\": 0.108532}, {\"v\": 0.09888}, {\"v\": 0.0858221}, {\"v\": \"sci.med\"}]}, {\"c\": [{\"v\": \"comp.graphics\"}, {\"v\": \"sci.med\"}, {\"v\": \"sci.electronics\"}, {\"v\": 0.143502}, {\"v\": 0.117116}, {\"v\": 0.103171}, {\"v\": \"sci.med\"}]}, {\"c\": [{\"v\": \"comp.os.ms-windows.misc\"}, {\"v\": \"sci.med\"}, {\"v\": \"sci.electronics\"}, {\"v\": 0.180585}, {\"v\": 0.163609}, {\"v\": 0.12798}, {\"v\": \"sci.med\"}]}, {\"c\": [{\"v\": \"rec.motorcycles\"}, {\"v\": \"sci.med\"}, {\"v\": \"rec.sport.hockey\"}, {\"v\": 0.393916}, {\"v\": 0.18087}, {\"v\": 0.0785106}, {\"v\": \"sci.med\"}]}, {\"c\": [{\"v\": \"rec.autos\"}, {\"v\": \"sci.med\"}, {\"v\": \"rec.sport.baseball\"}, {\"v\": 0.0984208}, {\"v\": 0.0894553}, {\"v\": 0.0675032}, {\"v\": \"sci.med\"}]}, {\"c\": [{\"v\": \"soc.religion.christian\"}, {\"v\": \"sci.med\"}, {\"v\": \"rec.sport.baseball\"}, {\"v\": 0.205554}, {\"v\": 0.204079}, {\"v\": 0.131979}, {\"v\": \"sci.med\"}]}, {\"c\": [{\"v\": \"sci.space\"}, {\"v\": \"sci.med\"}, {\"v\": \"talk.politics.guns\"}, {\"v\": 0.106395}, {\"v\": 0.101098}, {\"v\": 0.0705577}, {\"v\": \"sci.med\"}]}, {\"c\": [{\"v\": \"talk.politics.misc\"}, {\"v\": \"sci.med\"}, {\"v\": \"talk.politics.guns\"}, {\"v\": 0.804928}, {\"v\": 0.194365}, {\"v\": 0.000563781}, {\"v\": \"sci.med\"}]}, {\"c\": [{\"v\": \"soc.religion.christian\"}, {\"v\": \"sci.med\"}, {\"v\": \"talk.politics.guns\"}, {\"v\": 0.138424}, {\"v\": 0.0999248}, {\"v\": 0.092503}, {\"v\": \"sci.med\"}]}, {\"c\": [{\"v\": \"talk.politics.mideast\"}, {\"v\": \"sci.med\"}, {\"v\": \"talk.politics.misc\"}, {\"v\": 0.641929}, {\"v\": 0.316975}, {\"v\": 0.0123509}, {\"v\": \"sci.med\"}]}, {\"c\": [{\"v\": \"misc.forsale\"}, {\"v\": \"sci.med\"}, {\"v\": \"comp.sys.mac.hardware\"}, {\"v\": 0.179428}, {\"v\": 0.14201}, {\"v\": 0.107656}, {\"v\": \"sci.med\"}]}], \"cols\": [{\"type\": \"string\", \"id\": \"predicted\", \"label\": \"predicted\"}, {\"type\": \"string\", \"id\": \"predicted_2\", \"label\": \"predicted_2\"}, {\"type\": \"string\", \"id\": \"predicted_3\", \"label\": \"predicted_3\"}, {\"type\": \"number\", \"id\": \"probability\", \"label\": \"probability\"}, {\"type\": \"number\", \"id\": \"probability_2\", \"label\": \"probability_2\"}, {\"type\": \"number\", \"id\": \"probability_3\", \"label\": \"probability_3\"}, {\"type\": \"string\", \"id\": \"target\", \"label\": \"target\"}]},\n",
       "            {\n",
       "              pageSize: 25,\n",
       "              cssClassNames:  {\n",
       "                tableRow: 'gchart-table-row',\n",
       "                headerRow: 'gchart-table-headerrow',\n",
       "                oddTableRow: 'gchart-table-oddrow',\n",
       "                selectedTableRow: 'gchart-table-selectedrow',\n",
       "                hoverTableRow: 'gchart-table-hoverrow',\n",
       "                tableCell: 'gchart-table-cell',\n",
       "                headerCell: 'gchart-table-headercell',\n",
       "                rowNumberCell: 'gchart-table-rownumcell'\n",
       "              }\n",
       "            },\n",
       "            {source_index: 0, fields: 'predicted,predicted_2,predicted_3,probability,probability_2,probability_3,target'},\n",
       "            0,\n",
       "            2750);\n",
       "        }\n",
       "      );\n",
       "    </script>\n",
       "  "
      ],
      "text/plain": [
       "QueryResultsTable job_ROUeKviLQ6de7-9Fgj3EtJoKy6FD"
      ]
     },
     "execution_count": 168,
     "metadata": {},
     "output_type": "execute_result"
    }
   ],
   "source": [
    "%%bq query\n",
    "SELECT * FROM newspredict.result1 WHERE predicted != target"
   ]
  },
  {
   "cell_type": "markdown",
   "metadata": {},
   "source": [
    "# Prediction"
   ]
  },
  {
   "cell_type": "markdown",
   "metadata": {},
   "source": [
    "## Local Instant Prediction\n",
    "\n",
    "The MLWorkbench also supports running prediction and displaying the results within the notebook. Note that we use the non-evaluation model below (./train/model) which takes input with no target column."
   ]
  },
  {
   "cell_type": "code",
   "execution_count": 37,
   "metadata": {
    "collapsed": false
   },
   "outputs": [
    {
     "data": {
      "text/html": [
       "\n",
       "          <script src=\"/static/components/requirejs/require.js\"></script>\n",
       "          <script>\n",
       "            requirejs.config({\n",
       "              paths: {\n",
       "                base: '/static/base',\n",
       "              },\n",
       "            });\n",
       "          </script>\n",
       "          "
      ],
      "text/plain": [
       "<IPython.core.display.HTML object>"
      ]
     },
     "metadata": {},
     "output_type": "display_data"
    },
    {
     "data": {
      "text/html": [
       "<table border=\"1\" class=\"dataframe\">\n",
       "  <thead>\n",
       "    <tr style=\"text-align: right;\">\n",
       "      <th>predicted</th>\n",
       "      <th>predicted_2</th>\n",
       "      <th>predicted_3</th>\n",
       "      <th>predicted_4</th>\n",
       "      <th>predicted_5</th>\n",
       "      <th>probability</th>\n",
       "      <th>probability_2</th>\n",
       "      <th>probability_3</th>\n",
       "      <th>probability_4</th>\n",
       "      <th>probability_5</th>\n",
       "      <th>text</th>\n",
       "    </tr>\n",
       "  </thead>\n",
       "  <tbody>\n",
       "    <tr>\n",
       "      <td>sci.space</td>\n",
       "      <td>rec.motorcycles</td>\n",
       "      <td>rec.sport.baseball</td>\n",
       "      <td>comp.graphics</td>\n",
       "      <td>rec.autos</td>\n",
       "      <td>0.093669</td>\n",
       "      <td>0.063219</td>\n",
       "      <td>0.061134</td>\n",
       "      <td>0.060603</td>\n",
       "      <td>0.057013</td>\n",
       "      <td>nasa</td>\n",
       "    </tr>\n",
       "    <tr>\n",
       "      <td>comp.os.ms-windows.misc</td>\n",
       "      <td>comp.graphics</td>\n",
       "      <td>comp.windows.x</td>\n",
       "      <td>misc.forsale</td>\n",
       "      <td>rec.motorcycles</td>\n",
       "      <td>0.144150</td>\n",
       "      <td>0.065617</td>\n",
       "      <td>0.063927</td>\n",
       "      <td>0.062258</td>\n",
       "      <td>0.056340</td>\n",
       "      <td>windows xp</td>\n",
       "    </tr>\n",
       "  </tbody>\n",
       "</table>"
      ],
      "text/plain": [
       "<IPython.core.display.HTML object>"
      ]
     },
     "metadata": {},
     "output_type": "display_data"
    }
   ],
   "source": [
    "%%ml predict\n",
    "model: ./train/model/\n",
    "headers: text\n",
    "prediction_data:\n",
    "  - nasa\n",
    "  - windows xp"
   ]
  },
  {
   "cell_type": "markdown",
   "metadata": {},
   "source": [
    "## Why Does My Model Predict this? Prediction Explanation.\n",
    "\n",
    "\"%%ml explain\" gives you insights on what are important features in the prediction data that contribute positively or negatively to certain labels. We use LIME under \"%%ml explain\". ([LIME](https://github.com/marcotcr/lime) is an open sourced library performing feature sensitivity analysis. It is based on the work presented in [this paper](https://arxiv.org/abs/1602.04938). LIME is included in Datalab.)\n",
    "\n",
    "In this case, we will check which words in text are contributing most to the predicted label. "
   ]
  },
  {
   "cell_type": "code",
   "execution_count": 22,
   "metadata": {
    "collapsed": false
   },
   "outputs": [
    {
     "data": {
      "text/html": [
       "\n",
       "          <script src=\"/static/components/requirejs/require.js\"></script>\n",
       "          <script>\n",
       "            requirejs.config({\n",
       "              paths: {\n",
       "                base: '/static/base',\n",
       "              },\n",
       "            });\n",
       "          </script>\n",
       "          "
      ],
      "text/plain": [
       "<IPython.core.display.HTML object>"
      ]
     },
     "metadata": {},
     "output_type": "display_data"
    }
   ],
   "source": [
    "# Pick some data from eval csv file. They are cleaned text.\n",
    "# The truth labels for the following 3 instances are\n",
    "# - rec.autos\n",
    "# - comp.windows.x\n",
    "# - talk.politics.mideast\n",
    "\n",
    "instance0 = ('little confused models [number] [number] heard le se someone tell differences far features ' +\n",
    "            'performance curious book value [number] model less book value usually words demand ' +\n",
    "            'year heard mid spring early summer best buy')\n",
    "instance1 = ('hi requirement closing opening different display servers within x application manner display ' +\n",
    "            'associated client proper done during transition problems')\n",
    "instance2 = ('attacking drive kuwait country whose citizens close blood business ties saudi citizens thinks ' +\n",
    "            'helped saudi arabia least eastern muslim country doing anything help kuwait protect saudi arabia ' +\n",
    "            'indeed masses citizens demonstrating favor butcher saddam killed muslims killing relatively rich ' +\n",
    "            'muslims nose west saudi arabia rolled iraqi invasion charge saudi arabia idea governments official ' +\n",
    "            'religion de facto de human nature always ones rise power world country citizens leader slick ' +\n",
    "            'operator sound guys angels posting edited stuff following friday york times reported group definitely ' +\n",
    "            'conservative followers house rule country enough reported besides complaining government conservative ' +\n",
    "            'enough asserted approx [number] [number] kingdom charge under saudi islamic law brings death penalty ' +\n",
    "            'diplomatic guy bin isn called severe punishment [number] women drove public while protest ban women ' +\n",
    "            'driving guy group said al said women fired jobs happen heard muslims ban women driving basis qur etc ' +\n",
    "            'yet folks ban women called choose rally behind hate women allowed tv radio immoral kingdom house neither ' +\n",
    "            'least nor favorite government earth restrict religious political lot among things likely replacements ' +\n",
    "            'going lot worse citizens country house feeling heat lately last six months read religious police ' +\n",
    "            'government western women fully stupid women imo sends wrong signals morality read cracked down few home ' +\n",
    "            'based religious posted government owned newspapers offering money turns group dare worship homes secret ' +\n",
    "            'place government grown try take wind conservative opposition things small taste happen guys house trying ' +\n",
    "            'long run others general west evil zionists rule hate west crowd')\n",
    "\n",
    "data = [instance0, instance1, instance2]"
   ]
  },
  {
   "cell_type": "code",
   "execution_count": 23,
   "metadata": {
    "collapsed": false
   },
   "outputs": [
    {
     "data": {
      "text/html": [
       "\n",
       "          <script src=\"/static/components/requirejs/require.js\"></script>\n",
       "          <script>\n",
       "            requirejs.config({\n",
       "              paths: {\n",
       "                base: '/static/base',\n",
       "              },\n",
       "            });\n",
       "          </script>\n",
       "          "
      ],
      "text/plain": [
       "<IPython.core.display.HTML object>"
      ]
     },
     "metadata": {},
     "output_type": "display_data"
    },
    {
     "data": {
      "text/html": [
       "<table border=\"1\" class=\"dataframe\">\n",
       "  <thead>\n",
       "    <tr style=\"text-align: right;\">\n",
       "      <th>predicted</th>\n",
       "      <th>predicted_2</th>\n",
       "      <th>predicted_3</th>\n",
       "      <th>predicted_4</th>\n",
       "      <th>predicted_5</th>\n",
       "      <th>probability</th>\n",
       "      <th>probability_2</th>\n",
       "      <th>probability_3</th>\n",
       "      <th>probability_4</th>\n",
       "      <th>probability_5</th>\n",
       "      <th>text</th>\n",
       "    </tr>\n",
       "  </thead>\n",
       "  <tbody>\n",
       "    <tr>\n",
       "      <td>rec.autos</td>\n",
       "      <td>comp.sys.mac.hardware</td>\n",
       "      <td>rec.sport.baseball</td>\n",
       "      <td>sci.space</td>\n",
       "      <td>soc.religion.christian</td>\n",
       "      <td>0.374961</td>\n",
       "      <td>0.223007</td>\n",
       "      <td>0.078222</td>\n",
       "      <td>0.049595</td>\n",
       "      <td>0.037271</td>\n",
       "      <td>little confused models [number] [numb...</td>\n",
       "    </tr>\n",
       "    <tr>\n",
       "      <td>comp.windows.x</td>\n",
       "      <td>comp.graphics</td>\n",
       "      <td>comp.sys.mac.hardware</td>\n",
       "      <td>sci.space</td>\n",
       "      <td>comp.os.ms-windows.misc</td>\n",
       "      <td>0.601730</td>\n",
       "      <td>0.062495</td>\n",
       "      <td>0.053911</td>\n",
       "      <td>0.039315</td>\n",
       "      <td>0.036243</td>\n",
       "      <td>hi requirement closing opening differ...</td>\n",
       "    </tr>\n",
       "    <tr>\n",
       "      <td>talk.politics.guns</td>\n",
       "      <td>talk.politics.mideast</td>\n",
       "      <td>alt.atheism</td>\n",
       "      <td>talk.politics.misc</td>\n",
       "      <td>sci.crypt</td>\n",
       "      <td>0.416234</td>\n",
       "      <td>0.351695</td>\n",
       "      <td>0.134796</td>\n",
       "      <td>0.094499</td>\n",
       "      <td>0.001451</td>\n",
       "      <td>attacking drive kuwait country whose ...</td>\n",
       "    </tr>\n",
       "  </tbody>\n",
       "</table>"
      ],
      "text/plain": [
       "<IPython.core.display.HTML object>"
      ]
     },
     "metadata": {},
     "output_type": "display_data"
    }
   ],
   "source": [
    "%%ml predict\n",
    "model: ./train/model/\n",
    "headers: text\n",
    "prediction_data: $data"
   ]
  },
  {
   "cell_type": "markdown",
   "metadata": {},
   "source": [
    "The first and second instances are predicted correctly. The third is wrong. Below we run \"%%ml explain\" to understand more."
   ]
  },
  {
   "cell_type": "code",
   "execution_count": 26,
   "metadata": {
    "collapsed": false
   },
   "outputs": [
    {
     "data": {
      "text/html": [
       "\n",
       "          <script src=\"/static/components/requirejs/require.js\"></script>\n",
       "          <script>\n",
       "            requirejs.config({\n",
       "              paths: {\n",
       "                base: '/static/base',\n",
       "              },\n",
       "            });\n",
       "          </script>\n",
       "          "
      ],
      "text/plain": [
       "<IPython.core.display.HTML object>"
      ]
     },
     "metadata": {},
     "output_type": "display_data"
    },
    {
     "data": {
      "image/png": "[encoded data removed]",
      "text/plain": [
       "<matplotlib.figure.Figure at 0x7fab24085490>"
      ]
     },
     "metadata": {},
     "output_type": "display_data"
    }
   ],
   "source": [
    "%%ml explain --detailview_only\n",
    "model: ./train/model\n",
    "labels: rec.autos\n",
    "type: text\n",
    "data: $instance0"
   ]
  },
  {
   "cell_type": "code",
   "execution_count": 25,
   "metadata": {
    "collapsed": false
   },
   "outputs": [
    {
     "data": {
      "text/html": [
       "\n",
       "          <script src=\"/static/components/requirejs/require.js\"></script>\n",
       "          <script>\n",
       "            requirejs.config({\n",
       "              paths: {\n",
       "                base: '/static/base',\n",
       "              },\n",
       "            });\n",
       "          </script>\n",
       "          "
      ],
      "text/plain": [
       "<IPython.core.display.HTML object>"
      ]
     },
     "metadata": {},
     "output_type": "display_data"
    },
    {
     "data": {
      "image/png": "[encoded data removed]",
      "text/plain": [
       "<matplotlib.figure.Figure at 0x7fab1aabaa50>"
      ]
     },
     "metadata": {},
     "output_type": "display_data"
    }
   ],
   "source": [
    "%%ml explain --detailview_only\n",
    "model: ./train/model\n",
    "labels: comp.windows.x\n",
    "type: text\n",
    "data: $instance1"
   ]
  },
  {
   "cell_type": "markdown",
   "metadata": {},
   "source": [
    "On instance 2, the top prediction result does not match truth. Predicted is \"talk.politics.guns\" while truth is \"talk.politics.mideast\". So let's analyze these two labels."
   ]
  },
  {
   "cell_type": "code",
   "execution_count": 27,
   "metadata": {
    "collapsed": false
   },
   "outputs": [
    {
     "data": {
      "text/html": [
       "\n",
       "          <script src=\"/static/components/requirejs/require.js\"></script>\n",
       "          <script>\n",
       "            requirejs.config({\n",
       "              paths: {\n",
       "                base: '/static/base',\n",
       "              },\n",
       "            });\n",
       "          </script>\n",
       "          "
      ],
      "text/plain": [
       "<IPython.core.display.HTML object>"
      ]
     },
     "metadata": {},
     "output_type": "display_data"
    },
    {
     "data": {
      "image/png": "[encoded data removed]",
      "text/plain": [
       "<matplotlib.figure.Figure at 0x7faac88667d0>"
      ]
     },
     "metadata": {},
     "output_type": "display_data"
    },
    {
     "data": {
      "image/png": "[encoded data removed]",
      "text/plain": [
       "<matplotlib.figure.Figure at 0x7faac8795090>"
      ]
     },
     "metadata": {},
     "output_type": "display_data"
    }
   ],
   "source": [
    "%%ml explain --detailview_only\n",
    "model: ./train/model\n",
    "labels: talk.politics.guns,talk.politics.mideast\n",
    "type: text\n",
    "data: $instance2"
   ]
  },
  {
   "cell_type": "markdown",
   "metadata": {},
   "source": [
    "## Deploying Model to ML Engine\n",
    "\n",
    "Now that we have a trained model, have analyzed the results, and have tested the model output locally, we are ready to deploy it to the cloud for real predictions. \n",
    "\n",
    "Deploying a model requires the files are on GCS. The next few cells makes a bucket on GCS, copies the locally trained model, and deploys it."
   ]
  },
  {
   "cell_type": "code",
   "execution_count": null,
   "metadata": {
    "collapsed": false
   },
   "outputs": [],
   "source": [
    "!gsutil -q mb gs://bq-mlworkbench-20news-lab"
   ]
  },
  {
   "cell_type": "code",
   "execution_count": 46,
   "metadata": {
    "collapsed": false
   },
   "outputs": [
    {
     "data": {
      "text/html": [
       "\n",
       "          <script src=\"/static/components/requirejs/require.js\"></script>\n",
       "          <script>\n",
       "            requirejs.config({\n",
       "              paths: {\n",
       "                base: '/static/base',\n",
       "              },\n",
       "            });\n",
       "          </script>\n",
       "          "
      ],
      "text/plain": [
       "<IPython.core.display.HTML object>"
      ]
     },
     "metadata": {},
     "output_type": "display_data"
    },
    {
     "name": "stdout",
     "output_type": "stream",
     "text": [
      "Copying file://./train/model/saved_model.pb [Content-Type=application/octet-stream]...\n",
      "Copying file://./train/model/assets.extra/schema.json [Content-Type=application/json]...\n",
      "Copying file://./train/model/variables/variables.data-00000-of-00001 [Content-Type=application/octet-stream]...\n",
      "Copying file://./train/model/variables/variables.index [Content-Type=application/octet-stream]...\n",
      "Copying file://./train/model/assets.extra/features.json [Content-Type=application/json]...\n",
      "/ [5/5 files][901.2 KiB/901.2 KiB] 100% Done                                    \n",
      "Operation completed over 5 objects/901.2 KiB.                                    \n"
     ]
    }
   ],
   "source": [
    "# Move the regular model to GCS\n",
    "!gsutil -m cp -r ./train/model gs://bq-mlworkbench-20news-lab"
   ]
  },
  {
   "cell_type": "markdown",
   "metadata": {},
   "source": [
    "See this doc https://cloud.google.com/ml-engine/docs/how-tos/managing-models-jobs for a the definition of ML Engine models and versions. An ML Engine version runs predictions and is contained in a ML Engine model. We will create a new ML Engine model, and depoly the TensorFlow graph as a ML Engine version. This can be done using gcloud (see https://cloud.google.com/ml-engine/docs/how-tos/deploying-models), or Datalab which we use below."
   ]
  },
  {
   "cell_type": "code",
   "execution_count": 47,
   "metadata": {
    "collapsed": false
   },
   "outputs": [
    {
     "data": {
      "text/html": [
       "\n",
       "          <script src=\"/static/components/requirejs/require.js\"></script>\n",
       "          <script>\n",
       "            requirejs.config({\n",
       "              paths: {\n",
       "                base: '/static/base',\n",
       "              },\n",
       "            });\n",
       "          </script>\n",
       "          "
      ],
      "text/plain": [
       "<IPython.core.display.HTML object>"
      ]
     },
     "metadata": {},
     "output_type": "display_data"
    },
    {
     "name": "stdout",
     "output_type": "stream",
     "text": [
      "Waiting for operation \"projects/bradley-playground/operations/create_news_alpha-1507958638739\"\n",
      "Done.\n"
     ]
    }
   ],
   "source": [
    "%%ml model deploy\n",
    "path: gs://bq-mlworkbench-20news-lab\n",
    "name: news.alpha"
   ]
  },
  {
   "cell_type": "markdown",
   "metadata": {},
   "source": [
    "## How to Build Your Own Prediction Client\n",
    "\n",
    "A common task is to call a deployed model from different applications. Below is an example of writing a python client to run prediction. \n",
    "\n",
    "Covering model permissions topics is outside the scope of this notebook, but for more information see https://cloud.google.com/ml-engine/docs/tutorials/python-guide and https://developers.google.com/identity/protocols/application-default-credentials ."
   ]
  },
  {
   "cell_type": "code",
   "execution_count": 48,
   "metadata": {
    "collapsed": false
   },
   "outputs": [
    {
     "data": {
      "text/html": [
       "\n",
       "          <script src=\"/static/components/requirejs/require.js\"></script>\n",
       "          <script>\n",
       "            requirejs.config({\n",
       "              paths: {\n",
       "                base: '/static/base',\n",
       "              },\n",
       "            });\n",
       "          </script>\n",
       "          "
      ],
      "text/plain": [
       "<IPython.core.display.HTML object>"
      ]
     },
     "metadata": {},
     "output_type": "display_data"
    },
    {
     "name": "stdout",
     "output_type": "stream",
     "text": [
      "The JSON request: \n",
      "\n",
      "{\"body\": \"{\\\"instances\\\": [\\\"nasa\\\", \\\"windows ex\\\"]}\", \"resumable_uri\": null, \"headers\": {\"content-type\": \"application/json\", \"accept-encoding\": \"gzip, deflate\", \"accept\": \"application/json\", \"user-agent\": \"google-api-python-client/1.6.2 (gzip)\"}, \"uri\": \"https://ml.googleapis.com/v1/projects/bradley-playground/models/news/versions/alpha:predict?alt=json\", \"resumable\": null, \"methodId\": \"ml.projects.predict\", \"body_size\": 37, \"resumable_progress\": 0, \"method\": \"POST\", \"_in_error_state\": false, \"response_callbacks\": []}\n",
      "\n",
      "The response:\n",
      "\n",
      "{\n",
      "  \"predictions\": [\n",
      "    {\n",
      "      \"probability\": 0.09366906434297562, \n",
      "      \"probability_5\": 0.057013291865587234, \n",
      "      \"probability_4\": 0.06060284376144409, \n",
      "      \"predicted\": \"sci.space\", \n",
      "      \"probability_3\": 0.06113375723361969, \n",
      "      \"probability_2\": 0.06321851164102554, \n",
      "      \"predicted_2\": \"rec.motorcycles\", \n",
      "      \"predicted_3\": \"rec.sport.baseball\", \n",
      "      \"predicted_4\": \"comp.graphics\", \n",
      "      \"predicted_5\": \"rec.autos\"\n",
      "    }, \n",
      "    {\n",
      "      \"probability\": 0.1439850777387619, \n",
      "      \"probability_5\": 0.06076677888631821, \n",
      "      \"probability_4\": 0.060862816870212555, \n",
      "      \"predicted\": \"comp.os.ms-windows.misc\", \n",
      "      \"probability_3\": 0.06252475082874298, \n",
      "      \"probability_2\": 0.06476568430662155, \n",
      "      \"predicted_2\": \"comp.graphics\", \n",
      "      \"predicted_3\": \"comp.windows.x\", \n",
      "      \"predicted_4\": \"misc.forsale\", \n",
      "      \"predicted_5\": \"rec.motorcycles\"\n",
      "    }\n",
      "  ]\n",
      "}\n"
     ]
    }
   ],
   "source": [
    "from oauth2client.client import GoogleCredentials\n",
    "from googleapiclient import discovery\n",
    "from googleapiclient import errors\n",
    "\n",
    "# Store your project ID, model name, and version name in the format the API needs.\n",
    "api_path = 'projects/{your_project_ID}/models/{model_name}/versions/{version_name}'.format(\n",
    "    your_project_ID=google.datalab.Context.default().project_id,\n",
    "    model_name='news',\n",
    "    version_name='alpha')\n",
    "\n",
    "# Get application default credentials (possible only if the gcloud tool is\n",
    "#  configured on your machine). See https://developers.google.com/identity/protocols/application-default-credentials\n",
    "#  for more info.\n",
    "credentials = GoogleCredentials.get_application_default()\n",
    "\n",
    "# Build a representation of the Cloud ML API.\n",
    "ml = discovery.build('ml', 'v1', credentials=credentials)\n",
    "\n",
    "# Create a dictionary containing data to predict.\n",
    "# Note that the data is a list of csv strings.\n",
    "body = {\n",
    "    'instances': ['nasa',\n",
    "                  'windows ex']}\n",
    "\n",
    "# Create a request\n",
    "request = ml.projects().predict(\n",
    "    name=api_path,\n",
    "    body=body)\n",
    "\n",
    "print('The JSON request: \\n')\n",
    "print(request.to_json())\n",
    "\n",
    "# Make the call.\n",
    "try:\n",
    "    response = request.execute()\n",
    "    print('\\nThe response:\\n')\n",
    "    print(json.dumps(response, indent=2))\n",
    "except errors.HttpError, err:\n",
    "    # Something went wrong, print out some information.\n",
    "    print('There was an error. Check the details:')\n",
    "    print(err._get_reason())"
   ]
  },
  {
   "cell_type": "markdown",
   "metadata": {},
   "source": [
    "To demonstrate prediction client further, check API Explorer (https://developers.google.com/apis-explorer). it allows you to send raw HTTP requests to many Google APIs. This is useful for understanding the requests and response, and help you build your own client with your favorite language.\n",
    "\n",
    "Please visit https://developers.google.com/apis-explorer/#search/ml%20engine/ml/v1/ml.projects.predict and enter the following values for each text box. "
   ]
  },
  {
   "cell_type": "code",
   "execution_count": 154,
   "metadata": {
    "collapsed": false
   },
   "outputs": [
    {
     "name": "stdout",
     "output_type": "stream",
     "text": [
      "Place the following in the name box\n",
      "projects/bradley-playground/models/news/versions/v2\n"
     ]
    }
   ],
   "source": [
    "# The output of this cell is placed in the name box\n",
    "# Store your project ID, model name, and version name in the format the API needs.\n",
    "api_path = 'projects/{your_project_ID}/models/{model_name}/versions/{version_name}'.format(\n",
    "    your_project_ID=google.datalab.Context.default().project_id,\n",
    "    model_name='news',\n",
    "    version_name='alpha')\n",
    "print('Place the following in the name box')\n",
    "print(api_path)"
   ]
  },
  {
   "cell_type": "markdown",
   "metadata": {},
   "source": [
    "The fields text box can be empty.\n",
    "\n",
    "Note that because we deployed the non-evaluation model, our depolyed model takes a csv input which only has one column. In general, the \"instances\" is a list of csv strings for models trained by MLWorkbench.\n",
    "\n",
    "Click in the request body box, and note a small drop down menu appears in the FAR RIGHT of the input box. Slect \"Freeform editor\". Then enter the following in the request body box."
   ]
  },
  {
   "cell_type": "code",
   "execution_count": 155,
   "metadata": {
    "collapsed": false
   },
   "outputs": [
    {
     "name": "stdout",
     "output_type": "stream",
     "text": [
      "Place the following in the request body box\n",
      "{\"instances\": [\"nasa\", \"windows xp\"]}\n"
     ]
    }
   ],
   "source": [
    "print('Place the following in the request body box')\n",
    "request = {'instances': ['nasa', 'windows xp']}\n",
    "print(json.dumps(request))"
   ]
  },
  {
   "cell_type": "markdown",
   "metadata": {},
   "source": [
    "Then click the \"Authorize and execute\" button. The prediction results are returned in the browser."
   ]
  },
  {
   "cell_type": "markdown",
   "metadata": {},
   "source": [
    "## Cleaning up the deployed model"
   ]
  },
  {
   "cell_type": "code",
   "execution_count": 49,
   "metadata": {
    "collapsed": false
   },
   "outputs": [
    {
     "data": {
      "text/html": [
       "\n",
       "          <script src=\"/static/components/requirejs/require.js\"></script>\n",
       "          <script>\n",
       "            requirejs.config({\n",
       "              paths: {\n",
       "                base: '/static/base',\n",
       "              },\n",
       "            });\n",
       "          </script>\n",
       "          "
      ],
      "text/plain": [
       "<IPython.core.display.HTML object>"
      ]
     },
     "metadata": {},
     "output_type": "display_data"
    },
    {
     "name": "stdout",
     "output_type": "stream",
     "text": [
      "Waiting for operation \"projects/bradley-playground/operations/delete_news_alpha-1507958747223\"\n",
      "Done.\n"
     ]
    }
   ],
   "source": [
    "%%ml model delete\n",
    "name: news.alpha"
   ]
  },
  {
   "cell_type": "code",
   "execution_count": 157,
   "metadata": {
    "collapsed": false
   },
   "outputs": [
    {
     "name": "stdout",
     "output_type": "stream",
     "text": [
      "Waiting for operation \"projects/bradley-playground/operations/delete_model_news-1502830507\"\n",
      "Done.\n"
     ]
    }
   ],
   "source": [
    "%%ml model delete\n",
    "name: news"
   ]
  },
  {
   "cell_type": "code",
   "execution_count": 50,
   "metadata": {
    "collapsed": false
   },
   "outputs": [
    {
     "data": {
      "text/html": [
       "\n",
       "          <script src=\"/static/components/requirejs/require.js\"></script>\n",
       "          <script>\n",
       "            requirejs.config({\n",
       "              paths: {\n",
       "                base: '/static/base',\n",
       "              },\n",
       "            });\n",
       "          </script>\n",
       "          "
      ],
      "text/plain": [
       "<IPython.core.display.HTML object>"
      ]
     },
     "metadata": {},
     "output_type": "display_data"
    },
    {
     "name": "stdout",
     "output_type": "stream",
     "text": [
      "Removing gs://bq-mlworkbench-20news-lab/predict_results_eval.csv#1504129989243557...\n",
      "Removing gs://bq-mlworkbench-20news-lab/model/assets.extra/features.json#1507958604005929...\n",
      "Removing gs://bq-mlworkbench-20news-lab/model/assets.extra/schema.json#1507958604006277...\n",
      "Removing gs://bq-mlworkbench-20news-lab/model/saved_model.pb#1507958604075559...\n",
      "Removing gs://bq-mlworkbench-20news-lab/model/variables/variables.data-00000-of-00001#1507958604075540...\n",
      "Removing gs://bq-mlworkbench-20news-lab/model/variables/variables.index#1507958604007528...\n",
      "/ [6/6 objects] 100% Done                                                       \n",
      "Operation completed over 6 objects.                                              \n",
      "Removing gs://bq-mlworkbench-20news-lab/...\n"
     ]
    }
   ],
   "source": [
    "# Delete the GCS bucket\n",
    "!gsutil -m rm -r gs://bq-mlworkbench-20news-lab"
   ]
  },
  {
   "cell_type": "code",
   "execution_count": null,
   "metadata": {
    "collapsed": false
   },
   "outputs": [],
   "source": [
    "# Delete BQ table\n",
    "\n",
    "bq.Dataset('newspredict').delete(delete_contents = True)"
   ]
  }
 ],
 "metadata": {
  "kernelspec": {
   "display_name": "Python 2",
   "language": "python",
   "name": "python2"
  },
  "language_info": {
   "codemirror_mode": {
    "name": "ipython",
    "version": 2
   },
   "file_extension": ".py",
   "mimetype": "text/x-python",
   "name": "python",
   "nbconvert_exporter": "python",
   "pygments_lexer": "ipython2",
   "version": "2.7.12"
  }
 },
 "nbformat": 4,
 "nbformat_minor": 2
}
