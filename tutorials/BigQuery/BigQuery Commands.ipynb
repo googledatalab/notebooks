{
 "cells": [
  {
   "cell_type": "markdown",
   "metadata": {},
   "source": [
    "# BigQuery Commands\n",
    "\n",
    "Google Cloud Datalab provides a first class experience for working with Google BigQuery for both adhoc, exploratory work as well as pipeline development. In addition to authoring and executing SQL queries, you'll likely want to inspect Datasets, Tables, and their Schema, and also sample data.\n",
    "\n",
    "This notebook introduces various BigQuery commands that Datalab brings into the notebook environment.\n",
    "\n",
    "You've already seen a BigQuery command in the [Hello BigQuery](Hello BigQuery.ipynb) notebook, they are invoked using `%%bq`."
   ]
  },
  {
   "cell_type": "markdown",
   "metadata": {},
   "source": [
    "## Commands, literally\n",
    "\n",
    "You can think of `%%bq` as your command line interface to BigQuery. These commands take arguments, including `--help` (or `-h`), in the same manner as other shell commands. Lets start by looking at help."
   ]
  },
  {
   "cell_type": "code",
   "execution_count": 5,
   "metadata": {
    "collapsed": false
   },
   "outputs": [
    {
     "name": "stdout",
     "output_type": "stream",
     "text": [
      "usage: bq [-h]\n",
      "          {datasets,tables,query,execute,extract,sample,dryrun,udf,datasource,load}\n",
      "          ...\n",
      "\n",
      "Execute various BigQuery-related operations. Use \"%bq <command> -h\" for help\n",
      "on a specific command.\n",
      "\n",
      "positional arguments:\n",
      "  {datasets,tables,query,execute,extract,sample,dryrun,udf,datasource,load}\n",
      "                        commands\n",
      "    datasets            Operations on BigQuery datasets\n",
      "    tables              Operations on BigQuery tables\n",
      "    query               Create or execute a BigQuery SQL query object,\n",
      "                        optionally using other SQL objects, UDFs, or external\n",
      "                        datasources. If a query name is not specified, the\n",
      "                        query is executed.\n",
      "    execute             Execute a BigQuery SQL query and optionally send the\n",
      "                        results to a named table. The cell can optionally\n",
      "                        contain arguments for expanding variables in the\n",
      "                        query.\n",
      "    extract             Extract a query or table into file (local or GCS)\n",
      "    sample              Display a sample of the results of a BigQuery SQL\n",
      "                        query. The cell can optionally contain arguments for\n",
      "                        expanding variables in the query, if -q/--query was\n",
      "                        used, or it can contain SQL for a query.\n",
      "    dryrun              Execute a dry run of a BigQuery query and display\n",
      "                        approximate usage statistics\n",
      "    udf                 Create a named Javascript BigQuery UDF\n",
      "    datasource          Create a named Javascript BigQuery external data\n",
      "                        source\n",
      "    load                Load data from GCS into a BigQuery table. If creating\n",
      "                        a new table, a schema should be specified in YAML or\n",
      "                        JSON in the cell body, otherwise the schema is\n",
      "                        inferred from existing table.\n",
      "\n",
      "optional arguments:\n",
      "  -h, --help            show this help message and exit\n",
      "None\n"
     ]
    }
   ],
   "source": [
    "%bq --help"
   ]
  },
  {
   "cell_type": "markdown",
   "metadata": {},
   "source": [
    "You can get help on any of the individual commands as follows:"
   ]
  },
  {
   "cell_type": "code",
   "execution_count": 2,
   "metadata": {
    "collapsed": false
   },
   "outputs": [
    {
     "name": "stdout",
     "output_type": "stream",
     "text": [
      "usage: bq tables [-h] {list,create,describe,delete,view} ...\n",
      "\n",
      "Operations on BigQuery tables\n",
      "\n",
      "positional arguments:\n",
      "  {list,create,describe,delete,view}\n",
      "    list                List the tables in a BigQuery project or dataset.\n",
      "    create              Create a table.\n",
      "    describe            View a table's schema\n",
      "    delete              Delete a table.\n",
      "    view                View a table.\n",
      "\n",
      "optional arguments:\n",
      "  -h, --help            show this help message and exit\n",
      "None\n"
     ]
    }
   ],
   "source": [
    "%bq tables --help"
   ]
  },
  {
   "cell_type": "markdown",
   "metadata": {},
   "source": [
    "# Listing BigQuery Resources\n",
    "\n",
    "The first thing you might decide to do is list datasets and tables contained within a specified project or the default project you're running this Datalab environment in.\n",
    "\n",
    "Note that you will be able to list and use any BigQuery dataset that has been shared with the project (its service account) that you are running Datalab in."
   ]
  },
  {
   "cell_type": "code",
   "execution_count": 1,
   "metadata": {
    "collapsed": false
   },
   "outputs": [
    {
     "data": {
      "text/html": [
       "<ul><li>cloud-datalab-samples.appenginelogs</li><li>cloud-datalab-samples.carprices</li><li>cloud-datalab-samples.httplogs</li></ul>"
      ],
      "text/plain": [
       "<IPython.core.display.HTML object>"
      ]
     },
     "execution_count": 1,
     "metadata": {},
     "output_type": "execute_result"
    }
   ],
   "source": [
    "%bq datasets list --project cloud-datalab-samples"
   ]
  },
  {
   "cell_type": "code",
   "execution_count": 2,
   "metadata": {
    "collapsed": false
   },
   "outputs": [
    {
     "data": {
      "text/html": [
       "<ul><li>BigQuery Table - name: cloud-datalab-samples.httplogs.logs_20140615</li><li>BigQuery Table - name: cloud-datalab-samples.httplogs.logs_20140616</li><li>BigQuery Table - name: cloud-datalab-samples.httplogs.logs_20140617</li><li>BigQuery Table - name: cloud-datalab-samples.httplogs.logs_20140618</li><li>BigQuery Table - name: cloud-datalab-samples.httplogs.logs_20140619</li><li>BigQuery Table - name: cloud-datalab-samples.httplogs.logs_20140620</li></ul>"
      ],
      "text/plain": [
       "<IPython.core.display.HTML object>"
      ]
     },
     "execution_count": 2,
     "metadata": {},
     "output_type": "execute_result"
    }
   ],
   "source": [
    "%bq tables list --dataset cloud-datalab-samples.httplogs"
   ]
  },
  {
   "cell_type": "markdown",
   "metadata": {},
   "source": [
    "# Exploring Data\n",
    "\n",
    "Once you've found a table or set of tables to work with, its simple to retrieve its schema or some sampling of rows to understand the data you're working with."
   ]
  },
  {
   "cell_type": "markdown",
   "metadata": {},
   "source": [
    "## Schema"
   ]
  },
  {
   "cell_type": "code",
   "execution_count": 3,
   "metadata": {
    "collapsed": false
   },
   "outputs": [
    {
     "data": {
      "text/html": [
       "\n",
       "    <div class=\"bqsv\" id=\"1_148887369326\"></div>\n",
       "    <script>\n",
       "      require.config({\n",
       "        map: {\n",
       "          '*': {\n",
       "            datalab: 'nbextensions/gcpdatalab'\n",
       "          }\n",
       "        },\n",
       "      });\n",
       "\n",
       "      require(['datalab/bigquery', 'datalab/element!1_148887369326',\n",
       "          'datalab/style!/nbextensions/gcpdatalab/bigquery.css'],\n",
       "        function(bq, dom) {\n",
       "          bq.renderSchema(dom, [{\"type\": \"TIMESTAMP\", \"name\": \"timestamp\"}, {\"type\": \"INTEGER\", \"name\": \"latency\"}, {\"type\": \"INTEGER\", \"name\": \"status\"}, {\"type\": \"STRING\", \"name\": \"method\"}, {\"type\": \"STRING\", \"name\": \"endpoint\"}]);\n",
       "        }\n",
       "      );\n",
       "    </script>\n",
       "    "
      ],
      "text/plain": [
       "<IPython.core.display.HTML object>"
      ]
     },
     "execution_count": 3,
     "metadata": {},
     "output_type": "execute_result"
    }
   ],
   "source": [
    "%bq tables describe --name cloud-datalab-samples.httplogs.logs_20140615"
   ]
  },
  {
   "cell_type": "markdown",
   "metadata": {},
   "source": [
    "## Sampling Data"
   ]
  },
  {
   "cell_type": "code",
   "execution_count": 6,
   "metadata": {
    "collapsed": false
   },
   "outputs": [
    {
     "name": "stdout",
     "output_type": "stream",
     "text": [
      "usage: bq sample [-h] [-q QUERY | -t TABLE | -v VIEW] [-nc] [-b BILLING]\n",
      "                 [-m {limit,random,hashed,sorted}] [--fields FIELDS]\n",
      "                 [-c COUNT] [-p PERCENT] [--key-field KEY_FIELD]\n",
      "                 [-o {ascending,descending}] [-P] [--verbose]\n",
      "\n",
      "Display a sample of the results of a BigQuery SQL query. The cell can\n",
      "optionally contain arguments for expanding variables in the query, if\n",
      "-q/--query was used, or it can contain SQL for a query.\n",
      "\n",
      "optional arguments:\n",
      "  -h, --help            show this help message and exit\n",
      "  -q QUERY, --query QUERY\n",
      "                        the name of the query object to sample\n",
      "  -t TABLE, --table TABLE\n",
      "                        the name of the table object to sample\n",
      "  -v VIEW, --view VIEW  the name of the view object to sample\n",
      "  -nc, --nocache        Don't use previously cached results\n",
      "  -b BILLING, --billing BILLING\n",
      "                        BigQuery billing tier\n",
      "  -m {limit,random,hashed,sorted}, --method {limit,random,hashed,sorted}\n",
      "                        The type of sampling to use\n",
      "  --fields FIELDS       Comma separated field names for projection\n",
      "  -c COUNT, --count COUNT\n",
      "                        The number of rows to limit to, if sampling\n",
      "  -p PERCENT, --percent PERCENT\n",
      "                        For random or hashed sampling, what percentage to\n",
      "                        sample from\n",
      "  --key-field KEY_FIELD\n",
      "                        The field to use for sorted or hashed sampling\n",
      "  -o {ascending,descending}, --order {ascending,descending}\n",
      "                        The sort order to use for sorted sampling\n",
      "  -P, --profile         Generate an interactive profile of the data\n",
      "  --verbose             Show the expanded SQL that is being executed\n",
      "None\n"
     ]
    }
   ],
   "source": [
    "%bq sample --help"
   ]
  },
  {
   "cell_type": "markdown",
   "metadata": {},
   "source": [
    "As you can see, Datalab allows you to sample a specified count of rows using various sampling strategies, including random sampling or hashing. Let's try retrieving a couple of samples."
   ]
  },
  {
   "cell_type": "code",
   "execution_count": 7,
   "metadata": {
    "collapsed": false
   },
   "outputs": [
    {
     "data": {
      "text/html": [
       "\n",
       "    <div class=\"bqtv\" id=\"2_148887375624\"><table><tr><th>timestamp</th><th>latency</th><th>status</th><th>method</th><th>endpoint</th></tr><tr><td>2014-06-15 07:00:00.536486</td><td>48</td><td>200</td><td>GET</td><td>Interact3</td></tr><tr><td>2014-06-15 07:00:00.003772</td><td>122</td><td>200</td><td>GET</td><td>Interact3</td></tr><tr><td>2014-06-15 07:00:00.670100</td><td>103</td><td>200</td><td>GET</td><td>Interact3</td></tr><tr><td>2014-06-15 07:00:00.428897</td><td>144</td><td>200</td><td>GET</td><td>Interact3</td></tr><tr><td>2014-06-15 07:00:00.652760</td><td>28</td><td>405</td><td>GET</td><td>Interact2</td></tr></table></div>\n",
       "    <br />(rows: 5, time: 1.4s,    24MB processed, job: job_TFdKfRs19MWQHsxAQNiu28q-4Nc)<br />\n",
       "    <script>\n",
       "\n",
       "      require.config({\n",
       "        paths: {\n",
       "          d3: '//cdnjs.cloudflare.com/ajax/libs/d3/3.4.13/d3',\n",
       "          plotly: 'https://cdn.plot.ly/plotly-1.5.1.min.js?noext',\n",
       "          jquery: '//ajax.googleapis.com/ajax/libs/jquery/2.0.0/jquery.min'\n",
       "        },\n",
       "        map: {\n",
       "          '*': {\n",
       "            datalab: 'nbextensions/gcpdatalab'\n",
       "          }\n",
       "        },\n",
       "        shim: {\n",
       "          plotly: {\n",
       "            deps: ['d3', 'jquery'],\n",
       "            exports: 'plotly'\n",
       "          }\n",
       "        }\n",
       "      });\n",
       "\n",
       "      require(['datalab/charting', 'datalab/element!2_148887375624', 'base/js/events',\n",
       "          'datalab/style!/nbextensions/gcpdatalab/charting.css'],\n",
       "        function(charts, dom, events) {\n",
       "          charts.render('gcharts', dom, events, 'table', [], {\"rows\": [{\"c\": [{\"v\": \"2014-06-15T07:00:00.536486\"}, {\"v\": 48}, {\"v\": 200}, {\"v\": \"GET\"}, {\"v\": \"Interact3\"}]}, {\"c\": [{\"v\": \"2014-06-15T07:00:00.003772\"}, {\"v\": 122}, {\"v\": 200}, {\"v\": \"GET\"}, {\"v\": \"Interact3\"}]}, {\"c\": [{\"v\": \"2014-06-15T07:00:00.670100\"}, {\"v\": 103}, {\"v\": 200}, {\"v\": \"GET\"}, {\"v\": \"Interact3\"}]}, {\"c\": [{\"v\": \"2014-06-15T07:00:00.428897\"}, {\"v\": 144}, {\"v\": 200}, {\"v\": \"GET\"}, {\"v\": \"Interact3\"}]}, {\"c\": [{\"v\": \"2014-06-15T07:00:00.652760\"}, {\"v\": 28}, {\"v\": 405}, {\"v\": \"GET\"}, {\"v\": \"Interact2\"}]}], \"cols\": [{\"type\": \"datetime\", \"id\": \"timestamp\", \"label\": \"timestamp\"}, {\"type\": \"number\", \"id\": \"latency\", \"label\": \"latency\"}, {\"type\": \"number\", \"id\": \"status\", \"label\": \"status\"}, {\"type\": \"string\", \"id\": \"method\", \"label\": \"method\"}, {\"type\": \"string\", \"id\": \"endpoint\", \"label\": \"endpoint\"}]},\n",
       "            {\n",
       "              pageSize: 25,\n",
       "              cssClassNames:  {\n",
       "                tableRow: 'gchart-table-row',\n",
       "                headerRow: 'gchart-table-headerrow',\n",
       "                oddTableRow: 'gchart-table-oddrow',\n",
       "                selectedTableRow: 'gchart-table-selectedrow',\n",
       "                hoverTableRow: 'gchart-table-hoverrow',\n",
       "                tableCell: 'gchart-table-cell',\n",
       "                headerCell: 'gchart-table-headercell',\n",
       "                rowNumberCell: 'gchart-table-rownumcell'\n",
       "              }\n",
       "            },\n",
       "            {source_index: 0, fields: 'timestamp,latency,status,method,endpoint'},\n",
       "            0,\n",
       "            5);\n",
       "        }\n",
       "      );\n",
       "    </script>\n",
       "  "
      ],
      "text/plain": [
       "QueryResultsTable job_TFdKfRs19MWQHsxAQNiu28q-4Nc"
      ]
     },
     "execution_count": 7,
     "metadata": {},
     "output_type": "execute_result"
    }
   ],
   "source": [
    "%bq sample --table cloud-datalab-samples.httplogs.logs_20140615 --count 5"
   ]
  },
  {
   "cell_type": "markdown",
   "metadata": {},
   "source": [
    "You can also specify a list of fields to project."
   ]
  },
  {
   "cell_type": "code",
   "execution_count": 8,
   "metadata": {
    "collapsed": false
   },
   "outputs": [
    {
     "data": {
      "text/html": [
       "\n",
       "    <div class=\"bqtv\" id=\"3_148887376080\"><table><tr><th>timestamp</th><th>latency</th></tr><tr><td>2014-06-15 07:00:01.750207</td><td>26</td></tr><tr><td>2014-06-15 07:00:01.166912</td><td>27</td></tr><tr><td>2014-06-15 07:00:00.652760</td><td>28</td></tr><tr><td>2014-06-15 07:00:00.943075</td><td>28</td></tr><tr><td>2014-06-15 07:00:01.694210</td><td>29</td></tr><tr><td>2014-06-15 07:00:01.735101</td><td>37</td></tr><tr><td>2014-06-15 07:00:00.536486</td><td>48</td></tr><tr><td>2014-06-15 07:00:01.456010</td><td>123</td></tr><tr><td>2014-06-15 07:00:01.000102</td><td>124</td></tr><tr><td>2014-06-15 07:00:00.428897</td><td>144</td></tr></table></div>\n",
       "    <br />(rows: 10, time: 2.7s,    10MB processed, job: job_3w3djhFW_PtOA9BD65YILcu3BG8)<br />\n",
       "    <script>\n",
       "\n",
       "      require.config({\n",
       "        paths: {\n",
       "          d3: '//cdnjs.cloudflare.com/ajax/libs/d3/3.4.13/d3',\n",
       "          plotly: 'https://cdn.plot.ly/plotly-1.5.1.min.js?noext',\n",
       "          jquery: '//ajax.googleapis.com/ajax/libs/jquery/2.0.0/jquery.min'\n",
       "        },\n",
       "        map: {\n",
       "          '*': {\n",
       "            datalab: 'nbextensions/gcpdatalab'\n",
       "          }\n",
       "        },\n",
       "        shim: {\n",
       "          plotly: {\n",
       "            deps: ['d3', 'jquery'],\n",
       "            exports: 'plotly'\n",
       "          }\n",
       "        }\n",
       "      });\n",
       "\n",
       "      require(['datalab/charting', 'datalab/element!3_148887376080', 'base/js/events',\n",
       "          'datalab/style!/nbextensions/gcpdatalab/charting.css'],\n",
       "        function(charts, dom, events) {\n",
       "          charts.render('gcharts', dom, events, 'table', [], {\"rows\": [{\"c\": [{\"v\": \"2014-06-15T07:00:01.750207\"}, {\"v\": 26}]}, {\"c\": [{\"v\": \"2014-06-15T07:00:01.166912\"}, {\"v\": 27}]}, {\"c\": [{\"v\": \"2014-06-15T07:00:00.652760\"}, {\"v\": 28}]}, {\"c\": [{\"v\": \"2014-06-15T07:00:00.943075\"}, {\"v\": 28}]}, {\"c\": [{\"v\": \"2014-06-15T07:00:01.694210\"}, {\"v\": 29}]}, {\"c\": [{\"v\": \"2014-06-15T07:00:01.735101\"}, {\"v\": 37}]}, {\"c\": [{\"v\": \"2014-06-15T07:00:00.536486\"}, {\"v\": 48}]}, {\"c\": [{\"v\": \"2014-06-15T07:00:01.456010\"}, {\"v\": 123}]}, {\"c\": [{\"v\": \"2014-06-15T07:00:01.000102\"}, {\"v\": 124}]}, {\"c\": [{\"v\": \"2014-06-15T07:00:00.428897\"}, {\"v\": 144}]}], \"cols\": [{\"type\": \"datetime\", \"id\": \"timestamp\", \"label\": \"timestamp\"}, {\"type\": \"number\", \"id\": \"latency\", \"label\": \"latency\"}]},\n",
       "            {\n",
       "              pageSize: 25,\n",
       "              cssClassNames:  {\n",
       "                tableRow: 'gchart-table-row',\n",
       "                headerRow: 'gchart-table-headerrow',\n",
       "                oddTableRow: 'gchart-table-oddrow',\n",
       "                selectedTableRow: 'gchart-table-selectedrow',\n",
       "                hoverTableRow: 'gchart-table-hoverrow',\n",
       "                tableCell: 'gchart-table-cell',\n",
       "                headerCell: 'gchart-table-headercell',\n",
       "                rowNumberCell: 'gchart-table-rownumcell'\n",
       "              }\n",
       "            },\n",
       "            {source_index: 1, fields: 'timestamp,latency'},\n",
       "            0,\n",
       "            10);\n",
       "        }\n",
       "      );\n",
       "    </script>\n",
       "  "
      ],
      "text/plain": [
       "QueryResultsTable job_3w3djhFW_PtOA9BD65YILcu3BG8"
      ]
     },
     "execution_count": 8,
     "metadata": {},
     "output_type": "execute_result"
    }
   ],
   "source": [
    "%bq sample --table cloud-datalab-samples.httplogs.logs_20140615 --count 10 --fields timestamp,latency --method hashed --key-field latency"
   ]
  },
  {
   "cell_type": "markdown",
   "metadata": {},
   "source": [
    "# Querying Data\n",
    "\n",
    "Of course, since, querying BigQuery data using SQL is the primary scenario, it's always handy to have the BigQuery SQL reference. Datalab makes this easy to access by providing a direct link to the [query reference](https://cloud.google.com/bigquery/docs/reference/standard-sql/) via the Help Links button on the top toolbar.\n",
    "\n",
    "Lets see some more query examples."
   ]
  },
  {
   "cell_type": "code",
   "execution_count": 9,
   "metadata": {
    "collapsed": false
   },
   "outputs": [
    {
     "data": {
      "text/html": [
       "\n",
       "    <div class=\"bqtv\" id=\"4_148887382743\"><table><tr><th>timestamp</th><th>latency</th></tr><tr><td>2014-06-15 10:15:06.354093</td><td>13500918</td></tr><tr><td>2014-06-15 09:15:04.571911</td><td>13500391</td></tr><tr><td>2014-06-15 10:00:05.264877</td><td>13500340</td></tr><tr><td>2014-06-15 09:45:04.873233</td><td>13500166</td></tr><tr><td>2014-06-15 09:30:07.401665</td><td>13500118</td></tr><tr><td>2014-06-16 00:01:45.311564</td><td>1197339</td></tr><tr><td>2014-06-15 15:17:12.987435</td><td>136467</td></tr><tr><td>2014-06-15 15:16:33.290520</td><td>130296</td></tr><tr><td>2014-06-15 15:15:56.727494</td><td>121277</td></tr><tr><td>2014-06-15 15:15:58.259215</td><td>97192</td></tr></table></div>\n",
       "    <br />(rows: 10, time: 1.5s,    10MB processed, job: job_cUDvTK58OQa1slx8GXYUdZr9oGM)<br />\n",
       "    <script>\n",
       "\n",
       "      require.config({\n",
       "        paths: {\n",
       "          d3: '//cdnjs.cloudflare.com/ajax/libs/d3/3.4.13/d3',\n",
       "          plotly: 'https://cdn.plot.ly/plotly-1.5.1.min.js?noext',\n",
       "          jquery: '//ajax.googleapis.com/ajax/libs/jquery/2.0.0/jquery.min'\n",
       "        },\n",
       "        map: {\n",
       "          '*': {\n",
       "            datalab: 'nbextensions/gcpdatalab'\n",
       "          }\n",
       "        },\n",
       "        shim: {\n",
       "          plotly: {\n",
       "            deps: ['d3', 'jquery'],\n",
       "            exports: 'plotly'\n",
       "          }\n",
       "        }\n",
       "      });\n",
       "\n",
       "      require(['datalab/charting', 'datalab/element!4_148887382743', 'base/js/events',\n",
       "          'datalab/style!/nbextensions/gcpdatalab/charting.css'],\n",
       "        function(charts, dom, events) {\n",
       "          charts.render('gcharts', dom, events, 'table', [], {\"rows\": [{\"c\": [{\"v\": \"2014-06-15T10:15:06.354093\"}, {\"v\": 13500918}]}, {\"c\": [{\"v\": \"2014-06-15T09:15:04.571911\"}, {\"v\": 13500391}]}, {\"c\": [{\"v\": \"2014-06-15T10:00:05.264877\"}, {\"v\": 13500340}]}, {\"c\": [{\"v\": \"2014-06-15T09:45:04.873233\"}, {\"v\": 13500166}]}, {\"c\": [{\"v\": \"2014-06-15T09:30:07.401665\"}, {\"v\": 13500118}]}, {\"c\": [{\"v\": \"2014-06-16T00:01:45.311564\"}, {\"v\": 1197339}]}, {\"c\": [{\"v\": \"2014-06-15T15:17:12.987435\"}, {\"v\": 136467}]}, {\"c\": [{\"v\": \"2014-06-15T15:16:33.290520\"}, {\"v\": 130296}]}, {\"c\": [{\"v\": \"2014-06-15T15:15:56.727494\"}, {\"v\": 121277}]}, {\"c\": [{\"v\": \"2014-06-15T15:15:58.259215\"}, {\"v\": 97192}]}], \"cols\": [{\"type\": \"datetime\", \"id\": \"timestamp\", \"label\": \"timestamp\"}, {\"type\": \"number\", \"id\": \"latency\", \"label\": \"latency\"}]},\n",
       "            {\n",
       "              pageSize: 25,\n",
       "              cssClassNames:  {\n",
       "                tableRow: 'gchart-table-row',\n",
       "                headerRow: 'gchart-table-headerrow',\n",
       "                oddTableRow: 'gchart-table-oddrow',\n",
       "                selectedTableRow: 'gchart-table-selectedrow',\n",
       "                hoverTableRow: 'gchart-table-hoverrow',\n",
       "                tableCell: 'gchart-table-cell',\n",
       "                headerCell: 'gchart-table-headercell',\n",
       "                rowNumberCell: 'gchart-table-rownumcell'\n",
       "              }\n",
       "            },\n",
       "            {source_index: 2, fields: 'timestamp,latency'},\n",
       "            0,\n",
       "            10);\n",
       "        }\n",
       "      );\n",
       "    </script>\n",
       "  "
      ],
      "text/plain": [
       "QueryResultsTable job_cUDvTK58OQa1slx8GXYUdZr9oGM"
      ]
     },
     "execution_count": 9,
     "metadata": {},
     "output_type": "execute_result"
    }
   ],
   "source": [
    "%%bq query \n",
    "SELECT timestamp, latency\n",
    "FROM `cloud-datalab-samples.httplogs.logs_20140615`\n",
    "ORDER BY latency DESC\n",
    "LIMIT 10"
   ]
  },
  {
   "cell_type": "markdown",
   "metadata": {},
   "source": [
    "That was a simple query. Now, let's do something a bit more interesting: let's compute the 50th percentile, 95th percentile, and 99th percentile latencies for request processing.\n",
    "\n",
    "BigQuery makes this effortless with its built-in statistical and analytics functions, such as `QUANTILES`."
   ]
  },
  {
   "cell_type": "code",
   "execution_count": 10,
   "metadata": {
    "collapsed": false
   },
   "outputs": [
    {
     "data": {
      "text/html": [
       "\n",
       "    <div class=\"bqtv\" id=\"5_148887385188\"><table><tr><th>latency_50th_percentile</th><th>latency_95th_percentile</th><th>latency_99th_percentile</th></tr><tr><td>81</td><td>418</td><td>5047</td></tr></table></div>\n",
       "    <br />(rows: 1, time: 4.8s,     5MB processed, job: job_YsxfaYnndcd2RzavBk0Zw7BLXkM)<br />\n",
       "    <script>\n",
       "\n",
       "      require.config({\n",
       "        paths: {\n",
       "          d3: '//cdnjs.cloudflare.com/ajax/libs/d3/3.4.13/d3',\n",
       "          plotly: 'https://cdn.plot.ly/plotly-1.5.1.min.js?noext',\n",
       "          jquery: '//ajax.googleapis.com/ajax/libs/jquery/2.0.0/jquery.min'\n",
       "        },\n",
       "        map: {\n",
       "          '*': {\n",
       "            datalab: 'nbextensions/gcpdatalab'\n",
       "          }\n",
       "        },\n",
       "        shim: {\n",
       "          plotly: {\n",
       "            deps: ['d3', 'jquery'],\n",
       "            exports: 'plotly'\n",
       "          }\n",
       "        }\n",
       "      });\n",
       "\n",
       "      require(['datalab/charting', 'datalab/element!5_148887385188', 'base/js/events',\n",
       "          'datalab/style!/nbextensions/gcpdatalab/charting.css'],\n",
       "        function(charts, dom, events) {\n",
       "          charts.render('gcharts', dom, events, 'table', [], {\"rows\": [{\"c\": [{\"v\": 81}, {\"v\": 418}, {\"v\": 5047}]}], \"cols\": [{\"type\": \"number\", \"id\": \"latency_50th_percentile\", \"label\": \"latency_50th_percentile\"}, {\"type\": \"number\", \"id\": \"latency_95th_percentile\", \"label\": \"latency_95th_percentile\"}, {\"type\": \"number\", \"id\": \"latency_99th_percentile\", \"label\": \"latency_99th_percentile\"}]},\n",
       "            {\n",
       "              pageSize: 25,\n",
       "              cssClassNames:  {\n",
       "                tableRow: 'gchart-table-row',\n",
       "                headerRow: 'gchart-table-headerrow',\n",
       "                oddTableRow: 'gchart-table-oddrow',\n",
       "                selectedTableRow: 'gchart-table-selectedrow',\n",
       "                hoverTableRow: 'gchart-table-hoverrow',\n",
       "                tableCell: 'gchart-table-cell',\n",
       "                headerCell: 'gchart-table-headercell',\n",
       "                rowNumberCell: 'gchart-table-rownumcell'\n",
       "              }\n",
       "            },\n",
       "            {source_index: 3, fields: 'latency_50th_percentile,latency_95th_percentile,latency_99th_percentile'},\n",
       "            0,\n",
       "            1);\n",
       "        }\n",
       "      );\n",
       "    </script>\n",
       "  "
      ],
      "text/plain": [
       "QueryResultsTable job_YsxfaYnndcd2RzavBk0Zw7BLXkM"
      ]
     },
     "execution_count": 10,
     "metadata": {},
     "output_type": "execute_result"
    }
   ],
   "source": [
    "%%bq query\n",
    "SELECT\n",
    "  quantiles[SAFE_ORDINAL(50)] AS latency_50th_percentile,\n",
    "  quantiles[SAFE_ORDINAL(95)] AS latency_95th_percentile,\n",
    "  quantiles[SAFE_ORDINAL(99)] AS latency_99th_percentile\n",
    "FROM (\n",
    "  SELECT APPROX_QUANTILES(latency, 100) AS quantiles\n",
    "  FROM `cloud-datalab-samples.httplogs.logs_20140615`\n",
    ")"
   ]
  },
  {
   "cell_type": "markdown",
   "metadata": {},
   "source": [
    "# Visualizing Data\n",
    "\n",
    "Beyond tables, it almost always interesting to be able to visualize the data to get a more meaningful view of aggregates, trends and patterns.\n",
    "\n",
    "Let's write another query, also using `QUANTILES`. This time, the `ROW_NUMBER` function will be used to also include a row number in the output data representing the percentile, using the number as the chart's x-axis value. In order to reference this SQL query later in the notebook, it is given a name via the `--name/-n` argument. This query object can then be passed to a chart by referencing its name. The chart will execute the contained query."
   ]
  },
  {
   "cell_type": "code",
   "execution_count": 11,
   "metadata": {
    "collapsed": false
   },
   "outputs": [],
   "source": [
    "%%bq query --name data\n",
    "WITH quantiles AS (\n",
    "  SELECT APPROX_QUANTILES(LOG10(latency), 50) AS timearray\n",
    "  FROM `cloud-datalab-samples.httplogs.logs_20140615`\n",
    "  WHERE latency <> 0\n",
    ")\n",
    "select row_number() over(order by time) as percentile, time from quantiles cross join unnest(quantiles.timearray) as time\n",
    "order by percentile"
   ]
  },
  {
   "cell_type": "code",
   "execution_count": 12,
   "metadata": {
    "collapsed": false
   },
   "outputs": [
    {
     "data": {
      "text/html": [
       "\n",
       "    <div class=\"bqgc-container\">\n",
       "      \n",
       "      <div class=\"bqgc \" id=\"1_148887392257\">\n",
       "      </div>\n",
       "    </div>\n",
       "    <script>\n",
       "\n",
       "      require.config({\n",
       "        paths: {\n",
       "          d3: '//cdnjs.cloudflare.com/ajax/libs/d3/3.4.13/d3',\n",
       "          plotly: 'https://cdn.plot.ly/plotly-1.5.1.min.js?noext',\n",
       "          jquery: '//ajax.googleapis.com/ajax/libs/jquery/2.0.0/jquery.min'\n",
       "        },\n",
       "        map: {\n",
       "          '*': {\n",
       "            datalab: 'nbextensions/gcpdatalab'\n",
       "          }\n",
       "        },\n",
       "        shim: {\n",
       "          plotly: {\n",
       "            deps: ['d3', 'jquery'],\n",
       "            exports: 'plotly'\n",
       "          }\n",
       "        }\n",
       "      });\n",
       "\n",
       "      require(['datalab/charting',\n",
       "               'datalab/element!1_148887392257',\n",
       "               'base/js/events',\n",
       "               'datalab/style!/nbextensions/gcpdatalab/charting.css'\n",
       "              ],\n",
       "        function(charts, dom, events) {\n",
       "          charts.render(\n",
       "              'gcharts',\n",
       "              dom,\n",
       "              events,\n",
       "              'columns',\n",
       "              [],\n",
       "              {\"rows\": [{\"c\": [{\"v\": 1}, {\"v\": 0.0}]}, {\"c\": [{\"v\": 2}, {\"v\": 0.47712125471966244}]}, {\"c\": [{\"v\": 3}, {\"v\": 1.146128035678238}]}, {\"c\": [{\"v\": 4}, {\"v\": 1.3222192947339193}]}, {\"c\": [{\"v\": 5}, {\"v\": 1.3424226808222062}]}, {\"c\": [{\"v\": 6}, {\"v\": 1.3617278360175928}]}, {\"c\": [{\"v\": 7}, {\"v\": 1.414973347970818}]}, {\"c\": [{\"v\": 8}, {\"v\": 1.4471580313422192}]}, {\"c\": [{\"v\": 9}, {\"v\": 1.4471580313422192}]}, {\"c\": [{\"v\": 10}, {\"v\": 1.462397997898956}]}, {\"c\": [{\"v\": 11}, {\"v\": 1.4913616938342726}]}, {\"c\": [{\"v\": 12}, {\"v\": 1.5185139398778875}]}, {\"c\": [{\"v\": 13}, {\"v\": 1.5314789170422551}]}, {\"c\": [{\"v\": 14}, {\"v\": 1.5440680443502757}]}, {\"c\": [{\"v\": 15}, {\"v\": 1.5563025007672873}]}, {\"c\": [{\"v\": 16}, {\"v\": 1.5797835966168101}]}, {\"c\": [{\"v\": 17}, {\"v\": 1.591064607026499}]}, {\"c\": [{\"v\": 18}, {\"v\": 1.6232492903979006}]}, {\"c\": [{\"v\": 19}, {\"v\": 1.6434526764861874}]}, {\"c\": [{\"v\": 20}, {\"v\": 1.6720978579357175}]}, {\"c\": [{\"v\": 21}, {\"v\": 1.7075701760979363}]}, {\"c\": [{\"v\": 22}, {\"v\": 1.7403626894942439}]}, {\"c\": [{\"v\": 23}, {\"v\": 1.7993405494535817}]}, {\"c\": [{\"v\": 24}, {\"v\": 1.8512583487190752}]}, {\"c\": [{\"v\": 25}, {\"v\": 1.8920946026904804}]}, {\"c\": [{\"v\": 26}, {\"v\": 1.9242792860618816}]}, {\"c\": [{\"v\": 27}, {\"v\": 1.9590413923210936}]}, {\"c\": [{\"v\": 28}, {\"v\": 1.9912260756924949}]}, {\"c\": [{\"v\": 29}, {\"v\": 2.0043213737826426}]}, {\"c\": [{\"v\": 30}, {\"v\": 2.0211892990699383}]}, {\"c\": [{\"v\": 31}, {\"v\": 2.037426497940624}]}, {\"c\": [{\"v\": 32}, {\"v\": 2.0569048513364727}]}, {\"c\": [{\"v\": 33}, {\"v\": 2.0791812460476247}]}, {\"c\": [{\"v\": 34}, {\"v\": 2.0863598306747484}]}, {\"c\": [{\"v\": 35}, {\"v\": 2.100370545117563}]}, {\"c\": [{\"v\": 36}, {\"v\": 2.1367205671564067}]}, {\"c\": [{\"v\": 37}, {\"v\": 2.167317334748176}]}, {\"c\": [{\"v\": 38}, {\"v\": 2.184691430817599}]}, {\"c\": [{\"v\": 39}, {\"v\": 2.1931245983544616}]}, {\"c\": [{\"v\": 40}, {\"v\": 2.2095150145426308}]}, {\"c\": [{\"v\": 41}, {\"v\": 2.2380461031287955}]}, {\"c\": [{\"v\": 42}, {\"v\": 2.2695129442179165}]}, {\"c\": [{\"v\": 43}, {\"v\": 2.305351369446624}]}, {\"c\": [{\"v\": 44}, {\"v\": 2.3443922736851106}]}, {\"c\": [{\"v\": 45}, {\"v\": 2.3891660843645326}]}, {\"c\": [{\"v\": 46}, {\"v\": 2.4533183400470375}]}, {\"c\": [{\"v\": 47}, {\"v\": 2.5289167002776547}]}, {\"c\": [{\"v\": 48}, {\"v\": 2.621176281775035}]}, {\"c\": [{\"v\": 49}, {\"v\": 2.788875115775417}]}, {\"c\": [{\"v\": 50}, {\"v\": 3.702947246181556}]}, {\"c\": [{\"v\": 51}, {\"v\": 7.130363299515732}]}], \"cols\": [{\"type\": \"number\", \"id\": \"percentile\", \"label\": \"percentile\"}, {\"type\": \"number\", \"id\": \"time\", \"label\": \"time\"}]},\n",
       "              {},\n",
       "              {\"fields\": \"percentile,time\", \"source_index\": 0, \"name\": 0},\n",
       "              0,\n",
       "              51);\n",
       "          }\n",
       "        );\n",
       "    </script>\n",
       "  "
      ],
      "text/plain": [
       "<IPython.core.display.HTML object>"
      ]
     },
     "execution_count": 12,
     "metadata": {},
     "output_type": "execute_result"
    },
    {
     "data": {
      "image/png": "[encoded data removed]"
     },
     "metadata": {
      "source_id": "1_148887392257"
     },
     "output_type": "display_data"
    }
   ],
   "source": [
    "%chart columns --data data --fields percentile,time"
   ]
  },
  {
   "cell_type": "markdown",
   "metadata": {
    "collapsed": true
   },
   "source": [
    "# Looking Ahead\n",
    "\n",
    "There are other commands, such as those that import (load) and export (extract) data or that handle tables and datasets.\n",
    "\n",
    "Datalab allows queries to be constructed one step at a time to create **composite SQL queries** that use different constructs such as [User Defined Functions](https://cloud.google.com/bigquery/docs/reference/standard-sql/user-defined-functions) and [External Data Sources](https://cloud.google.com/bigquery/external-data-sources), in order to harness the full power of BigQuery SQL while managing authoring complexity.\n",
    "\n",
    "All of these BigQuery commands are implemented on top of **Python BigQuery APIs** (in the `google.datalab.bigquery` Python module). This implementation not only allows you to write arbitrary code and logic while working with BigQuery data, but also lets you integrate SQL and Python, and the Python data analysis libraries such as pandas and matplotlib, to perform sophisticated and custom data analysis and visualization tasks.\n",
    "\n",
    "These topics are covered in other BigQuery tutorial notebooks that are included with Datalab."
   ]
  }
 ],
 "metadata": {
  "kernelspec": {
   "display_name": "Python 2",
   "language": "python",
   "name": "python2"
  },
  "language_info": {
   "codemirror_mode": {
    "name": "ipython",
    "version": 2
   },
   "file_extension": ".py",
   "mimetype": "text/x-python",
   "name": "python",
   "nbconvert_exporter": "python",
   "pygments_lexer": "ipython2",
   "version": "2.7.9"
  }
 },
 "nbformat": 4,
 "nbformat_minor": 0
}
