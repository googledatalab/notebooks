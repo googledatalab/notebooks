{
 "cells": [
  {
   "cell_type": "markdown",
   "metadata": {},
   "source": [
    "# BigQuery Magic Commands and API\n",
    "\n",
    "The examples in this notebook introduce features of [BigQuery Standard SQL](https://cloud.google.com/bigquery/sql-reference/) and [BigQuery SQL Data Manipulation Language (beta)](https://cloud.google.com/bigquery/sql-reference/dml-syntax). BigQuery Standard SQL is compliant with the SQL 2011 standard. You've already seen the use of the magic command `%%bq` in the [Hello BigQuery](Hello BigQuery.ipynb) and [BigQuery Commands](BigQuery Commands.ipynb) notebooks. This command and others in the Datalab API support BigQuery Standard SQL.\n",
    "\n",
    "This notebook shows some more uses of the BigQuery Python API."
   ]
  },
  {
   "cell_type": "markdown",
   "metadata": {},
   "source": [
    "## Using the BigQuery Magic command with Standard SQL\n",
    "\n",
    "First, we will cover some more uses of the `%%bq` magic command. Let's define a query to work with:"
   ]
  },
  {
   "cell_type": "code",
   "execution_count": null,
   "metadata": {
    "collapsed": false
   },
   "outputs": [],
   "source": [
    "%%bq query --name UniqueNames2013\n",
    "WITH UniqueNames2013 AS\n",
    "(SELECT DISTINCT name\n",
    "  FROM `bigquery-public-data.usa_names.usa_1910_2013`\n",
    "  WHERE Year = 2013)\n",
    "SELECT * FROM UniqueNames2013"
   ]
  },
  {
   "cell_type": "markdown",
   "metadata": {},
   "source": [
    "Now let's list all available commands to work with `%%bq`"
   ]
  },
  {
   "cell_type": "code",
   "execution_count": null,
   "metadata": {
    "collapsed": false
   },
   "outputs": [],
   "source": [
    "%%bq -h"
   ]
  },
  {
   "cell_type": "markdown",
   "metadata": {},
   "source": [
    "The `dryrun` argument in ``%%bq`` can be helpful to confirm the syntax of the SQL query. Instead of executing the query, it will only return some statistics:"
   ]
  },
  {
   "cell_type": "code",
   "execution_count": null,
   "metadata": {
    "collapsed": false
   },
   "outputs": [],
   "source": [
    "%%bq dryrun -q UniqueNames2013"
   ]
  },
  {
   "cell_type": "markdown",
   "metadata": {},
   "source": [
    "Now, let's get a small sample of the results using the `sample` argument in ``%%bq``:"
   ]
  },
  {
   "cell_type": "code",
   "execution_count": null,
   "metadata": {
    "collapsed": false
   },
   "outputs": [],
   "source": [
    "%%bq sample -q UniqueNames2013"
   ]
  },
  {
   "cell_type": "markdown",
   "metadata": {},
   "source": [
    "Finally, We can use the `execute` argument in %%bq to display the results of our query:"
   ]
  },
  {
   "cell_type": "code",
   "execution_count": null,
   "metadata": {
    "collapsed": false
   },
   "outputs": [],
   "source": [
    "%%bq execute -q UniqueNames2013"
   ]
  },
  {
   "cell_type": "markdown",
   "metadata": {},
   "source": [
    "## Using Standard SQL with the Datalab BigQuery API\n",
    "\n",
    "The Cloud Datalab APIs are provided in the `datalab` Python library, and the BigQuery functionality is contained within the `google.datalab.bigquery` module. \n",
    "\n",
    "The most important BigQuery-related API is the one that allows you to execute a SQL query. The `google.datalab.bigquery.Query` class provides that functionality. To run a query using BigQuery Standard SQL, create a new `Query` object with the desired SQL string, or use an object that has already been defined by the `%%bq` command. Let's take a look at the object we created before: `UniqueNames2013`."
   ]
  },
  {
   "cell_type": "code",
   "execution_count": null,
   "metadata": {
    "collapsed": false
   },
   "outputs": [],
   "source": [
    "UniqueNames2013"
   ]
  },
  {
   "cell_type": "markdown",
   "metadata": {},
   "source": [
    "Now let's see how we can recreate it using the API:"
   ]
  },
  {
   "cell_type": "code",
   "execution_count": null,
   "metadata": {
    "collapsed": true
   },
   "outputs": [],
   "source": [
    "import google.datalab.bigquery as bq"
   ]
  },
  {
   "cell_type": "code",
   "execution_count": null,
   "metadata": {
    "collapsed": false
   },
   "outputs": [],
   "source": [
    "UniqueNames2013 = bq.Query(sql='''\n",
    "  WITH UniqueNames2013 AS\n",
    "  (SELECT DISTINCT name\n",
    "    FROM `bigquery-public-data.usa_names.usa_1910_2013`\n",
    "    WHERE Year = 2013)\n",
    "  SELECT * FROM UniqueNames2013\n",
    "''')"
   ]
  },
  {
   "cell_type": "markdown",
   "metadata": {},
   "source": [
    "To execute the query and view a sample from the result table, we will use a Table `QueryOutput` object:"
   ]
  },
  {
   "cell_type": "code",
   "execution_count": null,
   "metadata": {
    "collapsed": false
   },
   "outputs": [],
   "source": [
    "sampling = bq.Sampling.random(percent=2)\n",
    "job = UniqueNames2013.execute(sampling=sampling)"
   ]
  },
  {
   "cell_type": "markdown",
   "metadata": {},
   "source": [
    "To run the query and display the entire result set in a table, use the following:"
   ]
  },
  {
   "cell_type": "code",
   "execution_count": null,
   "metadata": {
    "collapsed": false
   },
   "outputs": [],
   "source": [
    "job.result()"
   ]
  },
  {
   "cell_type": "markdown",
   "metadata": {},
   "source": [
    "Notice every time we run the query above, we get a different set of results, since we chose a random sampling of 2%."
   ]
  },
  {
   "cell_type": "markdown",
   "metadata": {},
   "source": [
    "we can also run the query and copy the sampled result into a pandas DataFrame. For that, we use a `QueryOutput` object:"
   ]
  },
  {
   "cell_type": "code",
   "execution_count": null,
   "metadata": {
    "collapsed": false
   },
   "outputs": [],
   "source": [
    "output_options = bq.QueryOutput.dataframe(max_rows=10)\n",
    "job = UniqueNames2013.execute(output_options=output_options)"
   ]
  },
  {
   "cell_type": "code",
   "execution_count": null,
   "metadata": {
    "collapsed": false
   },
   "outputs": [],
   "source": [
    "job.result()"
   ]
  },
  {
   "cell_type": "code",
   "execution_count": null,
   "metadata": {
    "collapsed": false
   },
   "outputs": [],
   "source": [
    "type(job.result())"
   ]
  },
  {
   "cell_type": "markdown",
   "metadata": {},
   "source": [
    "# Using Google BigQuery SQL Data Manipulation Language\n",
    "\n",
    "Below, we will demonstrate how to use Google BigQuery SQL Data Manipulation Language (DML) in Google Cloud Datalab."
   ]
  },
  {
   "cell_type": "markdown",
   "metadata": {},
   "source": [
    "## Preparation\n",
    "\n",
    "First, let's create a sample dataset and table to help demonstrate the features of Google BigQuery DML."
   ]
  },
  {
   "cell_type": "code",
   "execution_count": null,
   "metadata": {
    "collapsed": false
   },
   "outputs": [],
   "source": [
    "# Create a new dataset (this will be deleted later in the notebook)\n",
    "sample_dataset = bq.Dataset('sampleDML')\n",
    "if not sample_dataset.exists():\n",
    "  sample_dataset.create(friendly_name = 'Sample Dataset for testing DML', description = 'Created from Sample Notebook in Google Cloud Datalab')\n",
    "  sample_dataset.exists()"
   ]
  },
  {
   "cell_type": "code",
   "execution_count": null,
   "metadata": {
    "collapsed": true
   },
   "outputs": [],
   "source": [
    "# To create a table, we also need to create a schema.\n",
    "# Its easiest to create a schema from some existing data, so this\n",
    "# example demonstrates using an example object\n",
    "fruit_row = {\n",
    "  'name': 'string value',\n",
    "  'count': 0\n",
    "}\n",
    "\n",
    "sample_table1 = bq.Table(\"sampleDML.fruit_basket\").create(schema = bq.Schema.from_data([fruit_row]), \n",
    "                                                          overwrite = True)"
   ]
  },
  {
   "cell_type": "markdown",
   "metadata": {},
   "source": [
    "## Inserting Data\n",
    "\n",
    "We can add rows to our newly created `fruit_basket` table by using an `INSERT` statement in our BigQuery Standard SQL query."
   ]
  },
  {
   "cell_type": "code",
   "execution_count": null,
   "metadata": {
    "collapsed": false
   },
   "outputs": [],
   "source": [
    "%%bq query -n insertFruit\n",
    "INSERT sampleDML.fruit_basket (name, count)\n",
    "VALUES('banana', 5),\n",
    "      ('orange', 10),\n",
    "      ('apple', 15),\n",
    "      ('mango', 20)"
   ]
  },
  {
   "cell_type": "code",
   "execution_count": null,
   "metadata": {
    "collapsed": false
   },
   "outputs": [],
   "source": [
    "%bq execute -q insertFruit"
   ]
  },
  {
   "cell_type": "markdown",
   "metadata": {},
   "source": [
    "You may rewrite the previous query as:"
   ]
  },
  {
   "cell_type": "code",
   "execution_count": null,
   "metadata": {
    "collapsed": false
   },
   "outputs": [],
   "source": [
    "%%bq query -n insertFruit2\n",
    "INSERT sampleDML.fruit_basket (name, count)\n",
    "SELECT * \n",
    "FROM UNNEST([('peach', 25), ('watermelon', 30)])"
   ]
  },
  {
   "cell_type": "code",
   "execution_count": null,
   "metadata": {
    "collapsed": false
   },
   "outputs": [],
   "source": [
    "%bq execute -q insertFruit2"
   ]
  },
  {
   "cell_type": "markdown",
   "metadata": {},
   "source": [
    "You can also use a `WITH` clause with `INSERT` and `SELECT`."
   ]
  },
  {
   "cell_type": "code",
   "execution_count": null,
   "metadata": {
    "collapsed": false
   },
   "outputs": [],
   "source": [
    "%%bq query -n insertFruit3\n",
    "INSERT sampleDML.fruit_basket(name, count)\n",
    "WITH w AS (\n",
    "  SELECT ARRAY<STRUCT<name string, count int64>>\n",
    "      [('cherry', 35),\n",
    "      ('cranberry', 40),\n",
    "      ('pear', 45)] col\n",
    ")\n",
    "SELECT name, count FROM w, UNNEST(w.col)"
   ]
  },
  {
   "cell_type": "code",
   "execution_count": null,
   "metadata": {
    "collapsed": false
   },
   "outputs": [],
   "source": [
    "%bq execute -q insertFruit3"
   ]
  },
  {
   "cell_type": "markdown",
   "metadata": {},
   "source": [
    "Here is an example that copies one table's contents into another. First we will create a new table."
   ]
  },
  {
   "cell_type": "code",
   "execution_count": null,
   "metadata": {
    "collapsed": true
   },
   "outputs": [],
   "source": [
    "fruit_row_detailed = {\n",
    "  'name': 'string value',\n",
    "  'count': 0,\n",
    "  'readytoeat': False\n",
    "}\n",
    "sample_table2 = bq.Table(\"sampleDML.fruit_basket_detailed\").create(schema = bq.Schema.from_data([fruit_row_detailed]), \n",
    "                                                                   overwrite = True)"
   ]
  },
  {
   "cell_type": "code",
   "execution_count": null,
   "metadata": {
    "collapsed": false
   },
   "outputs": [],
   "source": [
    "%%bq query -n insertFruitFromTable\n",
    "INSERT sampleDML.fruit_basket_detailed (name, count, readytoeat)\n",
    "SELECT name, count, false\n",
    "FROM sampleDML.fruit_basket"
   ]
  },
  {
   "cell_type": "code",
   "execution_count": null,
   "metadata": {
    "collapsed": false
   },
   "outputs": [],
   "source": [
    "%bq execute -q insertFruitFromTable"
   ]
  },
  {
   "cell_type": "markdown",
   "metadata": {},
   "source": [
    "## Updating Data\n",
    "\n",
    "You can update rows in the `fruit_basket` table by using an `UPDATE` statement in the BigQuery Standard SQL query. We will try to do this using the Google Cloud Datalab BigQuery API."
   ]
  },
  {
   "cell_type": "code",
   "execution_count": null,
   "metadata": {
    "collapsed": true
   },
   "outputs": [],
   "source": [
    "%%bq query -n set_orange_ready_to_eat\n",
    "UPDATE sampleDML.fruit_basket_detailed\n",
    "SET readytoeat = True\n",
    "WHERE name = 'banana'"
   ]
  },
  {
   "cell_type": "code",
   "execution_count": null,
   "metadata": {
    "collapsed": false
   },
   "outputs": [],
   "source": [
    "set_orange_ready_to_eat.execute()"
   ]
  },
  {
   "cell_type": "markdown",
   "metadata": {},
   "source": [
    "To view the contents of a table in BigQuery, use `%%bq tables view` command:"
   ]
  },
  {
   "cell_type": "code",
   "execution_count": null,
   "metadata": {
    "collapsed": false
   },
   "outputs": [],
   "source": [
    "%%bq tables view -n sampleDML.fruit_basket_detailed"
   ]
  },
  {
   "cell_type": "markdown",
   "metadata": {},
   "source": [
    "## Deleting Data\n",
    "\n",
    "You can delete rows in the `fruit_basket` table by using a `DELETE` statement in the BigQuery Standard SQL query."
   ]
  },
  {
   "cell_type": "code",
   "execution_count": null,
   "metadata": {
    "collapsed": false
   },
   "outputs": [],
   "source": [
    "%%bq query -n deleteFruit\n",
    "DELETE sampleDML.fruit_basket\n",
    "WHERE name in ('cherry', 'cranberry')"
   ]
  },
  {
   "cell_type": "code",
   "execution_count": null,
   "metadata": {
    "collapsed": false
   },
   "outputs": [],
   "source": [
    "%bq execute -q deleteFruit"
   ]
  },
  {
   "cell_type": "markdown",
   "metadata": {},
   "source": [
    "Use the following query to delete the corresponding entries in `sampleDML.fruit_basket_detailed`"
   ]
  },
  {
   "cell_type": "code",
   "execution_count": null,
   "metadata": {
    "collapsed": false
   },
   "outputs": [],
   "source": [
    "%%bq query -n deleteFruitDetailed\n",
    "DELETE sampleDML.fruit_basket_detailed\n",
    "WHERE NOT EXISTS\n",
    "  (SELECT * FROM sampleDML.fruit_basket\n",
    "  WHERE fruit_basket_detailed.name = fruit_basket.name)"
   ]
  },
  {
   "cell_type": "code",
   "execution_count": null,
   "metadata": {
    "collapsed": false
   },
   "outputs": [],
   "source": [
    "%bq execute -q deleteFruitDetailed"
   ]
  },
  {
   "cell_type": "markdown",
   "metadata": {},
   "source": [
    "## Deleting Resources"
   ]
  },
  {
   "cell_type": "code",
   "execution_count": null,
   "metadata": {
    "collapsed": true
   },
   "outputs": [],
   "source": [
    "# Clear out sample resources\n",
    "sample_dataset.delete(delete_contents = True)"
   ]
  }
 ],
 "metadata": {
  "kernelspec": {
   "display_name": "Python 2",
   "language": "python",
   "name": "python2"
  },
  "language_info": {
   "codemirror_mode": {
    "name": "ipython",
    "version": 2
   },
   "file_extension": ".py",
   "mimetype": "text/x-python",
   "name": "python",
   "nbconvert_exporter": "python",
   "pygments_lexer": "ipython2",
   "version": "2.7.9"
  }
 },
 "nbformat": 4,
 "nbformat_minor": 0
}
