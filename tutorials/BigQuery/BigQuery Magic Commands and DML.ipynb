{
 "cells": [
  {
   "cell_type": "markdown",
   "metadata": {},
   "source": [
    "# BigQuery Magic Commands and DML\n",
    "\n",
    "The examples in this notebook introduce features of [BigQuery Standard SQL](https://cloud.google.com/bigquery/sql-reference/) and [BigQuery SQL Data Manipulation Language (beta)](https://cloud.google.com/bigquery/sql-reference/dml-syntax). BigQuery Standard SQL is compliant with the SQL 2011 standard. You've already seen the use of the magic command `%%bq` in the [Hello BigQuery](Hello BigQuery.ipynb) and [BigQuery Commands](BigQuery Commands.ipynb) notebooks. This command and others in the Google Cloud Datalab API support BigQuery Standard SQL."
   ]
  },
  {
   "cell_type": "markdown",
   "metadata": {},
   "source": [
    "## Using the BigQuery Magic command with Standard SQL\n",
    "\n",
    "First, we will cover some more uses of the `%%bq` magic command. Let's define a query to work with:"
   ]
  },
  {
   "cell_type": "code",
   "execution_count": 54,
   "metadata": {
    "collapsed": false
   },
   "outputs": [],
   "source": [
    "%%bq query --name UniqueNames2013\n",
    "WITH UniqueNames2013 AS\n",
    "(SELECT DISTINCT name\n",
    "  FROM `bigquery-public-data.usa_names.usa_1910_2013`\n",
    "  WHERE Year = 2013)\n",
    "SELECT * FROM UniqueNames2013"
   ]
  },
  {
   "cell_type": "markdown",
   "metadata": {},
   "source": [
    "Now let's list all available commands to work with `%%bq`"
   ]
  },
  {
   "cell_type": "code",
   "execution_count": 55,
   "metadata": {
    "collapsed": false
   },
   "outputs": [
    {
     "name": "stdout",
     "output_type": "stream",
     "text": [
      "usage: bq [-h]\n",
      "          {datasets,tables,query,execute,extract,sample,dryrun,udf,datasource,load}\n",
      "          ...\n",
      "\n",
      "Execute various BigQuery-related operations. Use \"%bq <command> -h\" for help\n",
      "on a specific command.\n",
      "\n",
      "positional arguments:\n",
      "  {datasets,tables,query,execute,extract,sample,dryrun,udf,datasource,load}\n",
      "                        commands\n",
      "    datasets            Operations on BigQuery datasets\n",
      "    tables              Operations on BigQuery tables\n",
      "    query               Create or execute a BigQuery SQL query object,\n",
      "                        optionally using other SQL objects, UDFs, or external\n",
      "                        datasources. If a query name is not specified, the\n",
      "                        query is executed.\n",
      "    execute             Execute a BigQuery SQL query and optionally send the\n",
      "                        results to a named table. The cell can optionally\n",
      "                        contain arguments for expanding variables in the\n",
      "                        query.\n",
      "    extract             Extract a query or table into file (local or GCS)\n",
      "    sample              Display a sample of the results of a BigQuery SQL\n",
      "                        query. The cell can optionally contain arguments for\n",
      "                        expanding variables in the query, if -q/--query was\n",
      "                        used, or it can contain SQL for a query.\n",
      "    dryrun              Execute a dry run of a BigQuery query and display\n",
      "                        approximate usage statistics\n",
      "    udf                 Create a named Javascript BigQuery UDF\n",
      "    datasource          Create a named Javascript BigQuery external data\n",
      "                        source\n",
      "    load                Load data from GCS into a BigQuery table. If creating\n",
      "                        a new table, a schema should be specified in YAML or\n",
      "                        JSON in the cell body, otherwise the schema is\n",
      "                        inferred from existing table.\n",
      "\n",
      "optional arguments:\n",
      "  -h, --help            show this help message and exit\n",
      "None\n"
     ]
    }
   ],
   "source": [
    "%%bq -h"
   ]
  },
  {
   "cell_type": "markdown",
   "metadata": {},
   "source": [
    "The `dryrun` argument in ``%%bq`` can be helpful to confirm the syntax of the SQL query. Instead of executing the query, it will only return some statistics:"
   ]
  },
  {
   "cell_type": "code",
   "execution_count": 56,
   "metadata": {
    "collapsed": false
   },
   "outputs": [
    {
     "data": {
      "text/html": [
       "\n",
       "    <p>Dry run information:    88MB to process, results cached</p>\n",
       "    "
      ],
      "text/plain": [
       "<google.datalab.bigquery._query_stats.QueryStats at 0x7fab7d3af950>"
      ]
     },
     "execution_count": 56,
     "metadata": {},
     "output_type": "execute_result"
    }
   ],
   "source": [
    "%%bq dryrun -q UniqueNames2013"
   ]
  },
  {
   "cell_type": "markdown",
   "metadata": {},
   "source": [
    "Now, let's get a small sample of the results using the `sample` argument in ``%%bq``:"
   ]
  },
  {
   "cell_type": "code",
   "execution_count": 57,
   "metadata": {
    "collapsed": false
   },
   "outputs": [
    {
     "data": {
      "text/html": [
       "\n",
       "    <div class=\"bqtv\" id=\"23_148887516613\"><table><tr><th>name</th></tr><tr><td>Coleton</td></tr><tr><td>Amberlee</td></tr><tr><td>Anwar</td></tr><tr><td>Kennedy</td></tr><tr><td>Rainier</td></tr><tr><td>Joaquin</td></tr><tr><td>Gisela</td></tr><tr><td>Elienai</td></tr><tr><td>Myra</td></tr><tr><td>Jentry</td></tr></table></div>\n",
       "    <br />(rows: 10, time: 0.3s, cached, job: job_gVR-rWDXxEkBelTPU4vAuLcJdOs)<br />\n",
       "    <script>\n",
       "\n",
       "      require.config({\n",
       "        paths: {\n",
       "          d3: '//cdnjs.cloudflare.com/ajax/libs/d3/3.4.13/d3',\n",
       "          plotly: 'https://cdn.plot.ly/plotly-1.5.1.min.js?noext',\n",
       "          jquery: '//ajax.googleapis.com/ajax/libs/jquery/2.0.0/jquery.min'\n",
       "        },\n",
       "        map: {\n",
       "          '*': {\n",
       "            datalab: 'nbextensions/gcpdatalab'\n",
       "          }\n",
       "        },\n",
       "        shim: {\n",
       "          plotly: {\n",
       "            deps: ['d3', 'jquery'],\n",
       "            exports: 'plotly'\n",
       "          }\n",
       "        }\n",
       "      });\n",
       "\n",
       "      require(['datalab/charting', 'datalab/element!23_148887516613', 'base/js/events',\n",
       "          'datalab/style!/nbextensions/gcpdatalab/charting.css'],\n",
       "        function(charts, dom, events) {\n",
       "          charts.render('gcharts', dom, events, 'table', [], {\"rows\": [{\"c\": [{\"v\": \"Coleton\"}]}, {\"c\": [{\"v\": \"Amberlee\"}]}, {\"c\": [{\"v\": \"Anwar\"}]}, {\"c\": [{\"v\": \"Kennedy\"}]}, {\"c\": [{\"v\": \"Rainier\"}]}, {\"c\": [{\"v\": \"Joaquin\"}]}, {\"c\": [{\"v\": \"Gisela\"}]}, {\"c\": [{\"v\": \"Elienai\"}]}, {\"c\": [{\"v\": \"Myra\"}]}, {\"c\": [{\"v\": \"Jentry\"}]}], \"cols\": [{\"type\": \"string\", \"id\": \"name\", \"label\": \"name\"}]},\n",
       "            {\n",
       "              pageSize: 25,\n",
       "              cssClassNames:  {\n",
       "                tableRow: 'gchart-table-row',\n",
       "                headerRow: 'gchart-table-headerrow',\n",
       "                oddTableRow: 'gchart-table-oddrow',\n",
       "                selectedTableRow: 'gchart-table-selectedrow',\n",
       "                hoverTableRow: 'gchart-table-hoverrow',\n",
       "                tableCell: 'gchart-table-cell',\n",
       "                headerCell: 'gchart-table-headercell',\n",
       "                rowNumberCell: 'gchart-table-rownumcell'\n",
       "              }\n",
       "            },\n",
       "            {source_index: 21, fields: 'name'},\n",
       "            0,\n",
       "            10);\n",
       "        }\n",
       "      );\n",
       "    </script>\n",
       "  "
      ],
      "text/plain": [
       "QueryResultsTable job_gVR-rWDXxEkBelTPU4vAuLcJdOs"
      ]
     },
     "execution_count": 57,
     "metadata": {},
     "output_type": "execute_result"
    }
   ],
   "source": [
    "%%bq sample -q UniqueNames2013"
   ]
  },
  {
   "cell_type": "markdown",
   "metadata": {},
   "source": [
    "Finally, We can use the `execute` command in %%bq to display the results of our query:"
   ]
  },
  {
   "cell_type": "code",
   "execution_count": 58,
   "metadata": {
    "collapsed": false
   },
   "outputs": [
    {
     "data": {
      "text/html": [
       "\n",
       "    <div class=\"bqtv\" id=\"24_148887516871\"><table><tr><th>name</th></tr><tr><td>Carmelo</td></tr><tr><td>Blane</td></tr><tr><td>Aryan</td></tr><tr><td>Joeziah</td></tr><tr><td>Izabell</td></tr><tr><td>Kevon</td></tr><tr><td>Tsering</td></tr><tr><td>Ubaldo</td></tr><tr><td>Alyanna</td></tr><tr><td>Zahira</td></tr><tr><td>Ariely</td></tr><tr><td>Brittney</td></tr><tr><td>Bj</td></tr><tr><td>Rhianna</td></tr><tr><td>Elya</td></tr><tr><td>Caliana</td></tr><tr><td>Airam</td></tr><tr><td>Antoni</td></tr><tr><td>Santo</td></tr><tr><td>Estrellita</td></tr><tr><td>Allysa</td></tr><tr><td>Zoraya</td></tr><tr><td>Romina</td></tr><tr><td>Murphy</td></tr><tr><td>Yobani</td></tr></table></div>\n",
       "    <br />(rows: 9510, time: 0.8s, cached, job: job_Zsm5IL9Cv_63abfTEDv4vv4Q8cc)<br />\n",
       "    <script>\n",
       "\n",
       "      require.config({\n",
       "        paths: {\n",
       "          d3: '//cdnjs.cloudflare.com/ajax/libs/d3/3.4.13/d3',\n",
       "          plotly: 'https://cdn.plot.ly/plotly-1.5.1.min.js?noext',\n",
       "          jquery: '//ajax.googleapis.com/ajax/libs/jquery/2.0.0/jquery.min'\n",
       "        },\n",
       "        map: {\n",
       "          '*': {\n",
       "            datalab: 'nbextensions/gcpdatalab'\n",
       "          }\n",
       "        },\n",
       "        shim: {\n",
       "          plotly: {\n",
       "            deps: ['d3', 'jquery'],\n",
       "            exports: 'plotly'\n",
       "          }\n",
       "        }\n",
       "      });\n",
       "\n",
       "      require(['datalab/charting', 'datalab/element!24_148887516871', 'base/js/events',\n",
       "          'datalab/style!/nbextensions/gcpdatalab/charting.css'],\n",
       "        function(charts, dom, events) {\n",
       "          charts.render('gcharts', dom, events, 'paged_table', [], {\"rows\": [{\"c\": [{\"v\": \"Carmelo\"}]}, {\"c\": [{\"v\": \"Blane\"}]}, {\"c\": [{\"v\": \"Aryan\"}]}, {\"c\": [{\"v\": \"Joeziah\"}]}, {\"c\": [{\"v\": \"Izabell\"}]}, {\"c\": [{\"v\": \"Kevon\"}]}, {\"c\": [{\"v\": \"Tsering\"}]}, {\"c\": [{\"v\": \"Ubaldo\"}]}, {\"c\": [{\"v\": \"Alyanna\"}]}, {\"c\": [{\"v\": \"Zahira\"}]}, {\"c\": [{\"v\": \"Ariely\"}]}, {\"c\": [{\"v\": \"Brittney\"}]}, {\"c\": [{\"v\": \"Bj\"}]}, {\"c\": [{\"v\": \"Rhianna\"}]}, {\"c\": [{\"v\": \"Elya\"}]}, {\"c\": [{\"v\": \"Caliana\"}]}, {\"c\": [{\"v\": \"Airam\"}]}, {\"c\": [{\"v\": \"Antoni\"}]}, {\"c\": [{\"v\": \"Santo\"}]}, {\"c\": [{\"v\": \"Estrellita\"}]}, {\"c\": [{\"v\": \"Allysa\"}]}, {\"c\": [{\"v\": \"Zoraya\"}]}, {\"c\": [{\"v\": \"Romina\"}]}, {\"c\": [{\"v\": \"Murphy\"}]}, {\"c\": [{\"v\": \"Yobani\"}]}], \"cols\": [{\"type\": \"string\", \"id\": \"name\", \"label\": \"name\"}]},\n",
       "            {\n",
       "              pageSize: 25,\n",
       "              cssClassNames:  {\n",
       "                tableRow: 'gchart-table-row',\n",
       "                headerRow: 'gchart-table-headerrow',\n",
       "                oddTableRow: 'gchart-table-oddrow',\n",
       "                selectedTableRow: 'gchart-table-selectedrow',\n",
       "                hoverTableRow: 'gchart-table-hoverrow',\n",
       "                tableCell: 'gchart-table-cell',\n",
       "                headerCell: 'gchart-table-headercell',\n",
       "                rowNumberCell: 'gchart-table-rownumcell'\n",
       "              }\n",
       "            },\n",
       "            {source_index: 22, fields: 'name'},\n",
       "            0,\n",
       "            9510);\n",
       "        }\n",
       "      );\n",
       "    </script>\n",
       "  "
      ],
      "text/plain": [
       "QueryResultsTable job_Zsm5IL9Cv_63abfTEDv4vv4Q8cc"
      ]
     },
     "execution_count": 58,
     "metadata": {},
     "output_type": "execute_result"
    }
   ],
   "source": [
    "%%bq execute -q UniqueNames2013"
   ]
  },
  {
   "cell_type": "markdown",
   "metadata": {},
   "source": [
    "# Using Google BigQuery SQL Data Manipulation Language\n",
    "\n",
    "Below, we will demonstrate how to use Google BigQuery SQL Data Manipulation Language (DML) in Datalab."
   ]
  },
  {
   "cell_type": "markdown",
   "metadata": {},
   "source": [
    "## Preparation\n",
    "\n",
    "First, let's import the BigQuery module, and create a sample dataset and table to help demonstrate the features of Google BigQuery DML."
   ]
  },
  {
   "cell_type": "code",
   "execution_count": 1,
   "metadata": {
    "collapsed": true
   },
   "outputs": [],
   "source": [
    "import google.datalab.bigquery as bq"
   ]
  },
  {
   "cell_type": "code",
   "execution_count": 2,
   "metadata": {
    "collapsed": false
   },
   "outputs": [],
   "source": [
    "# Create a new dataset (this will be deleted later in the notebook)\n",
    "sample_dataset = bq.Dataset('sampleDML')\n",
    "if not sample_dataset.exists():\n",
    "  sample_dataset.create(friendly_name = 'Sample Dataset for testing DML', description = 'Created from Sample Notebook in Google Cloud Datalab')\n",
    "  sample_dataset.exists()"
   ]
  },
  {
   "cell_type": "code",
   "execution_count": 67,
   "metadata": {
    "collapsed": false
   },
   "outputs": [],
   "source": [
    "# To create a table, we need to create a schema for it.\n",
    "# Its easiest to create a schema from some existing data, so this\n",
    "# example demonstrates using an example object\n",
    "fruit_row = {\n",
    "  'name': 'string value',\n",
    "  'count': 0\n",
    "}\n",
    "\n",
    "sample_table1 = bq.Table(\"sampleDML.fruit_basket\").create(schema = bq.Schema.from_data([fruit_row]), \n",
    "                                                          overwrite = True)"
   ]
  },
  {
   "cell_type": "markdown",
   "metadata": {},
   "source": [
    "## Inserting Data\n",
    "\n",
    "We can add rows to our newly created `fruit_basket` table by using an `INSERT` statement in our BigQuery Standard SQL query."
   ]
  },
  {
   "cell_type": "code",
   "execution_count": 68,
   "metadata": {
    "collapsed": false
   },
   "outputs": [
    {
     "data": {
      "text/html": [
       "\n",
       "    <div class=\"bqtv\" id=\"26_148887518160\"><table><tr><th>count</th><th>name</th></tr><tr><td>15</td><td>apple</td></tr><tr><td>5</td><td>banana</td></tr><tr><td>10</td><td>orange</td></tr><tr><td>20</td><td>mango</td></tr></table></div>\n",
       "    <br />(rows: 4, time: 1.6s,     0B processed, job: job_e--49sI22zCRPH5cBFhr7GdMW10)<br />\n",
       "    <script>\n",
       "\n",
       "      require.config({\n",
       "        paths: {\n",
       "          d3: '//cdnjs.cloudflare.com/ajax/libs/d3/3.4.13/d3',\n",
       "          plotly: 'https://cdn.plot.ly/plotly-1.5.1.min.js?noext',\n",
       "          jquery: '//ajax.googleapis.com/ajax/libs/jquery/2.0.0/jquery.min'\n",
       "        },\n",
       "        map: {\n",
       "          '*': {\n",
       "            datalab: 'nbextensions/gcpdatalab'\n",
       "          }\n",
       "        },\n",
       "        shim: {\n",
       "          plotly: {\n",
       "            deps: ['d3', 'jquery'],\n",
       "            exports: 'plotly'\n",
       "          }\n",
       "        }\n",
       "      });\n",
       "\n",
       "      require(['datalab/charting', 'datalab/element!26_148887518160', 'base/js/events',\n",
       "          'datalab/style!/nbextensions/gcpdatalab/charting.css'],\n",
       "        function(charts, dom, events) {\n",
       "          charts.render('gcharts', dom, events, 'table', [], {\"rows\": [{\"c\": [{\"v\": 15}, {\"v\": \"apple\"}]}, {\"c\": [{\"v\": 5}, {\"v\": \"banana\"}]}, {\"c\": [{\"v\": 10}, {\"v\": \"orange\"}]}, {\"c\": [{\"v\": 20}, {\"v\": \"mango\"}]}], \"cols\": [{\"type\": \"number\", \"id\": \"count\", \"label\": \"count\"}, {\"type\": \"string\", \"id\": \"name\", \"label\": \"name\"}]},\n",
       "            {\n",
       "              pageSize: 25,\n",
       "              cssClassNames:  {\n",
       "                tableRow: 'gchart-table-row',\n",
       "                headerRow: 'gchart-table-headerrow',\n",
       "                oddTableRow: 'gchart-table-oddrow',\n",
       "                selectedTableRow: 'gchart-table-selectedrow',\n",
       "                hoverTableRow: 'gchart-table-hoverrow',\n",
       "                tableCell: 'gchart-table-cell',\n",
       "                headerCell: 'gchart-table-headercell',\n",
       "                rowNumberCell: 'gchart-table-rownumcell'\n",
       "              }\n",
       "            },\n",
       "            {source_index: 24, fields: 'count,name'},\n",
       "            0,\n",
       "            4);\n",
       "        }\n",
       "      );\n",
       "    </script>\n",
       "  "
      ],
      "text/plain": [
       "QueryResultsTable job_e--49sI22zCRPH5cBFhr7GdMW10"
      ]
     },
     "execution_count": 68,
     "metadata": {},
     "output_type": "execute_result"
    }
   ],
   "source": [
    "%%bq query\n",
    "INSERT sampleDML.fruit_basket (name, count)\n",
    "VALUES('banana', 5),\n",
    "      ('orange', 10),\n",
    "      ('apple', 15),\n",
    "      ('mango', 20)"
   ]
  },
  {
   "cell_type": "markdown",
   "metadata": {},
   "source": [
    "You may rewrite the previous query as:"
   ]
  },
  {
   "cell_type": "code",
   "execution_count": 69,
   "metadata": {
    "collapsed": false
   },
   "outputs": [
    {
     "data": {
      "text/html": [
       "\n",
       "    <div class=\"bqtv\" id=\"27_148887518537\"><table><tr><th>count</th><th>name</th></tr><tr><td>15</td><td>apple</td></tr><tr><td>5</td><td>banana</td></tr><tr><td>10</td><td>orange</td></tr><tr><td>20</td><td>mango</td></tr><tr><td>25</td><td>peach</td></tr><tr><td>30</td><td>watermelon</td></tr></table></div>\n",
       "    <br />(rows: 6, time: 1.8s,     0B processed, job: job_3KF4KPpcNjz3LNp81JRITBsWfNY)<br />\n",
       "    <script>\n",
       "\n",
       "      require.config({\n",
       "        paths: {\n",
       "          d3: '//cdnjs.cloudflare.com/ajax/libs/d3/3.4.13/d3',\n",
       "          plotly: 'https://cdn.plot.ly/plotly-1.5.1.min.js?noext',\n",
       "          jquery: '//ajax.googleapis.com/ajax/libs/jquery/2.0.0/jquery.min'\n",
       "        },\n",
       "        map: {\n",
       "          '*': {\n",
       "            datalab: 'nbextensions/gcpdatalab'\n",
       "          }\n",
       "        },\n",
       "        shim: {\n",
       "          plotly: {\n",
       "            deps: ['d3', 'jquery'],\n",
       "            exports: 'plotly'\n",
       "          }\n",
       "        }\n",
       "      });\n",
       "\n",
       "      require(['datalab/charting', 'datalab/element!27_148887518537', 'base/js/events',\n",
       "          'datalab/style!/nbextensions/gcpdatalab/charting.css'],\n",
       "        function(charts, dom, events) {\n",
       "          charts.render('gcharts', dom, events, 'table', [], {\"rows\": [{\"c\": [{\"v\": 15}, {\"v\": \"apple\"}]}, {\"c\": [{\"v\": 5}, {\"v\": \"banana\"}]}, {\"c\": [{\"v\": 10}, {\"v\": \"orange\"}]}, {\"c\": [{\"v\": 20}, {\"v\": \"mango\"}]}, {\"c\": [{\"v\": 25}, {\"v\": \"peach\"}]}, {\"c\": [{\"v\": 30}, {\"v\": \"watermelon\"}]}], \"cols\": [{\"type\": \"number\", \"id\": \"count\", \"label\": \"count\"}, {\"type\": \"string\", \"id\": \"name\", \"label\": \"name\"}]},\n",
       "            {\n",
       "              pageSize: 25,\n",
       "              cssClassNames:  {\n",
       "                tableRow: 'gchart-table-row',\n",
       "                headerRow: 'gchart-table-headerrow',\n",
       "                oddTableRow: 'gchart-table-oddrow',\n",
       "                selectedTableRow: 'gchart-table-selectedrow',\n",
       "                hoverTableRow: 'gchart-table-hoverrow',\n",
       "                tableCell: 'gchart-table-cell',\n",
       "                headerCell: 'gchart-table-headercell',\n",
       "                rowNumberCell: 'gchart-table-rownumcell'\n",
       "              }\n",
       "            },\n",
       "            {source_index: 25, fields: 'count,name'},\n",
       "            0,\n",
       "            6);\n",
       "        }\n",
       "      );\n",
       "    </script>\n",
       "  "
      ],
      "text/plain": [
       "QueryResultsTable job_3KF4KPpcNjz3LNp81JRITBsWfNY"
      ]
     },
     "execution_count": 69,
     "metadata": {},
     "output_type": "execute_result"
    }
   ],
   "source": [
    "%%bq query\n",
    "INSERT sampleDML.fruit_basket (name, count)\n",
    "SELECT * \n",
    "FROM UNNEST([('peach', 25), ('watermelon', 30)])"
   ]
  },
  {
   "cell_type": "markdown",
   "metadata": {},
   "source": [
    "You can also use a `WITH` clause with `INSERT` and `SELECT`."
   ]
  },
  {
   "cell_type": "code",
   "execution_count": 70,
   "metadata": {
    "collapsed": false
   },
   "outputs": [
    {
     "data": {
      "text/html": [
       "\n",
       "    <div class=\"bqtv\" id=\"28_148887518938\"><table><tr><th>count</th><th>name</th></tr><tr><td>15</td><td>apple</td></tr><tr><td>5</td><td>banana</td></tr><tr><td>10</td><td>orange</td></tr><tr><td>20</td><td>mango</td></tr><tr><td>25</td><td>peach</td></tr><tr><td>30</td><td>watermelon</td></tr><tr><td>45</td><td>pear</td></tr><tr><td>35</td><td>cherry</td></tr><tr><td>40</td><td>cranberry</td></tr></table></div>\n",
       "    <br />(rows: 9, time: 1.9s,     0B processed, job: job_EcuLfvkWytctD0zq7O9HO5hjN-A)<br />\n",
       "    <script>\n",
       "\n",
       "      require.config({\n",
       "        paths: {\n",
       "          d3: '//cdnjs.cloudflare.com/ajax/libs/d3/3.4.13/d3',\n",
       "          plotly: 'https://cdn.plot.ly/plotly-1.5.1.min.js?noext',\n",
       "          jquery: '//ajax.googleapis.com/ajax/libs/jquery/2.0.0/jquery.min'\n",
       "        },\n",
       "        map: {\n",
       "          '*': {\n",
       "            datalab: 'nbextensions/gcpdatalab'\n",
       "          }\n",
       "        },\n",
       "        shim: {\n",
       "          plotly: {\n",
       "            deps: ['d3', 'jquery'],\n",
       "            exports: 'plotly'\n",
       "          }\n",
       "        }\n",
       "      });\n",
       "\n",
       "      require(['datalab/charting', 'datalab/element!28_148887518938', 'base/js/events',\n",
       "          'datalab/style!/nbextensions/gcpdatalab/charting.css'],\n",
       "        function(charts, dom, events) {\n",
       "          charts.render('gcharts', dom, events, 'table', [], {\"rows\": [{\"c\": [{\"v\": 15}, {\"v\": \"apple\"}]}, {\"c\": [{\"v\": 5}, {\"v\": \"banana\"}]}, {\"c\": [{\"v\": 10}, {\"v\": \"orange\"}]}, {\"c\": [{\"v\": 20}, {\"v\": \"mango\"}]}, {\"c\": [{\"v\": 25}, {\"v\": \"peach\"}]}, {\"c\": [{\"v\": 30}, {\"v\": \"watermelon\"}]}, {\"c\": [{\"v\": 45}, {\"v\": \"pear\"}]}, {\"c\": [{\"v\": 35}, {\"v\": \"cherry\"}]}, {\"c\": [{\"v\": 40}, {\"v\": \"cranberry\"}]}], \"cols\": [{\"type\": \"number\", \"id\": \"count\", \"label\": \"count\"}, {\"type\": \"string\", \"id\": \"name\", \"label\": \"name\"}]},\n",
       "            {\n",
       "              pageSize: 25,\n",
       "              cssClassNames:  {\n",
       "                tableRow: 'gchart-table-row',\n",
       "                headerRow: 'gchart-table-headerrow',\n",
       "                oddTableRow: 'gchart-table-oddrow',\n",
       "                selectedTableRow: 'gchart-table-selectedrow',\n",
       "                hoverTableRow: 'gchart-table-hoverrow',\n",
       "                tableCell: 'gchart-table-cell',\n",
       "                headerCell: 'gchart-table-headercell',\n",
       "                rowNumberCell: 'gchart-table-rownumcell'\n",
       "              }\n",
       "            },\n",
       "            {source_index: 26, fields: 'count,name'},\n",
       "            0,\n",
       "            9);\n",
       "        }\n",
       "      );\n",
       "    </script>\n",
       "  "
      ],
      "text/plain": [
       "QueryResultsTable job_EcuLfvkWytctD0zq7O9HO5hjN-A"
      ]
     },
     "execution_count": 70,
     "metadata": {},
     "output_type": "execute_result"
    }
   ],
   "source": [
    "%%bq query\n",
    "INSERT sampleDML.fruit_basket(name, count)\n",
    "WITH w AS (\n",
    "  SELECT ARRAY<STRUCT<name string, count int64>>\n",
    "      [('cherry', 35),\n",
    "      ('cranberry', 40),\n",
    "      ('pear', 45)] col\n",
    ")\n",
    "SELECT name, count FROM w, UNNEST(w.col)"
   ]
  },
  {
   "cell_type": "markdown",
   "metadata": {},
   "source": [
    "Here is an example that copies one table's contents into another. First we will create a new table."
   ]
  },
  {
   "cell_type": "code",
   "execution_count": 71,
   "metadata": {
    "collapsed": true
   },
   "outputs": [],
   "source": [
    "fruit_row_detailed = {\n",
    "  'name': 'string value',\n",
    "  'count': 0,\n",
    "  'readytoeat': False\n",
    "}\n",
    "sample_table2 = bq.Table(\"sampleDML.fruit_basket_detailed\").create(schema = bq.Schema.from_data([fruit_row_detailed]), \n",
    "                                                                   overwrite = True)"
   ]
  },
  {
   "cell_type": "code",
   "execution_count": 72,
   "metadata": {
    "collapsed": false
   },
   "outputs": [
    {
     "data": {
      "text/html": [
       "\n",
       "    <div class=\"bqtv\" id=\"29_148887519497\"><table><tr><th>count</th><th>readytoeat</th><th>name</th></tr><tr><td>20</td><td>False</td><td>mango</td></tr><tr><td>25</td><td>False</td><td>peach</td></tr><tr><td>35</td><td>False</td><td>cherry</td></tr><tr><td>45</td><td>False</td><td>pear</td></tr><tr><td>30</td><td>False</td><td>watermelon</td></tr><tr><td>40</td><td>False</td><td>cranberry</td></tr><tr><td>10</td><td>False</td><td>orange</td></tr><tr><td>5</td><td>False</td><td>banana</td></tr><tr><td>15</td><td>False</td><td>apple</td></tr></table></div>\n",
       "    <br />(rows: 9, time: 1.9s,   146B processed, job: job_WCwTcCKTHFjEHWJVZPaDpMIXfNU)<br />\n",
       "    <script>\n",
       "\n",
       "      require.config({\n",
       "        paths: {\n",
       "          d3: '//cdnjs.cloudflare.com/ajax/libs/d3/3.4.13/d3',\n",
       "          plotly: 'https://cdn.plot.ly/plotly-1.5.1.min.js?noext',\n",
       "          jquery: '//ajax.googleapis.com/ajax/libs/jquery/2.0.0/jquery.min'\n",
       "        },\n",
       "        map: {\n",
       "          '*': {\n",
       "            datalab: 'nbextensions/gcpdatalab'\n",
       "          }\n",
       "        },\n",
       "        shim: {\n",
       "          plotly: {\n",
       "            deps: ['d3', 'jquery'],\n",
       "            exports: 'plotly'\n",
       "          }\n",
       "        }\n",
       "      });\n",
       "\n",
       "      require(['datalab/charting', 'datalab/element!29_148887519497', 'base/js/events',\n",
       "          'datalab/style!/nbextensions/gcpdatalab/charting.css'],\n",
       "        function(charts, dom, events) {\n",
       "          charts.render('gcharts', dom, events, 'table', [], {\"rows\": [{\"c\": [{\"v\": 20}, {\"v\": false}, {\"v\": \"mango\"}]}, {\"c\": [{\"v\": 25}, {\"v\": false}, {\"v\": \"peach\"}]}, {\"c\": [{\"v\": 35}, {\"v\": false}, {\"v\": \"cherry\"}]}, {\"c\": [{\"v\": 45}, {\"v\": false}, {\"v\": \"pear\"}]}, {\"c\": [{\"v\": 30}, {\"v\": false}, {\"v\": \"watermelon\"}]}, {\"c\": [{\"v\": 40}, {\"v\": false}, {\"v\": \"cranberry\"}]}, {\"c\": [{\"v\": 10}, {\"v\": false}, {\"v\": \"orange\"}]}, {\"c\": [{\"v\": 5}, {\"v\": false}, {\"v\": \"banana\"}]}, {\"c\": [{\"v\": 15}, {\"v\": false}, {\"v\": \"apple\"}]}], \"cols\": [{\"type\": \"number\", \"id\": \"count\", \"label\": \"count\"}, {\"type\": \"boolean\", \"id\": \"readytoeat\", \"label\": \"readytoeat\"}, {\"type\": \"string\", \"id\": \"name\", \"label\": \"name\"}]},\n",
       "            {\n",
       "              pageSize: 25,\n",
       "              cssClassNames:  {\n",
       "                tableRow: 'gchart-table-row',\n",
       "                headerRow: 'gchart-table-headerrow',\n",
       "                oddTableRow: 'gchart-table-oddrow',\n",
       "                selectedTableRow: 'gchart-table-selectedrow',\n",
       "                hoverTableRow: 'gchart-table-hoverrow',\n",
       "                tableCell: 'gchart-table-cell',\n",
       "                headerCell: 'gchart-table-headercell',\n",
       "                rowNumberCell: 'gchart-table-rownumcell'\n",
       "              }\n",
       "            },\n",
       "            {source_index: 27, fields: 'count,readytoeat,name'},\n",
       "            0,\n",
       "            9);\n",
       "        }\n",
       "      );\n",
       "    </script>\n",
       "  "
      ],
      "text/plain": [
       "QueryResultsTable job_WCwTcCKTHFjEHWJVZPaDpMIXfNU"
      ]
     },
     "execution_count": 72,
     "metadata": {},
     "output_type": "execute_result"
    }
   ],
   "source": [
    "%%bq query\n",
    "INSERT sampleDML.fruit_basket_detailed (name, count, readytoeat)\n",
    "SELECT name, count, false\n",
    "FROM sampleDML.fruit_basket"
   ]
  },
  {
   "cell_type": "markdown",
   "metadata": {},
   "source": [
    "## Updating Data\n",
    "\n",
    "You can update rows in the `fruit_basket` table by using an `UPDATE` statement in the BigQuery Standard SQL query. We will try to do this using the Datalab BigQuery API."
   ]
  },
  {
   "cell_type": "code",
   "execution_count": 73,
   "metadata": {
    "collapsed": false
   },
   "outputs": [
    {
     "data": {
      "text/html": [
       "\n",
       "    <div class=\"bqtv\" id=\"30_148887519901\"><table><tr><th>count</th><th>readytoeat</th><th>name</th></tr><tr><td>35</td><td>False</td><td>cherry</td></tr><tr><td>10</td><td>False</td><td>orange</td></tr><tr><td>20</td><td>False</td><td>mango</td></tr><tr><td>15</td><td>False</td><td>apple</td></tr><tr><td>30</td><td>False</td><td>watermelon</td></tr><tr><td>25</td><td>False</td><td>peach</td></tr><tr><td>45</td><td>False</td><td>pear</td></tr><tr><td>40</td><td>False</td><td>cranberry</td></tr><tr><td>5</td><td>True</td><td>banana</td></tr></table></div>\n",
       "    <br />(rows: 9, time: 1.9s,   155B processed, job: job_v1HJMzfoB_IILWrCJp9PMlLkMr4)<br />\n",
       "    <script>\n",
       "\n",
       "      require.config({\n",
       "        paths: {\n",
       "          d3: '//cdnjs.cloudflare.com/ajax/libs/d3/3.4.13/d3',\n",
       "          plotly: 'https://cdn.plot.ly/plotly-1.5.1.min.js?noext',\n",
       "          jquery: '//ajax.googleapis.com/ajax/libs/jquery/2.0.0/jquery.min'\n",
       "        },\n",
       "        map: {\n",
       "          '*': {\n",
       "            datalab: 'nbextensions/gcpdatalab'\n",
       "          }\n",
       "        },\n",
       "        shim: {\n",
       "          plotly: {\n",
       "            deps: ['d3', 'jquery'],\n",
       "            exports: 'plotly'\n",
       "          }\n",
       "        }\n",
       "      });\n",
       "\n",
       "      require(['datalab/charting', 'datalab/element!30_148887519901', 'base/js/events',\n",
       "          'datalab/style!/nbextensions/gcpdatalab/charting.css'],\n",
       "        function(charts, dom, events) {\n",
       "          charts.render('gcharts', dom, events, 'table', [], {\"rows\": [{\"c\": [{\"v\": 35}, {\"v\": false}, {\"v\": \"cherry\"}]}, {\"c\": [{\"v\": 10}, {\"v\": false}, {\"v\": \"orange\"}]}, {\"c\": [{\"v\": 20}, {\"v\": false}, {\"v\": \"mango\"}]}, {\"c\": [{\"v\": 15}, {\"v\": false}, {\"v\": \"apple\"}]}, {\"c\": [{\"v\": 30}, {\"v\": false}, {\"v\": \"watermelon\"}]}, {\"c\": [{\"v\": 25}, {\"v\": false}, {\"v\": \"peach\"}]}, {\"c\": [{\"v\": 45}, {\"v\": false}, {\"v\": \"pear\"}]}, {\"c\": [{\"v\": 40}, {\"v\": false}, {\"v\": \"cranberry\"}]}, {\"c\": [{\"v\": 5}, {\"v\": true}, {\"v\": \"banana\"}]}], \"cols\": [{\"type\": \"number\", \"id\": \"count\", \"label\": \"count\"}, {\"type\": \"boolean\", \"id\": \"readytoeat\", \"label\": \"readytoeat\"}, {\"type\": \"string\", \"id\": \"name\", \"label\": \"name\"}]},\n",
       "            {\n",
       "              pageSize: 25,\n",
       "              cssClassNames:  {\n",
       "                tableRow: 'gchart-table-row',\n",
       "                headerRow: 'gchart-table-headerrow',\n",
       "                oddTableRow: 'gchart-table-oddrow',\n",
       "                selectedTableRow: 'gchart-table-selectedrow',\n",
       "                hoverTableRow: 'gchart-table-hoverrow',\n",
       "                tableCell: 'gchart-table-cell',\n",
       "                headerCell: 'gchart-table-headercell',\n",
       "                rowNumberCell: 'gchart-table-rownumcell'\n",
       "              }\n",
       "            },\n",
       "            {source_index: 28, fields: 'count,readytoeat,name'},\n",
       "            0,\n",
       "            9);\n",
       "        }\n",
       "      );\n",
       "    </script>\n",
       "  "
      ],
      "text/plain": [
       "QueryResultsTable job_v1HJMzfoB_IILWrCJp9PMlLkMr4"
      ]
     },
     "execution_count": 73,
     "metadata": {},
     "output_type": "execute_result"
    }
   ],
   "source": [
    "%%bq query\n",
    "UPDATE sampleDML.fruit_basket_detailed\n",
    "SET readytoeat = True\n",
    "WHERE name = 'banana'"
   ]
  },
  {
   "cell_type": "markdown",
   "metadata": {},
   "source": [
    "To view the contents of a table in BigQuery, use `%%bq tables view` command:"
   ]
  },
  {
   "cell_type": "code",
   "execution_count": null,
   "metadata": {
    "collapsed": false
   },
   "outputs": [],
   "source": [
    "%%bq tables view --name sampleDML.fruit_basket_detailed"
   ]
  },
  {
   "cell_type": "markdown",
   "metadata": {},
   "source": [
    "## Deleting Data\n",
    "\n",
    "You can delete rows in the `fruit_basket` table by using a `DELETE` statement in the BigQuery Standard SQL query."
   ]
  },
  {
   "cell_type": "code",
   "execution_count": 75,
   "metadata": {
    "collapsed": false
   },
   "outputs": [
    {
     "data": {
      "text/html": [
       "\n",
       "    <div class=\"bqtv\" id=\"32_148887520371\"><table><tr><th>count</th><th>name</th></tr><tr><td>15</td><td>apple</td></tr><tr><td>5</td><td>banana</td></tr><tr><td>10</td><td>orange</td></tr><tr><td>20</td><td>mango</td></tr><tr><td>25</td><td>peach</td></tr><tr><td>30</td><td>watermelon</td></tr><tr><td>45</td><td>pear</td></tr></table></div>\n",
       "    <br />(rows: 7, time: 2.0s,   146B processed, job: job_nEPAwtkWbRaQs-av2VF0M4FrmYY)<br />\n",
       "    <script>\n",
       "\n",
       "      require.config({\n",
       "        paths: {\n",
       "          d3: '//cdnjs.cloudflare.com/ajax/libs/d3/3.4.13/d3',\n",
       "          plotly: 'https://cdn.plot.ly/plotly-1.5.1.min.js?noext',\n",
       "          jquery: '//ajax.googleapis.com/ajax/libs/jquery/2.0.0/jquery.min'\n",
       "        },\n",
       "        map: {\n",
       "          '*': {\n",
       "            datalab: 'nbextensions/gcpdatalab'\n",
       "          }\n",
       "        },\n",
       "        shim: {\n",
       "          plotly: {\n",
       "            deps: ['d3', 'jquery'],\n",
       "            exports: 'plotly'\n",
       "          }\n",
       "        }\n",
       "      });\n",
       "\n",
       "      require(['datalab/charting', 'datalab/element!32_148887520371', 'base/js/events',\n",
       "          'datalab/style!/nbextensions/gcpdatalab/charting.css'],\n",
       "        function(charts, dom, events) {\n",
       "          charts.render('gcharts', dom, events, 'table', [], {\"rows\": [{\"c\": [{\"v\": 15}, {\"v\": \"apple\"}]}, {\"c\": [{\"v\": 5}, {\"v\": \"banana\"}]}, {\"c\": [{\"v\": 10}, {\"v\": \"orange\"}]}, {\"c\": [{\"v\": 20}, {\"v\": \"mango\"}]}, {\"c\": [{\"v\": 25}, {\"v\": \"peach\"}]}, {\"c\": [{\"v\": 30}, {\"v\": \"watermelon\"}]}, {\"c\": [{\"v\": 45}, {\"v\": \"pear\"}]}], \"cols\": [{\"type\": \"number\", \"id\": \"count\", \"label\": \"count\"}, {\"type\": \"string\", \"id\": \"name\", \"label\": \"name\"}]},\n",
       "            {\n",
       "              pageSize: 25,\n",
       "              cssClassNames:  {\n",
       "                tableRow: 'gchart-table-row',\n",
       "                headerRow: 'gchart-table-headerrow',\n",
       "                oddTableRow: 'gchart-table-oddrow',\n",
       "                selectedTableRow: 'gchart-table-selectedrow',\n",
       "                hoverTableRow: 'gchart-table-hoverrow',\n",
       "                tableCell: 'gchart-table-cell',\n",
       "                headerCell: 'gchart-table-headercell',\n",
       "                rowNumberCell: 'gchart-table-rownumcell'\n",
       "              }\n",
       "            },\n",
       "            {source_index: 29, fields: 'count,name'},\n",
       "            0,\n",
       "            7);\n",
       "        }\n",
       "      );\n",
       "    </script>\n",
       "  "
      ],
      "text/plain": [
       "QueryResultsTable job_nEPAwtkWbRaQs-av2VF0M4FrmYY"
      ]
     },
     "execution_count": 75,
     "metadata": {},
     "output_type": "execute_result"
    }
   ],
   "source": [
    "%%bq query\n",
    "DELETE sampleDML.fruit_basket\n",
    "WHERE name in ('cherry', 'cranberry')"
   ]
  },
  {
   "cell_type": "markdown",
   "metadata": {},
   "source": [
    "Use the following query to delete the corresponding entries in `sampleDML.fruit_basket_detailed`"
   ]
  },
  {
   "cell_type": "code",
   "execution_count": 76,
   "metadata": {
    "collapsed": false
   },
   "outputs": [
    {
     "data": {
      "text/html": [
       "\n",
       "    <div class=\"bqtv\" id=\"33_148887521217\"><table><tr><th>count</th><th>readytoeat</th><th>name</th></tr><tr><td>15</td><td>False</td><td>apple</td></tr><tr><td>10</td><td>False</td><td>orange</td></tr><tr><td>25</td><td>False</td><td>peach</td></tr><tr><td>20</td><td>False</td><td>mango</td></tr><tr><td>30</td><td>False</td><td>watermelon</td></tr><tr><td>45</td><td>False</td><td>pear</td></tr><tr><td>5</td><td>True</td><td>banana</td></tr></table></div>\n",
       "    <br />(rows: 7, time: 6.7s,   210B processed, job: job_2hSv9IzLp0tlWk_cOAMshuqwEnY)<br />\n",
       "    <script>\n",
       "\n",
       "      require.config({\n",
       "        paths: {\n",
       "          d3: '//cdnjs.cloudflare.com/ajax/libs/d3/3.4.13/d3',\n",
       "          plotly: 'https://cdn.plot.ly/plotly-1.5.1.min.js?noext',\n",
       "          jquery: '//ajax.googleapis.com/ajax/libs/jquery/2.0.0/jquery.min'\n",
       "        },\n",
       "        map: {\n",
       "          '*': {\n",
       "            datalab: 'nbextensions/gcpdatalab'\n",
       "          }\n",
       "        },\n",
       "        shim: {\n",
       "          plotly: {\n",
       "            deps: ['d3', 'jquery'],\n",
       "            exports: 'plotly'\n",
       "          }\n",
       "        }\n",
       "      });\n",
       "\n",
       "      require(['datalab/charting', 'datalab/element!33_148887521217', 'base/js/events',\n",
       "          'datalab/style!/nbextensions/gcpdatalab/charting.css'],\n",
       "        function(charts, dom, events) {\n",
       "          charts.render('gcharts', dom, events, 'table', [], {\"rows\": [{\"c\": [{\"v\": 15}, {\"v\": false}, {\"v\": \"apple\"}]}, {\"c\": [{\"v\": 10}, {\"v\": false}, {\"v\": \"orange\"}]}, {\"c\": [{\"v\": 25}, {\"v\": false}, {\"v\": \"peach\"}]}, {\"c\": [{\"v\": 20}, {\"v\": false}, {\"v\": \"mango\"}]}, {\"c\": [{\"v\": 30}, {\"v\": false}, {\"v\": \"watermelon\"}]}, {\"c\": [{\"v\": 45}, {\"v\": false}, {\"v\": \"pear\"}]}, {\"c\": [{\"v\": 5}, {\"v\": true}, {\"v\": \"banana\"}]}], \"cols\": [{\"type\": \"number\", \"id\": \"count\", \"label\": \"count\"}, {\"type\": \"boolean\", \"id\": \"readytoeat\", \"label\": \"readytoeat\"}, {\"type\": \"string\", \"id\": \"name\", \"label\": \"name\"}]},\n",
       "            {\n",
       "              pageSize: 25,\n",
       "              cssClassNames:  {\n",
       "                tableRow: 'gchart-table-row',\n",
       "                headerRow: 'gchart-table-headerrow',\n",
       "                oddTableRow: 'gchart-table-oddrow',\n",
       "                selectedTableRow: 'gchart-table-selectedrow',\n",
       "                hoverTableRow: 'gchart-table-hoverrow',\n",
       "                tableCell: 'gchart-table-cell',\n",
       "                headerCell: 'gchart-table-headercell',\n",
       "                rowNumberCell: 'gchart-table-rownumcell'\n",
       "              }\n",
       "            },\n",
       "            {source_index: 30, fields: 'count,readytoeat,name'},\n",
       "            0,\n",
       "            7);\n",
       "        }\n",
       "      );\n",
       "    </script>\n",
       "  "
      ],
      "text/plain": [
       "QueryResultsTable job_2hSv9IzLp0tlWk_cOAMshuqwEnY"
      ]
     },
     "execution_count": 76,
     "metadata": {},
     "output_type": "execute_result"
    }
   ],
   "source": [
    "%%bq query\n",
    "DELETE sampleDML.fruit_basket_detailed\n",
    "WHERE NOT EXISTS\n",
    "  (SELECT * FROM sampleDML.fruit_basket\n",
    "  WHERE fruit_basket_detailed.name = fruit_basket.name)"
   ]
  },
  {
   "cell_type": "markdown",
   "metadata": {},
   "source": [
    "## Deleting Resources"
   ]
  },
  {
   "cell_type": "code",
   "execution_count": 3,
   "metadata": {
    "collapsed": true
   },
   "outputs": [],
   "source": [
    "# Clear out sample resources\n",
    "sample_dataset.delete(delete_contents = True)"
   ]
  }
 ],
 "metadata": {
  "kernelspec": {
   "display_name": "Python 2",
   "language": "python",
   "name": "python2"
  },
  "language_info": {
   "codemirror_mode": {
    "name": "ipython",
    "version": 2
   },
   "file_extension": ".py",
   "mimetype": "text/x-python",
   "name": "python",
   "nbconvert_exporter": "python",
   "pygments_lexer": "ipython2",
   "version": "2.7.9"
  }
 },
 "nbformat": 4,
 "nbformat_minor": 0
}
