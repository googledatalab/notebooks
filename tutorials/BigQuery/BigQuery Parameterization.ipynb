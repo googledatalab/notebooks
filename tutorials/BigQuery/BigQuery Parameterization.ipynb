{
 "cells": [
  {
   "cell_type": "markdown",
   "metadata": {},
   "source": [
    "# BigQuery Parameterization\n",
    "\n",
    "Google BigQuery Standard SQL [supports parameterization](https://cloud.google.com/bigquery/querying-data#running_parameterized_queries). It is interesting to be able to use Python variables defined in the notebook as parameter values for SQL.\n",
    "\n",
    "This notebook is an example how to use parameterized queries."
   ]
  },
  {
   "cell_type": "markdown",
   "metadata": {},
   "source": [
    "## Data Preview"
   ]
  },
  {
   "cell_type": "code",
   "execution_count": 2,
   "metadata": {
    "collapsed": false
   },
   "outputs": [],
   "source": [
    "%%bq query -n logs_query\n",
    "SELECT * FROM `cloud-datalab-samples.httplogs.logs_20140615`"
   ]
  },
  {
   "cell_type": "code",
   "execution_count": 3,
   "metadata": {
    "collapsed": false
   },
   "outputs": [
    {
     "data": {
      "text/html": [
       "\n",
       "    <div class=\"bqtv\" id=\"1_148887707980\"><table><tr><th>timestamp</th><th>latency</th><th>status</th><th>method</th><th>endpoint</th></tr><tr><td>2014-06-15 07:00:01.000102</td><td>124</td><td>405</td><td>GET</td><td>Interact2</td></tr><tr><td>2014-06-15 07:00:00.652760</td><td>28</td><td>405</td><td>GET</td><td>Interact2</td></tr><tr><td>2014-06-15 07:00:00.834251</td><td>121</td><td>405</td><td>GET</td><td>Interact2</td></tr><tr><td>2014-06-15 07:00:00.943075</td><td>28</td><td>200</td><td>GET</td><td>Other</td></tr><tr><td>2014-06-15 07:00:01.159701</td><td>119</td><td>200</td><td>GET</td><td>Other</td></tr><tr><td>2014-06-15 07:00:00.536486</td><td>48</td><td>200</td><td>GET</td><td>Interact3</td></tr><tr><td>2014-06-15 07:00:00.003772</td><td>122</td><td>200</td><td>GET</td><td>Interact3</td></tr><tr><td>2014-06-15 07:00:01.071107</td><td>49</td><td>200</td><td>GET</td><td>Interact3</td></tr><tr><td>2014-06-15 07:00:00.670100</td><td>103</td><td>200</td><td>GET</td><td>Interact3</td></tr><tr><td>2014-06-15 07:00:00.428897</td><td>144</td><td>200</td><td>GET</td><td>Interact3</td></tr></table></div>\n",
       "    <br />(rows: 10, time: 1.9s,    24MB processed, job: job_PQaM8KiFmTkJeZAMZ7Pbt4QKX28)<br />\n",
       "    <script>\n",
       "\n",
       "      require.config({\n",
       "        paths: {\n",
       "          d3: '//cdnjs.cloudflare.com/ajax/libs/d3/3.4.13/d3',\n",
       "          plotly: 'https://cdn.plot.ly/plotly-1.5.1.min.js?noext',\n",
       "          jquery: '//ajax.googleapis.com/ajax/libs/jquery/2.0.0/jquery.min'\n",
       "        },\n",
       "        map: {\n",
       "          '*': {\n",
       "            datalab: 'nbextensions/gcpdatalab'\n",
       "          }\n",
       "        },\n",
       "        shim: {\n",
       "          plotly: {\n",
       "            deps: ['d3', 'jquery'],\n",
       "            exports: 'plotly'\n",
       "          }\n",
       "        }\n",
       "      });\n",
       "\n",
       "      require(['datalab/charting', 'datalab/element!1_148887707980', 'base/js/events',\n",
       "          'datalab/style!/nbextensions/gcpdatalab/charting.css'],\n",
       "        function(charts, dom, events) {\n",
       "          charts.render('gcharts', dom, events, 'table', [], {\"rows\": [{\"c\": [{\"v\": \"2014-06-15T07:00:01.000102\"}, {\"v\": 124}, {\"v\": 405}, {\"v\": \"GET\"}, {\"v\": \"Interact2\"}]}, {\"c\": [{\"v\": \"2014-06-15T07:00:00.652760\"}, {\"v\": 28}, {\"v\": 405}, {\"v\": \"GET\"}, {\"v\": \"Interact2\"}]}, {\"c\": [{\"v\": \"2014-06-15T07:00:00.834251\"}, {\"v\": 121}, {\"v\": 405}, {\"v\": \"GET\"}, {\"v\": \"Interact2\"}]}, {\"c\": [{\"v\": \"2014-06-15T07:00:00.943075\"}, {\"v\": 28}, {\"v\": 200}, {\"v\": \"GET\"}, {\"v\": \"Other\"}]}, {\"c\": [{\"v\": \"2014-06-15T07:00:01.159701\"}, {\"v\": 119}, {\"v\": 200}, {\"v\": \"GET\"}, {\"v\": \"Other\"}]}, {\"c\": [{\"v\": \"2014-06-15T07:00:00.536486\"}, {\"v\": 48}, {\"v\": 200}, {\"v\": \"GET\"}, {\"v\": \"Interact3\"}]}, {\"c\": [{\"v\": \"2014-06-15T07:00:00.003772\"}, {\"v\": 122}, {\"v\": 200}, {\"v\": \"GET\"}, {\"v\": \"Interact3\"}]}, {\"c\": [{\"v\": \"2014-06-15T07:00:01.071107\"}, {\"v\": 49}, {\"v\": 200}, {\"v\": \"GET\"}, {\"v\": \"Interact3\"}]}, {\"c\": [{\"v\": \"2014-06-15T07:00:00.670100\"}, {\"v\": 103}, {\"v\": 200}, {\"v\": \"GET\"}, {\"v\": \"Interact3\"}]}, {\"c\": [{\"v\": \"2014-06-15T07:00:00.428897\"}, {\"v\": 144}, {\"v\": 200}, {\"v\": \"GET\"}, {\"v\": \"Interact3\"}]}], \"cols\": [{\"type\": \"datetime\", \"id\": \"timestamp\", \"label\": \"timestamp\"}, {\"type\": \"number\", \"id\": \"latency\", \"label\": \"latency\"}, {\"type\": \"number\", \"id\": \"status\", \"label\": \"status\"}, {\"type\": \"string\", \"id\": \"method\", \"label\": \"method\"}, {\"type\": \"string\", \"id\": \"endpoint\", \"label\": \"endpoint\"}]},\n",
       "            {\n",
       "              pageSize: 25,\n",
       "              cssClassNames:  {\n",
       "                tableRow: 'gchart-table-row',\n",
       "                headerRow: 'gchart-table-headerrow',\n",
       "                oddTableRow: 'gchart-table-oddrow',\n",
       "                selectedTableRow: 'gchart-table-selectedrow',\n",
       "                hoverTableRow: 'gchart-table-hoverrow',\n",
       "                tableCell: 'gchart-table-cell',\n",
       "                headerCell: 'gchart-table-headercell',\n",
       "                rowNumberCell: 'gchart-table-rownumcell'\n",
       "              }\n",
       "            },\n",
       "            {source_index: 0, fields: 'timestamp,latency,status,method,endpoint'},\n",
       "            0,\n",
       "            10);\n",
       "        }\n",
       "      );\n",
       "    </script>\n",
       "  "
      ],
      "text/plain": [
       "QueryResultsTable job_PQaM8KiFmTkJeZAMZ7Pbt4QKX28"
      ]
     },
     "execution_count": 3,
     "metadata": {},
     "output_type": "execute_result"
    }
   ],
   "source": [
    "%bq sample -q logs_query --count 10"
   ]
  },
  {
   "cell_type": "code",
   "execution_count": 6,
   "metadata": {
    "collapsed": false
   },
   "outputs": [
    {
     "data": {
      "text/html": [
       "\n",
       "    <div class=\"bqtv\" id=\"3_148887720095\"><table><tr><th>endpoint</th></tr><tr><td>Admin</td></tr><tr><td>Interact1</td></tr><tr><td>Home</td></tr><tr><td>Warmup</td></tr><tr><td>Create</td></tr><tr><td>Popular</td></tr><tr><td>Interact3</td></tr><tr><td>Recent</td></tr><tr><td>Interact2</td></tr><tr><td>Other</td></tr></table></div>\n",
       "    <br />(rows: 10, time: 0.2s, cached, job: job_yZVXYwERTLvext8mayphi5_5x6g)<br />\n",
       "    <script>\n",
       "\n",
       "      require.config({\n",
       "        paths: {\n",
       "          d3: '//cdnjs.cloudflare.com/ajax/libs/d3/3.4.13/d3',\n",
       "          plotly: 'https://cdn.plot.ly/plotly-1.5.1.min.js?noext',\n",
       "          jquery: '//ajax.googleapis.com/ajax/libs/jquery/2.0.0/jquery.min'\n",
       "        },\n",
       "        map: {\n",
       "          '*': {\n",
       "            datalab: 'nbextensions/gcpdatalab'\n",
       "          }\n",
       "        },\n",
       "        shim: {\n",
       "          plotly: {\n",
       "            deps: ['d3', 'jquery'],\n",
       "            exports: 'plotly'\n",
       "          }\n",
       "        }\n",
       "      });\n",
       "\n",
       "      require(['datalab/charting', 'datalab/element!3_148887720095', 'base/js/events',\n",
       "          'datalab/style!/nbextensions/gcpdatalab/charting.css'],\n",
       "        function(charts, dom, events) {\n",
       "          charts.render('gcharts', dom, events, 'table', [], {\"rows\": [{\"c\": [{\"v\": \"Admin\"}]}, {\"c\": [{\"v\": \"Interact1\"}]}, {\"c\": [{\"v\": \"Home\"}]}, {\"c\": [{\"v\": \"Warmup\"}]}, {\"c\": [{\"v\": \"Create\"}]}, {\"c\": [{\"v\": \"Popular\"}]}, {\"c\": [{\"v\": \"Interact3\"}]}, {\"c\": [{\"v\": \"Recent\"}]}, {\"c\": [{\"v\": \"Interact2\"}]}, {\"c\": [{\"v\": \"Other\"}]}], \"cols\": [{\"type\": \"string\", \"id\": \"endpoint\", \"label\": \"endpoint\"}]},\n",
       "            {\n",
       "              pageSize: 25,\n",
       "              cssClassNames:  {\n",
       "                tableRow: 'gchart-table-row',\n",
       "                headerRow: 'gchart-table-headerrow',\n",
       "                oddTableRow: 'gchart-table-oddrow',\n",
       "                selectedTableRow: 'gchart-table-selectedrow',\n",
       "                hoverTableRow: 'gchart-table-hoverrow',\n",
       "                tableCell: 'gchart-table-cell',\n",
       "                headerCell: 'gchart-table-headercell',\n",
       "                rowNumberCell: 'gchart-table-rownumcell'\n",
       "              }\n",
       "            },\n",
       "            {source_index: 2, fields: 'endpoint'},\n",
       "            0,\n",
       "            10);\n",
       "        }\n",
       "      );\n",
       "    </script>\n",
       "  "
      ],
      "text/plain": [
       "QueryResultsTable job_yZVXYwERTLvext8mayphi5_5x6g"
      ]
     },
     "execution_count": 6,
     "metadata": {},
     "output_type": "execute_result"
    }
   ],
   "source": [
    "%%bq query\n",
    "SELECT endpoint FROM `cloud-datalab-samples.httplogs.logs_20140615` GROUP BY endpoint"
   ]
  },
  {
   "cell_type": "markdown",
   "metadata": {},
   "source": [
    "# Parameterization within SQL queries\n",
    "\n",
    "Parameters are declared in SQL queries using a `@name` syntax within the SQL, and then defining `name`'s value when executing the query. Notice you will have to define the query and execute it in two different cells. The shorthand way of running queries (using `%%bq query` without `--name`) gives you little control over the execution of the query."
   ]
  },
  {
   "cell_type": "code",
   "execution_count": 7,
   "metadata": {
    "collapsed": false
   },
   "outputs": [],
   "source": [
    "%%bq query -n endpoint_stats\n",
    "SELECT *\n",
    "FROM `cloud-datalab-samples.httplogs.logs_20140615`\n",
    "WHERE endpoint = @endpoint\n",
    "LIMIT 10"
   ]
  },
  {
   "cell_type": "code",
   "execution_count": 8,
   "metadata": {
    "collapsed": false
   },
   "outputs": [
    {
     "data": {
      "text/html": [
       "\n",
       "    <div class=\"bqtv\" id=\"4_148887724794\"><table><tr><th>timestamp</th><th>latency</th><th>status</th><th>method</th><th>endpoint</th></tr><tr><td>2014-06-15 07:00:03.093084</td><td>21</td><td>302</td><td>GET</td><td>Interact2</td></tr><tr><td>2014-06-15 07:00:03.263381</td><td>22</td><td>302</td><td>GET</td><td>Interact2</td></tr><tr><td>2014-06-15 07:00:01.000102</td><td>124</td><td>405</td><td>GET</td><td>Interact2</td></tr><tr><td>2014-06-15 07:00:03.018770</td><td>125</td><td>405</td><td>GET</td><td>Interact2</td></tr><tr><td>2014-06-15 07:00:00.652760</td><td>28</td><td>405</td><td>GET</td><td>Interact2</td></tr><tr><td>2014-06-15 07:00:01.456010</td><td>123</td><td>405</td><td>GET</td><td>Interact2</td></tr><tr><td>2014-06-15 07:00:00.834251</td><td>121</td><td>405</td><td>GET</td><td>Interact2</td></tr><tr><td>2014-06-15 07:00:01.166912</td><td>27</td><td>405</td><td>GET</td><td>Interact2</td></tr><tr><td>2014-06-15 07:00:01.694210</td><td>29</td><td>405</td><td>GET</td><td>Interact2</td></tr><tr><td>2014-06-15 07:00:03.062767</td><td>173</td><td>200</td><td>POST</td><td>Interact2</td></tr></table></div>\n",
       "    <br />(rows: 10, time: 1.7s,    24MB processed, job: job_pb3EUsKwE1dpQGqa3lzq28-am6I)<br />\n",
       "    <script>\n",
       "\n",
       "      require.config({\n",
       "        paths: {\n",
       "          d3: '//cdnjs.cloudflare.com/ajax/libs/d3/3.4.13/d3',\n",
       "          plotly: 'https://cdn.plot.ly/plotly-1.5.1.min.js?noext',\n",
       "          jquery: '//ajax.googleapis.com/ajax/libs/jquery/2.0.0/jquery.min'\n",
       "        },\n",
       "        map: {\n",
       "          '*': {\n",
       "            datalab: 'nbextensions/gcpdatalab'\n",
       "          }\n",
       "        },\n",
       "        shim: {\n",
       "          plotly: {\n",
       "            deps: ['d3', 'jquery'],\n",
       "            exports: 'plotly'\n",
       "          }\n",
       "        }\n",
       "      });\n",
       "\n",
       "      require(['datalab/charting', 'datalab/element!4_148887724794', 'base/js/events',\n",
       "          'datalab/style!/nbextensions/gcpdatalab/charting.css'],\n",
       "        function(charts, dom, events) {\n",
       "          charts.render('gcharts', dom, events, 'table', [], {\"rows\": [{\"c\": [{\"v\": \"2014-06-15T07:00:03.093084\"}, {\"v\": 21}, {\"v\": 302}, {\"v\": \"GET\"}, {\"v\": \"Interact2\"}]}, {\"c\": [{\"v\": \"2014-06-15T07:00:03.263381\"}, {\"v\": 22}, {\"v\": 302}, {\"v\": \"GET\"}, {\"v\": \"Interact2\"}]}, {\"c\": [{\"v\": \"2014-06-15T07:00:01.000102\"}, {\"v\": 124}, {\"v\": 405}, {\"v\": \"GET\"}, {\"v\": \"Interact2\"}]}, {\"c\": [{\"v\": \"2014-06-15T07:00:03.018770\"}, {\"v\": 125}, {\"v\": 405}, {\"v\": \"GET\"}, {\"v\": \"Interact2\"}]}, {\"c\": [{\"v\": \"2014-06-15T07:00:00.652760\"}, {\"v\": 28}, {\"v\": 405}, {\"v\": \"GET\"}, {\"v\": \"Interact2\"}]}, {\"c\": [{\"v\": \"2014-06-15T07:00:01.456010\"}, {\"v\": 123}, {\"v\": 405}, {\"v\": \"GET\"}, {\"v\": \"Interact2\"}]}, {\"c\": [{\"v\": \"2014-06-15T07:00:00.834251\"}, {\"v\": 121}, {\"v\": 405}, {\"v\": \"GET\"}, {\"v\": \"Interact2\"}]}, {\"c\": [{\"v\": \"2014-06-15T07:00:01.166912\"}, {\"v\": 27}, {\"v\": 405}, {\"v\": \"GET\"}, {\"v\": \"Interact2\"}]}, {\"c\": [{\"v\": \"2014-06-15T07:00:01.694210\"}, {\"v\": 29}, {\"v\": 405}, {\"v\": \"GET\"}, {\"v\": \"Interact2\"}]}, {\"c\": [{\"v\": \"2014-06-15T07:00:03.062767\"}, {\"v\": 173}, {\"v\": 200}, {\"v\": \"POST\"}, {\"v\": \"Interact2\"}]}], \"cols\": [{\"type\": \"datetime\", \"id\": \"timestamp\", \"label\": \"timestamp\"}, {\"type\": \"number\", \"id\": \"latency\", \"label\": \"latency\"}, {\"type\": \"number\", \"id\": \"status\", \"label\": \"status\"}, {\"type\": \"string\", \"id\": \"method\", \"label\": \"method\"}, {\"type\": \"string\", \"id\": \"endpoint\", \"label\": \"endpoint\"}]},\n",
       "            {\n",
       "              pageSize: 25,\n",
       "              cssClassNames:  {\n",
       "                tableRow: 'gchart-table-row',\n",
       "                headerRow: 'gchart-table-headerrow',\n",
       "                oddTableRow: 'gchart-table-oddrow',\n",
       "                selectedTableRow: 'gchart-table-selectedrow',\n",
       "                hoverTableRow: 'gchart-table-hoverrow',\n",
       "                tableCell: 'gchart-table-cell',\n",
       "                headerCell: 'gchart-table-headercell',\n",
       "                rowNumberCell: 'gchart-table-rownumcell'\n",
       "              }\n",
       "            },\n",
       "            {source_index: 3, fields: 'timestamp,latency,status,method,endpoint'},\n",
       "            0,\n",
       "            10);\n",
       "        }\n",
       "      );\n",
       "    </script>\n",
       "  "
      ],
      "text/plain": [
       "QueryResultsTable job_pb3EUsKwE1dpQGqa3lzq28-am6I"
      ]
     },
     "execution_count": 8,
     "metadata": {},
     "output_type": "execute_result"
    }
   ],
   "source": [
    "%%bq execute -q endpoint_stats\n",
    "parameters:\n",
    "- name: endpoint\n",
    "  type: STRING\n",
    "  value: Interact2"
   ]
  },
  {
   "cell_type": "markdown",
   "metadata": {},
   "source": [
    "This defined a SQL query with a string parameter named `endpoint`, which can be filled when executing the query. Let's give it some value in a separate cell:"
   ]
  },
  {
   "cell_type": "code",
   "execution_count": 9,
   "metadata": {
    "collapsed": true
   },
   "outputs": [],
   "source": [
    "endpoint_val = 'Interact3'"
   ]
  },
  {
   "cell_type": "markdown",
   "metadata": {},
   "source": [
    "In order to reference the variable defined above, Google Cloud Datalab offers the `$var` syntax, which can be invoked in the magic command:"
   ]
  },
  {
   "cell_type": "code",
   "execution_count": 10,
   "metadata": {
    "collapsed": false
   },
   "outputs": [
    {
     "data": {
      "text/html": [
       "\n",
       "    <div class=\"bqtv\" id=\"5_148887734859\"><table><tr><th>timestamp</th><th>latency</th><th>status</th><th>method</th><th>endpoint</th></tr><tr><td>2014-06-15 07:00:00.536486</td><td>48</td><td>200</td><td>GET</td><td>Interact3</td></tr><tr><td>2014-06-15 07:00:03.925336</td><td>46</td><td>200</td><td>GET</td><td>Interact3</td></tr><tr><td>2014-06-15 07:00:00.003772</td><td>122</td><td>200</td><td>GET</td><td>Interact3</td></tr><tr><td>2014-06-15 07:00:04.348899</td><td>47</td><td>200</td><td>GET</td><td>Interact3</td></tr><tr><td>2014-06-15 07:00:01.071107</td><td>49</td><td>200</td><td>GET</td><td>Interact3</td></tr><tr><td>2014-06-15 07:00:05.221120</td><td>382</td><td>200</td><td>GET</td><td>Interact3</td></tr><tr><td>2014-06-15 07:00:04.337463</td><td>297</td><td>200</td><td>GET</td><td>Interact3</td></tr><tr><td>2014-06-15 07:00:00.428897</td><td>144</td><td>200</td><td>GET</td><td>Interact3</td></tr><tr><td>2014-06-15 07:00:00.670100</td><td>103</td><td>200</td><td>GET</td><td>Interact3</td></tr><tr><td>2014-06-15 07:00:02.015507</td><td>363</td><td>200</td><td>GET</td><td>Interact3</td></tr></table></div>\n",
       "    <br />(rows: 10, time: 2.2s,    24MB processed, job: job_p5tCdFhq8OxReVfZmntdXH2YIQA)<br />\n",
       "    <script>\n",
       "\n",
       "      require.config({\n",
       "        paths: {\n",
       "          d3: '//cdnjs.cloudflare.com/ajax/libs/d3/3.4.13/d3',\n",
       "          plotly: 'https://cdn.plot.ly/plotly-1.5.1.min.js?noext',\n",
       "          jquery: '//ajax.googleapis.com/ajax/libs/jquery/2.0.0/jquery.min'\n",
       "        },\n",
       "        map: {\n",
       "          '*': {\n",
       "            datalab: 'nbextensions/gcpdatalab'\n",
       "          }\n",
       "        },\n",
       "        shim: {\n",
       "          plotly: {\n",
       "            deps: ['d3', 'jquery'],\n",
       "            exports: 'plotly'\n",
       "          }\n",
       "        }\n",
       "      });\n",
       "\n",
       "      require(['datalab/charting', 'datalab/element!5_148887734859', 'base/js/events',\n",
       "          'datalab/style!/nbextensions/gcpdatalab/charting.css'],\n",
       "        function(charts, dom, events) {\n",
       "          charts.render('gcharts', dom, events, 'table', [], {\"rows\": [{\"c\": [{\"v\": \"2014-06-15T07:00:00.536486\"}, {\"v\": 48}, {\"v\": 200}, {\"v\": \"GET\"}, {\"v\": \"Interact3\"}]}, {\"c\": [{\"v\": \"2014-06-15T07:00:03.925336\"}, {\"v\": 46}, {\"v\": 200}, {\"v\": \"GET\"}, {\"v\": \"Interact3\"}]}, {\"c\": [{\"v\": \"2014-06-15T07:00:00.003772\"}, {\"v\": 122}, {\"v\": 200}, {\"v\": \"GET\"}, {\"v\": \"Interact3\"}]}, {\"c\": [{\"v\": \"2014-06-15T07:00:04.348899\"}, {\"v\": 47}, {\"v\": 200}, {\"v\": \"GET\"}, {\"v\": \"Interact3\"}]}, {\"c\": [{\"v\": \"2014-06-15T07:00:01.071107\"}, {\"v\": 49}, {\"v\": 200}, {\"v\": \"GET\"}, {\"v\": \"Interact3\"}]}, {\"c\": [{\"v\": \"2014-06-15T07:00:05.221120\"}, {\"v\": 382}, {\"v\": 200}, {\"v\": \"GET\"}, {\"v\": \"Interact3\"}]}, {\"c\": [{\"v\": \"2014-06-15T07:00:04.337463\"}, {\"v\": 297}, {\"v\": 200}, {\"v\": \"GET\"}, {\"v\": \"Interact3\"}]}, {\"c\": [{\"v\": \"2014-06-15T07:00:00.428897\"}, {\"v\": 144}, {\"v\": 200}, {\"v\": \"GET\"}, {\"v\": \"Interact3\"}]}, {\"c\": [{\"v\": \"2014-06-15T07:00:00.670100\"}, {\"v\": 103}, {\"v\": 200}, {\"v\": \"GET\"}, {\"v\": \"Interact3\"}]}, {\"c\": [{\"v\": \"2014-06-15T07:00:02.015507\"}, {\"v\": 363}, {\"v\": 200}, {\"v\": \"GET\"}, {\"v\": \"Interact3\"}]}], \"cols\": [{\"type\": \"datetime\", \"id\": \"timestamp\", \"label\": \"timestamp\"}, {\"type\": \"number\", \"id\": \"latency\", \"label\": \"latency\"}, {\"type\": \"number\", \"id\": \"status\", \"label\": \"status\"}, {\"type\": \"string\", \"id\": \"method\", \"label\": \"method\"}, {\"type\": \"string\", \"id\": \"endpoint\", \"label\": \"endpoint\"}]},\n",
       "            {\n",
       "              pageSize: 25,\n",
       "              cssClassNames:  {\n",
       "                tableRow: 'gchart-table-row',\n",
       "                headerRow: 'gchart-table-headerrow',\n",
       "                oddTableRow: 'gchart-table-oddrow',\n",
       "                selectedTableRow: 'gchart-table-selectedrow',\n",
       "                hoverTableRow: 'gchart-table-hoverrow',\n",
       "                tableCell: 'gchart-table-cell',\n",
       "                headerCell: 'gchart-table-headercell',\n",
       "                rowNumberCell: 'gchart-table-rownumcell'\n",
       "              }\n",
       "            },\n",
       "            {source_index: 4, fields: 'timestamp,latency,status,method,endpoint'},\n",
       "            0,\n",
       "            10);\n",
       "        }\n",
       "      );\n",
       "    </script>\n",
       "  "
      ],
      "text/plain": [
       "QueryResultsTable job_p5tCdFhq8OxReVfZmntdXH2YIQA"
      ]
     },
     "execution_count": 10,
     "metadata": {},
     "output_type": "execute_result"
    }
   ],
   "source": [
    "%%bq execute -q endpoint_stats\n",
    "parameters:\n",
    "- name: endpoint\n",
    "  type: STRING\n",
    "  value: $endpoint_val"
   ]
  },
  {
   "cell_type": "markdown",
   "metadata": {},
   "source": [
    "This can also be achieved using the Python API instead of the magic commands (`%%bq`). This is how we will create and execute a parameterized query using the API:"
   ]
  },
  {
   "cell_type": "code",
   "execution_count": 11,
   "metadata": {
    "collapsed": false
   },
   "outputs": [
    {
     "data": {
      "text/html": [
       "\n",
       "    <div class=\"bqtv\" id=\"6_148887735280\"><table><tr><th>timestamp</th><th>latency</th><th>status</th><th>method</th><th>endpoint</th></tr><tr><td>2014-06-15 07:00:00.536486</td><td>48</td><td>200</td><td>GET</td><td>Interact3</td></tr><tr><td>2014-06-15 07:00:03.925336</td><td>46</td><td>200</td><td>GET</td><td>Interact3</td></tr><tr><td>2014-06-15 07:00:00.003772</td><td>122</td><td>200</td><td>GET</td><td>Interact3</td></tr><tr><td>2014-06-15 07:00:04.348899</td><td>47</td><td>200</td><td>GET</td><td>Interact3</td></tr><tr><td>2014-06-15 07:00:01.071107</td><td>49</td><td>200</td><td>GET</td><td>Interact3</td></tr><tr><td>2014-06-15 07:00:05.221120</td><td>382</td><td>200</td><td>GET</td><td>Interact3</td></tr><tr><td>2014-06-15 07:00:04.337463</td><td>297</td><td>200</td><td>GET</td><td>Interact3</td></tr><tr><td>2014-06-15 07:00:00.428897</td><td>144</td><td>200</td><td>GET</td><td>Interact3</td></tr><tr><td>2014-06-15 07:00:00.670100</td><td>103</td><td>200</td><td>GET</td><td>Interact3</td></tr><tr><td>2014-06-15 07:00:02.015507</td><td>363</td><td>200</td><td>GET</td><td>Interact3</td></tr></table></div>\n",
       "    <br />(rows: 10, time: 2.2s,    24MB processed, job: job_11dsxMuiczeA72TNlpqSYG-ovJg)<br />\n",
       "    <script>\n",
       "\n",
       "      require.config({\n",
       "        paths: {\n",
       "          d3: '//cdnjs.cloudflare.com/ajax/libs/d3/3.4.13/d3',\n",
       "          plotly: 'https://cdn.plot.ly/plotly-1.5.1.min.js?noext',\n",
       "          jquery: '//ajax.googleapis.com/ajax/libs/jquery/2.0.0/jquery.min'\n",
       "        },\n",
       "        map: {\n",
       "          '*': {\n",
       "            datalab: 'nbextensions/gcpdatalab'\n",
       "          }\n",
       "        },\n",
       "        shim: {\n",
       "          plotly: {\n",
       "            deps: ['d3', 'jquery'],\n",
       "            exports: 'plotly'\n",
       "          }\n",
       "        }\n",
       "      });\n",
       "\n",
       "      require(['datalab/charting', 'datalab/element!6_148887735280', 'base/js/events',\n",
       "          'datalab/style!/nbextensions/gcpdatalab/charting.css'],\n",
       "        function(charts, dom, events) {\n",
       "          charts.render('gcharts', dom, events, 'table', [], {\"rows\": [{\"c\": [{\"v\": \"2014-06-15T07:00:00.536486\"}, {\"v\": 48}, {\"v\": 200}, {\"v\": \"GET\"}, {\"v\": \"Interact3\"}]}, {\"c\": [{\"v\": \"2014-06-15T07:00:03.925336\"}, {\"v\": 46}, {\"v\": 200}, {\"v\": \"GET\"}, {\"v\": \"Interact3\"}]}, {\"c\": [{\"v\": \"2014-06-15T07:00:00.003772\"}, {\"v\": 122}, {\"v\": 200}, {\"v\": \"GET\"}, {\"v\": \"Interact3\"}]}, {\"c\": [{\"v\": \"2014-06-15T07:00:04.348899\"}, {\"v\": 47}, {\"v\": 200}, {\"v\": \"GET\"}, {\"v\": \"Interact3\"}]}, {\"c\": [{\"v\": \"2014-06-15T07:00:01.071107\"}, {\"v\": 49}, {\"v\": 200}, {\"v\": \"GET\"}, {\"v\": \"Interact3\"}]}, {\"c\": [{\"v\": \"2014-06-15T07:00:05.221120\"}, {\"v\": 382}, {\"v\": 200}, {\"v\": \"GET\"}, {\"v\": \"Interact3\"}]}, {\"c\": [{\"v\": \"2014-06-15T07:00:04.337463\"}, {\"v\": 297}, {\"v\": 200}, {\"v\": \"GET\"}, {\"v\": \"Interact3\"}]}, {\"c\": [{\"v\": \"2014-06-15T07:00:00.428897\"}, {\"v\": 144}, {\"v\": 200}, {\"v\": \"GET\"}, {\"v\": \"Interact3\"}]}, {\"c\": [{\"v\": \"2014-06-15T07:00:00.670100\"}, {\"v\": 103}, {\"v\": 200}, {\"v\": \"GET\"}, {\"v\": \"Interact3\"}]}, {\"c\": [{\"v\": \"2014-06-15T07:00:02.015507\"}, {\"v\": 363}, {\"v\": 200}, {\"v\": \"GET\"}, {\"v\": \"Interact3\"}]}], \"cols\": [{\"type\": \"datetime\", \"id\": \"timestamp\", \"label\": \"timestamp\"}, {\"type\": \"number\", \"id\": \"latency\", \"label\": \"latency\"}, {\"type\": \"number\", \"id\": \"status\", \"label\": \"status\"}, {\"type\": \"string\", \"id\": \"method\", \"label\": \"method\"}, {\"type\": \"string\", \"id\": \"endpoint\", \"label\": \"endpoint\"}]},\n",
       "            {\n",
       "              pageSize: 25,\n",
       "              cssClassNames:  {\n",
       "                tableRow: 'gchart-table-row',\n",
       "                headerRow: 'gchart-table-headerrow',\n",
       "                oddTableRow: 'gchart-table-oddrow',\n",
       "                selectedTableRow: 'gchart-table-selectedrow',\n",
       "                hoverTableRow: 'gchart-table-hoverrow',\n",
       "                tableCell: 'gchart-table-cell',\n",
       "                headerCell: 'gchart-table-headercell',\n",
       "                rowNumberCell: 'gchart-table-rownumcell'\n",
       "              }\n",
       "            },\n",
       "            {source_index: 5, fields: 'timestamp,latency,status,method,endpoint'},\n",
       "            0,\n",
       "            10);\n",
       "        }\n",
       "      );\n",
       "    </script>\n",
       "  "
      ],
      "text/plain": [
       "QueryResultsTable job_11dsxMuiczeA72TNlpqSYG-ovJg"
      ]
     },
     "execution_count": 11,
     "metadata": {},
     "output_type": "execute_result"
    }
   ],
   "source": [
    "import google.datalab.bigquery as bq\n",
    "endpoint_stats2 = bq.Query(sql='''\n",
    "SELECT *\n",
    "FROM `cloud-datalab-samples.httplogs.logs_20140615`\n",
    "WHERE endpoint = @endpoint\n",
    "LIMIT 10\n",
    "''')\n",
    "\n",
    "endpoint_value = 'Interact3'\n",
    "\n",
    "query_parameters = [\n",
    "  {\n",
    "    'name': 'endpoint',\n",
    "    'parameterType': {'type': 'STRING'},\n",
    "    'parameterValue': {'value': endpoint_value}\n",
    "  }\n",
    "]\n",
    "\n",
    "job = endpoint_stats2.execute(query_params=query_parameters)\n",
    "\n",
    "job.result()"
   ]
  },
  {
   "cell_type": "markdown",
   "metadata": {},
   "source": [
    "# Looking Ahead\n",
    "\n",
    "Parameterization enables one part of the SQL and Python integration: being able to use values in Python code in the notebook, and passing them in as part of the query when retrieving data from BigQuery.\n",
    "\n",
    "The next notebook will cover the other part of the SQL and Python integration: retrieving query results into the notebook for use with Python code."
   ]
  }
 ],
 "metadata": {
  "kernelspec": {
   "display_name": "Python 2",
   "language": "python",
   "name": "python2"
  },
  "language_info": {
   "codemirror_mode": {
    "name": "ipython",
    "version": 2
   },
   "file_extension": ".py",
   "mimetype": "text/x-python",
   "name": "python",
   "nbconvert_exporter": "python",
   "pygments_lexer": "ipython2",
   "version": "2.7.9"
  }
 },
 "nbformat": 4,
 "nbformat_minor": 0
}
