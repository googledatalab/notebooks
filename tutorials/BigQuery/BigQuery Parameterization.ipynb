{
 "cells": [
  {
   "cell_type": "markdown",
   "metadata": {},
   "source": [
    "# BigQuery Parameterization\n",
    "\n",
    "Google BigQuery Standard SQL [supports parameterization](https://cloud.google.com/bigquery/querying-data#running_parameterized_queries). It is interesting to be able to use Python variables defined in the notebook as parameter values for SQL.\n",
    "\n",
    "This notebook is an example how to use parameterized queries."
   ]
  },
  {
   "cell_type": "markdown",
   "metadata": {},
   "source": [
    "## Data Preview"
   ]
  },
  {
   "cell_type": "code",
   "execution_count": null,
   "metadata": {
    "collapsed": false
   },
   "outputs": [],
   "source": [
    "%%bq query -n logs\n",
    "SELECT * FROM `cloud-datalab-samples.httplogs.logs_20140615`"
   ]
  },
  {
   "cell_type": "code",
   "execution_count": null,
   "metadata": {
    "collapsed": false
   },
   "outputs": [],
   "source": [
    "%bq sample -q logs --count 10"
   ]
  },
  {
   "cell_type": "code",
   "execution_count": null,
   "metadata": {
    "collapsed": false
   },
   "outputs": [],
   "source": [
    "%%bq query -n endpoint\n",
    "SELECT endpoint FROM `cloud-datalab-samples.httplogs.logs_20140615` GROUP BY endpoint"
   ]
  },
  {
   "cell_type": "code",
   "execution_count": null,
   "metadata": {
    "collapsed": false
   },
   "outputs": [],
   "source": [
    "%bq execute -q endpoint"
   ]
  },
  {
   "cell_type": "markdown",
   "metadata": {},
   "source": [
    "# Parameterization within SQL queries\n",
    "\n",
    "Parameters are declared in SQL queries using a `@name` syntax within the SQL, and then defining `name`'s value when executing the query."
   ]
  },
  {
   "cell_type": "code",
   "execution_count": null,
   "metadata": {
    "collapsed": false
   },
   "outputs": [],
   "source": [
    "%%bq query -n endpoint_stats\n",
    "SELECT *\n",
    "FROM `cloud-datalab-samples.httplogs.logs_20140615`\n",
    "WHERE endpoint = @endpoint\n",
    "LIMIT 10"
   ]
  },
  {
   "cell_type": "code",
   "execution_count": null,
   "metadata": {
    "collapsed": false
   },
   "outputs": [],
   "source": [
    "%%bq execute -q endpoint_stats\n",
    "parameters:\n",
    "- name: endpoint\n",
    "  type: STRING\n",
    "  value: Interact2"
   ]
  },
  {
   "cell_type": "markdown",
   "metadata": {},
   "source": [
    "This defined a SQL query with a string parameter named `endpoint`, which can be filled when executing the query. Let's give it some value in a separate cell:"
   ]
  },
  {
   "cell_type": "code",
   "execution_count": null,
   "metadata": {
    "collapsed": true
   },
   "outputs": [],
   "source": [
    "endpoint_val = 'Interact3'"
   ]
  },
  {
   "cell_type": "markdown",
   "metadata": {},
   "source": [
    "In order to reference the variable defined above, Datalab offers the `$var` syntax, which can be invoked in the magic command:"
   ]
  },
  {
   "cell_type": "code",
   "execution_count": null,
   "metadata": {
    "collapsed": false
   },
   "outputs": [],
   "source": [
    "%%bq execute -q endpoint_stats\n",
    "parameters:\n",
    "- name: endpoint\n",
    "  type: STRING\n",
    "  value: $endpoint_val"
   ]
  },
  {
   "cell_type": "markdown",
   "metadata": {},
   "source": [
    "This can also be achieved using the Python API instead of the magic commands (`%%bq`). In fact, those magic commands are just wrappers to make common tasks easier. This is how we will create and execute a parameterized query using the API:"
   ]
  },
  {
   "cell_type": "code",
   "execution_count": null,
   "metadata": {
    "collapsed": false
   },
   "outputs": [],
   "source": [
    "import google.datalab.bigquery as bq\n",
    "endpoint_stats2 = bq.Query(sql='''\n",
    "SELECT *\n",
    "FROM `cloud-datalab-samples.httplogs.logs_20140615`\n",
    "WHERE endpoint = @endpoint\n",
    "LIMIT 10\n",
    "''')\n",
    "\n",
    "endpoint_value = 'Interact3'\n",
    "\n",
    "query_parameters = [\n",
    "  {\n",
    "    'name': 'endpoint',\n",
    "    'parameterType': {'type': 'STRING'},\n",
    "    'parameterValue': {'value': endpoint_value}\n",
    "  }\n",
    "]\n",
    "\n",
    "job = endpoint_stats2.execute(query_params=query_parameters)\n",
    "\n",
    "job.result()"
   ]
  },
  {
   "cell_type": "markdown",
   "metadata": {},
   "source": [
    "# Looking Ahead\n",
    "\n",
    "Parameterization enables one part of the SQL and Python integration: being able to use values in Python code in the notebook, and passing them in as part of the query when retrieving data from BigQuery.\n",
    "\n",
    "The next notebook will cover the other part of the SQL and Python integration: retrieving query results into the notebook for use with Python code."
   ]
  }
 ],
 "metadata": {
  "kernelspec": {
   "display_name": "Python 2",
   "language": "python",
   "name": "python2"
  },
  "language_info": {
   "codemirror_mode": {
    "name": "ipython",
    "version": 2
   },
   "file_extension": ".py",
   "mimetype": "text/x-python",
   "name": "python",
   "nbconvert_exporter": "python",
   "pygments_lexer": "ipython2",
   "version": "2.7.9"
  }
 },
 "nbformat": 4,
 "nbformat_minor": 0
}
