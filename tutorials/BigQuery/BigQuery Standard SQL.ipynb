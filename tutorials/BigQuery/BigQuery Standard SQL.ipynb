{
 "cells": [
  {
   "cell_type": "markdown",
   "metadata": {},
   "source": [
    "# BigQuery Standard SQL\n",
    "\n",
    "The examples in this notebook introduce features of [BigQuery Standard SQL](https://cloud.google.com/bigquery/sql-reference/) and [BigQuery SQL Data Manipulation Language (beta)](https://cloud.google.com/bigquery/sql-reference/dml-syntax).  BigQuery Standard SQL is compliant with the SQL 2011 standard. You've already seen the use of `%%sql` in the [Hello BigQuery](Hello BigQuery.ipynb) notebook and ``%%bigquery`` in the [BigQuery Commands](BigQuery Commands.ipynb) notebook. By default, both of these magic commands will configure Google BigQuery to run queries using the legacy BigQuery dialect.  "
   ]
  },
  {
   "cell_type": "markdown",
   "metadata": {},
   "source": [
    "# Querying Data\n",
    "\n",
    "First, we will demonstrate how to use `%%sql` with the `dialect` option which is required to run queries using BigQuery Standard SQL."
   ]
  },
  {
   "cell_type": "code",
   "execution_count": 1,
   "metadata": {
    "collapsed": false
   },
   "outputs": [
    {
     "data": {
      "text/html": [
       "\n",
       "    <div class=\"bqtv\" id=\"1_147554388327\"><table><tr><th>f0_</th></tr><tr><td>9510</td></tr></table></div>\n",
       "    <br />(rows: 1, time: 2.7s,    88MB processed, job: job_k)<br />\n",
       "    <script>\n",
       "\n",
       "      require.config({\n",
       "        paths: {\n",
       "          d3: '//cdnjs.cloudflare.com/ajax/libs/d3/3.4.13/d3',\n",
       "          plotly: 'https://cdn.plot.ly/plotly-1.5.1.min.js?noext',\n",
       "          jquery: '//ajax.googleapis.com/ajax/libs/jquery/2.0.0/jquery.min'\n",
       "        },\n",
       "        map: {\n",
       "          '*': {\n",
       "            datalab: 'nbextensions/gcpdatalab'\n",
       "          }\n",
       "        },\n",
       "        shim: {\n",
       "          plotly: {\n",
       "            deps: ['d3', 'jquery'],\n",
       "            exports: 'plotly'\n",
       "          }\n",
       "        }\n",
       "      });\n",
       "\n",
       "      require(['datalab/charting', 'datalab/element!1_147554388327', 'base/js/events',\n",
       "          'datalab/style!/nbextensions/gcpdatalab/charting.css'],\n",
       "        function(charts, dom, events) {\n",
       "          charts.render('gcharts', dom, events, 'table', [], {\"rows\": [{\"c\": [{\"v\": 9510}]}], \"cols\": [{\"type\": \"number\", \"id\": \"f0_\", \"label\": \"f0_\"}]},\n",
       "            {\n",
       "              pageSize: 25,\n",
       "              cssClassNames:  {\n",
       "                tableRow: 'gchart-table-row',\n",
       "                headerRow: 'gchart-table-headerrow',\n",
       "                oddTableRow: 'gchart-table-oddrow',\n",
       "                selectedTableRow: 'gchart-table-selectedrow',\n",
       "                hoverTableRow: 'gchart-table-hoverrow',\n",
       "                tableCell: 'gchart-table-cell',\n",
       "                headerCell: 'gchart-table-headercell',\n",
       "                rowNumberCell: 'gchart-table-rownumcell'\n",
       "              }\n",
       "            },\n",
       "            {source_index: 0, fields: 'f0_'},\n",
       "            0,\n",
       "            1);\n",
       "        }\n",
       "      );\n",
       "    </script>\n",
       "  "
      ],
      "text/plain": [
       "QueryResultsTable job_k"
      ]
     },
     "execution_count": 1,
     "metadata": {},
     "output_type": "execute_result"
    }
   ],
   "source": [
    "%%sql -d standard\n",
    "WITH UniqueNames2013 AS\n",
    "(SELECT DISTINCT name\n",
    "  FROM `bigquery-public-data.usa_names.usa_1910_2013`\n",
    "  WHERE Year = 2013)\n",
    "SELECT COUNT(*) FROM UniqueNames2013"
   ]
  },
  {
   "cell_type": "markdown",
   "metadata": {},
   "source": [
    "## SQL\n",
    "\n",
    "In the example above, the SQL query was run directly via `%%sql`. In Cloud Datalab, you can also save the query in a SQL module. Here is the equivalent query:"
   ]
  },
  {
   "cell_type": "code",
   "execution_count": 2,
   "metadata": {
    "collapsed": true
   },
   "outputs": [],
   "source": [
    "%%sql --module UniqueNames2013\n",
    "WITH UniqueNames AS\n",
    "(SELECT DISTINCT name\n",
    "  FROM `bigquery-public-data.usa_names.usa_1910_2013`\n",
    "  WHERE Year = 2013)\n",
    "SELECT * FROM UniqueNames\n",
    "LIMIT 15"
   ]
  },
  {
   "cell_type": "markdown",
   "metadata": {},
   "source": [
    "## Using the BigQuery Magic command with Standard SQL\n",
    "\n",
    "Below we will demonstrate how to set the `dialect` option so we can use BigQuery Standard SQL with `%%bigquery`. First, let's display all the arguments of `%%bigquery`."
   ]
  },
  {
   "cell_type": "code",
   "execution_count": 3,
   "metadata": {
    "collapsed": false
   },
   "outputs": [
    {
     "name": "stdout",
     "output_type": "stream",
     "text": [
      "usage: bigquery [-h]\n",
      "                {sample,create,delete,dryrun,udf,execute,pipeline,table,schema,datasets,tables,extract,load}\n",
      "                ...\n",
      "\n",
      "Execute various BigQuery-related operations. Use \"%bigquery <command> -h\" for\n",
      "help on a specific command.\n",
      "\n",
      "positional arguments:\n",
      "  {sample,create,delete,dryrun,udf,execute,pipeline,table,schema,datasets,tables,extract,load}\n",
      "                        commands\n",
      "    sample              Display a sample of the results of a BigQuery SQL\n",
      "                        query. The cell can optionally contain arguments for\n",
      "                        expanding variables in the query, if -q/--query was\n",
      "                        used, or it can contain SQL for a query.\n",
      "    create              Create a dataset or table.\n",
      "    delete              Delete a dataset or table.\n",
      "    dryrun              Execute a dry run of a BigQuery query and display\n",
      "                        approximate usage statistics\n",
      "    udf                 Create a named Javascript BigQuery UDF\n",
      "    execute             Execute a BigQuery SQL query and optionally send the\n",
      "                        results to a named table. The cell can optionally\n",
      "                        contain arguments for expanding variables in the\n",
      "                        query.\n",
      "    pipeline            Define a deployable pipeline based on a BigQuery\n",
      "                        query. The cell can optionally contain arguments for\n",
      "                        expanding variables in the query.\n",
      "    table               View a BigQuery table.\n",
      "    schema              View a BigQuery table or view schema.\n",
      "    datasets            List the datasets in a BigQuery project.\n",
      "    tables              List the tables in a BigQuery project or dataset.\n",
      "    extract             Extract BigQuery query results or table to GCS.\n",
      "    load                Load data from GCS into a BigQuery table.\n",
      "\n",
      "optional arguments:\n",
      "  -h, --help            show this help message and exit\n",
      "None\n"
     ]
    }
   ],
   "source": [
    "%%bigquery -h"
   ]
  },
  {
   "cell_type": "markdown",
   "metadata": {},
   "source": [
    "The `dryrun` argument in ``%%bigquery`` can be helpful to confirm the syntax of the SQL query :"
   ]
  },
  {
   "cell_type": "code",
   "execution_count": 4,
   "metadata": {
    "collapsed": false
   },
   "outputs": [
    {
     "data": {
      "text/html": [
       "\n",
       "    <p>Dry run information:    88MB to process, results not cached</p>\n",
       "    "
      ],
      "text/plain": [
       "<datalab.bigquery._query_stats.QueryStats at 0x7f56cc4f8390>"
      ]
     },
     "execution_count": 4,
     "metadata": {},
     "output_type": "execute_result"
    }
   ],
   "source": [
    "%%bigquery dryrun -q UniqueNames2013 -d standard"
   ]
  },
  {
   "cell_type": "markdown",
   "metadata": {},
   "source": [
    "Now, let's get a small sample of the results using the `sample` argument in ``%%bigquery``:"
   ]
  },
  {
   "cell_type": "code",
   "execution_count": 5,
   "metadata": {
    "collapsed": false
   },
   "outputs": [
    {
     "data": {
      "text/html": [
       "\n",
       "    <div class=\"bqtv\" id=\"2_147554389702\"><table><tr><th>name</th></tr><tr><td>Coleton</td></tr><tr><td>Jadelyn</td></tr><tr><td>Anwar</td></tr><tr><td>Kennedy</td></tr><tr><td>Rainier</td></tr><tr><td>Joaquin</td></tr><tr><td>Harlan</td></tr><tr><td>Elienai</td></tr><tr><td>Myra</td></tr><tr><td>Jentry</td></tr></table></div>\n",
       "    <br />(rows: 10, time: 2.9s,    88MB processed, job: job_o)<br />\n",
       "    <script>\n",
       "\n",
       "      require.config({\n",
       "        paths: {\n",
       "          d3: '//cdnjs.cloudflare.com/ajax/libs/d3/3.4.13/d3',\n",
       "          plotly: 'https://cdn.plot.ly/plotly-1.5.1.min.js?noext',\n",
       "          jquery: '//ajax.googleapis.com/ajax/libs/jquery/2.0.0/jquery.min'\n",
       "        },\n",
       "        map: {\n",
       "          '*': {\n",
       "            datalab: 'nbextensions/gcpdatalab'\n",
       "          }\n",
       "        },\n",
       "        shim: {\n",
       "          plotly: {\n",
       "            deps: ['d3', 'jquery'],\n",
       "            exports: 'plotly'\n",
       "          }\n",
       "        }\n",
       "      });\n",
       "\n",
       "      require(['datalab/charting', 'datalab/element!2_147554389702', 'base/js/events',\n",
       "          'datalab/style!/nbextensions/gcpdatalab/charting.css'],\n",
       "        function(charts, dom, events) {\n",
       "          charts.render('gcharts', dom, events, 'table', [], {\"rows\": [{\"c\": [{\"v\": \"Coleton\"}]}, {\"c\": [{\"v\": \"Jadelyn\"}]}, {\"c\": [{\"v\": \"Anwar\"}]}, {\"c\": [{\"v\": \"Kennedy\"}]}, {\"c\": [{\"v\": \"Rainier\"}]}, {\"c\": [{\"v\": \"Joaquin\"}]}, {\"c\": [{\"v\": \"Harlan\"}]}, {\"c\": [{\"v\": \"Elienai\"}]}, {\"c\": [{\"v\": \"Myra\"}]}, {\"c\": [{\"v\": \"Jentry\"}]}], \"cols\": [{\"type\": \"string\", \"id\": \"name\", \"label\": \"name\"}]},\n",
       "            {\n",
       "              pageSize: 25,\n",
       "              cssClassNames:  {\n",
       "                tableRow: 'gchart-table-row',\n",
       "                headerRow: 'gchart-table-headerrow',\n",
       "                oddTableRow: 'gchart-table-oddrow',\n",
       "                selectedTableRow: 'gchart-table-selectedrow',\n",
       "                hoverTableRow: 'gchart-table-hoverrow',\n",
       "                tableCell: 'gchart-table-cell',\n",
       "                headerCell: 'gchart-table-headercell',\n",
       "                rowNumberCell: 'gchart-table-rownumcell'\n",
       "              }\n",
       "            },\n",
       "            {source_index: 1, fields: 'name'},\n",
       "            0,\n",
       "            10);\n",
       "        }\n",
       "      );\n",
       "    </script>\n",
       "  "
      ],
      "text/plain": [
       "QueryResultsTable job_o"
      ]
     },
     "execution_count": 5,
     "metadata": {},
     "output_type": "execute_result"
    }
   ],
   "source": [
    "%%bigquery sample -q UniqueNames2013 -d standard"
   ]
  },
  {
   "cell_type": "markdown",
   "metadata": {},
   "source": [
    "Finally, We can use the `execute` argument in %%bigquery to display the results of our query:"
   ]
  },
  {
   "cell_type": "code",
   "execution_count": 6,
   "metadata": {
    "collapsed": false
   },
   "outputs": [
    {
     "data": {
      "text/html": [
       "\n",
       "    <div class=\"bqtv\" id=\"3_147554390479\"><table><tr><th>name</th></tr><tr><td>Coleton</td></tr><tr><td>Amberlee</td></tr><tr><td>Anwar</td></tr><tr><td>Kennedy</td></tr><tr><td>Rainier</td></tr><tr><td>Harlan</td></tr><tr><td>Anum</td></tr><tr><td>Joaquin</td></tr><tr><td>Gisela</td></tr><tr><td>Breanne</td></tr><tr><td>Elienai</td></tr><tr><td>Myra</td></tr><tr><td>Jentry</td></tr><tr><td>Ashton</td></tr><tr><td>Ilianna</td></tr></table></div>\n",
       "    <br />(rows: 15, time: 1.5s,    88MB processed, job: job_-)<br />\n",
       "    <script>\n",
       "\n",
       "      require.config({\n",
       "        paths: {\n",
       "          d3: '//cdnjs.cloudflare.com/ajax/libs/d3/3.4.13/d3',\n",
       "          plotly: 'https://cdn.plot.ly/plotly-1.5.1.min.js?noext',\n",
       "          jquery: '//ajax.googleapis.com/ajax/libs/jquery/2.0.0/jquery.min'\n",
       "        },\n",
       "        map: {\n",
       "          '*': {\n",
       "            datalab: 'nbextensions/gcpdatalab'\n",
       "          }\n",
       "        },\n",
       "        shim: {\n",
       "          plotly: {\n",
       "            deps: ['d3', 'jquery'],\n",
       "            exports: 'plotly'\n",
       "          }\n",
       "        }\n",
       "      });\n",
       "\n",
       "      require(['datalab/charting', 'datalab/element!3_147554390479', 'base/js/events',\n",
       "          'datalab/style!/nbextensions/gcpdatalab/charting.css'],\n",
       "        function(charts, dom, events) {\n",
       "          charts.render('gcharts', dom, events, 'table', [], {\"rows\": [{\"c\": [{\"v\": \"Coleton\"}]}, {\"c\": [{\"v\": \"Amberlee\"}]}, {\"c\": [{\"v\": \"Anwar\"}]}, {\"c\": [{\"v\": \"Kennedy\"}]}, {\"c\": [{\"v\": \"Rainier\"}]}, {\"c\": [{\"v\": \"Harlan\"}]}, {\"c\": [{\"v\": \"Anum\"}]}, {\"c\": [{\"v\": \"Joaquin\"}]}, {\"c\": [{\"v\": \"Gisela\"}]}, {\"c\": [{\"v\": \"Breanne\"}]}, {\"c\": [{\"v\": \"Elienai\"}]}, {\"c\": [{\"v\": \"Myra\"}]}, {\"c\": [{\"v\": \"Jentry\"}]}, {\"c\": [{\"v\": \"Ashton\"}]}, {\"c\": [{\"v\": \"Ilianna\"}]}], \"cols\": [{\"type\": \"string\", \"id\": \"name\", \"label\": \"name\"}]},\n",
       "            {\n",
       "              pageSize: 25,\n",
       "              cssClassNames:  {\n",
       "                tableRow: 'gchart-table-row',\n",
       "                headerRow: 'gchart-table-headerrow',\n",
       "                oddTableRow: 'gchart-table-oddrow',\n",
       "                selectedTableRow: 'gchart-table-selectedrow',\n",
       "                hoverTableRow: 'gchart-table-hoverrow',\n",
       "                tableCell: 'gchart-table-cell',\n",
       "                headerCell: 'gchart-table-headercell',\n",
       "                rowNumberCell: 'gchart-table-rownumcell'\n",
       "              }\n",
       "            },\n",
       "            {source_index: 2, fields: 'name'},\n",
       "            0,\n",
       "            15);\n",
       "        }\n",
       "      );\n",
       "    </script>\n",
       "  "
      ],
      "text/plain": [
       "QueryResultsTable job_-"
      ]
     },
     "execution_count": 6,
     "metadata": {},
     "output_type": "execute_result"
    }
   ],
   "source": [
    "%%bigquery execute -q UniqueNames2013 -d standard"
   ]
  },
  {
   "cell_type": "markdown",
   "metadata": {},
   "source": [
    "## Using Standard SQL with the Datalab BigQuery API\n",
    "\n",
    "The Cloud Datalab APIs are provided in the `datalab` Python library, and the BigQuery functionality is contained within the `datalab.bigquery` module. \n",
    "\n",
    "The most important BigQuery-related API is the one that allows you to execute a SQL query. The `bq.Query` class provides that functionality. To run a query using BigQuery Standard SQL, simply set the `dialect` parameter to `'standard'`."
   ]
  },
  {
   "cell_type": "code",
   "execution_count": 7,
   "metadata": {
    "collapsed": true
   },
   "outputs": [],
   "source": [
    "import datalab.bigquery as bq"
   ]
  },
  {
   "cell_type": "markdown",
   "metadata": {},
   "source": [
    "First, let's view the sql query that we're about to run."
   ]
  },
  {
   "cell_type": "code",
   "execution_count": 8,
   "metadata": {
    "collapsed": false
   },
   "outputs": [
    {
     "data": {
      "text/plain": [
       "u'WITH UniqueNames AS\\n(SELECT DISTINCT name\\n  FROM `bigquery-public-data.usa_names.usa_1910_2013`\\n  WHERE Year = 2013)\\nSELECT * FROM UniqueNames\\nLIMIT 15'"
      ]
     },
     "execution_count": 8,
     "metadata": {},
     "output_type": "execute_result"
    }
   ],
   "source": [
    "bq.Query(UniqueNames2013).sql"
   ]
  },
  {
   "cell_type": "markdown",
   "metadata": {},
   "source": [
    "To run the query and view a sample from the result set, use the following:"
   ]
  },
  {
   "cell_type": "code",
   "execution_count": 9,
   "metadata": {
    "collapsed": false
   },
   "outputs": [
    {
     "data": {
      "text/html": [
       "\n",
       "    <div class=\"bqtv\" id=\"4_147554390863\"><table><tr><th>name</th></tr><tr><td>Coleton</td></tr><tr><td>Anwar</td></tr><tr><td>Rainier</td></tr><tr><td>Elienai</td></tr><tr><td>Myra</td></tr></table></div>\n",
       "    <br />(rows: 5, time: 1.8s,    88MB processed, job: job_T)<br />\n",
       "    <script>\n",
       "\n",
       "      require.config({\n",
       "        paths: {\n",
       "          d3: '//cdnjs.cloudflare.com/ajax/libs/d3/3.4.13/d3',\n",
       "          plotly: 'https://cdn.plot.ly/plotly-1.5.1.min.js?noext',\n",
       "          jquery: '//ajax.googleapis.com/ajax/libs/jquery/2.0.0/jquery.min'\n",
       "        },\n",
       "        map: {\n",
       "          '*': {\n",
       "            datalab: 'nbextensions/gcpdatalab'\n",
       "          }\n",
       "        },\n",
       "        shim: {\n",
       "          plotly: {\n",
       "            deps: ['d3', 'jquery'],\n",
       "            exports: 'plotly'\n",
       "          }\n",
       "        }\n",
       "      });\n",
       "\n",
       "      require(['datalab/charting', 'datalab/element!4_147554390863', 'base/js/events',\n",
       "          'datalab/style!/nbextensions/gcpdatalab/charting.css'],\n",
       "        function(charts, dom, events) {\n",
       "          charts.render('gcharts', dom, events, 'table', [], {\"rows\": [{\"c\": [{\"v\": \"Coleton\"}]}, {\"c\": [{\"v\": \"Anwar\"}]}, {\"c\": [{\"v\": \"Rainier\"}]}, {\"c\": [{\"v\": \"Elienai\"}]}, {\"c\": [{\"v\": \"Myra\"}]}], \"cols\": [{\"type\": \"string\", \"id\": \"name\", \"label\": \"name\"}]},\n",
       "            {\n",
       "              pageSize: 25,\n",
       "              cssClassNames:  {\n",
       "                tableRow: 'gchart-table-row',\n",
       "                headerRow: 'gchart-table-headerrow',\n",
       "                oddTableRow: 'gchart-table-oddrow',\n",
       "                selectedTableRow: 'gchart-table-selectedrow',\n",
       "                hoverTableRow: 'gchart-table-hoverrow',\n",
       "                tableCell: 'gchart-table-cell',\n",
       "                headerCell: 'gchart-table-headercell',\n",
       "                rowNumberCell: 'gchart-table-rownumcell'\n",
       "              }\n",
       "            },\n",
       "            {source_index: 3, fields: 'name'},\n",
       "            0,\n",
       "            5);\n",
       "        }\n",
       "      );\n",
       "    </script>\n",
       "  "
      ],
      "text/plain": [
       "QueryResultsTable job_T"
      ]
     },
     "execution_count": 9,
     "metadata": {},
     "output_type": "execute_result"
    }
   ],
   "source": [
    "bq.Query(UniqueNames2013).sample(dialect='standard')"
   ]
  },
  {
   "cell_type": "markdown",
   "metadata": {},
   "source": [
    "To run the query and display the entire result set in a table, use the following:"
   ]
  },
  {
   "cell_type": "code",
   "execution_count": 10,
   "metadata": {
    "collapsed": false
   },
   "outputs": [
    {
     "data": {
      "text/html": [
       "\n",
       "    <div class=\"bqtv\" id=\"5_147554391512\"><table><tr><th>name</th></tr><tr><td>Coleton</td></tr><tr><td>Amberlee</td></tr><tr><td>Anwar</td></tr><tr><td>Kennedy</td></tr><tr><td>Rainier</td></tr><tr><td>Harlan</td></tr><tr><td>Anum</td></tr><tr><td>Joaquin</td></tr><tr><td>Gisela</td></tr><tr><td>Breanne</td></tr><tr><td>Elienai</td></tr><tr><td>Myra</td></tr><tr><td>Jentry</td></tr><tr><td>Ashton</td></tr><tr><td>Ilianna</td></tr></table></div>\n",
       "    <br />(rows: 15, time: 0.2s, cached, job: job_t)<br />\n",
       "    <script>\n",
       "\n",
       "      require.config({\n",
       "        paths: {\n",
       "          d3: '//cdnjs.cloudflare.com/ajax/libs/d3/3.4.13/d3',\n",
       "          plotly: 'https://cdn.plot.ly/plotly-1.5.1.min.js?noext',\n",
       "          jquery: '//ajax.googleapis.com/ajax/libs/jquery/2.0.0/jquery.min'\n",
       "        },\n",
       "        map: {\n",
       "          '*': {\n",
       "            datalab: 'nbextensions/gcpdatalab'\n",
       "          }\n",
       "        },\n",
       "        shim: {\n",
       "          plotly: {\n",
       "            deps: ['d3', 'jquery'],\n",
       "            exports: 'plotly'\n",
       "          }\n",
       "        }\n",
       "      });\n",
       "\n",
       "      require(['datalab/charting', 'datalab/element!5_147554391512', 'base/js/events',\n",
       "          'datalab/style!/nbextensions/gcpdatalab/charting.css'],\n",
       "        function(charts, dom, events) {\n",
       "          charts.render('gcharts', dom, events, 'table', [], {\"rows\": [{\"c\": [{\"v\": \"Coleton\"}]}, {\"c\": [{\"v\": \"Amberlee\"}]}, {\"c\": [{\"v\": \"Anwar\"}]}, {\"c\": [{\"v\": \"Kennedy\"}]}, {\"c\": [{\"v\": \"Rainier\"}]}, {\"c\": [{\"v\": \"Harlan\"}]}, {\"c\": [{\"v\": \"Anum\"}]}, {\"c\": [{\"v\": \"Joaquin\"}]}, {\"c\": [{\"v\": \"Gisela\"}]}, {\"c\": [{\"v\": \"Breanne\"}]}, {\"c\": [{\"v\": \"Elienai\"}]}, {\"c\": [{\"v\": \"Myra\"}]}, {\"c\": [{\"v\": \"Jentry\"}]}, {\"c\": [{\"v\": \"Ashton\"}]}, {\"c\": [{\"v\": \"Ilianna\"}]}], \"cols\": [{\"type\": \"string\", \"id\": \"name\", \"label\": \"name\"}]},\n",
       "            {\n",
       "              pageSize: 25,\n",
       "              cssClassNames:  {\n",
       "                tableRow: 'gchart-table-row',\n",
       "                headerRow: 'gchart-table-headerrow',\n",
       "                oddTableRow: 'gchart-table-oddrow',\n",
       "                selectedTableRow: 'gchart-table-selectedrow',\n",
       "                hoverTableRow: 'gchart-table-hoverrow',\n",
       "                tableCell: 'gchart-table-cell',\n",
       "                headerCell: 'gchart-table-headercell',\n",
       "                rowNumberCell: 'gchart-table-rownumcell'\n",
       "              }\n",
       "            },\n",
       "            {source_index: 2, fields: 'name'},\n",
       "            0,\n",
       "            15);\n",
       "        }\n",
       "      );\n",
       "    </script>\n",
       "  "
      ],
      "text/plain": [
       "QueryResultsTable job_t"
      ]
     },
     "execution_count": 10,
     "metadata": {},
     "output_type": "execute_result"
    }
   ],
   "source": [
    "bq.Query(UniqueNames2013).results(dialect='standard')"
   ]
  },
  {
   "cell_type": "markdown",
   "metadata": {},
   "source": [
    "Finally, to run the query and display the entire result set in a pandas DataFrame, use the following:"
   ]
  },
  {
   "cell_type": "code",
   "execution_count": 11,
   "metadata": {
    "collapsed": false
   },
   "outputs": [
    {
     "data": {
      "text/html": [
       "<div>\n",
       "<table border=\"1\" class=\"dataframe\">\n",
       "  <thead>\n",
       "    <tr style=\"text-align: right;\">\n",
       "      <th></th>\n",
       "      <th>name</th>\n",
       "    </tr>\n",
       "  </thead>\n",
       "  <tbody>\n",
       "    <tr>\n",
       "      <th>0</th>\n",
       "      <td>Coleton</td>\n",
       "    </tr>\n",
       "    <tr>\n",
       "      <th>1</th>\n",
       "      <td>Amberlee</td>\n",
       "    </tr>\n",
       "    <tr>\n",
       "      <th>2</th>\n",
       "      <td>Anwar</td>\n",
       "    </tr>\n",
       "    <tr>\n",
       "      <th>3</th>\n",
       "      <td>Kennedy</td>\n",
       "    </tr>\n",
       "    <tr>\n",
       "      <th>4</th>\n",
       "      <td>Rainier</td>\n",
       "    </tr>\n",
       "    <tr>\n",
       "      <th>5</th>\n",
       "      <td>Harlan</td>\n",
       "    </tr>\n",
       "    <tr>\n",
       "      <th>6</th>\n",
       "      <td>Anum</td>\n",
       "    </tr>\n",
       "    <tr>\n",
       "      <th>7</th>\n",
       "      <td>Joaquin</td>\n",
       "    </tr>\n",
       "    <tr>\n",
       "      <th>8</th>\n",
       "      <td>Gisela</td>\n",
       "    </tr>\n",
       "    <tr>\n",
       "      <th>9</th>\n",
       "      <td>Breanne</td>\n",
       "    </tr>\n",
       "    <tr>\n",
       "      <th>10</th>\n",
       "      <td>Elienai</td>\n",
       "    </tr>\n",
       "    <tr>\n",
       "      <th>11</th>\n",
       "      <td>Myra</td>\n",
       "    </tr>\n",
       "    <tr>\n",
       "      <th>12</th>\n",
       "      <td>Jentry</td>\n",
       "    </tr>\n",
       "    <tr>\n",
       "      <th>13</th>\n",
       "      <td>Ashton</td>\n",
       "    </tr>\n",
       "    <tr>\n",
       "      <th>14</th>\n",
       "      <td>Ilianna</td>\n",
       "    </tr>\n",
       "  </tbody>\n",
       "</table>\n",
       "</div>"
      ],
      "text/plain": [
       "        name\n",
       "0    Coleton\n",
       "1   Amberlee\n",
       "2      Anwar\n",
       "3    Kennedy\n",
       "4    Rainier\n",
       "5     Harlan\n",
       "6       Anum\n",
       "7    Joaquin\n",
       "8     Gisela\n",
       "9    Breanne\n",
       "10   Elienai\n",
       "11      Myra\n",
       "12    Jentry\n",
       "13    Ashton\n",
       "14   Ilianna"
      ]
     },
     "execution_count": 11,
     "metadata": {},
     "output_type": "execute_result"
    }
   ],
   "source": [
    "bq.Query(UniqueNames2013).to_dataframe(dialect='standard')"
   ]
  },
  {
   "cell_type": "markdown",
   "metadata": {},
   "source": [
    "# Using Google BigQuery SQL Data Manipulation Language\n",
    "\n",
    "Below, we will demonstrate how to use Google BigQuery SQL Data Manipulation Language (DML) in Google Cloud Datalab. This requires the `dialect` option :"
   ]
  },
  {
   "cell_type": "markdown",
   "metadata": {},
   "source": [
    "## Preparation\n",
    "\n",
    "First, let's create a sample dataset and table to help demonstrate the features of Google BigQuery DML."
   ]
  },
  {
   "cell_type": "code",
   "execution_count": 12,
   "metadata": {
    "collapsed": true
   },
   "outputs": [],
   "source": [
    "# Create a new dataset (this will be deleted later in the notebook)\n",
    "sample_dataset = bq.Dataset('sampleDML')\n",
    "if not sample_dataset.exists():\n",
    "  sample_dataset.create(friendly_name = 'Sample Dataset for testing DML', description = 'Created from Sample Notebook in Google Cloud Datalab')\n",
    "  sample_dataset.exists()"
   ]
  },
  {
   "cell_type": "code",
   "execution_count": 13,
   "metadata": {
    "collapsed": true
   },
   "outputs": [],
   "source": [
    "# To create a table, we also need to create a schema.\n",
    "# Its easiest to create a schema from some existing data, so this\n",
    "# example demonstrates using an example object\n",
    "fruit_row = {\n",
    "  'name': 'string value',\n",
    "  'count': 0\n",
    "}\n",
    "\n",
    "sample_table1 = bq.Table(\"sampleDML.fruit_basket\").create(schema = bq.Schema.from_data([fruit_row]), \n",
    "                                                          overwrite = True)"
   ]
  },
  {
   "cell_type": "markdown",
   "metadata": {},
   "source": [
    "## Inserting Data\n",
    "\n",
    "We can add rows to our newly created `fruit_basket` table by using an `INSERT` statement in our BigQuery Standard SQL query."
   ]
  },
  {
   "cell_type": "code",
   "execution_count": 14,
   "metadata": {
    "collapsed": false
   },
   "outputs": [
    {
     "data": {
      "text/html": [
       "\n",
       "    <div class=\"bqtv\" id=\"6_147554392497\"><table><tr><th>count</th><th>name</th></tr><tr><td>15</td><td>apple</td></tr><tr><td>5</td><td>banana</td></tr><tr><td>10</td><td>orange</td></tr><tr><td>20</td><td>mango</td></tr></table></div>\n",
       "    <br />(rows: 4, time: 2.2s,     0B processed, job: job__c)<br />\n",
       "    <script>\n",
       "\n",
       "      require.config({\n",
       "        paths: {\n",
       "          d3: '//cdnjs.cloudflare.com/ajax/libs/d3/3.4.13/d3',\n",
       "          plotly: 'https://cdn.plot.ly/plotly-1.5.1.min.js?noext',\n",
       "          jquery: '//ajax.googleapis.com/ajax/libs/jquery/2.0.0/jquery.min'\n",
       "        },\n",
       "        map: {\n",
       "          '*': {\n",
       "            datalab: 'nbextensions/gcpdatalab'\n",
       "          }\n",
       "        },\n",
       "        shim: {\n",
       "          plotly: {\n",
       "            deps: ['d3', 'jquery'],\n",
       "            exports: 'plotly'\n",
       "          }\n",
       "        }\n",
       "      });\n",
       "\n",
       "      require(['datalab/charting', 'datalab/element!6_147554392497', 'base/js/events',\n",
       "          'datalab/style!/nbextensions/gcpdatalab/charting.css'],\n",
       "        function(charts, dom, events) {\n",
       "          charts.render('gcharts', dom, events, 'table', [], {\"rows\": [{\"c\": [{\"v\": 15}, {\"v\": \"apple\"}]}, {\"c\": [{\"v\": 5}, {\"v\": \"banana\"}]}, {\"c\": [{\"v\": 10}, {\"v\": \"orange\"}]}, {\"c\": [{\"v\": 20}, {\"v\": \"mango\"}]}], \"cols\": [{\"type\": \"number\", \"id\": \"count\", \"label\": \"count\"}, {\"type\": \"string\", \"id\": \"name\", \"label\": \"name\"}]},\n",
       "            {\n",
       "              pageSize: 25,\n",
       "              cssClassNames:  {\n",
       "                tableRow: 'gchart-table-row',\n",
       "                headerRow: 'gchart-table-headerrow',\n",
       "                oddTableRow: 'gchart-table-oddrow',\n",
       "                selectedTableRow: 'gchart-table-selectedrow',\n",
       "                hoverTableRow: 'gchart-table-hoverrow',\n",
       "                tableCell: 'gchart-table-cell',\n",
       "                headerCell: 'gchart-table-headercell',\n",
       "                rowNumberCell: 'gchart-table-rownumcell'\n",
       "              }\n",
       "            },\n",
       "            {source_index: 4, fields: 'count,name'},\n",
       "            0,\n",
       "            4);\n",
       "        }\n",
       "      );\n",
       "    </script>\n",
       "  "
      ],
      "text/plain": [
       "QueryResultsTable job__c"
      ]
     },
     "execution_count": 14,
     "metadata": {},
     "output_type": "execute_result"
    }
   ],
   "source": [
    "%%sql -d standard\n",
    "INSERT sampleDML.fruit_basket (name, count)\n",
    "VALUES('banana', 5),\n",
    "      ('orange', 10),\n",
    "      ('apple', 15),\n",
    "      ('mango', 20)"
   ]
  },
  {
   "cell_type": "markdown",
   "metadata": {},
   "source": [
    "You may rewrite the previous query as:"
   ]
  },
  {
   "cell_type": "code",
   "execution_count": 15,
   "metadata": {
    "collapsed": false
   },
   "outputs": [
    {
     "data": {
      "text/html": [
       "\n",
       "    <div class=\"bqtv\" id=\"7_147554393254\"><table><tr><th>count</th><th>name</th></tr><tr><td>15</td><td>apple</td></tr><tr><td>5</td><td>banana</td></tr><tr><td>10</td><td>orange</td></tr><tr><td>20</td><td>mango</td></tr><tr><td>25</td><td>peach</td></tr><tr><td>30</td><td>watermelon</td></tr></table></div>\n",
       "    <br />(rows: 6, time: 1.8s,     0B processed, job: job_M)<br />\n",
       "    <script>\n",
       "\n",
       "      require.config({\n",
       "        paths: {\n",
       "          d3: '//cdnjs.cloudflare.com/ajax/libs/d3/3.4.13/d3',\n",
       "          plotly: 'https://cdn.plot.ly/plotly-1.5.1.min.js?noext',\n",
       "          jquery: '//ajax.googleapis.com/ajax/libs/jquery/2.0.0/jquery.min'\n",
       "        },\n",
       "        map: {\n",
       "          '*': {\n",
       "            datalab: 'nbextensions/gcpdatalab'\n",
       "          }\n",
       "        },\n",
       "        shim: {\n",
       "          plotly: {\n",
       "            deps: ['d3', 'jquery'],\n",
       "            exports: 'plotly'\n",
       "          }\n",
       "        }\n",
       "      });\n",
       "\n",
       "      require(['datalab/charting', 'datalab/element!7_147554393254', 'base/js/events',\n",
       "          'datalab/style!/nbextensions/gcpdatalab/charting.css'],\n",
       "        function(charts, dom, events) {\n",
       "          charts.render('gcharts', dom, events, 'table', [], {\"rows\": [{\"c\": [{\"v\": 15}, {\"v\": \"apple\"}]}, {\"c\": [{\"v\": 5}, {\"v\": \"banana\"}]}, {\"c\": [{\"v\": 10}, {\"v\": \"orange\"}]}, {\"c\": [{\"v\": 20}, {\"v\": \"mango\"}]}, {\"c\": [{\"v\": 25}, {\"v\": \"peach\"}]}, {\"c\": [{\"v\": 30}, {\"v\": \"watermelon\"}]}], \"cols\": [{\"type\": \"number\", \"id\": \"count\", \"label\": \"count\"}, {\"type\": \"string\", \"id\": \"name\", \"label\": \"name\"}]},\n",
       "            {\n",
       "              pageSize: 25,\n",
       "              cssClassNames:  {\n",
       "                tableRow: 'gchart-table-row',\n",
       "                headerRow: 'gchart-table-headerrow',\n",
       "                oddTableRow: 'gchart-table-oddrow',\n",
       "                selectedTableRow: 'gchart-table-selectedrow',\n",
       "                hoverTableRow: 'gchart-table-hoverrow',\n",
       "                tableCell: 'gchart-table-cell',\n",
       "                headerCell: 'gchart-table-headercell',\n",
       "                rowNumberCell: 'gchart-table-rownumcell'\n",
       "              }\n",
       "            },\n",
       "            {source_index: 4, fields: 'count,name'},\n",
       "            0,\n",
       "            6);\n",
       "        }\n",
       "      );\n",
       "    </script>\n",
       "  "
      ],
      "text/plain": [
       "QueryResultsTable job_M"
      ]
     },
     "execution_count": 15,
     "metadata": {},
     "output_type": "execute_result"
    }
   ],
   "source": [
    "%%sql -d standard\n",
    "INSERT sampleDML.fruit_basket (name, count)\n",
    "SELECT * \n",
    "FROM UNNEST([('peach', 25), ('watermelon', 30)])"
   ]
  },
  {
   "cell_type": "markdown",
   "metadata": {},
   "source": [
    "You can also use a `WITH` clause with `INSERT` and `SELECT`."
   ]
  },
  {
   "cell_type": "code",
   "execution_count": 16,
   "metadata": {
    "collapsed": false
   },
   "outputs": [
    {
     "data": {
      "text/html": [
       "\n",
       "    <div class=\"bqtv\" id=\"8_147554393675\"><table><tr><th>count</th><th>name</th></tr><tr><td>15</td><td>apple</td></tr><tr><td>5</td><td>banana</td></tr><tr><td>10</td><td>orange</td></tr><tr><td>20</td><td>mango</td></tr><tr><td>25</td><td>peach</td></tr><tr><td>30</td><td>watermelon</td></tr><tr><td>45</td><td>pear</td></tr><tr><td>35</td><td>cherry</td></tr><tr><td>40</td><td>cranberry</td></tr></table></div>\n",
       "    <br />(rows: 9, time: 1.6s,     0B processed, job: job_J)<br />\n",
       "    <script>\n",
       "\n",
       "      require.config({\n",
       "        paths: {\n",
       "          d3: '//cdnjs.cloudflare.com/ajax/libs/d3/3.4.13/d3',\n",
       "          plotly: 'https://cdn.plot.ly/plotly-1.5.1.min.js?noext',\n",
       "          jquery: '//ajax.googleapis.com/ajax/libs/jquery/2.0.0/jquery.min'\n",
       "        },\n",
       "        map: {\n",
       "          '*': {\n",
       "            datalab: 'nbextensions/gcpdatalab'\n",
       "          }\n",
       "        },\n",
       "        shim: {\n",
       "          plotly: {\n",
       "            deps: ['d3', 'jquery'],\n",
       "            exports: 'plotly'\n",
       "          }\n",
       "        }\n",
       "      });\n",
       "\n",
       "      require(['datalab/charting', 'datalab/element!8_147554393675', 'base/js/events',\n",
       "          'datalab/style!/nbextensions/gcpdatalab/charting.css'],\n",
       "        function(charts, dom, events) {\n",
       "          charts.render('gcharts', dom, events, 'table', [], {\"rows\": [{\"c\": [{\"v\": 15}, {\"v\": \"apple\"}]}, {\"c\": [{\"v\": 5}, {\"v\": \"banana\"}]}, {\"c\": [{\"v\": 10}, {\"v\": \"orange\"}]}, {\"c\": [{\"v\": 20}, {\"v\": \"mango\"}]}, {\"c\": [{\"v\": 25}, {\"v\": \"peach\"}]}, {\"c\": [{\"v\": 30}, {\"v\": \"watermelon\"}]}, {\"c\": [{\"v\": 45}, {\"v\": \"pear\"}]}, {\"c\": [{\"v\": 35}, {\"v\": \"cherry\"}]}, {\"c\": [{\"v\": 40}, {\"v\": \"cranberry\"}]}], \"cols\": [{\"type\": \"number\", \"id\": \"count\", \"label\": \"count\"}, {\"type\": \"string\", \"id\": \"name\", \"label\": \"name\"}]},\n",
       "            {\n",
       "              pageSize: 25,\n",
       "              cssClassNames:  {\n",
       "                tableRow: 'gchart-table-row',\n",
       "                headerRow: 'gchart-table-headerrow',\n",
       "                oddTableRow: 'gchart-table-oddrow',\n",
       "                selectedTableRow: 'gchart-table-selectedrow',\n",
       "                hoverTableRow: 'gchart-table-hoverrow',\n",
       "                tableCell: 'gchart-table-cell',\n",
       "                headerCell: 'gchart-table-headercell',\n",
       "                rowNumberCell: 'gchart-table-rownumcell'\n",
       "              }\n",
       "            },\n",
       "            {source_index: 4, fields: 'count,name'},\n",
       "            0,\n",
       "            9);\n",
       "        }\n",
       "      );\n",
       "    </script>\n",
       "  "
      ],
      "text/plain": [
       "QueryResultsTable job_J"
      ]
     },
     "execution_count": 16,
     "metadata": {},
     "output_type": "execute_result"
    }
   ],
   "source": [
    "%%sql -d standard\n",
    "INSERT sampleDML.fruit_basket(name, count)\n",
    "WITH w AS (\n",
    "  SELECT ARRAY<STRUCT<name string, count int64>>\n",
    "      [('cherry', 35),\n",
    "      ('cranberry', 40),\n",
    "      ('pear', 45)] col\n",
    ")\n",
    "SELECT name, count FROM w, UNNEST(w.col)"
   ]
  },
  {
   "cell_type": "markdown",
   "metadata": {},
   "source": [
    "Here is an example that copies one table's contents into another. First we will create a new table."
   ]
  },
  {
   "cell_type": "code",
   "execution_count": 17,
   "metadata": {
    "collapsed": true
   },
   "outputs": [],
   "source": [
    "fruit_row_detailed = {\n",
    "  'name': 'string value',\n",
    "  'count': 0,\n",
    "  'readytoeat': False\n",
    "}\n",
    "sample_table2 = bq.Table(\"sampleDML.fruit_basket_detailed\").create(schema = bq.Schema.from_data([fruit_row_detailed]), \n",
    "                                                                   overwrite = True)"
   ]
  },
  {
   "cell_type": "code",
   "execution_count": 18,
   "metadata": {
    "collapsed": false
   },
   "outputs": [
    {
     "data": {
      "text/html": [
       "\n",
       "    <div class=\"bqtv\" id=\"9_147554394175\"><table><tr><th>count</th><th>readytoeat</th><th>name</th></tr><tr><td>20</td><td>False</td><td>mango</td></tr><tr><td>25</td><td>False</td><td>peach</td></tr><tr><td>5</td><td>False</td><td>banana</td></tr><tr><td>15</td><td>False</td><td>apple</td></tr><tr><td>30</td><td>False</td><td>watermelon</td></tr><tr><td>40</td><td>False</td><td>cranberry</td></tr><tr><td>10</td><td>False</td><td>orange</td></tr><tr><td>35</td><td>False</td><td>cherry</td></tr><tr><td>45</td><td>False</td><td>pear</td></tr></table></div>\n",
       "    <br />(rows: 9, time: 1.8s,   146B processed, job: job_0)<br />\n",
       "    <script>\n",
       "\n",
       "      require.config({\n",
       "        paths: {\n",
       "          d3: '//cdnjs.cloudflare.com/ajax/libs/d3/3.4.13/d3',\n",
       "          plotly: 'https://cdn.plot.ly/plotly-1.5.1.min.js?noext',\n",
       "          jquery: '//ajax.googleapis.com/ajax/libs/jquery/2.0.0/jquery.min'\n",
       "        },\n",
       "        map: {\n",
       "          '*': {\n",
       "            datalab: 'nbextensions/gcpdatalab'\n",
       "          }\n",
       "        },\n",
       "        shim: {\n",
       "          plotly: {\n",
       "            deps: ['d3', 'jquery'],\n",
       "            exports: 'plotly'\n",
       "          }\n",
       "        }\n",
       "      });\n",
       "\n",
       "      require(['datalab/charting', 'datalab/element!9_147554394175', 'base/js/events',\n",
       "          'datalab/style!/nbextensions/gcpdatalab/charting.css'],\n",
       "        function(charts, dom, events) {\n",
       "          charts.render('gcharts', dom, events, 'table', [], {\"rows\": [{\"c\": [{\"v\": 20}, {\"v\": false}, {\"v\": \"mango\"}]}, {\"c\": [{\"v\": 25}, {\"v\": false}, {\"v\": \"peach\"}]}, {\"c\": [{\"v\": 5}, {\"v\": false}, {\"v\": \"banana\"}]}, {\"c\": [{\"v\": 15}, {\"v\": false}, {\"v\": \"apple\"}]}, {\"c\": [{\"v\": 30}, {\"v\": false}, {\"v\": \"watermelon\"}]}, {\"c\": [{\"v\": 40}, {\"v\": false}, {\"v\": \"cranberry\"}]}, {\"c\": [{\"v\": 10}, {\"v\": false}, {\"v\": \"orange\"}]}, {\"c\": [{\"v\": 35}, {\"v\": false}, {\"v\": \"cherry\"}]}, {\"c\": [{\"v\": 45}, {\"v\": false}, {\"v\": \"pear\"}]}], \"cols\": [{\"type\": \"number\", \"id\": \"count\", \"label\": \"count\"}, {\"type\": \"boolean\", \"id\": \"readytoeat\", \"label\": \"readytoeat\"}, {\"type\": \"string\", \"id\": \"name\", \"label\": \"name\"}]},\n",
       "            {\n",
       "              pageSize: 25,\n",
       "              cssClassNames:  {\n",
       "                tableRow: 'gchart-table-row',\n",
       "                headerRow: 'gchart-table-headerrow',\n",
       "                oddTableRow: 'gchart-table-oddrow',\n",
       "                selectedTableRow: 'gchart-table-selectedrow',\n",
       "                hoverTableRow: 'gchart-table-hoverrow',\n",
       "                tableCell: 'gchart-table-cell',\n",
       "                headerCell: 'gchart-table-headercell',\n",
       "                rowNumberCell: 'gchart-table-rownumcell'\n",
       "              }\n",
       "            },\n",
       "            {source_index: 5, fields: 'count,readytoeat,name'},\n",
       "            0,\n",
       "            9);\n",
       "        }\n",
       "      );\n",
       "    </script>\n",
       "  "
      ],
      "text/plain": [
       "QueryResultsTable job_0"
      ]
     },
     "execution_count": 18,
     "metadata": {},
     "output_type": "execute_result"
    }
   ],
   "source": [
    "%%sql -d standard\n",
    "INSERT sampleDML.fruit_basket_detailed (name, count, readytoeat)\n",
    "SELECT name, count, false\n",
    "FROM sampleDML.fruit_basket"
   ]
  },
  {
   "cell_type": "markdown",
   "metadata": {},
   "source": [
    "## Updating Data\n",
    "\n",
    "You can update rows in the `fruit_basket` table by using an `UPDATE` statement in the BigQuery Standard SQL query. We will try to do this using the Google Cloud Datalab BigQuery API."
   ]
  },
  {
   "cell_type": "code",
   "execution_count": 19,
   "metadata": {
    "collapsed": true
   },
   "outputs": [],
   "source": [
    "%%sql --module set_orange_ready_to_eat\n",
    "UPDATE sampleDML.fruit_basket_detailed\n",
    "SET readytoeat = true\n",
    "WHERE name = 'orange'"
   ]
  },
  {
   "cell_type": "code",
   "execution_count": 20,
   "metadata": {
    "collapsed": false
   },
   "outputs": [
    {
     "data": {
      "text/plain": [
       "Job x-x/job_R completed"
      ]
     },
     "execution_count": 20,
     "metadata": {},
     "output_type": "execute_result"
    }
   ],
   "source": [
    "bq.Query(set_orange_ready_to_eat).execute(dialect='standard')"
   ]
  },
  {
   "cell_type": "markdown",
   "metadata": {},
   "source": [
    "To view the contents of a table in BigQuery, you can use `%%bigquery table`."
   ]
  },
  {
   "cell_type": "code",
   "execution_count": 21,
   "metadata": {
    "collapsed": false
   },
   "outputs": [
    {
     "data": {
      "text/html": [
       "\n",
       "    <div class=\"bqtv\" id=\"10_147554394698\"><table><tr><th>count</th><th>readytoeat</th><th>name</th></tr><tr><td>5</td><td>False</td><td>banana</td></tr><tr><td>10</td><td>True</td><td>orange</td></tr><tr><td>20</td><td>False</td><td>mango</td></tr><tr><td>45</td><td>False</td><td>pear</td></tr><tr><td>30</td><td>False</td><td>watermelon</td></tr><tr><td>35</td><td>False</td><td>cherry</td></tr><tr><td>25</td><td>False</td><td>peach</td></tr><tr><td>15</td><td>False</td><td>apple</td></tr><tr><td>40</td><td>False</td><td>cranberry</td></tr></table></div>\n",
       "    <br />(rows: 9, x-x:sampleDML.fruit_basket_detailed)<br />\n",
       "    <script>\n",
       "\n",
       "      require.config({\n",
       "        paths: {\n",
       "          d3: '//cdnjs.cloudflare.com/ajax/libs/d3/3.4.13/d3',\n",
       "          plotly: 'https://cdn.plot.ly/plotly-1.5.1.min.js?noext',\n",
       "          jquery: '//ajax.googleapis.com/ajax/libs/jquery/2.0.0/jquery.min'\n",
       "        },\n",
       "        map: {\n",
       "          '*': {\n",
       "            datalab: 'nbextensions/gcpdatalab'\n",
       "          }\n",
       "        },\n",
       "        shim: {\n",
       "          plotly: {\n",
       "            deps: ['d3', 'jquery'],\n",
       "            exports: 'plotly'\n",
       "          }\n",
       "        }\n",
       "      });\n",
       "\n",
       "      require(['datalab/charting', 'datalab/element!10_147554394698', 'base/js/events',\n",
       "          'datalab/style!/nbextensions/gcpdatalab/charting.css'],\n",
       "        function(charts, dom, events) {\n",
       "          charts.render('gcharts', dom, events, 'table', [], {\"rows\": [{\"c\": [{\"v\": 5}, {\"v\": false}, {\"v\": \"banana\"}]}, {\"c\": [{\"v\": 10}, {\"v\": true}, {\"v\": \"orange\"}]}, {\"c\": [{\"v\": 20}, {\"v\": false}, {\"v\": \"mango\"}]}, {\"c\": [{\"v\": 45}, {\"v\": false}, {\"v\": \"pear\"}]}, {\"c\": [{\"v\": 30}, {\"v\": false}, {\"v\": \"watermelon\"}]}, {\"c\": [{\"v\": 35}, {\"v\": false}, {\"v\": \"cherry\"}]}, {\"c\": [{\"v\": 25}, {\"v\": false}, {\"v\": \"peach\"}]}, {\"c\": [{\"v\": 15}, {\"v\": false}, {\"v\": \"apple\"}]}, {\"c\": [{\"v\": 40}, {\"v\": false}, {\"v\": \"cranberry\"}]}], \"cols\": [{\"type\": \"number\", \"id\": \"count\", \"label\": \"count\"}, {\"type\": \"boolean\", \"id\": \"readytoeat\", \"label\": \"readytoeat\"}, {\"type\": \"string\", \"id\": \"name\", \"label\": \"name\"}]},\n",
       "            {\n",
       "              pageSize: 25,\n",
       "              cssClassNames:  {\n",
       "                tableRow: 'gchart-table-row',\n",
       "                headerRow: 'gchart-table-headerrow',\n",
       "                oddTableRow: 'gchart-table-oddrow',\n",
       "                selectedTableRow: 'gchart-table-selectedrow',\n",
       "                hoverTableRow: 'gchart-table-hoverrow',\n",
       "                tableCell: 'gchart-table-cell',\n",
       "                headerCell: 'gchart-table-headercell',\n",
       "                rowNumberCell: 'gchart-table-rownumcell'\n",
       "              }\n",
       "            },\n",
       "            {source_index: 5, fields: 'count,readytoeat,name'},\n",
       "            0,\n",
       "            9);\n",
       "        }\n",
       "      );\n",
       "    </script>\n",
       "  "
      ],
      "text/plain": [
       "<IPython.core.display.HTML object>"
      ]
     },
     "execution_count": 21,
     "metadata": {},
     "output_type": "execute_result"
    }
   ],
   "source": [
    "%%bigquery table sampleDML.fruit_basket_detailed"
   ]
  },
  {
   "cell_type": "markdown",
   "metadata": {},
   "source": [
    "## Deleting Data\n",
    "\n",
    "You can delete rows in the `fruit_basket` table by using a `DELETE` statement in the BigQuery Standard SQL query."
   ]
  },
  {
   "cell_type": "code",
   "execution_count": 22,
   "metadata": {
    "collapsed": false
   },
   "outputs": [
    {
     "data": {
      "text/html": [
       "\n",
       "    <div class=\"bqtv\" id=\"11_147554395322\"><table><tr><th>count</th><th>name</th></tr><tr><td>15</td><td>apple</td></tr><tr><td>5</td><td>banana</td></tr><tr><td>10</td><td>orange</td></tr><tr><td>20</td><td>mango</td></tr><tr><td>25</td><td>peach</td></tr><tr><td>30</td><td>watermelon</td></tr><tr><td>45</td><td>pear</td></tr></table></div>\n",
       "    <br />(rows: 7, time: 2.2s,   146B processed, job: job_p)<br />\n",
       "    <script>\n",
       "\n",
       "      require.config({\n",
       "        paths: {\n",
       "          d3: '//cdnjs.cloudflare.com/ajax/libs/d3/3.4.13/d3',\n",
       "          plotly: 'https://cdn.plot.ly/plotly-1.5.1.min.js?noext',\n",
       "          jquery: '//ajax.googleapis.com/ajax/libs/jquery/2.0.0/jquery.min'\n",
       "        },\n",
       "        map: {\n",
       "          '*': {\n",
       "            datalab: 'nbextensions/gcpdatalab'\n",
       "          }\n",
       "        },\n",
       "        shim: {\n",
       "          plotly: {\n",
       "            deps: ['d3', 'jquery'],\n",
       "            exports: 'plotly'\n",
       "          }\n",
       "        }\n",
       "      });\n",
       "\n",
       "      require(['datalab/charting', 'datalab/element!11_147554395322', 'base/js/events',\n",
       "          'datalab/style!/nbextensions/gcpdatalab/charting.css'],\n",
       "        function(charts, dom, events) {\n",
       "          charts.render('gcharts', dom, events, 'table', [], {\"rows\": [{\"c\": [{\"v\": 15}, {\"v\": \"apple\"}]}, {\"c\": [{\"v\": 5}, {\"v\": \"banana\"}]}, {\"c\": [{\"v\": 10}, {\"v\": \"orange\"}]}, {\"c\": [{\"v\": 20}, {\"v\": \"mango\"}]}, {\"c\": [{\"v\": 25}, {\"v\": \"peach\"}]}, {\"c\": [{\"v\": 30}, {\"v\": \"watermelon\"}]}, {\"c\": [{\"v\": 45}, {\"v\": \"pear\"}]}], \"cols\": [{\"type\": \"number\", \"id\": \"count\", \"label\": \"count\"}, {\"type\": \"string\", \"id\": \"name\", \"label\": \"name\"}]},\n",
       "            {\n",
       "              pageSize: 25,\n",
       "              cssClassNames:  {\n",
       "                tableRow: 'gchart-table-row',\n",
       "                headerRow: 'gchart-table-headerrow',\n",
       "                oddTableRow: 'gchart-table-oddrow',\n",
       "                selectedTableRow: 'gchart-table-selectedrow',\n",
       "                hoverTableRow: 'gchart-table-hoverrow',\n",
       "                tableCell: 'gchart-table-cell',\n",
       "                headerCell: 'gchart-table-headercell',\n",
       "                rowNumberCell: 'gchart-table-rownumcell'\n",
       "              }\n",
       "            },\n",
       "            {source_index: 4, fields: 'count,name'},\n",
       "            0,\n",
       "            7);\n",
       "        }\n",
       "      );\n",
       "    </script>\n",
       "  "
      ],
      "text/plain": [
       "QueryResultsTable job_p"
      ]
     },
     "execution_count": 22,
     "metadata": {},
     "output_type": "execute_result"
    }
   ],
   "source": [
    "%%sql -d standard\n",
    "DELETE sampleDML.fruit_basket\n",
    "WHERE name in ('cherry', 'cranberry')"
   ]
  },
  {
   "cell_type": "markdown",
   "metadata": {},
   "source": [
    "Use the following query to delete the corresponding entries in `sampleDML.fruit_basket_detailed`"
   ]
  },
  {
   "cell_type": "code",
   "execution_count": 23,
   "metadata": {
    "collapsed": false
   },
   "outputs": [
    {
     "data": {
      "text/html": [
       "\n",
       "    <div class=\"bqtv\" id=\"12_147554396010\"><table><tr><th>count</th><th>readytoeat</th><th>name</th></tr><tr><td>20</td><td>False</td><td>mango</td></tr><tr><td>15</td><td>False</td><td>apple</td></tr><tr><td>5</td><td>False</td><td>banana</td></tr><tr><td>30</td><td>False</td><td>watermelon</td></tr><tr><td>10</td><td>True</td><td>orange</td></tr><tr><td>45</td><td>False</td><td>pear</td></tr><tr><td>25</td><td>False</td><td>peach</td></tr></table></div>\n",
       "    <br />(rows: 7, time: 1.9s,   210B processed, job: job_6)<br />\n",
       "    <script>\n",
       "\n",
       "      require.config({\n",
       "        paths: {\n",
       "          d3: '//cdnjs.cloudflare.com/ajax/libs/d3/3.4.13/d3',\n",
       "          plotly: 'https://cdn.plot.ly/plotly-1.5.1.min.js?noext',\n",
       "          jquery: '//ajax.googleapis.com/ajax/libs/jquery/2.0.0/jquery.min'\n",
       "        },\n",
       "        map: {\n",
       "          '*': {\n",
       "            datalab: 'nbextensions/gcpdatalab'\n",
       "          }\n",
       "        },\n",
       "        shim: {\n",
       "          plotly: {\n",
       "            deps: ['d3', 'jquery'],\n",
       "            exports: 'plotly'\n",
       "          }\n",
       "        }\n",
       "      });\n",
       "\n",
       "      require(['datalab/charting', 'datalab/element!12_147554396010', 'base/js/events',\n",
       "          'datalab/style!/nbextensions/gcpdatalab/charting.css'],\n",
       "        function(charts, dom, events) {\n",
       "          charts.render('gcharts', dom, events, 'table', [], {\"rows\": [{\"c\": [{\"v\": 20}, {\"v\": false}, {\"v\": \"mango\"}]}, {\"c\": [{\"v\": 15}, {\"v\": false}, {\"v\": \"apple\"}]}, {\"c\": [{\"v\": 5}, {\"v\": false}, {\"v\": \"banana\"}]}, {\"c\": [{\"v\": 30}, {\"v\": false}, {\"v\": \"watermelon\"}]}, {\"c\": [{\"v\": 10}, {\"v\": true}, {\"v\": \"orange\"}]}, {\"c\": [{\"v\": 45}, {\"v\": false}, {\"v\": \"pear\"}]}, {\"c\": [{\"v\": 25}, {\"v\": false}, {\"v\": \"peach\"}]}], \"cols\": [{\"type\": \"number\", \"id\": \"count\", \"label\": \"count\"}, {\"type\": \"boolean\", \"id\": \"readytoeat\", \"label\": \"readytoeat\"}, {\"type\": \"string\", \"id\": \"name\", \"label\": \"name\"}]},\n",
       "            {\n",
       "              pageSize: 25,\n",
       "              cssClassNames:  {\n",
       "                tableRow: 'gchart-table-row',\n",
       "                headerRow: 'gchart-table-headerrow',\n",
       "                oddTableRow: 'gchart-table-oddrow',\n",
       "                selectedTableRow: 'gchart-table-selectedrow',\n",
       "                hoverTableRow: 'gchart-table-hoverrow',\n",
       "                tableCell: 'gchart-table-cell',\n",
       "                headerCell: 'gchart-table-headercell',\n",
       "                rowNumberCell: 'gchart-table-rownumcell'\n",
       "              }\n",
       "            },\n",
       "            {source_index: 5, fields: 'count,readytoeat,name'},\n",
       "            0,\n",
       "            7);\n",
       "        }\n",
       "      );\n",
       "    </script>\n",
       "  "
      ],
      "text/plain": [
       "QueryResultsTable job_6"
      ]
     },
     "execution_count": 23,
     "metadata": {},
     "output_type": "execute_result"
    }
   ],
   "source": [
    "%%sql -d standard\n",
    "DELETE sampleDML.fruit_basket_detailed\n",
    "WHERE NOT EXISTS\n",
    "  (SELECT * FROM sampleDML.fruit_basket\n",
    "  WHERE fruit_basket_detailed.name = fruit_basket.name)"
   ]
  },
  {
   "cell_type": "markdown",
   "metadata": {},
   "source": [
    "## Deleting Resources"
   ]
  },
  {
   "cell_type": "code",
   "execution_count": 24,
   "metadata": {
    "collapsed": true
   },
   "outputs": [],
   "source": [
    "# Clear out sample resources\n",
    "sample_dataset.delete(delete_contents = True)"
   ]
  }
 ],
 "metadata": {
  "kernelspec": {
   "display_name": "Python 2",
   "language": "python",
   "name": "python2"
  },
  "language_info": {
   "codemirror_mode": {
    "name": "ipython",
    "version": 2
   },
   "file_extension": ".py",
   "mimetype": "text/x-python",
   "name": "python",
   "nbconvert_exporter": "python",
   "pygments_lexer": "ipython2",
   "version": "2.7.9"
  }
 },
 "nbformat": 4,
 "nbformat_minor": 0
}
