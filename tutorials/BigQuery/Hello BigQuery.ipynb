{
 "cells": [
  {
   "cell_type": "markdown",
   "metadata": {},
   "source": [
    "# Hello BigQuery\n",
    "\n",
    "[Google BigQuery](https://cloud.google.com/bigquery) is a fast, economical, and fully managed data warehouse for large-scale data analytics. You can use BigQuery and SQL to focus on transforming and gaining insights into your data."
   ]
  },
  {
   "cell_type": "markdown",
   "metadata": {},
   "source": [
    "This query works against the Wikipedia sample dataset within BigQuery. Run the next two cells to define and execute teh query to see top 10 wikipedia articles, based on the length in number of characters."
   ]
  },
  {
   "cell_type": "code",
   "execution_count": null,
   "metadata": {
    "collapsed": false
   },
   "outputs": [],
   "source": [
    "%%bq query --name wikipedia_query\n",
    "SELECT id, title, num_characters\n",
    "FROM `publicdata.samples.wikipedia`\n",
    "WHERE wp_namespace = 0\n",
    "ORDER BY num_characters DESC\n",
    "LIMIT 10"
   ]
  },
  {
   "cell_type": "code",
   "execution_count": null,
   "metadata": {
    "collapsed": false
   },
   "outputs": [],
   "source": [
    "%bq execute --query wikipedia_query"
   ]
  },
  {
   "cell_type": "markdown",
   "metadata": {},
   "source": [
    "----\n",
    "\n",
    "If you're a BigQuery user, you've likely used the BigQuery console to issue queries and display results. Cloud Datalab also makes it simple to issue a SQL query and see the results.\n",
    "\n",
    "As the these sample and tutorial notebooks illustrate, Cloud Datalab goes further, allowing you to issue multiple queries, visualize the data beyond tables, and ultimately build sophisticated pipelines to use your data productively, to the fullest extent.\n",
    "\n",
    "One additional link - the [BigQuery SQL reference](https://cloud.google.com/bigquery/docs/reference/standard-sql/). This reference is also accessible at any time from the Help menu on the toolbar on the top of the page."
   ]
  }
 ],
 "metadata": {
  "kernelspec": {
   "display_name": "Python 2",
   "language": "python",
   "name": "python2"
  },
  "language_info": {
   "codemirror_mode": {
    "name": "ipython",
    "version": 2
   },
   "file_extension": ".py",
   "mimetype": "text/x-python",
   "name": "python",
   "nbconvert_exporter": "python",
   "pygments_lexer": "ipython2",
   "version": "2.7.9"
  }
 },
 "nbformat": 4,
 "nbformat_minor": 0
}
