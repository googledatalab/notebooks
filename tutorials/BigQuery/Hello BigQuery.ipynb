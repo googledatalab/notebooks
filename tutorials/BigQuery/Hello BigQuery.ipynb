{
 "cells": [
  {
   "cell_type": "markdown",
   "metadata": {},
   "source": [
    "# Hello BigQuery\n",
    "\n",
    "[Google BigQuery](https://cloud.google.com/bigquery) is a fast, economical, and fully managed data warehouse for large-scale data analytics. You can use BigQuery and SQL to focus on transforming and gaining insights into your data. Datalab supports the [Standard SQL BigQuery](https://cloud.google.com/bigquery/docs/reference/standard-sql/)."
   ]
  },
  {
   "cell_type": "markdown",
   "metadata": {},
   "source": [
    "This query works against the Wikipedia sample dataset within BigQuery. Run the next two cells to define and execute the query to see top 10 wikipedia articles, based on the length in number of characters."
   ]
  },
  {
   "cell_type": "code",
   "execution_count": 3,
   "metadata": {
    "collapsed": false
   },
   "outputs": [
    {
     "data": {
      "text/html": [
       "\n",
       "    <div class=\"bqtv\" id=\"2_148887034819\"><table><tr><th>id</th><th>title</th><th>num_characters</th></tr><tr><td>10396793</td><td>The Holocaust</td><td>10245346</td></tr><tr><td>692772</td><td>Jack (film)</td><td>8717313</td></tr><tr><td>19167679</td><td>Virus</td><td>8683245</td></tr><tr><td>19167679</td><td>Virus</td><td>8683245</td></tr><tr><td>1178134</td><td>Black Codes (United States)</td><td>8593028</td></tr><tr><td>18404036</td><td>Nazism</td><td>8448488</td></tr><tr><td>5843419</td><td>France</td><td>8235227</td></tr><tr><td>646136</td><td>Elisa Carrió</td><td>8234289</td></tr><tr><td>5122699</td><td>John Kerry</td><td>8153728</td></tr><tr><td>22171</td><td>Nuclear winter</td><td>8055429</td></tr></table></div>\n",
       "    <br />(rows: 10, time: 0.2s, cached, job: job_aBikdrd-wfYpb4wZHWPxDJF5g_o)<br />\n",
       "    <script>\n",
       "\n",
       "      require.config({\n",
       "        paths: {\n",
       "          d3: '//cdnjs.cloudflare.com/ajax/libs/d3/3.4.13/d3',\n",
       "          plotly: 'https://cdn.plot.ly/plotly-1.5.1.min.js?noext',\n",
       "          jquery: '//ajax.googleapis.com/ajax/libs/jquery/2.0.0/jquery.min'\n",
       "        },\n",
       "        map: {\n",
       "          '*': {\n",
       "            datalab: 'nbextensions/gcpdatalab'\n",
       "          }\n",
       "        },\n",
       "        shim: {\n",
       "          plotly: {\n",
       "            deps: ['d3', 'jquery'],\n",
       "            exports: 'plotly'\n",
       "          }\n",
       "        }\n",
       "      });\n",
       "\n",
       "      require(['datalab/charting', 'datalab/element!2_148887034819', 'base/js/events',\n",
       "          'datalab/style!/nbextensions/gcpdatalab/charting.css'],\n",
       "        function(charts, dom, events) {\n",
       "          charts.render('gcharts', dom, events, 'table', [], {\"rows\": [{\"c\": [{\"v\": 10396793}, {\"v\": \"The Holocaust\"}, {\"v\": 10245346}]}, {\"c\": [{\"v\": 692772}, {\"v\": \"Jack (film)\"}, {\"v\": 8717313}]}, {\"c\": [{\"v\": 19167679}, {\"v\": \"Virus\"}, {\"v\": 8683245}]}, {\"c\": [{\"v\": 19167679}, {\"v\": \"Virus\"}, {\"v\": 8683245}]}, {\"c\": [{\"v\": 1178134}, {\"v\": \"Black Codes (United States)\"}, {\"v\": 8593028}]}, {\"c\": [{\"v\": 18404036}, {\"v\": \"Nazism\"}, {\"v\": 8448488}]}, {\"c\": [{\"v\": 5843419}, {\"v\": \"France\"}, {\"v\": 8235227}]}, {\"c\": [{\"v\": 646136}, {\"v\": \"Elisa Carri\\u00f3\"}, {\"v\": 8234289}]}, {\"c\": [{\"v\": 5122699}, {\"v\": \"John Kerry\"}, {\"v\": 8153728}]}, {\"c\": [{\"v\": 22171}, {\"v\": \"Nuclear winter\"}, {\"v\": 8055429}]}], \"cols\": [{\"type\": \"number\", \"id\": \"id\", \"label\": \"id\"}, {\"type\": \"string\", \"id\": \"title\", \"label\": \"title\"}, {\"type\": \"number\", \"id\": \"num_characters\", \"label\": \"num_characters\"}]},\n",
       "            {\n",
       "              pageSize: 25,\n",
       "              cssClassNames:  {\n",
       "                tableRow: 'gchart-table-row',\n",
       "                headerRow: 'gchart-table-headerrow',\n",
       "                oddTableRow: 'gchart-table-oddrow',\n",
       "                selectedTableRow: 'gchart-table-selectedrow',\n",
       "                hoverTableRow: 'gchart-table-hoverrow',\n",
       "                tableCell: 'gchart-table-cell',\n",
       "                headerCell: 'gchart-table-headercell',\n",
       "                rowNumberCell: 'gchart-table-rownumcell'\n",
       "              }\n",
       "            },\n",
       "            {source_index: 1, fields: 'id,title,num_characters'},\n",
       "            0,\n",
       "            10);\n",
       "        }\n",
       "      );\n",
       "    </script>\n",
       "  "
      ],
      "text/plain": [
       "QueryResultsTable job_aBikdrd-wfYpb4wZHWPxDJF5g_o"
      ]
     },
     "execution_count": 3,
     "metadata": {},
     "output_type": "execute_result"
    }
   ],
   "source": [
    "%%bq query\n",
    "SELECT id, title, num_characters\n",
    "FROM `publicdata.samples.wikipedia`\n",
    "WHERE wp_namespace = 0\n",
    "ORDER BY num_characters DESC\n",
    "LIMIT 10"
   ]
  },
  {
   "cell_type": "markdown",
   "metadata": {},
   "source": [
    "---"
   ]
  },
  {
   "cell_type": "markdown",
   "metadata": {},
   "source": [
    "If you're a BigQuery user, you've likely used the BigQuery console to issue queries and display results. Datalab also makes it simple to issue a SQL query and see the results.\n",
    "\n",
    "As the these sample and tutorial notebooks illustrate, Datalab goes further, allowing you to issue multiple queries, visualize the data beyond tables, and ultimately build sophisticated pipelines to use your data productively, to the fullest extent.\n",
    "\n",
    "One additional link - the [BigQuery SQL reference](https://cloud.google.com/bigquery/docs/reference/standard-sql/). This reference is also accessible at any time from the Help menu on the toolbar on the top of the page."
   ]
  }
 ],
 "metadata": {
  "kernelspec": {
   "display_name": "Python 2",
   "language": "python",
   "name": "python2"
  },
  "language_info": {
   "codemirror_mode": {
    "name": "ipython",
    "version": 2
   },
   "file_extension": ".py",
   "mimetype": "text/x-python",
   "name": "python",
   "nbconvert_exporter": "python",
   "pygments_lexer": "ipython2",
   "version": "2.7.9"
  }
 },
 "nbformat": 4,
 "nbformat_minor": 0
}
