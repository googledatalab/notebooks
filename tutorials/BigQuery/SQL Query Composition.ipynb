{
 "cells": [
  {
   "cell_type": "markdown",
   "metadata": {},
   "source": [
    "# SQL Query Composition\n",
    "\n",
    "This notebook builds on previous notebooks that illustrate relatively simple SQL queries (queries with a single `SELECT` statement to retrieve and analyze BigQuery data). This notebooks illustrates how Google BigQuery allows you to use nested queries to create complex queries that successively filter or slice/dice results or perform joins in a single query issued to the service. Constructing these complex queries can often be made easier when done step-by-step.\n",
    "\n",
    "This notebook introduces a pattern for developing queries independently, and then stitching them together to construct a complete solution."
   ]
  },
  {
   "cell_type": "markdown",
   "metadata": {},
   "source": [
    "## Scenario\n",
    "\n",
    "As in other sample notebooks, this notebook will build on the HTTP logs dataset. The goal is to build a latency distribution curve of requests. This helps visualize the latency pattern of a web server.\n",
    "\n",
    "**Preface on Notebook Content**\n",
    "\n",
    "Although query composition through step-by-step building is intrinsically iterative, this notebook solution represents a snapshot of the final state. For illustrative purposes, each step of the iteration is broken out into separate sections, but it's unlikely you'll do the same in a real-task scenario."
   ]
  },
  {
   "cell_type": "code",
   "execution_count": 1,
   "metadata": {
    "collapsed": true
   },
   "outputs": [],
   "source": [
    "import google.datalab.bigquery as bq"
   ]
  },
  {
   "cell_type": "markdown",
   "metadata": {},
   "source": [
    "# Step 1 - Inspecting Latencies\n",
    "\n",
    "The first step is to get an initial slice of the data we're working with with a very basic query."
   ]
  },
  {
   "cell_type": "code",
   "execution_count": 4,
   "metadata": {
    "collapsed": false
   },
   "outputs": [
    {
     "data": {
      "text/html": [
       "\n",
       "    <div class=\"bqtv\" id=\"2_148887865946\"><table><tr><th>latency</th></tr><tr><td>317</td></tr><tr><td>197</td></tr><tr><td>427</td></tr><tr><td>187</td></tr><tr><td>75</td></tr><tr><td>226</td></tr><tr><td>293</td></tr><tr><td>331</td></tr><tr><td>329</td></tr><tr><td>231</td></tr></table></div>\n",
       "    <br />(rows: 10, time: 0.2s, cached, job: job_bjmgvGTsQm3-dSOzFOaGgnfEu8g)<br />\n",
       "    <script>\n",
       "\n",
       "      require.config({\n",
       "        paths: {\n",
       "          d3: '//cdnjs.cloudflare.com/ajax/libs/d3/3.4.13/d3',\n",
       "          plotly: 'https://cdn.plot.ly/plotly-1.5.1.min.js?noext',\n",
       "          jquery: '//ajax.googleapis.com/ajax/libs/jquery/2.0.0/jquery.min'\n",
       "        },\n",
       "        map: {\n",
       "          '*': {\n",
       "            datalab: 'nbextensions/gcpdatalab'\n",
       "          }\n",
       "        },\n",
       "        shim: {\n",
       "          plotly: {\n",
       "            deps: ['d3', 'jquery'],\n",
       "            exports: 'plotly'\n",
       "          }\n",
       "        }\n",
       "      });\n",
       "\n",
       "      require(['datalab/charting', 'datalab/element!2_148887865946', 'base/js/events',\n",
       "          'datalab/style!/nbextensions/gcpdatalab/charting.css'],\n",
       "        function(charts, dom, events) {\n",
       "          charts.render('gcharts', dom, events, 'table', [], {\"rows\": [{\"c\": [{\"v\": 317}]}, {\"c\": [{\"v\": 197}]}, {\"c\": [{\"v\": 427}]}, {\"c\": [{\"v\": 187}]}, {\"c\": [{\"v\": 75}]}, {\"c\": [{\"v\": 226}]}, {\"c\": [{\"v\": 293}]}, {\"c\": [{\"v\": 331}]}, {\"c\": [{\"v\": 329}]}, {\"c\": [{\"v\": 231}]}], \"cols\": [{\"type\": \"number\", \"id\": \"latency\", \"label\": \"latency\"}]},\n",
       "            {\n",
       "              pageSize: 25,\n",
       "              cssClassNames:  {\n",
       "                tableRow: 'gchart-table-row',\n",
       "                headerRow: 'gchart-table-headerrow',\n",
       "                oddTableRow: 'gchart-table-oddrow',\n",
       "                selectedTableRow: 'gchart-table-selectedrow',\n",
       "                hoverTableRow: 'gchart-table-hoverrow',\n",
       "                tableCell: 'gchart-table-cell',\n",
       "                headerCell: 'gchart-table-headercell',\n",
       "                rowNumberCell: 'gchart-table-rownumcell'\n",
       "              }\n",
       "            },\n",
       "            {source_index: 1, fields: 'latency'},\n",
       "            0,\n",
       "            10);\n",
       "        }\n",
       "      );\n",
       "    </script>\n",
       "  "
      ],
      "text/plain": [
       "QueryResultsTable job_bjmgvGTsQm3-dSOzFOaGgnfEu8g"
      ]
     },
     "execution_count": 4,
     "metadata": {},
     "output_type": "execute_result"
    }
   ],
   "source": [
    "%%bq query\n",
    "SELECT latency FROM `cloud-datalab-samples.httplogs.logs_20140615` WHERE endpoint = 'Recent' LIMIT 10"
   ]
  },
  {
   "cell_type": "code",
   "execution_count": 5,
   "metadata": {
    "collapsed": false
   },
   "outputs": [
    {
     "data": {
      "text/html": [
       "\n",
       "    <div class=\"bqtv\" id=\"3_148887866698\"><table><tr><th>min</th><th>max</th><th>count</th></tr><tr><td>2</td><td>18715</td><td>734</td></tr></table></div>\n",
       "    <br />(rows: 1, time: 1.7s,    10MB processed, job: job_JGVGCfUp8cObkqHXqHH4L4STETs)<br />\n",
       "    <script>\n",
       "\n",
       "      require.config({\n",
       "        paths: {\n",
       "          d3: '//cdnjs.cloudflare.com/ajax/libs/d3/3.4.13/d3',\n",
       "          plotly: 'https://cdn.plot.ly/plotly-1.5.1.min.js?noext',\n",
       "          jquery: '//ajax.googleapis.com/ajax/libs/jquery/2.0.0/jquery.min'\n",
       "        },\n",
       "        map: {\n",
       "          '*': {\n",
       "            datalab: 'nbextensions/gcpdatalab'\n",
       "          }\n",
       "        },\n",
       "        shim: {\n",
       "          plotly: {\n",
       "            deps: ['d3', 'jquery'],\n",
       "            exports: 'plotly'\n",
       "          }\n",
       "        }\n",
       "      });\n",
       "\n",
       "      require(['datalab/charting', 'datalab/element!3_148887866698', 'base/js/events',\n",
       "          'datalab/style!/nbextensions/gcpdatalab/charting.css'],\n",
       "        function(charts, dom, events) {\n",
       "          charts.render('gcharts', dom, events, 'table', [], {\"rows\": [{\"c\": [{\"v\": 2}, {\"v\": 18715}, {\"v\": 734}]}], \"cols\": [{\"type\": \"number\", \"id\": \"min\", \"label\": \"min\"}, {\"type\": \"number\", \"id\": \"max\", \"label\": \"max\"}, {\"type\": \"number\", \"id\": \"count\", \"label\": \"count\"}]},\n",
       "            {\n",
       "              pageSize: 25,\n",
       "              cssClassNames:  {\n",
       "                tableRow: 'gchart-table-row',\n",
       "                headerRow: 'gchart-table-headerrow',\n",
       "                oddTableRow: 'gchart-table-oddrow',\n",
       "                selectedTableRow: 'gchart-table-selectedrow',\n",
       "                hoverTableRow: 'gchart-table-hoverrow',\n",
       "                tableCell: 'gchart-table-cell',\n",
       "                headerCell: 'gchart-table-headercell',\n",
       "                rowNumberCell: 'gchart-table-rownumcell'\n",
       "              }\n",
       "            },\n",
       "            {source_index: 2, fields: 'min,max,count'},\n",
       "            0,\n",
       "            1);\n",
       "        }\n",
       "      );\n",
       "    </script>\n",
       "  "
      ],
      "text/plain": [
       "QueryResultsTable job_JGVGCfUp8cObkqHXqHH4L4STETs"
      ]
     },
     "execution_count": 5,
     "metadata": {},
     "output_type": "execute_result"
    }
   ],
   "source": [
    "%%bq query\n",
    "SELECT MIN(latency) AS min, MAX(latency) AS max, COUNT(latency) AS count\n",
    "FROM `cloud-datalab-samples.httplogs.logs_20140615`\n",
    "WHERE endpoint = 'Recent'"
   ]
  },
  {
   "cell_type": "markdown",
   "metadata": {},
   "source": [
    "# Step 2 - Bucketing Latencies\n",
    "\n",
    "Clearly, latencies are discrete numbers (milliseconds) over a wide range. One way to deal with this is to bucket them into groups."
   ]
  },
  {
   "cell_type": "code",
   "execution_count": 6,
   "metadata": {
    "collapsed": false
   },
   "outputs": [],
   "source": [
    "%%bq query -n latencyGroups\n",
    "SELECT SAFE_CAST(latency/25 AS INT64) * 25 AS latency, COUNT(latency) AS requests\n",
    "FROM `cloud-datalab-samples.httplogs.logs_20140615`\n",
    "WHERE endpoint = 'Recent'\n",
    "GROUP BY latency\n",
    "ORDER BY latency"
   ]
  },
  {
   "cell_type": "code",
   "execution_count": 7,
   "metadata": {
    "collapsed": false
   },
   "outputs": [
    {
     "data": {
      "text/html": [
       "\n",
       "    <div class=\"bqtv\" id=\"4_148887870302\"><table><tr><th>latency</th><th>requests</th></tr><tr><td>0</td><td>28</td></tr><tr><td>25</td><td>41</td></tr><tr><td>50</td><td>6</td></tr><tr><td>75</td><td>35</td></tr><tr><td>100</td><td>32</td></tr><tr><td>125</td><td>17</td></tr><tr><td>150</td><td>5</td></tr><tr><td>175</td><td>28</td></tr><tr><td>200</td><td>100</td></tr><tr><td>225</td><td>109</td></tr><tr><td>250</td><td>95</td></tr><tr><td>275</td><td>52</td></tr><tr><td>300</td><td>42</td></tr><tr><td>325</td><td>48</td></tr><tr><td>350</td><td>38</td></tr><tr><td>375</td><td>26</td></tr><tr><td>400</td><td>17</td></tr><tr><td>425</td><td>4</td></tr><tr><td>450</td><td>4</td></tr><tr><td>475</td><td>2</td></tr><tr><td>500</td><td>1</td></tr><tr><td>525</td><td>1</td></tr><tr><td>550</td><td>1</td></tr><tr><td>625</td><td>1</td></tr><tr><td>18725</td><td>1</td></tr></table></div>\n",
       "    <br />(rows: 25, time: 1.7s,    10MB processed, job: job_4DB-TdKjJA0Tq3ZZo3y2NpwwnPo)<br />\n",
       "    <script>\n",
       "\n",
       "      require.config({\n",
       "        paths: {\n",
       "          d3: '//cdnjs.cloudflare.com/ajax/libs/d3/3.4.13/d3',\n",
       "          plotly: 'https://cdn.plot.ly/plotly-1.5.1.min.js?noext',\n",
       "          jquery: '//ajax.googleapis.com/ajax/libs/jquery/2.0.0/jquery.min'\n",
       "        },\n",
       "        map: {\n",
       "          '*': {\n",
       "            datalab: 'nbextensions/gcpdatalab'\n",
       "          }\n",
       "        },\n",
       "        shim: {\n",
       "          plotly: {\n",
       "            deps: ['d3', 'jquery'],\n",
       "            exports: 'plotly'\n",
       "          }\n",
       "        }\n",
       "      });\n",
       "\n",
       "      require(['datalab/charting', 'datalab/element!4_148887870302', 'base/js/events',\n",
       "          'datalab/style!/nbextensions/gcpdatalab/charting.css'],\n",
       "        function(charts, dom, events) {\n",
       "          charts.render('gcharts', dom, events, 'table', [], {\"rows\": [{\"c\": [{\"v\": 0}, {\"v\": 28}]}, {\"c\": [{\"v\": 25}, {\"v\": 41}]}, {\"c\": [{\"v\": 50}, {\"v\": 6}]}, {\"c\": [{\"v\": 75}, {\"v\": 35}]}, {\"c\": [{\"v\": 100}, {\"v\": 32}]}, {\"c\": [{\"v\": 125}, {\"v\": 17}]}, {\"c\": [{\"v\": 150}, {\"v\": 5}]}, {\"c\": [{\"v\": 175}, {\"v\": 28}]}, {\"c\": [{\"v\": 200}, {\"v\": 100}]}, {\"c\": [{\"v\": 225}, {\"v\": 109}]}, {\"c\": [{\"v\": 250}, {\"v\": 95}]}, {\"c\": [{\"v\": 275}, {\"v\": 52}]}, {\"c\": [{\"v\": 300}, {\"v\": 42}]}, {\"c\": [{\"v\": 325}, {\"v\": 48}]}, {\"c\": [{\"v\": 350}, {\"v\": 38}]}, {\"c\": [{\"v\": 375}, {\"v\": 26}]}, {\"c\": [{\"v\": 400}, {\"v\": 17}]}, {\"c\": [{\"v\": 425}, {\"v\": 4}]}, {\"c\": [{\"v\": 450}, {\"v\": 4}]}, {\"c\": [{\"v\": 475}, {\"v\": 2}]}, {\"c\": [{\"v\": 500}, {\"v\": 1}]}, {\"c\": [{\"v\": 525}, {\"v\": 1}]}, {\"c\": [{\"v\": 550}, {\"v\": 1}]}, {\"c\": [{\"v\": 625}, {\"v\": 1}]}, {\"c\": [{\"v\": 18725}, {\"v\": 1}]}], \"cols\": [{\"type\": \"number\", \"id\": \"latency\", \"label\": \"latency\"}, {\"type\": \"number\", \"id\": \"requests\", \"label\": \"requests\"}]},\n",
       "            {\n",
       "              pageSize: 25,\n",
       "              cssClassNames:  {\n",
       "                tableRow: 'gchart-table-row',\n",
       "                headerRow: 'gchart-table-headerrow',\n",
       "                oddTableRow: 'gchart-table-oddrow',\n",
       "                selectedTableRow: 'gchart-table-selectedrow',\n",
       "                hoverTableRow: 'gchart-table-hoverrow',\n",
       "                tableCell: 'gchart-table-cell',\n",
       "                headerCell: 'gchart-table-headercell',\n",
       "                rowNumberCell: 'gchart-table-rownumcell'\n",
       "              }\n",
       "            },\n",
       "            {source_index: 3, fields: 'latency,requests'},\n",
       "            0,\n",
       "            25);\n",
       "        }\n",
       "      );\n",
       "    </script>\n",
       "  "
      ],
      "text/plain": [
       "QueryResultsTable job_4DB-TdKjJA0Tq3ZZo3y2NpwwnPo"
      ]
     },
     "execution_count": 7,
     "metadata": {},
     "output_type": "execute_result"
    }
   ],
   "source": [
    "%bq execute --query latencyGroups"
   ]
  },
  {
   "cell_type": "code",
   "execution_count": 8,
   "metadata": {
    "collapsed": false
   },
   "outputs": [
    {
     "data": {
      "text/plain": [
       "<matplotlib.axes._subplots.AxesSubplot at 0x7fed4167c510>"
      ]
     },
     "execution_count": 8,
     "metadata": {},
     "output_type": "execute_result"
    },
    {
     "data": {
      "image/png": "[encoded data removed]",
      "text/plain": [
       "<matplotlib.figure.Figure at 0x7fed11b7b450>"
      ]
     },
     "metadata": {},
     "output_type": "display_data"
    }
   ],
   "source": [
    "results = latencyGroups.execute(output_options=bq.QueryOutput.dataframe()).result()\n",
    "results.set_index('latency').plot(kind='bar')"
   ]
  },
  {
   "cell_type": "markdown",
   "metadata": {},
   "source": [
    "# Step 3 - Latency Distribution\n",
    "\n",
    "In this step, we want to determine the percentage of requests that fall within each bucket. In order to compute percentages, we need to issue a count query to determine counts:"
   ]
  },
  {
   "cell_type": "code",
   "execution_count": 9,
   "metadata": {
    "collapsed": true
   },
   "outputs": [],
   "source": [
    "%%bq query -n buckets\n",
    "SELECT SAFE_CAST(latency / 25 AS INT64) * 25 AS latency, COUNT(latency) AS requests\n",
    "FROM `cloud-datalab-samples.httplogs.logs_20140615`\n",
    "WHERE endpoint = 'Recent'\n",
    "GROUP BY latency\n",
    "ORDER BY latency"
   ]
  },
  {
   "cell_type": "code",
   "execution_count": 10,
   "metadata": {
    "collapsed": true
   },
   "outputs": [],
   "source": [
    "%%bq query -n stats\n",
    "SELECT COUNT(latency) AS total\n",
    "FROM `cloud-datalab-samples.httplogs.logs_20140615`\n",
    "WHERE endpoint = 'Recent'"
   ]
  },
  {
   "cell_type": "markdown",
   "metadata": {},
   "source": [
    "We can then use the buckets along with counts to produce percentage values. To do this, we can reference the queries defined above in a new queries, using the `--subqueries` argument:"
   ]
  },
  {
   "cell_type": "code",
   "execution_count": 11,
   "metadata": {
    "collapsed": false
   },
   "outputs": [],
   "source": [
    "%%bq query -n latencyDistribution --subqueries buckets stats\n",
    "SELECT buckets.latency AS latency,\n",
    "       buckets.requests AS requests,\n",
    "       buckets.requests * 100 / stats.total AS percent\n",
    "FROM buckets CROSS JOIN stats\n",
    "ORDER BY latency"
   ]
  },
  {
   "cell_type": "markdown",
   "metadata": {},
   "source": [
    "We can inspect the fully composed SQL represented by the query by printing its `sql` property."
   ]
  },
  {
   "cell_type": "code",
   "execution_count": 12,
   "metadata": {
    "collapsed": false
   },
   "outputs": [
    {
     "name": "stdout",
     "output_type": "stream",
     "text": [
      "WITH buckets AS (SELECT SAFE_CAST(latency / 25 AS INT64) * 25 AS latency, COUNT(latency) AS requests\n",
      "FROM `cloud-datalab-samples.httplogs.logs_20140615`\n",
      "WHERE endpoint = 'Recent'\n",
      "GROUP BY latency\n",
      "ORDER BY latency),\n",
      "stats AS (SELECT COUNT(latency) AS total\n",
      "FROM `cloud-datalab-samples.httplogs.logs_20140615`\n",
      "WHERE endpoint = 'Recent')\n",
      "SELECT buckets.latency AS latency,\n",
      "       buckets.requests AS requests,\n",
      "       buckets.requests * 100 / stats.total AS percent\n",
      "FROM buckets CROSS JOIN stats\n",
      "ORDER BY latency\n"
     ]
    }
   ],
   "source": [
    "print(latencyDistribution.sql)"
   ]
  },
  {
   "cell_type": "markdown",
   "metadata": {},
   "source": [
    "Or by just calling the query object itself. Datalab makes inspecting objects (such as Queries) easy by defining a friendly HTML render format for them:"
   ]
  },
  {
   "cell_type": "code",
   "execution_count": 13,
   "metadata": {
    "collapsed": false
   },
   "outputs": [
    {
     "data": {
      "text/html": [
       "<pre>WITH buckets AS (SELECT SAFE_CAST(latency / 25 AS INT64) * 25 AS latency, COUNT(latency) AS requests\n",
       "FROM `cloud-datalab-samples.httplogs.logs_20140615`\n",
       "WHERE endpoint = 'Recent'\n",
       "GROUP BY latency\n",
       "ORDER BY latency),\n",
       "stats AS (SELECT COUNT(latency) AS total\n",
       "FROM `cloud-datalab-samples.httplogs.logs_20140615`\n",
       "WHERE endpoint = 'Recent')\n",
       "SELECT buckets.latency AS latency,\n",
       "       buckets.requests AS requests,\n",
       "       buckets.requests * 100 / stats.total AS percent\n",
       "FROM buckets CROSS JOIN stats\n",
       "ORDER BY latency</pre>"
      ],
      "text/plain": [
       "BigQuery Query - SELECT buckets.latency AS latency,\n",
       "       buckets.requests AS requests,\n",
       "       buckets.requests * 100 / stats.total AS percent\n",
       "FROM buckets CROSS JOIN stats\n",
       "ORDER BY latency"
      ]
     },
     "execution_count": 13,
     "metadata": {},
     "output_type": "execute_result"
    }
   ],
   "source": [
    "latencyDistribution"
   ]
  },
  {
   "cell_type": "markdown",
   "metadata": {},
   "source": [
    "Notice that the `buckets` and `stats` queries have been inlined as nested queries and used in a `JOIN`. The resulting SQL represents a single query that can be executed in BigQuery."
   ]
  },
  {
   "cell_type": "code",
   "execution_count": 14,
   "metadata": {
    "collapsed": false
   },
   "outputs": [
    {
     "data": {
      "text/html": [
       "\n",
       "    <div class=\"bqtv\" id=\"5_148887884064\"><table><tr><th>latency</th><th>requests</th><th>percent</th></tr><tr><td>0</td><td>28</td><td>3.81471389646</td></tr><tr><td>25</td><td>41</td><td>5.58583106267</td></tr><tr><td>50</td><td>6</td><td>0.817438692098</td></tr><tr><td>75</td><td>35</td><td>4.76839237057</td></tr><tr><td>100</td><td>32</td><td>4.35967302452</td></tr><tr><td>125</td><td>17</td><td>2.31607629428</td></tr><tr><td>150</td><td>5</td><td>0.681198910082</td></tr><tr><td>175</td><td>28</td><td>3.81471389646</td></tr><tr><td>200</td><td>100</td><td>13.6239782016</td></tr><tr><td>225</td><td>109</td><td>14.8501362398</td></tr><tr><td>250</td><td>95</td><td>12.9427792916</td></tr><tr><td>275</td><td>52</td><td>7.08446866485</td></tr><tr><td>300</td><td>42</td><td>5.72207084469</td></tr><tr><td>325</td><td>48</td><td>6.53950953678</td></tr><tr><td>350</td><td>38</td><td>5.17711171662</td></tr><tr><td>375</td><td>26</td><td>3.54223433243</td></tr><tr><td>400</td><td>17</td><td>2.31607629428</td></tr><tr><td>425</td><td>4</td><td>0.544959128065</td></tr><tr><td>450</td><td>4</td><td>0.544959128065</td></tr><tr><td>475</td><td>2</td><td>0.272479564033</td></tr><tr><td>500</td><td>1</td><td>0.136239782016</td></tr><tr><td>525</td><td>1</td><td>0.136239782016</td></tr><tr><td>550</td><td>1</td><td>0.136239782016</td></tr><tr><td>625</td><td>1</td><td>0.136239782016</td></tr><tr><td>18725</td><td>1</td><td>0.136239782016</td></tr></table></div>\n",
       "    <br />(rows: 25, time: 2.3s,    10MB processed, job: job_D98mC9AfoDmJ_T04MyWuK3uzwLM)<br />\n",
       "    <script>\n",
       "\n",
       "      require.config({\n",
       "        paths: {\n",
       "          d3: '//cdnjs.cloudflare.com/ajax/libs/d3/3.4.13/d3',\n",
       "          plotly: 'https://cdn.plot.ly/plotly-1.5.1.min.js?noext',\n",
       "          jquery: '//ajax.googleapis.com/ajax/libs/jquery/2.0.0/jquery.min'\n",
       "        },\n",
       "        map: {\n",
       "          '*': {\n",
       "            datalab: 'nbextensions/gcpdatalab'\n",
       "          }\n",
       "        },\n",
       "        shim: {\n",
       "          plotly: {\n",
       "            deps: ['d3', 'jquery'],\n",
       "            exports: 'plotly'\n",
       "          }\n",
       "        }\n",
       "      });\n",
       "\n",
       "      require(['datalab/charting', 'datalab/element!5_148887884064', 'base/js/events',\n",
       "          'datalab/style!/nbextensions/gcpdatalab/charting.css'],\n",
       "        function(charts, dom, events) {\n",
       "          charts.render('gcharts', dom, events, 'table', [], {\"rows\": [{\"c\": [{\"v\": 0}, {\"v\": 28}, {\"v\": 3.8147138964577656}]}, {\"c\": [{\"v\": 25}, {\"v\": 41}, {\"v\": 5.5858310626703}]}, {\"c\": [{\"v\": 50}, {\"v\": 6}, {\"v\": 0.8174386920980926}]}, {\"c\": [{\"v\": 75}, {\"v\": 35}, {\"v\": 4.768392370572207}]}, {\"c\": [{\"v\": 100}, {\"v\": 32}, {\"v\": 4.359673024523161}]}, {\"c\": [{\"v\": 125}, {\"v\": 17}, {\"v\": 2.316076294277929}]}, {\"c\": [{\"v\": 150}, {\"v\": 5}, {\"v\": 0.6811989100817438}]}, {\"c\": [{\"v\": 175}, {\"v\": 28}, {\"v\": 3.8147138964577656}]}, {\"c\": [{\"v\": 200}, {\"v\": 100}, {\"v\": 13.623978201634877}]}, {\"c\": [{\"v\": 225}, {\"v\": 109}, {\"v\": 14.850136239782016}]}, {\"c\": [{\"v\": 250}, {\"v\": 95}, {\"v\": 12.942779291553133}]}, {\"c\": [{\"v\": 275}, {\"v\": 52}, {\"v\": 7.084468664850136}]}, {\"c\": [{\"v\": 300}, {\"v\": 42}, {\"v\": 5.722070844686648}]}, {\"c\": [{\"v\": 325}, {\"v\": 48}, {\"v\": 6.539509536784741}]}, {\"c\": [{\"v\": 350}, {\"v\": 38}, {\"v\": 5.177111716621253}]}, {\"c\": [{\"v\": 375}, {\"v\": 26}, {\"v\": 3.542234332425068}]}, {\"c\": [{\"v\": 400}, {\"v\": 17}, {\"v\": 2.316076294277929}]}, {\"c\": [{\"v\": 425}, {\"v\": 4}, {\"v\": 0.5449591280653951}]}, {\"c\": [{\"v\": 450}, {\"v\": 4}, {\"v\": 0.5449591280653951}]}, {\"c\": [{\"v\": 475}, {\"v\": 2}, {\"v\": 0.2724795640326976}]}, {\"c\": [{\"v\": 500}, {\"v\": 1}, {\"v\": 0.1362397820163488}]}, {\"c\": [{\"v\": 525}, {\"v\": 1}, {\"v\": 0.1362397820163488}]}, {\"c\": [{\"v\": 550}, {\"v\": 1}, {\"v\": 0.1362397820163488}]}, {\"c\": [{\"v\": 625}, {\"v\": 1}, {\"v\": 0.1362397820163488}]}, {\"c\": [{\"v\": 18725}, {\"v\": 1}, {\"v\": 0.1362397820163488}]}], \"cols\": [{\"type\": \"number\", \"id\": \"latency\", \"label\": \"latency\"}, {\"type\": \"number\", \"id\": \"requests\", \"label\": \"requests\"}, {\"type\": \"number\", \"id\": \"percent\", \"label\": \"percent\"}]},\n",
       "            {\n",
       "              pageSize: 25,\n",
       "              cssClassNames:  {\n",
       "                tableRow: 'gchart-table-row',\n",
       "                headerRow: 'gchart-table-headerrow',\n",
       "                oddTableRow: 'gchart-table-oddrow',\n",
       "                selectedTableRow: 'gchart-table-selectedrow',\n",
       "                hoverTableRow: 'gchart-table-hoverrow',\n",
       "                tableCell: 'gchart-table-cell',\n",
       "                headerCell: 'gchart-table-headercell',\n",
       "                rowNumberCell: 'gchart-table-rownumcell'\n",
       "              }\n",
       "            },\n",
       "            {source_index: 4, fields: 'latency,requests,percent'},\n",
       "            0,\n",
       "            25);\n",
       "        }\n",
       "      );\n",
       "    </script>\n",
       "  "
      ],
      "text/plain": [
       "QueryResultsTable job_D98mC9AfoDmJ_T04MyWuK3uzwLM"
      ]
     },
     "execution_count": 14,
     "metadata": {},
     "output_type": "execute_result"
    }
   ],
   "source": [
    "%bq execute -q latencyDistribution"
   ]
  },
  {
   "cell_type": "markdown",
   "metadata": {},
   "source": [
    "We can also execute it as a dataframe to and plot its results:"
   ]
  },
  {
   "cell_type": "code",
   "execution_count": 15,
   "metadata": {
    "collapsed": false
   },
   "outputs": [
    {
     "data": {
      "text/plain": [
       "<matplotlib.axes._subplots.AxesSubplot at 0x7fed101c8f10>"
      ]
     },
     "execution_count": 15,
     "metadata": {},
     "output_type": "execute_result"
    },
    {
     "data": {
      "image/png": "[encoded data removed]",
      "text/plain": [
       "<matplotlib.figure.Figure at 0x7fed415a1d10>"
      ]
     },
     "metadata": {},
     "output_type": "display_data"
    }
   ],
   "source": [
    "job = latencyDistribution.execute(output_options=bq.QueryOutput.dataframe())\n",
    "job.result().drop(['requests'], axis = 1).set_index('latency').plot(logx = True)"
   ]
  },
  {
   "cell_type": "markdown",
   "metadata": {},
   "source": [
    "# Looking Ahead\n",
    "\n",
    "Composing queries one step at a time and validating the results along the way (by either executing or sampling intermediate queries) allows you to build sophisticated queries while containing the complexity.\n",
    "\n",
    "Look at some of the BigQuery samples for more examples."
   ]
  }
 ],
 "metadata": {
  "kernelspec": {
   "display_name": "Python 2",
   "language": "python",
   "name": "python2"
  },
  "language_info": {
   "codemirror_mode": {
    "name": "ipython",
    "version": 2
   },
   "file_extension": ".py",
   "mimetype": "text/x-python",
   "name": "python",
   "nbconvert_exporter": "python",
   "pygments_lexer": "ipython2",
   "version": "2.7.9"
  }
 },
 "nbformat": 4,
 "nbformat_minor": 0
}
