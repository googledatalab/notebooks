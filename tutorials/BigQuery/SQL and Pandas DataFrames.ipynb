{
 "cells": [
  {
   "cell_type": "markdown",
   "metadata": {},
   "source": [
    "# SQL and Pandas DataFrames\n",
    "\n",
    "Google Cloud Datalab allows you to use SQL to interact with Google BigQuery. However, SQL is just the starting point. Datalab enables you to combine the power of declarative SQL with imperative code (Python) to perform interesting data analysis, visualization, and transformation tasks.\n",
    "\n",
    "You can use a number of Python data analysis, data wrangling, and visualization libraries, such as `numpy`, `pandas`, `matplotlib`, and many others. Several of these libraries build on top of a `DataFrame` object.\n",
    "\n",
    "This notebook shows how to easily integrate these capabilites together in a single notebook. This functionality is provided by the BigQuery APIs, so the first step is, of course, to import the module along with pandas."
   ]
  },
  {
   "cell_type": "code",
   "execution_count": 4,
   "metadata": {
    "collapsed": true
   },
   "outputs": [],
   "source": [
    "import google.datalab.bigquery as bq\n",
    "import pandas as pd"
   ]
  },
  {
   "cell_type": "markdown",
   "metadata": {},
   "source": [
    "# From SQL to DataFrames\n",
    "\n",
    "In the [BigQuery APIs notebook](http://localhost:8081/notebooks/datalab/docs/tutorials/BigQuery/BigQuery%20APIs.ipynb), we've covered how to define a SQL query, execute it, and get a reference to the results in the form of a `DataFrame`. Let's start with a query to see what more we can do."
   ]
  },
  {
   "cell_type": "code",
   "execution_count": 1,
   "metadata": {
    "collapsed": false
   },
   "outputs": [],
   "source": [
    "%%bq query -n requests\n",
    "SELECT timestamp, latency, endpoint\n",
    "FROM `cloud-datalab-samples.httplogs.logs_20140615`\n",
    "WHERE endpoint = 'Popular' OR endpoint = 'Recent'"
   ]
  },
  {
   "cell_type": "code",
   "execution_count": 2,
   "metadata": {
    "collapsed": false
   },
   "outputs": [
    {
     "data": {
      "text/html": [
       "\n",
       "    <div class=\"bqtv\" id=\"1_148887758021\"><table><tr><th>timestamp</th><th>latency</th><th>endpoint</th></tr><tr><td>2014-06-15 07:00:01.973441</td><td>21</td><td>Popular</td></tr><tr><td>2014-06-15 07:00:02.288373</td><td>21</td><td>Popular</td></tr><tr><td>2014-06-15 07:00:01.700211</td><td>21</td><td>Popular</td></tr><tr><td>2014-06-15 07:00:02.043231</td><td>21</td><td>Popular</td></tr><tr><td>2014-06-15 07:00:01.514197</td><td>22</td><td>Popular</td></tr></table></div>\n",
       "    <br />(rows: 5, time: 2.0s,    15MB processed, job: job_EWjDOLxn2S0zCH3eWnS56Jlq8O8)<br />\n",
       "    <script>\n",
       "\n",
       "      require.config({\n",
       "        paths: {\n",
       "          d3: '//cdnjs.cloudflare.com/ajax/libs/d3/3.4.13/d3',\n",
       "          plotly: 'https://cdn.plot.ly/plotly-1.5.1.min.js?noext',\n",
       "          jquery: '//ajax.googleapis.com/ajax/libs/jquery/2.0.0/jquery.min'\n",
       "        },\n",
       "        map: {\n",
       "          '*': {\n",
       "            datalab: 'nbextensions/gcpdatalab'\n",
       "          }\n",
       "        },\n",
       "        shim: {\n",
       "          plotly: {\n",
       "            deps: ['d3', 'jquery'],\n",
       "            exports: 'plotly'\n",
       "          }\n",
       "        }\n",
       "      });\n",
       "\n",
       "      require(['datalab/charting', 'datalab/element!1_148887758021', 'base/js/events',\n",
       "          'datalab/style!/nbextensions/gcpdatalab/charting.css'],\n",
       "        function(charts, dom, events) {\n",
       "          charts.render('gcharts', dom, events, 'table', [], {\"rows\": [{\"c\": [{\"v\": \"2014-06-15T07:00:01.973441\"}, {\"v\": 21}, {\"v\": \"Popular\"}]}, {\"c\": [{\"v\": \"2014-06-15T07:00:02.288373\"}, {\"v\": 21}, {\"v\": \"Popular\"}]}, {\"c\": [{\"v\": \"2014-06-15T07:00:01.700211\"}, {\"v\": 21}, {\"v\": \"Popular\"}]}, {\"c\": [{\"v\": \"2014-06-15T07:00:02.043231\"}, {\"v\": 21}, {\"v\": \"Popular\"}]}, {\"c\": [{\"v\": \"2014-06-15T07:00:01.514197\"}, {\"v\": 22}, {\"v\": \"Popular\"}]}], \"cols\": [{\"type\": \"datetime\", \"id\": \"timestamp\", \"label\": \"timestamp\"}, {\"type\": \"number\", \"id\": \"latency\", \"label\": \"latency\"}, {\"type\": \"string\", \"id\": \"endpoint\", \"label\": \"endpoint\"}]},\n",
       "            {\n",
       "              pageSize: 25,\n",
       "              cssClassNames:  {\n",
       "                tableRow: 'gchart-table-row',\n",
       "                headerRow: 'gchart-table-headerrow',\n",
       "                oddTableRow: 'gchart-table-oddrow',\n",
       "                selectedTableRow: 'gchart-table-selectedrow',\n",
       "                hoverTableRow: 'gchart-table-hoverrow',\n",
       "                tableCell: 'gchart-table-cell',\n",
       "                headerCell: 'gchart-table-headercell',\n",
       "                rowNumberCell: 'gchart-table-rownumcell'\n",
       "              }\n",
       "            },\n",
       "            {source_index: 0, fields: 'timestamp,latency,endpoint'},\n",
       "            0,\n",
       "            5);\n",
       "        }\n",
       "      );\n",
       "    </script>\n",
       "  "
      ],
      "text/plain": [
       "QueryResultsTable job_EWjDOLxn2S0zCH3eWnS56Jlq8O8"
      ]
     },
     "execution_count": 2,
     "metadata": {},
     "output_type": "execute_result"
    }
   ],
   "source": [
    "%%bq sample --count 5 --query requests"
   ]
  },
  {
   "cell_type": "code",
   "execution_count": 5,
   "metadata": {
    "collapsed": false
   },
   "outputs": [
    {
     "data": {
      "text/plain": [
       "8392"
      ]
     },
     "execution_count": 5,
     "metadata": {},
     "output_type": "execute_result"
    }
   ],
   "source": [
    "df = requests.execute(output_options=bq.QueryOutput.dataframe()).result()\n",
    "len(df)"
   ]
  },
  {
   "cell_type": "markdown",
   "metadata": {},
   "source": [
    "## Data Manipulation"
   ]
  },
  {
   "cell_type": "markdown",
   "metadata": {},
   "source": [
    "The resulting `DataFrame` can be further transformed, sliced, projected, and inspected using the extensive set of APIs available on the class. Let's print out the first five rows."
   ]
  },
  {
   "cell_type": "code",
   "execution_count": 6,
   "metadata": {
    "collapsed": false
   },
   "outputs": [
    {
     "data": {
      "text/html": [
       "<div>\n",
       "<table border=\"1\" class=\"dataframe\">\n",
       "  <thead>\n",
       "    <tr style=\"text-align: right;\">\n",
       "      <th></th>\n",
       "      <th>timestamp</th>\n",
       "      <th>latency</th>\n",
       "      <th>endpoint</th>\n",
       "    </tr>\n",
       "  </thead>\n",
       "  <tbody>\n",
       "    <tr>\n",
       "      <th>0</th>\n",
       "      <td>2014-06-15 19:40:43.414446</td>\n",
       "      <td>256</td>\n",
       "      <td>Recent</td>\n",
       "    </tr>\n",
       "    <tr>\n",
       "      <th>1</th>\n",
       "      <td>2014-06-16 03:32:55.519498</td>\n",
       "      <td>256</td>\n",
       "      <td>Recent</td>\n",
       "    </tr>\n",
       "    <tr>\n",
       "      <th>2</th>\n",
       "      <td>2014-06-16 01:38:26.398083</td>\n",
       "      <td>256</td>\n",
       "      <td>Recent</td>\n",
       "    </tr>\n",
       "    <tr>\n",
       "      <th>3</th>\n",
       "      <td>2014-06-15 17:25:47.865026</td>\n",
       "      <td>256</td>\n",
       "      <td>Recent</td>\n",
       "    </tr>\n",
       "    <tr>\n",
       "      <th>4</th>\n",
       "      <td>2014-06-15 14:41:43.465275</td>\n",
       "      <td>256</td>\n",
       "      <td>Recent</td>\n",
       "    </tr>\n",
       "  </tbody>\n",
       "</table>\n",
       "</div>"
      ],
      "text/plain": [
       "                   timestamp  latency endpoint\n",
       "0 2014-06-15 19:40:43.414446      256   Recent\n",
       "1 2014-06-16 03:32:55.519498      256   Recent\n",
       "2 2014-06-16 01:38:26.398083      256   Recent\n",
       "3 2014-06-15 17:25:47.865026      256   Recent\n",
       "4 2014-06-15 14:41:43.465275      256   Recent"
      ]
     },
     "execution_count": 6,
     "metadata": {},
     "output_type": "execute_result"
    }
   ],
   "source": [
    "df.head(5)"
   ]
  },
  {
   "cell_type": "markdown",
   "metadata": {},
   "source": [
    "Or it can be inspected for schema,"
   ]
  },
  {
   "cell_type": "code",
   "execution_count": 7,
   "metadata": {
    "collapsed": false
   },
   "outputs": [
    {
     "data": {
      "text/plain": [
       "timestamp    datetime64[ns]\n",
       "latency               int64\n",
       "endpoint             object\n",
       "dtype: object"
      ]
     },
     "execution_count": 7,
     "metadata": {},
     "output_type": "execute_result"
    }
   ],
   "source": [
    "df.dtypes"
   ]
  },
  {
   "cell_type": "markdown",
   "metadata": {},
   "source": [
    "or further transformed locally, for example to perform grouping,"
   ]
  },
  {
   "cell_type": "code",
   "execution_count": 8,
   "metadata": {
    "collapsed": false
   },
   "outputs": [
    {
     "data": {
      "text/html": [
       "<div>\n",
       "<table border=\"1\" class=\"dataframe\">\n",
       "  <thead>\n",
       "    <tr style=\"text-align: right;\">\n",
       "      <th></th>\n",
       "      <th>latency</th>\n",
       "      <th>timestamp</th>\n",
       "    </tr>\n",
       "    <tr>\n",
       "      <th>endpoint</th>\n",
       "      <th></th>\n",
       "      <th></th>\n",
       "    </tr>\n",
       "  </thead>\n",
       "  <tbody>\n",
       "    <tr>\n",
       "      <th>Popular</th>\n",
       "      <td>int64</td>\n",
       "      <td>NaT</td>\n",
       "    </tr>\n",
       "    <tr>\n",
       "      <th>Recent</th>\n",
       "      <td>int64</td>\n",
       "      <td>NaT</td>\n",
       "    </tr>\n",
       "  </tbody>\n",
       "</table>\n",
       "</div>"
      ],
      "text/plain": [
       "         latency timestamp\n",
       "endpoint                  \n",
       "Popular    int64       NaT\n",
       "Recent     int64       NaT"
      ]
     },
     "execution_count": 8,
     "metadata": {},
     "output_type": "execute_result"
    }
   ],
   "source": [
    "groups = df.groupby('endpoint')\n",
    "groups.dtypes"
   ]
  },
  {
   "cell_type": "code",
   "execution_count": 9,
   "metadata": {
    "collapsed": false
   },
   "outputs": [
    {
     "name": "stdout",
     "output_type": "stream",
     "text": [
      "Popular - 7658 items\n",
      "                     timestamp  latency endpoint\n",
      "734 2014-06-15 12:32:44.619481      256  Popular\n",
      "735 2014-06-15 15:33:51.416032      256  Popular\n",
      "736 2014-06-15 07:11:53.720912      256  Popular\n",
      "\n",
      "Recent - 734 items\n",
      "                   timestamp  latency endpoint\n",
      "0 2014-06-15 19:40:43.414446      256   Recent\n",
      "1 2014-06-16 03:32:55.519498      256   Recent\n",
      "2 2014-06-16 01:38:26.398083      256   Recent\n",
      "\n"
     ]
    }
   ],
   "source": [
    "for name, df_group in groups:\n",
    "  print('%s - %d items' % (name, len(df_group)))\n",
    "  print(df_group.head(3))\n",
    "  print()"
   ]
  },
  {
   "cell_type": "markdown",
   "metadata": {},
   "source": [
    "and then analyze a dimension per group,"
   ]
  },
  {
   "cell_type": "code",
   "execution_count": 10,
   "metadata": {
    "collapsed": false
   },
   "outputs": [
    {
     "data": {
      "text/plain": [
       "endpoint       \n",
       "Popular   count     7658.000000\n",
       "          mean       274.439018\n",
       "          std        187.050788\n",
       "          min          2.000000\n",
       "          25%        132.000000\n",
       "          50%        313.000000\n",
       "          75%        392.000000\n",
       "          max       6443.000000\n",
       "Recent    count      734.000000\n",
       "          mean       246.268392\n",
       "          std        690.888990\n",
       "          min          2.000000\n",
       "          25%        184.250000\n",
       "          50%        229.000000\n",
       "          75%        288.000000\n",
       "          max      18715.000000\n",
       "Name: latency, dtype: float64"
      ]
     },
     "execution_count": 10,
     "metadata": {},
     "output_type": "execute_result"
    }
   ],
   "source": [
    "groups['latency'].describe()"
   ]
  },
  {
   "cell_type": "markdown",
   "metadata": {},
   "source": [
    "or even run a set of custom aggregation functions."
   ]
  },
  {
   "cell_type": "code",
   "execution_count": 11,
   "metadata": {
    "collapsed": false
   },
   "outputs": [
    {
     "data": {
      "text/html": [
       "<div>\n",
       "<table border=\"1\" class=\"dataframe\">\n",
       "  <thead>\n",
       "    <tr style=\"text-align: right;\">\n",
       "      <th></th>\n",
       "      <th>unique</th>\n",
       "      <th>list</th>\n",
       "    </tr>\n",
       "    <tr>\n",
       "      <th>endpoint</th>\n",
       "      <th></th>\n",
       "      <th></th>\n",
       "    </tr>\n",
       "  </thead>\n",
       "  <tbody>\n",
       "    <tr>\n",
       "      <th>Popular</th>\n",
       "      <td>[2, 3, 4, 5, 6, 7, 8, 9, 11, 15, 19, 20, 21, 2...</td>\n",
       "      <td>[256, 256, 256, 256, 256, 256, 256, 256, 512, ...</td>\n",
       "    </tr>\n",
       "    <tr>\n",
       "      <th>Recent</th>\n",
       "      <td>[2, 3, 4, 5, 6, 10, 21, 22, 23, 24, 29, 31, 35...</td>\n",
       "      <td>[256, 256, 256, 256, 256, 257, 257, 257, 257, ...</td>\n",
       "    </tr>\n",
       "  </tbody>\n",
       "</table>\n",
       "</div>"
      ],
      "text/plain": [
       "                                                     unique  \\\n",
       "endpoint                                                      \n",
       "Popular   [2, 3, 4, 5, 6, 7, 8, 9, 11, 15, 19, 20, 21, 2...   \n",
       "Recent    [2, 3, 4, 5, 6, 10, 21, 22, 23, 24, 29, 31, 35...   \n",
       "\n",
       "                                                       list  \n",
       "endpoint                                                     \n",
       "Popular   [256, 256, 256, 256, 256, 256, 256, 256, 512, ...  \n",
       "Recent    [256, 256, 256, 256, 256, 257, 257, 257, 257, ...  "
      ]
     },
     "execution_count": 11,
     "metadata": {},
     "output_type": "execute_result"
    }
   ],
   "source": [
    "def unique(x):\n",
    "  return sorted(set(list(x)))\n",
    "\n",
    "groups['latency'].agg({ 'list': lambda x: list(x), 'unique': lambda x: unique(x) })"
   ]
  },
  {
   "cell_type": "markdown",
   "metadata": {},
   "source": [
    "## Data Visualization\n",
    "\n",
    "DataFrame provides built-in visualization capabilities using `matplotlib`."
   ]
  },
  {
   "cell_type": "markdown",
   "metadata": {},
   "source": [
    "**Conversion to TimeSeries Data**\n",
    "\n",
    "Our DataFrame instance contains timestamps, latencies, and endpoints. Let's reshape this DataFrame so that each endpoint is a column, that is, an independent series. The timestamp, itself, will be the index row. For timestamps for which one of the endpoints has no data point, we'll use the previous value."
   ]
  },
  {
   "cell_type": "code",
   "execution_count": 16,
   "metadata": {
    "collapsed": false
   },
   "outputs": [
    {
     "data": {
      "text/html": [
       "<div>\n",
       "<table border=\"1\" class=\"dataframe\">\n",
       "  <thead>\n",
       "    <tr style=\"text-align: right;\">\n",
       "      <th>endpoint</th>\n",
       "      <th>Popular</th>\n",
       "      <th>Recent</th>\n",
       "    </tr>\n",
       "    <tr>\n",
       "      <th>timestamp</th>\n",
       "      <th></th>\n",
       "      <th></th>\n",
       "    </tr>\n",
       "  </thead>\n",
       "  <tbody>\n",
       "    <tr>\n",
       "      <th>2014-06-15 07:00:20.649279</th>\n",
       "      <td>177.0</td>\n",
       "      <td>427.0</td>\n",
       "    </tr>\n",
       "    <tr>\n",
       "      <th>2014-06-15 07:00:54.666471</th>\n",
       "      <td>352.0</td>\n",
       "      <td>427.0</td>\n",
       "    </tr>\n",
       "    <tr>\n",
       "      <th>2014-06-15 07:01:28.139716</th>\n",
       "      <td>471.0</td>\n",
       "      <td>427.0</td>\n",
       "    </tr>\n",
       "    <tr>\n",
       "      <th>2014-06-15 07:01:33.672656</th>\n",
       "      <td>394.0</td>\n",
       "      <td>427.0</td>\n",
       "    </tr>\n",
       "    <tr>\n",
       "      <th>2014-06-15 07:01:37.050927</th>\n",
       "      <td>321.0</td>\n",
       "      <td>427.0</td>\n",
       "    </tr>\n",
       "    <tr>\n",
       "      <th>2014-06-15 07:02:21.453438</th>\n",
       "      <td>390.0</td>\n",
       "      <td>427.0</td>\n",
       "    </tr>\n",
       "    <tr>\n",
       "      <th>2014-06-15 07:02:31.533299</th>\n",
       "      <td>390.0</td>\n",
       "      <td>331.0</td>\n",
       "    </tr>\n",
       "    <tr>\n",
       "      <th>2014-06-15 07:02:51.365249</th>\n",
       "      <td>130.0</td>\n",
       "      <td>331.0</td>\n",
       "    </tr>\n",
       "    <tr>\n",
       "      <th>2014-06-15 07:02:57.402798</th>\n",
       "      <td>121.0</td>\n",
       "      <td>331.0</td>\n",
       "    </tr>\n",
       "    <tr>\n",
       "      <th>2014-06-15 07:02:57.703736</th>\n",
       "      <td>139.0</td>\n",
       "      <td>331.0</td>\n",
       "    </tr>\n",
       "  </tbody>\n",
       "</table>\n",
       "</div>"
      ],
      "text/plain": [
       "endpoint                    Popular  Recent\n",
       "timestamp                                  \n",
       "2014-06-15 07:00:20.649279    177.0   427.0\n",
       "2014-06-15 07:00:54.666471    352.0   427.0\n",
       "2014-06-15 07:01:28.139716    471.0   427.0\n",
       "2014-06-15 07:01:33.672656    394.0   427.0\n",
       "2014-06-15 07:01:37.050927    321.0   427.0\n",
       "2014-06-15 07:02:21.453438    390.0   427.0\n",
       "2014-06-15 07:02:31.533299    390.0   331.0\n",
       "2014-06-15 07:02:51.365249    130.0   331.0\n",
       "2014-06-15 07:02:57.402798    121.0   331.0\n",
       "2014-06-15 07:02:57.703736    139.0   331.0"
      ]
     },
     "execution_count": 16,
     "metadata": {},
     "output_type": "execute_result"
    }
   ],
   "source": [
    "df_series = df.pivot(index='timestamp', columns='endpoint', values='latency').fillna(method = 'backfill')\n",
    "df_series[10:20]"
   ]
  },
  {
   "cell_type": "code",
   "execution_count": 13,
   "metadata": {
    "collapsed": false
   },
   "outputs": [
    {
     "data": {
      "text/plain": [
       "8392"
      ]
     },
     "execution_count": 13,
     "metadata": {},
     "output_type": "execute_result"
    }
   ],
   "source": [
    "len(df_series)"
   ]
  },
  {
   "cell_type": "code",
   "execution_count": 20,
   "metadata": {
    "collapsed": false
   },
   "outputs": [
    {
     "data": {
      "text/plain": [
       "<matplotlib.axes._subplots.AxesSubplot at 0x7f51c8f8d150>"
      ]
     },
     "execution_count": 20,
     "metadata": {},
     "output_type": "execute_result"
    },
    {
     "data": {
      "image/png": "[encoded data removed]",
      "text/plain": [
       "<matplotlib.figure.Figure at 0x7f51c8f2d650>"
      ]
     },
     "metadata": {},
     "output_type": "display_data"
    }
   ],
   "source": [
    "df_series.plot(logy = True)"
   ]
  },
  {
   "cell_type": "markdown",
   "metadata": {},
   "source": [
    "**Resampling**\n",
    "\n",
    "The plot above is not meaningful. Our time-series data is taken arbitrary timestamps, whenever a request was processed. It is irregularly spaced, and there are a large number of data points. DataFrames provide the ability to resample a time-series into more meaningful time windows."
   ]
  },
  {
   "cell_type": "code",
   "execution_count": 21,
   "metadata": {
    "collapsed": false
   },
   "outputs": [
    {
     "data": {
      "text/plain": [
       "<matplotlib.axes._subplots.AxesSubplot at 0x7f51a97a9210>"
      ]
     },
     "execution_count": 21,
     "metadata": {},
     "output_type": "execute_result"
    },
    {
     "data": {
      "image/png": "[encoded data removed]",
      "text/plain": [
       "<matplotlib.figure.Figure at 0x7f51c901a850>"
      ]
     },
     "metadata": {},
     "output_type": "display_data"
    }
   ],
   "source": [
    "df_series.resample(rule='10min').mean().plot(logy = True)"
   ]
  },
  {
   "cell_type": "markdown",
   "metadata": {},
   "source": [
    "# Looking Ahead\n",
    "\n",
    "Python pandas provide an extensive toolbox of capabilities for working with data. Datalab combines the power of BigQuery and DataFrames.\n",
    "\n",
    "Subsequent notebooks cover additional SQL capabilities that you to use the full power of BigQuery, allowing you to run queries close to your entire dataset before bringing a useful subset of data into the notebook."
   ]
  }
 ],
 "metadata": {
  "kernelspec": {
   "display_name": "Python 2",
   "language": "python",
   "name": "python2"
  },
  "language_info": {
   "codemirror_mode": {
    "name": "ipython",
    "version": 2
   },
   "file_extension": ".py",
   "mimetype": "text/x-python",
   "name": "python",
   "nbconvert_exporter": "python",
   "pygments_lexer": "ipython2",
   "version": "2.7.9"
  }
 },
 "nbformat": 4,
 "nbformat_minor": 0
}
