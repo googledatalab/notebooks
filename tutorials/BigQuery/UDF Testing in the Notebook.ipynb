{
 "cells": [
  {
   "cell_type": "markdown",
   "metadata": {},
   "source": [
    "# UDF Testing in the Notebook\n",
    "\n",
    "This notebook shows how to write and test Google BigQuery Javascript UDFs (user-defined functions) within a notebook.\n",
    "\n",
    "Before using this tutorial, you should go through the [UDFs in BigQuery](notebooks/datalab/tutorials/BigQuery/UDFs%20in%20BigQuery.ipynb) tutorial, which discusses how to use UDFs in notebooks without external code.\n",
    "\n",
    "You can read more about UDFs [here](https://cloud.google.com/bigquery/user-defined-functions). \n",
    "\n"
   ]
  },
  {
   "cell_type": "markdown",
   "metadata": {},
   "source": [
    "## Scenario\n",
    "\n",
    "This notebook repeats a scenario used in other notebooks, looking at some anonymized logs that originated in Google AppEngine. "
   ]
  },
  {
   "cell_type": "markdown",
   "metadata": {},
   "source": [
    "## Creating and Testing the UDF\n",
    "\n",
    "We will first write and test a UDF in a %%javascript cell. We will write the UDF code, then define test data, and finally call the UDF with the test data after creating a mock version of the input. Note that in a %%javascript cell you can access the output area element with the name `element`; our mock function will use that element to produce output that is displayed in the notebook.\n",
    "\n",
    "There is no state shared between %%javascript cells, so we have to perform the task in a single cell."
   ]
  },
  {
   "cell_type": "code",
   "execution_count": 1,
   "metadata": {
    "collapsed": false
   },
   "outputs": [
    {
     "data": {
      "application/javascript": [
       "\n",
       "/**\n",
       " * Our UDF function, which splits a set of URL query parameters into an array\n",
       " */\n",
       "function getParameters(path) {\n",
       "  var re = /[?&]([^=]*)=([^&]*)/g;\n",
       "  var result = [];\n",
       "  var match;\n",
       "  while ((match = re.exec(path)) != null) {\n",
       "    result.push(decodeURIComponent(match[2]));\n",
       "  }\n",
       "  return result;\n",
       "}\n",
       "\n",
       "// Now we want to test the UDF. We can try calling it using a sample line from our table.\n",
       "// Note that the variable `element` is available to us to create output in the notebook,\n",
       "// so our test emitter will use that variable to display the fields.\n",
       "var test_path = '/log/page?project=14&instance=81&user=16&page=master&path=63&version=0.1.1&release=alpha'\n",
       "var test_results = ['14', '81', '16', 'master', '63', '0.1.1', 'alpha']\n",
       "\n",
       "var params = getParameters(test_path);\n",
       "if (JSON.stringify(params) == JSON.stringify(test_results)) {\n",
       "  element.append('OK')\n",
       "} else {\n",
       "  element.append('Failed')\n",
       "}"
      ],
      "text/plain": [
       "<IPython.core.display.Javascript object>"
      ]
     },
     "metadata": {},
     "output_type": "display_data"
    }
   ],
   "source": [
    "%%javascript\n",
    "\n",
    "/**\n",
    " * Our UDF function, which splits a set of URL query parameters into an array\n",
    " */\n",
    "function getParameters(path) {\n",
    "  var re = /[?&]([^=]*)=([^&]*)/g;\n",
    "  var result = [];\n",
    "  var match;\n",
    "  while ((match = re.exec(path)) != null) {\n",
    "    result.push(decodeURIComponent(match[2]));\n",
    "  }\n",
    "  return result;\n",
    "}\n",
    "\n",
    "// Now we want to test the UDF. We can try calling it using a sample line from our table.\n",
    "// Note that the variable `element` is available to us to create output in the notebook,\n",
    "// so our test emitter will use that variable to display the fields.\n",
    "var test_path = '/log/page?project=14&instance=81&user=16&page=master&path=63&version=0.1.1&release=alpha'\n",
    "var test_results = ['14', '81', '16', 'master', '63', '0.1.1', 'alpha']\n",
    "\n",
    "var params = getParameters(test_path);\n",
    "if (JSON.stringify(params) == JSON.stringify(test_results)) {\n",
    "  element.append('OK')\n",
    "} else {\n",
    "  element.append('Failed')\n",
    "}"
   ]
  },
  {
   "cell_type": "markdown",
   "metadata": {},
   "source": [
    "Looks like we are good to go!\n"
   ]
  },
  {
   "cell_type": "markdown",
   "metadata": {},
   "source": [
    "## Next Steps\n",
    "\n",
    "If you have code that you use regularly in your UDFs, you can factor that out, put it in Google Cloud Storage, then import it; this technique is covered in the tutorial  [UDFs using Code in Cloud Storage](notebooks/datalab/tutorials/BigQuery/UDFs%20using%20Code%20in%20Cloud%20Storage.ipynb)."
   ]
  }
 ],
 "metadata": {
  "kernelspec": {
   "display_name": "Python 2",
   "language": "python",
   "name": "python2"
  },
  "language_info": {
   "codemirror_mode": {
    "name": "ipython",
    "version": 2
   },
   "file_extension": ".py",
   "mimetype": "text/x-python",
   "name": "python",
   "nbconvert_exporter": "python",
   "pygments_lexer": "ipython2",
   "version": "2.7.9"
  }
 },
 "nbformat": 4,
 "nbformat_minor": 0
}
