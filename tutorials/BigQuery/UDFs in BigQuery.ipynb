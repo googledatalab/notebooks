{
 "cells": [
  {
   "cell_type": "markdown",
   "metadata": {},
   "source": [
    "# UDFs in BigQuery\n",
    "\n",
    "This notebook shows how to use UDFs (user-defined functions) in Google BigQuery. UDFs allow you to operate on columns of a table, performing arbitrary transformations, and returning the result of those transformations as a value. Datalab currently supports temporary UDFS, which live only within the query that uses them.\n",
    "\n",
    "You can read more about UDFs [here](https://cloud.google.com/bigquery/docs/reference/standard-sql/user-defined-functions)"
   ]
  },
  {
   "cell_type": "markdown",
   "metadata": {},
   "source": [
    "## Scenario\n",
    "\n",
    "In this notebook we are going to look at anonymized logs that originated in Google AppEngine. These logs include the paths of requested URIs, which contain a number of query parameters of interest. To help us use the logs, we will create a UDF that extracts the query parameters values, and puts them into a new column of type `ARRAY`.\n"
   ]
  },
  {
   "cell_type": "markdown",
   "metadata": {},
   "source": [
    "## Examining the Data\n",
    "\n",
    "We are going to look at logs from a week in October 2015. These logs were imported from Google AppEngine, with a few relevant fields extracted and anonymized. There is a separate table for each day. Let's look at an example, starting with the schema, and then look at sample rows:"
   ]
  },
  {
   "cell_type": "code",
   "execution_count": 1,
   "metadata": {
    "collapsed": false
   },
   "outputs": [
    {
     "data": {
      "text/html": [
       "\n",
       "    <div class=\"bqsv\" id=\"1_148887942040\"></div>\n",
       "    <script>\n",
       "      require.config({\n",
       "        map: {\n",
       "          '*': {\n",
       "            datalab: 'nbextensions/gcpdatalab'\n",
       "          }\n",
       "        },\n",
       "      });\n",
       "\n",
       "      require(['datalab/bigquery', 'datalab/element!1_148887942040',\n",
       "          'datalab/style!/nbextensions/gcpdatalab/bigquery.css'],\n",
       "        function(bq, dom) {\n",
       "          bq.renderSchema(dom, [{\"type\": \"TIMESTAMP\", \"name\": \"timestamp\", \"mode\": \"NULLABLE\"}, {\"type\": \"STRING\", \"name\": \"method\", \"mode\": \"NULLABLE\"}, {\"type\": \"INTEGER\", \"name\": \"status\", \"mode\": \"NULLABLE\"}, {\"type\": \"FLOAT\", \"name\": \"latency\", \"mode\": \"NULLABLE\"}, {\"type\": \"STRING\", \"name\": \"path\", \"mode\": \"NULLABLE\"}]);\n",
       "        }\n",
       "      );\n",
       "    </script>\n",
       "    "
      ],
      "text/plain": [
       "<IPython.core.display.HTML object>"
      ]
     },
     "execution_count": 1,
     "metadata": {},
     "output_type": "execute_result"
    }
   ],
   "source": [
    "%bq tables describe --name cloud-datalab-samples.appenginelogs.sample_logs_20151027"
   ]
  },
  {
   "cell_type": "code",
   "execution_count": 2,
   "metadata": {
    "collapsed": false
   },
   "outputs": [
    {
     "data": {
      "text/html": [
       "\n",
       "    <div class=\"bqtv\" id=\"2_148887942407\"><table><tr><th>timestamp</th><th>method</th><th>status</th><th>latency</th><th>path</th></tr><tr><td>2015-10-27 22:00:47.660171</td><td>POST</td><td>204</td><td>0.00337</td><td>/log/signin?project=5&amp;instance=2&amp;user=54&amp;page=master&amp;path=3&amp;version=0.1.1&amp;release=alpha</td></tr><tr><td>2015-10-27 01:03:10.959946</td><td>POST</td><td>204</td><td>0.003195</td><td>/log/page?project=36&amp;instance=40&amp;user=131&amp;page=detail&amp;path=38&amp;version=0.1.1&amp;release=alpha</td></tr><tr><td>2015-10-27 01:24:18.065954</td><td>POST</td><td>204</td><td>0.003023</td><td>/log/page?project=20&amp;instance=29&amp;user=42&amp;page=detail&amp;path=6&amp;version=0.1.1&amp;release=alpha</td></tr><tr><td>2015-10-27 00:57:44.694484</td><td>POST</td><td>204</td><td>0.003418</td><td>/log/start?project=143&amp;instance=215&amp;user=2&amp;page=master&amp;path=3&amp;version=0.1.1&amp;release=alpha</td></tr><tr><td>2015-10-27 20:10:19.547390</td><td>POST</td><td>204</td><td>0.00368</td><td>/log/start?project=149&amp;instance=232&amp;user=2&amp;page=master&amp;path=3&amp;version=0.1.1&amp;release=alpha</td></tr></table></div>\n",
       "    <br />(rows: 5, time: 2.0s,   256KB processed, job: job_RDk8HuzdIx5_W-CMxKKuKXBhKaA)<br />\n",
       "    <script>\n",
       "\n",
       "      require.config({\n",
       "        paths: {\n",
       "          d3: '//cdnjs.cloudflare.com/ajax/libs/d3/3.4.13/d3',\n",
       "          plotly: 'https://cdn.plot.ly/plotly-1.5.1.min.js?noext',\n",
       "          jquery: '//ajax.googleapis.com/ajax/libs/jquery/2.0.0/jquery.min'\n",
       "        },\n",
       "        map: {\n",
       "          '*': {\n",
       "            datalab: 'nbextensions/gcpdatalab'\n",
       "          }\n",
       "        },\n",
       "        shim: {\n",
       "          plotly: {\n",
       "            deps: ['d3', 'jquery'],\n",
       "            exports: 'plotly'\n",
       "          }\n",
       "        }\n",
       "      });\n",
       "\n",
       "      require(['datalab/charting', 'datalab/element!2_148887942407', 'base/js/events',\n",
       "          'datalab/style!/nbextensions/gcpdatalab/charting.css'],\n",
       "        function(charts, dom, events) {\n",
       "          charts.render('gcharts', dom, events, 'table', [], {\"rows\": [{\"c\": [{\"v\": \"2015-10-27T22:00:47.660171\"}, {\"v\": \"POST\"}, {\"v\": 204}, {\"v\": 0.00337}, {\"v\": \"/log/signin?project=5&instance=2&user=54&page=master&path=3&version=0.1.1&release=alpha\"}]}, {\"c\": [{\"v\": \"2015-10-27T01:03:10.959946\"}, {\"v\": \"POST\"}, {\"v\": 204}, {\"v\": 0.003195}, {\"v\": \"/log/page?project=36&instance=40&user=131&page=detail&path=38&version=0.1.1&release=alpha\"}]}, {\"c\": [{\"v\": \"2015-10-27T01:24:18.065954\"}, {\"v\": \"POST\"}, {\"v\": 204}, {\"v\": 0.003023}, {\"v\": \"/log/page?project=20&instance=29&user=42&page=detail&path=6&version=0.1.1&release=alpha\"}]}, {\"c\": [{\"v\": \"2015-10-27T00:57:44.694484\"}, {\"v\": \"POST\"}, {\"v\": 204}, {\"v\": 0.003418}, {\"v\": \"/log/start?project=143&instance=215&user=2&page=master&path=3&version=0.1.1&release=alpha\"}]}, {\"c\": [{\"v\": \"2015-10-27T20:10:19.547390\"}, {\"v\": \"POST\"}, {\"v\": 204}, {\"v\": 0.00368}, {\"v\": \"/log/start?project=149&instance=232&user=2&page=master&path=3&version=0.1.1&release=alpha\"}]}], \"cols\": [{\"type\": \"datetime\", \"id\": \"timestamp\", \"label\": \"timestamp\"}, {\"type\": \"string\", \"id\": \"method\", \"label\": \"method\"}, {\"type\": \"number\", \"id\": \"status\", \"label\": \"status\"}, {\"type\": \"number\", \"id\": \"latency\", \"label\": \"latency\"}, {\"type\": \"string\", \"id\": \"path\", \"label\": \"path\"}]},\n",
       "            {\n",
       "              pageSize: 25,\n",
       "              cssClassNames:  {\n",
       "                tableRow: 'gchart-table-row',\n",
       "                headerRow: 'gchart-table-headerrow',\n",
       "                oddTableRow: 'gchart-table-oddrow',\n",
       "                selectedTableRow: 'gchart-table-selectedrow',\n",
       "                hoverTableRow: 'gchart-table-hoverrow',\n",
       "                tableCell: 'gchart-table-cell',\n",
       "                headerCell: 'gchart-table-headercell',\n",
       "                rowNumberCell: 'gchart-table-rownumcell'\n",
       "              }\n",
       "            },\n",
       "            {source_index: 0, fields: 'timestamp,method,status,latency,path'},\n",
       "            0,\n",
       "            5);\n",
       "        }\n",
       "      );\n",
       "    </script>\n",
       "  "
      ],
      "text/plain": [
       "QueryResultsTable job_RDk8HuzdIx5_W-CMxKKuKXBhKaA"
      ]
     },
     "execution_count": 2,
     "metadata": {},
     "output_type": "execute_result"
    }
   ],
   "source": [
    "%bq sample --count 5 --table cloud-datalab-samples.appenginelogs.sample_logs_20151027"
   ]
  },
  {
   "cell_type": "markdown",
   "metadata": {},
   "source": [
    "You can see we have five columns; the 'path' column needs the most processing. Each URI has the form `log/event?params`, where params can be one of project, instance, user, page, path, version, or release. We are going to extract these values into a separate column of type `ARRAY`."
   ]
  },
  {
   "cell_type": "markdown",
   "metadata": {},
   "source": [
    "## Creating and Testing the UDF\n",
    "\n",
    "UDFs are functions written in one of the supported languages (currently SQL and Javascript), that take a column and produces a value, after performing some computation. The BigQuery UDF documentation explains that the `CREATE TEMP FUNCTION` call is needed to define a UDF, including its parameter names and types, return type, and language. Datalab simplifies this syntax; it makes use of jsdoc-style `// @param` comments to achieve the same result. Also, it exposes UDFs as a Python class, and a magic command, to make building queries simpler. Let's see how we can do this:"
   ]
  },
  {
   "cell_type": "code",
   "execution_count": 3,
   "metadata": {
    "collapsed": false
   },
   "outputs": [
    {
     "data": {
      "text/html": [
       "\n",
       "    <div class=\"bqtv\" id=\"3_148887952709\"><table><tr><th>timestamp</th><th>method</th><th>status</th><th>latency</th><th>path</th></tr><tr><td>2015-10-27 22:00:47.660171</td><td>POST</td><td>204</td><td>0.00337</td><td>/log/signin?project=5&amp;instance=2&amp;user=54&amp;page=master&amp;path=3&amp;version=0.1.1&amp;release=alpha</td></tr><tr><td>2015-10-27 01:03:10.959946</td><td>POST</td><td>204</td><td>0.003195</td><td>/log/page?project=36&amp;instance=40&amp;user=131&amp;page=detail&amp;path=38&amp;version=0.1.1&amp;release=alpha</td></tr><tr><td>2015-10-27 01:24:18.065954</td><td>POST</td><td>204</td><td>0.003023</td><td>/log/page?project=20&amp;instance=29&amp;user=42&amp;page=detail&amp;path=6&amp;version=0.1.1&amp;release=alpha</td></tr><tr><td>2015-10-27 00:57:44.694484</td><td>POST</td><td>204</td><td>0.003418</td><td>/log/start?project=143&amp;instance=215&amp;user=2&amp;page=master&amp;path=3&amp;version=0.1.1&amp;release=alpha</td></tr><tr><td>2015-10-27 20:10:19.547390</td><td>POST</td><td>204</td><td>0.00368</td><td>/log/start?project=149&amp;instance=232&amp;user=2&amp;page=master&amp;path=3&amp;version=0.1.1&amp;release=alpha</td></tr></table></div>\n",
       "    <br />(rows: 5, time: 1.7s,   256KB processed, job: job__gM_SgEw_T7aztsO--sc4fZ6ytY)<br />\n",
       "    <script>\n",
       "\n",
       "      require.config({\n",
       "        paths: {\n",
       "          d3: '//cdnjs.cloudflare.com/ajax/libs/d3/3.4.13/d3',\n",
       "          plotly: 'https://cdn.plot.ly/plotly-1.5.1.min.js?noext',\n",
       "          jquery: '//ajax.googleapis.com/ajax/libs/jquery/2.0.0/jquery.min'\n",
       "        },\n",
       "        map: {\n",
       "          '*': {\n",
       "            datalab: 'nbextensions/gcpdatalab'\n",
       "          }\n",
       "        },\n",
       "        shim: {\n",
       "          plotly: {\n",
       "            deps: ['d3', 'jquery'],\n",
       "            exports: 'plotly'\n",
       "          }\n",
       "        }\n",
       "      });\n",
       "\n",
       "      require(['datalab/charting', 'datalab/element!3_148887952709', 'base/js/events',\n",
       "          'datalab/style!/nbextensions/gcpdatalab/charting.css'],\n",
       "        function(charts, dom, events) {\n",
       "          charts.render('gcharts', dom, events, 'table', [], {\"rows\": [{\"c\": [{\"v\": \"2015-10-27T22:00:47.660171\"}, {\"v\": \"POST\"}, {\"v\": 204}, {\"v\": 0.00337}, {\"v\": \"/log/signin?project=5&instance=2&user=54&page=master&path=3&version=0.1.1&release=alpha\"}]}, {\"c\": [{\"v\": \"2015-10-27T01:03:10.959946\"}, {\"v\": \"POST\"}, {\"v\": 204}, {\"v\": 0.003195}, {\"v\": \"/log/page?project=36&instance=40&user=131&page=detail&path=38&version=0.1.1&release=alpha\"}]}, {\"c\": [{\"v\": \"2015-10-27T01:24:18.065954\"}, {\"v\": \"POST\"}, {\"v\": 204}, {\"v\": 0.003023}, {\"v\": \"/log/page?project=20&instance=29&user=42&page=detail&path=6&version=0.1.1&release=alpha\"}]}, {\"c\": [{\"v\": \"2015-10-27T00:57:44.694484\"}, {\"v\": \"POST\"}, {\"v\": 204}, {\"v\": 0.003418}, {\"v\": \"/log/start?project=143&instance=215&user=2&page=master&path=3&version=0.1.1&release=alpha\"}]}, {\"c\": [{\"v\": \"2015-10-27T20:10:19.547390\"}, {\"v\": \"POST\"}, {\"v\": 204}, {\"v\": 0.00368}, {\"v\": \"/log/start?project=149&instance=232&user=2&page=master&path=3&version=0.1.1&release=alpha\"}]}], \"cols\": [{\"type\": \"datetime\", \"id\": \"timestamp\", \"label\": \"timestamp\"}, {\"type\": \"string\", \"id\": \"method\", \"label\": \"method\"}, {\"type\": \"number\", \"id\": \"status\", \"label\": \"status\"}, {\"type\": \"number\", \"id\": \"latency\", \"label\": \"latency\"}, {\"type\": \"string\", \"id\": \"path\", \"label\": \"path\"}]},\n",
       "            {\n",
       "              pageSize: 25,\n",
       "              cssClassNames:  {\n",
       "                tableRow: 'gchart-table-row',\n",
       "                headerRow: 'gchart-table-headerrow',\n",
       "                oddTableRow: 'gchart-table-oddrow',\n",
       "                selectedTableRow: 'gchart-table-selectedrow',\n",
       "                hoverTableRow: 'gchart-table-hoverrow',\n",
       "                tableCell: 'gchart-table-cell',\n",
       "                headerCell: 'gchart-table-headercell',\n",
       "                rowNumberCell: 'gchart-table-rownumcell'\n",
       "              }\n",
       "            },\n",
       "            {source_index: 1, fields: 'timestamp,method,status,latency,path'},\n",
       "            0,\n",
       "            5);\n",
       "        }\n",
       "      );\n",
       "    </script>\n",
       "  "
      ],
      "text/plain": [
       "QueryResultsTable job__gM_SgEw_T7aztsO--sc4fZ6ytY"
      ]
     },
     "execution_count": 3,
     "metadata": {},
     "output_type": "execute_result"
    }
   ],
   "source": [
    "%%bq query\n",
    "SELECT * FROM `cloud-datalab-samples.appenginelogs.sample_logs_20151027`\n",
    "LIMIT 5"
   ]
  },
  {
   "cell_type": "code",
   "execution_count": 4,
   "metadata": {
    "collapsed": false
   },
   "outputs": [],
   "source": [
    "%%bq udf --name extract_params -l js\n",
    "// A function to split a set of URL query parameters into an array\n",
    "// @param path STRING\n",
    "// @returns ARRAY<STRING>\n",
    "var re = /[?&]([^=]*)=([^&]*)/g;\n",
    "var result = [];\n",
    "var match;\n",
    "while ((match = re.exec(path)) != null) {\n",
    "  result.push(decodeURIComponent(match[2]));\n",
    "}\n",
    "return result;"
   ]
  },
  {
   "cell_type": "markdown",
   "metadata": {},
   "source": [
    "Now we can try calling the UDF. We need to define a query to do this. We can call our UDF like any regular function call, taking one or more columns as input."
   ]
  },
  {
   "cell_type": "code",
   "execution_count": 6,
   "metadata": {
    "collapsed": false
   },
   "outputs": [],
   "source": [
    "%%bq query -n extract_params_query --udfs extract_params\n",
    "SELECT *, extract_params(path) as parameters FROM `cloud-datalab-samples.appenginelogs.sample_logs_20151027`\n",
    "LIMIT 5"
   ]
  },
  {
   "cell_type": "code",
   "execution_count": 7,
   "metadata": {
    "collapsed": false
   },
   "outputs": [
    {
     "data": {
      "text/html": [
       "\n",
       "    <div class=\"bqtv\" id=\"5_148887959521\"><table><tr><th>timestamp</th><th>method</th><th>status</th><th>latency</th><th>path</th><th>parameters</th></tr><tr><td>2015-10-27 22:00:47.660171</td><td>POST</td><td>204</td><td>0.00337</td><td>/log/signin?project=5&amp;instance=2&amp;user=54&amp;page=master&amp;path=3&amp;version=0.1.1&amp;release=alpha</td><td>['5', '2', '54', 'master', '3', '0.1.1', 'alpha']</td></tr><tr><td>2015-10-27 01:03:10.959946</td><td>POST</td><td>204</td><td>0.003195</td><td>/log/page?project=36&amp;instance=40&amp;user=131&amp;page=detail&amp;path=38&amp;version=0.1.1&amp;release=alpha</td><td>['36', '40', '131', 'detail', '38', '0.1.1', 'alpha']</td></tr><tr><td>2015-10-27 01:24:18.065954</td><td>POST</td><td>204</td><td>0.003023</td><td>/log/page?project=20&amp;instance=29&amp;user=42&amp;page=detail&amp;path=6&amp;version=0.1.1&amp;release=alpha</td><td>['20', '29', '42', 'detail', '6', '0.1.1', 'alpha']</td></tr><tr><td>2015-10-27 00:57:44.694484</td><td>POST</td><td>204</td><td>0.003418</td><td>/log/start?project=143&amp;instance=215&amp;user=2&amp;page=master&amp;path=3&amp;version=0.1.1&amp;release=alpha</td><td>['143', '215', '2', 'master', '3', '0.1.1', 'alpha']</td></tr><tr><td>2015-10-27 20:10:19.547390</td><td>POST</td><td>204</td><td>0.00368</td><td>/log/start?project=149&amp;instance=232&amp;user=2&amp;page=master&amp;path=3&amp;version=0.1.1&amp;release=alpha</td><td>['149', '232', '2', 'master', '3', '0.1.1', 'alpha']</td></tr></table></div>\n",
       "    <br />(rows: 5, time: 6.0s,   256KB processed, job: job_zCt57EKsBwXt2oYDBZftWfinv8s)<br />\n",
       "    <script>\n",
       "\n",
       "      require.config({\n",
       "        paths: {\n",
       "          d3: '//cdnjs.cloudflare.com/ajax/libs/d3/3.4.13/d3',\n",
       "          plotly: 'https://cdn.plot.ly/plotly-1.5.1.min.js?noext',\n",
       "          jquery: '//ajax.googleapis.com/ajax/libs/jquery/2.0.0/jquery.min'\n",
       "        },\n",
       "        map: {\n",
       "          '*': {\n",
       "            datalab: 'nbextensions/gcpdatalab'\n",
       "          }\n",
       "        },\n",
       "        shim: {\n",
       "          plotly: {\n",
       "            deps: ['d3', 'jquery'],\n",
       "            exports: 'plotly'\n",
       "          }\n",
       "        }\n",
       "      });\n",
       "\n",
       "      require(['datalab/charting', 'datalab/element!5_148887959521', 'base/js/events',\n",
       "          'datalab/style!/nbextensions/gcpdatalab/charting.css'],\n",
       "        function(charts, dom, events) {\n",
       "          charts.render('gcharts', dom, events, 'table', [], {\"rows\": [{\"c\": [{\"v\": \"2015-10-27T22:00:47.660171\"}, {\"v\": \"POST\"}, {\"v\": 204}, {\"v\": 0.00337}, {\"v\": \"/log/signin?project=5&instance=2&user=54&page=master&path=3&version=0.1.1&release=alpha\"}, {\"v\": [\"5\", \"2\", \"54\", \"master\", \"3\", \"0.1.1\", \"alpha\"]}]}, {\"c\": [{\"v\": \"2015-10-27T01:03:10.959946\"}, {\"v\": \"POST\"}, {\"v\": 204}, {\"v\": 0.003195}, {\"v\": \"/log/page?project=36&instance=40&user=131&page=detail&path=38&version=0.1.1&release=alpha\"}, {\"v\": [\"36\", \"40\", \"131\", \"detail\", \"38\", \"0.1.1\", \"alpha\"]}]}, {\"c\": [{\"v\": \"2015-10-27T01:24:18.065954\"}, {\"v\": \"POST\"}, {\"v\": 204}, {\"v\": 0.003023}, {\"v\": \"/log/page?project=20&instance=29&user=42&page=detail&path=6&version=0.1.1&release=alpha\"}, {\"v\": [\"20\", \"29\", \"42\", \"detail\", \"6\", \"0.1.1\", \"alpha\"]}]}, {\"c\": [{\"v\": \"2015-10-27T00:57:44.694484\"}, {\"v\": \"POST\"}, {\"v\": 204}, {\"v\": 0.003418}, {\"v\": \"/log/start?project=143&instance=215&user=2&page=master&path=3&version=0.1.1&release=alpha\"}, {\"v\": [\"143\", \"215\", \"2\", \"master\", \"3\", \"0.1.1\", \"alpha\"]}]}, {\"c\": [{\"v\": \"2015-10-27T20:10:19.547390\"}, {\"v\": \"POST\"}, {\"v\": 204}, {\"v\": 0.00368}, {\"v\": \"/log/start?project=149&instance=232&user=2&page=master&path=3&version=0.1.1&release=alpha\"}, {\"v\": [\"149\", \"232\", \"2\", \"master\", \"3\", \"0.1.1\", \"alpha\"]}]}], \"cols\": [{\"type\": \"datetime\", \"id\": \"timestamp\", \"label\": \"timestamp\"}, {\"type\": \"string\", \"id\": \"method\", \"label\": \"method\"}, {\"type\": \"number\", \"id\": \"status\", \"label\": \"status\"}, {\"type\": \"number\", \"id\": \"latency\", \"label\": \"latency\"}, {\"type\": \"string\", \"id\": \"path\", \"label\": \"path\"}, {\"type\": \"string\", \"id\": \"parameters\", \"label\": \"parameters\"}]},\n",
       "            {\n",
       "              pageSize: 25,\n",
       "              cssClassNames:  {\n",
       "                tableRow: 'gchart-table-row',\n",
       "                headerRow: 'gchart-table-headerrow',\n",
       "                oddTableRow: 'gchart-table-oddrow',\n",
       "                selectedTableRow: 'gchart-table-selectedrow',\n",
       "                hoverTableRow: 'gchart-table-hoverrow',\n",
       "                tableCell: 'gchart-table-cell',\n",
       "                headerCell: 'gchart-table-headercell',\n",
       "                rowNumberCell: 'gchart-table-rownumcell'\n",
       "              }\n",
       "            },\n",
       "            {source_index: 3, fields: 'timestamp,method,status,latency,path,parameters'},\n",
       "            0,\n",
       "            5);\n",
       "        }\n",
       "      );\n",
       "    </script>\n",
       "  "
      ],
      "text/plain": [
       "QueryResultsTable job_zCt57EKsBwXt2oYDBZftWfinv8s"
      ]
     },
     "execution_count": 7,
     "metadata": {},
     "output_type": "execute_result"
    }
   ],
   "source": [
    "%bq execute -q extract_params_query"
   ]
  },
  {
   "cell_type": "markdown",
   "metadata": {},
   "source": [
    "In order to see the actual expanded SQL, including the UDF defined above, we can inspect the query object, by typing its name:"
   ]
  },
  {
   "cell_type": "code",
   "execution_count": 8,
   "metadata": {
    "collapsed": false
   },
   "outputs": [
    {
     "data": {
      "text/html": [
       "<pre>CREATE TEMPORARY FUNCTION extract_params (path STRING)\n",
       "RETURNS ARRAY&lt;STRING&gt;\n",
       "LANGUAGE js\n",
       "AS \"\"\"\n",
       "// A function to split a set of URL query parameters into an array\n",
       "// @param path STRING\n",
       "// @returns ARRAY&lt;STRING&gt;\n",
       "var re = /[?&amp;]([^=]*)=([^&amp;]*)/g;\n",
       "var result = [];\n",
       "var match;\n",
       "while ((match = re.exec(path)) != null) {\n",
       "  result.push(decodeURIComponent(match[2]));\n",
       "}\n",
       "return result;\n",
       "\"\"\"\n",
       "OPTIONS (\n",
       "\n",
       ");\n",
       "SELECT *, extract_params(path) as parameters FROM `cloud-datalab-samples.appenginelogs.sample_logs_20151027`\n",
       "LIMIT 5</pre>"
      ],
      "text/plain": [
       "BigQuery Query - SELECT *, extract_params(path) as parameters FROM `cloud-datalab-samples.appenginelogs.sample_logs_20151027`\n",
       "LIMIT 5"
      ]
     },
     "execution_count": 8,
     "metadata": {},
     "output_type": "execute_result"
    }
   ],
   "source": [
    "extract_params_query"
   ]
  },
  {
   "cell_type": "markdown",
   "metadata": {},
   "source": [
    "## Next Steps\n",
    "\n",
    "You can learn how to test your UDF in the notebook by following the [UDF Testing in the Notebook](notebooks/datalab/tutorials/BigQuery/UDF%20Testing%20in%20the%20Notebook.ipynb) tutorial. If you have code that you regularly use in your UDFs, you can factor it out and put it in Google Cloud Storage, then import it. This technique is covered in the [UDFs using Code in Cloud Storage](notebooks/datalab/tutorials/BigQuery/UDFs%20using%20Code%20in%20Cloud%20Storage.ipynb) tutorial."
   ]
  }
 ],
 "metadata": {
  "kernelspec": {
   "display_name": "Python 2",
   "language": "python",
   "name": "python2"
  },
  "language_info": {
   "codemirror_mode": {
    "name": "ipython",
    "version": 2
   },
   "file_extension": ".py",
   "mimetype": "text/x-python",
   "name": "python",
   "nbconvert_exporter": "python",
   "pygments_lexer": "ipython2",
   "version": "2.7.9"
  }
 },
 "nbformat": 4,
 "nbformat_minor": 0
}
