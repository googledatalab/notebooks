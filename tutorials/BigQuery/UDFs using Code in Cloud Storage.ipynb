{
 "cells": [
  {
   "cell_type": "markdown",
   "metadata": {},
   "source": [
    "# UDFs using Code in Cloud Storage\n",
    "\n",
    "This notebook shows you how to use Javascript UDFs (user-defined functions) in Google BigQuery that reference Javascript code stored in Google Cloud Storage. Storing your UDF support code in Cloud Storage allows you to reuse well tested code and share it across multiple notebooks.\n",
    "\n",
    "Before using this tutorial, you should go through the [UDFs in BigQuery](notebooks/datalab/tutorials/BigQuery/UDFs%20in%20BigQuery.ipynb) tutorial, which discusses how to use UDFs in notebooks without external code, and the [UDF Testing in the Notebook](notebooks/datalab/tutorials/BigQuery/UDF%20Testing%20in%20the%20Notebook.ipynb) tutorial, which shows you how to run and test your Javascript code in the notebook.\n",
    "\n",
    "You can read more about UDFs [here](https://cloud.google.com/bigquery/docs/reference/standard-sql/user-defined-functions). \n"
   ]
  },
  {
   "cell_type": "markdown",
   "metadata": {},
   "source": [
    "## Scenario\n",
    "\n",
    "This notebook repeats a scenario presented in other notebooks: looking at anonymized logs that originated in Google AppEngine. \n",
    "\n",
    "With BigQuery, it is possible to store and reference your UDFs in Google Cloud Storage. Let's see how we can do this within Datalab"
   ]
  },
  {
   "cell_type": "markdown",
   "metadata": {},
   "source": [
    "## Moving the Code to GCS\n",
    "\n",
    "Recall from the previous notebook [UDF Testing in the Notebook](notebooks/datalab/tutorials/BigQuery/UDF%20Testing%20in%20the%20Notebook.ipynb) how we can add a Javascript UDF and test it. We can use the Javascript IPython kernel module to communicate the UDF code over to the Python environment after we test it, where we can then use it in other Python cells:"
   ]
  },
  {
   "cell_type": "code",
   "execution_count": 1,
   "metadata": {
    "collapsed": false
   },
   "outputs": [
    {
     "data": {
      "application/javascript": [
       "\n",
       "/**\n",
       " * Our UDF function, which splits a set of URL query parameters into an array\n",
       " */\n",
       "function getParameters(path) {\n",
       "  var re = /[?&]([^=]*)=([^&]*)/g;\n",
       "  var result = [];\n",
       "  var match;\n",
       "  while ((match = re.exec(path)) != null) {\n",
       "    result.push(decodeURIComponent(match[2]));\n",
       "  }\n",
       "  return result;\n",
       "}\n",
       "\n",
       "// Now we want to test the UDF. We can try calling it using a sample line from our table.\n",
       "// Note that the variable `element` is available to us to create output in the notebook,\n",
       "// so our test emitter will use that variable to display the fields.\n",
       "var test_path = '/log/page?project=14&instance=81&user=16&page=master&path=63&version=0.1.1&release=alpha'\n",
       "var test_results = ['14', '81', '16', 'master', '63', '0.1.1', 'alpha']\n",
       "\n",
       "var params = getParameters(test_path);\n",
       "var code = 'JsUDFCode = None'\n",
       "if (JSON.stringify(params) == JSON.stringify(test_results)) {\n",
       "  element.append('OK')\n",
       "  code = 'JsUDFCode = \"\"\"' + getParameters.toString() + '\"\"\"';\n",
       "} else {\n",
       "  element.append('Failed')\n",
       "}\n",
       "\n",
       "IPython.notebook.kernel.execute(code);"
      ],
      "text/plain": [
       "<IPython.core.display.Javascript object>"
      ]
     },
     "metadata": {},
     "output_type": "display_data"
    }
   ],
   "source": [
    "%%javascript\n",
    "\n",
    "/**\n",
    " * Our UDF function, which splits a set of URL query parameters into an array\n",
    " */\n",
    "function getParameters(path) {\n",
    "  var re = /[?&]([^=]*)=([^&]*)/g;\n",
    "  var result = [];\n",
    "  var match;\n",
    "  while ((match = re.exec(path)) != null) {\n",
    "    result.push(decodeURIComponent(match[2]));\n",
    "  }\n",
    "  return result;\n",
    "}\n",
    "\n",
    "// Now we want to test the UDF. We can try calling it using a sample line from our table.\n",
    "// Note that the variable `element` is available to us to create output in the notebook,\n",
    "// so our test emitter will use that variable to display the fields.\n",
    "var test_path = '/log/page?project=14&instance=81&user=16&page=master&path=63&version=0.1.1&release=alpha'\n",
    "var test_results = ['14', '81', '16', 'master', '63', '0.1.1', 'alpha']\n",
    "\n",
    "var params = getParameters(test_path);\n",
    "var code = 'JsUDFCode = None'\n",
    "if (JSON.stringify(params) == JSON.stringify(test_results)) {\n",
    "  element.append('OK')\n",
    "  code = 'JsUDFCode = \"\"\"' + getParameters.toString() + '\"\"\"';\n",
    "} else {\n",
    "  element.append('Failed')\n",
    "}\n",
    "\n",
    "IPython.notebook.kernel.execute(code);"
   ]
  },
  {
   "cell_type": "markdown",
   "metadata": {},
   "source": [
    "Make sure we copied over the code from Javascript. If this cell fails, it is because the execute(code) call above has not finished."
   ]
  },
  {
   "cell_type": "code",
   "execution_count": 4,
   "metadata": {
    "collapsed": false
   },
   "outputs": [
    {
     "name": "stdout",
     "output_type": "stream",
     "text": [
      "function getParameters(path) {\n",
      "  var re = /[?&]([^=]*)=([^&]*)/g;\n",
      "  var result = [];\n",
      "  var match;\n",
      "  while ((match = re.exec(path)) != null) {\n",
      "    result.push(decodeURIComponent(match[2]));\n",
      "  }\n",
      "  return result;\n",
      "}\n"
     ]
    }
   ],
   "source": [
    "print JsUDFCode"
   ]
  },
  {
   "cell_type": "markdown",
   "metadata": {},
   "source": [
    "Now that the testing is done, let's create a file in Cloud Storage to hold the bulk of the code. We can do that in the notebook. The name of the bucket will be project dependent, so you will need to complete and execute this code."
   ]
  },
  {
   "cell_type": "code",
   "execution_count": 6,
   "metadata": {
    "collapsed": false
   },
   "outputs": [
    {
     "name": "stdout",
     "output_type": "stream",
     "text": [
      "gs://mysampleproject-datalab-udf-samples/udf_library.js\n"
     ]
    }
   ],
   "source": [
    "from google.datalab import Context\n",
    "import google.datalab.storage as gs\n",
    "\n",
    "# Get a bucket in the current project\n",
    "project = Context.default().project_id\n",
    "sample_bucket_name = project + '-datalab-udf-samples'\n",
    "\n",
    "# Create the storage bucket and code library object\n",
    "sample_bucket = gs.Bucket(sample_bucket_name)\n",
    "sample_bucket.create()\n",
    "sample_object = sample_bucket.object('udf_library.js')\n",
    "sample_object.write_stream(JsUDFCode, 'application/javascript')\n",
    "\n",
    "# Print the URI of the library object to use in @import\n",
    "print sample_object.uri"
   ]
  },
  {
   "cell_type": "markdown",
   "metadata": {},
   "source": [
    "Once the code is copied to Cloud Storage, we can refer to it in the UDF jsdoc comment header using `@import`. You can have more than one `@import` if necessary. Note that in the cell below, you need to change the `@import` path to include your project instead of `mysampleproject`. You can use the URI output from the cell above as the argument to `@import`."
   ]
  },
  {
   "cell_type": "code",
   "execution_count": 10,
   "metadata": {
    "collapsed": false
   },
   "outputs": [],
   "source": [
    "%%bq udf -n externalized_udf -l js\n",
    "// @returns ARRAY<STRING>\n",
    "// @param path STRING\n",
    "// @import gs://mysampleproject-datalab-udf-samples/udf_library.js\n",
    "return getParameters(path)"
   ]
  },
  {
   "cell_type": "markdown",
   "metadata": {},
   "source": [
    "And now we can test it:"
   ]
  },
  {
   "cell_type": "code",
   "execution_count": 13,
   "metadata": {
    "collapsed": false
   },
   "outputs": [],
   "source": [
    "%%bq query --name log_query --udfs externalized_udf\n",
    "SELECT *, externalized_udf(path) as parameters FROM `cloud-datalab-samples.appenginelogs.sample_logs_20151027`\n",
    "LIMIT 5"
   ]
  },
  {
   "cell_type": "code",
   "execution_count": 15,
   "metadata": {
    "collapsed": false
   },
   "outputs": [
    {
     "data": {
      "text/html": [
       "\n",
       "    <div class=\"bqtv\" id=\"2_148888012021\"><table><tr><th>timestamp</th><th>method</th><th>status</th><th>latency</th><th>path</th><th>parameters</th></tr><tr><td>2015-10-27 22:00:47.660171</td><td>POST</td><td>204</td><td>0.00337</td><td>/log/signin?project=5&amp;instance=2&amp;user=54&amp;page=master&amp;path=3&amp;version=0.1.1&amp;release=alpha</td><td>['5', '2', '54', 'master', '3', '0.1.1', 'alpha']</td></tr><tr><td>2015-10-27 01:03:10.959946</td><td>POST</td><td>204</td><td>0.003195</td><td>/log/page?project=36&amp;instance=40&amp;user=131&amp;page=detail&amp;path=38&amp;version=0.1.1&amp;release=alpha</td><td>['36', '40', '131', 'detail', '38', '0.1.1', 'alpha']</td></tr><tr><td>2015-10-27 01:24:18.065954</td><td>POST</td><td>204</td><td>0.003023</td><td>/log/page?project=20&amp;instance=29&amp;user=42&amp;page=detail&amp;path=6&amp;version=0.1.1&amp;release=alpha</td><td>['20', '29', '42', 'detail', '6', '0.1.1', 'alpha']</td></tr><tr><td>2015-10-27 00:57:44.694484</td><td>POST</td><td>204</td><td>0.003418</td><td>/log/start?project=143&amp;instance=215&amp;user=2&amp;page=master&amp;path=3&amp;version=0.1.1&amp;release=alpha</td><td>['143', '215', '2', 'master', '3', '0.1.1', 'alpha']</td></tr><tr><td>2015-10-27 20:10:19.547390</td><td>POST</td><td>204</td><td>0.00368</td><td>/log/start?project=149&amp;instance=232&amp;user=2&amp;page=master&amp;path=3&amp;version=0.1.1&amp;release=alpha</td><td>['149', '232', '2', 'master', '3', '0.1.1', 'alpha']</td></tr></table></div>\n",
       "    <br />(rows: 5, time: 4.5s,   256KB processed, job: job_tNZqe-dwx_o6t0McL76Egeu9FHA)<br />\n",
       "    <script>\n",
       "\n",
       "      require.config({\n",
       "        paths: {\n",
       "          d3: '//cdnjs.cloudflare.com/ajax/libs/d3/3.4.13/d3',\n",
       "          plotly: 'https://cdn.plot.ly/plotly-1.5.1.min.js?noext',\n",
       "          jquery: '//ajax.googleapis.com/ajax/libs/jquery/2.0.0/jquery.min'\n",
       "        },\n",
       "        map: {\n",
       "          '*': {\n",
       "            datalab: 'nbextensions/gcpdatalab'\n",
       "          }\n",
       "        },\n",
       "        shim: {\n",
       "          plotly: {\n",
       "            deps: ['d3', 'jquery'],\n",
       "            exports: 'plotly'\n",
       "          }\n",
       "        }\n",
       "      });\n",
       "\n",
       "      require(['datalab/charting', 'datalab/element!2_148888012021', 'base/js/events',\n",
       "          'datalab/style!/nbextensions/gcpdatalab/charting.css'],\n",
       "        function(charts, dom, events) {\n",
       "          charts.render('gcharts', dom, events, 'table', [], {\"rows\": [{\"c\": [{\"v\": \"2015-10-27T22:00:47.660171\"}, {\"v\": \"POST\"}, {\"v\": 204}, {\"v\": 0.00337}, {\"v\": \"/log/signin?project=5&instance=2&user=54&page=master&path=3&version=0.1.1&release=alpha\"}, {\"v\": [\"5\", \"2\", \"54\", \"master\", \"3\", \"0.1.1\", \"alpha\"]}]}, {\"c\": [{\"v\": \"2015-10-27T01:03:10.959946\"}, {\"v\": \"POST\"}, {\"v\": 204}, {\"v\": 0.003195}, {\"v\": \"/log/page?project=36&instance=40&user=131&page=detail&path=38&version=0.1.1&release=alpha\"}, {\"v\": [\"36\", \"40\", \"131\", \"detail\", \"38\", \"0.1.1\", \"alpha\"]}]}, {\"c\": [{\"v\": \"2015-10-27T01:24:18.065954\"}, {\"v\": \"POST\"}, {\"v\": 204}, {\"v\": 0.003023}, {\"v\": \"/log/page?project=20&instance=29&user=42&page=detail&path=6&version=0.1.1&release=alpha\"}, {\"v\": [\"20\", \"29\", \"42\", \"detail\", \"6\", \"0.1.1\", \"alpha\"]}]}, {\"c\": [{\"v\": \"2015-10-27T00:57:44.694484\"}, {\"v\": \"POST\"}, {\"v\": 204}, {\"v\": 0.003418}, {\"v\": \"/log/start?project=143&instance=215&user=2&page=master&path=3&version=0.1.1&release=alpha\"}, {\"v\": [\"143\", \"215\", \"2\", \"master\", \"3\", \"0.1.1\", \"alpha\"]}]}, {\"c\": [{\"v\": \"2015-10-27T20:10:19.547390\"}, {\"v\": \"POST\"}, {\"v\": 204}, {\"v\": 0.00368}, {\"v\": \"/log/start?project=149&instance=232&user=2&page=master&path=3&version=0.1.1&release=alpha\"}, {\"v\": [\"149\", \"232\", \"2\", \"master\", \"3\", \"0.1.1\", \"alpha\"]}]}], \"cols\": [{\"type\": \"datetime\", \"id\": \"timestamp\", \"label\": \"timestamp\"}, {\"type\": \"string\", \"id\": \"method\", \"label\": \"method\"}, {\"type\": \"number\", \"id\": \"status\", \"label\": \"status\"}, {\"type\": \"number\", \"id\": \"latency\", \"label\": \"latency\"}, {\"type\": \"string\", \"id\": \"path\", \"label\": \"path\"}, {\"type\": \"string\", \"id\": \"parameters\", \"label\": \"parameters\"}]},\n",
       "            {\n",
       "              pageSize: 25,\n",
       "              cssClassNames:  {\n",
       "                tableRow: 'gchart-table-row',\n",
       "                headerRow: 'gchart-table-headerrow',\n",
       "                oddTableRow: 'gchart-table-oddrow',\n",
       "                selectedTableRow: 'gchart-table-selectedrow',\n",
       "                hoverTableRow: 'gchart-table-hoverrow',\n",
       "                tableCell: 'gchart-table-cell',\n",
       "                headerCell: 'gchart-table-headercell',\n",
       "                rowNumberCell: 'gchart-table-rownumcell'\n",
       "              }\n",
       "            },\n",
       "            {source_index: 1, fields: 'timestamp,method,status,latency,path,parameters'},\n",
       "            0,\n",
       "            5);\n",
       "        }\n",
       "      );\n",
       "    </script>\n",
       "  "
      ],
      "text/plain": [
       "QueryResultsTable job_tNZqe-dwx_o6t0McL76Egeu9FHA"
      ]
     },
     "execution_count": 15,
     "metadata": {},
     "output_type": "execute_result"
    }
   ],
   "source": [
    "%bq execute --query log_query"
   ]
  },
  {
   "cell_type": "markdown",
   "metadata": {},
   "source": [
    "If we inspect the query to see its expanded SQL, we can see all it has is a simple UDF that imports some code from the Cloud Storage location we stored it in."
   ]
  },
  {
   "cell_type": "code",
   "execution_count": 20,
   "metadata": {
    "collapsed": false
   },
   "outputs": [
    {
     "name": "stdout",
     "output_type": "stream",
     "text": [
      "CREATE TEMPORARY FUNCTION externalized_udf (path STRING)\n",
      "RETURNS ARRAY<STRING>\n",
      "LANGUAGE js\n",
      "AS \"\"\"\n",
      "// @returns ARRAY<STRING>\n",
      "// @param path STRING\n",
      "// @import gs://mysampleproject-datalab-udf-samples/udf_library.js\n",
      "return getParameters(path)\n",
      "\"\"\"\n",
      "OPTIONS (\n",
      "library=\"gs://mysampleproject-datalab-udf-samples/udf_library.js\"\n",
      ");\n",
      "SELECT *, externalized_udf(path) as parameters FROM `cloud-datalab-samples.appenginelogs.sample_logs_20151027`\n",
      "LIMIT 5\n"
     ]
    }
   ],
   "source": [
    "log_query"
   ]
  },
  {
   "cell_type": "markdown",
   "metadata": {},
   "source": [
    "## Cleaning Up\n",
    "\n",
    "Since this is a tutorial, we should clean up the objects we created in Cloud Storage."
   ]
  },
  {
   "cell_type": "code",
   "execution_count": 21,
   "metadata": {
    "collapsed": false
   },
   "outputs": [],
   "source": [
    "sample_object.delete()\n",
    "sample_bucket.delete()"
   ]
  }
 ],
 "metadata": {
  "kernelspec": {
   "display_name": "Python 2",
   "language": "python",
   "name": "python2"
  },
  "language_info": {
   "codemirror_mode": {
    "name": "ipython",
    "version": 2
   },
   "file_extension": ".py",
   "mimetype": "text/x-python",
   "name": "python",
   "nbconvert_exporter": "python",
   "pygments_lexer": "ipython2",
   "version": "2.7.9"
  }
 },
 "nbformat": 4,
 "nbformat_minor": 0
}
