{
 "cells": [
  {
   "cell_type": "markdown",
   "metadata": {},
   "source": [
    "# Using External Tables from BigQuery\n",
    "\n",
    "Google BigQuery has the ability to query data directly from Google Cloud Storage (a feature called \"External Data Sources\"). This feature can be useful when querying small amounts of data that you may not want to load into a BigQuery table. It is not recommended for large queries, however, because BigQuery billing is based on the amount of data read to process a query. BigQuery can very efficiently query subsets of tables in its own store since these are stored in columnar format, so the unused columns are not read and don't add to the cost. But since data stored in Cloud Storage is typically in the form of a compressed CSV file, typically, the entire file must be read. Hence, while querying data in Cloud Storage can he helpful, it should be used judiciously. \n",
    "\n",
    "In this notebook we will show you how to download data from a source on the Internet, put it in Cloud Storage, and then query it directly."
   ]
  },
  {
   "cell_type": "markdown",
   "metadata": {},
   "source": [
    "## Getting the Data and Loading into GCS\n",
    "\n",
    "For this sample we want to use external data in a CSV, load it into Cloud Storage, and query it. We will use the Seattle bike station data from the [Pronto 2015 Data Challenge dataset](https://www.prontocycleshare.com/datachallenge).\n"
   ]
  },
  {
   "cell_type": "code",
   "execution_count": 1,
   "metadata": {
    "collapsed": true
   },
   "outputs": [],
   "source": [
    "from google.datalab import Context\n",
    "import google.datalab.bigquery as bq\n",
    "import google.datalab.storage as gs"
   ]
  },
  {
   "cell_type": "code",
   "execution_count": 1,
   "metadata": {
    "collapsed": false
   },
   "outputs": [
    {
     "name": "stdout",
     "output_type": "stream",
     "text": [
      "Read 4230 bytes\n"
     ]
    }
   ],
   "source": [
    "try:\n",
    "  from urllib2 import urlopen\n",
    "except ImportError:\n",
    "  from urllib.request import urlopen\n",
    "data_source = \"https://storage.googleapis.com/cloud-datalab-samples/udfsample/2015_station_data.csv\"\n",
    "\n",
    "f = urlopen(data_source)\n",
    "data = f.read()\n",
    "f.close()\n",
    "\n",
    "print('Read %d bytes' % len(data))"
   ]
  },
  {
   "cell_type": "code",
   "execution_count": 3,
   "metadata": {
    "collapsed": false
   },
   "outputs": [],
   "source": [
    "# Get a bucket in the current project\n",
    "project = Context.default().project_id\n",
    "sample_bucket_name = project + '-station_data'\n",
    "\n",
    "# Create and write to the GCS item\n",
    "sample_bucket = gs.Bucket(sample_bucket_name)\n",
    "sample_bucket.create()\n",
    "sample_object = sample_bucket.object('station_data.csv')\n",
    "sample_object.write_stream(data, 'text/plain')"
   ]
  },
  {
   "cell_type": "markdown",
   "metadata": {},
   "source": [
    "## Creating an External Data Source Object\n",
    "\n",
    "Now we need to create a special `ExternalDataSource` object that refers to the data, which can, in turn, be used as a table in our BigQuery queries. We need to provide a schema for BigQuery to use the data. The CSV file has a header row that we want to skip; we will use a `CSVOptions` object to do this."
   ]
  },
  {
   "cell_type": "code",
   "execution_count": 23,
   "metadata": {
    "collapsed": false
   },
   "outputs": [],
   "source": [
    "options = bq.CSVOptions(skip_leading_rows=1) # Skip the header row\n",
    "\n",
    "schema = bq.Schema([\n",
    "  {'name': 'id', 'type': 'INTEGER'},         # row ID\n",
    "  {'name': 'name', 'type': 'STRING'},        # friendly name\n",
    "  {'name': 'terminal', 'type': 'STRING'},    # terminal ID\n",
    "  {'name': 'lat', 'type': 'FLOAT'},          # latitude\n",
    "  {'name': 'long', 'type': 'FLOAT'},         # longitude\n",
    "  {'name': 'dockcount', 'type': 'INTEGER'},  # bike capacity\n",
    "  {'name': 'online', 'type': 'STRING'}       # date station opened\n",
    "])\n",
    "\n",
    "drivedata = bq.ExternalDataSource(source=sample_object.uri, # The gs:// URL of the file \n",
    "                                  csv_options=options,\n",
    "                                  schema=schema,\n",
    "                                  max_bad_records=10)"
   ]
  },
  {
   "cell_type": "code",
   "execution_count": 24,
   "metadata": {
    "collapsed": false
   },
   "outputs": [
    {
     "data": {
      "text/plain": [
       "BigQuery External Datasource - paths: gs://yelsayed-project1-station_data/station_data.csv"
      ]
     },
     "execution_count": 24,
     "metadata": {},
     "output_type": "execute_result"
    }
   ],
   "source": [
    "drivedata"
   ]
  },
  {
   "cell_type": "markdown",
   "metadata": {},
   "source": [
    "## Querying the Table\n",
    "\n",
    "Now let's verify that we can access the data. We will run a simple query to show the first five rows. Note that we specify the federated table by using a name in the query, and then pass the table in using a `data_sources` dictionary parameter."
   ]
  },
  {
   "cell_type": "code",
   "execution_count": 21,
   "metadata": {
    "collapsed": false
   },
   "outputs": [
    {
     "data": {
      "text/html": [
       "\n",
       "    <div class=\"bqtv\" id=\"3_148888066050\"><table><tr><th>id</th><th>name</th><th>terminal</th><th>lat</th><th>long</th><th>dockcount</th><th>online</th></tr><tr><td>4</td><td>2nd Ave &amp; Blanchard St</td><td>BT-05</td><td>47.61311</td><td>-122.344208</td><td>14</td><td>10/13/2014</td></tr><tr><td>3</td><td>6th Ave &amp; Blanchard St</td><td>BT-04</td><td>47.616094</td><td>-122.341102</td><td>16</td><td>10/13/2014</td></tr><tr><td>2</td><td>2nd Ave &amp; Vine St</td><td>BT-03</td><td>47.615829</td><td>-122.348564</td><td>16</td><td>10/13/2014</td></tr><tr><td>1</td><td>3rd Ave &amp; Broad St</td><td>BT-01</td><td>47.618418</td><td>-122.350964</td><td>18</td><td>10/13/2014</td></tr><tr><td>5</td><td>2nd Ave &amp; Pine St</td><td>CBD-13</td><td>47.610185</td><td>-122.339641</td><td>18</td><td>10/13/2014</td></tr></table></div>\n",
       "    <br />(rows: 5, time: 2.4s,     4KB processed, job: job_K_B1UXklE05N5hkcN2SINo33tBg)<br />\n",
       "    <script>\n",
       "\n",
       "      require.config({\n",
       "        paths: {\n",
       "          d3: '//cdnjs.cloudflare.com/ajax/libs/d3/3.4.13/d3',\n",
       "          plotly: 'https://cdn.plot.ly/plotly-1.5.1.min.js?noext',\n",
       "          jquery: '//ajax.googleapis.com/ajax/libs/jquery/2.0.0/jquery.min'\n",
       "        },\n",
       "        map: {\n",
       "          '*': {\n",
       "            datalab: 'nbextensions/gcpdatalab'\n",
       "          }\n",
       "        },\n",
       "        shim: {\n",
       "          plotly: {\n",
       "            deps: ['d3', 'jquery'],\n",
       "            exports: 'plotly'\n",
       "          }\n",
       "        }\n",
       "      });\n",
       "\n",
       "      require(['datalab/charting', 'datalab/element!3_148888066050', 'base/js/events',\n",
       "          'datalab/style!/nbextensions/gcpdatalab/charting.css'],\n",
       "        function(charts, dom, events) {\n",
       "          charts.render('gcharts', dom, events, 'table', [], {\"rows\": [{\"c\": [{\"v\": 4}, {\"v\": \"2nd Ave & Blanchard St\"}, {\"v\": \"BT-05\"}, {\"v\": 47.61311}, {\"v\": -122.344208}, {\"v\": 14}, {\"v\": \"10/13/2014\"}]}, {\"c\": [{\"v\": 3}, {\"v\": \"6th Ave & Blanchard St\"}, {\"v\": \"BT-04\"}, {\"v\": 47.616094}, {\"v\": -122.341102}, {\"v\": 16}, {\"v\": \"10/13/2014\"}]}, {\"c\": [{\"v\": 2}, {\"v\": \"2nd Ave & Vine St\"}, {\"v\": \"BT-03\"}, {\"v\": 47.615829}, {\"v\": -122.348564}, {\"v\": 16}, {\"v\": \"10/13/2014\"}]}, {\"c\": [{\"v\": 1}, {\"v\": \"3rd Ave & Broad St\"}, {\"v\": \"BT-01\"}, {\"v\": 47.618418}, {\"v\": -122.350964}, {\"v\": 18}, {\"v\": \"10/13/2014\"}]}, {\"c\": [{\"v\": 5}, {\"v\": \"2nd Ave & Pine St\"}, {\"v\": \"CBD-13\"}, {\"v\": 47.610185}, {\"v\": -122.339641}, {\"v\": 18}, {\"v\": \"10/13/2014\"}]}], \"cols\": [{\"type\": \"number\", \"id\": \"id\", \"label\": \"id\"}, {\"type\": \"string\", \"id\": \"name\", \"label\": \"name\"}, {\"type\": \"string\", \"id\": \"terminal\", \"label\": \"terminal\"}, {\"type\": \"number\", \"id\": \"lat\", \"label\": \"lat\"}, {\"type\": \"number\", \"id\": \"long\", \"label\": \"long\"}, {\"type\": \"number\", \"id\": \"dockcount\", \"label\": \"dockcount\"}, {\"type\": \"string\", \"id\": \"online\", \"label\": \"online\"}]},\n",
       "            {\n",
       "              pageSize: 25,\n",
       "              cssClassNames:  {\n",
       "                tableRow: 'gchart-table-row',\n",
       "                headerRow: 'gchart-table-headerrow',\n",
       "                oddTableRow: 'gchart-table-oddrow',\n",
       "                selectedTableRow: 'gchart-table-selectedrow',\n",
       "                hoverTableRow: 'gchart-table-hoverrow',\n",
       "                tableCell: 'gchart-table-cell',\n",
       "                headerCell: 'gchart-table-headercell',\n",
       "                rowNumberCell: 'gchart-table-rownumcell'\n",
       "              }\n",
       "            },\n",
       "            {source_index: 2, fields: 'id,name,terminal,lat,long,dockcount,online'},\n",
       "            0,\n",
       "            5);\n",
       "        }\n",
       "      );\n",
       "    </script>\n",
       "  "
      ],
      "text/plain": [
       "QueryResultsTable job_K_B1UXklE05N5hkcN2SINo33tBg"
      ]
     },
     "execution_count": 21,
     "metadata": {},
     "output_type": "execute_result"
    }
   ],
   "source": [
    "bq.Query('SELECT * FROM drivedatasource LIMIT 5', data_sources={'drivedatasource': drivedata}).execute().result()"
   ]
  },
  {
   "cell_type": "markdown",
   "metadata": {},
   "source": [
    "Finally, let's clean up."
   ]
  },
  {
   "cell_type": "code",
   "execution_count": 25,
   "metadata": {
    "collapsed": false
   },
   "outputs": [],
   "source": [
    "sample_object.delete()\n",
    "sample_bucket.delete()"
   ]
  }
 ],
 "metadata": {
  "kernelspec": {
   "display_name": "Python 2",
   "language": "python",
   "name": "python2"
  },
  "language_info": {
   "codemirror_mode": {
    "name": "ipython",
    "version": 2
   },
   "file_extension": ".py",
   "mimetype": "text/x-python",
   "name": "python",
   "nbconvert_exporter": "python",
   "pygments_lexer": "ipython2",
   "version": "2.7.9"
  }
 },
 "nbformat": 4,
 "nbformat_minor": 0
}
