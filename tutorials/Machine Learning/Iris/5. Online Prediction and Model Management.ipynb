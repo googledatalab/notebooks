{
 "cells": [
  {
   "cell_type": "markdown",
   "metadata": {},
   "source": [
    "## Deployment\n",
    "\n",
    "Once you are happy with a trained model, you can upload the model so it can serve online prediction requests."
   ]
  },
  {
   "cell_type": "code",
   "execution_count": 5,
   "metadata": {
    "collapsed": true
   },
   "outputs": [],
   "source": [
    "import os\n",
    "\n",
    "bucket = 'gs://' + datalab_project_id() + '-sampledata'\n",
    "model_path = os.path.join(bucket, 'iris', 'trained', 'model')"
   ]
  },
  {
   "cell_type": "code",
   "execution_count": 7,
   "metadata": {
    "collapsed": false
   },
   "outputs": [],
   "source": [
    "%mlalpha deploy --name iris.v1 --path $model_path"
   ]
  },
  {
   "cell_type": "markdown",
   "metadata": {},
   "source": [
    "Listing models under current project and view a model details."
   ]
  },
  {
   "cell_type": "code",
   "execution_count": 8,
   "metadata": {
    "collapsed": false
   },
   "outputs": [
    {
     "data": {
      "text/html": [
       "<table><tr><th>name</th></tr><tr><td>projects/cloud-ml-test-automated/models/batchpredict_5c1626fa_7c35_11e6_8774_94eb2c0b8800</td></tr><tr><td>projects/cloud-ml-test-automated/models/batchpredict_b360e247_7d60_11e6_91b2_001a114f8c56</td></tr><tr><td>projects/cloud-ml-test-automated/models/census</td></tr><tr><td>projects/cloud-ml-test-automated/models/iris</td></tr><tr><td>projects/cloud-ml-test-automated/models/model_service_test_1cda2fcf_7f58_11e6_a965_94eb2c18de50</td></tr><tr><td>projects/cloud-ml-test-automated/models/model_service_test_3b82fb82_7d61_11e6_84d2_001a114f8c56</td></tr><tr><td>projects/cloud-ml-test-automated/models/model_service_test_66120de8_7dc5_11e6_91ea_001a114f8c56</td></tr><tr><td>projects/cloud-ml-test-automated/models/model_service_test_7015bf70_7e2a_11e6_acec_001a114f8c56</td></tr><tr><td>projects/cloud-ml-test-automated/models/model_service_test_740e0fbd_7cfc_11e6_a0cf_001a114f8c56</td></tr><tr><td>projects/cloud-ml-test-automated/models/model_service_test_ab612c87_7c34_11e6_a882_94eb2c0b8800</td></tr><tr><td>projects/cloud-ml-test-automated/models/model_service_test_afeb4cfd_7e8f_11e6_a0b6_94eb2c18c08a</td></tr><tr><td>projects/cloud-ml-test-automated/models/model_service_test_ce285e7a_7c97_11e6_bd6d_94eb2c13b91e</td></tr><tr><td>projects/cloud-ml-test-automated/models/model_service_test_db4e4145_7ef3_11e6_a257_94eb2c0ba048</td></tr></table>"
      ],
      "text/plain": [
       "<IPython.core.display.HTML object>"
      ]
     },
     "execution_count": 8,
     "metadata": {},
     "output_type": "execute_result"
    }
   ],
   "source": [
    "%mlalpha model"
   ]
  },
  {
   "cell_type": "code",
   "execution_count": 9,
   "metadata": {
    "collapsed": false
   },
   "outputs": [
    {
     "data": {
      "text/html": [
       "<table><tr><th>deploymentUri</th><th>name</th><th>createTime</th></tr><tr><td>gs://cloud-ml-test-automated-sampledata/iris/trained/model</td><td>projects/cloud-ml-test-automated/models/iris/versions/v1</td><td>2016-09-29T06:04:09Z</td></tr><tr><td>gs://cloud-ml-test-automated-us-central1/test_output/e4a34922-8585-11e6-b8ae-001a113fc5ec/output/model/tmp/train_160928_141955_f90e/model/model</td><td>projects/cloud-ml-test-automated/models/iris/versions/vc637</td><td>2016-09-28T14:38:08Z</td></tr></table>"
      ],
      "text/plain": [
       "<IPython.core.display.HTML object>"
      ]
     },
     "execution_count": 9,
     "metadata": {},
     "output_type": "execute_result"
    }
   ],
   "source": [
    "%mlalpha model --name iris"
   ]
  },
  {
   "cell_type": "markdown",
   "metadata": {},
   "source": [
    "## Prediction\n",
    "\n",
    "For local models, you can send requests to it without uploading the model. \"--label\" specifies which output field in the prediction output is integer and needs to be converted from int to label. Datalab will look up metadata and convert it from int to label. Of course, you can choose to output label in your tensorflow graph too.\n",
    "\n",
    "The input data should be in the same format as the training data, except that it should not include the target column. Let's grab some instances from training data and remove labels from them."
   ]
  },
  {
   "cell_type": "code",
   "execution_count": 6,
   "metadata": {
    "collapsed": false
   },
   "outputs": [
    {
     "name": "stdout",
     "output_type": "stream",
     "text": [
      "4,Iris-setosa,4.6,3.1,1.5,0.2\r\n",
      "20,Iris-setosa,5.1,3.8,1.5,0.3\r\n",
      "43,Iris-setosa,4.4,3.2,1.3,0.2\r\n",
      "88,Iris-versicolor,6.3,2.3,4.4,1.3\r\n",
      "76,Iris-versicolor,6.6,3,4.4,1.4\r\n"
     ]
    }
   ],
   "source": [
    "!head -n 5 /content/datalab/tmp/ml/iris/data_train.csv"
   ]
  },
  {
   "cell_type": "code",
   "execution_count": 10,
   "metadata": {
    "collapsed": false
   },
   "outputs": [
    {
     "data": {
      "text/html": [
       "<pre>- key: '4'\n",
       "  predicted_index: 0\n",
       "  predicted_label: setosa\n",
       "  scores:\n",
       "  - 0.999995231628418\n",
       "  - 4.71743669550051e-06\n",
       "  - 1.3665341356731238e-15\n",
       "- key: '20'\n",
       "  predicted_index: 0\n",
       "  predicted_label: setosa\n",
       "  scores:\n",
       "  - 0.9999996423721313\n",
       "  - 3.6682226323137e-07\n",
       "  - 7.01419619170932e-16\n",
       "- key: '43'\n",
       "  predicted_index: 0\n",
       "  predicted_label: setosa\n",
       "  scores:\n",
       "  - 0.9999994039535522\n",
       "  - 6.22086588464299e-07\n",
       "  - 1.7774214804056103e-16\n",
       "- key: '88'\n",
       "  predicted_index: 1\n",
       "  predicted_label: versicolor\n",
       "  scores:\n",
       "  - 5.8732603065436706e-05\n",
       "  - 0.9964795708656311\n",
       "  - 0.0034617723431438208\n",
       "- key: '76'\n",
       "  predicted_index: 1\n",
       "  predicted_label: versicolor\n",
       "  scores:\n",
       "  - 6.036940249032341e-05\n",
       "  - 0.9997689127922058\n",
       "  - 0.00017066218424588442\n",
       "</pre>"
      ],
      "text/plain": [
       "<IPython.core.display.HTML object>"
      ]
     },
     "execution_count": 10,
     "metadata": {},
     "output_type": "execute_result"
    }
   ],
   "source": [
    "%%mlalpha predict --model /content/datalab/tmp/ml/iris/model/model \n",
    "4,4.6,3.1,1.5,0.2\n",
    "20,5.1,3.8,1.5,0.3\n",
    "43,4.4,3.2,1.3,0.2\n",
    "88,6.3,2.3,4.4,1.3\n",
    "76,6.6,3,4.4,1.4"
   ]
  },
  {
   "cell_type": "markdown",
   "metadata": {},
   "source": [
    "You can also use variable to predict."
   ]
  },
  {
   "cell_type": "code",
   "execution_count": 11,
   "metadata": {
    "collapsed": true
   },
   "outputs": [],
   "source": [
    "input_data = ['107, 4.9, 2.5, 4.5, 1.7', '101, 6.3, 3.3, 6, 2.5']"
   ]
  },
  {
   "cell_type": "code",
   "execution_count": 13,
   "metadata": {
    "collapsed": false
   },
   "outputs": [
    {
     "data": {
      "text/html": [
       "<pre>- key: '107'\n",
       "  predicted_index: 1\n",
       "  predicted_label: versicolor\n",
       "  scores:\n",
       "  - 0.00020953413331881166\n",
       "  - 0.9861494302749634\n",
       "  - 0.013641098514199257\n",
       "- key: '101'\n",
       "  predicted_index: 2\n",
       "  predicted_label: virginica\n",
       "  scores:\n",
       "  - 6.003609831495282e-10\n",
       "  - 4.572878076203324e-09\n",
       "  - 1.0\n",
       "</pre>"
      ],
      "text/plain": [
       "<IPython.core.display.HTML object>"
      ]
     },
     "execution_count": 13,
     "metadata": {},
     "output_type": "execute_result"
    }
   ],
   "source": [
    "%%mlalpha predict --model /content/datalab/tmp/ml/iris/model/model --data input_data"
   ]
  },
  {
   "cell_type": "markdown",
   "metadata": {},
   "source": [
    "## Cloud Prediction\n",
    "\n",
    "Online prediction is still at version alpha. To do cloud prediction, instead of providing a model dir, you give it model.version, and append \"--cloud\" to the command."
   ]
  },
  {
   "cell_type": "code",
   "execution_count": 14,
   "metadata": {
    "collapsed": false
   },
   "outputs": [
    {
     "data": {
      "text/html": [
       "<pre>- key: '107'\n",
       "  predicted_index: 1\n",
       "  predicted_label: versicolor\n",
       "  scores:\n",
       "  - 0.00015270145377144217\n",
       "  - 0.9992751479148865\n",
       "  - 0.0005720887565985322\n",
       "- key: '101'\n",
       "  predicted_index: 2\n",
       "  predicted_label: virginica\n",
       "  scores:\n",
       "  - 2.0901835817710435e-10\n",
       "  - 5.169420003170444e-09\n",
       "  - 1.0\n",
       "</pre>"
      ],
      "text/plain": [
       "<IPython.core.display.HTML object>"
      ]
     },
     "execution_count": 14,
     "metadata": {},
     "output_type": "execute_result"
    }
   ],
   "source": [
    "%%mlalpha predict --model iris.v1 --data input_data --cloud"
   ]
  },
  {
   "cell_type": "markdown",
   "metadata": {},
   "source": [
    "Clean up by deleting the model. \"%%mlalpha delete --name iris.v1\" deletes the \"v1\" version we deployed. \"%%mlalpha delete --name iris\" will delete the model and all its versions."
   ]
  },
  {
   "cell_type": "code",
   "execution_count": 15,
   "metadata": {
    "collapsed": true
   },
   "outputs": [],
   "source": [
    "%%mlalpha delete --name iris.v1"
   ]
  }
 ],
 "metadata": {
  "kernelspec": {
   "display_name": "Python 2",
   "language": "python",
   "name": "python2"
  },
  "language_info": {
   "codemirror_mode": {
    "name": "ipython",
    "version": 2
   },
   "file_extension": ".py",
   "mimetype": "text/x-python",
   "name": "python",
   "nbconvert_exporter": "python",
   "pygments_lexer": "ipython2",
   "version": "2.7.9"
  }
 },
 "nbformat": 4,
 "nbformat_minor": 1
}
