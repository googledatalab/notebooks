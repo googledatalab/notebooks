{
 "cells": [
  {
   "cell_type": "markdown",
   "metadata": {},
   "source": [
    "### Hyperparameter Tuning\n",
    "\n",
    "CloudML service supports hyperparams tuning. Any program args exposed from your training program can be tuned. To do so, in the cloud run input, add \"hyperparameters\" section."
   ]
  },
  {
   "cell_type": "code",
   "execution_count": 51,
   "metadata": {
    "collapsed": false
   },
   "outputs": [],
   "source": [
    "import os\n",
    "\n",
    "bucket = 'gs://' + datalab_project_id() + '-sampledata'\n",
    "package_path = os.path.join(bucket, 'iris', 'model', 'trainer-0.1.tar.gz')\n",
    "train_data_path = os.path.join(bucket, 'iris', 'preprocessed', 'features_train.tfrecord.gz')\n",
    "eval_data_path = os.path.join(bucket, 'iris', 'preprocessed', 'features_eval.tfrecord.gz')\n",
    "metadata_path = os.path.join(bucket, 'iris', 'preprocessed', 'metadata.yaml')\n",
    "output_path = os.path.join(bucket, 'iris', 'hptune')\n",
    "summary_dir_pattern = os.path.join(bucket, 'iris', 'hptune', '*', 'train')\n",
    "eval_dir_pattern = os.path.join(bucket, 'iris', 'hptune', '*', 'train', 'eval')"
   ]
  },
  {
   "cell_type": "markdown",
   "metadata": {},
   "source": [
    "The following sample shows 2 hyperparams \"hidden\" and \"learning_rate\". We will submit 12 runs with various parameter values (the CloudML service will set those values in each trial)."
   ]
  },
  {
   "cell_type": "code",
   "execution_count": 52,
   "metadata": {
    "collapsed": false
   },
   "outputs": [
    {
     "data": {
      "text/html": [
       "<p>Job \"trainer_task_160929_075632\" was submitted successfully.<br/>Run \"%mlalpha jobs --name trainer_task_160929_075632\" to view the status of the job.</p><p>Click <a href=\"https://console.developers.google.com/logs/viewer?project=cloud-ml-test-automated&resource=ml.googleapis.com%2Fjob_id%2Ftrainer_task_160929_075632\" target=\"_blank\">here</a> to view cloud log. <br/>Start TensorBoard by running \"%tensorboard start --logdir=&lt;YourLogDir&gt;\".</p>"
      ],
      "text/plain": [
       "<IPython.core.display.HTML object>"
      ]
     },
     "execution_count": 52,
     "metadata": {},
     "output_type": "execute_result"
    }
   ],
   "source": [
    "%mlalpha train --cloud\n",
    "package_uris: $package_path\n",
    "python_module: trainer.task\n",
    "scale_tier: STANDARD_1\n",
    "region: us-central1\n",
    "args:\n",
    "  train_data_paths:\n",
    "    - $train_data_path\n",
    "  eval_data_paths:\n",
    "    - $eval_data_path\n",
    "  metadata_path: $metadata_path\n",
    "  output_path: $output_path\n",
    "  max_steps: 1000\n",
    "hyperparameters:\n",
    "  goal: MAXIMIZE\n",
    "  max_trials: 15\n",
    "  max_parallel_trials: 3\n",
    "  params:\n",
    "    - parameter_name: hidden\n",
    "      type: INTEGER\n",
    "      min_value: 10\n",
    "      max_value: 50\n",
    "      scale_type: UNIT_LINEAR_SCALE\n",
    "    - parameter_name: learning_rate\n",
    "      type: DOUBLE\n",
    "      min_value: 0.0001\n",
    "      max_value: 0.1\n",
    "      scale_type: UNIT_LOG_SCALE      "
   ]
  },
  {
   "cell_type": "markdown",
   "metadata": {},
   "source": [
    "The training results will show in \"trainingOutput\" field of the job. Initially it is empty, but once some trials finish, they will show up."
   ]
  },
  {
   "cell_type": "code",
   "execution_count": 60,
   "metadata": {
    "collapsed": false
   },
   "outputs": [
    {
     "data": {
      "text/html": [
       "<pre>createTime: '2016-09-29T07:56:33Z'\n",
       "endTime: '2016-09-29T08:21:30Z'\n",
       "jobId: trainer_task_160929_075632\n",
       "startTime: '2016-09-29T07:56:35Z'\n",
       "state: SUCCEEDED\n",
       "trainingInput:\n",
       "  args: [--train_data_paths, 'gs://cloud-ml-test-automated-sampledata/iris/preprocessed/features_train.tfrecord.gz',\n",
       "    --metadata_path, 'gs://cloud-ml-test-automated-sampledata/iris/preprocessed/metadata.yaml',\n",
       "    --max_steps, '1000', --output_path, 'gs://cloud-ml-test-automated-sampledata/iris/hptune',\n",
       "    --eval_data_paths, 'gs://cloud-ml-test-automated-sampledata/iris/preprocessed/features_eval.tfrecord.gz']\n",
       "  hyperparameters:\n",
       "    goal: MAXIMIZE\n",
       "    maxParallelTrials: 3\n",
       "    maxTrials: 15\n",
       "    params:\n",
       "    - {maxValue: 50, minValue: 10, parameterName: hidden, scaleType: UNIT_LINEAR_SCALE,\n",
       "      type: INTEGER}\n",
       "    - {maxValue: 0.1, minValue: 0.0001, parameterName: learning_rate, scaleType: UNIT_LOG_SCALE,\n",
       "      type: DOUBLE}\n",
       "  packageUris: ['gs://cloud-ml-test-automated-sampledata/iris/model/trainer-0.1.tar.gz']\n",
       "  pythonModule: trainer.task\n",
       "  region: us-central1\n",
       "  scaleTier: STANDARD_1\n",
       "trainingOutput:\n",
       "  completedTrialCount: '15'\n",
       "  trials:\n",
       "  - finalMetric: {objectiveValue: 1, trainingStep: '1008'}\n",
       "    hyperparameters: {hidden: '21', learning_rate: '0.096990914318041882'}\n",
       "    trialId: '11'\n",
       "  - finalMetric: {objectiveValue: 0.991666674614, trainingStep: '1008'}\n",
       "    hyperparameters: {hidden: '30', learning_rate: '0.098609674275165718'}\n",
       "    trialId: '6'\n",
       "  - finalMetric: {objectiveValue: 0.991666674614, trainingStep: '1008'}\n",
       "    hyperparameters: {hidden: '42', learning_rate: '0.096070282582847472'}\n",
       "    trialId: '10'\n",
       "  - finalMetric: {objectiveValue: 0.991666674614, trainingStep: '1008'}\n",
       "    hyperparameters: {hidden: '50', learning_rate: '0.0046920044848510045'}\n",
       "    trialId: '14'\n",
       "  - finalMetric: {objectiveValue: 0.991666674614, trainingStep: '1008'}\n",
       "    hyperparameters: {hidden: '20', learning_rate: '0.019531753329351073'}\n",
       "    trialId: '15'\n",
       "  - finalMetric: {objectiveValue: 0.983333349228, trainingStep: '1006'}\n",
       "    hyperparameters: {hidden: '50', learning_rate: '0.092830583168011252'}\n",
       "    trialId: '4'\n",
       "  - finalMetric: {objectiveValue: 0.983333349228, trainingStep: '1006'}\n",
       "    hyperparameters: {hidden: '16', learning_rate: '0.0033138976828613318'}\n",
       "    trialId: '7'\n",
       "  - finalMetric: {objectiveValue: 0.983333349228, trainingStep: '1008'}\n",
       "    hyperparameters: {hidden: '36', learning_rate: '0.099608420188912611'}\n",
       "    trialId: '12'\n",
       "  - finalMetric: {objectiveValue: 0.975000023842, trainingStep: '1008'}\n",
       "    hyperparameters: {hidden: '14', learning_rate: '0.05117375317825177'}\n",
       "    trialId: '1'\n",
       "  - hyperparameters: {hidden: '10', learning_rate: '0.099201264572123082'}\n",
       "    trialId: '5'\n",
       "  - finalMetric: {objectiveValue: 0.966666638851, trainingStep: '1008'}\n",
       "    hyperparameters: {hidden: '23', learning_rate: '0.019681456697599381'}\n",
       "    trialId: '13'\n",
       "  - finalMetric: {objectiveValue: 0.866666674614, trainingStep: '1008'}\n",
       "    hyperparameters: {hidden: '40', learning_rate: '0.00010241281359655797'}\n",
       "    trialId: '9'\n",
       "  - finalMetric: {objectiveValue: 0.858333349228, trainingStep: '1008'}\n",
       "    hyperparameters: {hidden: '50', learning_rate: '0.00010170869755110813'}\n",
       "    trialId: '2'\n",
       "  - finalMetric: {objectiveValue: 0.699999988079, trainingStep: '1005'}\n",
       "    hyperparameters: {hidden: '21', learning_rate: '0.00010125122714242467'}\n",
       "    trialId: '8'\n",
       "  - finalMetric: {objectiveValue: 0.675000011921, trainingStep: '1008'}\n",
       "    hyperparameters: {hidden: '10', learning_rate: '0.00010164122511229645'}\n",
       "    trialId: '3'\n",
       "</pre>"
      ],
      "text/plain": [
       "<IPython.core.display.HTML object>"
      ]
     },
     "execution_count": 60,
     "metadata": {},
     "output_type": "execute_result"
    }
   ],
   "source": [
    "%mlalpha jobs --name trainer_task_160929_075632"
   ]
  },
  {
   "cell_type": "markdown",
   "metadata": {},
   "source": [
    "If you add '--trials' to the previous input, it plots a parallel coordinates graph after any trials of the hyperparameter tuning job are done. \"--trials\" only works if your job is a hyperparameter tuning job."
   ]
  },
  {
   "cell_type": "code",
   "execution_count": 61,
   "metadata": {
    "collapsed": false
   },
   "outputs": [
    {
     "data": {
      "text/html": [
       "\n",
       "<div id=\"v27_147513878436\" class=\"parcoords\" style=\"height:300px;\"></div>\n",
       "<div id=\"g28_147513878436\" class=\"parcoords_grid\"></div>\n",
       "<script>\n",
       "  require.config({\n",
       "    paths: {\n",
       "      d3: 'http://d3js.org/d3.v3.min',\n",
       "      sylvester: '/nbextensions/gcpdatalab/extern/sylvester',\n",
       "      parcoords: '/nbextensions/gcpdatalab/extern/d3.parcoords',\n",
       "    },\n",
       "    shim: {\n",
       "      parcoords: {\n",
       "        deps: ['d3', 'sylvester'],\n",
       "        exports: 'd3'\n",
       "      },\n",
       "    }\n",
       "  });\n",
       "  require(['parcoords',\n",
       "           '/nbextensions/gcpdatalab/parcoords.js',\n",
       "           'nbextensions/gcpdatalab/style!/nbextensions/gcpdatalab/extern/d3.parcoords.css'],\n",
       "          function(d3, lib) {\n",
       "            var data = {\"Objective\": [1, 0.991666674614, 0.991666674614, 0.991666674614, 0.991666674614, 0.983333349228, 0.983333349228, 0.983333349228, 0.975000023842, 0.966666638851, 0.866666674614, 0.858333349228, 0.699999988079, 0.675000011921], \"Trial\": [\"11\", \"6\", \"10\", \"14\", \"15\", \"4\", \"7\", \"12\", \"1\", \"13\", \"9\", \"2\", \"8\", \"3\"], \"Training Step\": [\"1008\", \"1008\", \"1008\", \"1008\", \"1008\", \"1006\", \"1006\", \"1008\", \"1008\", \"1008\", \"1008\", \"1008\", \"1005\", \"1008\"], \"hidden\": [\"21\", \"30\", \"42\", \"50\", \"20\", \"50\", \"16\", \"36\", \"14\", \"23\", \"40\", \"50\", \"21\", \"10\"], \"learning_rate(log)\": [-1.0132689466239453, -1.0060804757462416, -1.017410931854902, -2.3286415814360666, -1.70925876915026, -1.032308921270766, -2.4796609046235925, -1.0017039478512484, -1.2909527298946049, -1.7059427609698816, -3.9896457022846663, -3.992641907087667, -3.9945997045285635, -3.9929301089079385], \"learning_rate\": [\"0.096990914318041882\", \"0.098609674275165718\", \"0.096070282582847472\", \"0.0046920044848510045\", \"0.019531753329351073\", \"0.092830583168011252\", \"0.0033138976828613318\", \"0.099608420188912611\", \"0.05117375317825177\", \"0.019681456697599381\", \"0.00010241281359655797\", \"0.00010170869755110813\", \"0.00010125122714242467\", \"0.00010164122511229645\"]};\n",
       "            lib.plot(d3, [0.675000011921, 1], true, data, 'v27_147513878436', 'g28_147513878436');\n",
       "          });\n",
       "</script>\n"
      ],
      "text/plain": [
       "<IPython.core.display.HTML object>"
      ]
     },
     "execution_count": 61,
     "metadata": {},
     "output_type": "execute_result"
    }
   ],
   "source": [
    "%mlalpha jobs --name trainer_task_160929_075632 --trials"
   ]
  },
  {
   "cell_type": "markdown",
   "metadata": {},
   "source": [
    "Once some jobs are finished, we can check their TF events. It takes a while because all data is in GCS but not local."
   ]
  },
  {
   "cell_type": "code",
   "execution_count": 62,
   "metadata": {
    "collapsed": false
   },
   "outputs": [
    {
     "data": {
      "text/html": [
       "<div id=\"2db51d52-0488-4c53-bc79-7c909c2664a9\" style=\"height: 525px; width: 100%;\" class=\"plotly-graph-div\"></div><script type=\"text/javascript\">require([\"plotly\"], function(Plotly) { window.PLOTLYENV=window.PLOTLYENV || {};window.PLOTLYENV.BASE_URL=\"https://plot.ly\";Plotly.newPlot(\"2db51d52-0488-4c53-bc79-7c909c2664a9\", [{\"y\": [1.3880622386932373, 1.309850811958313, 0.11129139363765717, 0.12395951896905899, 0.03471534699201584, 0.04089171066880226], \"x\": [0, 1, 262, 576, 883, 1006], \"type\": \"scatter\", \"name\": \"loss-gs://cloud-ml-test-automated-sampledata/iris/hptune/7/train\"}, {\"y\": [1.1386759281158447, 1.0192956924438477, 0.03720330074429512], \"x\": [0, 1, 1008], \"type\": \"scatter\", \"name\": \"loss-gs://cloud-ml-test-automated-sampledata/iris/hptune/1/train\"}, {\"y\": [1.0281431674957275, 0.7032761573791504, 0.08580233156681061, 0.019796328619122505, 0.006526906508952379, 0.002216547727584839, 0.02743171714246273], \"x\": [0, 1, 148, 486, 652, 899, 1006], \"type\": \"scatter\", \"name\": \"loss-gs://cloud-ml-test-automated-sampledata/iris/hptune/4/train\"}, {\"y\": [1.0732873678207397, 1.0926038026809692, 0.707101583480835], \"x\": [0, 1, 1005], \"type\": \"scatter\", \"name\": \"loss-gs://cloud-ml-test-automated-sampledata/iris/hptune/8/train\"}, {\"y\": [1.1253300905227661, 0.7568849325180054, 0.15466159582138062, 0.04627947881817818, 0.14488059282302856, 7.769068179186434e-05, 0.03675607591867447], \"x\": [0, 1, 106, 369, 717, 962, 1008], \"type\": \"scatter\", \"name\": \"loss-gs://cloud-ml-test-automated-sampledata/iris/hptune/12/train\"}, {\"y\": [1.1155954599380493, 1.081011414527893, 0.031593386083841324], \"x\": [0, 1, 1008], \"type\": \"scatter\", \"name\": \"loss-gs://cloud-ml-test-automated-sampledata/iris/hptune/14/train\"}, {\"y\": [1.0174916982650757, 1.0364848375320435, 0.7391886115074158], \"x\": [0, 1, 1008], \"type\": \"scatter\", \"name\": \"loss-gs://cloud-ml-test-automated-sampledata/iris/hptune/3/train\"}, {\"y\": [0.022973228245973587, 0.1534712165594101, 0.020404765382409096], \"x\": [10, 11, 1008], \"type\": \"scatter\", \"name\": \"loss-gs://cloud-ml-test-automated-sampledata/iris/hptune/10/train\"}, {\"y\": [1.147257924079895, 1.1539372205734253, 0.7648807168006897, 0.6427309513092041, 0.5688045620918274, 0.5666226148605347], \"x\": [0, 1, 540, 836, 1007, 1008], \"type\": \"scatter\", \"name\": \"loss-gs://cloud-ml-test-automated-sampledata/iris/hptune/2/train\"}, {\"y\": [1.1105049848556519, 0.8671051859855652, 0.023618143051862717, 0.07472287118434906, 0.07947410643100739, 0.04613398760557175, 0.028845934197306633, 0.0159930307418108], \"x\": [0, 1, 286, 435, 635, 807, 1005, 1008], \"type\": \"scatter\", \"name\": \"loss-gs://cloud-ml-test-automated-sampledata/iris/hptune/11/train\"}, {\"y\": [0.9595810770988464, 0.8028201460838318, 0.00467820605263114, 0.04231737554073334], \"x\": [0, 1, 978, 1008], \"type\": \"scatter\", \"name\": \"loss-gs://cloud-ml-test-automated-sampledata/iris/hptune/5/train\"}, {\"y\": [1.0792237520217896, 0.7309157848358154, 0.06270354241132736, 0.02290593832731247], \"x\": [0, 1, 902, 1008], \"type\": \"scatter\", \"name\": \"loss-gs://cloud-ml-test-automated-sampledata/iris/hptune/6/train\"}, {\"y\": [1.2602076530456543, 0.3965063989162445, 0.06870542466640472], \"x\": [0, 21, 1008], \"type\": \"scatter\", \"name\": \"loss-gs://cloud-ml-test-automated-sampledata/iris/hptune/13/train\"}, {\"y\": [1.2158957719802856, 1.1863573789596558, 0.5735061168670654], \"x\": [0, 1, 1008], \"type\": \"scatter\", \"name\": \"loss-gs://cloud-ml-test-automated-sampledata/iris/hptune/9/train\"}, {\"y\": [1.078041911125183, 0.9906730651855469, 0.03623475879430771], \"x\": [0, 1, 1008], \"type\": \"scatter\", \"name\": \"loss-gs://cloud-ml-test-automated-sampledata/iris/hptune/15/train\"}], {\"title\": \"loss\", \"xaxis\": {\"title\": \"step\"}, \"yaxis\": {\"title\": \"loss\"}}, {\"linkText\": \"Export to plot.ly\", \"showLink\": true})});</script>"
      ],
      "text/plain": [
       "<IPython.core.display.HTML object>"
      ]
     },
     "metadata": {},
     "output_type": "display_data"
    }
   ],
   "source": [
    "%mlalpha summary --dir $summary_dir_pattern --name loss --step"
   ]
  },
  {
   "cell_type": "code",
   "execution_count": 63,
   "metadata": {
    "collapsed": false
   },
   "outputs": [
    {
     "data": {
      "text/html": [
       "<div id=\"628b7b30-1ea5-4a22-9539-618286a59172\" style=\"height: 525px; width: 100%;\" class=\"plotly-graph-div\"></div><script type=\"text/javascript\">require([\"plotly\"], function(Plotly) { window.PLOTLYENV=window.PLOTLYENV || {};window.PLOTLYENV.BASE_URL=\"https://plot.ly\";Plotly.newPlot(\"628b7b30-1ea5-4a22-9539-618286a59172\", [{\"y\": [0.9166666865348816, 0.9916666746139526], \"x\": [11, 1008], \"type\": \"scatter\", \"name\": \"accuracy-gs://cloud-ml-test-automated-sampledata/iris/hptune/10/train/eval\"}, {\"y\": [0.8916666507720947, 0.9666666388511658], \"x\": [21, 1008], \"type\": \"scatter\", \"name\": \"accuracy-gs://cloud-ml-test-automated-sampledata/iris/hptune/13/train/eval\"}, {\"y\": [0.675000011920929, 0.9750000238418579], \"x\": [1, 1008], \"type\": \"scatter\", \"name\": \"accuracy-gs://cloud-ml-test-automated-sampledata/iris/hptune/5/train/eval\"}, {\"y\": [0.008333333767950535, 0.8583333492279053], \"x\": [1, 1008], \"type\": \"scatter\", \"name\": \"accuracy-gs://cloud-ml-test-automated-sampledata/iris/hptune/2/train/eval\"}, {\"y\": [0.21666666865348816, 0.8666666746139526], \"x\": [1, 1008], \"type\": \"scatter\", \"name\": \"accuracy-gs://cloud-ml-test-automated-sampledata/iris/hptune/9/train/eval\"}, {\"y\": [0.375, 0.699999988079071], \"x\": [1, 1005], \"type\": \"scatter\", \"name\": \"accuracy-gs://cloud-ml-test-automated-sampledata/iris/hptune/8/train/eval\"}, {\"y\": [0.6666666865348816, 1.0], \"x\": [1, 1008], \"type\": \"scatter\", \"name\": \"accuracy-gs://cloud-ml-test-automated-sampledata/iris/hptune/11/train/eval\"}, {\"y\": [0.7250000238418579, 0.9833333492279053], \"x\": [1, 1006], \"type\": \"scatter\", \"name\": \"accuracy-gs://cloud-ml-test-automated-sampledata/iris/hptune/4/train/eval\"}, {\"y\": [0.22499999403953552, 0.9833333492279053], \"x\": [1, 1006], \"type\": \"scatter\", \"name\": \"accuracy-gs://cloud-ml-test-automated-sampledata/iris/hptune/7/train/eval\"}, {\"y\": [0.7250000238418579, 0.9916666746139526], \"x\": [1, 1008], \"type\": \"scatter\", \"name\": \"accuracy-gs://cloud-ml-test-automated-sampledata/iris/hptune/6/train/eval\"}, {\"y\": [0.5166666507720947, 0.9750000238418579], \"x\": [1, 1008], \"type\": \"scatter\", \"name\": \"accuracy-gs://cloud-ml-test-automated-sampledata/iris/hptune/1/train/eval\"}, {\"y\": [0.5833333134651184, 0.675000011920929], \"x\": [1, 1008], \"type\": \"scatter\", \"name\": \"accuracy-gs://cloud-ml-test-automated-sampledata/iris/hptune/3/train/eval\"}, {\"y\": [0.3583333194255829, 0.9916666746139526], \"x\": [1, 1008], \"type\": \"scatter\", \"name\": \"accuracy-gs://cloud-ml-test-automated-sampledata/iris/hptune/14/train/eval\"}, {\"y\": [0.625, 0.9833333492279053], \"x\": [1, 1008], \"type\": \"scatter\", \"name\": \"accuracy-gs://cloud-ml-test-automated-sampledata/iris/hptune/12/train/eval\"}, {\"y\": [0.6000000238418579, 0.9916666746139526], \"x\": [1, 1008], \"type\": \"scatter\", \"name\": \"accuracy-gs://cloud-ml-test-automated-sampledata/iris/hptune/15/train/eval\"}], {\"title\": \"accuracy\", \"xaxis\": {\"title\": \"step\"}, \"yaxis\": {\"title\": \"accuracy\"}}, {\"linkText\": \"Export to plot.ly\", \"showLink\": true})});</script>"
      ],
      "text/plain": [
       "<IPython.core.display.HTML object>"
      ]
     },
     "metadata": {},
     "output_type": "display_data"
    }
   ],
   "source": [
    "%mlalpha summary --dir $eval_dir_pattern --name accuracy --step"
   ]
  },
  {
   "cell_type": "code",
   "execution_count": null,
   "metadata": {
    "collapsed": true
   },
   "outputs": [],
   "source": []
  }
 ],
 "metadata": {
  "kernelspec": {
   "display_name": "Python 2",
   "language": "python",
   "name": "python2"
  },
  "language_info": {
   "codemirror_mode": {
    "name": "ipython",
    "version": 2
   },
   "file_extension": ".py",
   "mimetype": "text/x-python",
   "name": "python",
   "nbconvert_exporter": "python",
   "pygments_lexer": "ipython2",
   "version": "2.7.9"
  }
 },
 "nbformat": 4,
 "nbformat_minor": 1
}
