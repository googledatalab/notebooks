{
 "cells": [
  {
   "cell_type": "markdown",
   "metadata": {},
   "source": [
    "### Preprocessing\n",
    "\n",
    "We will train with full data using multiple workers in cloud. To preprocess 8000 intances, it takes about 2~3 hours with 10 workers."
   ]
  },
  {
   "cell_type": "code",
   "execution_count": 1,
   "metadata": {
    "collapsed": true
   },
   "outputs": [],
   "source": [
    "import mltoolbox.image.classification as model\n",
    "from google.datalab.ml import *\n",
    "import os\n",
    "\n",
    "bucket = 'gs://' + datalab_project_id() + '-coast'\n",
    "preprocessed_dir = bucket + '/preprocessed'\n",
    "staging_dir = bucket + '/staging'\n",
    "model_dir = bucket + '/model'"
   ]
  },
  {
   "cell_type": "code",
   "execution_count": 3,
   "metadata": {
    "collapsed": false
   },
   "outputs": [
    {
     "data": {
      "text/html": [
       "Job \"preprocess-image-classification-170307-014103\" submitted.<p>Click <a href=\"https://console.developers.google.com/dataflow?project=bradley-playground\" target=\"_blank\">here</a> to track preprocessing job. <br/>"
      ]
     },
     "metadata": {},
     "output_type": "display_data"
    }
   ],
   "source": [
    "train_set = BigQueryDataSet('SELECT image_url, label FROM coast.train')\n",
    "job = model.preprocess_async(train_set, preprocessed_dir, cloud={'num_workers': 5})\n",
    "job.wait()"
   ]
  },
  {
   "cell_type": "markdown",
   "metadata": {},
   "source": [
    "### Training\n",
    "\n",
    "If it is the first time training for a while, warm-up takes about 5~10 minutes so the whole training takes about 20 minutes. On subsequent trainings, warm up time is about 1 minute."
   ]
  },
  {
   "cell_type": "code",
   "execution_count": null,
   "metadata": {
    "collapsed": false
   },
   "outputs": [
    {
     "data": {
      "text/html": [
       "Job \"image_classification_train_170307_010320\" submitted.<p>Click <a href=\"https://console.developers.google.com/logs/viewer?project=bradley-playground&resource=ml.googleapis.com%2Fjob_id%2Fimage_classification_train_170307_010320\" target=\"_blank\">here</a> to view cloud log. <br/>"
      ]
     },
     "metadata": {},
     "output_type": "display_data"
    }
   ],
   "source": [
    "model.train_async(preprocessed_dir, 64, 8000, model_dir,\n",
    "                  cloud=CloudTrainingConfig('us-central1', 'BASIC')).wait()"
   ]
  },
  {
   "cell_type": "markdown",
   "metadata": {},
   "source": [
    "Check your job status. You can run:\n",
    "\n",
    "```\n",
    "Job('inception_train_170216_235400').describe()\n",
    "```\n",
    "to see job status."
   ]
  },
  {
   "cell_type": "code",
   "execution_count": null,
   "metadata": {
    "collapsed": true
   },
   "outputs": [],
   "source": [
    "tb_id = TensorBoard.start(model_dir)"
   ]
  },
  {
   "cell_type": "markdown",
   "metadata": {},
   "source": [
    "### Evaluation\n",
    "\n",
    "First, we can check the TF summary events from training."
   ]
  },
  {
   "cell_type": "code",
   "execution_count": null,
   "metadata": {
    "collapsed": false
   },
   "outputs": [],
   "source": [
    "summary = Summary(model_dir)\n",
    "summary.list_events()"
   ]
  },
  {
   "cell_type": "code",
   "execution_count": null,
   "metadata": {
    "collapsed": false
   },
   "outputs": [],
   "source": [
    "summary.plot('accuracy')\n",
    "summary.plot('loss')"
   ]
  },
  {
   "cell_type": "markdown",
   "metadata": {},
   "source": [
    "### Model Deployment\n",
    "\n",
    "Deploy the model so we can do online prediction."
   ]
  },
  {
   "cell_type": "code",
   "execution_count": null,
   "metadata": {
    "collapsed": false
   },
   "outputs": [],
   "source": [
    "Models().create('coast')\n",
    "ModelVersions('coast').deploy('v1', model_dir)"
   ]
  },
  {
   "cell_type": "code",
   "execution_count": null,
   "metadata": {
    "collapsed": false
   },
   "outputs": [],
   "source": [
    "ModelVersions('coast').describe('v1')"
   ]
  },
  {
   "cell_type": "markdown",
   "metadata": {},
   "source": [
    "### Online Prediction"
   ]
  },
  {
   "cell_type": "code",
   "execution_count": null,
   "metadata": {
    "collapsed": false
   },
   "outputs": [],
   "source": [
    "# gs://tamucc_coastline/esi_images/IMG_2849_SecDE_Spr12.jpg,3B\n",
    "# gs://tamucc_coastline/esi_images/IMG_0047_SecBC_Spr12.jpg,10A\n",
    "# gs://tamucc_coastline/esi_images/IMG_0617_SecBC_Spr12.jpg,7\n",
    "# gs://tamucc_coastline/esi_images/IMG_2034_SecEGH_Sum12_Pt2.jpg,10A\n",
    "images = [\n",
    "  'gs://tamucc_coastline/esi_images/IMG_2849_SecDE_Spr12.jpg',\n",
    "  'gs://tamucc_coastline/esi_images/IMG_0047_SecBC_Spr12.jpg',\n",
    "  'gs://tamucc_coastline/esi_images/IMG_0617_SecBC_Spr12.jpg',\n",
    "  'gs://tamucc_coastline/esi_images/IMG_2034_SecEGH_Sum12_Pt2.jpg'\n",
    "]\n",
    "# resize=True because otherwise the images are too large to send for online prediction.\n",
    "model.predict('coast.v1', images, resize=True, cloud=True)"
   ]
  },
  {
   "cell_type": "markdown",
   "metadata": {},
   "source": [
    "### Batch Prediction"
   ]
  },
  {
   "cell_type": "code",
   "execution_count": null,
   "metadata": {
    "collapsed": false
   },
   "outputs": [],
   "source": [
    "eval_set = BigQueryDataSet(sql='select * from coast.eval')\n",
    "model.batch_predict_async(eval_set, model_dir, output_bq_table='coast.eval_results_full',\n",
    "                          cloud={'num_workers': 3, 'temp_location': staging_dir}).wait()"
   ]
  },
  {
   "cell_type": "markdown",
   "metadata": {},
   "source": [
    "Check evaluation results. It is much better than local run results --- of course, we used much more data, and we ran more training steps."
   ]
  },
  {
   "cell_type": "code",
   "execution_count": null,
   "metadata": {
    "collapsed": false
   },
   "outputs": [],
   "source": [
    "%%bq query --name accuracy\n",
    "SELECT\n",
    "  target,\n",
    "  SUM(CASE WHEN target=predicted THEN 1 ELSE 0 END) as correct,\n",
    "  COUNT(*) as total,\n",
    "  SUM(CASE WHEN target=predicted THEN 1 ELSE 0 END)/COUNT(*) as accuracy\n",
    "FROM\n",
    "  coast.eval_results_full\n",
    "GROUP BY\n",
    "  target"
   ]
  },
  {
   "cell_type": "code",
   "execution_count": null,
   "metadata": {
    "collapsed": false
   },
   "outputs": [],
   "source": [
    "accuracy.execute().result()"
   ]
  },
  {
   "cell_type": "code",
   "execution_count": null,
   "metadata": {
    "collapsed": true
   },
   "outputs": [],
   "source": [
    "%%bq query --name logloss\n",
    "\n",
    "SELECT feature, AVG(-logloss) as logloss, count(*) as count FROM\n",
    "(\n",
    "  SELECT feature, CASE WHEN correct=1 THEN LOG(prob) ELSE LOG(1-prob) END as logloss\n",
    "  FROM\n",
    "  (\n",
    "    SELECT\n",
    "    target as feature, \n",
    "    CASE WHEN target=predicted THEN 1 ELSE 0 END as correct,\n",
    "    target_prob as prob\n",
    "    FROM coast.eval_results_full\n",
    "  )\n",
    ")\n",
    "GROUP BY feature"
   ]
  },
  {
   "cell_type": "code",
   "execution_count": null,
   "metadata": {
    "collapsed": false
   },
   "outputs": [],
   "source": [
    "FeatureSliceView().plot(logloss)"
   ]
  },
  {
   "cell_type": "markdown",
   "metadata": {},
   "source": [
    "## Clean up"
   ]
  },
  {
   "cell_type": "code",
   "execution_count": null,
   "metadata": {
    "collapsed": false
   },
   "outputs": [],
   "source": [
    "import shutil\n",
    "import google.datalab.bigquery as bq\n",
    "\n",
    "TensorBoard.stop(tb_id)\n",
    "bq.Table('coast.eval_results_full').delete()\n",
    "ModelVersions('coast').delete('v1')\n",
    "Models().delete('coast')\n",
    "!gsutil -m rm -r {preprocessed_dir}\n",
    "!gsutil -m rm -r {model_dir}"
   ]
  },
  {
   "cell_type": "code",
   "execution_count": null,
   "metadata": {
    "collapsed": true
   },
   "outputs": [],
   "source": []
  }
 ],
 "metadata": {
  "kernelspec": {
   "display_name": "Python 2",
   "language": "python",
   "name": "python2"
  },
  "language_info": {
   "codemirror_mode": {
    "name": "ipython",
    "version": 2
   },
   "file_extension": ".py",
   "mimetype": "text/x-python",
   "name": "python",
   "nbconvert_exporter": "python",
   "pygments_lexer": "ipython2",
   "version": "2.7.9"
  }
 },
 "nbformat": 4,
 "nbformat_minor": 2
}
