{
 "cells": [
  {
   "cell_type": "markdown",
   "metadata": {},
   "source": [
    "### Preprocessing\n",
    "\n",
    "For local run, we cannot afford running with full data. We will sample the data randomly (using hash) to about 200~300 instances. It takes about 15 minutes."
   ]
  },
  {
   "cell_type": "code",
   "execution_count": 1,
   "metadata": {
    "collapsed": true
   },
   "outputs": [],
   "source": [
    "import mltoolbox.image.classification as model\n",
    "from google.datalab.ml import *\n",
    "\n",
    "worker_dir = '/content/datalab/tmp/coast'\n",
    "preprocessed_dir = worker_dir + '/coast300'\n",
    "model_dir = worker_dir + '/model300'"
   ]
  },
  {
   "cell_type": "code",
   "execution_count": 2,
   "metadata": {
    "collapsed": false
   },
   "outputs": [
    {
     "name": "stderr",
     "output_type": "stream",
     "text": [
      "/usr/local/lib/python2.7/dist-packages/apache_beam/coders/typecoders.py:136: UserWarning: Using fallback coder for typehint: Any.\n",
      "  warnings.warn('Using fallback coder for typehint: %r.' % typehint)\n",
      "WARNING:root:Dataset does not exist so we will create it\n",
      "WARNING:root:Couldn't find python-snappy so the implementation of _TFRecordUtil._masked_crc32c is not as fast as it could be.\n"
     ]
    },
    {
     "data": {
      "text/plain": [
       "Job preprocess-image-classification-170304-055153 completed"
      ]
     },
     "execution_count": 2,
     "metadata": {},
     "output_type": "execute_result"
    }
   ],
   "source": [
    "train_set = BigQueryDataSet('SELECT image_url, label FROM coast.train WHERE rand() < 0.04')\n",
    "model.preprocess(train_set, preprocessed_dir).wait()"
   ]
  },
  {
   "cell_type": "markdown",
   "metadata": {},
   "source": [
    "### Train\n",
    "\n",
    "To get help of a certain method, run 'mymethod??' and on the right side you will see the method signature. For example, run 'local_train??'."
   ]
  },
  {
   "cell_type": "code",
   "execution_count": 4,
   "metadata": {
    "collapsed": false
   },
   "outputs": [
    {
     "name": "stdout",
     "output_type": "stream",
     "text": [
      "INFO:tensorflow:global_step/sec: 0\n"
     ]
    },
    {
     "name": "stderr",
     "output_type": "stream",
     "text": [
      "INFO:tensorflow:global_step/sec: 0\n",
      "INFO:root:Train [master/0], step 1 (0.078 sec) 12.8 global steps/s, 12.8 local steps/s\n",
      "INFO:root:Eval, step 1:\n",
      "- on train set loss: 2.495, accuracy: 0.392\n",
      "-- on eval set loss: 2.566, accuracy: 0.378\n",
      "INFO:root:Eval, step 1000:\n",
      "- on train set loss: 0.002, accuracy: 1.000\n",
      "-- on eval set loss: 2.151, accuracy: 0.500\n",
      "INFO:root:Exporting prediction graph to /content/datalab/tmp/coast/model300/model\n"
     ]
    },
    {
     "name": "stdout",
     "output_type": "stream",
     "text": [
      "INFO:tensorflow:No assets to save.\n"
     ]
    },
    {
     "name": "stderr",
     "output_type": "stream",
     "text": [
      "INFO:tensorflow:No assets to save.\n"
     ]
    },
    {
     "name": "stdout",
     "output_type": "stream",
     "text": [
      "INFO:tensorflow:No assets to write.\n"
     ]
    },
    {
     "name": "stderr",
     "output_type": "stream",
     "text": [
      "INFO:tensorflow:No assets to write.\n"
     ]
    },
    {
     "name": "stdout",
     "output_type": "stream",
     "text": [
      "INFO:tensorflow:SavedModel written to: /content/datalab/tmp/coast/model300/model/saved_model.pb\n"
     ]
    },
    {
     "name": "stderr",
     "output_type": "stream",
     "text": [
      "INFO:tensorflow:SavedModel written to: /content/datalab/tmp/coast/model300/model/saved_model.pb\n"
     ]
    }
   ],
   "source": [
    "import logging\n",
    "logging.getLogger().setLevel(logging.INFO)\n",
    "model.train(preprocessed_dir, 30, 1000, model_dir).wait()\n",
    "logging.getLogger().setLevel(logging.WARNING)"
   ]
  },
  {
   "cell_type": "markdown",
   "metadata": {},
   "source": [
    "You can start hosted Tensorboard to check events."
   ]
  },
  {
   "cell_type": "code",
   "execution_count": 6,
   "metadata": {
    "collapsed": false
   },
   "outputs": [
    {
     "data": {
      "text/html": [
       "<p>TensorBoard was started successfully with pid 22647. Click <a href=\"/_proxy/47042/\" target=\"_blank\">here</a> to access it.</p>"
      ]
     },
     "metadata": {},
     "output_type": "display_data"
    }
   ],
   "source": [
    "TensorBoard.start(model_dir)"
   ]
  },
  {
   "cell_type": "markdown",
   "metadata": {},
   "source": [
    "### Evaluation\n",
    "\n",
    "Our model was trained with a small subset of the data so accuracy is not very high.\n",
    "\n",
    "First, we can check the TF summary events from training."
   ]
  },
  {
   "cell_type": "code",
   "execution_count": 7,
   "metadata": {
    "collapsed": false
   },
   "outputs": [
    {
     "data": {
      "text/plain": [
       "{u'accuracy': {'/content/datalab/tmp/coast/model300/eval_set',\n",
       "  '/content/datalab/tmp/coast/model300/train_set'},\n",
       " u'batch/fraction_of_450_full': {'/content/datalab/tmp/coast/model300/eval_set',\n",
       "  '/content/datalab/tmp/coast/model300/train_set'},\n",
       " u'global_step/sec': {'/content/datalab/tmp/coast/model300/train'},\n",
       " u'input_producer/fraction_of_32_full': {'/content/datalab/tmp/coast/model300/eval_set',\n",
       "  '/content/datalab/tmp/coast/model300/train_set'},\n",
       " u'loss': {'/content/datalab/tmp/coast/model300/eval_set',\n",
       "  '/content/datalab/tmp/coast/model300/train_set'}}"
      ]
     },
     "execution_count": 7,
     "metadata": {},
     "output_type": "execute_result"
    }
   ],
   "source": [
    "summary = Summary(model_dir)\n",
    "summary.list_events()"
   ]
  },
  {
   "cell_type": "code",
   "execution_count": 8,
   "metadata": {
    "collapsed": false
   },
   "outputs": [
    {
     "data": {
      "image/png": "[encoded data removed]",
      "text/plain": [
       "<matplotlib.figure.Figure at 0x7f766e055590>"
      ]
     },
     "metadata": {},
     "output_type": "display_data"
    },
    {
     "data": {
      "image/png": "[encoded data removed]",
      "text/plain": [
       "<matplotlib.figure.Figure at 0x7f791eb33f90>"
      ]
     },
     "metadata": {},
     "output_type": "display_data"
    }
   ],
   "source": [
    "summary.plot('accuracy')\n",
    "summary.plot('loss')"
   ]
  },
  {
   "cell_type": "markdown",
   "metadata": {},
   "source": [
    "We will do more evaluation with more data using batch prediction."
   ]
  },
  {
   "cell_type": "markdown",
   "metadata": {},
   "source": [
    "### Prediction\n",
    "\n",
    "Instant prediction:"
   ]
  },
  {
   "cell_type": "code",
   "execution_count": 8,
   "metadata": {
    "collapsed": false
   },
   "outputs": [
    {
     "name": "stdout",
     "output_type": "stream",
     "text": [
      "Predicting...\n"
     ]
    },
    {
     "data": {
      "text/html": [
       "<div>\n",
       "<table border=\"1\" class=\"dataframe\">\n",
       "  <thead>\n",
       "    <tr style=\"text-align: right;\">\n",
       "      <th></th>\n",
       "      <th>image_url</th>\n",
       "      <th>label</th>\n",
       "      <th>score</th>\n",
       "    </tr>\n",
       "  </thead>\n",
       "  <tbody>\n",
       "    <tr>\n",
       "      <th>0</th>\n",
       "      <td>gs://tamucc_coastline/esi_images/IMG_2849_SecD...</td>\n",
       "      <td>10A</td>\n",
       "      <td>0.636253</td>\n",
       "    </tr>\n",
       "    <tr>\n",
       "      <th>1</th>\n",
       "      <td>gs://tamucc_coastline/esi_images/IMG_0047_SecB...</td>\n",
       "      <td>10A</td>\n",
       "      <td>0.991888</td>\n",
       "    </tr>\n",
       "    <tr>\n",
       "      <th>2</th>\n",
       "      <td>gs://tamucc_coastline/esi_images/IMG_0617_SecB...</td>\n",
       "      <td>9</td>\n",
       "      <td>0.921522</td>\n",
       "    </tr>\n",
       "    <tr>\n",
       "      <th>3</th>\n",
       "      <td>gs://tamucc_coastline/esi_images/IMG_2034_SecE...</td>\n",
       "      <td>10A</td>\n",
       "      <td>0.958314</td>\n",
       "    </tr>\n",
       "  </tbody>\n",
       "</table>\n",
       "</div>"
      ],
      "text/plain": [
       "                                           image_url label     score\n",
       "0  gs://tamucc_coastline/esi_images/IMG_2849_SecD...   10A  0.636253\n",
       "1  gs://tamucc_coastline/esi_images/IMG_0047_SecB...   10A  0.991888\n",
       "2  gs://tamucc_coastline/esi_images/IMG_0617_SecB...     9  0.921522\n",
       "3  gs://tamucc_coastline/esi_images/IMG_2034_SecE...   10A  0.958314"
      ]
     },
     "execution_count": 8,
     "metadata": {},
     "output_type": "execute_result"
    }
   ],
   "source": [
    "# gs://tamucc_coastline/esi_images/IMG_2849_SecDE_Spr12.jpg,3B\n",
    "# gs://tamucc_coastline/esi_images/IMG_0047_SecBC_Spr12.jpg,10A\n",
    "# gs://tamucc_coastline/esi_images/IMG_0617_SecBC_Spr12.jpg,7\n",
    "# gs://tamucc_coastline/esi_images/IMG_2034_SecEGH_Sum12_Pt2.jpg,10A\n",
    "images = [\n",
    "  'gs://tamucc_coastline/esi_images/IMG_2849_SecDE_Spr12.jpg',\n",
    "  'gs://tamucc_coastline/esi_images/IMG_0047_SecBC_Spr12.jpg',\n",
    "  'gs://tamucc_coastline/esi_images/IMG_0617_SecBC_Spr12.jpg',\n",
    "  'gs://tamucc_coastline/esi_images/IMG_2034_SecEGH_Sum12_Pt2.jpg'\n",
    "]\n",
    "# Set show_image to True to see the images\n",
    "model.predict(model_dir, images, show_image=False)"
   ]
  },
  {
   "cell_type": "markdown",
   "metadata": {},
   "source": [
    "Batch prediction. Note that we sample eval data so we use about 200 instances."
   ]
  },
  {
   "cell_type": "code",
   "execution_count": 9,
   "metadata": {
    "collapsed": false
   },
   "outputs": [
    {
     "name": "stderr",
     "output_type": "stream",
     "text": [
      "WARNING:root:Dataset does not exist so we will create it\n"
     ]
    },
    {
     "data": {
      "text/plain": [
       "Job batch-predict-image-classification-170304-062246 completed"
      ]
     },
     "execution_count": 9,
     "metadata": {},
     "output_type": "execute_result"
    }
   ],
   "source": [
    "eval_set = BigQueryDataSet('select * from coast.eval WHERE rand()<0.1')\n",
    "model.batch_predict(eval_set, model_dir, output_bq_table='coast.eval200tinymodel').wait()"
   ]
  },
  {
   "cell_type": "code",
   "execution_count": 10,
   "metadata": {
    "collapsed": false
   },
   "outputs": [
    {
     "data": {
      "image/png": "[encoded data removed]",
      "text/plain": [
       "<matplotlib.figure.Figure at 0x7f766de8cc90>"
      ]
     },
     "metadata": {},
     "output_type": "display_data"
    }
   ],
   "source": [
    "ConfusionMatrix.from_bigquery('select * from coast.eval200tinymodel').plot()"
   ]
  },
  {
   "cell_type": "markdown",
   "metadata": {},
   "source": [
    "Compute accuracy per label."
   ]
  },
  {
   "cell_type": "code",
   "execution_count": 11,
   "metadata": {
    "collapsed": false
   },
   "outputs": [],
   "source": [
    "%%bq query --name accuracy\n",
    "SELECT\n",
    "  target,\n",
    "  SUM(CASE WHEN target=predicted THEN 1 ELSE 0 END) as correct,\n",
    "  COUNT(*) as total,\n",
    "  SUM(CASE WHEN target=predicted THEN 1 ELSE 0 END)/COUNT(*) as accuracy\n",
    "FROM\n",
    "  coast.eval200tinymodel\n",
    "GROUP BY\n",
    "  target"
   ]
  },
  {
   "cell_type": "code",
   "execution_count": 12,
   "metadata": {
    "collapsed": false
   },
   "outputs": [
    {
     "data": {
      "text/html": [
       "\n",
       "    <div class=\"bqtv\" id=\"1_148860902689\"><table><tr><th>target</th><th>correct</th><th>total</th><th>accuracy</th></tr><tr><td>8B</td><td>0</td><td>3</td><td>0.0</td></tr><tr><td>7</td><td>0</td><td>6</td><td>0.0</td></tr><tr><td>10B</td><td>0</td><td>3</td><td>0.0</td></tr><tr><td>10C</td><td>0</td><td>2</td><td>0.0</td></tr><tr><td>5</td><td>0</td><td>4</td><td>0.0</td></tr><tr><td>6B</td><td>0</td><td>10</td><td>0.0</td></tr><tr><td>1</td><td>1</td><td>5</td><td>0.2</td></tr><tr><td>9</td><td>2</td><td>16</td><td>0.125</td></tr><tr><td>3B</td><td>3</td><td>12</td><td>0.25</td></tr><tr><td>8C</td><td>4</td><td>24</td><td>0.166666666667</td></tr><tr><td>6A</td><td>5</td><td>9</td><td>0.555555555556</td></tr><tr><td>3A</td><td>5</td><td>10</td><td>0.5</td></tr><tr><td>8A</td><td>8</td><td>10</td><td>0.8</td></tr><tr><td>2A</td><td>9</td><td>20</td><td>0.45</td></tr><tr><td>10D</td><td>15</td><td>28</td><td>0.535714285714</td></tr><tr><td>10A</td><td>77</td><td>111</td><td>0.693693693694</td></tr></table></div>\n",
       "    <br />(rows: 16, time: 1.3s,     0B processed, job: job_MEgTT2c8u0FyiOFHu2hFc2Tfeuc)<br />\n",
       "    <script>\n",
       "\n",
       "      require.config({\n",
       "        paths: {\n",
       "          d3: '//cdnjs.cloudflare.com/ajax/libs/d3/3.4.13/d3',\n",
       "          plotly: 'https://cdn.plot.ly/plotly-1.5.1.min.js?noext',\n",
       "          jquery: '//ajax.googleapis.com/ajax/libs/jquery/2.0.0/jquery.min'\n",
       "        },\n",
       "        map: {\n",
       "          '*': {\n",
       "            datalab: 'nbextensions/gcpdatalab'\n",
       "          }\n",
       "        },\n",
       "        shim: {\n",
       "          plotly: {\n",
       "            deps: ['d3', 'jquery'],\n",
       "            exports: 'plotly'\n",
       "          }\n",
       "        }\n",
       "      });\n",
       "\n",
       "      require(['datalab/charting', 'datalab/element!1_148860902689', 'base/js/events',\n",
       "          'datalab/style!/nbextensions/gcpdatalab/charting.css'],\n",
       "        function(charts, dom, events) {\n",
       "          charts.render('gcharts', dom, events, 'table', [], {\"rows\": [{\"c\": [{\"v\": \"8B\"}, {\"v\": 0}, {\"v\": 3}, {\"v\": 0.0}]}, {\"c\": [{\"v\": \"7\"}, {\"v\": 0}, {\"v\": 6}, {\"v\": 0.0}]}, {\"c\": [{\"v\": \"10B\"}, {\"v\": 0}, {\"v\": 3}, {\"v\": 0.0}]}, {\"c\": [{\"v\": \"10C\"}, {\"v\": 0}, {\"v\": 2}, {\"v\": 0.0}]}, {\"c\": [{\"v\": \"5\"}, {\"v\": 0}, {\"v\": 4}, {\"v\": 0.0}]}, {\"c\": [{\"v\": \"6B\"}, {\"v\": 0}, {\"v\": 10}, {\"v\": 0.0}]}, {\"c\": [{\"v\": \"1\"}, {\"v\": 1}, {\"v\": 5}, {\"v\": 0.2}]}, {\"c\": [{\"v\": \"9\"}, {\"v\": 2}, {\"v\": 16}, {\"v\": 0.125}]}, {\"c\": [{\"v\": \"3B\"}, {\"v\": 3}, {\"v\": 12}, {\"v\": 0.25}]}, {\"c\": [{\"v\": \"8C\"}, {\"v\": 4}, {\"v\": 24}, {\"v\": 0.16666666666666666}]}, {\"c\": [{\"v\": \"6A\"}, {\"v\": 5}, {\"v\": 9}, {\"v\": 0.5555555555555556}]}, {\"c\": [{\"v\": \"3A\"}, {\"v\": 5}, {\"v\": 10}, {\"v\": 0.5}]}, {\"c\": [{\"v\": \"8A\"}, {\"v\": 8}, {\"v\": 10}, {\"v\": 0.8}]}, {\"c\": [{\"v\": \"2A\"}, {\"v\": 9}, {\"v\": 20}, {\"v\": 0.45}]}, {\"c\": [{\"v\": \"10D\"}, {\"v\": 15}, {\"v\": 28}, {\"v\": 0.5357142857142857}]}, {\"c\": [{\"v\": \"10A\"}, {\"v\": 77}, {\"v\": 111}, {\"v\": 0.6936936936936937}]}], \"cols\": [{\"type\": \"string\", \"id\": \"target\", \"label\": \"target\"}, {\"type\": \"number\", \"id\": \"correct\", \"label\": \"correct\"}, {\"type\": \"number\", \"id\": \"total\", \"label\": \"total\"}, {\"type\": \"number\", \"id\": \"accuracy\", \"label\": \"accuracy\"}]},\n",
       "            {\n",
       "              pageSize: 25,\n",
       "              cssClassNames:  {\n",
       "                tableRow: 'gchart-table-row',\n",
       "                headerRow: 'gchart-table-headerrow',\n",
       "                oddTableRow: 'gchart-table-oddrow',\n",
       "                selectedTableRow: 'gchart-table-selectedrow',\n",
       "                hoverTableRow: 'gchart-table-hoverrow',\n",
       "                tableCell: 'gchart-table-cell',\n",
       "                headerCell: 'gchart-table-headercell',\n",
       "                rowNumberCell: 'gchart-table-rownumcell'\n",
       "              }\n",
       "            },\n",
       "            {source_index: 0, fields: 'target,correct,total,accuracy'},\n",
       "            0,\n",
       "            16);\n",
       "        }\n",
       "      );\n",
       "    </script>\n",
       "  "
      ],
      "text/plain": [
       "QueryResultsTable job_MEgTT2c8u0FyiOFHu2hFc2Tfeuc"
      ]
     },
     "execution_count": 12,
     "metadata": {},
     "output_type": "execute_result"
    }
   ],
   "source": [
    "accuracy.execute().result()"
   ]
  },
  {
   "cell_type": "markdown",
   "metadata": {},
   "source": [
    "You can view the results using Feature-Slice-View. This time do logloss."
   ]
  },
  {
   "cell_type": "code",
   "execution_count": 21,
   "metadata": {
    "collapsed": true
   },
   "outputs": [],
   "source": [
    "%%bq query --name logloss\n",
    "\n",
    "SELECT feature, AVG(-logloss) as logloss, COUNT(*) as count FROM\n",
    "(\n",
    "  SELECT feature, CASE WHEN correct=1 THEN LOG(prob) ELSE LOG(1-prob) END as logloss\n",
    "  FROM\n",
    "  (\n",
    "    SELECT\n",
    "    target as feature, \n",
    "    CASE WHEN target=predicted THEN 1 ELSE 0 END as correct,\n",
    "    target_prob as prob\n",
    "    FROM coast.eval200tinymodel\n",
    "  )\n",
    ")\n",
    "GROUP BY feature"
   ]
  },
  {
   "cell_type": "code",
   "execution_count": 22,
   "metadata": {
    "collapsed": false
   },
   "outputs": [
    {
     "data": {
      "text/html": [
       "<link rel=\"import\" href=\"/nbextensions/gcpdatalab/extern/lantern-browser.html\" >\n",
       "        <lantern-browser id=\"l2_148860919273\"></lantern-browser>\n",
       "        <script>\n",
       "        var browser = document.querySelector('#l2_148860919273');\n",
       "        browser.metrics = ['logloss', 'count'];\n",
       "        browser.data = [{'metricValues': '{\"logloss\": 0.0033257540621305873, \"count\": 2}', 'feature': '\"10C\"'}, {'metricValues': '{\"logloss\": 0.004509543418280766, \"count\": 3}', 'feature': '\"8B\"'}, {'metricValues': '{\"logloss\": 0.020021332759458995, \"count\": 3}', 'feature': '\"10B\"'}, {'metricValues': '{\"logloss\": 0.005431263925847265, \"count\": 4}', 'feature': '\"5\"'}, {'metricValues': '{\"logloss\": 0.06613381410429214, \"count\": 5}', 'feature': '\"1\"'}, {'metricValues': '{\"logloss\": 0.06901031561056911, \"count\": 6}', 'feature': '\"7\"'}, {'metricValues': '{\"logloss\": 0.13971046080131122, \"count\": 9}', 'feature': '\"6A\"'}, {'metricValues': '{\"logloss\": 0.08206683100944692, \"count\": 10}', 'feature': '\"8A\"'}, {'metricValues': '{\"logloss\": 0.04867830941991737, \"count\": 10}', 'feature': '\"3A\"'}, {'metricValues': '{\"logloss\": 0.025341142903425623, \"count\": 10}', 'feature': '\"6B\"'}, {'metricValues': '{\"logloss\": 0.18386987608992103, \"count\": 12}', 'feature': '\"3B\"'}, {'metricValues': '{\"logloss\": 0.05815202940323587, \"count\": 16}', 'feature': '\"9\"'}, {'metricValues': '{\"logloss\": 0.23001056060892813, \"count\": 20}', 'feature': '\"2A\"'}, {'metricValues': '{\"logloss\": 0.10544379656139967, \"count\": 24}', 'feature': '\"8C\"'}, {'metricValues': '{\"logloss\": 0.1383907870475914, \"count\": 28}', 'feature': '\"10D\"'}, {'metricValues': '{\"logloss\": 0.09546257586645569, \"count\": 111}', 'feature': '\"10A\"'}];\n",
       "        browser.sourceType = 'colab';\n",
       "        browser.weightedExamplesColumn = 'count';\n",
       "        browser.calibrationPlotUriFn = function(s) { return '/' + s; }\n",
       "        </script>"
      ],
      "text/plain": [
       "<IPython.core.display.HTML object>"
      ]
     },
     "metadata": {},
     "output_type": "display_data"
    }
   ],
   "source": [
    "FeatureSliceView().plot(logloss)"
   ]
  },
  {
   "cell_type": "markdown",
   "metadata": {},
   "source": [
    "## Clean up"
   ]
  },
  {
   "cell_type": "code",
   "execution_count": 2,
   "metadata": {
    "collapsed": true
   },
   "outputs": [],
   "source": [
    "import shutil\n",
    "\n",
    "shutil.rmtree(worker_dir)"
   ]
  },
  {
   "cell_type": "code",
   "execution_count": null,
   "metadata": {
    "collapsed": true
   },
   "outputs": [],
   "source": []
  }
 ],
 "metadata": {
  "kernelspec": {
   "display_name": "Python 2",
   "language": "python",
   "name": "python2"
  },
  "language_info": {
   "codemirror_mode": {
    "name": "ipython",
    "version": 2
   },
   "file_extension": ".py",
   "mimetype": "text/x-python",
   "name": "python",
   "nbconvert_exporter": "python",
   "pygments_lexer": "ipython2",
   "version": "2.7.9"
  }
 },
 "nbformat": 4,
 "nbformat_minor": 2
}
