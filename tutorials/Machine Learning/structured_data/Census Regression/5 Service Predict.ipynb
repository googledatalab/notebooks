{
 "cells": [
  {
   "cell_type": "markdown",
   "metadata": {},
   "source": [
    "# About this notebook\n",
    "\n",
    "This notebook assumes you have ran the local Census Regression notebook and you have not deleted the LOCAL_ROOT folder. In this notebook, we will deploy a trained model and submit prediction requests."
   ]
  },
  {
   "cell_type": "markdown",
   "metadata": {},
   "source": [
    "# Setting things up"
   ]
  },
  {
   "cell_type": "code",
   "execution_count": 1,
   "metadata": {
    "collapsed": false
   },
   "outputs": [
    {
     "name": "stderr",
     "output_type": "stream",
     "text": [
      "No handlers could be found for logger \"oauth2client.contrib.multistore_file\"\n"
     ]
    }
   ],
   "source": [
    "import mltoolbox.regression.dnn as sd"
   ]
  },
  {
   "cell_type": "code",
   "execution_count": 2,
   "metadata": {
    "collapsed": false
   },
   "outputs": [],
   "source": [
    "import os\n",
    "import pandas as pd\n",
    "import tensorflow as tf\n",
    "from tensorflow.python.lib.io import file_io"
   ]
  },
  {
   "cell_type": "markdown",
   "metadata": {},
   "source": [
    "This notebook will write files during prediction. Please give a root folder you wish to use."
   ]
  },
  {
   "cell_type": "code",
   "execution_count": 3,
   "metadata": {
    "collapsed": false
   },
   "outputs": [
    {
     "name": "stdout",
     "output_type": "stream",
     "text": [
      "Creating gs://cloud-ml-dev-census-regression-datalab/...\n",
      "ServiceException: 409 Bucket cloud-ml-dev-census-regression-datalab already exists.\n"
     ]
    }
   ],
   "source": [
    "LOCAL_ROOT = './census_regression_workspace' # This should be the same as what was used in the local census notebook\n",
    "CLOUD_ROOT = 'gs://' + datalab_project_id() + '-census-regression-datalab'\n",
    "\n",
    "# No need to edit anything else in this cell.\n",
    "LOCAL_TRAINING_DIR = os.path.join(LOCAL_ROOT, 'training')\n",
    "CLOUD_TRAINING_DIR = os.path.join(CLOUD_ROOT, 'training')\n",
    "\n",
    "if not file_io.file_exists(LOCAL_ROOT):\n",
    "  raise ValueError('LOCAL_ROOT not found. Did you run the local notebook?')\n",
    "  \n",
    "!gsutil mb {CLOUD_ROOT}"
   ]
  },
  {
   "cell_type": "markdown",
   "metadata": {},
   "source": [
    "First, let us put the csv files on GCS and the output of training."
   ]
  },
  {
   "cell_type": "code",
   "execution_count": 4,
   "metadata": {
    "collapsed": false
   },
   "outputs": [
    {
     "name": "stdout",
     "output_type": "stream",
     "text": [
      "Removing gs://cloud-ml-dev-census-regression-datalab/training/evaluation_model/#1487895899427518...\n",
      "Removing gs://cloud-ml-dev-census-regression-datalab/training/evaluation_model/assets.extra/#1487895901246998...\n",
      "Removing gs://cloud-ml-dev-census-regression-datalab/training/evaluation_model/assets.extra/schema.json#1487965227827904...\n",
      "Removing gs://cloud-ml-dev-census-regression-datalab/training/evaluation_model/assets.extra/transforms.json#1487965227767841...\n",
      "Removing gs://cloud-ml-dev-census-regression-datalab/training/evaluation_model/saved_model.pb#1487965227684487...\n",
      "Removing gs://cloud-ml-dev-census-regression-datalab/training/evaluation_model/variables/#1487895903777046...\n",
      "Removing gs://cloud-ml-dev-census-regression-datalab/training/evaluation_model/variables/variables.data-00000-of-00001#1487965227657725...\n",
      "Removing gs://cloud-ml-dev-census-regression-datalab/training/evaluation_model/variables/variables.index#1487965227652126...\n",
      "Removing gs://cloud-ml-dev-census-regression-datalab/training/model/#1487895924896746...\n",
      "Removing gs://cloud-ml-dev-census-regression-datalab/training/model/assets.extra/#1487895926939364...\n",
      "Removing gs://cloud-ml-dev-census-regression-datalab/training/model/assets.extra/transforms.json#1487965227560838...\n",
      "Removing gs://cloud-ml-dev-census-regression-datalab/training/model/saved_model.pb#1487965227428559...\n",
      "Removing gs://cloud-ml-dev-census-regression-datalab/training/model/variables/#1487895929217605...\n",
      "Removing gs://cloud-ml-dev-census-regression-datalab/training/model/variables/variables.data-00000-of-00001#1487965227385745...\n",
      "Removing gs://cloud-ml-dev-census-regression-datalab/training/model/assets.extra/schema.json#1487965227580369...\n",
      "Removing gs://cloud-ml-dev-census-regression-datalab/training/model/variables/variables.index#1487965227325062...\n",
      "Removing gs://cloud-ml-dev-census-regression-datalab/training/staging/sd.tar.gz#1487895387897680...\n",
      "Removing gs://cloud-ml-dev-census-regression-datalab/training/train/checkpoint#1487965225980762...\n",
      "Removing gs://cloud-ml-dev-census-regression-datalab/training/train/eval/events.out.tfevents.1487895231.9eab9a803281#1487895541446687...\n",
      "Removing gs://cloud-ml-dev-census-regression-datalab/training/train/eval/events.out.tfevents.1487895245.9eab9a803281#1487895541460129...\n",
      "Removing gs://cloud-ml-dev-census-regression-datalab/training/train/eval/events.out.tfevents.1487964107.datalab-server-brandondutra-vm-dl-hack-test#1487965227368074...\n",
      "Removing gs://cloud-ml-dev-census-regression-datalab/training/train/export/intermediate_evaluation_models/1487895881985/assets.extra/transforms.json#1487895896281715...\n",
      "Removing gs://cloud-ml-dev-census-regression-datalab/training/train/eval/events.out.tfevents.1487895876.master-674ccaa228-0-3m4gp#1487895879410595...\n",
      "Removing gs://cloud-ml-dev-census-regression-datalab/training/train/eval/events.out.tfevents.1487964091.datalab-server-brandondutra-vm-dl-hack-test#1487965227334592...\n",
      "Removing gs://cloud-ml-dev-census-regression-datalab/training/train/events.out.tfevents.1487895220.9eab9a803281#1487895541625158...\n",
      "Removing gs://cloud-ml-dev-census-regression-datalab/training/train/events.out.tfevents.1487964075.datalab-server-brandondutra-vm-dl-hack-test#1487965226606936...\n",
      "Removing gs://cloud-ml-dev-census-regression-datalab/training/train/export/intermediate_evaluation_models/1487895247625/assets.extra/schema.json#1487895541250138...\n",
      "Removing gs://cloud-ml-dev-census-regression-datalab/training/train/export/intermediate_evaluation_models/1487895247625/assets.extra/transforms.json#1487895541302736...\n",
      "Removing gs://cloud-ml-dev-census-regression-datalab/training/train/export/intermediate_evaluation_models/1487895247625/saved_model.pb#1487895541393344...\n",
      "Removing gs://cloud-ml-dev-census-regression-datalab/training/train/export/intermediate_evaluation_models/1487895247625/variables/variables.data-00000-of-00001#1487895541294931...\n",
      "Removing gs://cloud-ml-dev-census-regression-datalab/training/train/export/intermediate_evaluation_models/1487895881985/assets.extra/#1487895895301984...\n",
      "Removing gs://cloud-ml-dev-census-regression-datalab/training/train/export/intermediate_evaluation_models/1487895881985/#1487895886536329...\n",
      "Removing gs://cloud-ml-dev-census-regression-datalab/training/train/export/intermediate_evaluation_models/1487895247625/variables/variables.index#1487895541252422...\n",
      "Removing gs://cloud-ml-dev-census-regression-datalab/training/train/export/intermediate_evaluation_models/1487895881985/assets.extra/schema.json#1487895897178446...\n",
      "Removing gs://cloud-ml-dev-census-regression-datalab/training/train/export/intermediate_evaluation_models/1487964110492/saved_model.pb#1487965226693322...\n",
      "Removing gs://cloud-ml-dev-census-regression-datalab/training/train/export/intermediate_prediction_models/1487895251011/assets.extra/schema.json#1487895541235685...\n",
      "Removing gs://cloud-ml-dev-census-regression-datalab/training/train/export/intermediate_evaluation_models/1487964110492/variables/variables.data-00000-of-00001#1487965226704679...\n",
      "Removing gs://cloud-ml-dev-census-regression-datalab/training/train/export/intermediate_evaluation_models/1487895881985/saved_model.pb#1487895894598580...\n",
      "Removing gs://cloud-ml-dev-census-regression-datalab/training/train/export/intermediate_prediction_models/1487895908332/assets.extra/#1487895920177929...\n",
      "Removing gs://cloud-ml-dev-census-regression-datalab/training/train/export/intermediate_evaluation_models/1487895881985/variables/#1487895890426825...\n",
      "Removing gs://cloud-ml-dev-census-regression-datalab/training/train/export/intermediate_evaluation_models/1487895881985/variables/variables.data-00000-of-00001#1487895891196797...\n",
      "Removing gs://cloud-ml-dev-census-regression-datalab/training/train/export/intermediate_evaluation_models/1487895881985/variables/variables.index#1487895891726398...\n",
      "Removing gs://cloud-ml-dev-census-regression-datalab/training/train/export/intermediate_evaluation_models/1487964110492/assets.extra/transforms.json#1487965227125654...\n",
      "Removing gs://cloud-ml-dev-census-regression-datalab/training/train/export/intermediate_evaluation_models/1487964110492/variables/variables.index#1487965226637300...\n",
      "Removing gs://cloud-ml-dev-census-regression-datalab/training/train/export/intermediate_evaluation_models/1487964110492/assets.extra/schema.json#1487965226816339...\n",
      "Removing gs://cloud-ml-dev-census-regression-datalab/training/train/export/intermediate_prediction_models/1487895251011/variables/variables.data-00000-of-00001#1487895541213462...\n",
      "Removing gs://cloud-ml-dev-census-regression-datalab/training/train/export/intermediate_prediction_models/1487895908332/#1487895910886205...\n",
      "Removing gs://cloud-ml-dev-census-regression-datalab/training/train/export/intermediate_prediction_models/1487895251011/variables/variables.index#1487895541251231...\n",
      "Removing gs://cloud-ml-dev-census-regression-datalab/training/train/export/intermediate_prediction_models/1487895908332/variables/variables.index#1487895916725590...\n",
      "Removing gs://cloud-ml-dev-census-regression-datalab/training/train/export/intermediate_prediction_models/1487964115428/assets.extra/schema.json#1487965227182811...\n",
      "Removing gs://cloud-ml-dev-census-regression-datalab/training/train/export/intermediate_prediction_models/1487895908332/assets.extra/schema.json#1487895921800977...\n",
      "Removing gs://cloud-ml-dev-census-regression-datalab/training/train/export/intermediate_prediction_models/1487895908332/saved_model.pb#1487895919477451...\n",
      "Removing gs://cloud-ml-dev-census-regression-datalab/training/train/export/intermediate_prediction_models/1487964115428/assets.extra/transforms.json#1487965227100294...\n",
      "Removing gs://cloud-ml-dev-census-regression-datalab/training/train/export/intermediate_prediction_models/1487964115428/saved_model.pb#1487965226962803...\n",
      "Removing gs://cloud-ml-dev-census-regression-datalab/training/train/export/intermediate_prediction_models/1487895251011/saved_model.pb#1487895541381683...\n",
      "Removing gs://cloud-ml-dev-census-regression-datalab/training/train/export/intermediate_prediction_models/1487964115428/variables/variables.data-00000-of-00001#1487965226939600...\n",
      "Removing gs://cloud-ml-dev-census-regression-datalab/training/train/export/intermediate_prediction_models/1487895908332/assets.extra/transforms.json#1487895920940837...\n",
      "Removing gs://cloud-ml-dev-census-regression-datalab/training/train/export/intermediate_prediction_models/1487895908332/variables/variables.data-00000-of-00001#1487895916206583...\n",
      "Removing gs://cloud-ml-dev-census-regression-datalab/training/train/export/intermediate_prediction_models/1487895908332/variables/#1487895914756954...\n",
      "Removing gs://cloud-ml-dev-census-regression-datalab/training/train/export/intermediate_prediction_models/1487895251011/assets.extra/transforms.json#1487895541277806...\n",
      "Removing gs://cloud-ml-dev-census-regression-datalab/training/train/export/intermediate_prediction_models/1487964115428/variables/variables.index#1487965226910326...\n",
      "Removing gs://cloud-ml-dev-census-regression-datalab/training/train/graph.pbtxt#1487965226301116...\n",
      "Removing gs://cloud-ml-dev-census-regression-datalab/training/train/model.ckpt-1.data-00000-of-00001#1487965226381669...\n",
      "Removing gs://cloud-ml-dev-census-regression-datalab/training/train/model.ckpt-1.index#1487965226495779...\n",
      "Removing gs://cloud-ml-dev-census-regression-datalab/training/train/model.ckpt-1.meta#1487965226225089...\n",
      "Removing gs://cloud-ml-dev-census-regression-datalab/training/train/model.ckpt-2000.data-00000-of-00001#1487965226530396...\n",
      "Removing gs://cloud-ml-dev-census-regression-datalab/training/train/model.ckpt-2000.index#1487965226444782...\n",
      "Removing gs://cloud-ml-dev-census-regression-datalab/training/train/model.ckpt-2000.meta#1487965226230191...\n",
      "Removing gs://cloud-ml-dev-census-regression-datalab/training/training/evaluation_model/assets.extra/transforms.json#1488559858059860...\n",
      "Removing gs://cloud-ml-dev-census-regression-datalab/training/training/evaluation_model/assets.extra/schema.json#1488559857985303...\n",
      "Removing gs://cloud-ml-dev-census-regression-datalab/training/training/evaluation_model/saved_model.pb#1488559859261713...\n",
      "Removing gs://cloud-ml-dev-census-regression-datalab/training/training/evaluation_model/variables/variables.data-00000-of-00001#1488559857977755...\n",
      "Removing gs://cloud-ml-dev-census-regression-datalab/training/training/evaluation_model/variables/variables.index#1488559857987953...\n",
      "Removing gs://cloud-ml-dev-census-regression-datalab/training/training/features_file.json#1488559857970906...\n",
      "Removing gs://cloud-ml-dev-census-regression-datalab/training/training/model/assets.extra/schema.json#1488559858025139...\n",
      "Removing gs://cloud-ml-dev-census-regression-datalab/training/training/model/assets.extra/transforms.json#1488559858018308...\n",
      "Removing gs://cloud-ml-dev-census-regression-datalab/training/training/model/saved_model.pb#1488559858156252...\n",
      "Removing gs://cloud-ml-dev-census-regression-datalab/training/training/model/variables/variables.data-00000-of-00001#1488559858041904...\n",
      "Removing gs://cloud-ml-dev-census-regression-datalab/training/training/model/variables/variables.index#1488559858020358...\n",
      "Removing gs://cloud-ml-dev-census-regression-datalab/training/training/train/checkpoint#1488559859273405...\n",
      "Removing gs://cloud-ml-dev-census-regression-datalab/training/training/train/eval/events.out.tfevents.1488558519.e338aa0a4648#1488559858353837...\n",
      "Removing gs://cloud-ml-dev-census-regression-datalab/training/training/train/eval/events.out.tfevents.1488558533.e338aa0a4648#1488559858291058...\n",
      "Removing gs://cloud-ml-dev-census-regression-datalab/training/training/train/events.out.tfevents.1488558509.e338aa0a4648#1488559859111757...\n",
      "Removing gs://cloud-ml-dev-census-regression-datalab/training/training/train/export/intermediate_evaluation_models/1488558535264/assets.extra/schema.json#1488559858172749...\n",
      "Removing gs://cloud-ml-dev-census-regression-datalab/training/training/train/export/intermediate_evaluation_models/1488558535264/assets.extra/transforms.json#1488559858120965...\n",
      "Removing gs://cloud-ml-dev-census-regression-datalab/training/training/train/export/intermediate_evaluation_models/1488558535264/saved_model.pb#1488559859148754...\n",
      "Removing gs://cloud-ml-dev-census-regression-datalab/training/training/train/export/intermediate_evaluation_models/1488558535264/variables/variables.data-00000-of-00001#1488559858184378...\n",
      "Removing gs://cloud-ml-dev-census-regression-datalab/training/training/train/export/intermediate_evaluation_models/1488558535264/variables/variables.index#1488559858118284...\n",
      "Removing gs://cloud-ml-dev-census-regression-datalab/training/training/train/export/intermediate_prediction_models/1488558538341/assets.extra/schema.json#1488559858114066...\n",
      "Removing gs://cloud-ml-dev-census-regression-datalab/training/training/train/export/intermediate_prediction_models/1488558538341/assets.extra/transforms.json#1488559858137229...\n",
      "Removing gs://cloud-ml-dev-census-regression-datalab/training/training/train/export/intermediate_prediction_models/1488558538341/saved_model.pb#1488559858272619...\n",
      "Removing gs://cloud-ml-dev-census-regression-datalab/training/training/train/export/intermediate_prediction_models/1488558538341/variables/variables.data-00000-of-00001#1488559858039169...\n",
      "Removing gs://cloud-ml-dev-census-regression-datalab/training/training/train/export/intermediate_prediction_models/1488558538341/variables/variables.index#1488559858146927...\n",
      "Removing gs://cloud-ml-dev-census-regression-datalab/training/training/train/graph.pbtxt#1488559858450451...\n",
      "Removing gs://cloud-ml-dev-census-regression-datalab/training/training/train/model.ckpt-1.data-00000-of-00001#1488559858118672...\n",
      "Removing gs://cloud-ml-dev-census-regression-datalab/training/training/train/model.ckpt-2000.index#1488559858032174...\n",
      "Removing gs://cloud-ml-dev-census-regression-datalab/training/training/train/model.ckpt-1.index#1488559858135059...\n",
      "Removing gs://cloud-ml-dev-census-regression-datalab/training/training/train/model.ckpt-1.meta#1488559858282067...\n",
      "Removing gs://cloud-ml-dev-census-regression-datalab/training/training/train/model.ckpt-2000.meta#1488559858267610...\n",
      "Removing gs://cloud-ml-dev-census-regression-datalab/training/training/train/model.ckpt-2000.data-00000-of-00001#1488559858057674...\n",
      "/ [100/100 objects] 100% Done                                                   \n",
      "Operation completed over 100 objects.                                            \n"
     ]
    }
   ],
   "source": [
    "!gsutil -m rm -fr {CLOUD_TRAINING_DIR}"
   ]
  },
  {
   "cell_type": "code",
   "execution_count": 5,
   "metadata": {
    "collapsed": false
   },
   "outputs": [
    {
     "name": "stdout",
     "output_type": "stream",
     "text": [
      "Copying file://./census_regression_workspace/training/features_file.json [Content-Type=application/json]...\n",
      "Copying file://./census_regression_workspace/training/model/saved_model.pb [Content-Type=application/octet-stream]...\n",
      "Copying file://./census_regression_workspace/training/model/variables/variables.index [Content-Type=application/octet-stream]...\n",
      "Copying file://./census_regression_workspace/training/model/assets.extra/schema.json [Content-Type=application/json]...\n",
      "Copying file://./census_regression_workspace/training/model/variables/variables.data-00000-of-00001 [Content-Type=application/octet-stream]...\n",
      "Copying file://./census_regression_workspace/training/model/assets.extra/transforms.json [Content-Type=application/json]...\n",
      "Copying file://./census_regression_workspace/training/evaluation_model/variables/variables.data-00000-of-00001 [Content-Type=application/octet-stream]...\n",
      "Copying file://./census_regression_workspace/training/evaluation_model/assets.extra/schema.json [Content-Type=application/json]...\n",
      "Copying file://./census_regression_workspace/training/evaluation_model/saved_model.pb [Content-Type=application/octet-stream]...\n",
      "Copying file://./census_regression_workspace/training/evaluation_model/variables/variables.index [Content-Type=application/octet-stream]...\n",
      "Copying file://./census_regression_workspace/training/evaluation_model/assets.extra/transforms.json [Content-Type=application/json]...\n",
      "Copying file://./census_regression_workspace/training/train/model.ckpt-1.data-00000-of-00001 [Content-Type=application/octet-stream]...\n",
      "Copying file://./census_regression_workspace/training/train/model.ckpt-2000.data-00000-of-00001 [Content-Type=application/octet-stream]...\n",
      "Copying file://./census_regression_workspace/training/train/graph.pbtxt [Content-Type=application/octet-stream]...\n",
      "Copying file://./census_regression_workspace/training/train/model.ckpt-2000.index [Content-Type=application/octet-stream]...\n",
      "Copying file://./census_regression_workspace/training/train/model.ckpt-2000.meta [Content-Type=application/octet-stream]...\n",
      "Copying file://./census_regression_workspace/training/train/checkpoint [Content-Type=application/octet-stream]...\n",
      "Copying file://./census_regression_workspace/training/train/events.out.tfevents.1488558509.e338aa0a4648 [Content-Type=application/octet-stream]...\n",
      "Copying file://./census_regression_workspace/training/train/model.ckpt-1.meta [Content-Type=application/octet-stream]...\n",
      "Copying file://./census_regression_workspace/training/train/model.ckpt-1.index [Content-Type=application/octet-stream]...\n",
      "Copying file://./census_regression_workspace/training/train/export/intermediate_prediction_models/1488558538341/assets.extra/schema.json [Content-Type=application/json]...\n",
      "Copying file://./census_regression_workspace/training/train/eval/events.out.tfevents.1488558533.e338aa0a4648 [Content-Type=application/octet-stream]...\n",
      "Copying file://./census_regression_workspace/training/train/eval/events.out.tfevents.1488558519.e338aa0a4648 [Content-Type=application/octet-stream]...\n",
      "Copying file://./census_regression_workspace/training/train/export/intermediate_prediction_models/1488558538341/variables/variables.data-00000-of-00001 [Content-Type=application/octet-stream]...\n",
      "Copying file://./census_regression_workspace/training/train/export/intermediate_prediction_models/1488558538341/saved_model.pb [Content-Type=application/octet-stream]...\n",
      "Copying file://./census_regression_workspace/training/train/export/intermediate_prediction_models/1488558538341/variables/variables.index [Content-Type=application/octet-stream]...\n",
      "Copying file://./census_regression_workspace/training/train/export/intermediate_prediction_models/1488558538341/assets.extra/transforms.json [Content-Type=application/json]...\n",
      "Copying file://./census_regression_workspace/training/train/export/intermediate_evaluation_models/1488558535264/saved_model.pb [Content-Type=application/octet-stream]...\n",
      "Copying file://./census_regression_workspace/training/train/export/intermediate_evaluation_models/1488558535264/variables/variables.index [Content-Type=application/octet-stream]...\n",
      "Copying file://./census_regression_workspace/training/train/export/intermediate_evaluation_models/1488558535264/variables/variables.data-00000-of-00001 [Content-Type=application/octet-stream]...\n",
      "Copying file://./census_regression_workspace/training/train/export/intermediate_evaluation_models/1488558535264/assets.extra/transforms.json [Content-Type=application/json]...\n",
      "Copying file://./census_regression_workspace/training/train/export/intermediate_evaluation_models/1488558535264/assets.extra/schema.json [Content-Type=application/json]...\n",
      "- [32/32 files][  9.8 MiB/  9.8 MiB] 100% Done                                  \n",
      "Operation completed over 32 objects/9.8 MiB.                                     \n"
     ]
    }
   ],
   "source": [
    "!gsutil -m cp -r {LOCAL_TRAINING_DIR} {CLOUD_TRAINING_DIR}"
   ]
  },
  {
   "cell_type": "code",
   "execution_count": 6,
   "metadata": {
    "collapsed": false
   },
   "outputs": [
    {
     "name": "stdout",
     "output_type": "stream",
     "text": [
      "gs://cloud-ml-dev-census-regression-datalab/training/features_file.json\r\n",
      "gs://cloud-ml-dev-census-regression-datalab/training/evaluation_model/\r\n",
      "gs://cloud-ml-dev-census-regression-datalab/training/model/\r\n",
      "gs://cloud-ml-dev-census-regression-datalab/training/train/\r\n"
     ]
    }
   ],
   "source": [
    "!gsutil ls {CLOUD_TRAINING_DIR}"
   ]
  },
  {
   "cell_type": "markdown",
   "metadata": {},
   "source": [
    "# Online Prediction using ML Engine"
   ]
  },
  {
   "cell_type": "markdown",
   "metadata": {},
   "source": [
    "We first have to deploy the model, and then we can make requests on it."
   ]
  },
  {
   "cell_type": "code",
   "execution_count": 7,
   "metadata": {
    "collapsed": false
   },
   "outputs": [
    {
     "name": "stdout",
     "output_type": "stream",
     "text": [
      "Creating version (this might take a few minutes)......done.\n"
     ]
    }
   ],
   "source": [
    "!gcloud beta ml models create census_model --regions=us-central1\n",
    "!gcloud beta ml versions create v1 --model census_model --origin {CLOUD_TRAINING_DIR}/model"
   ]
  },
  {
   "cell_type": "code",
   "execution_count": 8,
   "metadata": {
    "collapsed": false
   },
   "outputs": [
    {
     "data": {
      "text/html": [
       "<div>\n",
       "<table border=\"1\" class=\"dataframe\">\n",
       "  <thead>\n",
       "    <tr style=\"text-align: right;\">\n",
       "      <th></th>\n",
       "      <th>SERIALNO</th>\n",
       "      <th>predicted_target</th>\n",
       "    </tr>\n",
       "  </thead>\n",
       "  <tbody>\n",
       "    <tr>\n",
       "      <th>0</th>\n",
       "      <td>490</td>\n",
       "      <td>35.7448</td>\n",
       "    </tr>\n",
       "    <tr>\n",
       "      <th>1</th>\n",
       "      <td>1225</td>\n",
       "      <td>60.2349</td>\n",
       "    </tr>\n",
       "    <tr>\n",
       "      <th>2</th>\n",
       "      <td>1226</td>\n",
       "      <td>23.0881</td>\n",
       "    </tr>\n",
       "  </tbody>\n",
       "</table>\n",
       "</div>"
      ],
      "text/plain": [
       "  SERIALNO predicted_target\n",
       "0      490          35.7448\n",
       "1     1225          60.2349\n",
       "2     1226          23.0881"
      ]
     },
     "execution_count": 8,
     "metadata": {},
     "output_type": "execute_result"
    }
   ],
   "source": [
    "sd.predict(\n",
    "  cloud=True,\n",
    "  model_name='census_model',\n",
    "  model_version='v1',\n",
    "  data=['490,64,2,0,1,0,2,8090,015,01,1,00590,00500,1,18,0,2,1',\n",
    "        '1225,32,5,0,4,5301,2,9680,015,01,1,00100,00100,1,21,2,1,1',\n",
    "        '1226,30,1,0,1,0,2,8680,020,01,1,00100,00100,1,16,0,2,1']\n",
    ")"
   ]
  },
  {
   "cell_type": "code",
   "execution_count": 9,
   "metadata": {
    "collapsed": false
   },
   "outputs": [
    {
     "data": {
      "text/html": [
       "<div>\n",
       "<table border=\"1\" class=\"dataframe\">\n",
       "  <thead>\n",
       "    <tr style=\"text-align: right;\">\n",
       "      <th></th>\n",
       "      <th>SERIALNO</th>\n",
       "      <th>predicted_target</th>\n",
       "    </tr>\n",
       "  </thead>\n",
       "  <tbody>\n",
       "    <tr>\n",
       "      <th>0</th>\n",
       "      <td>490</td>\n",
       "      <td>35.7448</td>\n",
       "    </tr>\n",
       "    <tr>\n",
       "      <th>1</th>\n",
       "      <td>1225</td>\n",
       "      <td>60.2349</td>\n",
       "    </tr>\n",
       "    <tr>\n",
       "      <th>2</th>\n",
       "      <td>1226</td>\n",
       "      <td>23.0881</td>\n",
       "    </tr>\n",
       "  </tbody>\n",
       "</table>\n",
       "</div>"
      ],
      "text/plain": [
       "  SERIALNO predicted_target\n",
       "0      490          35.7448\n",
       "1     1225          60.2349\n",
       "2     1226          23.0881"
      ]
     },
     "execution_count": 9,
     "metadata": {},
     "output_type": "execute_result"
    }
   ],
   "source": [
    "sd.predict(\n",
    "  cloud=True,\n",
    "  model_name='census_model',\n",
    "  model_version='v1',\n",
    "  data=pd.DataFrame(\n",
    "    [[490,64,2,0,1,0,2,8090,\"015\",\"01\",1,\"00590\",\"00500\",1,18,0,2,1],\n",
    "     [1225,32,5,0,4,5301,2,9680,\"015\",\"01\",1,\"00100\",\"00100\",1,21,2,1,1],\n",
    "     [1226,30,1,0,1,0,2,8680,\"020\",\"01\",1,\"00100\",\"00100\",1,16,0,2,1]])\n",
    ")"
   ]
  },
  {
   "cell_type": "markdown",
   "metadata": {},
   "source": [
    "# Cleaning things up"
   ]
  },
  {
   "cell_type": "markdown",
   "metadata": {},
   "source": [
    "If you want to delete the files you made on GCS, uncomment and run the next cell."
   ]
  },
  {
   "cell_type": "code",
   "execution_count": 10,
   "metadata": {
    "collapsed": false
   },
   "outputs": [],
   "source": [
    "#!gsutil rm -fr {CLOUD_ROOT}"
   ]
  },
  {
   "cell_type": "markdown",
   "metadata": {},
   "source": [
    "The next cell deletes the deployed model. Don't run it if you want to keep it around."
   ]
  },
  {
   "cell_type": "code",
   "execution_count": 11,
   "metadata": {
    "collapsed": false
   },
   "outputs": [
    {
     "name": "stdout",
     "output_type": "stream",
     "text": [
      "Deleting version [v1]......done.\n",
      "Deleting model [census_model]...done.\n"
     ]
    }
   ],
   "source": [
    "!gcloud beta ml versions delete v1 --model census_model \n",
    "!gcloud beta ml models delete census_model "
   ]
  },
  {
   "cell_type": "code",
   "execution_count": null,
   "metadata": {
    "collapsed": true
   },
   "outputs": [],
   "source": []
  }
 ],
 "metadata": {
  "kernelspec": {
   "display_name": "Python 2",
   "language": "python",
   "name": "python2"
  },
  "language_info": {
   "codemirror_mode": {
    "name": "ipython",
    "version": 2
   },
   "file_extension": ".py",
   "mimetype": "text/x-python",
   "name": "python",
   "nbconvert_exporter": "python",
   "pygments_lexer": "ipython2",
   "version": "2.7.9"
  }
 },
 "nbformat": 4,
 "nbformat_minor": 2
}
