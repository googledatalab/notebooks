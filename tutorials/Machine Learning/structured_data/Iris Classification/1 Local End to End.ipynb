{
 "cells": [
  {
   "cell_type": "markdown",
   "metadata": {},
   "source": [
    "# Iris Sample Notebook"
   ]
  },
  {
   "cell_type": "markdown",
   "metadata": {},
   "source": [
    "# About this notebook\n",
    "\n",
    "This notebook uses the datalab structured data package for building and running a Tensorflow classification model locally. This notebook uses the classic <a href=\"https://en.wikipedia.org/wiki/Iris_flower_data_set\">Iris flower data set.</a>\n",
    "\n",
    "In the notebooks that follow, an example of running preprocessing, training, and prediction using the Google Cloud Machine Learning Engine services are given. Note that running the cloud versions of preprocessing, training, and prediction take longer than the local versions. The performance advantage of using the cloud applies to very large data sets, and you don't see it with this sample because the data is small and run time is dominated by setup overhead."
   ]
  },
  {
   "cell_type": "markdown",
   "metadata": {},
   "source": [
    "# Setting things up"
   ]
  },
  {
   "cell_type": "markdown",
   "metadata": {},
   "source": [
    "Lets look at the versions of datalab_structured_data and TF we have. Make sure TF and SD are 1.0.0"
   ]
  },
  {
   "cell_type": "code",
   "execution_count": 1,
   "metadata": {
    "collapsed": false
   },
   "outputs": [],
   "source": [
    "import mltoolbox.classification.dnn as sd"
   ]
  },
  {
   "cell_type": "code",
   "execution_count": 2,
   "metadata": {
    "collapsed": false
   },
   "outputs": [
    {
     "name": "stdout",
     "output_type": "stream",
     "text": [
      "tf 1.0.0\n",
      "sd 1.0.0\n"
     ]
    }
   ],
   "source": [
    "import tensorflow as tf\n",
    "from tensorflow.python.lib.io import file_io\n",
    "import google.datalab.ml as ml\n",
    "import datalab\n",
    "import json\n",
    "import os\n",
    "print('tf ' + str(tf.__version__))\n",
    "print('sd ' + str(sd.__version__))"
   ]
  },
  {
   "cell_type": "markdown",
   "metadata": {},
   "source": [
    "This notebook will write files during preprocessing, training, and prediction. Please give a root folder you wish to use."
   ]
  },
  {
   "cell_type": "code",
   "execution_count": 4,
   "metadata": {
    "collapsed": false
   },
   "outputs": [],
   "source": [
    "# Edit LOCAL_ROOT if you want to save files to a different location.\n",
    "# otherwise don't change anything is this cell. If the folder\n",
    "# already exists, it will be deleted.\n",
    "LOCAL_ROOT = './iris_notebook_workspace'\n",
    "\n",
    "# No need to edit anything else in this cell. But if you do, you \n",
    "# might need to chagne the global variables in the cloud notebooks.\n",
    "LOCAL_PREPROCESSING_DIR = os.path.join(LOCAL_ROOT, 'preprocessing')\n",
    "LOCAL_TRAINING_DIR = os.path.join(LOCAL_ROOT, 'training')\n",
    "LOCAL_BATCH_PREDICTION_DIR = os.path.join(LOCAL_ROOT, 'batch_prediction')\n",
    "\n",
    "LOCAL_TRAIN_FILE = os.path.join(LOCAL_ROOT, 'train.csv')\n",
    "LOCAL_EVAL_FILE = os.path.join(LOCAL_ROOT, 'eval.csv')\n",
    "LOCAL_PREDICT_FILE = os.path.join(LOCAL_ROOT, 'predict.csv')\n",
    "\n",
    "LOCAL_SCHEMA_FILE = os.path.join(LOCAL_ROOT, 'schema.json')\n",
    "LOCAL_FEATURES_FILE = os.path.join(LOCAL_ROOT, 'features.json')\n",
    "\n",
    "if file_io.file_exists(LOCAL_ROOT):\n",
    "  file_io.delete_recursively(LOCAL_ROOT)  \n",
    "  \n",
    "file_io.recursive_create_dir(LOCAL_ROOT)"
   ]
  },
  {
   "cell_type": "markdown",
   "metadata": {},
   "source": [
    "The iris dataset is small, so the data is embedded into this notebook. Write the iris data set into 3 files: training, eval, prediction. Note that the prediction dataset does not have target values. "
   ]
  },
  {
   "cell_type": "code",
   "execution_count": 4,
   "metadata": {
    "codeCollapsed": false,
    "collapsed": false,
    "hiddenCell": false
   },
   "outputs": [
    {
     "name": "stdout",
     "output_type": "stream",
     "text": [
      "Writing ./iris_notebook_workspace/train.csv\n"
     ]
    }
   ],
   "source": [
    "%writefile {LOCAL_TRAIN_FILE}\n",
    "Iris-setosa,4,4.6,3.1,1.5,0.2\n",
    "Iris-setosa,20,5.1,3.8,1.5,0.3\n",
    "Iris-setosa,43,4.4,3.2,1.3,0.2\n",
    "Iris-versicolor,88,6.3,2.3,4.4,1.3\n",
    "Iris-versicolor,76,6.6,3,4.4,1.4\n",
    "Iris-versicolor,63,6,2.2,4,1\n",
    "Iris-setosa,47,5.1,3.8,1.6,0.2\n",
    "Iris-virginica,146,6.7,3,5.2,2.3\n",
    "Iris-versicolor,53,6.9,3.1,4.9,1.5\n",
    "Iris-versicolor,71,5.9,3.2,4.8,1.8\n",
    "Iris-virginica,144,6.8,3.2,5.9,2.3\n",
    "Iris-virginica,124,6.3,2.7,4.9,1.8\n",
    "Iris-virginica,122,5.6,2.8,4.9,2\n",
    "Iris-setosa,17,5.4,3.9,1.3,0.4\n",
    "Iris-setosa,7,4.6,3.4,1.4,0.3\n",
    "Iris-versicolor,87,6.7,3.1,4.7,1.5\n",
    "Iris-virginica,131,7.4,2.8,6.1,1.9\n",
    "Iris-setosa,2,4.9,3,1.4,0.2\n",
    "Iris-virginica,147,6.3,2.5,5,1.9\n",
    "Iris-setosa,29,5.2,3.4,1.4,0.2\n",
    "Iris-versicolor,91,5.5,2.6,4.4,1.2\n",
    "Iris-virginica,110,7.2,3.6,6.1,2.5\n",
    "Iris-virginica,121,6.9,3.2,5.7,2.3\n",
    "Iris-setosa,45,5.1,3.8,1.9,0.4\n",
    "Iris-setosa,10,4.9,3.1,1.5,0.1\n",
    "Iris-setosa,36,5,3.2,1.2,0.2\n",
    "Iris-virginica,112,6.4,2.7,5.3,1.9\n",
    "Iris-setosa,46,4.8,3,1.4,0.3\n",
    "Iris-virginica,132,7.9,3.8,6.4,2\n",
    "Iris-versicolor,77,6.8,2.8,4.8,1.4\n",
    "Iris-setosa,6,5.4,3.9,1.7,0.4\n",
    "Iris-versicolor,90,5.5,2.5,4,1.3\n",
    "Iris-virginica,137,6.3,3.4,5.6,2.4\n",
    "Iris-setosa,31,4.8,3.1,1.6,0.2\n",
    "Iris-virginica,120,6,2.2,5,1.5\n",
    "Iris-virginica,138,6.4,3.1,5.5,1.8\n",
    "Iris-setosa,24,5.1,3.3,1.7,0.5\n",
    "Iris-versicolor,96,5.7,3,4.2,1.2\n",
    "Iris-versicolor,68,5.8,2.7,4.1,1\n",
    "Iris-virginica,150,5.9,3,5.1,1.8\n",
    "Iris-setosa,26,5,3,1.6,0.2\n",
    "Iris-versicolor,98,6.2,2.9,4.3,1.3\n",
    "Iris-versicolor,80,5.7,2.6,3.5,1\n",
    "Iris-versicolor,72,6.1,2.8,4,1.3\n",
    "Iris-versicolor,75,6.4,2.9,4.3,1.3\n",
    "Iris-setosa,38,4.9,3.1,1.5,0.1\n",
    "Iris-setosa,35,4.9,3.1,1.5,0.1\n",
    "Iris-versicolor,89,5.6,3,4.1,1.3\n",
    "Iris-versicolor,84,6,2.7,5.1,1.6\n",
    "Iris-versicolor,51,7,3.2,4.7,1.4\n",
    "Iris-virginica,116,6.4,3.2,5.3,2.3\n",
    "Iris-versicolor,54,5.5,2.3,4,1.3\n",
    "Iris-virginica,130,7.2,3,5.8,1.6\n",
    "Iris-virginica,115,5.8,2.8,5.1,2.4\n",
    "Iris-setosa,32,5.4,3.4,1.5,0.4\n",
    "Iris-virginica,104,6.3,2.9,5.6,1.8\n",
    "Iris-versicolor,64,6.1,2.9,4.7,1.4\n",
    "Iris-setosa,18,5.1,3.5,1.4,0.3\n",
    "Iris-versicolor,66,6.7,3.1,4.4,1.4\n",
    "Iris-setosa,15,5.8,4,1.2,0.2\n",
    "Iris-versicolor,52,6.4,3.2,4.5,1.5\n",
    "Iris-virginica,103,7.1,3,5.9,2.1\n",
    "Iris-setosa,9,4.4,2.9,1.4,0.2\n",
    "Iris-versicolor,83,5.8,2.7,3.9,1.2\n",
    "Iris-virginica,135,6.1,2.6,5.6,1.4\n",
    "Iris-virginica,139,6,3,4.8,1.8\n",
    "Iris-versicolor,85,5.4,3,4.5,1.5\n",
    "Iris-virginica,106,7.6,3,6.6,2.1\n",
    "Iris-setosa,27,5,3.4,1.6,0.4\n",
    "Iris-virginica,140,6.9,3.1,5.4,2.1\n",
    "Iris-versicolor,67,5.6,3,4.5,1.5\n",
    "Iris-setosa,12,4.8,3.4,1.6,0.2\n",
    "Iris-versicolor,56,5.7,2.8,4.5,1.3\n",
    "Iris-virginica,113,6.8,3,5.5,2.1\n",
    "Iris-versicolor,62,5.9,3,4.2,1.5\n",
    "Iris-virginica,145,6.7,3.3,5.7,2.5\n",
    "Iris-virginica,111,6.5,3.2,5.1,2\n",
    "Iris-virginica,141,6.7,3.1,5.6,2.4\n",
    "Iris-setosa,34,5.5,4.2,1.4,0.2\n",
    "Iris-versicolor,81,5.5,2.4,3.8,1.1\n",
    "Iris-setosa,8,5,3.4,1.5,0.2\n",
    "Iris-virginica,129,6.4,2.8,5.6,2.1\n",
    "Iris-versicolor,57,6.3,3.3,4.7,1.6\n",
    "Iris-virginica,128,6.1,3,4.9,1.8\n",
    "Iris-virginica,119,7.7,2.6,6.9,2.3\n",
    "Iris-virginica,126,7.2,3.2,6,1.8\n",
    "Iris-versicolor,58,4.9,2.4,3.3,1\n",
    "Iris-virginica,117,6.5,3,5.5,1.8\n",
    "Iris-virginica,127,6.2,2.8,4.8,1.8\n",
    "Iris-setosa,16,5.7,4.4,1.5,0.4\n",
    "Iris-setosa,3,4.7,3.2,1.3,0.2\n",
    "Iris-virginica,108,7.3,2.9,6.3,1.8\n",
    "Iris-virginica,118,7.7,3.8,6.7,2.2\n",
    "Iris-setosa,42,4.5,2.3,1.3,0.3\n",
    "Iris-virginica,142,6.9,3.1,5.1,2.3\n",
    "Iris-setosa,14,4.3,3,1.1,0.1\n",
    "Iris-virginica,134,6.3,2.8,5.1,1.5\n",
    "Iris-versicolor,94,5,2.3,3.3,1\n",
    "Iris-setosa,19,5.7,3.8,1.7,0.3\n",
    "Iris-virginica,133,6.4,2.8,5.6,2.2\n",
    "Iris-virginica,114,5.7,2.5,5,2\n",
    "Iris-versicolor,86,6,3.4,4.5,1.6\n",
    "Iris-versicolor,93,5.8,2.6,4,1.2\n",
    "Iris-versicolor,92,6.1,3,4.6,1.4\n",
    "Iris-virginica,109,6.7,2.5,5.8,1.8\n",
    "Iris-virginica,102,5.8,2.7,5.1,1.9\n",
    "Iris-setosa,41,5,3.5,1.3,0.3\n",
    "Iris-versicolor,60,5.2,2.7,3.9,1.4\n",
    "Iris-virginica,105,6.5,3,5.8,2.2\n",
    "Iris-versicolor,65,5.6,2.9,3.6,1.3\n",
    "Iris-setosa,28,5.2,3.5,1.5,0.2\n",
    "Iris-versicolor,82,5.5,2.4,3.7,1\n",
    "Iris-setosa,25,4.8,3.4,1.9,0.2\n",
    "Iris-versicolor,79,6,2.9,4.5,1.5\n",
    "Iris-setosa,1,5.1,3.5,1.4,0.2\n",
    "Iris-versicolor,61,5,2,3.5,1\n",
    "Iris-virginica,149,6.2,3.4,5.4,2.3\n",
    "Iris-setosa,48,4.6,3.2,1.4,0.2\n",
    "Iris-setosa,22,5.1,3.7,1.5,0.4\n",
    "Iris-setosa,30,4.7,3.2,1.6,0.2"
   ]
  },
  {
   "cell_type": "code",
   "execution_count": 5,
   "metadata": {
    "codeCollapsed": false,
    "collapsed": false,
    "hiddenCell": true
   },
   "outputs": [
    {
     "name": "stdout",
     "output_type": "stream",
     "text": [
      "Writing ./iris_notebook_workspace/eval.csv\n"
     ]
    }
   ],
   "source": [
    "%writefile {LOCAL_EVAL_FILE}\n",
    "Iris-virginica,107,4.9,2.5,4.5,1.7\n",
    "Iris-versicolor,100,5.7,2.8,4.1,1.3\n",
    "Iris-versicolor,99,5.1,2.5,3,1.1\n",
    "Iris-setosa,13,4.8,3,1.4,0.1\n",
    "Iris-versicolor,70,5.6,2.5,3.9,1.1\n",
    "Iris-setosa,11,5.4,3.7,1.5,0.2\n",
    "Iris-setosa,37,5.5,3.5,1.3,0.2\n",
    "Iris-versicolor,69,6.2,2.2,4.5,1.5\n",
    "Iris-setosa,40,5.1,3.4,1.5,0.2\n",
    "Iris-virginica,101,6.3,3.3,6,2.5\n",
    "Iris-setosa,39,4.4,3,1.3,0.2\n",
    "Iris-versicolor,74,6.1,2.8,4.7,1.2\n",
    "Iris-versicolor,97,5.7,2.9,4.2,1.3\n",
    "Iris-setosa,50,5,3.3,1.4,0.2\n",
    "Iris-versicolor,95,5.6,2.7,4.2,1.3\n",
    "Iris-setosa,44,5,3.5,1.6,0.6\n",
    "Iris-virginica,123,7.7,2.8,6.7,2\n",
    "Iris-setosa,23,4.6,3.6,1,0.2\n",
    "Iris-versicolor,59,6.6,2.9,4.6,1.3\n",
    "Iris-virginica,148,6.5,3,5.2,2\n",
    "Iris-versicolor,55,6.5,2.8,4.6,1.5\n",
    "Iris-setosa,49,5.3,3.7,1.5,0.2\n",
    "Iris-versicolor,78,6.7,3,5,1.7\n",
    "Iris-versicolor,73,6.3,2.5,4.9,1.5\n",
    "Iris-virginica,136,7.7,3,6.1,2.3\n",
    "Iris-setosa,33,5.2,4.1,1.5,0.1\n",
    "Iris-virginica,125,6.7,3.3,5.7,2.1\n",
    "Iris-virginica,143,5.8,2.7,5.1,1.9\n",
    "Iris-setosa,21,5.4,3.4,1.7,0.2\n",
    "Iris-setosa,5,5,3.6,1.4,0.2"
   ]
  },
  {
   "cell_type": "code",
   "execution_count": 6,
   "metadata": {
    "collapsed": false,
    "hiddenCell": true
   },
   "outputs": [
    {
     "name": "stdout",
     "output_type": "stream",
     "text": [
      "Writing ./iris_notebook_workspace/predict.csv\n"
     ]
    }
   ],
   "source": [
    "%writefile {LOCAL_PREDICT_FILE}\n",
    "107,4.9,2.5,4.5,1.7\n",
    "100,5.7,2.8,4.1,1.3\n",
    "99,5.1,2.5,3,1.1\n",
    "13,4.8,3,1.4,0.1\n",
    "70,5.6,2.5,3.9,1.1\n",
    "11,5.4,3.7,1.5,0.2\n",
    "37,5.5,3.5,1.3,0.2\n",
    "69,6.2,2.2,4.5,1.5\n",
    "40,5.1,3.4,1.5,0.2\n",
    "101,6.3,3.3,6,2.5\n",
    "39,4.4,3,1.3,0.2\n",
    "74,6.1,2.8,4.7,1.2\n",
    "97,5.7,2.9,4.2,1.3\n",
    "50,5,3.3,1.4,0.2\n",
    "95,5.6,2.7,4.2,1.3\n",
    "44,5,3.5,1.6,0.6\n",
    "123,7.7,2.8,6.7,2\n",
    "23,4.6,3.6,1,0.2\n",
    "59,6.6,2.9,4.6,1.3\n",
    "148,6.5,3,5.2,2\n",
    "55,6.5,2.8,4.6,1.5\n",
    "49,5.3,3.7,1.5,0.2\n",
    "78,6.7,3,5,1.7\n",
    "73,6.3,2.5,4.9,1.5\n",
    "136,7.7,3,6.1,2.3\n",
    "33,5.2,4.1,1.5,0.1\n",
    "125,6.7,3.3,5.7,2.1\n",
    "143,5.8,2.7,5.1,1.9\n",
    "21,5.4,3.4,1.7,0.2\n",
    "5,5,3.6,1.4,0.2"
   ]
  },
  {
   "cell_type": "markdown",
   "metadata": {},
   "source": [
    "# Local preprocessing starting from csv files"
   ]
  },
  {
   "cell_type": "markdown",
   "metadata": {},
   "source": [
    "A schema file is used to describe each column of the csv files. It is assumed that the train, eval, and prediction csv files all have the same schema, but the prediction file has a missing target column. The format of the  schema file is a valid BigQuery table schema file. This allows BigQuery to be used later in cloud preprocessing. Only 3 BigQuery types are supported: STRING (for categorical columns) and INTEGER and FLOAT (for numerical columns)."
   ]
  },
  {
   "cell_type": "code",
   "execution_count": 7,
   "metadata": {
    "collapsed": false
   },
   "outputs": [],
   "source": [
    "schema = [\n",
    "    {\n",
    "        \"name\": \"flower\",\n",
    "        \"type\": \"STRING\"\n",
    "    },\n",
    "    {\n",
    "        \"name\": \"key\",\n",
    "        \"type\": \"INTEGER\"\n",
    "    },\n",
    "    {\n",
    "        \"name\": \"sepal_length\",\n",
    "        \"type\": \"FLOAT\"\n",
    "    },\n",
    "    {\n",
    "        \"name\": \"sepal_width\",\n",
    "        \"type\": \"FLOAT\"\n",
    "    },\n",
    "    {\n",
    "        \"name\": \"petal_length\",\n",
    "        \"type\": \"FLOAT\"\n",
    "    },\n",
    "    {\n",
    "        \"name\": \"petal_width\",\n",
    "        \"type\": \"FLOAT\"\n",
    "    }   \n",
    "]\n",
    "\n",
    "# Write schema to a file so that the cloud notebooks can use it.\n",
    "file_io.write_string_to_file(\n",
    "  LOCAL_SCHEMA_FILE,\n",
    "  json.dumps(schema, indent=2))"
   ]
  },
  {
   "cell_type": "code",
   "execution_count": 8,
   "metadata": {
    "collapsed": false
   },
   "outputs": [],
   "source": [
    "!rm -fr {LOCAL_PREPROCESSING_DIR}"
   ]
  },
  {
   "cell_type": "code",
   "execution_count": 9,
   "metadata": {
    "collapsed": false
   },
   "outputs": [],
   "source": [
    "train_csv = ml.CsvDataSet(\n",
    "  file_pattern=LOCAL_TRAIN_FILE,\n",
    "  schema=schema)\n",
    "eval_csv = ml.CsvDataSet(\n",
    "  file_pattern=LOCAL_EVAL_FILE,\n",
    "  schema=schema)"
   ]
  },
  {
   "cell_type": "code",
   "execution_count": 10,
   "metadata": {
    "collapsed": false
   },
   "outputs": [
    {
     "name": "stdout",
     "output_type": "stream",
     "text": [
      "Analyze: completed\n"
     ]
    }
   ],
   "source": [
    "sd.analyze(\n",
    "  dataset=train_csv,\n",
    "  output_dir=LOCAL_PREPROCESSING_DIR,\n",
    ")"
   ]
  },
  {
   "cell_type": "markdown",
   "metadata": {},
   "source": [
    "The output of preprocessing is a numerical_analysis file that contains analysis from the numerical columns, and a vocab file from each categorical column. The files preoduced by preprocessing are consumed in training, and you should not have to worry about these files. Just for fun, lets look at them."
   ]
  },
  {
   "cell_type": "code",
   "execution_count": 11,
   "metadata": {
    "collapsed": false
   },
   "outputs": [
    {
     "name": "stdout",
     "output_type": "stream",
     "text": [
      "schema.json  stats.json  vocab_flower.csv\r\n"
     ]
    }
   ],
   "source": [
    "!ls  {LOCAL_PREPROCESSING_DIR}"
   ]
  },
  {
   "cell_type": "code",
   "execution_count": 12,
   "metadata": {
    "collapsed": false
   },
   "outputs": [
    {
     "name": "stdout",
     "output_type": "stream",
     "text": [
      "cat: ./iris_notebook_workspace/preprocessing/numerical_analysis.json: No such file or directory\r\n"
     ]
    }
   ],
   "source": [
    "!cat {LOCAL_PREPROCESSING_DIR}/numerical_analysis.json"
   ]
  },
  {
   "cell_type": "code",
   "execution_count": 13,
   "metadata": {
    "collapsed": false
   },
   "outputs": [
    {
     "name": "stdout",
     "output_type": "stream",
     "text": [
      "[{\"type\": \"STRING\", \"name\": \"flower\"}, {\"type\": \"INTEGER\", \"name\": \"key\"}, {\"type\": \"FLOAT\", \"name\": \"sepal_length\"}, {\"type\": \"FLOAT\", \"name\": \"sepal_width\"}, {\"type\": \"FLOAT\", \"name\": \"petal_length\"}, {\"type\": \"FLOAT\", \"name\": \"petal_width\"}]"
     ]
    }
   ],
   "source": [
    "!cat {LOCAL_PREPROCESSING_DIR}/schema.json"
   ]
  },
  {
   "cell_type": "code",
   "execution_count": 14,
   "metadata": {
    "collapsed": false
   },
   "outputs": [
    {
     "name": "stdout",
     "output_type": "stream",
     "text": [
      "Iris-virginica\r\n",
      "Iris-setosa\r\n",
      "Iris-versicolor"
     ]
    }
   ],
   "source": [
    "!cat {LOCAL_PREPROCESSING_DIR}/vocab_flower.csv"
   ]
  },
  {
   "cell_type": "markdown",
   "metadata": {},
   "source": [
    "# Local Training"
   ]
  },
  {
   "cell_type": "markdown",
   "metadata": {},
   "source": [
    "The files in the output folder of preprocessing are consumed by the trainer. Training requires a transform config file to describe what transforms to apply on the data. The key and target transform are the only required transform, a default transform will be applied to every other column if it is not listed in the transforms."
   ]
  },
  {
   "cell_type": "code",
   "execution_count": 15,
   "metadata": {
    "collapsed": false
   },
   "outputs": [],
   "source": [
    "features = {\n",
    "  \"sepal_length\": {\"transform\": \"scale\"},\n",
    "  \"sepal_width\": {\"transform\": \"scale\"},\n",
    "  \"key\": {\"transform\": \"key\"},\n",
    "  \"flower\": {\"transform\": \"target\"}\n",
    " }\n",
    "\n",
    "# Write the features to a file so that the cloud notebooks can use the same features.\n",
    "file_io.write_string_to_file(\n",
    "  LOCAL_FEATURES_FILE,\n",
    "  json.dumps(features, indent=2)\n",
    ")"
   ]
  },
  {
   "cell_type": "code",
   "execution_count": 16,
   "metadata": {
    "collapsed": false
   },
   "outputs": [],
   "source": [
    "!rm -fr {LOCAL_TRAINING_DIR}"
   ]
  },
  {
   "cell_type": "code",
   "execution_count": 17,
   "metadata": {
    "collapsed": false
   },
   "outputs": [
    {
     "name": "stdout",
     "output_type": "stream",
     "text": [
      "INFO:tensorflow:loss = 1.74143, step = 1\n",
      "INFO:tensorflow:Saving dict for global step 1: accuracy = 0.21875, auc = 0.387695, global_step = 1, loss = 0.67794\n",
      "INFO:tensorflow:global_step/sec: 69.2366\n",
      "INFO:tensorflow:loss = 0.209353, step = 101\n",
      "INFO:tensorflow:global_step/sec: 439.197\n",
      "INFO:tensorflow:loss = 0.07955, step = 201\n",
      "INFO:tensorflow:global_step/sec: 410.236\n",
      "INFO:tensorflow:loss = 0.0899018, step = 301\n",
      "INFO:tensorflow:global_step/sec: 411.115\n",
      "INFO:tensorflow:loss = 0.0461721, step = 401\n",
      "INFO:tensorflow:global_step/sec: 392.261\n",
      "INFO:tensorflow:loss = 0.035293, step = 501\n",
      "INFO:tensorflow:global_step/sec: 341.426\n",
      "INFO:tensorflow:loss = 0.0429217, step = 601\n",
      "INFO:tensorflow:global_step/sec: 345.313\n",
      "INFO:tensorflow:loss = 0.0517627, step = 701\n",
      "INFO:tensorflow:global_step/sec: 354.329\n",
      "INFO:tensorflow:loss = 0.058494, step = 801\n",
      "INFO:tensorflow:global_step/sec: 347.247\n",
      "INFO:tensorflow:loss = 0.0233739, step = 901\n",
      "INFO:tensorflow:Saving dict for global step 1000: accuracy = 0.46875, auc = 0.994141, global_step = 1000, loss = 0.0717086\n",
      "Training: completed\n"
     ]
    }
   ],
   "source": [
    "sd.train(\n",
    "  train_dataset=train_csv,\n",
    "  eval_dataset=eval_csv,\n",
    "  features=features,\n",
    "  analysis_dir=LOCAL_PREPROCESSING_DIR,\n",
    "  output_dir=LOCAL_TRAINING_DIR,\n",
    "  top_n=3,\n",
    "  layer_sizes=[10, 10],\n",
    "  max_steps=1000,\n",
    ")"
   ]
  },
  {
   "cell_type": "code",
   "execution_count": 18,
   "metadata": {
    "collapsed": false
   },
   "outputs": [
    {
     "name": "stdout",
     "output_type": "stream",
     "text": [
      "evaluation_model  features_file.json  model  train\r\n"
     ]
    }
   ],
   "source": [
    "!ls {LOCAL_TRAINING_DIR}"
   ]
  },
  {
   "cell_type": "markdown",
   "metadata": {},
   "source": [
    "# Local prediction"
   ]
  },
  {
   "cell_type": "markdown",
   "metadata": {},
   "source": [
    "Local predict uses the model produced by training. The input data can be a csv string or Pandas DataFrame, but the schema must match the data set used for training, except the target column is missing. That is, if the training dataset had the values \"id,target,value1,value2\", the prediction data must be in the form \"id,value1,value2\"."
   ]
  },
  {
   "cell_type": "code",
   "execution_count": 19,
   "metadata": {
    "collapsed": false
   },
   "outputs": [
    {
     "data": {
      "text/html": [
       "<div>\n",
       "<table border=\"1\" class=\"dataframe\">\n",
       "  <thead>\n",
       "    <tr style=\"text-align: right;\">\n",
       "      <th></th>\n",
       "      <th>key</th>\n",
       "      <th>predicted</th>\n",
       "      <th>predicted_2</th>\n",
       "      <th>predicted_3</th>\n",
       "      <th>score</th>\n",
       "      <th>score_2</th>\n",
       "      <th>score_3</th>\n",
       "    </tr>\n",
       "  </thead>\n",
       "  <tbody>\n",
       "    <tr>\n",
       "      <th>0</th>\n",
       "      <td>101</td>\n",
       "      <td>Iris-virginica</td>\n",
       "      <td>Iris-versicolor</td>\n",
       "      <td>Iris-setosa</td>\n",
       "      <td>0.999992</td>\n",
       "      <td>0.000008</td>\n",
       "      <td>7.081078e-14</td>\n",
       "    </tr>\n",
       "    <tr>\n",
       "      <th>1</th>\n",
       "      <td>107</td>\n",
       "      <td>Iris-versicolor</td>\n",
       "      <td>Iris-virginica</td>\n",
       "      <td>Iris-setosa</td>\n",
       "      <td>0.867559</td>\n",
       "      <td>0.132439</td>\n",
       "      <td>2.379698e-06</td>\n",
       "    </tr>\n",
       "    <tr>\n",
       "      <th>2</th>\n",
       "      <td>100</td>\n",
       "      <td>Iris-versicolor</td>\n",
       "      <td>Iris-setosa</td>\n",
       "      <td>Iris-virginica</td>\n",
       "      <td>0.999852</td>\n",
       "      <td>0.000119</td>\n",
       "      <td>2.854272e-05</td>\n",
       "    </tr>\n",
       "  </tbody>\n",
       "</table>\n",
       "</div>"
      ],
      "text/plain": [
       "   key        predicted      predicted_2     predicted_3     score   score_2  \\\n",
       "0  101   Iris-virginica  Iris-versicolor     Iris-setosa  0.999992  0.000008   \n",
       "1  107  Iris-versicolor   Iris-virginica     Iris-setosa  0.867559  0.132439   \n",
       "2  100  Iris-versicolor      Iris-setosa  Iris-virginica  0.999852  0.000119   \n",
       "\n",
       "        score_3  \n",
       "0  7.081078e-14  \n",
       "1  2.379698e-06  \n",
       "2  2.854272e-05  "
      ]
     },
     "execution_count": 19,
     "metadata": {},
     "output_type": "execute_result"
    }
   ],
   "source": [
    "sd.predict(\n",
    "  cloud=False,\n",
    "  training_dir=LOCAL_TRAINING_DIR,\n",
    "  data=['101,6.3,3.3,6,2.5',\n",
    "        '107,4.9,2.5,4.5,1.7',\n",
    "        '100,5.7,2.8,4.1,1.3']\n",
    ")"
   ]
  },
  {
   "cell_type": "code",
   "execution_count": 20,
   "metadata": {
    "collapsed": false
   },
   "outputs": [
    {
     "data": {
      "text/html": [
       "<div>\n",
       "<table border=\"1\" class=\"dataframe\">\n",
       "  <thead>\n",
       "    <tr style=\"text-align: right;\">\n",
       "      <th></th>\n",
       "      <th>key</th>\n",
       "      <th>predicted</th>\n",
       "      <th>predicted_2</th>\n",
       "      <th>predicted_3</th>\n",
       "      <th>score</th>\n",
       "      <th>score_2</th>\n",
       "      <th>score_3</th>\n",
       "    </tr>\n",
       "  </thead>\n",
       "  <tbody>\n",
       "    <tr>\n",
       "      <th>0</th>\n",
       "      <td>101</td>\n",
       "      <td>Iris-virginica</td>\n",
       "      <td>Iris-versicolor</td>\n",
       "      <td>Iris-setosa</td>\n",
       "      <td>0.999992</td>\n",
       "      <td>0.000008</td>\n",
       "      <td>7.081078e-14</td>\n",
       "    </tr>\n",
       "    <tr>\n",
       "      <th>1</th>\n",
       "      <td>107</td>\n",
       "      <td>Iris-versicolor</td>\n",
       "      <td>Iris-virginica</td>\n",
       "      <td>Iris-setosa</td>\n",
       "      <td>0.867559</td>\n",
       "      <td>0.132439</td>\n",
       "      <td>2.379698e-06</td>\n",
       "    </tr>\n",
       "    <tr>\n",
       "      <th>2</th>\n",
       "      <td>100</td>\n",
       "      <td>Iris-versicolor</td>\n",
       "      <td>Iris-setosa</td>\n",
       "      <td>Iris-virginica</td>\n",
       "      <td>0.999852</td>\n",
       "      <td>0.000119</td>\n",
       "      <td>2.854272e-05</td>\n",
       "    </tr>\n",
       "  </tbody>\n",
       "</table>\n",
       "</div>"
      ],
      "text/plain": [
       "   key        predicted      predicted_2     predicted_3     score   score_2  \\\n",
       "0  101   Iris-virginica  Iris-versicolor     Iris-setosa  0.999992  0.000008   \n",
       "1  107  Iris-versicolor   Iris-virginica     Iris-setosa  0.867559  0.132439   \n",
       "2  100  Iris-versicolor      Iris-setosa  Iris-virginica  0.999852  0.000119   \n",
       "\n",
       "        score_3  \n",
       "0  7.081078e-14  \n",
       "1  2.379698e-06  \n",
       "2  2.854272e-05  "
      ]
     },
     "execution_count": 20,
     "metadata": {},
     "output_type": "execute_result"
    }
   ],
   "source": [
    "import pandas as pd\n",
    "sd.predict(\n",
    "  cloud=False,\n",
    "  training_dir=LOCAL_TRAINING_DIR,\n",
    "  data=pd.DataFrame(\n",
    "    [[101,6.3,3.3,6,2.5],\n",
    "     [107,4.9,2.5,4.5,1.7],\n",
    "     [100,5.7,2.8,4.1,1.3]])\n",
    ")"
   ]
  },
  {
   "cell_type": "markdown",
   "metadata": {},
   "source": [
    "# Local batch prediction"
   ]
  },
  {
   "cell_type": "markdown",
   "metadata": {},
   "source": [
    "Local batch prediction runs prediction on batched input data. This is ideal if the input dataset is very large or you have limited available main memory. However, for very large datasets, it is better to run batch prediction using the Google Cloud Machine Learning Engine services. Two output formats are supported, csv and json. The output may also be shardded. Another feature of batch prediction is the option to run evaluation--prediction on data that contains the target column. Like local_predict, the input data must batch the schema used for training."
   ]
  },
  {
   "cell_type": "code",
   "execution_count": 21,
   "metadata": {
    "collapsed": true
   },
   "outputs": [],
   "source": [
    "!rm -fr {LOCAL_BATCH_PREDICTION_DIR}"
   ]
  },
  {
   "cell_type": "code",
   "execution_count": 28,
   "metadata": {
    "collapsed": false
   },
   "outputs": [
    {
     "name": "stdout",
     "output_type": "stream",
     "text": [
      "Batch predict: completed\n"
     ]
    }
   ],
   "source": [
    "sd.batch_predict(\n",
    "  cloud=False,\n",
    "  training_dir=LOCAL_TRAINING_DIR,\n",
    "  prediction_input_file=LOCAL_PREDICT_FILE,\n",
    "  output_dir=LOCAL_BATCH_PREDICTION_DIR,\n",
    "  output_format='json',\n",
    "  mode='prediction'\n",
    ")"
   ]
  },
  {
   "cell_type": "code",
   "execution_count": 23,
   "metadata": {
    "collapsed": false
   },
   "outputs": [
    {
     "name": "stdout",
     "output_type": "stream",
     "text": [
      "csv_schema.json  errors-00000-of-00001.txt  predictions-00000-of-00001.csv\r\n"
     ]
    }
   ],
   "source": [
    "!ls {LOCAL_BATCH_PREDICTION_DIR}"
   ]
  },
  {
   "cell_type": "code",
   "execution_count": 25,
   "metadata": {
    "collapsed": true
   },
   "outputs": [],
   "source": [
    "!cat {LOCAL_BATCH_PREDICTION_DIR}/errors*"
   ]
  },
  {
   "cell_type": "code",
   "execution_count": 26,
   "metadata": {
    "collapsed": false
   },
   "outputs": [
    {
     "name": "stdout",
     "output_type": "stream",
     "text": [
      "107,Iris-versicolor,Iris-virginica,Iris-setosa,0.867558956146,0.132438704371,2.37969811678e-06,Iris-virginica\r\n",
      "100,Iris-versicolor,Iris-setosa,Iris-virginica,0.999852180481,0.00011926957086,2.85427249764e-05,Iris-versicolor\r\n",
      "99,Iris-versicolor,Iris-setosa,Iris-virginica,0.986720323563,0.0132795013487,1.19303962265e-07,Iris-versicolor\r\n",
      "13,Iris-setosa,Iris-versicolor,Iris-virginica,0.999849915504,0.000150029110955,1.4083014885e-20,Iris-setosa\r\n",
      "70,Iris-versicolor,Iris-setosa,Iris-virginica,0.999698281288,0.000294941884931,6.79561981087e-06,Iris-versicolor\r\n",
      "11,Iris-setosa,Iris-versicolor,Iris-virginica,0.999943137169,5.69041731069e-05,6.7298695701e-22,Iris-setosa\r\n",
      "37,Iris-setosa,Iris-versicolor,Iris-virginica,0.999901294708,9.86894810922e-05,4.75667383971e-21,Iris-setosa\r\n",
      "69,Iris-versicolor,Iris-virginica,Iris-setosa,0.772745370865,0.227253630757,9.68774770627e-07,Iris-versicolor\r\n",
      "40,Iris-setosa,Iris-versicolor,Iris-virginica,0.999900817871,9.91590641206e-05,4.58723752346e-21,Iris-setosa\r\n",
      "101,Iris-virginica,Iris-versicolor,Iris-setosa,0.999991893768,8.05744730314e-06,7.08107753206e-14,Iris-virginica\r\n"
     ]
    }
   ],
   "source": [
    "!head {LOCAL_BATCH_PREDICTION_DIR}/predictions-00000*"
   ]
  },
  {
   "cell_type": "code",
   "execution_count": 32,
   "metadata": {
    "collapsed": true
   },
   "outputs": [],
   "source": [
    "!rm -fr {LOCAL_BATCH_PREDICTION_DIR}"
   ]
  },
  {
   "cell_type": "code",
   "execution_count": 33,
   "metadata": {
    "collapsed": false
   },
   "outputs": [
    {
     "name": "stdout",
     "output_type": "stream",
     "text": [
      "Batch predict: completed\n"
     ]
    }
   ],
   "source": [
    "sd.batch_predict(\n",
    "  cloud=False,\n",
    "  training_dir=LOCAL_TRAINING_DIR,\n",
    "  prediction_input_file=LOCAL_EVAL_FILE,\n",
    "  output_dir=LOCAL_BATCH_PREDICTION_DIR,\n",
    "  output_format='csv',\n",
    "  mode='evaluation',\n",
    ")"
   ]
  },
  {
   "cell_type": "code",
   "execution_count": 34,
   "metadata": {
    "collapsed": false
   },
   "outputs": [
    {
     "name": "stdout",
     "output_type": "stream",
     "text": [
      "csv_schema.json  errors-00000-of-00001.txt  predictions-00000-of-00001.csv\r\n"
     ]
    }
   ],
   "source": [
    "!ls {LOCAL_BATCH_PREDICTION_DIR}"
   ]
  },
  {
   "cell_type": "code",
   "execution_count": 35,
   "metadata": {
    "collapsed": false
   },
   "outputs": [
    {
     "name": "stdout",
     "output_type": "stream",
     "text": [
      "107,Iris-versicolor,Iris-virginica,Iris-setosa,0.867558956146,0.132438704371,2.37969811678e-06,Iris-virginica\r\n",
      "100,Iris-versicolor,Iris-setosa,Iris-virginica,0.999852180481,0.00011926957086,2.85427249764e-05,Iris-versicolor\r\n",
      "99,Iris-versicolor,Iris-setosa,Iris-virginica,0.986720323563,0.0132795013487,1.19303962265e-07,Iris-versicolor\r\n",
      "13,Iris-setosa,Iris-versicolor,Iris-virginica,0.999849915504,0.000150029110955,1.4083014885e-20,Iris-setosa\r\n",
      "70,Iris-versicolor,Iris-setosa,Iris-virginica,0.999698281288,0.000294941884931,6.79561981087e-06,Iris-versicolor\r\n",
      "11,Iris-setosa,Iris-versicolor,Iris-virginica,0.999943137169,5.69041731069e-05,6.7298695701e-22,Iris-setosa\r\n",
      "37,Iris-setosa,Iris-versicolor,Iris-virginica,0.999901294708,9.86894810922e-05,4.75667383971e-21,Iris-setosa\r\n",
      "69,Iris-versicolor,Iris-virginica,Iris-setosa,0.772745370865,0.227253630757,9.68774770627e-07,Iris-versicolor\r\n",
      "40,Iris-setosa,Iris-versicolor,Iris-virginica,0.999900817871,9.91590641206e-05,4.58723752346e-21,Iris-setosa\r\n",
      "101,Iris-virginica,Iris-versicolor,Iris-setosa,0.999991893768,8.05744730314e-06,7.08107753206e-14,Iris-virginica\r\n"
     ]
    }
   ],
   "source": [
    "!head {LOCAL_BATCH_PREDICTION_DIR}/predictions*"
   ]
  },
  {
   "cell_type": "code",
   "execution_count": 24,
   "metadata": {
    "collapsed": false
   },
   "outputs": [
    {
     "name": "stdout",
     "output_type": "stream",
     "text": [
      "[\r\n",
      "  {\r\n",
      "    \"type\": \"INTEGER\", \r\n",
      "    \"mode\": \"NULLABLE\", \r\n",
      "    \"name\": \"key\"\r\n",
      "  }, \r\n",
      "  {\r\n",
      "    \"type\": \"STRING\", \r\n",
      "    \"mode\": \"NULLABLE\", \r\n",
      "    \"name\": \"predicted\"\r\n",
      "  }, \r\n",
      "  {\r\n",
      "    \"type\": \"STRING\", \r\n",
      "    \"mode\": \"NULLABLE\", \r\n",
      "    \"name\": \"predicted_2\"\r\n",
      "  }, \r\n",
      "  {\r\n",
      "    \"type\": \"STRING\", \r\n",
      "    \"mode\": \"NULLABLE\", \r\n",
      "    \"name\": \"predicted_3\"\r\n",
      "  }, \r\n",
      "  {\r\n",
      "    \"type\": \"FLOAT\", \r\n",
      "    \"mode\": \"NULLABLE\", \r\n",
      "    \"name\": \"score\"\r\n",
      "  }, \r\n",
      "  {\r\n",
      "    \"type\": \"FLOAT\", \r\n",
      "    \"mode\": \"NULLABLE\", \r\n",
      "    \"name\": \"score_2\"\r\n",
      "  }, \r\n",
      "  {\r\n",
      "    \"type\": \"FLOAT\", \r\n",
      "    \"mode\": \"NULLABLE\", \r\n",
      "    \"name\": \"score_3\"\r\n",
      "  }, \r\n",
      "  {\r\n",
      "    \"type\": \"STRING\", \r\n",
      "    \"mode\": \"NULLABLE\", \r\n",
      "    \"name\": \"target\"\r\n",
      "  }\r\n",
      "]\r\n"
     ]
    }
   ],
   "source": [
    "!cat  {LOCAL_BATCH_PREDICTION_DIR}/csv*"
   ]
  },
  {
   "cell_type": "code",
   "execution_count": 7,
   "metadata": {
    "collapsed": false
   },
   "outputs": [
    {
     "ename": "IOError",
     "evalue": "[Errno 2] No such file or directory: './iris_notebook_workspace/batch_prediction/predictions-*.csv'",
     "output_type": "error",
     "traceback": [
      "\u001b[0;31m\u001b[0m",
      "\u001b[0;31mIOError\u001b[0mTraceback (most recent call last)",
      "\u001b[0;32m<ipython-input-7-46df186b1acb>\u001b[0m in \u001b[0;36m<module>\u001b[0;34m()\u001b[0m\n\u001b[1;32m      1\u001b[0m ml.ConfusionMatrix.from_csv(\n\u001b[1;32m      2\u001b[0m   \u001b[0minput_csv\u001b[0m\u001b[0;34m=\u001b[0m\u001b[0mos\u001b[0m\u001b[0;34m.\u001b[0m\u001b[0mpath\u001b[0m\u001b[0;34m.\u001b[0m\u001b[0mjoin\u001b[0m\u001b[0;34m(\u001b[0m\u001b[0mLOCAL_BATCH_PREDICTION_DIR\u001b[0m\u001b[0;34m,\u001b[0m \u001b[0;34m'predictions-*.csv'\u001b[0m\u001b[0;34m)\u001b[0m\u001b[0;34m,\u001b[0m\u001b[0;34m\u001b[0m\u001b[0m\n\u001b[0;32m----> 3\u001b[0;31m   \u001b[0mschema_file\u001b[0m\u001b[0;34m=\u001b[0m\u001b[0mos\u001b[0m\u001b[0;34m.\u001b[0m\u001b[0mpath\u001b[0m\u001b[0;34m.\u001b[0m\u001b[0mjoin\u001b[0m\u001b[0;34m(\u001b[0m\u001b[0mLOCAL_BATCH_PREDICTION_DIR\u001b[0m\u001b[0;34m,\u001b[0m \u001b[0;34m'csv_schema.json'\u001b[0m\u001b[0;34m)\u001b[0m\u001b[0;34m\u001b[0m\u001b[0m\n\u001b[0m\u001b[1;32m      4\u001b[0m ).plot()\n",
      "\u001b[0;32m/usr/local/lib/python2.7/dist-packages/google/datalab/ml/_confusion_matrix.pyc\u001b[0m in \u001b[0;36mfrom_csv\u001b[0;34m(input_csv, headers, schema_file)\u001b[0m\n\u001b[1;32m     60\u001b[0m     \u001b[0;32melse\u001b[0m\u001b[0;34m:\u001b[0m\u001b[0;34m\u001b[0m\u001b[0m\n\u001b[1;32m     61\u001b[0m       \u001b[0;32mraise\u001b[0m \u001b[0mValueError\u001b[0m\u001b[0;34m(\u001b[0m\u001b[0;34m'Either headers or schema_file is needed'\u001b[0m\u001b[0;34m)\u001b[0m\u001b[0;34m\u001b[0m\u001b[0m\n\u001b[0;32m---> 62\u001b[0;31m     \u001b[0;32mwith\u001b[0m \u001b[0m_util\u001b[0m\u001b[0;34m.\u001b[0m\u001b[0mopen_local_or_gcs\u001b[0m\u001b[0;34m(\u001b[0m\u001b[0minput_csv\u001b[0m\u001b[0;34m,\u001b[0m \u001b[0mmode\u001b[0m\u001b[0;34m=\u001b[0m\u001b[0;34m'r'\u001b[0m\u001b[0;34m)\u001b[0m \u001b[0;32mas\u001b[0m \u001b[0mf\u001b[0m\u001b[0;34m:\u001b[0m\u001b[0;34m\u001b[0m\u001b[0m\n\u001b[0m\u001b[1;32m     63\u001b[0m       \u001b[0mdf\u001b[0m \u001b[0;34m=\u001b[0m \u001b[0mpd\u001b[0m\u001b[0;34m.\u001b[0m\u001b[0mread_csv\u001b[0m\u001b[0;34m(\u001b[0m\u001b[0mf\u001b[0m\u001b[0;34m,\u001b[0m \u001b[0mnames\u001b[0m\u001b[0;34m=\u001b[0m\u001b[0mnames\u001b[0m\u001b[0;34m)\u001b[0m\u001b[0;34m\u001b[0m\u001b[0m\n\u001b[1;32m     64\u001b[0m     \u001b[0;32mif\u001b[0m \u001b[0;34m'target'\u001b[0m \u001b[0;32mnot\u001b[0m \u001b[0;32min\u001b[0m \u001b[0mdf\u001b[0m \u001b[0;32mor\u001b[0m \u001b[0;34m'predicted'\u001b[0m \u001b[0;32mnot\u001b[0m \u001b[0;32min\u001b[0m \u001b[0mdf\u001b[0m\u001b[0;34m:\u001b[0m\u001b[0;34m\u001b[0m\u001b[0m\n",
      "\u001b[0;32m/usr/local/lib/python2.7/dist-packages/google/datalab/ml/_util.pyc\u001b[0m in \u001b[0;36mopen_local_or_gcs\u001b[0;34m(path, mode)\u001b[0m\n\u001b[1;32m     99\u001b[0m       \u001b[0;32mreturn\u001b[0m \u001b[0mgcsio\u001b[0m\u001b[0;34m.\u001b[0m\u001b[0mGcsIO\u001b[0m\u001b[0;34m(\u001b[0m\u001b[0;34m)\u001b[0m\u001b[0;34m.\u001b[0m\u001b[0mopen\u001b[0m\u001b[0;34m(\u001b[0m\u001b[0mpath\u001b[0m\u001b[0;34m,\u001b[0m \u001b[0mmode\u001b[0m\u001b[0;34m)\u001b[0m\u001b[0;34m\u001b[0m\u001b[0m\n\u001b[1;32m    100\u001b[0m   \u001b[0;32melse\u001b[0m\u001b[0;34m:\u001b[0m\u001b[0;34m\u001b[0m\u001b[0m\n\u001b[0;32m--> 101\u001b[0;31m     \u001b[0;32mreturn\u001b[0m \u001b[0mopen\u001b[0m\u001b[0;34m(\u001b[0m\u001b[0mpath\u001b[0m\u001b[0;34m,\u001b[0m \u001b[0mmode\u001b[0m\u001b[0;34m)\u001b[0m\u001b[0;34m\u001b[0m\u001b[0m\n\u001b[0m\u001b[1;32m    102\u001b[0m \u001b[0;34m\u001b[0m\u001b[0m\n\u001b[1;32m    103\u001b[0m \u001b[0;34m\u001b[0m\u001b[0m\n",
      "\u001b[0;31mIOError\u001b[0m: [Errno 2] No such file or directory: './iris_notebook_workspace/batch_prediction/predictions-*.csv'"
     ]
    }
   ],
   "source": [
    "ml.ConfusionMatrix.from_csv(\n",
    "  input_csv=os.path.join(LOCAL_BATCH_PREDICTION_DIR, 'predictions-*.csv'),\n",
    "  schema_file=os.path.join(LOCAL_BATCH_PREDICTION_DIR, 'csv_schema.json')\n",
    ").plot()"
   ]
  },
  {
   "cell_type": "markdown",
   "metadata": {},
   "source": [
    "# Clean up"
   ]
  },
  {
   "cell_type": "markdown",
   "metadata": {},
   "source": [
    "As everything was written to LOCAL_ROOT, we can simply remove this folder. If you want to delete those files, uncomment and run the next cell. If you want to run any Service notebook, don't delete LOCAL_ROOT."
   ]
  },
  {
   "cell_type": "code",
   "execution_count": 31,
   "metadata": {
    "collapsed": true
   },
   "outputs": [],
   "source": [
    "#!rm -fr {LOCAL_ROOT}"
   ]
  },
  {
   "cell_type": "code",
   "execution_count": null,
   "metadata": {
    "collapsed": true
   },
   "outputs": [],
   "source": []
  }
 ],
 "metadata": {
  "kernelspec": {
   "display_name": "Python 2",
   "language": "python",
   "name": "python2"
  },
  "language_info": {
   "codemirror_mode": {
    "name": "ipython",
    "version": 2
   },
   "file_extension": ".py",
   "mimetype": "text/x-python",
   "name": "python",
   "nbconvert_exporter": "python",
   "pygments_lexer": "ipython2",
   "version": "2.7.9"
  }
 },
 "nbformat": 4,
 "nbformat_minor": 2
}
