{
 "cells": [
  {
   "cell_type": "markdown",
   "metadata": {},
   "source": [
    "# About this notebook\n",
    "\n",
    "This notebook assumes you have ran the local Iris classification notebook (\"1 Local End to End\") and you have not deleted the LOCAL_ROOT folder. In this notebook, we will evaluate a trained model."
   ]
  },
  {
   "cell_type": "markdown",
   "metadata": {},
   "source": [
    "# Setting things up"
   ]
  },
  {
   "cell_type": "code",
   "execution_count": 1,
   "metadata": {
    "collapsed": false
   },
   "outputs": [],
   "source": [
    "import mltoolbox.classification.dnn as sd"
   ]
  },
  {
   "cell_type": "code",
   "execution_count": 2,
   "metadata": {
    "collapsed": false
   },
   "outputs": [],
   "source": [
    "import os\n",
    "import tensorflow as tf\n",
    "from tensorflow.python.lib.io import file_io"
   ]
  },
  {
   "cell_type": "markdown",
   "metadata": {},
   "source": [
    "This notebook will write files during prediction. Please give a root folder you wish to use."
   ]
  },
  {
   "cell_type": "code",
   "execution_count": 3,
   "metadata": {
    "collapsed": false
   },
   "outputs": [
    {
     "name": "stdout",
     "output_type": "stream",
     "text": [
      "Creating gs://cloud-ml-dev-iris-classification-datalab/...\n",
      "ServiceException: 409 Bucket cloud-ml-dev-iris-classification-datalab already exists.\n"
     ]
    }
   ],
   "source": [
    "LOCAL_ROOT = './iris_notebook_workspace' # This should be the same as what was used in the local notebook\n",
    "CLOUD_ROOT = 'gs://' + datalab_project_id() + '-iris-classification-datalab' # Feel free to change this line.\n",
    "\n",
    "# No need to edit anything else in this cell.\n",
    "LOCAL_TRAINING_DIR = os.path.join(LOCAL_ROOT, 'training')\n",
    "CLOUD_TRAINING_DIR = os.path.join(CLOUD_ROOT, 'training')\n",
    "\n",
    "LOCAL_EVAL_FILE = os.path.join(LOCAL_ROOT, 'eval.csv')\n",
    "CLOUD_EVAL_FILE = os.path.join(CLOUD_ROOT, 'eval.csv')\n",
    "\n",
    "CLOUD_BATCH_PREDICTION_DIR = os.path.join(CLOUD_ROOT, 'batch_prediction')\n",
    "if not file_io.file_exists(LOCAL_ROOT):\n",
    "  raise ValueError('LOCAL_ROOT not found. Did you run the local notebook?')\n",
    "  \n",
    "!gsutil mb {CLOUD_ROOT}"
   ]
  },
  {
   "cell_type": "markdown",
   "metadata": {},
   "source": [
    "First, let us put the csv files on GCS and the output of training."
   ]
  },
  {
   "cell_type": "code",
   "execution_count": 4,
   "metadata": {
    "collapsed": false
   },
   "outputs": [
    {
     "name": "stdout",
     "output_type": "stream",
     "text": [
      "Copying file://./iris_notebook_workspace/eval.csv [Content-Type=text/csv]...\n",
      "/ [1/1 files][  973.0 B/  973.0 B] 100% Done                                    \n",
      "Operation completed over 1 objects/973.0 B.                                      \n",
      "Copying file://./iris_notebook_workspace/training/features_file.json [Content-Type=application/json]...\n",
      "Copying file://./iris_notebook_workspace/training/model/saved_model.pb [Content-Type=application/octet-stream]...\n",
      "Copying file://./iris_notebook_workspace/training/model/variables/variables.index [Content-Type=application/octet-stream]...\n",
      "Copying file://./iris_notebook_workspace/training/model/variables/variables.data-00000-of-00001 [Content-Type=application/octet-stream]...\n",
      "Copying file://./iris_notebook_workspace/training/model/assets.extra/schema.json [Content-Type=application/json]...\n",
      "Copying file://./iris_notebook_workspace/training/evaluation_model/saved_model.pb [Content-Type=application/octet-stream]...\n",
      "Copying file://./iris_notebook_workspace/training/train/model.ckpt-1000.index [Content-Type=application/octet-stream]...\n",
      "Copying file://./iris_notebook_workspace/training/evaluation_model/assets.extra/schema.json [Content-Type=application/json]...\n",
      "Copying file://./iris_notebook_workspace/training/evaluation_model/variables/variables.index [Content-Type=application/octet-stream]...\n",
      "Copying file://./iris_notebook_workspace/training/evaluation_model/assets.extra/transforms.json [Content-Type=application/json]...\n",
      "Copying file://./iris_notebook_workspace/training/model/assets.extra/transforms.json [Content-Type=application/json]...\n",
      "Copying file://./iris_notebook_workspace/training/model/assets.extra/vocab_flower.csv [Content-Type=text/csv]...\n",
      "Copying file://./iris_notebook_workspace/training/train/model.ckpt-1000.data-00000-of-00001 [Content-Type=application/octet-stream]...\n",
      "Copying file://./iris_notebook_workspace/training/evaluation_model/assets.extra/vocab_flower.csv [Content-Type=text/csv]...\n",
      "Copying file://./iris_notebook_workspace/training/train/graph.pbtxt [Content-Type=application/octet-stream]...\n",
      "Copying file://./iris_notebook_workspace/training/train/export/intermediate_evaluation_models/1488565593484/assets.extra/vocab_flower.csv [Content-Type=text/csv]...\n",
      "Copying file://./iris_notebook_workspace/training/train/eval/events.out.tfevents.1488565593.d860903f20fc [Content-Type=application/octet-stream]...\n",
      "Copying file://./iris_notebook_workspace/training/train/model.ckpt-1000.meta [Content-Type=application/octet-stream]...\n",
      "Copying file://./iris_notebook_workspace/training/train/checkpoint [Content-Type=application/octet-stream]...\n",
      "Copying file://./iris_notebook_workspace/training/train/eval/events.out.tfevents.1488565588.d860903f20fc [Content-Type=application/octet-stream]...\n",
      "Copying file://./iris_notebook_workspace/training/train/export/intermediate_prediction_models/1488565594022/variables/variables.index [Content-Type=application/octet-stream]...\n",
      "Copying file://./iris_notebook_workspace/training/train/events.out.tfevents.1488565585.d860903f20fc [Content-Type=application/octet-stream]...\n",
      "Copying file://./iris_notebook_workspace/training/train/export/intermediate_prediction_models/1488565594022/assets.extra/schema.json [Content-Type=application/json]...\n",
      "Copying file://./iris_notebook_workspace/training/train/export/intermediate_prediction_models/1488565594022/variables/variables.data-00000-of-00001 [Content-Type=application/octet-stream]...\n",
      "Copying file://./iris_notebook_workspace/training/train/export/intermediate_evaluation_models/1488565593484/saved_model.pb [Content-Type=application/octet-stream]...\n",
      "Copying file://./iris_notebook_workspace/training/evaluation_model/variables/variables.data-00000-of-00001 [Content-Type=application/octet-stream]...\n",
      "Copying file://./iris_notebook_workspace/training/train/export/intermediate_evaluation_models/1488565593484/assets.extra/schema.json [Content-Type=application/json]...\n",
      "Copying file://./iris_notebook_workspace/training/train/export/intermediate_evaluation_models/1488565593484/variables/variables.data-00000-of-00001 [Content-Type=application/octet-stream]...\n",
      "Copying file://./iris_notebook_workspace/training/train/export/intermediate_evaluation_models/1488565593484/variables/variables.index [Content-Type=application/octet-stream]...\n",
      "Copying file://./iris_notebook_workspace/training/train/export/intermediate_evaluation_models/1488565593484/assets.extra/transforms.json [Content-Type=application/json]...\n",
      "Copying file://./iris_notebook_workspace/training/train/model.ckpt-1.data-00000-of-00001 [Content-Type=application/octet-stream]...\n",
      "Copying file://./iris_notebook_workspace/training/train/model.ckpt-1.index [Content-Type=application/octet-stream]...\n",
      "Copying file://./iris_notebook_workspace/training/train/export/intermediate_prediction_models/1488565594022/assets.extra/transforms.json [Content-Type=application/json]...\n",
      "Copying file://./iris_notebook_workspace/training/train/model.ckpt-1.meta [Content-Type=application/octet-stream]...\n",
      "Copying file://./iris_notebook_workspace/training/train/export/intermediate_prediction_models/1488565594022/saved_model.pb [Content-Type=application/octet-stream]...\n",
      "Copying file://./iris_notebook_workspace/training/train/export/intermediate_prediction_models/1488565594022/assets.extra/vocab_flower.csv [Content-Type=text/csv]...\n",
      "- [36/36 files][  1.6 MiB/  1.6 MiB] 100% Done                                  \n",
      "Operation completed over 36 objects/1.6 MiB.                                     \n"
     ]
    }
   ],
   "source": [
    "!gsutil -m cp {LOCAL_EVAL_FILE} {CLOUD_EVAL_FILE}\n",
    "!gsutil -m cp -r {LOCAL_TRAINING_DIR} {CLOUD_TRAINING_DIR}"
   ]
  },
  {
   "cell_type": "code",
   "execution_count": 5,
   "metadata": {
    "collapsed": false
   },
   "outputs": [
    {
     "name": "stdout",
     "output_type": "stream",
     "text": [
      "gs://cloud-ml-dev-iris-classification-datalab/training/features_file.json\r\n",
      "gs://cloud-ml-dev-iris-classification-datalab/training/evaluation_model/\r\n",
      "gs://cloud-ml-dev-iris-classification-datalab/training/model/\r\n",
      "gs://cloud-ml-dev-iris-classification-datalab/training/train/\r\n"
     ]
    }
   ],
   "source": [
    "!gsutil ls {CLOUD_TRAINING_DIR}"
   ]
  },
  {
   "cell_type": "markdown",
   "metadata": {},
   "source": [
    "# ML Engine Batch Prediction"
   ]
  },
  {
   "cell_type": "markdown",
   "metadata": {},
   "source": [
    "Batch prediction has two modes. In the 'evaluation' mode, the input data is expected to 100% match the training schema, meaning the target column should exist in the data. In 'prediction' mode, the input data files must match the training schema except that the target column is missing. Note that batch prediction can be slow on small datasets because it takes a while for a Dataflow job to start."
   ]
  },
  {
   "cell_type": "code",
   "execution_count": 6,
   "metadata": {
    "collapsed": false
   },
   "outputs": [
    {
     "name": "stdout",
     "output_type": "stream",
     "text": [
      "CommandException: 1 files/objects could not be removed.\r\n"
     ]
    }
   ],
   "source": [
    "!gsutil -m rm -r {CLOUD_BATCH_PREDICTION_DIR}"
   ]
  },
  {
   "cell_type": "code",
   "execution_count": 7,
   "metadata": {
    "collapsed": false
   },
   "outputs": [
    {
     "name": "stdout",
     "output_type": "stream",
     "text": [
      "Building package and uploading to gs://cloud-ml-dev-iris-classification-datalab/batch_prediction/staging/sd.tar.gz\n",
      "Dataflow Job submitted, see Job structured-data-batch-prediction-20170303184421 at https://console.developers.google.com/dataflow?project=cloud-ml-dev\n"
     ]
    },
    {
     "name": "stderr",
     "output_type": "stream",
     "text": [
      "/usr/local/lib/python2.7/dist-packages/apache_beam/coders/typecoders.py:136: UserWarning: Using fallback coder for typehint: Any.\n",
      "  warnings.warn('Using fallback coder for typehint: %r.' % typehint)\n"
     ]
    },
    {
     "data": {
      "text/plain": [
       "Job structured-data-batch-prediction-20170303184421 completed"
      ]
     },
     "execution_count": 7,
     "metadata": {},
     "output_type": "execute_result"
    }
   ],
   "source": [
    "job = sd.batch_predict(\n",
    "  cloud=True,\n",
    "  training_output_dir=CLOUD_TRAINING_DIR,\n",
    "  prediction_input_file=CLOUD_EVAL_FILE,\n",
    "  output_dir=CLOUD_BATCH_PREDICTION_DIR,\n",
    "  mode='evaluation',\n",
    "  output_format='json'\n",
    ")\n",
    "job.wait()"
   ]
  },
  {
   "cell_type": "markdown",
   "metadata": {},
   "source": [
    "When prediction is done, {CLOUD_ROOT}/batch_prediction should contain the prediction files and an errors file (that should be empty)"
   ]
  },
  {
   "cell_type": "code",
   "execution_count": 8,
   "metadata": {
    "collapsed": false
   },
   "outputs": [
    {
     "name": "stdout",
     "output_type": "stream",
     "text": [
      "gs://cloud-ml-dev-iris-classification-datalab/batch_prediction/errors-00000-of-00001.txt\r\n",
      "gs://cloud-ml-dev-iris-classification-datalab/batch_prediction/predictions-00000-of-00003.json\r\n",
      "gs://cloud-ml-dev-iris-classification-datalab/batch_prediction/predictions-00001-of-00003.json\r\n",
      "gs://cloud-ml-dev-iris-classification-datalab/batch_prediction/predictions-00002-of-00003.json\r\n",
      "gs://cloud-ml-dev-iris-classification-datalab/batch_prediction/staging/\r\n",
      "gs://cloud-ml-dev-iris-classification-datalab/batch_prediction/tmp/\r\n"
     ]
    }
   ],
   "source": [
    "!gsutil ls  {CLOUD_BATCH_PREDICTION_DIR}"
   ]
  },
  {
   "cell_type": "code",
   "execution_count": 9,
   "metadata": {
    "collapsed": false
   },
   "outputs": [],
   "source": [
    "!gsutil cat {CLOUD_BATCH_PREDICTION_DIR}/errors*"
   ]
  },
  {
   "cell_type": "code",
   "execution_count": 10,
   "metadata": {
    "collapsed": false
   },
   "outputs": [
    {
     "name": "stdout",
     "output_type": "stream",
     "text": [
      "{\"top_2_label\": \"Iris-versicolor\",\"top_3_score\": 1.1221217391721439e-05,\"top_1_label\": \"Iris-virginica\",\"top_2_score\": 0.3332763612270355,\"top_3_label\": \"Iris-setosa\",\"target_from_input\": \"Iris-virginica\",\"top_1_score\": 0.6667124629020691,\"key\": 107}\r\n",
      "{\"top_2_label\": \"Iris-virginica\",\"top_3_score\": 1.848405008786358e-05,\"top_1_label\": \"Iris-versicolor\",\"top_2_score\": 0.0011651265667751431,\"top_3_label\": \"Iris-setosa\",\"target_from_input\": \"Iris-versicolor\",\"top_1_score\": 0.9988163709640503,\"key\": 100}\r\n",
      "{\"top_2_label\": \"Iris-virginica\",\"top_3_score\": 0.0006370554910972714,\"top_1_label\": \"Iris-versicolor\",\"top_2_score\": 0.0039061170537024736,\"top_3_label\": \"Iris-setosa\",\"target_from_input\": \"Iris-versicolor\",\"top_1_score\": 0.9954568147659302,\"key\": 99}\r\n",
      "{\"top_2_label\": \"Iris-versicolor\",\"top_3_score\": 2.396953641436994e-05,\"top_1_label\": \"Iris-setosa\",\"top_2_score\": 9.393971413373947e-05,\"top_3_label\": \"Iris-virginica\",\"target_from_input\": \"Iris-setosa\",\"top_1_score\": 0.9998821020126343,\"key\": 13}\r\n",
      "{\"top_2_label\": \"Iris-virginica\",\"top_3_score\": 3.443602327024564e-05,\"top_1_label\": \"Iris-versicolor\",\"top_2_score\": 0.0014952030032873154,\"top_3_label\": \"Iris-setosa\",\"target_from_input\": \"Iris-versicolor\",\"top_1_score\": 0.9984703660011292,\"key\": 70}\r\n",
      "{\"top_2_label\": \"Iris-versicolor\",\"top_3_score\": 6.581199158972595e-06,\"top_1_label\": \"Iris-setosa\",\"top_2_score\": 2.0229574147379026e-05,\"top_3_label\": \"Iris-virginica\",\"target_from_input\": \"Iris-setosa\",\"top_1_score\": 0.9999731779098511,\"key\": 11}\r\n",
      "{\"top_2_label\": \"Iris-versicolor\",\"top_3_score\": 1.3831639080308378e-05,\"top_1_label\": \"Iris-setosa\",\"top_2_score\": 4.813276609638706e-05,\"top_3_label\": \"Iris-virginica\",\"target_from_input\": \"Iris-setosa\",\"top_1_score\": 0.9999380111694336,\"key\": 37}\r\n",
      "{\"top_2_label\": \"Iris-versicolor\",\"top_3_score\": 2.4410257992713014e-06,\"top_1_label\": \"Iris-virginica\",\"top_2_score\": 0.05446936562657356,\"top_3_label\": \"Iris-setosa\",\"target_from_input\": \"Iris-versicolor\",\"top_1_score\": 0.9455282092094421,\"key\": 69}\r\n",
      "{\"top_2_label\": \"Iris-versicolor\",\"top_3_score\": 1.2479616998462006e-05,\"top_1_label\": \"Iris-setosa\",\"top_2_score\": 4.434724178281613e-05,\"top_3_label\": \"Iris-virginica\",\"target_from_input\": \"Iris-setosa\",\"top_1_score\": 0.9999431371688843,\"key\": 40}\r\n",
      "{\"top_2_label\": \"Iris-versicolor\",\"top_3_score\": 4.6716801434254496e-12,\"top_1_label\": \"Iris-virginica\",\"top_2_score\": 4.7713690776163276e-08,\"top_3_label\": \"Iris-setosa\",\"target_from_input\": \"Iris-virginica\",\"top_1_score\": 1.0,\"key\": 101}\r\n"
     ]
    }
   ],
   "source": [
    "!gsutil cat {CLOUD_BATCH_PREDICTION_DIR}/predictions-00000-of*"
   ]
  },
  {
   "cell_type": "markdown",
   "metadata": {},
   "source": [
    "# Cleaning things up"
   ]
  },
  {
   "cell_type": "markdown",
   "metadata": {},
   "source": [
    "If you want to delete the files you made on GCS, uncomment and run the next cell."
   ]
  },
  {
   "cell_type": "code",
   "execution_count": 11,
   "metadata": {
    "collapsed": false
   },
   "outputs": [],
   "source": [
    "#!gsutil rm -fr {CLOUD_ROOT}"
   ]
  }
 ],
 "metadata": {
  "kernelspec": {
   "display_name": "Python 2",
   "language": "python",
   "name": "python2"
  },
  "language_info": {
   "codemirror_mode": {
    "name": "ipython",
    "version": 2
   },
   "file_extension": ".py",
   "mimetype": "text/x-python",
   "name": "python",
   "nbconvert_exporter": "python",
   "pygments_lexer": "ipython2",
   "version": "2.7.9"
  }
 },
 "nbformat": 4,
 "nbformat_minor": 2
}
