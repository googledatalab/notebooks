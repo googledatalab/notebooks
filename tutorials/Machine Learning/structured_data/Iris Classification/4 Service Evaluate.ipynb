{
 "cells": [
  {
   "cell_type": "markdown",
   "metadata": {},
   "source": [
    "# About this notebook\n",
    "\n",
    "This notebook assumes you have ran the local Iris classification notebook (\"1 Local End to End\") and you have not deleted the LOCAL_ROOT folder. In this notebook, we will evaluate a trained model."
   ]
  },
  {
   "cell_type": "markdown",
   "metadata": {},
   "source": [
    "# Setting things up"
   ]
  },
  {
   "cell_type": "code",
   "execution_count": 1,
   "metadata": {
    "collapsed": false
   },
   "outputs": [
    {
     "name": "stderr",
     "output_type": "stream",
     "text": [
      "No handlers could be found for logger \"oauth2client.contrib.multistore_file\"\n"
     ]
    }
   ],
   "source": [
    "import mltoolbox.classification.dnn as sd"
   ]
  },
  {
   "cell_type": "code",
   "execution_count": 2,
   "metadata": {
    "collapsed": false
   },
   "outputs": [],
   "source": [
    "import os\n",
    "import tensorflow as tf\n",
    "from tensorflow.python.lib.io import file_io"
   ]
  },
  {
   "cell_type": "markdown",
   "metadata": {},
   "source": [
    "This notebook will write files during prediction. Please give a root folder you wish to use."
   ]
  },
  {
   "cell_type": "code",
   "execution_count": 3,
   "metadata": {
    "collapsed": false
   },
   "outputs": [
    {
     "name": "stdout",
     "output_type": "stream",
     "text": [
      "Creating gs://cloud-ml-dev-iris-classification-datalab/...\n",
      "ServiceException: 409 Bucket cloud-ml-dev-iris-classification-datalab already exists.\n"
     ]
    }
   ],
   "source": [
    "LOCAL_ROOT = './iris_notebook_workspace' # This should be the same as what was used in the local notebook\n",
    "CLOUD_ROOT = 'gs://' + datalab_project_id() + '-iris-classification-datalab' # Feel free to change this line.\n",
    "\n",
    "# No need to edit anything else in this cell.\n",
    "LOCAL_TRAINING_DIR = os.path.join(LOCAL_ROOT, 'training')\n",
    "CLOUD_TRAINING_DIR = os.path.join(CLOUD_ROOT, 'training')\n",
    "\n",
    "LOCAL_EVAL_FILE = os.path.join(LOCAL_ROOT, 'eval.csv')\n",
    "CLOUD_EVAL_FILE = os.path.join(CLOUD_ROOT, 'eval.csv')\n",
    "\n",
    "CLOUD_BATCH_PREDICTION_DIR = os.path.join(CLOUD_ROOT, 'batch_prediction')\n",
    "if not file_io.file_exists(LOCAL_ROOT):\n",
    "  raise ValueError('LOCAL_ROOT not found. Did you run the local notebook?')\n",
    "  \n",
    "!gsutil mb {CLOUD_ROOT}"
   ]
  },
  {
   "cell_type": "markdown",
   "metadata": {},
   "source": [
    "First, let us put the csv files on GCS and the output of training."
   ]
  },
  {
   "cell_type": "code",
   "execution_count": 4,
   "metadata": {
    "collapsed": false
   },
   "outputs": [
    {
     "name": "stdout",
     "output_type": "stream",
     "text": [
      "Copying file://./iris_notebook_workspace/eval.csv [Content-Type=text/csv]...\n",
      "/ [1/1 files][  973.0 B/  973.0 B] 100% Done                                    \n",
      "Operation completed over 1 objects/973.0 B.                                      \n",
      "Copying file://./iris_notebook_workspace/training/features_file.json [Content-Type=application/json]...\n",
      "Copying file://./iris_notebook_workspace/training/model/saved_model.pb [Content-Type=application/octet-stream]...\n",
      "Copying file://./iris_notebook_workspace/training/model/variables/variables.index [Content-Type=application/octet-stream]...\n",
      "Copying file://./iris_notebook_workspace/training/model/assets.extra/transforms.json [Content-Type=application/json]...\n",
      "Copying file://./iris_notebook_workspace/training/model/assets.extra/schema.json [Content-Type=application/json]...\n",
      "Copying file://./iris_notebook_workspace/training/model/variables/variables.data-00000-of-00001 [Content-Type=application/octet-stream]...\n",
      "Copying file://./iris_notebook_workspace/training/evaluation_model/saved_model.pb [Content-Type=application/octet-stream]...\n",
      "Copying file://./iris_notebook_workspace/training/model/assets.extra/vocab_flower.csv [Content-Type=text/csv]...\n",
      "Copying file://./iris_notebook_workspace/training/evaluation_model/variables/variables.data-00000-of-00001 [Content-Type=application/octet-stream]...\n",
      "Copying file://./iris_notebook_workspace/training/evaluation_model/variables/variables.index [Content-Type=application/octet-stream]...\n",
      "Copying file://./iris_notebook_workspace/training/evaluation_model/assets.extra/schema.json [Content-Type=application/json]...\n",
      "Copying file://./iris_notebook_workspace/training/train/model.ckpt-1.data-00000-of-00001 [Content-Type=application/octet-stream]...\n",
      "Copying file://./iris_notebook_workspace/training/evaluation_model/assets.extra/transforms.json [Content-Type=application/json]...\n",
      "Copying file://./iris_notebook_workspace/training/train/graph.pbtxt [Content-Type=application/octet-stream]...\n",
      "Copying file://./iris_notebook_workspace/training/evaluation_model/assets.extra/vocab_flower.csv [Content-Type=text/csv]...\n",
      "Copying file://./iris_notebook_workspace/training/train/model.ckpt-1.meta [Content-Type=application/octet-stream]...\n",
      "Copying file://./iris_notebook_workspace/training/train/model.ckpt-1000.data-00000-of-00001 [Content-Type=application/octet-stream]...\n",
      "Copying file://./iris_notebook_workspace/training/train/checkpoint [Content-Type=application/octet-stream]...\n",
      "Copying file://./iris_notebook_workspace/training/train/model.ckpt-1000.index [Content-Type=application/octet-stream]...\n",
      "Copying file://./iris_notebook_workspace/training/train/model.ckpt-1.index [Content-Type=application/octet-stream]...\n",
      "Copying file://./iris_notebook_workspace/training/train/eval/events.out.tfevents.1488498587.e338aa0a4648 [Content-Type=application/octet-stream]...\n",
      "Copying file://./iris_notebook_workspace/training/train/export/intermediate_prediction_models/1488498588261/variables/variables.index [Content-Type=application/octet-stream]...\n",
      "Copying file://./iris_notebook_workspace/training/train/export/intermediate_evaluation_models/1488498587671/assets.extra/vocab_flower.csv [Content-Type=text/csv]...\n",
      "Copying file://./iris_notebook_workspace/training/train/export/intermediate_evaluation_models/1488498587671/saved_model.pb [Content-Type=application/octet-stream]...\n",
      "Copying file://./iris_notebook_workspace/training/train/export/intermediate_evaluation_models/1488498587671/variables/variables.index [Content-Type=application/octet-stream]...\n",
      "Copying file://./iris_notebook_workspace/training/train/events.out.tfevents.1488498579.e338aa0a4648 [Content-Type=application/octet-stream]...\n",
      "Copying file://./iris_notebook_workspace/training/train/model.ckpt-1000.meta [Content-Type=application/octet-stream]...\n",
      "Copying file://./iris_notebook_workspace/training/train/export/intermediate_prediction_models/1488498588261/assets.extra/schema.json [Content-Type=application/json]...\n",
      "Copying file://./iris_notebook_workspace/training/train/export/intermediate_prediction_models/1488498588261/variables/variables.data-00000-of-00001 [Content-Type=application/octet-stream]...\n",
      "Copying file://./iris_notebook_workspace/training/train/eval/events.out.tfevents.1488498582.e338aa0a4648 [Content-Type=application/octet-stream]...\n",
      "Copying file://./iris_notebook_workspace/training/train/export/intermediate_prediction_models/1488498588261/assets.extra/transforms.json [Content-Type=application/json]...\n",
      "Copying file://./iris_notebook_workspace/training/train/export/intermediate_prediction_models/1488498588261/saved_model.pb [Content-Type=application/octet-stream]...\n",
      "Copying file://./iris_notebook_workspace/training/train/export/intermediate_evaluation_models/1488498587671/variables/variables.data-00000-of-00001 [Content-Type=application/octet-stream]...\n",
      "Copying file://./iris_notebook_workspace/training/train/export/intermediate_prediction_models/1488498588261/assets.extra/vocab_flower.csv [Content-Type=text/csv]...\n",
      "Copying file://./iris_notebook_workspace/training/train/export/intermediate_evaluation_models/1488498587671/assets.extra/schema.json [Content-Type=application/json]...\n",
      "Copying file://./iris_notebook_workspace/training/train/export/intermediate_evaluation_models/1488498587671/assets.extra/transforms.json [Content-Type=application/json]...\n",
      "\\\n",
      "Operation completed over 36 objects/1.6 MiB.                                     \n"
     ]
    }
   ],
   "source": [
    "!gsutil -m cp {LOCAL_EVAL_FILE} {CLOUD_EVAL_FILE}\n",
    "!gsutil -m cp -r {LOCAL_TRAINING_DIR} {CLOUD_TRAINING_DIR}"
   ]
  },
  {
   "cell_type": "code",
   "execution_count": 5,
   "metadata": {
    "collapsed": false
   },
   "outputs": [
    {
     "name": "stdout",
     "output_type": "stream",
     "text": [
      "gs://cloud-ml-dev-iris-classification-datalab/training/features_file.json\r\n",
      "gs://cloud-ml-dev-iris-classification-datalab/training/evaluation_model/\r\n",
      "gs://cloud-ml-dev-iris-classification-datalab/training/model/\r\n",
      "gs://cloud-ml-dev-iris-classification-datalab/training/train/\r\n",
      "gs://cloud-ml-dev-iris-classification-datalab/training/training/\r\n"
     ]
    }
   ],
   "source": [
    "!gsutil ls {CLOUD_TRAINING_DIR}"
   ]
  },
  {
   "cell_type": "markdown",
   "metadata": {},
   "source": [
    "# ML Engine Batch Prediction"
   ]
  },
  {
   "cell_type": "markdown",
   "metadata": {},
   "source": [
    "Batch prediction has two modes. In the 'evaluation' mode, the input data is expected to 100% match the training schema, meaning the target column should exist in the data. In 'prediction' mode, the input data files must match the training schema except that the target column is missing. Note that batch prediction can be slow on small datasets because it takes a while for a Dataflow job to start."
   ]
  },
  {
   "cell_type": "code",
   "execution_count": 6,
   "metadata": {
    "collapsed": false
   },
   "outputs": [
    {
     "name": "stdout",
     "output_type": "stream",
     "text": [
      "CommandException: 1 files/objects could not be removed.\r\n"
     ]
    }
   ],
   "source": [
    "!gsutil -m rm -r {CLOUD_BATCH_PREDICTION_DIR}"
   ]
  },
  {
   "cell_type": "code",
   "execution_count": 8,
   "metadata": {
    "collapsed": false
   },
   "outputs": [
    {
     "name": "stdout",
     "output_type": "stream",
     "text": [
      "/usr/local/lib/python2.7/dist-packages/mltoolbox/_structured_data/_package.pyc\n",
      "proot /usr/local/lib/python2.7/dist-packages\n",
      "setup_path /usr/local/lib/python2.7/dist-packages/mltoolbox/_structured_data/master_setup.py\n",
      "Building package and uploading to gs://cloud-ml-dev-iris-classification-datalab/batch_prediction/staging/sd.tar.gz\n",
      "Dataflow Job submitted, see Job structured-data-batch-prediction-20170303000126 at https://console.developers.google.com/dataflow?project=cloud-ml-dev\n"
     ]
    },
    {
     "name": "stderr",
     "output_type": "stream",
     "text": [
      "/usr/local/lib/python2.7/dist-packages/apache_beam/coders/typecoders.py:136: UserWarning: Using fallback coder for typehint: Any.\n",
      "  warnings.warn('Using fallback coder for typehint: %r.' % typehint)\n"
     ]
    },
    {
     "data": {
      "text/plain": [
       "Job structured-data-batch-prediction-20170303000126 completed"
      ]
     },
     "execution_count": 8,
     "metadata": {},
     "output_type": "execute_result"
    }
   ],
   "source": [
    "job = sd.batch_predict(\n",
    "  cloud=True,\n",
    "  training_output_dir=CLOUD_TRAINING_DIR,\n",
    "  prediction_input_file=CLOUD_EVAL_FILE,\n",
    "  output_dir=CLOUD_BATCH_PREDICTION_DIR,\n",
    "  mode='evaluation',\n",
    "  output_format='json'\n",
    ")\n",
    "job.wait()"
   ]
  },
  {
   "cell_type": "markdown",
   "metadata": {},
   "source": [
    "When prediction is done, {CLOUD_ROOT}/batch_prediction should contain the prediction files and an errors file (that should be empty)"
   ]
  },
  {
   "cell_type": "code",
   "execution_count": 9,
   "metadata": {
    "collapsed": false
   },
   "outputs": [
    {
     "name": "stdout",
     "output_type": "stream",
     "text": [
      "gs://cloud-ml-dev-iris-classification-datalab/batch_prediction/errors-00000-of-00001.txt\r\n",
      "gs://cloud-ml-dev-iris-classification-datalab/batch_prediction/predictions-00000-of-00003.json\r\n",
      "gs://cloud-ml-dev-iris-classification-datalab/batch_prediction/predictions-00001-of-00003.json\r\n",
      "gs://cloud-ml-dev-iris-classification-datalab/batch_prediction/predictions-00002-of-00003.json\r\n",
      "gs://cloud-ml-dev-iris-classification-datalab/batch_prediction/staging/\r\n",
      "gs://cloud-ml-dev-iris-classification-datalab/batch_prediction/tmp/\r\n"
     ]
    }
   ],
   "source": [
    "!gsutil ls  {CLOUD_BATCH_PREDICTION_DIR}"
   ]
  },
  {
   "cell_type": "code",
   "execution_count": 10,
   "metadata": {
    "collapsed": false
   },
   "outputs": [],
   "source": [
    "!gsutil cat {CLOUD_BATCH_PREDICTION_DIR}/errors*"
   ]
  },
  {
   "cell_type": "code",
   "execution_count": 11,
   "metadata": {
    "collapsed": false
   },
   "outputs": [
    {
     "name": "stdout",
     "output_type": "stream",
     "text": [
      "{\"top_2_label\": \"Iris-versicolor\",\"top_3_score\": 1.5396786068322399e-09,\"top_1_label\": \"Iris-setosa\",\"top_2_score\": 0.0002987643238157034,\"top_3_label\": \"Iris-virginica\",\"target_from_input\": \"Iris-setosa\",\"top_1_score\": 0.999701201915741,\"key\": 39}\r\n",
      "{\"top_2_label\": \"Iris-virginica\",\"top_3_score\": 8.725804718778818e-07,\"top_1_label\": \"Iris-versicolor\",\"top_2_score\": 0.0004340916348155588,\"top_3_label\": \"Iris-setosa\",\"target_from_input\": \"Iris-versicolor\",\"top_1_score\": 0.999565064907074,\"key\": 74}\r\n",
      "{\"top_2_label\": \"Iris-virginica\",\"top_3_score\": 2.6682882889872417e-05,\"top_1_label\": \"Iris-versicolor\",\"top_2_score\": 0.00019152533786837012,\"top_3_label\": \"Iris-setosa\",\"target_from_input\": \"Iris-versicolor\",\"top_1_score\": 0.9997817873954773,\"key\": 97}\r\n",
      "{\"top_2_label\": \"Iris-versicolor\",\"top_3_score\": 1.4728659403218103e-09,\"top_1_label\": \"Iris-setosa\",\"top_2_score\": 0.00029364117654040456,\"top_3_label\": \"Iris-virginica\",\"target_from_input\": \"Iris-setosa\",\"top_1_score\": 0.9997063279151917,\"key\": 50}\r\n",
      "{\"top_2_label\": \"Iris-virginica\",\"top_3_score\": 9.25297263165703e-06,\"top_1_label\": \"Iris-versicolor\",\"top_2_score\": 0.0002663788618519902,\"top_3_label\": \"Iris-setosa\",\"target_from_input\": \"Iris-versicolor\",\"top_1_score\": 0.9997243285179138,\"key\": 95}\r\n",
      "{\"top_2_label\": \"Iris-versicolor\",\"top_3_score\": 4.854237456441979e-09,\"top_1_label\": \"Iris-setosa\",\"top_2_score\": 0.00046745571307837963,\"top_3_label\": \"Iris-virginica\",\"target_from_input\": \"Iris-setosa\",\"top_1_score\": 0.9995325803756714,\"key\": 44}\r\n",
      "{\"top_2_label\": \"Iris-versicolor\",\"top_3_score\": 5.963044740245504e-19,\"top_1_label\": \"Iris-virginica\",\"top_2_score\": 2.7940032509832236e-07,\"top_3_label\": \"Iris-setosa\",\"target_from_input\": \"Iris-virginica\",\"top_1_score\": 0.9999997615814209,\"key\": 123}\r\n",
      "{\"top_2_label\": \"Iris-versicolor\",\"top_3_score\": 2.778266283698372e-09,\"top_1_label\": \"Iris-setosa\",\"top_2_score\": 0.00045549689093604684,\"top_3_label\": \"Iris-virginica\",\"target_from_input\": \"Iris-setosa\",\"top_1_score\": 0.9995444416999817,\"key\": 23}\r\n",
      "{\"top_2_label\": \"Iris-virginica\",\"top_3_score\": 5.956003974461055e-07,\"top_1_label\": \"Iris-versicolor\",\"top_2_score\": 0.0012455430114641786,\"top_3_label\": \"Iris-setosa\",\"target_from_input\": \"Iris-versicolor\",\"top_1_score\": 0.9987539052963257,\"key\": 59}\r\n",
      "{\"top_2_label\": \"Iris-versicolor\",\"top_3_score\": 1.0236265307606018e-10,\"top_1_label\": \"Iris-virginica\",\"top_2_score\": 0.006906052120029926,\"top_3_label\": \"Iris-setosa\",\"target_from_input\": \"Iris-virginica\",\"top_1_score\": 0.9930939674377441,\"key\": 148}\r\n"
     ]
    }
   ],
   "source": [
    "!gsutil cat {CLOUD_BATCH_PREDICTION_DIR}/predictions-00000-of*"
   ]
  },
  {
   "cell_type": "markdown",
   "metadata": {},
   "source": [
    "# Cleaning things up"
   ]
  },
  {
   "cell_type": "markdown",
   "metadata": {},
   "source": [
    "If you want to delete the files you made on GCS, uncomment and run the next cell."
   ]
  },
  {
   "cell_type": "code",
   "execution_count": 11,
   "metadata": {
    "collapsed": false
   },
   "outputs": [],
   "source": [
    "#!gsutil rm -fr {CLOUD_ROOT}"
   ]
  }
 ],
 "metadata": {
  "kernelspec": {
   "display_name": "Python 2",
   "language": "python",
   "name": "python2"
  },
  "language_info": {
   "codemirror_mode": {
    "name": "ipython",
    "version": 2
   },
   "file_extension": ".py",
   "mimetype": "text/x-python",
   "name": "python",
   "nbconvert_exporter": "python",
   "pygments_lexer": "ipython2",
   "version": "2.7.9"
  }
 },
 "nbformat": 4,
 "nbformat_minor": 2
}
