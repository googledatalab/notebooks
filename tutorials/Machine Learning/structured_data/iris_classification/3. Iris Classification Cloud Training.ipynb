{
 "cells": [
  {
   "cell_type": "markdown",
   "metadata": {},
   "source": [
    "<a name=\"about\"></a>\n",
    "About this notebook\n",
    "======\n",
    "\n",
    "This notebook assumes you have ran the local Iris notebook and you have not deleted the LOCAL_ROOT folder. In this notebook, we will train a Tensorflow model using the Google Cloud Machine Learning Engine training service. This notebook will does not assume that the notebook \"2. Iris Classification Cloud Preprocessing\" was executed."
   ]
  },
  {
   "cell_type": "markdown",
   "metadata": {},
   "source": [
    "<a name=\"setup\"></a>\n",
    "Setting things up\n",
    "====="
   ]
  },
  {
   "cell_type": "code",
   "execution_count": 1,
   "metadata": {
    "collapsed": false
   },
   "outputs": [],
   "source": [
    "import datalab_structured_data as sd"
   ]
  },
  {
   "cell_type": "markdown",
   "metadata": {},
   "source": [
    "Lets look at the versions of structured_data and TF we have. Make sure TF is 1.0.0, and SD is 0.0.1."
   ]
  },
  {
   "cell_type": "code",
   "execution_count": 2,
   "metadata": {
    "collapsed": false
   },
   "outputs": [
    {
     "name": "stdout",
     "output_type": "stream",
     "text": [
      "tf 1.0.0\n",
      "sd 0.0.1\n"
     ]
    }
   ],
   "source": [
    "import os\n",
    "\n",
    "import tensorflow as tf\n",
    "from tensorflow.python.lib.io import file_io\n",
    "\n",
    "import datalab.ml as ml\n",
    "\n",
    "print('tf ' + str(tf.__version__))\n",
    "print('sd ' + str(sd.__version__))"
   ]
  },
  {
   "cell_type": "markdown",
   "metadata": {},
   "source": [
    "This notebook will write files during training. Please give a root folder you wish to use."
   ]
  },
  {
   "cell_type": "code",
   "execution_count": 3,
   "metadata": {
    "collapsed": false
   },
   "outputs": [
    {
     "name": "stdout",
     "output_type": "stream",
     "text": [
      "Creating gs://cloud-ml-deviris-classification-datalab/...\n",
      "ServiceException: 409 Bucket cloud-ml-deviris-classification-datalab already exists.\n"
     ]
    }
   ],
   "source": [
    "LOCAL_ROOT = './iris_notebook_workspace' # This should be the same as what was used in the local iris notebook\n",
    "CLOUD_ROOT = 'gs://' + datalab_project_id() + 'iris-classification-datalab'\n",
    "\n",
    "if not file_io.file_exists(LOCAL_ROOT):\n",
    "  raise ValueError('LOCAL_ROOT not found. Did you run the local notebook?')\n",
    "!gsutil mb {CLOUD_ROOT}"
   ]
  },
  {
   "cell_type": "markdown",
   "metadata": {},
   "source": [
    "First, let us put the csv files on GCS and the output of preprocessing."
   ]
  },
  {
   "cell_type": "code",
   "execution_count": 4,
   "metadata": {
    "collapsed": false
   },
   "outputs": [
    {
     "name": "stdout",
     "output_type": "stream",
     "text": [
      "Copying file://./iris_notebook_workspace/eval.csv [Content-Type=text/csv]...\n",
      "Copying file://./iris_notebook_workspace/predict.csv [Content-Type=text/csv]...\n",
      "Copying file://./iris_notebook_workspace/train.csv [Content-Type=text/csv]...\n",
      "/ [3/3 files][  5.3 KiB/  5.3 KiB] 100% Done                                    \n",
      "Operation completed over 3 objects/5.3 KiB.                                      \n",
      "Copying file://./iris_notebook_workspace/schema.json [Content-Type=application/json]...\n",
      "/ [1 files][  573.0 B/  573.0 B]                                                \n",
      "Operation completed over 1 objects/573.0 B.                                      \n",
      "Copying file://./iris_notebook_workspace/transforms.json [Content-Type=application/json]...\n",
      "/ [1 files][  154.0 B/  154.0 B]                                                \n",
      "Operation completed over 1 objects/154.0 B.                                      \n",
      "Copying file://./iris_notebook_workspace/preprocess/schema.json [Content-Type=application/json]...\n",
      "Copying file://./iris_notebook_workspace/preprocess/vocab_flower.csv [Content-Type=text/csv]...\n",
      "Copying file://./iris_notebook_workspace/preprocess/numerical_analysis.json [Content-Type=application/json]...\n",
      "/ [3/3 files][  835.0 B/  835.0 B] 100% Done                                    \n",
      "Operation completed over 3 objects/835.0 B.                                      \n"
     ]
    }
   ],
   "source": [
    "!gsutil -m cp {os.path.join(LOCAL_ROOT, '*.csv')} {CLOUD_ROOT}\n",
    "!gsutil cp {os.path.join(LOCAL_ROOT, 'schema.json')} {CLOUD_ROOT}\n",
    "!gsutil cp {os.path.join(LOCAL_ROOT, 'transforms.json')} {CLOUD_ROOT}\n",
    "!gsutil -m cp -r {os.path.join(LOCAL_ROOT, 'preprocess')} {CLOUD_ROOT}"
   ]
  },
  {
   "cell_type": "code",
   "execution_count": 5,
   "metadata": {
    "collapsed": false
   },
   "outputs": [
    {
     "name": "stdout",
     "output_type": "stream",
     "text": [
      "gs://cloud-ml-deviris-classification-datalab/preprocess/numerical_analysis.json\r\n",
      "gs://cloud-ml-deviris-classification-datalab/preprocess/schema.json\r\n",
      "gs://cloud-ml-deviris-classification-datalab/preprocess/vocab_flower.csv\r\n"
     ]
    }
   ],
   "source": [
    "!gsutil ls {CLOUD_ROOT}/preprocess"
   ]
  },
  {
   "cell_type": "markdown",
   "metadata": {},
   "source": [
    "<a name=\"local_preprocessing\"></a>\n",
    "Training using the ML Engine\n",
    "====="
   ]
  },
  {
   "cell_type": "code",
   "execution_count": 6,
   "metadata": {
    "collapsed": false
   },
   "outputs": [
    {
     "name": "stdout",
     "output_type": "stream",
     "text": [
      "CommandException: 1 files/objects could not be removed.\r\n"
     ]
    }
   ],
   "source": [
    "!gsutil -m rm -r {CLOUD_ROOT}/cloud_training"
   ]
  },
  {
   "cell_type": "code",
   "execution_count": 7,
   "metadata": {
    "collapsed": false
   },
   "outputs": [],
   "source": [
    "train_csv = ml.CsvDataSet(\n",
    "  file_pattern=os.path.join(CLOUD_ROOT, 'train.csv'),\n",
    "  schema_file=os.path.join(CLOUD_ROOT, 'schema.json'))\n",
    "eval_csv = ml.CsvDataSet(\n",
    "  file_pattern=os.path.join(CLOUD_ROOT, 'eval.csv'),\n",
    "  schema_file=os.path.join(CLOUD_ROOT, 'schema.json'))"
   ]
  },
  {
   "cell_type": "code",
   "execution_count": 8,
   "metadata": {
    "collapsed": false
   },
   "outputs": [],
   "source": [
    "ctc = ml.CloudTrainingConfig(\n",
    "  region='us-central1',\n",
    "  scale_tier='STANDARD_1' #See https://cloud.google.com/ml/reference/rest/v1beta1/projects.jobs#ScaleTier\n",
    "  )"
   ]
  },
  {
   "cell_type": "code",
   "execution_count": 9,
   "metadata": {
    "collapsed": false
   },
   "outputs": [
    {
     "name": "stdout",
     "output_type": "stream",
     "text": [
      "Building package and uploading to gs://cloud-ml-deviris-classification-datalab/cloud_training/staging/sd.tar.gz\n",
      "Job request send. View status of job at\n",
      "https://console.developers.google.com/ml/jobs?project=cloud-ml-dev\n",
      "createTime: '2017-02-24T18:25:32Z'\n",
      "jobId: structured_data_train_170224_182531\n",
      "state: QUEUED\n",
      "trainingInput:\n",
      "  args:\n",
      "  - --train_data_paths=gs://cloud-ml-deviris-classification-datalab/train.csv\n",
      "  - --eval_data_paths=gs://cloud-ml-deviris-classification-datalab/eval.csv\n",
      "  - --output_path=gs://cloud-ml-deviris-classification-datalab/cloud_training\n",
      "  - --preprocess_output_dir=gs://cloud-ml-deviris-classification-datalab/preprocess\n",
      "  - --transforms_file=gs://cloud-ml-deviris-classification-datalab/transforms.json\n",
      "  - --model_type=dnn_classification\n",
      "  - --max_steps=2000\n",
      "  - --train_batch_size=100\n",
      "  - --eval_batch_size=100\n",
      "  - --min_eval_frequency=100\n",
      "  - --learning_rate=0.01\n",
      "  - --epsilon=0.0005\n",
      "  - --layer_size1=5\n",
      "  - --layer_size2=3\n",
      "  - --layer_size3=2\n",
      "  packageUris:\n",
      "  - gs://cloud-ml-deviris-classification-datalab/cloud_training/staging/sd.tar.gz\n",
      "  pythonModule: datalab_solutions.structured_data.trainer.task\n",
      "  region: us-central1\n",
      "  scaleTier: STANDARD_1\n",
      "trainingOutput: {}\n",
      "\n"
     ]
    }
   ],
   "source": [
    "job = sd.cloud_train(\n",
    "  train_dataset=train_csv,\n",
    "  eval_dataset=eval_csv,\n",
    "  transforms=os.path.join(CLOUD_ROOT, 'transforms.json'),\n",
    "  preprocess_output_dir=os.path.join(CLOUD_ROOT, 'preprocess'),\n",
    "  output_dir=os.path.join(CLOUD_ROOT, 'cloud_training'),\n",
    "  model_type='dnn_classification',\n",
    "  max_steps=2000,\n",
    "  layer_sizes=[5, 3, 2],\n",
    "  cloud_training_config=ctc,\n",
    ")\n",
    "job.describe()"
   ]
  },
  {
   "cell_type": "markdown",
   "metadata": {},
   "source": [
    "When training is done, {CLOUD_ROOT}/training should contain the folders train, model, evaluation_model, etc."
   ]
  },
  {
   "cell_type": "code",
   "execution_count": 10,
   "metadata": {
    "collapsed": false
   },
   "outputs": [
    {
     "name": "stdout",
     "output_type": "stream",
     "text": [
      "gs://cloud-ml-deviris-classification-datalab/cloud_training/staging/\r\n"
     ]
    }
   ],
   "source": [
    "!gsutil ls  {CLOUD_ROOT}/cloud_training"
   ]
  },
  {
   "cell_type": "markdown",
   "metadata": {},
   "source": [
    "Cleaning things up\n",
    "====="
   ]
  },
  {
   "cell_type": "markdown",
   "metadata": {},
   "source": [
    "If you want to delete the files you made on GCS, uncomment and run the next cell."
   ]
  },
  {
   "cell_type": "code",
   "execution_count": 11,
   "metadata": {
    "collapsed": false
   },
   "outputs": [],
   "source": [
    "#!gsutil rm -fr {CLOUD_ROOT}"
   ]
  }
 ],
 "metadata": {
  "kernelspec": {
   "display_name": "Python 2",
   "language": "python",
   "name": "python2"
  },
  "language_info": {
   "codemirror_mode": {
    "name": "ipython",
    "version": 2
   },
   "file_extension": ".py",
   "mimetype": "text/x-python",
   "name": "python",
   "nbconvert_exporter": "python",
   "pygments_lexer": "ipython2",
   "version": "2.7.9"
  }
 },
 "nbformat": 4,
 "nbformat_minor": 2
}
