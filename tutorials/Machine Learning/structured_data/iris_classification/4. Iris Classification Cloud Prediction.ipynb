{
 "cells": [
  {
   "cell_type": "markdown",
   "metadata": {},
   "source": [
    "<a name=\"about\"></a>\n",
    "About this notebook\n",
    "======\n",
    "\n",
    "This notebook assumes you have ran the local Iris notebook and you have not deleted the LOCAL_ROOT folder. In this notebook, we will use online prediction on a pre-trained Tensorflow model. This notebook will does not assume that the notebook \"3. Iris Classification Cloud Training\" was executed."
   ]
  },
  {
   "cell_type": "markdown",
   "metadata": {},
   "source": [
    "<a name=\"setup\"></a>\n",
    "Setting things up\n",
    "====="
   ]
  },
  {
   "cell_type": "code",
   "execution_count": 1,
   "metadata": {
    "collapsed": false
   },
   "outputs": [],
   "source": [
    "import datalab_structured_data as sd"
   ]
  },
  {
   "cell_type": "markdown",
   "metadata": {},
   "source": [
    "Lets look at the versions of structured_data and TF we have. Make sure TF is 1.0.0, and SD is 0.0.1."
   ]
  },
  {
   "cell_type": "code",
   "execution_count": 14,
   "metadata": {
    "collapsed": false
   },
   "outputs": [
    {
     "name": "stdout",
     "output_type": "stream",
     "text": [
      "tf 1.0.0\n",
      "sd 0.0.1\n"
     ]
    }
   ],
   "source": [
    "import os\n",
    "import pandas as pd\n",
    "\n",
    "import tensorflow as tf\n",
    "from tensorflow.python.lib.io import file_io\n",
    "\n",
    "print('tf ' + str(tf.__version__))\n",
    "print('sd ' + str(sd.__version__))"
   ]
  },
  {
   "cell_type": "markdown",
   "metadata": {},
   "source": [
    "This notebook will write files during prediction. Please give a root folder you wish to use."
   ]
  },
  {
   "cell_type": "code",
   "execution_count": 15,
   "metadata": {
    "collapsed": false
   },
   "outputs": [
    {
     "name": "stdout",
     "output_type": "stream",
     "text": [
      "Creating gs://cloud-ml-deviris-classification-datalab/...\n",
      "ServiceException: 409 Bucket cloud-ml-deviris-classification-datalab already exists.\n"
     ]
    }
   ],
   "source": [
    "LOCAL_ROOT = './iris_notebook_workspace' # This should be the same as what was used in the local iris notebook\n",
    "CLOUD_ROOT = 'gs://' + datalab_project_id() + 'iris-classification-datalab'\n",
    "\n",
    "if not file_io.file_exists(LOCAL_ROOT):\n",
    "  raise ValueError('LOCAL_ROOT not found. Did you run the local notebook?')\n",
    "!gsutil mb {CLOUD_ROOT}"
   ]
  },
  {
   "cell_type": "markdown",
   "metadata": {},
   "source": [
    "First, let us put the csv files on GCS and the output of training."
   ]
  },
  {
   "cell_type": "code",
   "execution_count": 16,
   "metadata": {
    "collapsed": false
   },
   "outputs": [
    {
     "name": "stdout",
     "output_type": "stream",
     "text": [
      "Copying file://./iris_notebook_workspace/eval.csv [Content-Type=text/csv]...\n",
      "Copying file://./iris_notebook_workspace/train.csv [Content-Type=text/csv]...\n",
      "Copying file://./iris_notebook_workspace/predict.csv [Content-Type=text/csv]...\n",
      "/ [3/3 files][  5.3 KiB/  5.3 KiB] 100% Done                                    \n",
      "Operation completed over 3 objects/5.3 KiB.                                      \n",
      "Copying file://./iris_notebook_workspace/training/model/variables/variables.data-00000-of-00001 [Content-Type=application/octet-stream]...\n",
      "Copying file://./iris_notebook_workspace/training/model/assets.extra/transforms.json [Content-Type=application/json]...\n",
      "Copying file://./iris_notebook_workspace/training/evaluation_model/saved_model.pb [Content-Type=application/octet-stream]...\n",
      "Copying file://./iris_notebook_workspace/training/model/saved_model.pb [Content-Type=application/octet-stream]...\n",
      "Copying file://./iris_notebook_workspace/training/model/assets.extra/schema.json [Content-Type=application/json]...\n",
      "Copying file://./iris_notebook_workspace/training/model/variables/variables.index [Content-Type=application/octet-stream]...\n",
      "Copying file://./iris_notebook_workspace/training/evaluation_model/variables/variables.data-00000-of-00001 [Content-Type=application/octet-stream]...\n",
      "Copying file://./iris_notebook_workspace/training/train/model.ckpt-1.data-00000-of-00001 [Content-Type=application/octet-stream]...\n",
      "Copying file://./iris_notebook_workspace/training/evaluation_model/assets.extra/schema.json [Content-Type=application/json]...\n",
      "Copying file://./iris_notebook_workspace/training/evaluation_model/assets.extra/vocab_flower.csv [Content-Type=text/csv]...\n",
      "Copying file://./iris_notebook_workspace/training/train/eval/events.out.tfevents.1487957974.9eab9a803281 [Content-Type=application/octet-stream]...\n",
      "Copying file://./iris_notebook_workspace/training/evaluation_model/assets.extra/transforms.json [Content-Type=application/json]...\n",
      "Copying file://./iris_notebook_workspace/training/train/checkpoint [Content-Type=application/octet-stream]...\n",
      "Copying file://./iris_notebook_workspace/training/train/graph.pbtxt [Content-Type=application/octet-stream]...\n",
      "Copying file://./iris_notebook_workspace/training/model/assets.extra/vocab_flower.csv [Content-Type=text/csv]...\n",
      "Copying file://./iris_notebook_workspace/training/train/export/intermediate_prediction_models/1487957975432/assets.extra/transforms.json [Content-Type=application/json]...\n",
      "Copying file://./iris_notebook_workspace/training/train/model.ckpt-1000.data-00000-of-00001 [Content-Type=application/octet-stream]...\n",
      "Copying file://./iris_notebook_workspace/training/train/export/intermediate_prediction_models/1487957975432/assets.extra/vocab_flower.csv [Content-Type=text/csv]...\n",
      "Copying file://./iris_notebook_workspace/training/evaluation_model/variables/variables.index [Content-Type=application/octet-stream]...\n",
      "Copying file://./iris_notebook_workspace/training/train/export/intermediate_evaluation_models/1487957975041/saved_model.pb [Content-Type=application/octet-stream]...\n",
      "Copying file://./iris_notebook_workspace/training/train/export/intermediate_prediction_models/1487957975432/saved_model.pb [Content-Type=application/octet-stream]...\n",
      "Copying file://./iris_notebook_workspace/training/train/export/intermediate_prediction_models/1487957975432/variables/variables.index [Content-Type=application/octet-stream]...\n",
      "Copying file://./iris_notebook_workspace/training/train/model.ckpt-1000.index [Content-Type=application/octet-stream]...\n",
      "Copying file://./iris_notebook_workspace/training/train/events.out.tfevents.1487957967.9eab9a803281 [Content-Type=application/octet-stream]...\n",
      "Copying file://./iris_notebook_workspace/training/train/export/intermediate_evaluation_models/1487957975041/variables/variables.data-00000-of-00001 [Content-Type=application/octet-stream]...\n",
      "Copying file://./iris_notebook_workspace/training/train/export/intermediate_prediction_models/1487957975432/variables/variables.data-00000-of-00001 [Content-Type=application/octet-stream]...\n",
      "Copying file://./iris_notebook_workspace/training/train/model.ckpt-1000.meta [Content-Type=application/octet-stream]...\n",
      "Copying file://./iris_notebook_workspace/training/train/export/intermediate_evaluation_models/1487957975041/variables/variables.index [Content-Type=application/octet-stream]...\n",
      "Copying file://./iris_notebook_workspace/training/train/export/intermediate_evaluation_models/1487957975041/assets.extra/transforms.json [Content-Type=application/json]...\n",
      "Copying file://./iris_notebook_workspace/training/train/model.ckpt-1.meta [Content-Type=application/octet-stream]...\n",
      "Copying file://./iris_notebook_workspace/training/train/export/intermediate_evaluation_models/1487957975041/assets.extra/vocab_flower.csv [Content-Type=text/csv]...\n",
      "Copying file://./iris_notebook_workspace/training/train/export/intermediate_prediction_models/1487957975432/assets.extra/schema.json [Content-Type=application/json]...\n",
      "Copying file://./iris_notebook_workspace/training/train/export/intermediate_evaluation_models/1487957975041/assets.extra/schema.json [Content-Type=application/json]...\n",
      "Copying file://./iris_notebook_workspace/training/train/model.ckpt-1.index [Content-Type=application/octet-stream]...\n",
      "- [34/34 files][  1.2 MiB/  1.2 MiB] 100% Done                                  \n",
      "Operation completed over 34 objects/1.2 MiB.                                     \n"
     ]
    }
   ],
   "source": [
    "!gsutil -m cp {os.path.join(LOCAL_ROOT, '*.csv')} {CLOUD_ROOT}\n",
    "!gsutil -m cp -r {os.path.join(LOCAL_ROOT, 'training')} {CLOUD_ROOT}"
   ]
  },
  {
   "cell_type": "code",
   "execution_count": 17,
   "metadata": {
    "collapsed": false
   },
   "outputs": [
    {
     "name": "stdout",
     "output_type": "stream",
     "text": [
      "gs://cloud-ml-deviris-classification-datalab/training/evaluation_model/\r\n",
      "gs://cloud-ml-deviris-classification-datalab/training/model/\r\n",
      "gs://cloud-ml-deviris-classification-datalab/training/staging/\r\n",
      "gs://cloud-ml-deviris-classification-datalab/training/train/\r\n"
     ]
    }
   ],
   "source": [
    "!gsutil ls {CLOUD_ROOT}/training"
   ]
  },
  {
   "cell_type": "markdown",
   "metadata": {},
   "source": [
    "Online Prediction using ML Engine\n",
    "=========="
   ]
  },
  {
   "cell_type": "markdown",
   "metadata": {},
   "source": [
    "We first have to deploy the model, and then we can make requests on it."
   ]
  },
  {
   "cell_type": "code",
   "execution_count": 18,
   "metadata": {
    "collapsed": false
   },
   "outputs": [
    {
     "name": "stdout",
     "output_type": "stream",
     "text": [
      "Creating version (this might take a few minutes)......done.\n"
     ]
    }
   ],
   "source": [
    "!gcloud beta ml models create iris_model --regions=us-central1\n",
    "!gcloud beta ml versions create v1 --model iris_model --origin {CLOUD_ROOT}/training/model"
   ]
  },
  {
   "cell_type": "code",
   "execution_count": 19,
   "metadata": {
    "collapsed": false
   },
   "outputs": [
    {
     "data": {
      "text/html": [
       "<div>\n",
       "<table border=\"1\" class=\"dataframe\">\n",
       "  <thead>\n",
       "    <tr style=\"text-align: right;\">\n",
       "      <th></th>\n",
       "      <th>key_from_input</th>\n",
       "      <th>top_1_label</th>\n",
       "      <th>top_1_score</th>\n",
       "      <th>top_2_label</th>\n",
       "      <th>top_2_score</th>\n",
       "      <th>top_3_label</th>\n",
       "      <th>top_3_score</th>\n",
       "    </tr>\n",
       "  </thead>\n",
       "  <tbody>\n",
       "    <tr>\n",
       "      <th>0</th>\n",
       "      <td>101</td>\n",
       "      <td>Iris-virginica</td>\n",
       "      <td>0.952918</td>\n",
       "      <td>Iris-versicolor</td>\n",
       "      <td>0.047047</td>\n",
       "      <td>Iris-setosa</td>\n",
       "      <td>3.49441e-05</td>\n",
       "    </tr>\n",
       "    <tr>\n",
       "      <th>1</th>\n",
       "      <td>100</td>\n",
       "      <td>Iris-versicolor</td>\n",
       "      <td>0.811353</td>\n",
       "      <td>Iris-virginica</td>\n",
       "      <td>0.174092</td>\n",
       "      <td>Iris-setosa</td>\n",
       "      <td>0.014555</td>\n",
       "    </tr>\n",
       "    <tr>\n",
       "      <th>2</th>\n",
       "      <td>13</td>\n",
       "      <td>Iris-setosa</td>\n",
       "      <td>0.953729</td>\n",
       "      <td>Iris-versicolor</td>\n",
       "      <td>0.0462122</td>\n",
       "      <td>Iris-virginica</td>\n",
       "      <td>5.8815e-05</td>\n",
       "    </tr>\n",
       "  </tbody>\n",
       "</table>\n",
       "</div>"
      ],
      "text/plain": [
       "  key_from_input      top_1_label top_1_score      top_2_label top_2_score  \\\n",
       "0            101   Iris-virginica    0.952918  Iris-versicolor    0.047047   \n",
       "1            100  Iris-versicolor    0.811353   Iris-virginica    0.174092   \n",
       "2             13      Iris-setosa    0.953729  Iris-versicolor   0.0462122   \n",
       "\n",
       "      top_3_label  top_3_score  \n",
       "0     Iris-setosa  3.49441e-05  \n",
       "1     Iris-setosa     0.014555  \n",
       "2  Iris-virginica   5.8815e-05  "
      ]
     },
     "execution_count": 19,
     "metadata": {},
     "output_type": "execute_result"
    }
   ],
   "source": [
    "sd.cloud_predict(\n",
    "  model_name='iris_model',\n",
    "  model_version='v1',\n",
    "  data=['101,6.3,3.3,6,2.5', #virginica\n",
    "        '100,5.7,2.8,4.1,1.3', #versicolor\n",
    "        '13,4.8,3,1.4,0.1', #setosa\n",
    "  ]\n",
    ")"
   ]
  },
  {
   "cell_type": "code",
   "execution_count": 20,
   "metadata": {
    "collapsed": false
   },
   "outputs": [
    {
     "data": {
      "text/html": [
       "<div>\n",
       "<table border=\"1\" class=\"dataframe\">\n",
       "  <thead>\n",
       "    <tr style=\"text-align: right;\">\n",
       "      <th></th>\n",
       "      <th>key_from_input</th>\n",
       "      <th>top_1_label</th>\n",
       "      <th>top_1_score</th>\n",
       "      <th>top_2_label</th>\n",
       "      <th>top_2_score</th>\n",
       "      <th>top_3_label</th>\n",
       "      <th>top_3_score</th>\n",
       "    </tr>\n",
       "  </thead>\n",
       "  <tbody>\n",
       "    <tr>\n",
       "      <th>0</th>\n",
       "      <td>101</td>\n",
       "      <td>Iris-virginica</td>\n",
       "      <td>0.952918</td>\n",
       "      <td>Iris-versicolor</td>\n",
       "      <td>0.047047</td>\n",
       "      <td>Iris-setosa</td>\n",
       "      <td>3.49441e-05</td>\n",
       "    </tr>\n",
       "    <tr>\n",
       "      <th>1</th>\n",
       "      <td>100</td>\n",
       "      <td>Iris-versicolor</td>\n",
       "      <td>0.811353</td>\n",
       "      <td>Iris-virginica</td>\n",
       "      <td>0.174092</td>\n",
       "      <td>Iris-setosa</td>\n",
       "      <td>0.014555</td>\n",
       "    </tr>\n",
       "    <tr>\n",
       "      <th>2</th>\n",
       "      <td>13</td>\n",
       "      <td>Iris-setosa</td>\n",
       "      <td>0.953729</td>\n",
       "      <td>Iris-versicolor</td>\n",
       "      <td>0.0462122</td>\n",
       "      <td>Iris-virginica</td>\n",
       "      <td>5.8815e-05</td>\n",
       "    </tr>\n",
       "  </tbody>\n",
       "</table>\n",
       "</div>"
      ],
      "text/plain": [
       "  key_from_input      top_1_label top_1_score      top_2_label top_2_score  \\\n",
       "0            101   Iris-virginica    0.952918  Iris-versicolor    0.047047   \n",
       "1            100  Iris-versicolor    0.811353   Iris-virginica    0.174092   \n",
       "2             13      Iris-setosa    0.953729  Iris-versicolor   0.0462122   \n",
       "\n",
       "      top_3_label  top_3_score  \n",
       "0     Iris-setosa  3.49441e-05  \n",
       "1     Iris-setosa     0.014555  \n",
       "2  Iris-virginica   5.8815e-05  "
      ]
     },
     "execution_count": 20,
     "metadata": {},
     "output_type": "execute_result"
    }
   ],
   "source": [
    "sd.cloud_predict(\n",
    "  model_name='iris_model',\n",
    "  model_version='v1',\n",
    "  data=pd.DataFrame(\n",
    "    [[101,6.3,3.3,6,2.5],\n",
    "     [100,5.7,2.8,4.1,1.3],\n",
    "     [13,4.8,3,1.4,0.1]])\n",
    ")"
   ]
  },
  {
   "cell_type": "markdown",
   "metadata": {},
   "source": [
    "Cleaning things up\n",
    "====="
   ]
  },
  {
   "cell_type": "markdown",
   "metadata": {},
   "source": [
    "If you want to delete the files you made on GCS, uncomment and run the next cell."
   ]
  },
  {
   "cell_type": "code",
   "execution_count": 21,
   "metadata": {
    "collapsed": false
   },
   "outputs": [],
   "source": [
    "#!gsutil rm -fr {CLOUD_ROOT}"
   ]
  },
  {
   "cell_type": "markdown",
   "metadata": {},
   "source": [
    "To delete the models created, uncomment and run the next cell."
   ]
  },
  {
   "cell_type": "code",
   "execution_count": 22,
   "metadata": {
    "collapsed": false
   },
   "outputs": [],
   "source": [
    "#!gcloud beta ml versions delete v1 --model iris_model \n",
    "#!gcloud beta ml models delete iris_model "
   ]
  },
  {
   "cell_type": "code",
   "execution_count": null,
   "metadata": {
    "collapsed": true
   },
   "outputs": [],
   "source": []
  }
 ],
 "metadata": {
  "kernelspec": {
   "display_name": "Python 2",
   "language": "python",
   "name": "python2"
  },
  "language_info": {
   "codemirror_mode": {
    "name": "ipython",
    "version": 2
   },
   "file_extension": ".py",
   "mimetype": "text/x-python",
   "name": "python",
   "nbconvert_exporter": "python",
   "pygments_lexer": "ipython2",
   "version": "2.7.9"
  }
 },
 "nbformat": 4,
 "nbformat_minor": 2
}
