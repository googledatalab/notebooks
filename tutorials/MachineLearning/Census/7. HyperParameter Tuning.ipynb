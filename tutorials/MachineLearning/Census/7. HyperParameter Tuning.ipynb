{
 "cells": [
  {
   "cell_type": "markdown",
   "metadata": {},
   "source": [
    "### Hyperparameter Tuning\n",
    "\n",
    "CloudML service supports hyperparams tuning. Any program args exposed from your training program can be tuned. To do so, in the cloud run input, add \"hyperparameters\" section."
   ]
  },
  {
   "cell_type": "code",
   "execution_count": 1,
   "metadata": {
    "collapsed": false
   },
   "outputs": [],
   "source": [
    "import os\n",
    "\n",
    "bucket = 'gs://' + datalab_project_id() + '-sampledata'\n",
    "package_path = os.path.join(bucket, 'census', 'model', 'trainer-0.1.tar.gz')\n",
    "train_data_path = os.path.join(bucket, 'census', 'preprocessed', 'features_train.tfrecord.gz')\n",
    "eval_data_path = os.path.join(bucket, 'census', 'preprocessed', 'features_eval.tfrecord.gz')\n",
    "metadata_path = os.path.join(bucket, 'census', 'preprocessed', 'metadata.yaml')\n",
    "output_path = os.path.join(bucket, 'census', 'hptuning')\n",
    "summary_dir_pattern = os.path.join(bucket, 'census', 'hptuning', '*', 'summaries')\n",
    "eval_dir_pattern = os.path.join(bucket, 'census', 'hptuning', '*', 'eval')"
   ]
  },
  {
   "cell_type": "markdown",
   "metadata": {},
   "source": [
    "The following sample shows 3 hyperparams \"hidden1\", \"hidden2\", and \"hidden3\", indicating the size for the 3 hidden layers. We will submit 15 runs with various parameter values (the CloudML service will set those values in each trial)."
   ]
  },
  {
   "cell_type": "code",
   "execution_count": 19,
   "metadata": {
    "collapsed": false
   },
   "outputs": [
    {
     "data": {
      "text/html": [
       "<p>Job \"trainer_task_160926_235430\" was submitted successfully.<br/>Run \"%ml jobs --name trainer_task_160926_235430\" to view the status of the job.</p><p>Click <a href=\"https://console.developers.google.com/logs/viewer?project=cloud-ml-test-automated&resource=ml.googleapis.com%2Fjob_id%2Ftrainer_task_160926_235430\" target=\"_blank\">here</a> to view cloud log. <br/>Start TensorBoard by running \"%tensorboard start --logdir=&lt;YourLogDir&gt;\".</p>"
      ],
      "text/plain": [
       "<IPython.core.display.HTML object>"
      ]
     },
     "execution_count": 19,
     "metadata": {},
     "output_type": "execute_result"
    }
   ],
   "source": [
    "%mlalpha train --cloud\n",
    "package_uris: $package_path\n",
    "python_module: trainer.task\n",
    "scale_tier: BASIC\n",
    "region: us-west1\n",
    "args:\n",
    "  train_data_paths: $train_data_path\n",
    "  eval_data_paths: $eval_data_path\n",
    "  metadata_path: $metadata_path\n",
    "  output_path: $output_path\n",
    "hyperparameters:\n",
    "  goal: MINIMIZE\n",
    "  max_trials: 15\n",
    "  max_parallel_trials: 5\n",
    "  params:\n",
    "    - parameter_name: hidden1\n",
    "      type: INTEGER\n",
    "      min_value: 100\n",
    "      max_value: 300\n",
    "      scale_type: UNIT_LINEAR_SCALE\n",
    "    - parameter_name: hidden2\n",
    "      type: INTEGER\n",
    "      min_value: 50\n",
    "      max_value: 100\n",
    "      scale_type: UNIT_LINEAR_SCALE    \n",
    "    - parameter_name: hidden3\n",
    "      type: INTEGER\n",
    "      min_value: 10\n",
    "      max_value: 50\n",
    "      scale_type: UNIT_LINEAR_SCALE           "
   ]
  },
  {
   "cell_type": "markdown",
   "metadata": {},
   "source": [
    "The training results will show in \"trainingOutput\" field of the job. Initially it is empty, but once some trials finish, they will show up."
   ]
  },
  {
   "cell_type": "code",
   "execution_count": 4,
   "metadata": {
    "collapsed": false
   },
   "outputs": [
    {
     "data": {
      "text/html": [
       "<pre>createTime: '2016-09-26T23:54:31Z'\n",
       "endTime: '2016-09-27T01:11:53Z'\n",
       "jobId: trainer_task_160926_235430\n",
       "startTime: '2016-09-26T23:54:32Z'\n",
       "state: SUCCEEDED\n",
       "trainingInput:\n",
       "  args: [--train_data_paths, 'gs://cloud-ml-test-automated-sampledata/census/preprocessed/features_train.tfrecord.Z',\n",
       "    --metadata_path, 'gs://cloud-ml-test-automated-sampledata/census/preprocessed/metadata.yaml',\n",
       "    --output_path, 'gs://cloud-ml-test-automated-sampledata/census/hptuning', --eval_data_paths,\n",
       "    'gs://cloud-ml-test-automated-sampledata/census/preprocessed/features_eval.tfrecord.Z']\n",
       "  hyperparameters:\n",
       "    goal: MINIMIZE\n",
       "    maxParallelTrials: 5\n",
       "    maxTrials: 15\n",
       "    params:\n",
       "    - {maxValue: 300, minValue: 100, parameterName: hidden1, scaleType: UNIT_LINEAR_SCALE,\n",
       "      type: INTEGER}\n",
       "    - {maxValue: 100, minValue: 50, parameterName: hidden2, scaleType: UNIT_LINEAR_SCALE,\n",
       "      type: INTEGER}\n",
       "    - {maxValue: 50, minValue: 10, parameterName: hidden3, scaleType: UNIT_LINEAR_SCALE,\n",
       "      type: INTEGER}\n",
       "  packageUris: ['gs://cloud-ml-test-automated-sampledata/census/model/trainer-0.1.tar.gz']\n",
       "  pythonModule: trainer.task\n",
       "  region: us-west1\n",
       "trainingOutput:\n",
       "  completedTrialCount: '15'\n",
       "  trials:\n",
       "  - finalMetric: {objectiveValue: 48278.0898438, trainingStep: '3000'}\n",
       "    hyperparameters: {hidden1: '292', hidden2: '50', hidden3: '11'}\n",
       "    trialId: '6'\n",
       "  - finalMetric: {objectiveValue: 48524.6992188, trainingStep: '3000'}\n",
       "    hyperparameters: {hidden1: '299', hidden2: '55', hidden3: '10'}\n",
       "    trialId: '5'\n",
       "  - finalMetric: {objectiveValue: 48656.046875, trainingStep: '3000'}\n",
       "    hyperparameters: {hidden1: '189', hidden2: '50', hidden3: '10'}\n",
       "    trialId: '14'\n",
       "  - finalMetric: {objectiveValue: 49050.96875, trainingStep: '3000'}\n",
       "    hyperparameters: {hidden1: '102', hidden2: '52', hidden3: '10'}\n",
       "    trialId: '3'\n",
       "  - finalMetric: {objectiveValue: 49498.4296875, trainingStep: '3000'}\n",
       "    hyperparameters: {hidden1: '299', hidden2: '56', hidden3: '10'}\n",
       "    trialId: '10'\n",
       "  - finalMetric: {objectiveValue: 49865.09375, trainingStep: '3000'}\n",
       "    hyperparameters: {hidden1: '203', hidden2: '50', hidden3: '49'}\n",
       "    trialId: '13'\n",
       "  - finalMetric: {objectiveValue: 49890.0234375, trainingStep: '3000'}\n",
       "    hyperparameters: {hidden1: '191', hidden2: '90', hidden3: '20'}\n",
       "    trialId: '1'\n",
       "  - finalMetric: {objectiveValue: 50084.9921875, trainingStep: '3000'}\n",
       "    hyperparameters: {hidden1: '240', hidden2: '50', hidden3: '12'}\n",
       "    trialId: '8'\n",
       "  - finalMetric: {objectiveValue: 50133.9179688, trainingStep: '3000'}\n",
       "    hyperparameters: {hidden1: '295', hidden2: '50', hidden3: '20'}\n",
       "    trialId: '7'\n",
       "  - finalMetric: {objectiveValue: 50205.1289062, trainingStep: '3000'}\n",
       "    hyperparameters: {hidden1: '296', hidden2: '85', hidden3: '10'}\n",
       "    trialId: '11'\n",
       "  - finalMetric: {objectiveValue: 50271.8007812, trainingStep: '3000'}\n",
       "    hyperparameters: {hidden1: '295', hidden2: '53', hidden3: '50'}\n",
       "    trialId: '2'\n",
       "  - finalMetric: {objectiveValue: 50271.9453125, trainingStep: '3000'}\n",
       "    hyperparameters: {hidden1: '299', hidden2: '55', hidden3: '10'}\n",
       "    trialId: '9'\n",
       "  - finalMetric: {objectiveValue: 50298.7695312, trainingStep: '3000'}\n",
       "    hyperparameters: {hidden1: '108', hidden2: '99', hidden3: '50'}\n",
       "    trialId: '4'\n",
       "  - finalMetric: {objectiveValue: 50378.046875, trainingStep: '3000'}\n",
       "    hyperparameters: {hidden1: '147', hidden2: '51', hidden3: '49'}\n",
       "    trialId: '15'\n",
       "  - finalMetric: {objectiveValue: 50544.8398438, trainingStep: '3000'}\n",
       "    hyperparameters: {hidden1: '295', hidden2: '95', hidden3: '10'}\n",
       "    trialId: '12'\n",
       "</pre>"
      ],
      "text/plain": [
       "<IPython.core.display.HTML object>"
      ]
     },
     "execution_count": 4,
     "metadata": {},
     "output_type": "execute_result"
    }
   ],
   "source": [
    "%mlalpha jobs --name trainer_task_160926_235430"
   ]
  },
  {
   "cell_type": "markdown",
   "metadata": {},
   "source": [
    "\"--trials\" flag tells Datalab to plot the parallel coordination graph given the results."
   ]
  },
  {
   "cell_type": "code",
   "execution_count": 2,
   "metadata": {
    "collapsed": false
   },
   "outputs": [
    {
     "data": {
      "text/html": [
       "\n",
       "<div id=\"v1_147499367993\" class=\"parcoords\" style=\"height:300px;\"></div>\n",
       "<div id=\"g2_147499367993\" class=\"parcoords_grid\"></div>\n",
       "<script>\n",
       "  require.config({\n",
       "    paths: {\n",
       "      d3: 'http://d3js.org/d3.v3.min',\n",
       "      sylvester: '/nbextensions/gcpdatalab/extern/sylvester',\n",
       "      parcoords: '/nbextensions/gcpdatalab/extern/d3.parcoords',\n",
       "    },\n",
       "    shim: {\n",
       "      parcoords: {\n",
       "        deps: ['d3', 'sylvester'],\n",
       "        exports: 'd3'\n",
       "      },\n",
       "    }\n",
       "  });\n",
       "  require(['parcoords',\n",
       "           '/nbextensions/gcpdatalab/parcoords.js',\n",
       "           'nbextensions/gcpdatalab/style!/nbextensions/gcpdatalab/extern/d3.parcoords.css'],\n",
       "          function(d3, lib) {\n",
       "            var data = {\"Objective\": [48278.0898438, 48524.6992188, 48656.046875, 49050.96875, 49498.4296875, 49865.09375, 49890.0234375, 50084.9921875, 50133.9179688, 50205.1289062, 50271.8007812, 50271.9453125, 50298.7695312, 50378.046875, 50544.8398438], \"Trial\": [\"6\", \"5\", \"14\", \"3\", \"10\", \"13\", \"1\", \"8\", \"7\", \"11\", \"2\", \"9\", \"4\", \"15\", \"12\"], \"Training Step\": [\"3000\", \"3000\", \"3000\", \"3000\", \"3000\", \"3000\", \"3000\", \"3000\", \"3000\", \"3000\", \"3000\", \"3000\", \"3000\", \"3000\", \"3000\"], \"hidden3\": [\"11\", \"10\", \"10\", \"10\", \"10\", \"49\", \"20\", \"12\", \"20\", \"10\", \"50\", \"10\", \"50\", \"49\", \"10\"], \"hidden2\": [\"50\", \"55\", \"50\", \"52\", \"56\", \"50\", \"90\", \"50\", \"50\", \"85\", \"53\", \"55\", \"99\", \"51\", \"95\"], \"hidden1\": [\"292\", \"299\", \"189\", \"102\", \"299\", \"203\", \"191\", \"240\", \"295\", \"296\", \"295\", \"299\", \"108\", \"147\", \"295\"]};\n",
       "            lib.plot(d3, [48278.0898438, 50544.8398438], false, data, 'v1_147499367993', 'g2_147499367993');\n",
       "          });\n",
       "</script>\n"
      ],
      "text/plain": [
       "<IPython.core.display.HTML object>"
      ]
     },
     "execution_count": 2,
     "metadata": {},
     "output_type": "execute_result"
    }
   ],
   "source": [
    "%mlalpha jobs --name trainer_task_160926_235430 --trials"
   ]
  },
  {
   "cell_type": "markdown",
   "metadata": {},
   "source": [
    "\"%mlalpha summary\" can be used to compare the runs with TF events."
   ]
  },
  {
   "cell_type": "code",
   "execution_count": 39,
   "metadata": {
    "collapsed": false
   },
   "outputs": [
    {
     "data": {
      "text/html": [
       "<div id=\"d9776ff9-9587-4cde-b383-e1d379730992\" style=\"height: 525px; width: 100%;\" class=\"plotly-graph-div\"></div><script type=\"text/javascript\">require([\"plotly\"], function(Plotly) { window.PLOTLYENV=window.PLOTLYENV || {};window.PLOTLYENV.BASE_URL=\"https://plot.ly\";Plotly.newPlot(\"d9776ff9-9587-4cde-b383-e1d379730992\", [{\"y\": [78323.75, 78254.953125, 64945.23828125, 58187.91796875, 49051.765625, 56010.58984375, 71940.40625, 57515.28125, 55699.234375, 56582.421875, 73104.5078125, 67863.9375, 43246.9765625, 44891.2265625, 37569.203125, 63594.9921875, 54837.625, 52608.71875, 58088.12890625, 53918.5859375, 39912.2734375, 41182.84375, 55493.43359375, 78984.1875, 40674.20703125, 54228.5390625, 39597.39453125, 51217.5625, 66897.5703125, 45790.29296875], \"x\": [100, 200, 300, 400, 500, 600, 700, 800, 900, 1000, 1100, 1200, 1300, 1400, 1500, 1600, 1700, 1800, 1900, 2000, 2100, 2200, 2300, 2400, 2500, 2600, 2700, 2800, 2900, 3000], \"type\": \"scatter\", \"name\": \"loss-gs://cloud-ml-test-automated-sampledata/census/hptuning/1/summaries\"}, {\"y\": [73647.234375, 76523.9921875, 62996.62890625, 56037.61328125, 45710.88671875, 51555.9140625, 65208.265625, 62286.8125, 51598.7578125, 47580.80078125, 69109.15625, 63559.15234375, 37992.25390625, 43311.390625, 36506.28125, 59116.94140625, 52870.9375, 51012.6875, 58178.75390625, 53444.9453125, 39224.1484375, 39925.484375, 55747.015625, 78791.515625, 40220.4609375, 54433.33203125, 39959.96875, 51059.84375, 66997.453125, 45705.1875], \"x\": [100, 200, 300, 400, 500, 600, 700, 800, 900, 1000, 1100, 1200, 1300, 1400, 1500, 1600, 1700, 1800, 1900, 2000, 2100, 2200, 2300, 2400, 2500, 2600, 2700, 2800, 2900, 3000], \"type\": \"scatter\", \"name\": \"loss-gs://cloud-ml-test-automated-sampledata/census/hptuning/7/summaries\"}, {\"y\": [74045.109375, 76850.671875, 63476.25, 56625.484375, 46603.34375, 52978.125, 67211.921875, 62555.65625, 52673.453125, 51190.328125, 70195.078125, 64799.296875, 39642.75390625, 43710.3984375, 36762.27734375, 60768.5546875, 53700.80078125, 51660.0625, 58021.43359375, 53693.0390625, 39657.1015625, 40987.3515625, 55666.4765625, 78996.46875, 40838.875, 54231.3671875, 39412.2421875, 51280.0625, 66782.640625, 45892.28515625], \"x\": [100, 200, 300, 400, 500, 600, 700, 800, 900, 1000, 1100, 1200, 1300, 1400, 1500, 1600, 1700, 1800, 1900, 2000, 2100, 2200, 2300, 2400, 2500, 2600, 2700, 2800, 2900, 3000], \"type\": \"scatter\", \"name\": \"loss-gs://cloud-ml-test-automated-sampledata/census/hptuning/10/summaries\"}, {\"y\": [72540.921875, 74695.1640625, 60942.234375, 54096.9296875, 42656.3203125, 47165.30078125, 60014.55859375, 70564.90625, 49917.10546875, 43365.2890625, 68149.4765625, 62803.046875, 36894.66015625, 43257.140625, 37946.0625, 58631.5859375, 52655.171875, 51182.0859375, 58463.3515625, 53755.8359375, 39173.484375, 39710.21875, 55829.28125, 78752.5546875, 40090.6875, 54505.81640625, 40075.0703125, 50911.546875, 66992.296875, 45621.6640625], \"x\": [100, 200, 300, 400, 500, 600, 700, 800, 900, 1000, 1100, 1200, 1300, 1400, 1500, 1600, 1700, 1800, 1900, 2000, 2100, 2200, 2300, 2400, 2500, 2600, 2700, 2800, 2900, 3000], \"type\": \"scatter\", \"name\": \"loss-gs://cloud-ml-test-automated-sampledata/census/hptuning/15/summaries\"}, {\"y\": [76783.328125, 78791.0390625, 65605.6640625, 58765.40625, 49990.078125, 57618.25, 74051.4140625, 97212.875, 57579.30078125, 60388.625, 75613.390625, 70784.0625, 47123.89453125, 47341.28125, 40165.1015625, 69508.2734375, 60426.6796875, 59844.96875, 61253.984375, 62320.69921875], \"x\": [100, 200, 300, 400, 500, 600, 700, 800, 900, 1000, 1100, 1200, 1300, 1400, 1500, 1600, 1700, 1800, 1900, 2000], \"type\": \"scatter\", \"name\": \"loss-gs://cloud-ml-test-automated-sampledata/census/hptuning/14/summaries\"}, {\"y\": [73402.359375, 76343.125, 62951.7578125, 56189.03125, 46061.69921875, 52265.13671875, 66174.2578125, 93489.15625, 52290.83984375, 49628.65234375, 69777.421875, 64642.0078125, 39022.609375, 43477.82421875, 36302.6953125, 60102.3515625, 53238.46875, 51112.5234375, 58073.828125, 53554.42578125, 39395.0625, 40171.65625, 55610.7890625, 78859.15625, 40415.7890625, 54353.84375, 39843.671875, 51177.49609375, 67006.671875, 45727.69921875], \"x\": [100, 200, 300, 400, 500, 600, 700, 800, 900, 1000, 1100, 1200, 1300, 1400, 1500, 1600, 1700, 1800, 1900, 2000, 2100, 2200, 2300, 2400, 2500, 2600, 2700, 2800, 2900, 3000], \"type\": \"scatter\", \"name\": \"loss-gs://cloud-ml-test-automated-sampledata/census/hptuning/8/summaries\"}, {\"y\": [74787.359375, 77770.453125, 64264.671875, 57291.93359375, 47100.0625, 53180.9140625, 67144.90625, 61722.23828125, 52093.296875, 48786.5234375, 69260.796875, 63572.6796875, 38068.64453125, 43301.375, 36738.3203125, 58965.22265625, 52894.09375, 51051.375, 58223.1796875, 53442.9375, 39281.625, 39976.421875, 55904.30078125, 78791.5, 40189.01953125, 54416.3203125, 39950.6328125, 51025.23828125, 66954.1875], \"x\": [100, 200, 300, 400, 500, 600, 700, 800, 900, 1000, 1100, 1200, 1300, 1400, 1500, 1600, 1700, 1800, 1900, 2000, 2100, 2200, 2300, 2400, 2500, 2600, 2700, 2800, 2900], \"type\": \"scatter\", \"name\": \"loss-gs://cloud-ml-test-automated-sampledata/census/hptuning/13/summaries\"}, {\"y\": [73214.5, 75683.96875, 61919.9765625, 54760.2578125, 43509.8828125, 48501.56640625, 61020.7109375, 54583.08984375, 50019.8984375, 43713.94140625, 68227.15625, 62855.421875, 36988.71484375, 43235.70703125, 37703.2578125, 58680.92578125, 52671.25, 51110.27734375, 58393.625, 53672.828125, 39182.83984375, 39815.90625, 55799.1875, 78759.921875, 40165.28125, 54518.64453125, 40097.171875, 50958.4140625, 66995.2734375, 45678.40234375], \"x\": [100, 200, 300, 400, 500, 600, 700, 800, 900, 1000, 1100, 1200, 1300, 1400, 1500, 1600, 1700, 1800, 1900, 2000, 2100, 2200, 2300, 2400, 2500, 2600, 2700, 2800, 2900, 3000], \"type\": \"scatter\", \"name\": \"loss-gs://cloud-ml-test-automated-sampledata/census/hptuning/4/summaries\"}, {\"y\": [72527.734375, 74914.2578125, 61136.99609375, 54301.6015625, 43294.8359375, 48512.58984375, 61330.9453125, 82577.484375, 50285.1953125, 44370.52734375, 68423.5546875, 63024.25, 37233.2734375, 43248.3828125, 37173.375, 58856.18359375, 52727.6171875, 51112.8203125, 58329.234375, 53624.0546875, 39183.96875, 39806.0546875, 55848.26953125, 78735.359375, 40155.125, 54515.98046875, 40098.140625, 50994.7265625, 67047.5625, 45662.90234375], \"x\": [100, 200, 300, 400, 500, 600, 700, 800, 900, 1000, 1100, 1200, 1300, 1400, 1500, 1600, 1700, 1800, 1900, 2000, 2100, 2200, 2300, 2400, 2500, 2600, 2700, 2800, 2900, 3000], \"type\": \"scatter\", \"name\": \"loss-gs://cloud-ml-test-automated-sampledata/census/hptuning/11/summaries\"}, {\"y\": [77239.359375, 79084.8515625, 65803.4921875, 58890.984375, 50262.33203125, 58128.66015625, 74820.1796875, 69769.609375, 58230.3359375, 61720.375, 76655.7578125, 72028.71875, 48753.203125, 48779.78125, 41831.828125, 72458.234375, 63346.68359375, 62927.453125, 63854.8671875, 67505.5, 47839.88671875, 54470.7421875, 61339.51953125, 86193.421875, 52582.08984375, 57227.234375, 39484.4453125, 59561.4609375, 66469.515625, 50670.453125], \"x\": [100, 200, 300, 400, 500, 600, 700, 800, 900, 1000, 1100, 1200, 1300, 1400, 1500, 1600, 1700, 1800, 1900, 2000, 2100, 2200, 2300, 2400, 2500, 2600, 2700, 2800, 2900, 3000], \"type\": \"scatter\", \"name\": \"loss-gs://cloud-ml-test-automated-sampledata/census/hptuning/5/summaries\"}, {\"y\": [72496.78125, 74176.1484375, 59952.53515625, 53040.64453125, 40845.0, 44989.83203125, 58178.2734375, 78194.3125, 49862.59765625, 42464.9765625, 67900.8359375, 62743.484375, 36744.62109375, 43257.94140625, 38433.4296875, 58549.96484375, 52693.140625, 51187.93359375, 58470.109375, 53777.984375, 39184.171875, 39713.59375, 55871.8828125, 78727.6875, 40105.62109375, 54565.796875, 40142.890625, 50925.546875, 66993.15625, 45645.7578125], \"x\": [100, 200, 300, 400, 500, 600, 700, 800, 900, 1000, 1100, 1200, 1300, 1400, 1500, 1600, 1700, 1800, 1900, 2000, 2100, 2200, 2300, 2400, 2500, 2600, 2700, 2800, 2900, 3000], \"type\": \"scatter\", \"name\": \"loss-gs://cloud-ml-test-automated-sampledata/census/hptuning/2/summaries\"}, {\"y\": [74450.78125, 77162.765625, 64103.44921875, 57270.18359375, 47907.05859375, 54854.15625, 70178.1953125, 63781.8671875, 54657.75, 55417.96875, 72340.046875, 67051.078125, 42870.4140625, 44783.9765625, 37535.2109375, 63555.9609375, 55577.4375, 54100.125, 58630.8046875, 55311.18359375, 41353.6640625, 43308.1484375, 56027.08984375, 79690.9609375, 42164.703125, 54010.71875, 38482.00390625, 52140.8828125, 66310.0078125, 46472.6171875], \"x\": [100, 200, 300, 400, 500, 600, 700, 800, 900, 1000, 1100, 1200, 1300, 1400, 1500, 1600, 1700, 1800, 1900, 2000, 2100, 2200, 2300, 2400, 2500, 2600, 2700, 2800, 2900, 3000], \"type\": \"scatter\", \"name\": \"loss-gs://cloud-ml-test-automated-sampledata/census/hptuning/3/summaries\"}, {\"y\": [72040.234375, 74377.953125, 60635.94921875, 53712.6953125, 42184.68359375, 47157.890625, 59871.546875, 34213.1796875, 49845.171875, 43374.0625, 68134.1796875, 62821.8046875, 36972.484375, 43243.50390625, 37911.4921875, 58671.0078125, 52709.0, 51155.1875, 58399.9453125, 53664.55078125, 39212.5234375, 39757.94140625, 55831.375, 78743.53125, 40179.43359375, 54512.51953125, 40070.0, 50992.1171875, 67028.96875, 45671.0], \"x\": [100, 200, 300, 400, 500, 600, 700, 800, 900, 1000, 1100, 1200, 1300, 1400, 1500, 1600, 1700, 1800, 1900, 2000, 2100, 2200, 2300, 2400, 2500, 2600, 2700, 2800, 2900, 3000], \"type\": \"scatter\", \"name\": \"loss-gs://cloud-ml-test-automated-sampledata/census/hptuning/9/summaries\"}, {\"y\": [72711.53125, 75026.7109375, 61183.59375, 54129.66015625, 42748.35546875, 47856.2265625, 60120.6484375, 57583.578125, 49752.89453125, 43140.1875, 68068.21875, 62776.9453125, 36818.80078125, 43231.40625, 38100.66796875, 58591.57421875, 52607.5703125, 51163.24609375, 58430.4296875, 53752.0859375, 39152.07421875, 39714.5078125, 55769.078125, 78757.484375, 40158.546875, 54548.6015625, 40109.4765625, 50922.95703125, 67027.9375, 45643.3046875], \"x\": [100, 200, 300, 400, 500, 600, 700, 800, 900, 1000, 1100, 1200, 1300, 1400, 1500, 1600, 1700, 1800, 1900, 2000, 2100, 2200, 2300, 2400, 2500, 2600, 2700, 2800, 2900, 3000], \"type\": \"scatter\", \"name\": \"loss-gs://cloud-ml-test-automated-sampledata/census/hptuning/12/summaries\"}, {\"y\": [75384.6015625, 77952.421875, 64878.30078125, 58060.71875, 49031.9765625, 56429.015625, 72353.09375, 60105.3515625, 56325.07421875, 58432.8828125, 74229.4765625, 69037.1953125, 45355.7890625, 46109.09765625, 38764.78125, 66562.328125, 58308.53515625, 57527.75, 59991.0625, 58845.453125, 43403.16015625, 46279.83984375, 57301.26171875, 81442.2890625, 44311.59375, 54424.33203125, 38049.2109375, 53436.23046875, 66050.90625, 47549.25], \"x\": [100, 200, 300, 400, 500, 600, 700, 800, 900, 1000, 1100, 1200, 1300, 1400, 1500, 1600, 1700, 1800, 1900, 2000, 2100, 2200, 2300, 2400, 2500, 2600, 2700, 2800, 2900, 3000], \"type\": \"scatter\", \"name\": \"loss-gs://cloud-ml-test-automated-sampledata/census/hptuning/6/summaries\"}], {\"title\": \"loss\", \"xaxis\": {\"title\": \"step\"}, \"yaxis\": {\"title\": \"loss\"}}, {\"linkText\": \"Export to plot.ly\", \"showLink\": true})});</script>"
      ],
      "text/plain": [
       "<IPython.core.display.HTML object>"
      ]
     },
     "metadata": {},
     "output_type": "display_data"
    }
   ],
   "source": [
    "%mlalpha summary --dir $summary_dir_pattern --name loss --step"
   ]
  },
  {
   "cell_type": "code",
   "execution_count": 41,
   "metadata": {
    "collapsed": false
   },
   "outputs": [
    {
     "data": {
      "text/html": [
       "<div id=\"6bd0ee76-bd25-448b-a036-722b03c8658d\" style=\"height: 525px; width: 100%;\" class=\"plotly-graph-div\"></div><script type=\"text/javascript\">require([\"plotly\"], function(Plotly) { window.PLOTLYENV=window.PLOTLYENV || {};window.PLOTLYENV.BASE_URL=\"https://plot.ly\";Plotly.newPlot(\"6bd0ee76-bd25-448b-a036-722b03c8658d\", [{\"y\": [103089.875, 52500.9296875, 51506.8125, 50001.890625, 48917.71484375, 49913.89453125, 50770.73828125, 50578.3671875, 50450.953125, 50379.4765625, 50410.703125, 49763.0390625, 50028.49609375, 50626.28515625, 50146.82421875], \"x\": [0, 401, 701, 845, 1001, 1201, 1401, 1601, 1738, 1901, 2053, 2401, 2701, 2901, 3000], \"type\": \"scatter\", \"name\": \"error-gs://cloud-ml-test-automated-sampledata/census/hptuning/11/eval\"}, {\"y\": [56708.85546875, 52164.42578125, 50659.94140625, 50396.94921875, 48760.40625, 48910.734375, 49851.2890625, 50332.24609375, 50722.30078125, 50189.2734375, 49652.72265625, 49578.0234375, 49893.7734375, 50153.5234375, 50054.6328125, 50005.94921875, 50708.94140625, 50214.08203125], \"x\": [201, 388, 501, 701, 991, 1101, 1301, 1501, 1601, 1801, 2084, 2299, 2401, 2537, 2701, 2801, 2901, 3000], \"type\": \"scatter\", \"name\": \"error-gs://cloud-ml-test-automated-sampledata/census/hptuning/9/eval\"}, {\"y\": [57856.2890625, 56066.92578125, 52969.09765625, 51566.46484375, 48289.734375, 50300.0, 50027.1640625, 50629.19921875, 49034.37890625, 50293.62109375, 50447.21484375, 50002.41796875, 49837.59375, 50558.4765625, 50103.82421875, 50778.03515625, 50238.73828125], \"x\": [201, 301, 401, 601, 772, 901, 1192, 1401, 1538, 1801, 2001, 2201, 2301, 2501, 2701, 2901, 3000], \"type\": \"scatter\", \"name\": \"error-gs://cloud-ml-test-automated-sampledata/census/hptuning/4/eval\"}, {\"y\": [58772.12890625, 54818.2734375, 51060.28515625, 49819.296875, 49036.703125, 50297.50390625, 49848.50390625, 50511.4609375, 51020.2109375, 50380.15234375, 50641.69921875, 50217.7265625, 50250.10546875, 50381.39453125, 50769.42578125, 50322.6796875], \"x\": [101, 301, 501, 701, 801, 901, 1201, 1401, 1601, 1801, 2001, 2201, 2401, 2685, 2901, 3000], \"type\": \"scatter\", \"name\": \"error-gs://cloud-ml-test-automated-sampledata/census/hptuning/15/eval\"}, {\"y\": [80894.9921875, 54549.02734375, 53256.73828125, 51005.21484375, 51240.234375, 49124.9609375, 49943.9296875, 49992.640625, 49626.1640625, 50009.3671875, 50070.40234375, 49771.48828125, 49744.52734375, 50006.4765625, 49903.22265625, 49492.359375, 50076.4296875], \"x\": [0, 401, 601, 801, 901, 1101, 1401, 1601, 1801, 2001, 2135, 2334, 2401, 2560, 2701, 2931, 3000], \"type\": \"scatter\", \"name\": \"error-gs://cloud-ml-test-automated-sampledata/census/hptuning/7/eval\"}, {\"y\": [58961.890625, 57348.3828125, 54700.7265625, 53412.859375, 52749.05859375, 50094.2734375, 49475.859375, 48788.8359375, 48976.75, 48355.40234375, 48893.10546875, 48715.14453125, 50493.69921875, 49611.734375, 49303.4609375, 49245.1640625, 49842.58203125, 49439.609375], \"x\": [201, 301, 501, 701, 828, 1016, 1201, 1301, 1501, 1638, 1901, 2201, 2383, 2501, 2701, 2801, 2901, 3000], \"type\": \"scatter\", \"name\": \"error-gs://cloud-ml-test-automated-sampledata/census/hptuning/10/eval\"}, {\"y\": [68495.15625, 60827.7734375, 57263.140625, 56522.19140625, 55006.40625, 52830.57421875, 51393.2265625, 50853.51171875, 50225.234375, 48757.09375, 49419.3359375, 49337.3203125, 49061.25390625, 49527.66796875, 49285.62109375, 49744.4296875, 49831.83203125], \"x\": [101, 201, 401, 601, 801, 1001, 1201, 1301, 1501, 1701, 1901, 2179, 2201, 2401, 2601, 2801, 3000], \"type\": \"scatter\", \"name\": \"error-gs://cloud-ml-test-automated-sampledata/census/hptuning/1/eval\"}, {\"y\": [65213.25390625, 59626.890625, 59098.4609375, 58277.73828125, 57454.046875, 57133.32421875, 55800.82421875, 55250.9140625, 54101.390625, 53808.87109375, 52636.6328125, 51664.1640625, 50979.6875, 50946.82421875, 50042.12890625, 49867.58203125, 48647.0078125, 49564.72265625, 48597.765625], \"x\": [101, 301, 418, 501, 701, 801, 1001, 1101, 1301, 1401, 1601, 1701, 1801, 1901, 2042, 2301, 2601, 2901, 3000], \"type\": \"scatter\", \"name\": \"error-gs://cloud-ml-test-automated-sampledata/census/hptuning/14/eval\"}, {\"y\": [62353.51171875, 59038.7890625, 58809.76171875, 58037.5390625, 56952.94140625, 56056.12890625, 55704.94921875, 55289.10546875, 54676.6171875, 53718.01171875, 52938.859375, 52320.390625, 51821.89453125, 51267.00390625, 49808.10546875, 49873.7265625, 50141.42578125, 49046.65625], \"x\": [201, 401, 501, 801, 1001, 1201, 1301, 1501, 1601, 1701, 1901, 2001, 2101, 2401, 2601, 2701, 2901, 3000], \"type\": \"scatter\", \"name\": \"error-gs://cloud-ml-test-automated-sampledata/census/hptuning/5/eval\"}, {\"y\": [58931.37109375, 50438.58203125, 49626.42578125, 49691.87109375, 50293.984375, 48959.75, 50092.4609375, 50503.14453125, 49932.32421875, 50560.8359375, 50576.7890625, 50037.65625, 49742.05859375, 50558.3671875, 49671.765625, 50035.2890625, 50778.6171875, 50214.71484375], \"x\": [101, 401, 601, 701, 971, 1101, 1301, 1501, 1701, 1901, 2001, 2201, 2301, 2501, 2601, 2801, 2901, 3000], \"type\": \"scatter\", \"name\": \"error-gs://cloud-ml-test-automated-sampledata/census/hptuning/2/eval\"}, {\"y\": [59764.27734375, 54985.87890625, 52925.52734375, 51000.58203125, 49011.50390625, 48492.1171875, 48549.00390625, 49338.91796875, 49630.6875, 48683.98046875, 49587.44140625, 48746.38671875, 49458.99609375, 49249.85546875, 50242.01171875, 49809.25], \"x\": [201, 501, 701, 801, 1001, 1101, 1301, 1501, 1601, 1701, 1901, 2101, 2401, 2601, 2901, 3000], \"type\": \"scatter\", \"name\": \"error-gs://cloud-ml-test-automated-sampledata/census/hptuning/13/eval\"}, {\"y\": [57432.94921875, 52344.0625, 50815.19921875, 50827.015625, 49120.84375, 50892.30078125, 51148.3203125, 50490.15625, 49737.25, 50119.02734375, 50799.51171875, 50366.48828125, 50487.30078125], \"x\": [201, 401, 701, 901, 1101, 1401, 1601, 1801, 2101, 2301, 2501, 2701, 3000], \"type\": \"scatter\", \"name\": \"error-gs://cloud-ml-test-automated-sampledata/census/hptuning/12/eval\"}, {\"y\": [59316.60546875, 56439.0390625, 55831.57421875, 53959.703125, 54038.453125, 52217.359375, 51303.49609375, 50362.5234375, 50030.62890625, 48945.78515625, 49137.62109375, 48649.6796875, 48948.51171875, 48896.734375, 48508.73046875, 48968.87109375, 48992.02734375], \"x\": [201, 401, 601, 801, 901, 1001, 1201, 1401, 1601, 1702, 1901, 2101, 2235, 2401, 2601, 2801, 3000], \"type\": \"scatter\", \"name\": \"error-gs://cloud-ml-test-automated-sampledata/census/hptuning/3/eval\"}, {\"y\": [62885.94921875, 58745.453125, 57274.42578125, 56481.0, 56356.77734375, 54253.00390625, 53989.01171875, 53342.42578125, 52785.953125, 52396.57421875, 50324.02734375, 50124.5234375, 49042.17578125, 48658.75390625, 49213.34375, 48024.89453125, 47959.8046875, 48317.25390625, 48222.33984375], \"x\": [101, 325, 501, 701, 801, 1001, 1101, 1201, 1301, 1501, 1701, 1901, 2101, 2201, 2445, 2601, 2749, 2801, 3000], \"type\": \"scatter\", \"name\": \"error-gs://cloud-ml-test-automated-sampledata/census/hptuning/6/eval\"}, {\"y\": [76582.3984375, 56740.0859375, 55418.484375, 53896.73828125, 53066.7109375, 51773.64453125, 50161.60546875, 49999.26171875, 49970.984375, 50214.55078125, 49088.0, 50213.49609375, 49435.19921875, 49461.0, 49641.84375, 50679.953125, 49905.1875, 49613.5234375, 49995.44921875, 50028.83203125], \"x\": [0, 301, 425, 601, 701, 801, 1043, 1201, 1401, 1601, 1701, 1901, 2023, 2101, 2201, 2378, 2401, 2601, 2801, 3000], \"type\": \"scatter\", \"name\": \"error-gs://cloud-ml-test-automated-sampledata/census/hptuning/8/eval\"}], {\"title\": \"error\", \"xaxis\": {\"title\": \"step\"}, \"yaxis\": {\"title\": \"error\"}}, {\"linkText\": \"Export to plot.ly\", \"showLink\": true})});</script>"
      ],
      "text/plain": [
       "<IPython.core.display.HTML object>"
      ]
     },
     "metadata": {},
     "output_type": "display_data"
    }
   ],
   "source": [
    "%mlalpha summary --dir $eval_dir_pattern --name error --step"
   ]
  },
  {
   "cell_type": "code",
   "execution_count": null,
   "metadata": {
    "collapsed": true
   },
   "outputs": [],
   "source": []
  }
 ],
 "metadata": {
  "kernelspec": {
   "display_name": "Python 2",
   "language": "python",
   "name": "python2"
  },
  "language_info": {
   "codemirror_mode": {
    "name": "ipython",
    "version": 2
   },
   "file_extension": ".py",
   "mimetype": "text/x-python",
   "name": "python",
   "nbconvert_exporter": "python",
   "pygments_lexer": "ipython2",
   "version": "2.7.9"
  }
 },
 "nbformat": 4,
 "nbformat_minor": 1
}
