{
 "cells": [
  {
   "cell_type": "markdown",
   "metadata": {},
   "source": [
    "* The sample requires latest datalab container. Update your datalab by: <br><br>\n",
    "<b>docker pull gcr.io/cloud-datalab/datalab:local</b><br><br>\n",
    "\n",
    "* You need to sign in from DataLab to access GCP resources. To do so, click the up right sign-in button, if you have not done so. <br>\n",
    "\n",
    "\n",
    "* The sample also requires a project that is enabled for CloudML. Run the following in a cell to set it to be your default GCP project: <br><br>\n",
    "<b>%projects set Your-Project-Id</b>"
   ]
  },
  {
   "cell_type": "code",
   "execution_count": null,
   "metadata": {
    "collapsed": true
   },
   "outputs": [],
   "source": []
  }
 ],
 "metadata": {
  "kernelspec": {
   "display_name": "Python 2",
   "language": "python",
   "name": "python2"
  },
  "language_info": {
   "codemirror_mode": {
    "name": "ipython",
    "version": 2
   },
   "file_extension": ".py",
   "mimetype": "text/x-python",
   "name": "python",
   "nbconvert_exporter": "python",
   "pygments_lexer": "ipython2",
   "version": "2.7.9"
  }
 },
 "nbformat": 4,
 "nbformat_minor": 1
}
