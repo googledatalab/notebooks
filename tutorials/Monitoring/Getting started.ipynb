{
 "cells": [
  {
   "cell_type": "markdown",
   "metadata": {},
   "source": [
    "# Getting started with the Monitoring API\n",
    "\n",
    "Cloud Datalab provides an environment for working with your data. This includes data that is being managed within the Monitoring API. This notebook introduces some of the APIs that Cloud Datalab provides for working with the monitoring data, and allows you to try them out on your own project.\n",
    "\n",
    "The main focus of this API is to allow you to query timeseries data for your monitored resources. There are also commands to help you list the available metrics and resource types.\n",
    "\n",
    "**Note**: This notebook will show you how to use this API by running it on your own project. For all cells to run without errors, the following must hold:\n",
    "* The default project must be set\n",
    "* This project must have at least one GCE Instance. You can create an instance at the following link: [https://console.cloud.google.com/compute/instances](https://console.cloud.google.com/compute/instances)"
   ]
  },
  {
   "cell_type": "markdown",
   "metadata": {},
   "source": [
    "## Importing the API and setting up the default project\n",
    "\n",
    "The Monitoring functionality is contained within the `datalab.stackdriver.monitoring` module.\n",
    "\n",
    "If there is no default project set already, you must do so using `'set_datalab_project_id'`."
   ]
  },
  {
   "cell_type": "code",
   "execution_count": 1,
   "metadata": {
    "collapsed": false
   },
   "outputs": [],
   "source": [
    "from datalab.stackdriver import monitoring as gcm\n",
    "\n",
    "# set_datalab_project_id('my-project-id')"
   ]
  },
  {
   "cell_type": "markdown",
   "metadata": {},
   "source": [
    "## List names of Compute Engine CPU metrics\n",
    "\n",
    "Here we can see that `instance_name` is a metric label."
   ]
  },
  {
   "cell_type": "code",
   "execution_count": 2,
   "metadata": {
    "collapsed": false
   },
   "outputs": [
    {
     "data": {
      "text/html": [
       "<table><tr><th>Metric type</th><th>Kind</th><th>Value</th><th>Labels</th></tr><tr><td>compute.googleapis.com/instance/cpu/reserved_cores</td><td>GAUGE</td><td>DOUBLE</td><td>instance_name</td></tr><tr><td>compute.googleapis.com/instance/cpu/usage_time</td><td>DELTA</td><td>DOUBLE</td><td>instance_name</td></tr><tr><td>compute.googleapis.com/instance/cpu/utilization</td><td>GAUGE</td><td>DOUBLE</td><td>instance_name</td></tr></table>"
      ],
      "text/plain": [
       "<IPython.core.display.HTML object>"
      ]
     },
     "execution_count": 2,
     "metadata": {},
     "output_type": "execute_result"
    }
   ],
   "source": [
    "%%monitoring list metrics --type compute*/cpu/*"
   ]
  },
  {
   "cell_type": "markdown",
   "metadata": {},
   "source": [
    "## List monitored resource types related to GCE"
   ]
  },
  {
   "cell_type": "code",
   "execution_count": 3,
   "metadata": {
    "collapsed": false
   },
   "outputs": [
    {
     "data": {
      "text/html": [
       "<table><tr><th>Resource type</th><th>Labels</th></tr><tr><td>gce_disk</td><td>project_id, disk_id, zone</td></tr><tr><td>gce_instance</td><td>project_id, instance_id, zone</td></tr><tr><td>gce_router</td><td>project_id, router_id, region</td></tr></table>"
      ],
      "text/plain": [
       "<IPython.core.display.HTML object>"
      ]
     },
     "execution_count": 3,
     "metadata": {},
     "output_type": "execute_result"
    }
   ],
   "source": [
    "%%monitoring list resource_types --type gce*"
   ]
  },
  {
   "cell_type": "markdown",
   "metadata": {},
   "source": [
    "## Querying timeseries data\n",
    "\n",
    "The `gcm.Query` class allows users to query and access the monitoring timeseries data. The results of the query can be accessed as a `pandas` `DataFrame` object. `pandas` is a widely used library for data manipulation:\n",
    "\n",
    "http://pandas.pydata.org/pandas-docs/stable/generated/pandas.DataFrame.html\n",
    "\n",
    "You can also get help from inside the notebook by calling the `help` function on any class, object or method."
   ]
  },
  {
   "cell_type": "code",
   "execution_count": 4,
   "metadata": {
    "collapsed": false
   },
   "outputs": [
    {
     "name": "stdout",
     "output_type": "stream",
     "text": [
      "Help on method select_metrics in module gcloud.monitoring.query:\n",
      "\n",
      "select_metrics(self, *args, **kwargs) unbound datalab.stackdriver.monitoring._timeseries.Query method\n",
      "    Copy the query and add filtering by metric labels.\n",
      "    \n",
      "    Examples::\n",
      "    \n",
      "        query = query.select_metrics(instance_name='myinstance')\n",
      "        query = query.select_metrics(instance_name_prefix='mycluster-')\n",
      "    \n",
      "    A keyword argument ``<label>=<value>`` ordinarily generates a filter\n",
      "    expression of the form::\n",
      "    \n",
      "        metric.label.<label> = \"<value>\"\n",
      "    \n",
      "    However, by adding ``\"_prefix\"`` or ``\"_suffix\"`` to the keyword,\n",
      "    you can specify a partial match.\n",
      "    \n",
      "    ``<label>_prefix=<value>`` generates::\n",
      "    \n",
      "        metric.label.<label> = starts_with(\"<value>\")\n",
      "    \n",
      "    ``<label>_suffix=<value>`` generates::\n",
      "    \n",
      "        metric.label.<label> = ends_with(\"<value>\")\n",
      "    \n",
      "    :type args: tuple\n",
      "    :param args: Raw filter expression strings to include in the\n",
      "        conjunction. If just one is provided and no keyword arguments\n",
      "        are provided, it can be a disjunction.\n",
      "    \n",
      "    :type kwargs: dict\n",
      "    :param kwargs: Label filters to include in the conjunction as\n",
      "        described above.\n",
      "    \n",
      "    :rtype: :class:`Query`\n",
      "    :returns: The new query object.\n",
      "\n"
     ]
    }
   ],
   "source": [
    "help(gcm.Query.select_metrics)"
   ]
  },
  {
   "cell_type": "markdown",
   "metadata": {},
   "source": [
    "### Initializing the query\n",
    "\n",
    "During intialization, the metric type and the time interval need to be specified. For interactive use, the metric type has a default value. The simplest way to specify the time interval that ends `now` is to use the arguments `days`, `hours`, and `minutes`."
   ]
  },
  {
   "cell_type": "code",
   "execution_count": 5,
   "metadata": {
    "collapsed": false
   },
   "outputs": [],
   "source": [
    "query_cpu = gcm.Query('compute.googleapis.com/instance/cpu/utilization', hours=2)"
   ]
  },
  {
   "cell_type": "markdown",
   "metadata": {},
   "source": [
    "### Getting the metadata\n",
    "\n",
    "The method `metadata()` returns a `QueryMetadata` object. It contains the following information about the timeseries matching the query:\n",
    "* resource types\n",
    "* resource labels and their values\n",
    "* metric labels and their values\n",
    "\n",
    "This helps you understand the structure of the timeseries data, and makes it easier to modify the query."
   ]
  },
  {
   "cell_type": "code",
   "execution_count": 6,
   "metadata": {
    "collapsed": false
   },
   "outputs": [
    {
     "data": {
      "text/html": [
       "<div>\n",
       "<table border=\"1\" class=\"dataframe\">\n",
       "  <thead>\n",
       "    <tr>\n",
       "      <th></th>\n",
       "      <th>resource</th>\n",
       "      <th colspan=\"3\" halign=\"left\">resource.labels</th>\n",
       "      <th>metric.labels</th>\n",
       "    </tr>\n",
       "    <tr>\n",
       "      <th></th>\n",
       "      <th>type</th>\n",
       "      <th>project_id</th>\n",
       "      <th>zone</th>\n",
       "      <th>instance_id</th>\n",
       "      <th>instance_name</th>\n",
       "    </tr>\n",
       "  </thead>\n",
       "  <tbody>\n",
       "    <tr>\n",
       "      <th>0</th>\n",
       "      <td>gce_instance</td>\n",
       "      <td>monitoring-datalab</td>\n",
       "      <td>us-central1-b</td>\n",
       "      <td>7900261093938609905</td>\n",
       "      <td>gae-datalab-main-j642</td>\n",
       "    </tr>\n",
       "    <tr>\n",
       "      <th>1</th>\n",
       "      <td>gce_instance</td>\n",
       "      <td>monitoring-datalab</td>\n",
       "      <td>us-east1-d</td>\n",
       "      <td>5437900963820317613</td>\n",
       "      <td>analyst2</td>\n",
       "    </tr>\n",
       "  </tbody>\n",
       "</table>\n",
       "</div>"
      ],
      "text/plain": [
       "       resource     resource.labels                                      \\\n",
       "           type          project_id           zone          instance_id   \n",
       "0  gce_instance  monitoring-datalab  us-central1-b  7900261093938609905   \n",
       "1  gce_instance  monitoring-datalab     us-east1-d  5437900963820317613   \n",
       "\n",
       "           metric.labels  \n",
       "           instance_name  \n",
       "0  gae-datalab-main-j642  \n",
       "1               analyst2  "
      ]
     },
     "execution_count": 6,
     "metadata": {},
     "output_type": "execute_result"
    }
   ],
   "source": [
    "metadata_cpu = query_cpu.metadata().as_dataframe()\n",
    "metadata_cpu.head(5)"
   ]
  },
  {
   "cell_type": "markdown",
   "metadata": {},
   "source": [
    "Next, we read in the instance names from the metadata, and use it in filtering the timeseries data below. If there are no GCE instances in this project, the cells below will raise errors."
   ]
  },
  {
   "cell_type": "code",
   "execution_count": 7,
   "metadata": {
    "collapsed": false
   },
   "outputs": [
    {
     "name": "stdout",
     "output_type": "stream",
     "text": [
      "First 5 instance names: [u'gae-datalab-main-j642', u'analyst2']\n"
     ]
    }
   ],
   "source": [
    "import sys\n",
    "\n",
    "if metadata_cpu.empty:\n",
    "  sys.stderr.write('This project has no GCE instances. The remaining notebook will raise errors!')\n",
    "else:\n",
    "  instance_names = list(metadata_cpu['metric.labels']['instance_name'])\n",
    "  print 'First 5 instance names: %s' % (instance_names[:5],)"
   ]
  },
  {
   "cell_type": "markdown",
   "metadata": {},
   "source": [
    "### Refining the query\n",
    "\n",
    "Many useful methods of the `Query` class are actually defined by the base class, which is provided by the `gcloud-python` library. These methods include `select_metrics()`, `select_resources()`, `align()`, `reduce()`, and `as_dataframe()`, among others. We demonstrate some of these below. Reference documentation for the `Query` base class is available [here](http://gcloud-python.readthedocs.org/en/latest/monitoring-query.html).\n"
   ]
  },
  {
   "cell_type": "markdown",
   "metadata": {},
   "source": [
    "### Filtering by label\n",
    "\n",
    "Here, we filter the query to include only the first instance."
   ]
  },
  {
   "cell_type": "code",
   "execution_count": 8,
   "metadata": {
    "collapsed": false
   },
   "outputs": [
    {
     "data": {
      "text/html": [
       "<div>\n",
       "<table border=\"1\" class=\"dataframe\">\n",
       "  <thead>\n",
       "    <tr style=\"text-align: right;\">\n",
       "      <th></th>\n",
       "      <th>gae-datalab-main-j642</th>\n",
       "    </tr>\n",
       "  </thead>\n",
       "  <tbody>\n",
       "    <tr>\n",
       "      <th>2016-08-03 23:06:01.763</th>\n",
       "      <td>0.009473</td>\n",
       "    </tr>\n",
       "    <tr>\n",
       "      <th>2016-08-03 23:07:01.763</th>\n",
       "      <td>0.008786</td>\n",
       "    </tr>\n",
       "    <tr>\n",
       "      <th>2016-08-03 23:08:01.763</th>\n",
       "      <td>0.007694</td>\n",
       "    </tr>\n",
       "    <tr>\n",
       "      <th>2016-08-03 23:09:01.763</th>\n",
       "      <td>0.008299</td>\n",
       "    </tr>\n",
       "    <tr>\n",
       "      <th>2016-08-03 23:10:01.763</th>\n",
       "      <td>0.007534</td>\n",
       "    </tr>\n",
       "  </tbody>\n",
       "</table>\n",
       "</div>"
      ],
      "text/plain": [
       "                         gae-datalab-main-j642\n",
       "2016-08-03 23:06:01.763               0.009473\n",
       "2016-08-03 23:07:01.763               0.008786\n",
       "2016-08-03 23:08:01.763               0.007694\n",
       "2016-08-03 23:09:01.763               0.008299\n",
       "2016-08-03 23:10:01.763               0.007534"
      ]
     },
     "execution_count": 8,
     "metadata": {},
     "output_type": "execute_result"
    }
   ],
   "source": [
    "query_cpu_single_instance = query_cpu.select_metrics(instance_name=instance_names[0])\n",
    "\n",
    "# Get the query results as a pandas DataFrame and look at the last 5 rows.\n",
    "data_single_instance = query_cpu_single_instance.as_dataframe(label='instance_name')\n",
    "data_single_instance.tail(5)"
   ]
  },
  {
   "cell_type": "code",
   "execution_count": 9,
   "metadata": {
    "collapsed": false
   },
   "outputs": [
    {
     "data": {
      "image/png": "[encoded data removed]",
      "text/plain": [
       "<matplotlib.figure.Figure at 0x7f2224fa96d0>"
      ]
     },
     "metadata": {},
     "output_type": "display_data"
    }
   ],
   "source": [
    "# N.B. A useful trick is to assign the return value of plot to _ \n",
    "# so that you don't get text printed before the plot itself.\n",
    "\n",
    "_ = data_single_instance.plot()"
   ]
  },
  {
   "cell_type": "markdown",
   "metadata": {},
   "source": [
    "### Aligning the query\n",
    "\n",
    "For multiple timeseries, aligning the data is recommended. The alignment offset can be specified using the arguments `hours`, `minutes`, and `seconds`."
   ]
  },
  {
   "cell_type": "code",
   "execution_count": 10,
   "metadata": {
    "collapsed": false
   },
   "outputs": [
    {
     "data": {
      "image/png": "[encoded data removed]",
      "text/plain": [
       "<matplotlib.figure.Figure at 0x7f2225373f90>"
      ]
     },
     "metadata": {},
     "output_type": "display_data"
    }
   ],
   "source": [
    "# Align the query to have data every 5 minutes.\n",
    "query_cpu_aligned = query_cpu.align('ALIGN_MEAN', minutes=5)\n",
    "data_all_instances = query_cpu_aligned.as_dataframe(label='instance_name')\n",
    "\n",
    "# Display the data as a linechart. The extra code moves the legend to the \n",
    "# right of the chart.\n",
    "_ = data_all_instances.plot().legend(loc='center left', bbox_to_anchor=(1.0, 0.8))"
   ]
  },
  {
   "cell_type": "markdown",
   "metadata": {},
   "source": [
    "### Displaying the results as a heatmap"
   ]
  },
  {
   "cell_type": "code",
   "execution_count": 11,
   "metadata": {
    "collapsed": false
   },
   "outputs": [
    {
     "data": {
      "image/png": "[encoded data removed]",
      "text/plain": [
       "<matplotlib.figure.Figure at 0x7f2225059f10>"
      ]
     },
     "metadata": {},
     "output_type": "display_data"
    }
   ],
   "source": [
    "import matplotlib\n",
    "import seaborn\n",
    "\n",
    "# Set the size of the heatmap to have a better aspect ratio.\n",
    "matplotlib.pyplot.figure(figsize=data_all_instances.shape)\n",
    "_ = seaborn.heatmap(data_all_instances.T, xticklabels=data_all_instances.index.map(str), cmap='YlGnBu')"
   ]
  },
  {
   "cell_type": "markdown",
   "metadata": {},
   "source": [
    "### Reducing the query\n",
    "\n",
    "In order to aggregate the timeseries data, the `reduce()` method can be used. The fields to be retained after aggregation must be specified in the method.\n",
    "\n",
    "For example, to aggregate the results by the zone, `'resource.zone'` can be specified."
   ]
  },
  {
   "cell_type": "code",
   "execution_count": 12,
   "metadata": {
    "collapsed": false
   },
   "outputs": [
    {
     "data": {
      "text/html": [
       "<div>\n",
       "<table border=\"1\" class=\"dataframe\">\n",
       "  <thead>\n",
       "    <tr style=\"text-align: right;\">\n",
       "      <th></th>\n",
       "      <th>us-central1-b</th>\n",
       "      <th>us-east1-d</th>\n",
       "    </tr>\n",
       "  </thead>\n",
       "  <tbody>\n",
       "    <tr>\n",
       "      <th>2016-08-03 22:52:00</th>\n",
       "      <td>0.008003</td>\n",
       "      <td>0.995619</td>\n",
       "    </tr>\n",
       "    <tr>\n",
       "      <th>2016-08-03 22:57:00</th>\n",
       "      <td>0.008637</td>\n",
       "      <td>0.995730</td>\n",
       "    </tr>\n",
       "    <tr>\n",
       "      <th>2016-08-03 23:02:00</th>\n",
       "      <td>0.008369</td>\n",
       "      <td>0.829574</td>\n",
       "    </tr>\n",
       "    <tr>\n",
       "      <th>2016-08-03 23:07:00</th>\n",
       "      <td>0.009169</td>\n",
       "      <td>0.516721</td>\n",
       "    </tr>\n",
       "    <tr>\n",
       "      <th>2016-08-03 23:12:00</th>\n",
       "      <td>0.008078</td>\n",
       "      <td>0.887553</td>\n",
       "    </tr>\n",
       "  </tbody>\n",
       "</table>\n",
       "</div>"
      ],
      "text/plain": [
       "                     us-central1-b  us-east1-d\n",
       "2016-08-03 22:52:00       0.008003    0.995619\n",
       "2016-08-03 22:57:00       0.008637    0.995730\n",
       "2016-08-03 23:02:00       0.008369    0.829574\n",
       "2016-08-03 23:07:00       0.009169    0.516721\n",
       "2016-08-03 23:12:00       0.008078    0.887553"
      ]
     },
     "execution_count": 12,
     "metadata": {},
     "output_type": "execute_result"
    }
   ],
   "source": [
    "query_cpu_reduced = query_cpu_aligned.reduce('REDUCE_MEAN', 'resource.zone')\n",
    "data_per_zone = query_cpu_reduced.as_dataframe('zone')\n",
    "data_per_zone.tail(5)"
   ]
  },
  {
   "cell_type": "markdown",
   "metadata": {},
   "source": [
    "## Multi-level headers\n",
    "\n",
    "If you don't provide any labels to `as_dataframe`, it returns all the resource and metric labels present in the timeseries as a multi-level header.\n",
    "\n",
    "This allows you to filter, and aggregate the data more easily."
   ]
  },
  {
   "cell_type": "code",
   "execution_count": 13,
   "metadata": {
    "collapsed": false
   },
   "outputs": [
    {
     "data": {
      "text/html": [
       "<div>\n",
       "<table border=\"1\" class=\"dataframe\">\n",
       "  <thead>\n",
       "    <tr>\n",
       "      <th>resource_type</th>\n",
       "      <th colspan=\"2\" halign=\"left\">gce_instance</th>\n",
       "    </tr>\n",
       "    <tr>\n",
       "      <th>project_id</th>\n",
       "      <th colspan=\"2\" halign=\"left\">monitoring-datalab</th>\n",
       "    </tr>\n",
       "    <tr>\n",
       "      <th>zone</th>\n",
       "      <th>us-central1-b</th>\n",
       "      <th>us-east1-d</th>\n",
       "    </tr>\n",
       "    <tr>\n",
       "      <th>instance_id</th>\n",
       "      <th>7900261093938609905</th>\n",
       "      <th>5437900963820317613</th>\n",
       "    </tr>\n",
       "    <tr>\n",
       "      <th>instance_name</th>\n",
       "      <th>gae-datalab-main-j642</th>\n",
       "      <th>analyst2</th>\n",
       "    </tr>\n",
       "  </thead>\n",
       "  <tbody>\n",
       "    <tr>\n",
       "      <th>2016-08-03 22:52:00</th>\n",
       "      <td>0.008003</td>\n",
       "      <td>0.995619</td>\n",
       "    </tr>\n",
       "    <tr>\n",
       "      <th>2016-08-03 22:57:00</th>\n",
       "      <td>0.008637</td>\n",
       "      <td>0.995730</td>\n",
       "    </tr>\n",
       "    <tr>\n",
       "      <th>2016-08-03 23:02:00</th>\n",
       "      <td>0.008369</td>\n",
       "      <td>0.829574</td>\n",
       "    </tr>\n",
       "    <tr>\n",
       "      <th>2016-08-03 23:07:00</th>\n",
       "      <td>0.009169</td>\n",
       "      <td>0.516721</td>\n",
       "    </tr>\n",
       "    <tr>\n",
       "      <th>2016-08-03 23:12:00</th>\n",
       "      <td>0.008078</td>\n",
       "      <td>0.887553</td>\n",
       "    </tr>\n",
       "  </tbody>\n",
       "</table>\n",
       "</div>"
      ],
      "text/plain": [
       "resource_type                gce_instance                    \n",
       "project_id             monitoring-datalab                    \n",
       "zone                        us-central1-b          us-east1-d\n",
       "instance_id           7900261093938609905 5437900963820317613\n",
       "instance_name       gae-datalab-main-j642            analyst2\n",
       "2016-08-03 22:52:00              0.008003            0.995619\n",
       "2016-08-03 22:57:00              0.008637            0.995730\n",
       "2016-08-03 23:02:00              0.008369            0.829574\n",
       "2016-08-03 23:07:00              0.009169            0.516721\n",
       "2016-08-03 23:12:00              0.008078            0.887553"
      ]
     },
     "execution_count": 13,
     "metadata": {},
     "output_type": "execute_result"
    }
   ],
   "source": [
    "data_multi_level = query_cpu_aligned.as_dataframe()\n",
    "data_multi_level.tail(5)"
   ]
  },
  {
   "cell_type": "markdown",
   "metadata": {},
   "source": [
    "### Filter the dataframe"
   ]
  },
  {
   "cell_type": "code",
   "execution_count": 14,
   "metadata": {
    "collapsed": false
   },
   "outputs": [
    {
     "name": "stdout",
     "output_type": "stream",
     "text": [
      "Finding pattern u'gae' in the dataframe headers\n"
     ]
    }
   ],
   "source": [
    "pattern = instance_names[0].split('-')[0]\n",
    "print 'Finding pattern %r in the dataframe headers' % (pattern,)"
   ]
  },
  {
   "cell_type": "code",
   "execution_count": 15,
   "metadata": {
    "collapsed": false
   },
   "outputs": [
    {
     "data": {
      "text/html": [
       "<div>\n",
       "<table border=\"1\" class=\"dataframe\">\n",
       "  <thead>\n",
       "    <tr>\n",
       "      <th>resource_type</th>\n",
       "      <th>gce_instance</th>\n",
       "    </tr>\n",
       "    <tr>\n",
       "      <th>project_id</th>\n",
       "      <th>monitoring-datalab</th>\n",
       "    </tr>\n",
       "    <tr>\n",
       "      <th>zone</th>\n",
       "      <th>us-central1-b</th>\n",
       "    </tr>\n",
       "    <tr>\n",
       "      <th>instance_id</th>\n",
       "      <th>7900261093938609905</th>\n",
       "    </tr>\n",
       "    <tr>\n",
       "      <th>instance_name</th>\n",
       "      <th>gae-datalab-main-j642</th>\n",
       "    </tr>\n",
       "  </thead>\n",
       "  <tbody>\n",
       "    <tr>\n",
       "      <th>2016-08-03 22:52:00</th>\n",
       "      <td>0.008003</td>\n",
       "    </tr>\n",
       "    <tr>\n",
       "      <th>2016-08-03 22:57:00</th>\n",
       "      <td>0.008637</td>\n",
       "    </tr>\n",
       "    <tr>\n",
       "      <th>2016-08-03 23:02:00</th>\n",
       "      <td>0.008369</td>\n",
       "    </tr>\n",
       "    <tr>\n",
       "      <th>2016-08-03 23:07:00</th>\n",
       "      <td>0.009169</td>\n",
       "    </tr>\n",
       "    <tr>\n",
       "      <th>2016-08-03 23:12:00</th>\n",
       "      <td>0.008078</td>\n",
       "    </tr>\n",
       "  </tbody>\n",
       "</table>\n",
       "</div>"
      ],
      "text/plain": [
       "resource_type                gce_instance\n",
       "project_id             monitoring-datalab\n",
       "zone                        us-central1-b\n",
       "instance_id           7900261093938609905\n",
       "instance_name       gae-datalab-main-j642\n",
       "2016-08-03 22:52:00              0.008003\n",
       "2016-08-03 22:57:00              0.008637\n",
       "2016-08-03 23:02:00              0.008369\n",
       "2016-08-03 23:07:00              0.009169\n",
       "2016-08-03 23:12:00              0.008078"
      ]
     },
     "execution_count": 15,
     "metadata": {},
     "output_type": "execute_result"
    }
   ],
   "source": [
    "data_multi_level.filter(regex=pattern).tail(5)"
   ]
  },
  {
   "cell_type": "markdown",
   "metadata": {},
   "source": [
    "### Aggregate columns in the dataframe"
   ]
  },
  {
   "cell_type": "code",
   "execution_count": 16,
   "metadata": {
    "collapsed": false
   },
   "outputs": [
    {
     "data": {
      "text/html": [
       "<div>\n",
       "<table border=\"1\" class=\"dataframe\">\n",
       "  <thead>\n",
       "    <tr style=\"text-align: right;\">\n",
       "      <th>zone</th>\n",
       "      <th>us-central1-b</th>\n",
       "      <th>us-east1-d</th>\n",
       "    </tr>\n",
       "  </thead>\n",
       "  <tbody>\n",
       "    <tr>\n",
       "      <th>2016-08-03 22:52:00</th>\n",
       "      <td>0.008003</td>\n",
       "      <td>0.995619</td>\n",
       "    </tr>\n",
       "    <tr>\n",
       "      <th>2016-08-03 22:57:00</th>\n",
       "      <td>0.008637</td>\n",
       "      <td>0.995730</td>\n",
       "    </tr>\n",
       "    <tr>\n",
       "      <th>2016-08-03 23:02:00</th>\n",
       "      <td>0.008369</td>\n",
       "      <td>0.829574</td>\n",
       "    </tr>\n",
       "    <tr>\n",
       "      <th>2016-08-03 23:07:00</th>\n",
       "      <td>0.009169</td>\n",
       "      <td>0.516721</td>\n",
       "    </tr>\n",
       "    <tr>\n",
       "      <th>2016-08-03 23:12:00</th>\n",
       "      <td>0.008078</td>\n",
       "      <td>0.887553</td>\n",
       "    </tr>\n",
       "  </tbody>\n",
       "</table>\n",
       "</div>"
      ],
      "text/plain": [
       "zone                 us-central1-b  us-east1-d\n",
       "2016-08-03 22:52:00       0.008003    0.995619\n",
       "2016-08-03 22:57:00       0.008637    0.995730\n",
       "2016-08-03 23:02:00       0.008369    0.829574\n",
       "2016-08-03 23:07:00       0.009169    0.516721\n",
       "2016-08-03 23:12:00       0.008078    0.887553"
      ]
     },
     "execution_count": 16,
     "metadata": {},
     "output_type": "execute_result"
    }
   ],
   "source": [
    "data_multi_level.groupby(level='zone', axis=1).mean().tail(5)"
   ]
  }
 ],
 "metadata": {
  "kernelspec": {
   "display_name": "Python 2",
   "language": "python",
   "name": "python2"
  },
  "language_info": {
   "codemirror_mode": {
    "name": "ipython",
    "version": 2
   },
   "file_extension": ".py",
   "mimetype": "text/x-python",
   "name": "python",
   "nbconvert_exporter": "python",
   "pygments_lexer": "ipython2",
   "version": "2.7.9"
  }
 },
 "nbformat": 4,
 "nbformat_minor": 0
}
