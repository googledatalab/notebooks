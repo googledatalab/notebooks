{
 "cells": [
  {
   "cell_type": "markdown",
   "metadata": {},
   "source": [
    "# Getting started with the Monitoring API\n",
    "\n",
    "Cloud Datalab provides an environment for working with your data. This includes data that is being managed within the Monitoring API. This notebook introduces some of the APIs that Cloud Datalab provides for working with the monitoring data, and allows you to try them out on your own project.\n",
    "\n",
    "The main focus of this API is to allow you to query timeseries data for your monitored resources. There are also commands to help you list the available metrics and resource types."
   ]
  },
  {
   "cell_type": "markdown",
   "metadata": {},
   "source": [
    "## Importing the API and setting up the default project"
   ]
  },
  {
   "cell_type": "code",
   "execution_count": 2,
   "metadata": {
    "collapsed": false
   },
   "outputs": [],
   "source": [
    "from datalab.stackdriver import monitoring as gcm\n",
    "\n",
    "set_datalab_project_id('monitoring-datalab')"
   ]
  },
  {
   "cell_type": "markdown",
   "metadata": {},
   "source": [
    "## List names of Compute Engine CPU metrics\n",
    "\n",
    "Here we can see that `instance_name` is a metric label."
   ]
  },
  {
   "cell_type": "code",
   "execution_count": 4,
   "metadata": {
    "collapsed": false
   },
   "outputs": [
    {
     "data": {
      "text/html": [
       "<table><tr><th>Metric type</th><th>Kind</th><th>Value</th><th>Labels</th></tr><tr><td>compute.googleapis.com/instance/cpu/reserved_cores</td><td>GAUGE</td><td>DOUBLE</td><td>instance_name</td></tr><tr><td>compute.googleapis.com/instance/cpu/usage_time</td><td>DELTA</td><td>DOUBLE</td><td>instance_name</td></tr><tr><td>compute.googleapis.com/instance/cpu/utilization</td><td>GAUGE</td><td>DOUBLE</td><td>instance_name</td></tr></table>"
      ],
      "text/plain": [
       "<IPython.core.display.HTML object>"
      ]
     },
     "execution_count": 4,
     "metadata": {},
     "output_type": "execute_result"
    }
   ],
   "source": [
    "%%monitoring list metrics --type compute*/cpu/*"
   ]
  },
  {
   "cell_type": "markdown",
   "metadata": {},
   "source": [
    "## List monitored resource types related to GCE"
   ]
  },
  {
   "cell_type": "code",
   "execution_count": 5,
   "metadata": {
    "collapsed": false
   },
   "outputs": [
    {
     "data": {
      "text/html": [
       "<table><tr><th>Resource type</th><th>Labels</th></tr><tr><td>gce_disk</td><td>project_id, disk_id, zone</td></tr><tr><td>gce_instance</td><td>project_id, instance_id, zone</td></tr></table>"
      ],
      "text/plain": [
       "<IPython.core.display.HTML object>"
      ]
     },
     "execution_count": 5,
     "metadata": {},
     "output_type": "execute_result"
    }
   ],
   "source": [
    "%%monitoring list resource_types --type gce*"
   ]
  },
  {
   "cell_type": "markdown",
   "metadata": {},
   "source": [
    "## Querying timeseries data\n",
    "\n",
    "The `gcm.Query` class allows users to query and access the monitoring timeseries data. The results of the query can be accessed as a `pandas` `DataFrame` object. `pandas` is a widely used library for data manipulation:\n",
    "\n",
    "http://pandas.pydata.org/pandas-docs/stable/generated/pandas.DataFrame.html\n",
    "\n",
    "You can also get help from inside the notebook by calling the `help` function on any class, object or method."
   ]
  },
  {
   "cell_type": "code",
   "execution_count": 9,
   "metadata": {
    "collapsed": false
   },
   "outputs": [
    {
     "name": "stdout",
     "output_type": "stream",
     "text": [
      "Help on method select_metrics in module gcloud.monitoring.query:\n",
      "\n",
      "select_metrics(self, *args, **kwargs) unbound datalab.stackdriver.monitoring._timeseries.Query method\n",
      "    Copy the query and add filtering by metric labels.\n",
      "    \n",
      "    Examples::\n",
      "    \n",
      "        query = query.select_metrics(instance_name='myinstance')\n",
      "        query = query.select_metrics(instance_name_prefix='mycluster-')\n",
      "    \n",
      "    A keyword argument ``<label>=<value>`` ordinarily generates a filter\n",
      "    expression of the form::\n",
      "    \n",
      "        metric.label.<label> = \"<value>\"\n",
      "    \n",
      "    However, by adding ``\"_prefix\"`` or ``\"_suffix\"`` to the keyword,\n",
      "    you can specify a partial match.\n",
      "    \n",
      "    ``<label>_prefix=<value>`` generates::\n",
      "    \n",
      "        metric.label.<label> = starts_with(\"<value>\")\n",
      "    \n",
      "    ``<label>_suffix=<value>`` generates::\n",
      "    \n",
      "        metric.label.<label> = ends_with(\"<value>\")\n",
      "    \n",
      "    :type args: tuple\n",
      "    :param args: Raw filter expression strings to include in the\n",
      "        conjunction. If just one is provided and no keyword arguments\n",
      "        are provided, it can be a disjunction.\n",
      "    \n",
      "    :type kwargs: dict\n",
      "    :param kwargs: Label filters to include in the conjunction as\n",
      "        described above.\n",
      "    \n",
      "    :rtype: :class:`Query`\n",
      "    :returns: The new query object.\n",
      "\n"
     ]
    }
   ],
   "source": [
    "help(gcm.Query.select_metrics)"
   ]
  },
  {
   "cell_type": "markdown",
   "metadata": {},
   "source": [
    "### Initializing the query\n",
    "\n",
    "During intialization, the metric type and the time interval need to be specified. For interactive use, the metric type has a default value. The simplest way to specify the time interval that ends `now` is to use the arguments `days`, `hours`, and `minutes`."
   ]
  },
  {
   "cell_type": "code",
   "execution_count": 7,
   "metadata": {
    "collapsed": false
   },
   "outputs": [],
   "source": [
    "q = gcm.Query('compute.googleapis.com/instance/cpu/utilization', hours=2)"
   ]
  },
  {
   "cell_type": "markdown",
   "metadata": {},
   "source": [
    "### Getting the metadata\n",
    "\n",
    "The method `labels_as_dataframe()` allows you to look at the labels for the given metric, and the values that exist.\n",
    "\n",
    "This helps you understand the structure of the timeseries data, and makes it easier to modify the query."
   ]
  },
  {
   "cell_type": "code",
   "execution_count": 8,
   "metadata": {
    "collapsed": false
   },
   "outputs": [
    {
     "data": {
      "text/html": [
       "<div>\n",
       "<table border=\"1\" class=\"dataframe\">\n",
       "  <thead>\n",
       "    <tr>\n",
       "      <th></th>\n",
       "      <th>resource</th>\n",
       "      <th colspan=\"3\" halign=\"left\">resource.labels</th>\n",
       "      <th>metric.labels</th>\n",
       "    </tr>\n",
       "    <tr>\n",
       "      <th></th>\n",
       "      <th>type</th>\n",
       "      <th>project_id</th>\n",
       "      <th>zone</th>\n",
       "      <th>instance_id</th>\n",
       "      <th>instance_name</th>\n",
       "    </tr>\n",
       "  </thead>\n",
       "  <tbody>\n",
       "    <tr>\n",
       "      <th>0</th>\n",
       "      <td>gce_instance</td>\n",
       "      <td>monitoring-datalab</td>\n",
       "      <td>us-central1-b</td>\n",
       "      <td>4465173386215041950</td>\n",
       "      <td>gae-datalab-main-j642</td>\n",
       "    </tr>\n",
       "    <tr>\n",
       "      <th>1</th>\n",
       "      <td>gce_instance</td>\n",
       "      <td>monitoring-datalab</td>\n",
       "      <td>us-east1-d</td>\n",
       "      <td>5437900963820317613</td>\n",
       "      <td>analyst2</td>\n",
       "    </tr>\n",
       "    <tr>\n",
       "      <th>2</th>\n",
       "      <td>gce_instance</td>\n",
       "      <td>monitoring-datalab</td>\n",
       "      <td>us-east1-d</td>\n",
       "      <td>8833236550237957075</td>\n",
       "      <td>analyst3</td>\n",
       "    </tr>\n",
       "  </tbody>\n",
       "</table>\n",
       "</div>"
      ],
      "text/plain": [
       "       resource     resource.labels                                      \\\n",
       "           type          project_id           zone          instance_id   \n",
       "0  gce_instance  monitoring-datalab  us-central1-b  4465173386215041950   \n",
       "1  gce_instance  monitoring-datalab     us-east1-d  5437900963820317613   \n",
       "2  gce_instance  monitoring-datalab     us-east1-d  8833236550237957075   \n",
       "\n",
       "           metric.labels  \n",
       "           instance_name  \n",
       "0  gae-datalab-main-j642  \n",
       "1               analyst2  \n",
       "2               analyst3  "
      ]
     },
     "execution_count": 8,
     "metadata": {},
     "output_type": "execute_result"
    }
   ],
   "source": [
    "q.labels_as_dataframe()"
   ]
  },
  {
   "cell_type": "markdown",
   "metadata": {},
   "source": [
    "### Refining the query\n",
    "\n",
    "Many useful methods of the `Query` class are actually defined by the base class, which is provided by the `gcloud-python` library. These methods include `select_metrics()`, `select_resources()`, `align()`, `reduce()`, and `as_dataframe()`, among others. We demonstrate some of these below. Reference documentation for the `Query` base class is available [here](http://gcloud-python.readthedocs.org/en/latest/monitoring-query.html).\n"
   ]
  },
  {
   "cell_type": "markdown",
   "metadata": {},
   "source": [
    "### Filtering by label\n",
    "\n",
    "Here, we filter the query to instances whose names begin with `'gae-'`. These are instances which host `Cloud Datlab`.\n",
    "\n",
    "**Note**: If running locally, you may need to replace 'gae-' by the name of an instance in your project.\n",
    "You can find the name of instances in your project in the last column of the results from `labels_as_dataframe` above."
   ]
  },
  {
   "cell_type": "code",
   "execution_count": 9,
   "metadata": {
    "collapsed": false
   },
   "outputs": [
    {
     "data": {
      "text/html": [
       "<div>\n",
       "<table border=\"1\" class=\"dataframe\">\n",
       "  <thead>\n",
       "    <tr style=\"text-align: right;\">\n",
       "      <th></th>\n",
       "      <th>gae-datalab-main-j642</th>\n",
       "    </tr>\n",
       "  </thead>\n",
       "  <tbody>\n",
       "    <tr>\n",
       "      <th>2016-06-04 23:55:01.763</th>\n",
       "      <td>0.039966</td>\n",
       "    </tr>\n",
       "    <tr>\n",
       "      <th>2016-06-04 23:56:01.763</th>\n",
       "      <td>0.038071</td>\n",
       "    </tr>\n",
       "    <tr>\n",
       "      <th>2016-06-04 23:57:01.763</th>\n",
       "      <td>0.031789</td>\n",
       "    </tr>\n",
       "    <tr>\n",
       "      <th>2016-06-04 23:58:01.763</th>\n",
       "      <td>0.033346</td>\n",
       "    </tr>\n",
       "    <tr>\n",
       "      <th>2016-06-04 23:59:01.763</th>\n",
       "      <td>0.036931</td>\n",
       "    </tr>\n",
       "  </tbody>\n",
       "</table>\n",
       "</div>"
      ],
      "text/plain": [
       "                         gae-datalab-main-j642\n",
       "2016-06-04 23:55:01.763               0.039966\n",
       "2016-06-04 23:56:01.763               0.038071\n",
       "2016-06-04 23:57:01.763               0.031789\n",
       "2016-06-04 23:58:01.763               0.033346\n",
       "2016-06-04 23:59:01.763               0.036931"
      ]
     },
     "execution_count": 9,
     "metadata": {},
     "output_type": "execute_result"
    }
   ],
   "source": [
    "# Filter the query to instances with the specified prefix.\n",
    "q1 = q.select_metrics(instance_name_prefix='gae-')\n",
    "\n",
    "# If you know the exact name of the instance, you can also use:\n",
    "# q1 = q.select_metrics(instance_name='<INSTANCE NAME')\n",
    "\n",
    "# Get the query results as a pandas DataFrame and look at the last 5 rows.\n",
    "df1 = q1.as_dataframe(label='instance_name')\n",
    "df1.tail(5)"
   ]
  },
  {
   "cell_type": "code",
   "execution_count": 17,
   "metadata": {
    "collapsed": false
   },
   "outputs": [
    {
     "data": {
      "image/png": "[encoded data removed]",
      "text/plain": [
       "<matplotlib.figure.Figure at 0x7f8040210d50>"
      ]
     },
     "metadata": {},
     "output_type": "display_data"
    }
   ],
   "source": [
    "# N.B. A useful trick is to assign the return value of plot to _ \n",
    "# so that you don't get text printed before the plot itself.\n",
    "\n",
    "_ = df1.plot()"
   ]
  },
  {
   "cell_type": "markdown",
   "metadata": {},
   "source": [
    "### Aligning the query\n",
    "\n",
    "For multiple timeseries, aligning the data is recommended. The alignment offset can be specified using the arguments `hours`, `minutes`, and `seconds`."
   ]
  },
  {
   "cell_type": "code",
   "execution_count": 42,
   "metadata": {
    "collapsed": false
   },
   "outputs": [
    {
     "data": {
      "image/png": "[encoded data removed]",
      "text/plain": [
       "<matplotlib.figure.Figure at 0x7f80062b9450>"
      ]
     },
     "metadata": {},
     "output_type": "display_data"
    }
   ],
   "source": [
    "# Align the query to have data every 5 minutes.\n",
    "q2 = q.align('ALIGN_MEAN', minutes=5)\n",
    "df2 = q2.as_dataframe(label='instance_name')\n",
    "\n",
    "# Display the data as a linechart. The extra code moves the legend to the \n",
    "# right of the chart.\n",
    "_ = df2.plot().legend(loc='center left', bbox_to_anchor=(1.0, 0.8))"
   ]
  },
  {
   "cell_type": "markdown",
   "metadata": {},
   "source": [
    "### Displaying the results as a heatmap"
   ]
  },
  {
   "cell_type": "code",
   "execution_count": 12,
   "metadata": {
    "collapsed": false
   },
   "outputs": [
    {
     "data": {
      "image/png": "[encoded data removed]",
      "text/plain": [
       "<matplotlib.figure.Figure at 0x7f8040b904d0>"
      ]
     },
     "metadata": {},
     "output_type": "display_data"
    }
   ],
   "source": [
    "import matplotlib\n",
    "import seaborn\n",
    "\n",
    "# Set the size of the heatmap to have a better aspect ratio.\n",
    "matplotlib.pyplot.figure(figsize=df2.shape)\n",
    "_ = seaborn.heatmap(df2.T, xticklabels=df2.index.map(str), cmap='YlGnBu')"
   ]
  },
  {
   "cell_type": "markdown",
   "metadata": {},
   "source": [
    "### Reducing the query\n",
    "\n",
    "In order to aggregate the timeseries data, the `reduce()` method can be used. The fields to be retained after aggregation must be specified in the method.\n",
    "\n",
    "For example, to aggregate the results by the zone, `'resource.zone'` can be specified."
   ]
  },
  {
   "cell_type": "code",
   "execution_count": 13,
   "metadata": {
    "collapsed": false
   },
   "outputs": [
    {
     "data": {
      "text/html": [
       "<div>\n",
       "<table border=\"1\" class=\"dataframe\">\n",
       "  <thead>\n",
       "    <tr style=\"text-align: right;\">\n",
       "      <th></th>\n",
       "      <th>us-central1-b</th>\n",
       "      <th>us-east1-d</th>\n",
       "    </tr>\n",
       "  </thead>\n",
       "  <tbody>\n",
       "    <tr>\n",
       "      <th>2016-06-04 23:40:00</th>\n",
       "      <td>0.044907</td>\n",
       "      <td>0.252702</td>\n",
       "    </tr>\n",
       "    <tr>\n",
       "      <th>2016-06-04 23:45:00</th>\n",
       "      <td>0.044525</td>\n",
       "      <td>0.012493</td>\n",
       "    </tr>\n",
       "    <tr>\n",
       "      <th>2016-06-04 23:50:00</th>\n",
       "      <td>0.045582</td>\n",
       "      <td>0.134444</td>\n",
       "    </tr>\n",
       "    <tr>\n",
       "      <th>2016-06-04 23:55:00</th>\n",
       "      <td>0.044942</td>\n",
       "      <td>0.258343</td>\n",
       "    </tr>\n",
       "    <tr>\n",
       "      <th>2016-06-05 00:00:00</th>\n",
       "      <td>0.036021</td>\n",
       "      <td>0.173435</td>\n",
       "    </tr>\n",
       "  </tbody>\n",
       "</table>\n",
       "</div>"
      ],
      "text/plain": [
       "                     us-central1-b  us-east1-d\n",
       "2016-06-04 23:40:00       0.044907    0.252702\n",
       "2016-06-04 23:45:00       0.044525    0.012493\n",
       "2016-06-04 23:50:00       0.045582    0.134444\n",
       "2016-06-04 23:55:00       0.044942    0.258343\n",
       "2016-06-05 00:00:00       0.036021    0.173435"
      ]
     },
     "execution_count": 13,
     "metadata": {},
     "output_type": "execute_result"
    }
   ],
   "source": [
    "q3 = q2.reduce('REDUCE_MEAN', 'resource.zone')\n",
    "df3 = q3.as_dataframe('zone')\n",
    "df3.tail(5)"
   ]
  },
  {
   "cell_type": "markdown",
   "metadata": {},
   "source": [
    "## Multi-level headers\n",
    "\n",
    "If you don't provide any labels to `as_dataframe`, it returns all the resource and metric labels present in the timeseries as a multi-level header.\n",
    "\n",
    "This allows you to filter, and aggregate the data more easily."
   ]
  },
  {
   "cell_type": "code",
   "execution_count": 14,
   "metadata": {
    "collapsed": false
   },
   "outputs": [
    {
     "data": {
      "text/html": [
       "<div>\n",
       "<table border=\"1\" class=\"dataframe\">\n",
       "  <thead>\n",
       "    <tr>\n",
       "      <th>resource_type</th>\n",
       "      <th colspan=\"3\" halign=\"left\">gce_instance</th>\n",
       "    </tr>\n",
       "    <tr>\n",
       "      <th>project_id</th>\n",
       "      <th colspan=\"3\" halign=\"left\">monitoring-datalab</th>\n",
       "    </tr>\n",
       "    <tr>\n",
       "      <th>zone</th>\n",
       "      <th>us-central1-b</th>\n",
       "      <th colspan=\"2\" halign=\"left\">us-east1-d</th>\n",
       "    </tr>\n",
       "    <tr>\n",
       "      <th>instance_id</th>\n",
       "      <th>4465173386215041950</th>\n",
       "      <th>5437900963820317613</th>\n",
       "      <th>8833236550237957075</th>\n",
       "    </tr>\n",
       "    <tr>\n",
       "      <th>instance_name</th>\n",
       "      <th>gae-datalab-main-j642</th>\n",
       "      <th>analyst2</th>\n",
       "      <th>analyst3</th>\n",
       "    </tr>\n",
       "  </thead>\n",
       "  <tbody>\n",
       "    <tr>\n",
       "      <th>2016-06-04 23:40:00</th>\n",
       "      <td>0.044907</td>\n",
       "      <td>0.494771</td>\n",
       "      <td>0.010633</td>\n",
       "    </tr>\n",
       "    <tr>\n",
       "      <th>2016-06-04 23:45:00</th>\n",
       "      <td>0.044525</td>\n",
       "      <td>0.014560</td>\n",
       "      <td>0.010425</td>\n",
       "    </tr>\n",
       "    <tr>\n",
       "      <th>2016-06-04 23:50:00</th>\n",
       "      <td>0.045582</td>\n",
       "      <td>0.258585</td>\n",
       "      <td>0.010303</td>\n",
       "    </tr>\n",
       "    <tr>\n",
       "      <th>2016-06-04 23:55:00</th>\n",
       "      <td>0.044942</td>\n",
       "      <td>0.506192</td>\n",
       "      <td>0.010494</td>\n",
       "    </tr>\n",
       "    <tr>\n",
       "      <th>2016-06-05 00:00:00</th>\n",
       "      <td>0.036021</td>\n",
       "      <td>0.336074</td>\n",
       "      <td>0.010796</td>\n",
       "    </tr>\n",
       "  </tbody>\n",
       "</table>\n",
       "</div>"
      ],
      "text/plain": [
       "resource_type                gce_instance                      \\\n",
       "project_id             monitoring-datalab                       \n",
       "zone                        us-central1-b          us-east1-d   \n",
       "instance_id           4465173386215041950 5437900963820317613   \n",
       "instance_name       gae-datalab-main-j642            analyst2   \n",
       "2016-06-04 23:40:00              0.044907            0.494771   \n",
       "2016-06-04 23:45:00              0.044525            0.014560   \n",
       "2016-06-04 23:50:00              0.045582            0.258585   \n",
       "2016-06-04 23:55:00              0.044942            0.506192   \n",
       "2016-06-05 00:00:00              0.036021            0.336074   \n",
       "\n",
       "resource_type                            \n",
       "project_id                               \n",
       "zone                                     \n",
       "instance_id         8833236550237957075  \n",
       "instance_name                  analyst3  \n",
       "2016-06-04 23:40:00            0.010633  \n",
       "2016-06-04 23:45:00            0.010425  \n",
       "2016-06-04 23:50:00            0.010303  \n",
       "2016-06-04 23:55:00            0.010494  \n",
       "2016-06-05 00:00:00            0.010796  "
      ]
     },
     "execution_count": 14,
     "metadata": {},
     "output_type": "execute_result"
    }
   ],
   "source": [
    "multi_level_df = q2.as_dataframe()\n",
    "multi_level_df.tail(5)"
   ]
  },
  {
   "cell_type": "markdown",
   "metadata": {},
   "source": [
    "### Filter the dataframe"
   ]
  },
  {
   "cell_type": "code",
   "execution_count": 15,
   "metadata": {
    "collapsed": false
   },
   "outputs": [
    {
     "data": {
      "text/html": [
       "<div>\n",
       "<table border=\"1\" class=\"dataframe\">\n",
       "  <thead>\n",
       "    <tr>\n",
       "      <th>resource_type</th>\n",
       "      <th>gce_instance</th>\n",
       "    </tr>\n",
       "    <tr>\n",
       "      <th>project_id</th>\n",
       "      <th>monitoring-datalab</th>\n",
       "    </tr>\n",
       "    <tr>\n",
       "      <th>zone</th>\n",
       "      <th>us-central1-b</th>\n",
       "    </tr>\n",
       "    <tr>\n",
       "      <th>instance_id</th>\n",
       "      <th>4465173386215041950</th>\n",
       "    </tr>\n",
       "    <tr>\n",
       "      <th>instance_name</th>\n",
       "      <th>gae-datalab-main-j642</th>\n",
       "    </tr>\n",
       "  </thead>\n",
       "  <tbody>\n",
       "    <tr>\n",
       "      <th>2016-06-04 23:40:00</th>\n",
       "      <td>0.044907</td>\n",
       "    </tr>\n",
       "    <tr>\n",
       "      <th>2016-06-04 23:45:00</th>\n",
       "      <td>0.044525</td>\n",
       "    </tr>\n",
       "    <tr>\n",
       "      <th>2016-06-04 23:50:00</th>\n",
       "      <td>0.045582</td>\n",
       "    </tr>\n",
       "    <tr>\n",
       "      <th>2016-06-04 23:55:00</th>\n",
       "      <td>0.044942</td>\n",
       "    </tr>\n",
       "    <tr>\n",
       "      <th>2016-06-05 00:00:00</th>\n",
       "      <td>0.036021</td>\n",
       "    </tr>\n",
       "  </tbody>\n",
       "</table>\n",
       "</div>"
      ],
      "text/plain": [
       "resource_type                gce_instance\n",
       "project_id             monitoring-datalab\n",
       "zone                        us-central1-b\n",
       "instance_id           4465173386215041950\n",
       "instance_name       gae-datalab-main-j642\n",
       "2016-06-04 23:40:00              0.044907\n",
       "2016-06-04 23:45:00              0.044525\n",
       "2016-06-04 23:50:00              0.045582\n",
       "2016-06-04 23:55:00              0.044942\n",
       "2016-06-05 00:00:00              0.036021"
      ]
     },
     "execution_count": 15,
     "metadata": {},
     "output_type": "execute_result"
    }
   ],
   "source": [
    "multi_level_df.filter(regex='gae-datalab-main').tail(5)"
   ]
  },
  {
   "cell_type": "markdown",
   "metadata": {},
   "source": [
    "### Aggregate columns in the dataframe"
   ]
  },
  {
   "cell_type": "code",
   "execution_count": 16,
   "metadata": {
    "collapsed": false
   },
   "outputs": [
    {
     "data": {
      "text/html": [
       "<div>\n",
       "<table border=\"1\" class=\"dataframe\">\n",
       "  <thead>\n",
       "    <tr style=\"text-align: right;\">\n",
       "      <th>zone</th>\n",
       "      <th>us-central1-b</th>\n",
       "      <th>us-east1-d</th>\n",
       "    </tr>\n",
       "  </thead>\n",
       "  <tbody>\n",
       "    <tr>\n",
       "      <th>2016-06-04 23:40:00</th>\n",
       "      <td>0.044907</td>\n",
       "      <td>0.252702</td>\n",
       "    </tr>\n",
       "    <tr>\n",
       "      <th>2016-06-04 23:45:00</th>\n",
       "      <td>0.044525</td>\n",
       "      <td>0.012493</td>\n",
       "    </tr>\n",
       "    <tr>\n",
       "      <th>2016-06-04 23:50:00</th>\n",
       "      <td>0.045582</td>\n",
       "      <td>0.134444</td>\n",
       "    </tr>\n",
       "    <tr>\n",
       "      <th>2016-06-04 23:55:00</th>\n",
       "      <td>0.044942</td>\n",
       "      <td>0.258343</td>\n",
       "    </tr>\n",
       "    <tr>\n",
       "      <th>2016-06-05 00:00:00</th>\n",
       "      <td>0.036021</td>\n",
       "      <td>0.173435</td>\n",
       "    </tr>\n",
       "  </tbody>\n",
       "</table>\n",
       "</div>"
      ],
      "text/plain": [
       "zone                 us-central1-b  us-east1-d\n",
       "2016-06-04 23:40:00       0.044907    0.252702\n",
       "2016-06-04 23:45:00       0.044525    0.012493\n",
       "2016-06-04 23:50:00       0.045582    0.134444\n",
       "2016-06-04 23:55:00       0.044942    0.258343\n",
       "2016-06-05 00:00:00       0.036021    0.173435"
      ]
     },
     "execution_count": 16,
     "metadata": {},
     "output_type": "execute_result"
    }
   ],
   "source": [
    "multi_level_df.groupby(level='zone', axis=1).mean().tail(5)"
   ]
  }
 ],
 "metadata": {
  "kernelspec": {
   "display_name": "Python 2",
   "language": "python",
   "name": "python2"
  },
  "language_info": {
   "codemirror_mode": {
    "name": "ipython",
    "version": 2
   },
   "file_extension": ".py",
   "mimetype": "text/x-python",
   "name": "python",
   "nbconvert_exporter": "python",
   "pygments_lexer": "ipython2",
   "version": "2.7.6"
  }
 },
 "nbformat": 4,
 "nbformat_minor": 0
}
