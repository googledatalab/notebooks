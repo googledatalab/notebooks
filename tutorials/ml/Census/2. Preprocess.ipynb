{
 "cells": [
  {
   "cell_type": "markdown",
   "metadata": {},
   "source": [
    "### Preprocess\n",
    "\n",
    "Preprocess does two things:\n",
    "* Convert raw data format (csv in this case) into a TensorFlow friendly format such as TFRecord, so TF graph can consume it.\n",
    "* Transform the data in the way you want.\n",
    "Once you have gathered your data and decided how to preprocess them (a featureset class is already defined), we can preprocess the data. One way to preprocess the data is to use DataFlow. If your data is large, DataFlow can run in cloud in a distributed fashion. If not large, you can also run the DataFlow locally. <br><br>\n",
    "\n",
    "CloudML provides a preprocess DataFlow transformation (ml.Preprocess) so it can be easily plugged into the pipeline.\n",
    "\n",
    "What Datalab provides is generated code template with \"%mlalpha preprocess\" command, so you don't have to start from scratch to author your DataFlow pipeline."
   ]
  },
  {
   "cell_type": "markdown",
   "metadata": {},
   "source": [
    "Preprocessing requires a featureset class. We've done that in previous \"1.Feature\" notebook but we need to define it again here in this notebook scope.\n",
    "Note that we choose to preprocess all numeric feature columns with [-1, 1] scale by removing the .identity() transform so it uses default transform (scaling to [-1, 1])."
   ]
  },
  {
   "cell_type": "code",
   "execution_count": 1,
   "metadata": {
    "collapsed": false
   },
   "outputs": [],
   "source": [
    "import google.cloud.ml.features as features\n",
    "\n",
    "class CensusFeatures(object):\n",
    "  \"\"\"This class is generated from command line:\n",
    "        %%mlalpha features\n",
    "        path: /content/datalab/tmp/ml/census/data_train.csv\n",
    "        headers: SERIALNO,PUMA,NP,ACCESS,ACR,AGS,BATH,BDSP,BLD,BROADBND,BUS,COMPOTHX,CONP,DIALUP,DSL,ELEP,FIBEROP,FS,FULP,GASP,HANDHELD,HFL,INSP,LAPTOP,MHP,MODEM,MRGI,MRGP,MRGT,MRGX,OTHSVCEX,REFR,RMSP,RNTM,RNTP,RWAT,SATELLITE,SINK,SMP,STOV,TEL,TEN,TOIL,VALP,VEH,WATP,YBL,FES,FPARC,GRNTP,HHL,HHT,HINCP,HUGCL,HUPAC,HUPAOC,HUPARC,KIT,LNGI,MULTG,MV,NOC,NPF,NPP,NR,NRC,PARTNER,PLM,PSF,R18,R60,R65,RESMODE,SMOCP,SMX,SRNT,SSMC,SVAL,TAXP,WIF,WKEXREL,WORKSTAT\n",
    "        target: HINCP\n",
    "        id: SERIALNO\n",
    "     Please modify it as appropriate!!!\n",
    "  \"\"\"\n",
    "  csv_columns = ('SERIALNO','PUMA','NP','ACCESS','ACR','AGS','BATH','BDSP','BLD','BROADBND','BUS','COMPOTHX','CONP','DIALUP','DSL','ELEP','FIBEROP','FS','FULP','GASP','HANDHELD','HFL','INSP','LAPTOP','MHP','MODEM','MRGI','MRGP','MRGT','MRGX','OTHSVCEX','REFR','RMSP','RNTM','RNTP','RWAT','SATELLITE','SINK','SMP','STOV','TEL','TEN','TOIL','VALP','VEH','WATP','YBL','FES','FPARC','GRNTP','HHL','HHT','HINCP','HUGCL','HUPAC','HUPAOC','HUPARC','KIT','LNGI','MULTG','MV','NOC','NPF','NPP','NR','NRC','PARTNER','PLM','PSF','R18','R60','R65','RESMODE','SMOCP','SMX','SRNT','SSMC','SVAL','TAXP','WIF','WKEXREL','WORKSTAT')\n",
    "  target = features.target('HINCP').continuous()\n",
    "  key = features.key('SERIALNO')\n",
    "  inputs = [\n",
    "      features.numeric('CONP').identity(),\n",
    "      features.numeric('WATP').identity(),\n",
    "      features.numeric('FS').identity(),\n",
    "      features.numeric('SMX').identity(),\n",
    "      features.numeric('PSF').identity(),\n",
    "      features.numeric('STOV').identity(),\n",
    "      features.numeric('MULTG').identity(),\n",
    "      features.numeric('WKEXREL').identity(),\n",
    "      features.numeric('BATH').identity(),\n",
    "      features.numeric('INSP').identity(),\n",
    "      features.numeric('ACR').identity(),\n",
    "      features.numeric('NPF').identity(),\n",
    "      features.numeric('YBL').identity(),\n",
    "      features.numeric('HFL').identity(),\n",
    "      features.numeric('TAXP').identity(),\n",
    "      features.numeric('GASP').identity(),\n",
    "      features.numeric('GRNTP').identity(),\n",
    "      features.numeric('MODEM').identity(),\n",
    "      features.numeric('AGS').identity(),\n",
    "      features.numeric('FIBEROP').identity(),\n",
    "      features.numeric('RESMODE').identity(),\n",
    "      features.numeric('SATELLITE').identity(),\n",
    "      features.numeric('DIALUP').identity(),\n",
    "      features.numeric('TEL').identity(),\n",
    "      features.numeric('TEN').identity(),\n",
    "      features.numeric('R18').identity(),\n",
    "      features.numeric('BUS').identity(),\n",
    "      features.numeric('HUPAC').identity(),\n",
    "      features.numeric('SMOCP').identity(),\n",
    "      features.numeric('HANDHELD').identity(),\n",
    "      features.numeric('HUPARC').identity(),\n",
    "      features.numeric('ELEP').identity(),\n",
    "      features.numeric('RMSP').identity(),\n",
    "      features.numeric('R60').identity(),\n",
    "      features.numeric('VEH').identity(),\n",
    "      features.numeric('NP').identity(),\n",
    "      features.numeric('NR').identity(),\n",
    "      features.numeric('SRNT').identity(),\n",
    "      features.numeric('RNTM').identity(),\n",
    "      features.numeric('OTHSVCEX').identity(),\n",
    "      features.numeric('RNTP').identity(),\n",
    "      features.numeric('MRGI').identity(),\n",
    "      features.numeric('WIF').identity(),\n",
    "      features.numeric('LAPTOP').identity(),\n",
    "      features.numeric('REFR').identity(),\n",
    "      features.numeric('TOIL').identity(),\n",
    "      features.numeric('DSL').identity(),\n",
    "      features.numeric('FPARC').identity(),\n",
    "      features.numeric('MRGX').identity(),\n",
    "      features.numeric('FES').identity(),\n",
    "      features.numeric('HHT').identity(),\n",
    "      features.numeric('MRGT').identity(),\n",
    "      features.numeric('BLD').identity(),\n",
    "      features.numeric('SMP').identity(),\n",
    "      features.numeric('MRGP').identity(),\n",
    "      features.numeric('WORKSTAT').identity(),\n",
    "      features.numeric('MHP').identity(),\n",
    "      features.numeric('FULP').identity(),\n",
    "      features.numeric('HUGCL').identity(),\n",
    "      features.numeric('SSMC').identity(),\n",
    "      features.numeric('PUMA').identity(),\n",
    "      features.numeric('LNGI').identity(),\n",
    "      features.numeric('VALP').identity(),\n",
    "      features.numeric('NRC').identity(),\n",
    "      features.numeric('BDSP').identity(),\n",
    "      features.numeric('HUPAOC').identity(),\n",
    "      features.numeric('KIT').identity(),\n",
    "      features.numeric('ACCESS').identity(),\n",
    "      features.numeric('R65').identity(),\n",
    "      features.numeric('NOC').identity(),\n",
    "      features.numeric('MV').identity(),\n",
    "      features.numeric('COMPOTHX').identity(),\n",
    "      features.numeric('SVAL').identity(),\n",
    "      features.numeric('RWAT').identity(),\n",
    "      features.numeric('BROADBND').identity(),\n",
    "      features.numeric('PARTNER').identity(),\n",
    "      features.numeric('PLM').identity(),\n",
    "      features.numeric('HHL').identity(),\n",
    "      features.numeric('NPP').identity(),\n",
    "      features.numeric('SINK').identity(),\n",
    "  ]\n"
   ]
  },
  {
   "cell_type": "markdown",
   "metadata": {},
   "source": [
    "Run %preprocess, and it generates the input cell for you to fill out."
   ]
  },
  {
   "cell_type": "code",
   "execution_count": null,
   "metadata": {
    "collapsed": true
   },
   "outputs": [],
   "source": [
    "%mlalpha preprocess"
   ]
  },
  {
   "cell_type": "markdown",
   "metadata": {},
   "source": [
    "### Local Preprocessing"
   ]
  },
  {
   "cell_type": "markdown",
   "metadata": {},
   "source": [
    "Fill in the cell input, like:\n",
    "```\n",
    "%%mlalpha preprocess\n",
    "train_data_path: /content/datalab/tmp/ml/census/data_train.csv\n",
    "eval_data_path: /content/datalab/tmp/ml/census/data_eval.csv\n",
    "data_format: CSV\n",
    "output_dir: /content/datalab/tmp/ml/census/preprocessed\n",
    "feature_set_class_name: CensusFeatures\n",
    "```\n",
    "\n",
    "It generates a local DataFlow pipeline. You can run the pipeline directly, or extend it with more DataFlow transforms."
   ]
  },
  {
   "cell_type": "code",
   "execution_count": 2,
   "metadata": {
    "collapsed": false
   },
   "outputs": [
    {
     "data": {
      "text/plain": [
       "<apache_beam.runners.direct_runner.DirectPipelineResult at 0x7f3ba97b8a50>"
      ]
     },
     "execution_count": 2,
     "metadata": {},
     "output_type": "execute_result"
    }
   ],
   "source": [
    "\n",
    "# header\n",
    "\"\"\"\n",
    "Following code is generated from command line:\n",
    "%%mlalpha preprocess\n",
    "train_data_path: /content/datalab/tmp/ml/census/data_train.csv\n",
    "eval_data_path: /content/datalab/tmp/ml/census/data_eval.csv\n",
    "data_format: CSV\n",
    "output_dir: /content/datalab/tmp/ml/census/preprocessed\n",
    "feature_set_class_name: CensusFeatures\n",
    "\n",
    "Please modify as appropriate!!!\n",
    "\"\"\"\n",
    "\n",
    "# imports\n",
    "import apache_beam as beam\n",
    "import google.cloud.ml as ml\n",
    "import google.cloud.ml.io as io\n",
    "import os\n",
    "\n",
    "# defines\n",
    "feature_set = CensusFeatures()\n",
    "OUTPUT_DIR = '/content/datalab/tmp/ml/census/preprocessed'\n",
    "pipeline = beam.Pipeline('DirectPipelineRunner')\n",
    "\n",
    "\n",
    "# preprocessing\n",
    "training_data = beam.io.TextFileSource(\n",
    "    '/content/datalab/tmp/ml/census/data_train.csv',\n",
    "    strip_trailing_newlines=True,\n",
    "    coder=io.CsvCoder.from_feature_set(feature_set, feature_set.csv_columns))\n",
    "train = pipeline | beam.Read('ReadTrainingData', training_data)\n",
    "\n",
    "eval_data = beam.io.TextFileSource(\n",
    "    '/content/datalab/tmp/ml/census/data_eval.csv',\n",
    "    strip_trailing_newlines=True,\n",
    "    coder=io.CsvCoder.from_feature_set(feature_set, feature_set.csv_columns))\n",
    "eval = pipeline  | beam.Read('ReadEvalData', eval_data)\n",
    "\n",
    "(metadata, train_features, eval_features) = ((train, eval) | 'Preprocess'\n",
    "    >> ml.Preprocess(feature_set, input_format='csv',\n",
    "                  format_metadata={'headers': feature_set.csv_columns}))\n",
    "\n",
    "(metadata        | 'SaveMetadata'\n",
    "    >> io.SaveMetadata(os.path.join(OUTPUT_DIR, 'metadata.yaml')))\n",
    "\n",
    "(train_features  | 'SaveTrain'\n",
    "    >> io.SaveFeatures(os.path.join(OUTPUT_DIR, 'features_train'), shard_name_template=''))\n",
    "\n",
    "(eval_features   | 'SaveEval'\n",
    "    >> io.SaveFeatures(os.path.join(OUTPUT_DIR, 'features_eval'), shard_name_template=''))\n",
    "\n",
    "# run pipeline\n",
    "pipeline.run()\n"
   ]
  },
  {
   "cell_type": "code",
   "execution_count": 6,
   "metadata": {
    "collapsed": false
   },
   "outputs": [
    {
     "name": "stdout",
     "output_type": "stream",
     "text": [
      "features_eval.tfrecord.gz  features_train.tfrecord.gz  metadata.yaml\r\n"
     ]
    }
   ],
   "source": [
    "!ls /content/datalab/tmp/ml/census/preprocessed"
   ]
  },
  {
   "cell_type": "markdown",
   "metadata": {},
   "source": [
    "### Cloud Preprocessing\n",
    "You can also generate Cloud DataFlow pipeline. Just add \"--cloud\" to \"%ml preprocess\". <br>\n",
    "Note that if you need to get it running in cloud, you need: <br>\n",
    "1. Sign In using the up right sign-in button, if you have not done so. <br>\n",
    "2. Set a default project by running '%projects set Your-Project-Id'.\n",
    "3. Your data need to be in Cloud Storage."
   ]
  },
  {
   "cell_type": "markdown",
   "metadata": {},
   "source": [
    "Define variables that will be used later."
   ]
  },
  {
   "cell_type": "code",
   "execution_count": 7,
   "metadata": {
    "collapsed": true
   },
   "outputs": [],
   "source": [
    "import os\n",
    "\n",
    "bucket = 'gs://' + datalab_project_id() + '-sampledata'\n",
    "train_data_path = os.path.join(bucket, 'census', 'data_train.csv')\n",
    "eval_data_path = os.path.join(bucket, 'census', 'data_eval.csv')\n",
    "output_dir = os.path.join(bucket, 'census', 'preprocessed')"
   ]
  },
  {
   "cell_type": "markdown",
   "metadata": {},
   "source": [
    "Copy data files to Cloud Storage because Cloud DataFlow only works with data in Cloud Storage."
   ]
  },
  {
   "cell_type": "code",
   "execution_count": 7,
   "metadata": {
    "collapsed": true
   },
   "outputs": [],
   "source": [
    "%%storage create --bucket $bucket"
   ]
  },
  {
   "cell_type": "code",
   "execution_count": 6,
   "metadata": {
    "collapsed": false
   },
   "outputs": [
    {
     "name": "stdout",
     "output_type": "stream",
     "text": [
      "Copying gs://cloud-datalab/sampledata/ml/census/data_train.csv [Content-Type=text/csv]...\n",
      "Copying     ...-test-automated-sampledata/census/data_train.csv: 4.24 MiB/4.24 MiB    \n",
      "Copying gs://cloud-datalab/sampledata/ml/census/data_eval.csv [Content-Type=text/csv]...\n",
      "Copying     ...l-test-automated-sampledata/census/data_eval.csv: 482.12 KiB/482.12 KiB    \n"
     ]
    }
   ],
   "source": [
    "!gsutil cp gs://cloud-datalab/sampledata/ml/census/data_train.csv $train_data_path\n",
    "!gsutil cp gs://cloud-datalab/sampledata/ml/census/data_eval.csv $eval_data_path"
   ]
  },
  {
   "cell_type": "markdown",
   "metadata": {},
   "source": [
    "The input is like:\n",
    "```\n",
    "%%mlalpha preprocess --cloud\n",
    "train_data_path: $train_data_path\n",
    "eval_data_path: $eval_data_path \n",
    "data_format: CSV\n",
    "output_dir: $output_dir\n",
    "feature_set_class_name: CensusFeatures\n",
    "```\n",
    "\n",
    "Run it and it becomes the following cell input."
   ]
  },
  {
   "cell_type": "code",
   "execution_count": 11,
   "metadata": {
    "collapsed": false
   },
   "outputs": [
    {
     "data": {
      "text/plain": [
       "<DataflowPipelineResult <Job\n",
       " id: u'2016-09-27_12_11_15-12127342684134936569'\n",
       " projectId: u'cloud-ml-test-automated'\n",
       " steps: []\n",
       " tempFiles: []\n",
       " type: TypeValueValuesEnum(JOB_TYPE_BATCH, 1)> at 0x7f3b507e2910>"
      ]
     },
     "execution_count": 11,
     "metadata": {},
     "output_type": "execute_result"
    }
   ],
   "source": [
    "\n",
    "# header\n",
    "\"\"\"\n",
    "Following code is generated from command line:\n",
    "%%mlalpha preprocess --cloud\n",
    "train_data_path: $train_data_path\n",
    "eval_data_path: $eval_data_path \n",
    "data_format: CSV\n",
    "output_dir: $output_dir\n",
    "feature_set_class_name: CensusFeatures\n",
    "\n",
    "Please modify as appropriate!!!\n",
    "\"\"\"\n",
    "\n",
    "# imports\n",
    "import apache_beam as beam\n",
    "import google.cloud.ml as ml\n",
    "import google.cloud.ml.io as io\n",
    "import os\n",
    "\n",
    "# defines\n",
    "feature_set = CensusFeatures()\n",
    "OUTPUT_DIR = 'gs://cloud-ml-test-automated-sampledata/census/preprocessed'\n",
    "import datetime\n",
    "options = {\n",
    "    'staging_location': os.path.join(OUTPUT_DIR, 'tmp', 'staging'),\n",
    "    'temp_location': os.path.join(OUTPUT_DIR, 'tmp'),\n",
    "    'job_name': 'preprocess-censusfeatures' + '-' + datetime.datetime.now().strftime('%y%m%d-%H%M%S'),\n",
    "    'project': 'cloud-ml-test-automated',\n",
    "    'extra_packages': ['gs://cloud-ml/sdk/cloudml-0.1.6-alpha.tar.gz'],\n",
    "    'teardown_policy': 'TEARDOWN_ALWAYS',\n",
    "    'no_save_main_session': True\n",
    "}\n",
    "opts = beam.pipeline.PipelineOptions(flags=[], **options)\n",
    "pipeline = beam.Pipeline('DataflowPipelineRunner', options=opts)\n",
    "\n",
    "\n",
    "# preprocessing\n",
    "training_data = beam.io.TextFileSource(\n",
    "    'gs://cloud-ml-test-automated-sampledata/census/data_train.csv',\n",
    "    strip_trailing_newlines=True,\n",
    "    coder=io.CsvCoder.from_feature_set(feature_set, feature_set.csv_columns))\n",
    "train = pipeline | beam.Read('ReadTrainingData', training_data)\n",
    "\n",
    "eval_data = beam.io.TextFileSource(\n",
    "    'gs://cloud-ml-test-automated-sampledata/census/data_eval.csv',\n",
    "    strip_trailing_newlines=True,\n",
    "    coder=io.CsvCoder.from_feature_set(feature_set, feature_set.csv_columns))\n",
    "eval = pipeline  | beam.Read('ReadEvalData', eval_data)\n",
    "\n",
    "(metadata, train_features, eval_features) = ((train, eval) | 'Preprocess'\n",
    "    >> ml.Preprocess(feature_set, input_format='csv',\n",
    "                  format_metadata={'headers': feature_set.csv_columns}))\n",
    "\n",
    "(metadata        | 'SaveMetadata'\n",
    "    >> io.SaveMetadata(os.path.join(OUTPUT_DIR, 'metadata.yaml')))\n",
    "\n",
    "(train_features  | 'SaveTrain'\n",
    "    >> io.SaveFeatures(os.path.join(OUTPUT_DIR, 'features_train'), shard_name_template=''))\n",
    "\n",
    "(eval_features   | 'SaveEval'\n",
    "    >> io.SaveFeatures(os.path.join(OUTPUT_DIR, 'features_eval'), shard_name_template=''))\n",
    "\n",
    "# run pipeline\n",
    "pipeline.run()\n"
   ]
  },
  {
   "cell_type": "markdown",
   "metadata": {},
   "source": [
    "After you run the above generated code, you can go to Developer Console to see the DataFlow job: https://pantheon.corp.google.com/dataflow (and select the right project). After the job finishes, run the following to make sure the preprocessed files were generated."
   ]
  },
  {
   "cell_type": "code",
   "execution_count": 7,
   "metadata": {
    "collapsed": false
   },
   "outputs": [
    {
     "name": "stdout",
     "output_type": "stream",
     "text": [
      "gs://cloud-ml-test-automated-sampledata/census/preprocessed/features_eval.tfrecord.Z\r\n",
      "gs://cloud-ml-test-automated-sampledata/census/preprocessed/features_train.tfrecord.Z\r\n",
      "gs://cloud-ml-test-automated-sampledata/census/preprocessed/metadata.yaml\r\n",
      "gs://cloud-ml-test-automated-sampledata/census/preprocessed/tmp/\r\n"
     ]
    }
   ],
   "source": [
    "!gsutil list $output_dir"
   ]
  },
  {
   "cell_type": "code",
   "execution_count": null,
   "metadata": {
    "collapsed": true
   },
   "outputs": [],
   "source": []
  }
 ],
 "metadata": {
  "kernelspec": {
   "display_name": "Python 2",
   "language": "python",
   "name": "python2"
  },
  "language_info": {
   "codemirror_mode": {
    "name": "ipython",
    "version": 2
   },
   "file_extension": ".py",
   "mimetype": "text/x-python",
   "name": "python",
   "nbconvert_exporter": "python",
   "pygments_lexer": "ipython2",
   "version": "2.7.9"
  }
 },
 "nbformat": 4,
 "nbformat_minor": 1
}
