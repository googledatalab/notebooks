{
 "cells": [
  {
   "cell_type": "markdown",
   "metadata": {},
   "source": [
    "## Deployment\n",
    "\n",
    "Once you are happy with a trained model, you can upload the model so it can serve online prediction requests."
   ]
  },
  {
   "cell_type": "code",
   "execution_count": 1,
   "metadata": {
    "collapsed": true
   },
   "outputs": [],
   "source": [
    "import os\n",
    "\n",
    "bucket = 'gs://' + datalab_project_id() + '-sampledata'\n",
    "model_path = os.path.join(bucket, 'census', 'trained', 'model')"
   ]
  },
  {
   "cell_type": "code",
   "execution_count": null,
   "metadata": {
    "collapsed": false
   },
   "outputs": [],
   "source": [
    "%mlalpha deploy --name census.v1 --path $model_path"
   ]
  },
  {
   "cell_type": "markdown",
   "metadata": {},
   "source": [
    "Deployment takes a while. After that, you can list models under current project."
   ]
  },
  {
   "cell_type": "code",
   "execution_count": 4,
   "metadata": {
    "collapsed": false
   },
   "outputs": [
    {
     "data": {
      "text/html": [
       "<table><tr><th>name</th></tr><tr><td>projects/cloud-ml-test-automated/models/batchpredict_5c1626fa_7c35_11e6_8774_94eb2c0b8800</td></tr><tr><td>projects/cloud-ml-test-automated/models/batchpredict_8551fb14_84d4_11e6_b029_94eb2c0ac480</td></tr><tr><td>projects/cloud-ml-test-automated/models/batchpredict_b360e247_7d60_11e6_91b2_001a114f8c56</td></tr><tr><td>projects/cloud-ml-test-automated/models/batchpredict_f7c34bd4_84d3_11e6_8bda_94eb2c0ac480</td></tr><tr><td>projects/cloud-ml-test-automated/models/census</td></tr><tr><td>projects/cloud-ml-test-automated/models/iris</td></tr><tr><td>projects/cloud-ml-test-automated/models/model_service_test_1cda2fcf_7f58_11e6_a965_94eb2c18de50</td></tr><tr><td>projects/cloud-ml-test-automated/models/model_service_test_3b82fb82_7d61_11e6_84d2_001a114f8c56</td></tr><tr><td>projects/cloud-ml-test-automated/models/model_service_test_66120de8_7dc5_11e6_91ea_001a114f8c56</td></tr><tr><td>projects/cloud-ml-test-automated/models/model_service_test_7015bf70_7e2a_11e6_acec_001a114f8c56</td></tr><tr><td>projects/cloud-ml-test-automated/models/model_service_test_740e0fbd_7cfc_11e6_a0cf_001a114f8c56</td></tr><tr><td>projects/cloud-ml-test-automated/models/model_service_test_ab612c87_7c34_11e6_a882_94eb2c0b8800</td></tr><tr><td>projects/cloud-ml-test-automated/models/model_service_test_afeb4cfd_7e8f_11e6_a0b6_94eb2c18c08a</td></tr><tr><td>projects/cloud-ml-test-automated/models/model_service_test_ce285e7a_7c97_11e6_bd6d_94eb2c13b91e</td></tr><tr><td>projects/cloud-ml-test-automated/models/model_service_test_db4e4145_7ef3_11e6_a257_94eb2c0ba048</td></tr></table>"
      ],
      "text/plain": [
       "<IPython.core.display.HTML object>"
      ]
     },
     "execution_count": 4,
     "metadata": {},
     "output_type": "execute_result"
    }
   ],
   "source": [
    "%mlalpha model"
   ]
  },
  {
   "cell_type": "markdown",
   "metadata": {},
   "source": [
    "View details of a model."
   ]
  },
  {
   "cell_type": "code",
   "execution_count": 5,
   "metadata": {
    "collapsed": false
   },
   "outputs": [
    {
     "data": {
      "text/html": [
       "<table><tr><th>deploymentUri</th><th>lastUseTime</th><th>name</th><th>isDefault</th><th>createTime</th></tr><tr><td>gs://cloud-ml-test-automated-sampledata/census/trained/model</td><td>2016-09-27T01:19:44Z</td><td>projects/cloud-ml-test-automated/models/census/versions/v1</td><td>True</td><td>2016-09-27T01:15:38Z</td></tr></table>"
      ],
      "text/plain": [
       "<IPython.core.display.HTML object>"
      ]
     },
     "execution_count": 5,
     "metadata": {},
     "output_type": "execute_result"
    }
   ],
   "source": [
    "%mlalpha model --name census"
   ]
  },
  {
   "cell_type": "markdown",
   "metadata": {},
   "source": [
    "You can delete a version of a model. To do so, run \"%ml delete --name census.v1\". To delete a model including all its versions, run \"%ml delete --name census\"."
   ]
  },
  {
   "cell_type": "markdown",
   "metadata": {},
   "source": [
    "## Prediction"
   ]
  },
  {
   "cell_type": "markdown",
   "metadata": {},
   "source": [
    "### Local Prediction\n",
    "\n",
    "For local models, you can send requests to it without uploading the model.\n",
    "\n",
    "The input data should be in the same format as the training data, except that it should not include the target column."
   ]
  },
  {
   "cell_type": "code",
   "execution_count": 7,
   "metadata": {
    "collapsed": false
   },
   "outputs": [
    {
     "data": {
      "text/html": [
       "<pre>- key:\n",
       "  - 0.0\n",
       "  score:\n",
       "  - 62658.57421875\n",
       "- key:\n",
       "  - 0.0\n",
       "  score:\n",
       "  - 53730.52734375\n",
       "- key:\n",
       "  - 0.0\n",
       "  score:\n",
       "  - 58932.3828125\n",
       "</pre>"
      ],
      "text/plain": [
       "<IPython.core.display.HTML object>"
      ]
     },
     "execution_count": 7,
     "metadata": {},
     "output_type": "execute_result"
    }
   ],
   "source": [
    "%%mlalpha predict --model /content/datalab/tmp/ml/census/model/model\n",
    "7350.0,11101.0,2.0,1.0,1.0,,1.0,3.0,2.0,1.0,2.0,2.0,,2.0,2.0,130.0,2.0,2.0,2.0,3.0,1.0,3.0,1500.0,1.0,,1.0,1.0,1200.0,1.0,1.0,2.0,1.0,5.0,,,1.0,2.0,1.0,,1.0,1.0,1.0,1.0,220000.0,3.0,850.0,2.0,,,,1.0,5.0,0.0,4.0,4.0,4.0,1.0,1.0,1.0,3.0,0.0,,0.0,1.0,0.0,0.0,1.0,0.0,0.0,0.0,0.0,3.0,1401.0,3.0,0.0,0.0,1.0,34.0,,,\n",
    "8385.0,11300.0,1.0,3.0,1.0,,1.0,2.0,1.0,,2.0,2.0,,,,110.0,,1.0,2.0,3.0,2.0,3.0,0.0,2.0,180.0,,,,,3.0,,1.0,5.0,,,1.0,,1.0,,1.0,1.0,2.0,1.0,8000.0,3.0,2.0,5.0,,,,1.0,4.0,0.0,4.0,4.0,4.0,1.0,1.0,1.0,4.0,0.0,,0.0,0.0,0.0,0.0,1.0,0.0,0.0,0.0,0.0,1.0,125.0,,0.0,0.0,0.0,1.0,,,\n",
    "10159.0,11602.0,1.0,1.0,1.0,,1.0,2.0,2.0,2.0,2.0,2.0,,2.0,2.0,100.0,2.0,2.0,1000.0,3.0,1.0,4.0,700.0,1.0,,1.0,,,,3.0,2.0,1.0,4.0,,,1.0,2.0,1.0,,1.0,1.0,2.0,1.0,500000.0,1.0,800.0,3.0,,,,1.0,4.0,0.0,4.0,4.0,4.0,1.0,1.0,1.0,1.0,0.0,,0.0,0.0,0.0,0.0,1.0,0.0,0.0,0.0,0.0,3.0,641.0,,0.0,0.0,1.0,52.0,,,"
   ]
  },
  {
   "cell_type": "markdown",
   "metadata": {},
   "source": [
    "You can also use variable as input data."
   ]
  },
  {
   "cell_type": "code",
   "execution_count": 8,
   "metadata": {
    "collapsed": true
   },
   "outputs": [],
   "source": [
    "input_data = \\\n",
    "['7350.0,11101.0,2.0,1.0,1.0,,1.0,3.0,2.0,1.0,2.0,2.0,,2.0,2.0,130.0,2.0,2.0,2.0,3.0,1.0,3.0,1500.0,1.0,,1.0,1.0,1200.0,1.0,1.0,2.0,1.0,5.0,,,1.0,2.0,1.0,,1.0,1.0,1.0,1.0,220000.0,3.0,850.0,2.0,,,,1.0,5.0,0.0,4.0,4.0,4.0,1.0,1.0,1.0,3.0,0.0,,0.0,1.0,0.0,0.0,1.0,0.0,0.0,0.0,0.0,3.0,1401.0,3.0,0.0,0.0,1.0,34.0,,,',\n",
    " '8385.0,11300.0,1.0,3.0,1.0,,1.0,2.0,1.0,,2.0,2.0,,,,110.0,,1.0,2.0,3.0,2.0,3.0,0.0,2.0,180.0,,,,,3.0,,1.0,5.0,,,1.0,,1.0,,1.0,1.0,2.0,1.0,8000.0,3.0,2.0,5.0,,,,1.0,4.0,0.0,4.0,4.0,4.0,1.0,1.0,1.0,4.0,0.0,,0.0,0.0,0.0,0.0,1.0,0.0,0.0,0.0,0.0,1.0,125.0,,0.0,0.0,0.0,1.0,,,',\n",
    " '10159.0,11602.0,1.0,1.0,1.0,,1.0,2.0,2.0,2.0,2.0,2.0,,2.0,2.0,100.0,2.0,2.0,1000.0,3.0,1.0,4.0,700.0,1.0,,1.0,,,,3.0,2.0,1.0,4.0,,,1.0,2.0,1.0,,1.0,1.0,2.0,1.0,500000.0,1.0,800.0,3.0,,,,1.0,4.0,0.0,4.0,4.0,4.0,1.0,1.0,1.0,1.0,0.0,,0.0,0.0,0.0,0.0,1.0,0.0,0.0,0.0,0.0,3.0,641.0,,0.0,0.0,1.0,52.0,,,']"
   ]
  },
  {
   "cell_type": "code",
   "execution_count": 9,
   "metadata": {
    "collapsed": false
   },
   "outputs": [
    {
     "data": {
      "text/html": [
       "<pre>- key:\n",
       "  - 0.0\n",
       "  score:\n",
       "  - 62658.57421875\n",
       "- key:\n",
       "  - 0.0\n",
       "  score:\n",
       "  - 53730.52734375\n",
       "- key:\n",
       "  - 0.0\n",
       "  score:\n",
       "  - 58932.3828125\n",
       "</pre>"
      ],
      "text/plain": [
       "<IPython.core.display.HTML object>"
      ]
     },
     "execution_count": 9,
     "metadata": {},
     "output_type": "execute_result"
    }
   ],
   "source": [
    "%%mlalpha predict --model /content/datalab/tmp/ml/census/model/model --data input_data"
   ]
  },
  {
   "cell_type": "markdown",
   "metadata": {},
   "source": [
    "### Cloud Prediction\n",
    "\n",
    "Compare to local prediction, you just need to replace model path with \"model.version\", and add \"--cloud\" flag."
   ]
  },
  {
   "cell_type": "code",
   "execution_count": 7,
   "metadata": {
    "collapsed": false
   },
   "outputs": [
    {
     "data": {
      "text/html": [
       "<pre>- key:\n",
       "  - 0.0\n",
       "  score:\n",
       "  - 63724.6484375\n",
       "- key:\n",
       "  - 0.0\n",
       "  score:\n",
       "  - 51855.2109375\n",
       "- key:\n",
       "  - 0.0\n",
       "  score:\n",
       "  - 61124.76953125\n",
       "</pre>"
      ],
      "text/plain": [
       "<IPython.core.display.HTML object>"
      ]
     },
     "execution_count": 7,
     "metadata": {},
     "output_type": "execute_result"
    }
   ],
   "source": [
    "%%ml predict --model census.v1 --data input_data --cloud"
   ]
  },
  {
   "cell_type": "code",
   "execution_count": 8,
   "metadata": {
    "collapsed": false
   },
   "outputs": [
    {
     "data": {
      "text/html": [
       "<pre>- key:\n",
       "  - 0.0\n",
       "  score:\n",
       "  - 63724.6484375\n",
       "- key:\n",
       "  - 0.0\n",
       "  score:\n",
       "  - 51855.2109375\n",
       "- key:\n",
       "  - 0.0\n",
       "  score:\n",
       "  - 61124.76953125\n",
       "</pre>"
      ],
      "text/plain": [
       "<IPython.core.display.HTML object>"
      ]
     },
     "execution_count": 8,
     "metadata": {},
     "output_type": "execute_result"
    }
   ],
   "source": [
    "%%ml predict --model census.v1 --cloud\n",
    "7350.0,11101.0,2.0,1.0,1.0,,1.0,3.0,2.0,1.0,2.0,2.0,,2.0,2.0,130.0,2.0,2.0,2.0,3.0,1.0,3.0,1500.0,1.0,,1.0,1.0,1200.0,1.0,1.0,2.0,1.0,5.0,,,1.0,2.0,1.0,,1.0,1.0,1.0,1.0,220000.0,3.0,850.0,2.0,,,,1.0,5.0,0.0,4.0,4.0,4.0,1.0,1.0,1.0,3.0,0.0,,0.0,1.0,0.0,0.0,1.0,0.0,0.0,0.0,0.0,3.0,1401.0,3.0,0.0,0.0,1.0,34.0,,,\n",
    "8385.0,11300.0,1.0,3.0,1.0,,1.0,2.0,1.0,,2.0,2.0,,,,110.0,,1.0,2.0,3.0,2.0,3.0,0.0,2.0,180.0,,,,,3.0,,1.0,5.0,,,1.0,,1.0,,1.0,1.0,2.0,1.0,8000.0,3.0,2.0,5.0,,,,1.0,4.0,0.0,4.0,4.0,4.0,1.0,1.0,1.0,4.0,0.0,,0.0,0.0,0.0,0.0,1.0,0.0,0.0,0.0,0.0,1.0,125.0,,0.0,0.0,0.0,1.0,,,\n",
    "10159.0,11602.0,1.0,1.0,1.0,,1.0,2.0,2.0,2.0,2.0,2.0,,2.0,2.0,100.0,2.0,2.0,1000.0,3.0,1.0,4.0,700.0,1.0,,1.0,,,,3.0,2.0,1.0,4.0,,,1.0,2.0,1.0,,1.0,1.0,2.0,1.0,500000.0,1.0,800.0,3.0,,,,1.0,4.0,0.0,4.0,4.0,4.0,1.0,1.0,1.0,1.0,0.0,,0.0,0.0,0.0,0.0,1.0,0.0,0.0,0.0,0.0,3.0,641.0,,0.0,0.0,1.0,52.0,,,"
   ]
  },
  {
   "cell_type": "code",
   "execution_count": null,
   "metadata": {
    "collapsed": true
   },
   "outputs": [],
   "source": []
  }
 ],
 "metadata": {
  "kernelspec": {
   "display_name": "Python 2",
   "language": "python",
   "name": "python2"
  },
  "language_info": {
   "codemirror_mode": {
    "name": "ipython",
    "version": 2
   },
   "file_extension": ".py",
   "mimetype": "text/x-python",
   "name": "python",
   "nbconvert_exporter": "python",
   "pygments_lexer": "ipython2",
   "version": "2.7.9"
  }
 },
 "nbformat": 4,
 "nbformat_minor": 1
}
