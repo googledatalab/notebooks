{
 "cells": [
  {
   "cell_type": "markdown",
   "metadata": {},
   "source": [
    "## Deployment\n",
    "\n",
    "Once you are happy with a trained model, you can upload the model so it can serve online prediction requests."
   ]
  },
  {
   "cell_type": "code",
   "execution_count": 1,
   "metadata": {
    "collapsed": true
   },
   "outputs": [],
   "source": [
    "import os\n",
    "\n",
    "bucket = 'gs://' + datalab_project_id() + '-sampledata'\n",
    "model_path = os.path.join(bucket, 'iris', 'trained', 'model')"
   ]
  },
  {
   "cell_type": "code",
   "execution_count": 13,
   "metadata": {
    "collapsed": false
   },
   "outputs": [],
   "source": [
    "%mlalpha deploy --name iris.v1 --path $model_path"
   ]
  },
  {
   "cell_type": "markdown",
   "metadata": {},
   "source": [
    "Listing models under current project and view a model details."
   ]
  },
  {
   "cell_type": "code",
   "execution_count": 3,
   "metadata": {
    "collapsed": false
   },
   "outputs": [
    {
     "data": {
      "text/html": [
       "<table><tr><th>name</th></tr><tr><td>projects/cloud-ml-test-automated/models/batchpredict_5c1626fa_7c35_11e6_8774_94eb2c0b8800</td></tr><tr><td>projects/cloud-ml-test-automated/models/batchpredict_b360e247_7d60_11e6_91b2_001a114f8c56</td></tr><tr><td>projects/cloud-ml-test-automated/models/census</td></tr><tr><td>projects/cloud-ml-test-automated/models/iris</td></tr><tr><td>projects/cloud-ml-test-automated/models/model_service_test_1cda2fcf_7f58_11e6_a965_94eb2c18de50</td></tr><tr><td>projects/cloud-ml-test-automated/models/model_service_test_3b82fb82_7d61_11e6_84d2_001a114f8c56</td></tr><tr><td>projects/cloud-ml-test-automated/models/model_service_test_66120de8_7dc5_11e6_91ea_001a114f8c56</td></tr><tr><td>projects/cloud-ml-test-automated/models/model_service_test_7015bf70_7e2a_11e6_acec_001a114f8c56</td></tr><tr><td>projects/cloud-ml-test-automated/models/model_service_test_740e0fbd_7cfc_11e6_a0cf_001a114f8c56</td></tr><tr><td>projects/cloud-ml-test-automated/models/model_service_test_ab612c87_7c34_11e6_a882_94eb2c0b8800</td></tr><tr><td>projects/cloud-ml-test-automated/models/model_service_test_afeb4cfd_7e8f_11e6_a0b6_94eb2c18c08a</td></tr><tr><td>projects/cloud-ml-test-automated/models/model_service_test_ce285e7a_7c97_11e6_bd6d_94eb2c13b91e</td></tr><tr><td>projects/cloud-ml-test-automated/models/model_service_test_db4e4145_7ef3_11e6_a257_94eb2c0ba048</td></tr></table>"
      ],
      "text/plain": [
       "<IPython.core.display.HTML object>"
      ]
     },
     "execution_count": 3,
     "metadata": {},
     "output_type": "execute_result"
    }
   ],
   "source": [
    "%mlalpha model"
   ]
  },
  {
   "cell_type": "code",
   "execution_count": 4,
   "metadata": {
    "collapsed": false
   },
   "outputs": [
    {
     "data": {
      "text/html": [
       "<table><tr><th>deploymentUri</th><th>lastUseTime</th><th>name</th><th>isDefault</th><th>createTime</th></tr><tr><td>gs://cloud-ml-test-automated-sampledata/iris/trained/model</td><td>2016-09-27T01:11:48Z</td><td>projects/cloud-ml-test-automated/models/iris/versions/v1</td><td>True</td><td>2016-09-27T00:36:52Z</td></tr></table>"
      ],
      "text/plain": [
       "<IPython.core.display.HTML object>"
      ]
     },
     "execution_count": 4,
     "metadata": {},
     "output_type": "execute_result"
    }
   ],
   "source": [
    "%mlalpha model --name iris"
   ]
  },
  {
   "cell_type": "markdown",
   "metadata": {},
   "source": [
    "## Prediction\n",
    "\n",
    "For local models, you can send requests to it without uploading the model. \"--label\" specifies which output field in the prediction graph is label and needs to be converted from int to label. If not specified, that output will not be converted so will stay as int.\n",
    "\n",
    "The input data should be in the same format as the training data, except that it should not include the target column."
   ]
  },
  {
   "cell_type": "code",
   "execution_count": 2,
   "metadata": {
    "collapsed": false
   },
   "outputs": [
    {
     "data": {
      "text/html": [
       "<pre>- scores:\n",
       "  - - 0.004239688627421856\n",
       "    - 0.4309619069099426\n",
       "    - 0.5647984743118286\n",
       "  - - 0.0017554167425259948\n",
       "    - 0.9962974190711975\n",
       "    - 0.0019471427658572793\n",
       "  - - 0.9993545413017273\n",
       "    - 0.0006454351241700351\n",
       "    - 2.086100181486472e-09\n",
       "  - - 1.8793329218169674e-05\n",
       "    - 0.000592405442148447\n",
       "    - 0.9993888139724731\n",
       "</pre>"
      ],
      "text/plain": [
       "<IPython.core.display.HTML object>"
      ]
     },
     "execution_count": 2,
     "metadata": {},
     "output_type": "execute_result"
    }
   ],
   "source": [
    "%%mlalpha predict --model /content/datalab/tmp/ml/iris/modelc/model --label predictions\n",
    "107,4.9,2.5,4.5,1.7\n",
    "100,5.7,2.8,4.1,1.3\n",
    "40,5.1,3.4,1.5,0.2\n",
    "101,6.3,3.3,6,2.5"
   ]
  },
  {
   "cell_type": "markdown",
   "metadata": {},
   "source": [
    "You can also use variable to predict."
   ]
  },
  {
   "cell_type": "code",
   "execution_count": 4,
   "metadata": {
    "collapsed": true
   },
   "outputs": [],
   "source": [
    "input_data = ['107, 4.9, 2.5, 4.5, 1.7', '101, 6.3, 3.3, 6, 2.5']"
   ]
  },
  {
   "cell_type": "code",
   "execution_count": 7,
   "metadata": {
    "collapsed": false
   },
   "outputs": [
    {
     "data": {
      "text/html": [
       "<pre>- scores:\n",
       "  - - 0.0017920347163453698\n",
       "    - 0.517941951751709\n",
       "    - 0.48026594519615173\n",
       "  - - 9.679648655946949e-07\n",
       "    - 5.058187525719404e-05\n",
       "    - 0.9999485015869141\n",
       "</pre>"
      ],
      "text/plain": [
       "<IPython.core.display.HTML object>"
      ]
     },
     "execution_count": 7,
     "metadata": {},
     "output_type": "execute_result"
    }
   ],
   "source": [
    "%%mlalpha predict --model /content/datalab/tmp/ml/iris/model/model --label predictions --data input_data"
   ]
  },
  {
   "cell_type": "markdown",
   "metadata": {},
   "source": [
    "## Cloud Prediction\n",
    "\n",
    "Online prediction is still at version alpha. To do cloud prediction, instead of providing a model dir, you give it model.version, and append \"--cloud\" to the command."
   ]
  },
  {
   "cell_type": "code",
   "execution_count": 5,
   "metadata": {
    "collapsed": false
   },
   "outputs": [
    {
     "data": {
      "text/html": [
       "<pre>- scores:\n",
       "  - 0.0008794031455181539\n",
       "  - 0.123365119099617\n",
       "  - 0.8757554888725281\n",
       "- scores:\n",
       "  - 2.05099095182959e-05\n",
       "  - 0.023870930075645447\n",
       "  - 0.9761086106300354\n",
       "</pre>"
      ],
      "text/plain": [
       "<IPython.core.display.HTML object>"
      ]
     },
     "execution_count": 5,
     "metadata": {},
     "output_type": "execute_result"
    }
   ],
   "source": [
    "%%mlalpha predict --model iris.v1 --label predictions --data input_data --cloud"
   ]
  },
  {
   "cell_type": "code",
   "execution_count": null,
   "metadata": {
    "collapsed": true
   },
   "outputs": [],
   "source": []
  }
 ],
 "metadata": {
  "kernelspec": {
   "display_name": "Python 2",
   "language": "python",
   "name": "python2"
  },
  "language_info": {
   "codemirror_mode": {
    "name": "ipython",
    "version": 2
   },
   "file_extension": ".py",
   "mimetype": "text/x-python",
   "name": "python",
   "nbconvert_exporter": "python",
   "pygments_lexer": "ipython2",
   "version": "2.7.9"
  }
 },
 "nbformat": 4,
 "nbformat_minor": 1
}
