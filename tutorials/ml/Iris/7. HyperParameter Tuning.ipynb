{
 "cells": [
  {
   "cell_type": "markdown",
   "metadata": {},
   "source": [
    "### Hyperparameter Tuning\n",
    "\n",
    "CloudML service supports hyperparams tuning. Any program args exposed from your training program can be tuned. To do so, in the cloud run input, add \"hyperparameters\" section."
   ]
  },
  {
   "cell_type": "code",
   "execution_count": 3,
   "metadata": {
    "collapsed": true
   },
   "outputs": [],
   "source": [
    "import os\n",
    "\n",
    "bucket = 'gs://' + datalab_project_id() + '-sampledata'\n",
    "package_path = os.path.join(bucket, 'iris', 'model', 'trainer-0.1.tar.gz')\n",
    "train_data_path = os.path.join(bucket, 'iris', 'preprocessed', 'features_train.tfrecord.gz')\n",
    "eval_data_path = os.path.join(bucket, 'iris', 'preprocessed', 'features_eval.tfrecord.gz')\n",
    "metadata_path = os.path.join(bucket, 'iris', 'preprocessed', 'metadata.yaml')\n",
    "output_path = os.path.join(bucket, 'iris', 'hptuning')\n",
    "summary_dir_pattern = os.path.join(bucket, 'iris', 'hptuning', '*')\n",
    "eval_dir_pattern = os.path.join(bucket, 'iris', 'hptuning', '*', 'eval_one_pass')"
   ]
  },
  {
   "cell_type": "markdown",
   "metadata": {},
   "source": [
    "The following sample shows 2 hyperparams \"hidden\" and \"learning_rate\". We will submit 12 runs with various parameter values (the CloudML service will set those values in each trial)."
   ]
  },
  {
   "cell_type": "code",
   "execution_count": 5,
   "metadata": {
    "collapsed": false
   },
   "outputs": [
    {
     "data": {
      "text/html": [
       "<p>Job \"trainer_task_160927_174839\" was submitted successfully.<br/>Run \"%mlalpha jobs --name trainer_task_160927_174839\" to view the status of the job.</p><p>Click <a href=\"https://console.developers.google.com/logs/viewer?project=cloud-ml-test-automated&resource=ml.googleapis.com%2Fjob_id%2Ftrainer_task_160927_174839\" target=\"_blank\">here</a> to view cloud log. <br/>Start TensorBoard by running \"%tensorboard start --logdir=&lt;YourLogDir&gt;\".</p>"
      ],
      "text/plain": [
       "<IPython.core.display.HTML object>"
      ]
     },
     "execution_count": 5,
     "metadata": {},
     "output_type": "execute_result"
    }
   ],
   "source": [
    "%mlalpha train --cloud\n",
    "package_uris: $package_path\n",
    "python_module: trainer.task\n",
    "scale_tier: STANDARD_1\n",
    "region: us-central1\n",
    "args:\n",
    "  train_data_paths:\n",
    "    - $train_data_path\n",
    "  eval_data_paths:\n",
    "    - $eval_data_path\n",
    "  metadata_path: $metadata_path\n",
    "  output_dir: $output_path\n",
    "hyperparameters:\n",
    "  goal: MAXIMIZE\n",
    "  max_trials: 15\n",
    "  max_parallel_trials: 3\n",
    "  params:\n",
    "    - parameter_name: hidden\n",
    "      type: INTEGER\n",
    "      min_value: 10\n",
    "      max_value: 50\n",
    "      scale_type: UNIT_LINEAR_SCALE\n",
    "    - parameter_name: learning_rate\n",
    "      type: DOUBLE\n",
    "      min_value: 0.0001\n",
    "      max_value: 0.1\n",
    "      scale_type: UNIT_LOG_SCALE      "
   ]
  },
  {
   "cell_type": "markdown",
   "metadata": {},
   "source": [
    "The training results will show in \"trainingOutput\" field of the job. Initially it is empty, but once some trials finish, they will show up."
   ]
  },
  {
   "cell_type": "code",
   "execution_count": 1,
   "metadata": {
    "collapsed": false
   },
   "outputs": [
    {
     "data": {
      "text/html": [
       "<pre>createTime: '2016-09-27T17:48:40Z'\n",
       "endTime: '2016-09-27T18:22:43Z'\n",
       "errorMessage: 'Hyperparameter Tuning Trial #13 Failed.'\n",
       "jobId: trainer_task_160927_174839\n",
       "startTime: '2016-09-27T17:48:42Z'\n",
       "state: FAILED\n",
       "trainingInput:\n",
       "  args: [--metadata_path, 'gs://cloud-ml-test-automated-sampledata/iris/preprocessed/metadata.yaml',\n",
       "    --train_data_paths, 'gs://cloud-ml-test-automated-sampledata/iris/preprocessed/features_train.tfrecord.gz',\n",
       "    --output_dir, 'gs://cloud-ml-test-automated-sampledata/iris/hptuning', --eval_data_paths,\n",
       "    'gs://cloud-ml-test-automated-sampledata/iris/preprocessed/features_eval.tfrecord.gz']\n",
       "  hyperparameters:\n",
       "    goal: MAXIMIZE\n",
       "    maxParallelTrials: 3\n",
       "    maxTrials: 15\n",
       "    params:\n",
       "    - {maxValue: 50, minValue: 10, parameterName: hidden, scaleType: UNIT_LINEAR_SCALE,\n",
       "      type: INTEGER}\n",
       "    - {maxValue: 0.1, minValue: 0.0001, parameterName: learning_rate, scaleType: UNIT_LOG_SCALE,\n",
       "      type: DOUBLE}\n",
       "  packageUris: ['gs://cloud-ml-test-automated-sampledata/iris/model/trainer-0.1.tar.gz']\n",
       "  pythonModule: trainer.task\n",
       "  region: us-central1\n",
       "  scaleTier: STANDARD_1\n",
       "trainingOutput:\n",
       "  completedTrialCount: '13'\n",
       "  trials:\n",
       "  - finalMetric: {objectiveValue: 1, trainingStep: '2005'}\n",
       "    hyperparameters: {hidden: '10', learning_rate: '0.09917872192554221'}\n",
       "    trialId: '3'\n",
       "  - finalMetric: {objectiveValue: 1, trainingStep: '2008'}\n",
       "    hyperparameters: {hidden: '50', learning_rate: '0.097957081424029077'}\n",
       "    trialId: '6'\n",
       "  - finalMetric: {objectiveValue: 1, trainingStep: '2005'}\n",
       "    hyperparameters: {hidden: '50', learning_rate: '0.054698733291583986'}\n",
       "    trialId: '8'\n",
       "  - finalMetric: {objectiveValue: 1, trainingStep: '2004'}\n",
       "    hyperparameters: {hidden: '42', learning_rate: '0.05291284413044714'}\n",
       "    trialId: '9'\n",
       "  - finalMetric: {objectiveValue: 1, trainingStep: '2007'}\n",
       "    hyperparameters: {hidden: '43', learning_rate: '0.099735132658202288'}\n",
       "    trialId: '10'\n",
       "  - finalMetric: {objectiveValue: 1, trainingStep: '2006'}\n",
       "    hyperparameters: {hidden: '46', learning_rate: '0.069373270720731642'}\n",
       "    trialId: '12'\n",
       "  - finalMetric: {objectiveValue: 0.991666674614, trainingStep: '2007'}\n",
       "    hyperparameters: {hidden: '50', learning_rate: '0.018117721497917894'}\n",
       "    trialId: '1'\n",
       "  - finalMetric: {objectiveValue: 0.991666674614, trainingStep: '2008'}\n",
       "    hyperparameters: {hidden: '17', learning_rate: '0.099976847617849626'}\n",
       "    trialId: '5'\n",
       "  - finalMetric: {objectiveValue: 0.991666674614, trainingStep: '2005'}\n",
       "    hyperparameters: {hidden: '32', learning_rate: '0.0086108496782754725'}\n",
       "    trialId: '11'\n",
       "  - finalMetric: {objectiveValue: 0.983333349228, trainingStep: '2006'}\n",
       "    hyperparameters: {hidden: '10', learning_rate: '0.012036645465449891'}\n",
       "    trialId: '4'\n",
       "  - finalMetric: {objectiveValue: 0.983333349228, trainingStep: '2004'}\n",
       "    hyperparameters: {hidden: '10', learning_rate: '0.0477077600633267'}\n",
       "    trialId: '7'\n",
       "  - finalMetric: {objectiveValue: 0.791666686535, trainingStep: '2003'}\n",
       "    hyperparameters: {hidden: '10', learning_rate: '0.0001048832104089638'}\n",
       "    trialId: '2'\n",
       "  - hyperparameters: {hidden: '46', learning_rate: '0.060189538004910587'}\n",
       "    trialId: '14'\n",
       "</pre>"
      ],
      "text/plain": [
       "<IPython.core.display.HTML object>"
      ]
     },
     "execution_count": 1,
     "metadata": {},
     "output_type": "execute_result"
    }
   ],
   "source": [
    "%mlalpha jobs --name trainer_task_160927_174839"
   ]
  },
  {
   "cell_type": "markdown",
   "metadata": {},
   "source": [
    "If you add '--trials' to the previous input, it plots a parallel coordinates graph after any trials of the hyperparameter tuning job are done. \"--trials\" only works if your job is a hyperparameter tuning job."
   ]
  },
  {
   "cell_type": "code",
   "execution_count": 2,
   "metadata": {
    "collapsed": false
   },
   "outputs": [
    {
     "data": {
      "text/html": [
       "\n",
       "<div id=\"v1_147500295556\" class=\"parcoords\" style=\"height:300px;\"></div>\n",
       "<div id=\"g2_147500295556\" class=\"parcoords_grid\"></div>\n",
       "<script>\n",
       "  require.config({\n",
       "    paths: {\n",
       "      d3: 'http://d3js.org/d3.v3.min',\n",
       "      sylvester: '/nbextensions/gcpdatalab/extern/sylvester',\n",
       "      parcoords: '/nbextensions/gcpdatalab/extern/d3.parcoords',\n",
       "    },\n",
       "    shim: {\n",
       "      parcoords: {\n",
       "        deps: ['d3', 'sylvester'],\n",
       "        exports: 'd3'\n",
       "      },\n",
       "    }\n",
       "  });\n",
       "  require(['parcoords',\n",
       "           '/nbextensions/gcpdatalab/parcoords.js',\n",
       "           'nbextensions/gcpdatalab/style!/nbextensions/gcpdatalab/extern/d3.parcoords.css'],\n",
       "          function(d3, lib) {\n",
       "            var data = {\"Objective\": [1, 1, 1, 1, 1, 1, 0.991666674614, 0.991666674614, 0.991666674614, 0.983333349228, 0.983333349228, 0.791666686535], \"Trial\": [\"3\", \"6\", \"8\", \"9\", \"10\", \"12\", \"1\", \"5\", \"11\", \"4\", \"7\", \"2\"], \"Training Step\": [\"2005\", \"2008\", \"2005\", \"2004\", \"2007\", \"2006\", \"2007\", \"2008\", \"2005\", \"2006\", \"2004\", \"2003\"], \"hidden\": [\"10\", \"50\", \"50\", \"42\", \"43\", \"46\", \"50\", \"17\", \"32\", \"10\", \"10\", \"10\"], \"learning_rate(log)\": [-1.003581492579098, -1.0089641629136112, -1.262022730903225, -1.2764388939780185, -1.001151830335266, -1.158807829466445, -1.7418964205169023, -1.0001005611597096, -2.0649539922885385, -1.9194945312537524, -1.3214109736102952, -3.9792940276341557], \"learning_rate\": [\"0.09917872192554221\", \"0.097957081424029077\", \"0.054698733291583986\", \"0.05291284413044714\", \"0.099735132658202288\", \"0.069373270720731642\", \"0.018117721497917894\", \"0.099976847617849626\", \"0.0086108496782754725\", \"0.012036645465449891\", \"0.0477077600633267\", \"0.0001048832104089638\"]};\n",
       "            lib.plot(d3, [0.791666686535, 1], true, data, 'v1_147500295556', 'g2_147500295556');\n",
       "          });\n",
       "</script>\n"
      ],
      "text/plain": [
       "<IPython.core.display.HTML object>"
      ]
     },
     "execution_count": 2,
     "metadata": {},
     "output_type": "execute_result"
    }
   ],
   "source": [
    "%mlalpha jobs --name trainer_task_160927_174839 --trials"
   ]
  },
  {
   "cell_type": "markdown",
   "metadata": {},
   "source": [
    "Once some jobs are finished, we can check their TF events. It takes a while because all data is in GCS but not local."
   ]
  },
  {
   "cell_type": "code",
   "execution_count": 4,
   "metadata": {
    "collapsed": false
   },
   "outputs": [
    {
     "data": {
      "text/html": [
       "<div id=\"1ab6bae2-3c5c-4857-ad6f-e03e9e13e7ee\" style=\"height: 525px; width: 100%;\" class=\"plotly-graph-div\"></div><script type=\"text/javascript\">require([\"plotly\"], function(Plotly) { window.PLOTLYENV=window.PLOTLYENV || {};window.PLOTLYENV.BASE_URL=\"https://plot.ly\";Plotly.newPlot(\"1ab6bae2-3c5c-4857-ad6f-e03e9e13e7ee\", [{\"y\": [1.0665909051895142, 0.029638243839144707, 0.021713104099035263, 0.010331233963370323, 0.013104531913995743, 0.008560453541576862, 0.016791818663477898, 0.0021831588819622993, 0.0006948634400032461, 0.0007703095325268805, 0.0006752845365554094, 0.00029698392609134316, 0.00022919519688002765, 0.00012992550909984857, 0.00011986318713752553, 0.00010684546577977017, 8.99321457836777e-05, 0.00010889964323723689], \"x\": [0, 100, 200, 300, 454, 556, 658, 759, 890, 990, 1093, 1198, 1303, 1630, 1730, 1831, 1958, 2007], \"type\": \"scatter\", \"name\": \"loss-gs://cloud-ml-test-automated-sampledata/iris/hptuning/10\"}, {\"y\": [1.1665939092636108, 0.08866523951292038, 0.04699338227510452, 0.02436109073460102, 0.023498067632317543, 0.06995943933725357, 0.023078162223100662, 0.02020810917019844, 0.010625802911818027, 0.05044819042086601, 0.01229624729603529, 0.05324079841375351, 0.04989384487271309, 0.01720954105257988, 0.016819782555103302, 0.008192268200218678, 0.0041181291453540325, 0.018242478370666504], \"x\": [0, 100, 200, 301, 401, 502, 602, 706, 810, 934, 1038, 1138, 1255, 1594, 1694, 1807, 1907, 2005], \"type\": \"scatter\", \"name\": \"loss-gs://cloud-ml-test-automated-sampledata/iris/hptuning/11\"}, {\"y\": [1.0692261457443237, 0.01865331642329693, 0.024776387959718704, 0.04209582880139351, 0.004467858001589775, 0.007436375133693218, 0.007250621449202299, 0.0008407371933571994, 0.0005582300364039838, 0.00041506235720589757, 0.0007841309416107833, 0.00016338934074155986, 0.00027698941994458437, 0.00019594676268752664, 0.00018707830167841166, 0.00027149420930072665, 0.00015329249436035752, 0.00010965224646497518], \"x\": [0, 100, 200, 300, 400, 514, 614, 715, 826, 938, 1042, 1142, 1253, 1362, 1471, 1572, 2005, 2006], \"type\": \"scatter\", \"name\": \"loss-gs://cloud-ml-test-automated-sampledata/iris/hptuning/12\"}, {\"y\": [], \"x\": [], \"type\": \"scatter\", \"name\": \"loss-gs://cloud-ml-test-automated-sampledata/iris/hptuning/13\"}, {\"y\": [], \"x\": [], \"type\": \"scatter\", \"name\": \"loss-gs://cloud-ml-test-automated-sampledata/iris/hptuning/15\"}, {\"y\": [0.060470081865787506, 0.005277235526591539, 0.018343079835176468, 0.03535700961947441, 0.012891102582216263, 0.0011576610850170255, 0.008913095109164715, 0.006001201458275318, 0.01557549461722374, 0.015005220659077168, 0.0007960140937939286, 0.0007571412716060877, 0.0006843360606580973, 0.0005431564059108496, 0.0004952417802996933, 0.0003351473424118012], \"x\": [44, 198, 306, 438, 538, 638, 770, 876, 979, 1086, 1486, 1594, 1701, 1801, 1912, 2005], \"type\": \"scatter\", \"name\": \"loss-gs://cloud-ml-test-automated-sampledata/iris/hptuning/8\"}, {\"y\": [1.3506791591644287, 0.02325146459043026, 0.04996605962514877, 0.029763732105493546, 0.02419303171336651, 0.007342165801674128, 0.0145844342187047, 0.006453813053667545, 0.0006360060069710016, 0.0006843191222287714, 0.005759773310273886, 0.0029386200476437807, 0.0009574107243679464, 0.00044507821439765394, 0.0008010991150513291, 0.0006152312853373587, 0.0009327010484412313, 9.182688518194482e-05, 0.0003327202284708619], \"x\": [0, 100, 200, 300, 400, 501, 609, 711, 814, 918, 1018, 1122, 1223, 1494, 1596, 1702, 1802, 1911, 2004], \"type\": \"scatter\", \"name\": \"loss-gs://cloud-ml-test-automated-sampledata/iris/hptuning/9\"}, {\"y\": [1.1789028644561768, 0.01314984168857336, 0.024976855143904686, 0.0018802497070282698, 0.009178703650832176, 0.022775232791900635, 0.006155011244118214, 0.014448478817939758, 0.007072700187563896, 0.005632207728922367, 0.0006284604896791279, 0.00053252192446962, 0.0008414079784415662, 0.00048482324928045273, 0.00010899710468947887, 0.00014291169645730406], \"x\": [0, 100, 201, 302, 405, 507, 611, 714, 822, 925, 1027, 1130, 1237, 1338, 2005, 2008], \"type\": \"scatter\", \"name\": \"loss-gs://cloud-ml-test-automated-sampledata/iris/hptuning/6\"}, {\"y\": [1.0217814445495605, 0.033101532608270645, 0.04316987469792366, 0.06096050888299942, 0.043892908841371536, 0.06302051991224289, 0.07757863402366638, 0.016948668286204338, 0.0077201323583722115, 0.016194192692637444, 0.03836718574166298, 0.08405493944883347, 0.010666031390428543, 0.029565682634711266, 0.04478253424167633, 0.06529850512742996, 0.022988587617874146, 0.030016331002116203], \"x\": [0, 100, 201, 306, 410, 522, 626, 726, 830, 1001, 1134, 1238, 1342, 1454, 1558, 1662, 1762, 2004], \"type\": \"scatter\", \"name\": \"loss-gs://cloud-ml-test-automated-sampledata/iris/hptuning/7\"}, {\"y\": [0.9310353994369507, 0.05163545906543732, 0.02306344360113144, 0.023633142933249474, 0.03732295334339142, 0.0224508848041296, 0.020468467846512794, 0.04561148211359978, 0.013317209668457508, 0.01689101569354534, 0.03922145068645477, 0.04450472816824913, 0.04375153407454491, 0.06559921056032181, 0.020648431032896042, 0.02389642782509327, 0.031884774565696716], \"x\": [12, 259, 360, 510, 651, 752, 854, 955, 1066, 1167, 1269, 1395, 1495, 1595, 1704, 1804, 2006], \"type\": \"scatter\", \"name\": \"loss-gs://cloud-ml-test-automated-sampledata/iris/hptuning/4\"}, {\"y\": [0.03338036686182022, 0.006665927357971668, 0.026012446731328964, 0.02770533598959446, 0.07332705706357956, 0.05363266170024872, 0.0423661507666111, 0.009792701341211796, 0.006778418086469173, 0.0065221404656767845, 0.007528422866016626, 0.004086018074303865, 0.007131950464099646, 0.008395434357225895, 0.04410995915532112, 0.001107400981709361, 0.01877179928123951, 0.024956900626420975], \"x\": [32, 266, 446, 548, 648, 753, 854, 962, 1070, 1170, 1270, 1371, 1471, 1634, 1746, 1851, 1958, 2008], \"type\": \"scatter\", \"name\": \"loss-gs://cloud-ml-test-automated-sampledata/iris/hptuning/5\"}, {\"y\": [1.1976721286773682, 1.1593800783157349, 1.1190077066421509, 1.081003189086914, 1.0435396432876587, 1.0074337720870972, 0.9505952596664429, 0.9366031885147095, 0.9030106067657471, 0.8710744380950928, 0.8078120350837708, 0.7763583660125732, 0.7461809515953064, 0.7173665761947632, 0.7358466982841492, 0.7882121801376343, 0.673345148563385, 0.6104682087898254, 0.7336689233779907, 0.6320732831954956, 0.614757776260376], \"x\": [0, 100, 200, 300, 400, 500, 600, 700, 800, 900, 1000, 1100, 1203, 1303, 1406, 1510, 1614, 1716, 1818, 1922, 2003], \"type\": \"scatter\", \"name\": \"loss-gs://cloud-ml-test-automated-sampledata/iris/hptuning/2\"}, {\"y\": [1.0340502262115479, 0.022893186658620834, 0.007566992659121752, 0.0023188346531242132, 0.004818877670913935, 0.03945564851164818, 0.05282995477318764, 0.0010053702862933278, 0.04471052065491676, 0.013790441676974297, 0.013055111281573772, 0.016212590038776398, 0.000722267956007272, 0.0049857948906719685, 0.000587416288908571, 0.003154428442940116, 0.0009114155545830727, 0.0009485531481914222, 0.0006251262966543436], \"x\": [0, 100, 202, 303, 406, 510, 624, 727, 834, 938, 1039, 1139, 1242, 1343, 1446, 1547, 1654, 1754, 2005], \"type\": \"scatter\", \"name\": \"loss-gs://cloud-ml-test-automated-sampledata/iris/hptuning/3\"}, {\"y\": [0.9815494418144226, 1.0665909051895142, 1.1665939092636108, 1.0692261457443237, 0.04020575061440468, 0.029638243839144707, 0.08866523951292038, 0.01865331642329693, 0.03843750059604645, 0.021713104099035263, 0.04699338227510452, 0.024776387959718704, 0.023598195984959602, 0.010331233963370323, 0.04209582880139351, 0.02436109073460102, 0.05804406851530075, 0.004467858001589775, 0.023498067632317543, 0.013104531913995743, 0.02537023276090622, 0.06995943933725357, 0.007436375133693218, 0.008560453541576862, 0.026065466925501823, 0.023078162223100662, 0.007250621449202299, 0.016791818663477898, 0.04855998232960701, 0.02020810917019844, 0.0008407371933571994, 0.0021831588819622993, 0.012298217043280602, 0.010625802911818027, 0.0005582300364039838, 0.0006948634400032461, 0.011001884937286377, 0.05044819042086601, 0.00041506235720589757, 0.0007703095325268805, 0.004896646365523338, 0.01229624729603529, 0.0007841309416107833, 0.0006752845365554094, 0.05324079841375351, 0.03589824214577675, 0.00016338934074155986, 0.00029698392609134316, 0.010712307877838612, 0.00027698941994458437, 0.04989384487271309, 0.00022919519688002765, 0.03659053146839142, 0.00019594676268752664, 0.03389015048742294, 0.00018707830167841166, 0.00027149420930072665, 0.029552528634667397, 0.01720954105257988, 0.00012992550909984857, 0.06310143321752548, 0.016819782555103302, 0.00011986318713752553, 0.008192268200218678, 0.03161995857954025, 0.00010684546577977017, 0.0041181291453540325, 0.0044145542196929455, 8.99321457836777e-05, 0.018242478370666504, 0.00015329249436035752, 0.00010965224646497518, 0.013578168116509914, 0.00010889964323723689], \"x\": [0, 0, 0, 0, 100, 100, 100, 100, 200, 200, 200, 200, 300, 300, 300, 301, 400, 400, 401, 454, 500, 502, 514, 556, 602, 602, 614, 658, 705, 706, 715, 759, 808, 810, 826, 890, 910, 934, 938, 990, 1012, 1038, 1042, 1093, 1138, 1139, 1142, 1198, 1249, 1253, 1255, 1303, 1359, 1362, 1459, 1471, 1572, 1578, 1594, 1630, 1694, 1694, 1730, 1807, 1814, 1831, 1907, 1916, 1958, 2005, 2005, 2006, 2007, 2007], \"type\": \"scatter\", \"name\": \"loss-gs://cloud-ml-test-automated-sampledata/iris/hptuning/1\"}], {\"title\": \"loss\", \"xaxis\": {\"title\": \"step\"}, \"yaxis\": {\"title\": \"loss\"}}, {\"linkText\": \"Export to plot.ly\", \"showLink\": true})});</script>"
      ],
      "text/plain": [
       "<IPython.core.display.HTML object>"
      ]
     },
     "metadata": {},
     "output_type": "display_data"
    }
   ],
   "source": [
    "%mlalpha summary --dir $summary_dir_pattern --name loss --step"
   ]
  },
  {
   "cell_type": "code",
   "execution_count": 5,
   "metadata": {
    "collapsed": false
   },
   "outputs": [
    {
     "data": {
      "text/html": [
       "<div id=\"3a8b31cd-99e8-40ee-b78e-5085313eb225\" style=\"height: 525px; width: 100%;\" class=\"plotly-graph-div\"></div><script type=\"text/javascript\">require([\"plotly\"], function(Plotly) { window.PLOTLYENV=window.PLOTLYENV || {};window.PLOTLYENV.BASE_URL=\"https://plot.ly\";Plotly.newPlot(\"3a8b31cd-99e8-40ee-b78e-5085313eb225\", [{\"y\": [1.0], \"x\": [2006], \"type\": \"scatter\", \"name\": \"accuracy-gs://cloud-ml-test-automated-sampledata/iris/hptuning/12/eval_one_pass\"}, {\"y\": [1.0], \"x\": [2005], \"type\": \"scatter\", \"name\": \"accuracy-gs://cloud-ml-test-automated-sampledata/iris/hptuning/3/eval_one_pass\"}, {\"y\": [0.9833333492279053], \"x\": [2006], \"type\": \"scatter\", \"name\": \"accuracy-gs://cloud-ml-test-automated-sampledata/iris/hptuning/4/eval_one_pass\"}, {\"y\": [0.9916666746139526], \"x\": [2008], \"type\": \"scatter\", \"name\": \"accuracy-gs://cloud-ml-test-automated-sampledata/iris/hptuning/5/eval_one_pass\"}, {\"y\": [0.9833333492279053], \"x\": [2004], \"type\": \"scatter\", \"name\": \"accuracy-gs://cloud-ml-test-automated-sampledata/iris/hptuning/7/eval_one_pass\"}, {\"y\": [1.0], \"x\": [2005], \"type\": \"scatter\", \"name\": \"accuracy-gs://cloud-ml-test-automated-sampledata/iris/hptuning/8/eval_one_pass\"}, {\"y\": [1.0], \"x\": [2004], \"type\": \"scatter\", \"name\": \"accuracy-gs://cloud-ml-test-automated-sampledata/iris/hptuning/9/eval_one_pass\"}, {\"y\": [0.7916666865348816], \"x\": [2003], \"type\": \"scatter\", \"name\": \"accuracy-gs://cloud-ml-test-automated-sampledata/iris/hptuning/2/eval_one_pass\"}, {\"y\": [1.0], \"x\": [2008], \"type\": \"scatter\", \"name\": \"accuracy-gs://cloud-ml-test-automated-sampledata/iris/hptuning/6/eval_one_pass\"}, {\"y\": [0.9916666746139526], \"x\": [2007], \"type\": \"scatter\", \"name\": \"accuracy-gs://cloud-ml-test-automated-sampledata/iris/hptuning/1/eval_one_pass\"}, {\"y\": [1.0], \"x\": [2007], \"type\": \"scatter\", \"name\": \"accuracy-gs://cloud-ml-test-automated-sampledata/iris/hptuning/10/eval_one_pass\"}, {\"y\": [0.9916666746139526], \"x\": [2005], \"type\": \"scatter\", \"name\": \"accuracy-gs://cloud-ml-test-automated-sampledata/iris/hptuning/11/eval_one_pass\"}], {\"title\": \"accuracy\", \"xaxis\": {\"title\": \"step\"}, \"yaxis\": {\"title\": \"accuracy\"}}, {\"linkText\": \"Export to plot.ly\", \"showLink\": true})});</script>"
      ],
      "text/plain": [
       "<IPython.core.display.HTML object>"
      ]
     },
     "metadata": {},
     "output_type": "display_data"
    }
   ],
   "source": [
    "%mlalpha summary --dir $eval_dir_pattern --name accuracy --step"
   ]
  },
  {
   "cell_type": "code",
   "execution_count": null,
   "metadata": {
    "collapsed": true
   },
   "outputs": [],
   "source": []
  }
 ],
 "metadata": {
  "kernelspec": {
   "display_name": "Python 2",
   "language": "python",
   "name": "python2"
  },
  "language_info": {
   "codemirror_mode": {
    "name": "ipython",
    "version": 2
   },
   "file_extension": ".py",
   "mimetype": "text/x-python",
   "name": "python",
   "nbconvert_exporter": "python",
   "pygments_lexer": "ipython2",
   "version": "2.7.9"
  }
 },
 "nbformat": 4,
 "nbformat_minor": 1
}
